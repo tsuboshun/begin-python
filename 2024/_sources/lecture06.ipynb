{
 "cells": [
  {
   "cell_type": "markdown",
   "id": "52b9c04c",
   "metadata": {},
   "source": [
    "# 第6回 繰り返し"
   ]
  },
  {
   "cell_type": "markdown",
   "id": "0f3467e6",
   "metadata": {},
   "source": [
    "___\n",
    "[![Open In Colab](https://colab.research.google.com/assets/colab-badge.svg)](https://colab.research.google.com/github/tsuboshun/begin-python/blob/gh-pages/2024/workbook/lecture06.ipynb)\n",
    "\n",
    "___"
   ]
  },
  {
   "cell_type": "markdown",
   "id": "3b48cc26-d7fc-431d-abb0-fe9c65ee295d",
   "metadata": {},
   "source": [
    "## この授業で学ぶこと"
   ]
  },
  {
   "cell_type": "markdown",
   "id": "49246d72",
   "metadata": {},
   "source": [
    "プログラミングにおいて処理の流れを制御する方法は二つある。一つは第5回に学んだ条件分岐で、もう一つは繰り返しである。\n",
    "今回は繰り返し処理を実現する構文であるfor文とwhile文について学ぶ。"
   ]
  },
  {
   "cell_type": "markdown",
   "id": "aaa228c7",
   "metadata": {},
   "source": [
    "## for文"
   ]
  },
  {
   "cell_type": "markdown",
   "id": "da77a6c5-ea79-467f-9bb6-868dd93319fc",
   "metadata": {},
   "source": [
    "複数の要素からなるデータがあるとき、すべての要素に対して同じような処理を行いたいときに用いられる構文が**for文**である。"
   ]
  },
  {
   "cell_type": "markdown",
   "id": "fb233325",
   "metadata": {},
   "source": [
    "```{figure} ./pic/for.png\n",
    "---\n",
    "width: 800px\n",
    "name: for\n",
    "---\n",
    "for文の書き方\n",
    "```"
   ]
  },
  {
   "cell_type": "markdown",
   "id": "726dc4b6-502b-4582-b4ad-bf40b001e5b8",
   "metadata": {},
   "source": [
    "if文と同じく、for文もヘッダーとブロックからなる。ヘッダーに `for 変数名 in イテラブルオブジェクト:` と書くと「イテラブルオブジェクトの各要素を変数に代入して、以下のブロックを実行する」という意味になる。ここで、イテラブルオブジェクトとは「繰り返すことが可能なオブジェクト」という意味である。\n",
    "この名前は、繰り返す（iterate）ことが可能という意味の形容詞であるiterableに由来する。"
   ]
  },
  {
   "cell_type": "markdown",
   "id": "b1d3c8b8",
   "metadata": {},
   "source": [
    "例として、`0` から `n-1` までの数字を順に出力するプログラムを書いてみよう。これはfor文を用いることで次のように実現できる。"
   ]
  },
  {
   "cell_type": "code",
   "execution_count": null,
   "id": "d2802730",
   "metadata": {},
   "outputs": [],
   "source": [
    "n = 5\n",
    "for i in range(n):\n",
    "    print(i)"
   ]
  },
  {
   "cell_type": "markdown",
   "id": "82ca0c23",
   "metadata": {},
   "source": [
    "`range()` 関数はイテラブルオブジェクトを生成する関数であり、`range(n)` により生成されるオブジェクトは `0` から `n-1` までの `n` 個の整数を順に生成する。\n",
    "`for i in range(n):` という構文により、これらの整数が順に変数 `i` に代入され、代入される度にブロックのコードが実行される。"
   ]
  },
  {
   "cell_type": "markdown",
   "id": "3f63c63c",
   "metadata": {},
   "source": [
    "文字列やリストもイテラブルオブジェクトである。文字列の場合は1文字ずつ、リストの場合は1要素ずつ変数に代入される。"
   ]
  },
  {
   "cell_type": "code",
   "execution_count": null,
   "id": "3143d218",
   "metadata": {},
   "outputs": [],
   "source": [
    "for c in \"text\":  # cはcharacterの頭文字\n",
    "    print(c)"
   ]
  },
  {
   "cell_type": "code",
   "execution_count": null,
   "id": "74a3aa2b",
   "metadata": {},
   "outputs": [],
   "source": [
    "for v in [2, 3, 4, 5]:  # vはvalueの頭文字（他にi, x, elem, itemなどがよく使われる）\n",
    "    print(v)"
   ]
  },
  {
   "cell_type": "markdown",
   "id": "99c864a2",
   "metadata": {},
   "source": [
    "for文に用いる変数名は自由に決めてよいが、一般的に短くて分かりやすく、代入されるデータを端的に表すものが好まれる。例えば文字が代入される場合には、慣例として `c` や `char` が使われることが多い。最初はそれほど気にする必要はないが、変数名にも意図があることは知っておくと良いだろう。"
   ]
  },
  {
   "cell_type": "markdown",
   "id": "160ee254",
   "metadata": {},
   "source": [
    "**練習1**  \n",
    "正の整数 `n` が与えられるとき、`1` から `n` までの数字を順に `print` するコードを作成しなさい。\n",
    "<a href=\"https://toyo-judge-system.vercel.app/?&id=6-1\" target=\"_blank\">\n",
    "<img src=\"./_images/launch.svg\" style=\"width: 20px; height: 20px;\">\n",
    "</a>"
   ]
  },
  {
   "cell_type": "code",
   "execution_count": null,
   "id": "788a8d68-3e8f-4bfe-aed0-d58cfd1a2719",
   "metadata": {},
   "outputs": [],
   "source": []
  },
  {
   "cell_type": "markdown",
   "id": "ef74e801-863e-40a6-97eb-a0328f84743e",
   "metadata": {},
   "source": [
    "### ブロックの抜け方"
   ]
  },
  {
   "cell_type": "markdown",
   "id": "563e05e0-1134-405d-939c-563ebe772af1",
   "metadata": {},
   "source": [
    "ここで、if文やfor文などブロックを形成する全ての構文に共通する話として、ブロックの抜け方について説明する。"
   ]
  },
  {
   "cell_type": "markdown",
   "id": "7851d86e-72ab-481f-999c-a6ed772f312d",
   "metadata": {},
   "source": [
    "```{figure} ./pic/block.png\n",
    "---\n",
    "width: 450px\n",
    "name: block\n",
    "---\n",
    "ブロックを抜けるタイミング\n",
    "```"
   ]
  },
  {
   "cell_type": "markdown",
   "id": "058f95f5-9cbd-4a74-b699-336d7bc0cb72",
   "metadata": {},
   "source": [
    "上の図は、処理がブロックを抜けるタイミングを表したものである。ヘッダーと左端を揃えて何かしらの処理を書くと、そのタイミングでブロックを抜けたと判定される。いくつか例を見てみよう。\n",
    "\n",
    "**例1**  \n",
    "前回のBMIの例ではブロックの中で `print` を実行していたが、代わりにブロックの中でメッセージを変数に代入し、その変数を使ってブロックの外で `print` することもできる。`print(message)` はブロックの外にあるため、`bmi` の値によらず必ず実行される。"
   ]
  },
  {
   "cell_type": "code",
   "execution_count": null,
   "id": "0cb9ef2c-da31-47a7-a459-72ffe450c4a2",
   "metadata": {},
   "outputs": [],
   "source": [
    "bmi = 20\n",
    "if bmi < 18.5:\n",
    "    message = \"低体重\"\n",
    "elif bmi < 25:\n",
    "    message = \"普通体重\"\n",
    "else:\n",
    "    message = \"肥満\"\n",
    "print(message)"
   ]
  },
  {
   "cell_type": "markdown",
   "id": "0644aaec-cefc-4daf-a5fb-77a47cf6ea87",
   "metadata": {},
   "source": [
    "**例2**  \n",
    "数値からなるリストの要素の平均値を求めるコードは次のように書ける。このコードではまず `total = 0` により総和を求めるための変数を用意している（これを書かないと4行目で `total` 変数が定義されていないというエラーになる）。その後 `total` に `data` の各要素を足して総和を求めたあと、要素数 `len(data)` で割って平均値を求めている。`len` はリストの要素数を返す関数であったことを思い出そう。"
   ]
  },
  {
   "cell_type": "code",
   "execution_count": null,
   "id": "5e51e8e8-d6d5-42f2-ad66-89fb73b75a55",
   "metadata": {},
   "outputs": [],
   "source": [
    "data = [2, 3, 4, 5]\n",
    "total = 0\n",
    "for v in data:\n",
    "    total += v\n",
    "mean = total / len(data)\n",
    "print(mean)"
   ]
  },
  {
   "cell_type": "markdown",
   "id": "61b29d75-13c0-4dce-bf0e-5a7b26f91368",
   "metadata": {},
   "source": [
    "上と同じプログラムを以下のように書くこともできる。`for i in range(len(data)):` と書くと変数 `i` に `0` から `len(data)-1` までの整数が順に代入されるため、これを使って `data[i]` とすれば `data` の全ての要素にアクセスすることができる。"
   ]
  },
  {
   "cell_type": "code",
   "execution_count": null,
   "id": "81d11544-3bde-4533-b5a8-57d31976cff6",
   "metadata": {},
   "outputs": [],
   "source": [
    "data = [2, 3, 4, 5]\n",
    "total = 0\n",
    "for i in range(len(data)):\n",
    "    total += data[i]\n",
    "mean = total / len(data)\n",
    "print(mean)"
   ]
  },
  {
   "cell_type": "markdown",
   "id": "e450351e-327e-4423-aa5e-5a7e89656784",
   "metadata": {},
   "source": [
    "**練習2**  \n",
    "数値からなるリスト `data` が与えられるとき、リストの要素の総和を求めて `print` するコードを作成しなさい。余裕のある人は、上の例2を参考に2通りの方法でコードを作成してみなさい（ただし片方のみ提出しなさい）。\n",
    "<a href=\"https://toyo-judge-system.vercel.app/?&id=6-2\" target=\"_blank\">\n",
    "<img src=\"./_images/launch.svg\" style=\"width: 20px; height: 20px;\">\n",
    "</a>"
   ]
  },
  {
   "cell_type": "code",
   "execution_count": null,
   "id": "2bdc384a-f4d1-4e4b-b000-044b7b19960f",
   "metadata": {},
   "outputs": [],
   "source": []
  },
  {
   "cell_type": "markdown",
   "id": "324db1fe-db4a-4b85-9356-fe74071a6021",
   "metadata": {},
   "source": [
    "## while文"
   ]
  },
  {
   "cell_type": "markdown",
   "id": "9833c34d",
   "metadata": {},
   "source": [
    "for文の他に**while文**も繰り返し処理を行うための構文である。"
   ]
  },
  {
   "cell_type": "markdown",
   "id": "307a9691",
   "metadata": {},
   "source": [
    "```{figure} ./pic/while.png\n",
    "---\n",
    "width: 800px\n",
    "name: while\n",
    "---\n",
    "while文の書き方\n",
    "```"
   ]
  },
  {
   "cell_type": "markdown",
   "id": "c934522d",
   "metadata": {},
   "source": [
    "while文では、条件式が真であるかを判定し、真であればブロックを実行するという処理を、条件式が初めて偽になるまで繰り返し行う。\n",
    "したがって、適切に条件式を設定しないと無限ループに陥る可能性がある。\n",
    "また、初めから条件式が偽の場合は、ブロックは一度も実行されない。\n",
    "\n",
    "例として、`0` から `n-1` までの数字を順に出力するプログラムは、while文を使うと以下のように書ける。"
   ]
  },
  {
   "cell_type": "code",
   "execution_count": null,
   "id": "b99fdd04-e9e7-4516-9e6f-5911e1230c34",
   "metadata": {},
   "outputs": [],
   "source": [
    "n = 5\n",
    "i = 0\n",
    "while i < n:\n",
    "    print(i)\n",
    "    i += 1"
   ]
  },
  {
   "cell_type": "markdown",
   "id": "604348c8-2d0a-423e-b7b2-ef7c8559ebc0",
   "metadata": {},
   "source": [
    "リストの平均値を求めるプログラムは、while文を使って次のように書くこともできる。\n",
    "この例では、繰り返しの度にインデックスを表す変数 `i` の値を1つずつ増やし、`i` がリストのインデックスの範囲を超えたところで条件式が偽となるように設定している。\n",
    "これにより変数 `i` に `0` から `len(data)-1` までの整数が順に代入され、`data[i]` とすることで `data` の全ての要素にアクセスしている。"
   ]
  },
  {
   "cell_type": "code",
   "execution_count": null,
   "id": "4f378171-be52-4261-be28-0ca93fba0007",
   "metadata": {},
   "outputs": [],
   "source": [
    "data = [2, 3, 4, 5]\n",
    "total = 0\n",
    "i = 0\n",
    "while i < len(data):\n",
    "    total += data[i]\n",
    "    i += 1\n",
    "mean = total / len(data)\n",
    "print(mean)"
   ]
  },
  {
   "cell_type": "markdown",
   "id": "9a95b1c8-b74f-40e4-8dad-03fa185beded",
   "metadata": {},
   "source": [
    "**練習3**  \n",
    "正の整数 `n` が与えられるとき、`1` から `n` までの数字を、`n` から始めて<u>逆順</u>で `print` するコードを作成しなさい。\n",
    "<a href=\"https://toyo-judge-system.vercel.app/?&id=6-3\" target=\"_blank\">\n",
    "<img src=\"./_images/launch.svg\" style=\"width: 20px; height: 20px;\">\n",
    "</a>"
   ]
  },
  {
   "cell_type": "code",
   "execution_count": null,
   "id": "63fb7eab-fdcd-4d45-87e9-e178528fb0db",
   "metadata": {},
   "outputs": [],
   "source": [
    "# n の一例\n",
    "n = 5\n",
    "\n",
    "# 以下にコードを書いて、以下の部分のみ提出する\n",
    "i = n\n",
    "while i > 0:\n",
    "    pass  # ヒント: ここに適切なコードを書く"
   ]
  },
  {
   "cell_type": "markdown",
   "id": "06494540-0cb5-419f-8814-5d9ef8283ef7",
   "metadata": {},
   "source": [
    "```{admonition} pass\n",
    ":class: note\n",
    "`pass` は何もしないという意味の文である。構文上何か書かないとエラーになるが、コードの作成は後回しにしたい箇所に書く。テキストでも何度か登場するが、コードを書くときに消してしまって問題ない。\n",
    "```"
   ]
  }
 ],
 "metadata": {
  "kernelspec": {
   "display_name": "Python 3 (ipykernel)",
   "language": "python",
   "name": "python3"
  },
  "language_info": {
   "codemirror_mode": {
    "name": "ipython",
    "version": 3
   },
   "file_extension": ".py",
   "mimetype": "text/x-python",
   "name": "python",
   "nbconvert_exporter": "python",
   "pygments_lexer": "ipython3",
   "version": "3.12.1"
  },
  "vscode": {
   "interpreter": {
    "hash": "aee8b7b246df8f9039afb4144a1f6fd8d2ca17a180786b69acc140d282b71a49"
   }
  }
 },
 "nbformat": 4,
 "nbformat_minor": 5
}
