{
 "cells": [
  {
   "cell_type": "markdown",
   "id": "52b9c04c",
   "metadata": {},
   "source": [
    "# 第8回 データの入れ物"
   ]
  },
  {
   "cell_type": "markdown",
   "id": "0f3467e6",
   "metadata": {},
   "source": [
    "___\n",
    "[![Open In Colab](https://colab.research.google.com/assets/colab-badge.svg)](https://colab.research.google.com/github/tsuboshun/begin-python/blob/gh-pages/2024/workbook/lecture08.ipynb)\n",
    "\n",
    "___"
   ]
  },
  {
   "cell_type": "markdown",
   "id": "9ba5723c",
   "metadata": {},
   "source": [
    "## この授業で学ぶこと"
   ]
  },
  {
   "cell_type": "markdown",
   "id": "49246d72",
   "metadata": {},
   "source": [
    "第7回の冒頭で触れたように、これまでに学んだ文法だけでもプログラミングで必要なほとんどの処理を実現できる。しかし、これまでの知識だけでは、場面によっては冗長なコードを書かざるを得ないことがある。第8回から第10回にかけて学ぶ内容は、一言で言えば、プログラミングをより効率的かつ簡潔に行うための技術である。\n",
    "\n",
    "今回は、複数のデータを効率的に管理するための基本的なデータ型を深掘りする。すでに学んだリスト型はその一例だが、これに加えて他のデータ型を学ぶことで、アイデアをより直接的かつ明瞭にコード化できるようになる。"
   ]
  },
  {
   "cell_type": "markdown",
   "id": "db1c8a29",
   "metadata": {},
   "source": [
    "## データの入れ物"
   ]
  },
  {
   "cell_type": "markdown",
   "id": "5eb6f1f7",
   "metadata": {},
   "source": [
    "リスト型のようにデータの入れ物の役割を果たす組み込み型として、他に**辞書型**（**dict**）、**タプル型**（**tuple**）、**セット型**（**set**）などがある。\n",
    "今回はこれらのうち重要性の高いリスト型、辞書型、タプル型について学ぶ。リスト型は改めての説明になるが、第4回の内容より一歩踏み込んで学ぶ。"
   ]
  },
  {
   "cell_type": "markdown",
   "id": "dd3a328e",
   "metadata": {},
   "source": [
    "### リスト型"
   ]
  },
  {
   "cell_type": "markdown",
   "id": "d6f637d2",
   "metadata": {},
   "source": [
    "第4回で学んだ通り、リストはデータを `,` で区切り、両端を `[]` で囲うことで作成できる。"
   ]
  },
  {
   "cell_type": "code",
   "execution_count": null,
   "id": "3137ae84",
   "metadata": {},
   "outputs": [],
   "source": [
    "x = [1, 2, 3, \"four\", 5]"
   ]
  },
  {
   "cell_type": "markdown",
   "id": "58149492",
   "metadata": {},
   "source": [
    "インデックスによる要素のアクセス方法を復習しておこう。上の例で `\"four\"` や `5` を取り出すには、以下のようにインデックスを指定する。"
   ]
  },
  {
   "cell_type": "code",
   "execution_count": null,
   "id": "513ca282",
   "metadata": {},
   "outputs": [],
   "source": [
    "x[3]"
   ]
  },
  {
   "cell_type": "code",
   "execution_count": null,
   "id": "5bd766d8",
   "metadata": {},
   "outputs": [],
   "source": [
    "print(x[4])\n",
    "print(x[-1])"
   ]
  },
  {
   "cell_type": "markdown",
   "id": "9d095791",
   "metadata": {},
   "source": [
    "#### 要素の追加と変更"
   ]
  },
  {
   "cell_type": "markdown",
   "id": "a08b35e7",
   "metadata": {},
   "source": [
    "今回新たに要素の追加方法を学ぶ。\n",
    "よく使われるのが要素を末尾に追加する方法で、`append()` メソッドを用いる。\n",
    "`append()` は、引数に渡されたデータをリストの末尾に追加する。"
   ]
  },
  {
   "cell_type": "code",
   "execution_count": null,
   "id": "43838dff",
   "metadata": {},
   "outputs": [],
   "source": [
    "x.append(6)\n",
    "x"
   ]
  },
  {
   "cell_type": "markdown",
   "id": "f91b8b95",
   "metadata": {},
   "source": [
    "要素を特定の位置に挿入するには `insert()` メソッドを用いる。`insert()` は、第一引数にインデックス、第二引数にデータを受け取る。"
   ]
  },
  {
   "cell_type": "code",
   "execution_count": null,
   "id": "8025def4",
   "metadata": {},
   "outputs": [],
   "source": [
    "x.insert(0, \"zero\")\n",
    "print(x)\n",
    "\n",
    "x.insert(2, 1.5)\n",
    "print(x)"
   ]
  },
  {
   "cell_type": "markdown",
   "id": "cfbd6fa0",
   "metadata": {},
   "source": [
    "2つのリストを連結するには `+` 演算子を用いる。"
   ]
  },
  {
   "cell_type": "code",
   "execution_count": null,
   "id": "74b246f1",
   "metadata": {},
   "outputs": [],
   "source": [
    "y = x + [6, 7]\n",
    "y"
   ]
  },
  {
   "cell_type": "markdown",
   "id": "4906ba42",
   "metadata": {},
   "source": [
    "リストの要素を変更するには代入文を用いる。"
   ]
  },
  {
   "cell_type": "code",
   "execution_count": null,
   "id": "a7ad8f32",
   "metadata": {
    "scrolled": true
   },
   "outputs": [],
   "source": [
    "x[0] = 0\n",
    "print(x)\n",
    "\n",
    "x[3] = '2'\n",
    "print(x)"
   ]
  },
  {
   "cell_type": "markdown",
   "id": "72cca101-d750-4e74-bb09-962892feb8aa",
   "metadata": {},
   "source": [
    "リストの要素を削除するには**del文**または `pop()` メソッドを用いる。\n",
    "del文は `del` の後ろに指定した要素を削除する。あとで説明するスライスと組み合わせると、複数の要素をまとめて削除することもできる。"
   ]
  },
  {
   "cell_type": "code",
   "execution_count": null,
   "id": "fcbaf676",
   "metadata": {},
   "outputs": [],
   "source": [
    "del x[2]\n",
    "print(x)\n",
    "\n",
    "del x[6:]  #スライス\n",
    "print(x)"
   ]
  },
  {
   "cell_type": "markdown",
   "id": "112bbb36-50ad-42fa-a339-05b7c9b3e6c6",
   "metadata": {},
   "source": [
    "`pop()` メソッドは引数で指定したインデックスの要素をリストから削除し、その値を戻り値として返す。"
   ]
  },
  {
   "cell_type": "code",
   "execution_count": null,
   "id": "a039f660",
   "metadata": {},
   "outputs": [],
   "source": [
    "elem = x.pop(2)\n",
    "print(elem)\n",
    "print(x)"
   ]
  },
  {
   "cell_type": "markdown",
   "id": "c55405a3",
   "metadata": {},
   "source": [
    "**練習1**  \n",
    "正の整数 `n` が与えられるとき、for文と `append()` メソッドを使って `1` から順に `n` までの整数を含むリストを作成し、それを `print` するコードを作成しなさい。\n",
    "<a href=\"https://code-judge-system.vercel.app/?&id=8-1\" target=\"_blank\">\n",
    "<img src=\"./_images/launch.svg\" style=\"width: 20px; height: 20px;\">\n",
    "</a>"
   ]
  },
  {
   "cell_type": "code",
   "execution_count": null,
   "id": "97ebf66b",
   "metadata": {},
   "outputs": [],
   "source": [
    "# nの一例 （この例では [1, 2, 3, 4] と出力するのが正しい）\n",
    "n = 4\n",
    "\n",
    "# 以下にコードを作成し、以下の部分のみ提出する\n",
    "y = []\n",
    "for i in range(n):\n",
    "    pass\n",
    "print(y)"
   ]
  },
  {
   "cell_type": "markdown",
   "id": "fc306fe7-5674-4274-bbbf-db30162e5638",
   "metadata": {},
   "source": [
    "```{toggle}\n",
    "<pre>\n",
    "y = []\n",
    "for i in range(n):\n",
    "    y.append(i+1)\n",
    "print(y)\n",
    "</pre>"
   ]
  },
  {
   "cell_type": "markdown",
   "id": "5cf433f0",
   "metadata": {},
   "source": [
    "**練習2**  \n",
    "整数を要素とするリスト `x` が与えられたとき、`x` 中の偶数のみを含む新しいリスト `y` を作成し、そのリスト `y` を `print` するプログラムを作成しなさい。ただし、リスト `y` の要素の順番は、`x` での順番を保持すること。\n",
    "<a href=\"https://code-judge-system.vercel.app/?&id=8-2\" target=\"_blank\">\n",
    "<img src=\"./_images/launch.svg\" style=\"width: 20px; height: 20px;\">\n",
    "</a>"
   ]
  },
  {
   "cell_type": "code",
   "execution_count": null,
   "id": "aff1248b",
   "metadata": {},
   "outputs": [],
   "source": [
    "# xの一例 （この例では [2, 4] と出力するのが正しい）\n",
    "x = [1, 2, 3, 4, 5]\n",
    "\n",
    "# 以下にコードを作成し、以下の部分のみ提出する\n",
    "y = []\n",
    "for v in x:\n",
    "    pass"
   ]
  },
  {
   "cell_type": "markdown",
   "id": "dc7216e3-00a2-47d4-ac08-31bf46c6b1cc",
   "metadata": {},
   "source": [
    "```{toggle}\n",
    "<pre>\n",
    "y = []\n",
    "for v in x:\n",
    "    if v % 2 == 0:\n",
    "        y.append(v)\n",
    "print(y)\n",
    "</pre>"
   ]
  },
  {
   "cell_type": "markdown",
   "id": "47eb2b85-abca-4227-b455-db0d545e9d0e",
   "metadata": {},
   "source": [
    "#### スライス"
   ]
  },
  {
   "cell_type": "markdown",
   "id": "c9f91e57-e3d0-49e4-ad09-281498325d47",
   "metadata": {},
   "source": [
    "リストに入っている要素のうち、連続した複数の要素を取り出すために用いられるのが**スライス**である。\n",
    "整数 `i`、`j` を用いてリストに対して `[i:j]` と要素を指定すると、インデックスについて `i` から `j-1` までの要素を切り出すことができる。\n",
    "\n",
    "`i` または `j` を省略することもできる。\n",
    "`[:j]` は、インデックスについて最初から `j-1` までの要素を切り出す。\n",
    "`[i:]` は、インデックスについて`i` から最後までの要素を切り出す。\n",
    "\n",
    "以下にサンプルコードと図を示す。"
   ]
  },
  {
   "cell_type": "code",
   "execution_count": null,
   "id": "f53ac4f2",
   "metadata": {},
   "outputs": [],
   "source": [
    "x = [1, 2, 3, \"four\", 5]\n",
    "print(x[1:4])\n",
    "print(x[:4])\n",
    "print(x[:-1])\n",
    "print(x[1:])"
   ]
  },
  {
   "cell_type": "markdown",
   "id": "07cc96e5-fbff-42b9-809e-d8dafc07be56",
   "metadata": {},
   "source": [
    "```{figure} ./pic/slice.png\n",
    "---\n",
    "width: 650px\n",
    "name: index\n",
    "---\n",
    "スライスとインデックスの関係\n",
    "```"
   ]
  },
  {
   "cell_type": "markdown",
   "id": "ac3f43ab-78ed-4292-a227-e61990888e78",
   "metadata": {},
   "source": [
    "**練習3**  \n",
    "要素数が2以上のリスト `x` が与えられるとき、先頭と末尾の要素を除いたリストを作り、`print` するコードを作成しなさい。\n",
    "<a href=\"https://code-judge-system.vercel.app/?&id=8-3\" target=\"_blank\">\n",
    "<img src=\"./_images/launch.svg\" style=\"width: 20px; height: 20px;\">\n",
    "</a>"
   ]
  },
  {
   "cell_type": "code",
   "execution_count": null,
   "id": "4e3767bb-659f-409d-8d05-5c2f99dfbff5",
   "metadata": {},
   "outputs": [],
   "source": [
    "# xの一例 （この例では [2, 3, 4] と出力するのが正しい）\n",
    "x = [1, 2, 3, 4, 5]\n",
    "\n",
    "# 以下にコードを作成し、以下の部分のみ提出する\n"
   ]
  },
  {
   "cell_type": "markdown",
   "id": "abdc2f48-8c9e-4710-9a02-6a93856f1f07",
   "metadata": {},
   "source": [
    "```{toggle}\n",
    "<pre>\n",
    "print(x[1:-1])\n",
    "</pre>"
   ]
  },
  {
   "cell_type": "markdown",
   "id": "81267b85",
   "metadata": {},
   "source": [
    "### 辞書型"
   ]
  },
  {
   "cell_type": "markdown",
   "id": "a5baba30",
   "metadata": {},
   "source": [
    "リストでは0から始まる整数インデックスをもとに要素にアクセスした。\n",
    "辞書型は、自由に設定した**キー**（**key**）をもとに要素にアクセスできるようにしたデータ型である。\n",
    "辞書型では要素のことを**値**（**value**）と呼ぶ。"
   ]
  },
  {
   "cell_type": "markdown",
   "id": "d5478751",
   "metadata": {},
   "source": [
    "```{figure} ./pic/dict.png\n",
    "---\n",
    "width: 450px\n",
    "name: index\n",
    "---\n",
    "辞書型\n",
    "```"
   ]
  },
  {
   "cell_type": "markdown",
   "id": "4d924695",
   "metadata": {},
   "source": [
    "辞書は、`:` を使ってキーと値のペアを指定し、各ペアを `,` で区切って、両端を `{}` で囲うことで作成できる。"
   ]
  },
  {
   "cell_type": "code",
   "execution_count": null,
   "id": "3dea68d3",
   "metadata": {},
   "outputs": [],
   "source": [
    "x = {\"apple\": \"りんご\", \"grape\": \"ぶどう\", \"peach\": \"もも\"}\n",
    "type(x)"
   ]
  },
  {
   "cell_type": "markdown",
   "id": "5c3467c4",
   "metadata": {},
   "source": [
    "リストと同様、値には `[]` を使ってアクセスできる。"
   ]
  },
  {
   "cell_type": "code",
   "execution_count": null,
   "id": "1879698f",
   "metadata": {},
   "outputs": [],
   "source": [
    "print(x[\"apple\"])\n",
    "print(x[\"grape\"])"
   ]
  },
  {
   "cell_type": "markdown",
   "id": "888f7104",
   "metadata": {},
   "source": [
    "リストと同様、存在しないキーを指定するとエラーになる。\n",
    "キーが存在するかは、in演算子により確かめることができる。\n",
    "したがって、キーが存在するかわからない場合は、if文で確かめてからアクセスする必要がある。"
   ]
  },
  {
   "cell_type": "code",
   "execution_count": null,
   "id": "463261b9",
   "metadata": {},
   "outputs": [],
   "source": [
    "if \"cherry\" in x:\n",
    "    print(x[\"cherry\"])"
   ]
  },
  {
   "cell_type": "markdown",
   "id": "b7026d08",
   "metadata": {},
   "source": [
    "値にはどのようなデータ型も使用できる。\n",
    "ただし、キーにはイミュータブル（変更不可能）なデータ型しか使用できない。\n",
    "これはキーが途中で変わらないことを保証するためである。"
   ]
  },
  {
   "cell_type": "markdown",
   "id": "c15a3065",
   "metadata": {},
   "source": [
    "```{admonition} 発展的な話題： ミュータブルとイミュータブル\n",
    ":class: note\n",
    "値を変更可能なデータ型を**ミュータブル**、変更不可能なデータ型を**イミュータブル**という。  \n",
    "\n",
    "| 分類 |  データ型 |\n",
    "| ---- | ---- |\n",
    "|  ミュータブル  |  リスト、辞書 |\n",
    "|  イミュータブル  | 整数、浮動小数点数、文字列、真偽値、タプル |\n",
    "\n",
    "リストや辞書はミュータブルなデータ型である。\n",
    "実際、どちらも `[]` を使った代入文により要素を変更することができる。\n",
    "\n",
    "一方で整数、浮動小数点数、文字列、真偽値はイミュータブルなデータ型である。\n",
    "例えば、次のようなコードを実行したとする。\n",
    "<pre>\n",
    "x = 1\n",
    "x = 2</pre>\n",
    "このとき `x = 2` は、新しいオブジェクト `2` を作成して変数 `x` に代入しているのであって、元のオブジェクト `1` の値を変更しているわけではない。\n",
    "\n",
    "これらの区別は、次のような例で重要になる。\n",
    "<pre>\n",
    "# ケース1\n",
    "x = 1\n",
    "y = x\n",
    "\n",
    "x = 2\n",
    "print(y)  # 1が出力される</pre>\n",
    "\n",
    "<pre>\n",
    "# ケース2\n",
    "x = [0, 1]\n",
    "y = x\n",
    "\n",
    "x[0] = 2\n",
    "print(y)  # [2, 1]が出力される</pre>\n",
    "\n",
    "どちらのケースでも、`y = x` というコードを実行した時点では `x` と `y` は同じオブジェクトを参照している。  \n",
    "しかし、ケース1において `x = 2` は新しいオブジェクトを `x` に代入しているので、変数 `y` の値に影響はない。\n",
    "一方、ケース2において `x[0] = 2` はオブジェクトを変更しているので、変数 `y` の値も変更される！\n",
    "```"
   ]
  },
  {
   "cell_type": "markdown",
   "id": "ef2de48b",
   "metadata": {},
   "source": [
    "#### 要素の追加と変更"
   ]
  },
  {
   "cell_type": "markdown",
   "id": "60a0af16",
   "metadata": {},
   "source": [
    "辞書に要素を追加したり変更したりするには、代入文を用いる。"
   ]
  },
  {
   "cell_type": "code",
   "execution_count": null,
   "id": "f46f3fa9",
   "metadata": {},
   "outputs": [],
   "source": [
    "x[\"cherry\"] = \"さくらんぼ\"  # 追加するときには、存在しないキーを指定してもエラーにならない\n",
    "x[\"grape\"] = \"ブドウ\"\n",
    "x"
   ]
  },
  {
   "cell_type": "markdown",
   "id": "c955afec",
   "metadata": {},
   "source": [
    "辞書から要素を削除するには、del文を用いる。"
   ]
  },
  {
   "cell_type": "code",
   "execution_count": null,
   "id": "9f116795",
   "metadata": {},
   "outputs": [],
   "source": [
    "del x[\"grape\"]\n",
    "x"
   ]
  },
  {
   "cell_type": "markdown",
   "id": "8a2f9a52",
   "metadata": {},
   "source": [
    "#### ループ処理"
   ]
  },
  {
   "cell_type": "markdown",
   "id": "bdb8f971",
   "metadata": {},
   "source": [
    "リストと同様、辞書の中身を一つずつ取り出して何らかの処理を行う機会は多い。\n",
    "辞書型では、for文を使うと変数にキーが順に代入されるので、以下のようにループ処理を書くことができる。"
   ]
  },
  {
   "cell_type": "code",
   "execution_count": null,
   "id": "b64975c0",
   "metadata": {},
   "outputs": [],
   "source": [
    "for key in x:  # keyにはキーが順に代入される\n",
    "    print(x[key])"
   ]
  },
  {
   "cell_type": "markdown",
   "id": "66117d27",
   "metadata": {},
   "source": [
    "**練習4**  \n",
    "値が数値である辞書 `x` が与えられるとき、全ての値の合計を求めて `print` するコードを作成しなさい。\n",
    "<a href=\"https://code-judge-system.vercel.app/?&id=8-4\" target=\"_blank\">\n",
    "<img src=\"./_images/launch.svg\" style=\"width: 20px; height: 20px;\">\n",
    "</a>"
   ]
  },
  {
   "cell_type": "code",
   "execution_count": null,
   "id": "abc16c9a",
   "metadata": {},
   "outputs": [],
   "source": [
    "# xの一例 （この例では 4 と出力するのが正しい）\n",
    "x = {'a': 1, 'b': 1, 'c': 2}\n",
    "\n",
    "# 以下にコードを作成し、以下の部分のみ提出する\n"
   ]
  },
  {
   "cell_type": "markdown",
   "id": "52f95cff-a5f5-4d10-a577-596df424ba01",
   "metadata": {},
   "source": [
    "```{toggle}\n",
    "<pre>\n",
    "total = 0\n",
    "for key in x:\n",
    "    total += x[key]\n",
    "print(total)\n",
    "</pre>"
   ]
  },
  {
   "cell_type": "markdown",
   "id": "5047ab6c",
   "metadata": {},
   "source": [
    "**練習5**  \n",
    "`'a'`、`'b'`、`'c'` から成るリスト `data` が与えられる。`'a'`、`'b'`、`'c'` をキー、それぞれの出現回数を値とする辞書 `count` を作成しなさい。ただし採点の都合上、`print` してはいけない。\n",
    "<a href=\"https://code-judge-system.vercel.app/?&id=8-5\" target=\"_blank\">\n",
    "<img src=\"./_images/launch.svg\" style=\"width: 20px; height: 20px;\">\n",
    "</a>"
   ]
  },
  {
   "cell_type": "code",
   "execution_count": null,
   "id": "fafab5dc",
   "metadata": {},
   "outputs": [],
   "source": [
    "# dataの一例 （この例では　count == {'a': 3, 'b': 2, 'c': 1}　となれば正しい）\n",
    "data = ['a', 'b', 'a', 'a', 'c', 'b']\n",
    "\n",
    "# 以下にコードを作成し、以下の部分のみ提出する\n",
    "count = {'a': 0, 'b': 0, 'c': 0}\n",
    "for c in data:\n",
    "    pass"
   ]
  },
  {
   "cell_type": "markdown",
   "id": "ed813046-8c62-45fd-89bd-7547f40d5ec3",
   "metadata": {},
   "source": [
    "```{toggle}\n",
    "<pre>\n",
    "count = {'a': 0, 'b': 0, 'c': 0}\n",
    "for c in data:\n",
    "    count[c] += 1\n",
    "</pre>"
   ]
  },
  {
   "cell_type": "markdown",
   "id": "9d2ca98b",
   "metadata": {},
   "source": [
    "### タプル型"
   ]
  },
  {
   "cell_type": "markdown",
   "id": "5d1f2aca",
   "metadata": {},
   "source": [
    "タプル型は、リスト型をイミュータブルにしたデータ型である。データを `,` で区切り、両端を `()` で囲うことで作成できる。\n",
    "リストと異なる点として、要素数が１つの場合も `(2,)` のように `,` で終わる必要がある（そうしないと整数と区別できないため）。"
   ]
  },
  {
   "cell_type": "code",
   "execution_count": null,
   "id": "816c0db8",
   "metadata": {},
   "outputs": [],
   "source": [
    "a = (1, 2, 3, 4, 5)\n",
    "b = (2,)\n",
    "type(b)"
   ]
  },
  {
   "cell_type": "code",
   "execution_count": null,
   "id": "c0c13c22",
   "metadata": {},
   "outputs": [],
   "source": [
    "c = (2) #これは2と同じ\n",
    "type(c) "
   ]
  },
  {
   "cell_type": "markdown",
   "id": "aa8c4e5d",
   "metadata": {},
   "source": [
    "要素のアクセス方法やループ処理の方法など、使い方の多くはリストと同じである。"
   ]
  },
  {
   "cell_type": "code",
   "execution_count": null,
   "id": "e4b57dd3",
   "metadata": {},
   "outputs": [],
   "source": [
    "print(a[2])\n",
    "print(a[4])\n",
    "print(a[-1])"
   ]
  },
  {
   "cell_type": "code",
   "execution_count": null,
   "id": "c3cbe0fa-f9df-465d-84ed-08a86e2ac599",
   "metadata": {},
   "outputs": [],
   "source": [
    "for v in a:\n",
    "    print(v)"
   ]
  },
  {
   "cell_type": "markdown",
   "id": "706389c0",
   "metadata": {},
   "source": [
    "イミュータブルなデータ型なので、値を変更しようとするとエラーになる。"
   ]
  },
  {
   "cell_type": "code",
   "execution_count": null,
   "id": "707823a1",
   "metadata": {},
   "outputs": [],
   "source": [
    "a[2] = \"two\""
   ]
  },
  {
   "cell_type": "markdown",
   "id": "d2aa7ab0",
   "metadata": {},
   "source": [
    "タプルのリストにない利点として、例えば辞書のキーとして使える点が挙げられる。"
   ]
  },
  {
   "cell_type": "code",
   "execution_count": null,
   "id": "7058e93c",
   "metadata": {},
   "outputs": [],
   "source": [
    "x = {(5,3): 15, (2,4): 8}"
   ]
  },
  {
   "cell_type": "code",
   "execution_count": null,
   "id": "ac8cefbb",
   "metadata": {},
   "outputs": [],
   "source": [
    "x = {[5,3]: 15, [2,4]: 8}  # リストはミュータブルなので、キーとして使用できない"
   ]
  }
 ],
 "metadata": {
  "kernelspec": {
   "display_name": "Python 3 (ipykernel)",
   "language": "python",
   "name": "python3"
  },
  "language_info": {
   "codemirror_mode": {
    "name": "ipython",
    "version": 3
   },
   "file_extension": ".py",
   "mimetype": "text/x-python",
   "name": "python",
   "nbconvert_exporter": "python",
   "pygments_lexer": "ipython3",
   "version": "3.12.1"
  },
  "vscode": {
   "interpreter": {
    "hash": "aee8b7b246df8f9039afb4144a1f6fd8d2ca17a180786b69acc140d282b71a49"
   }
  }
 },
 "nbformat": 4,
 "nbformat_minor": 5
}
