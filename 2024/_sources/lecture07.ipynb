{
 "cells": [
  {
   "cell_type": "markdown",
   "id": "52b9c04c",
   "metadata": {},
   "source": [
    "# 第7回 これまでの復習と応用"
   ]
  },
  {
   "cell_type": "markdown",
   "id": "0f3467e6",
   "metadata": {},
   "source": [
    "___\n",
    "[![Open In Colab](https://colab.research.google.com/assets/colab-badge.svg)](https://colab.research.google.com/github/tsuboshun/begin-python/blob/gh-pages/2024/workbook/lecture07.ipynb)\n",
    "\n",
    "___"
   ]
  },
  {
   "cell_type": "markdown",
   "id": "9ba5723c",
   "metadata": {},
   "source": [
    "## この授業で学ぶこと"
   ]
  },
  {
   "cell_type": "markdown",
   "id": "3db92f42-fa28-472a-89db-101225ce1019",
   "metadata": {},
   "source": [
    "第4回までで、プログラムにおける材料と道具にあたるデータ型と関数・メソッドについて学び、第5回・第6回で処理の流れを制御する方法について学んだ。実はここまで学んだ文法だけで、プログラミングで登場する大体の処理を実現することができる。ただし、これまでに学んだ文法1つ1つと実用的な処理の間には隔たりがあり、複数の要素を適切に組み合わせることが必要になる。また定番の処理は、世界中の開発者によりライブラリという形にまとめて公開されており、それらを利用することで効率的にプログラムを作成できる。\n",
    "\n",
    "今回はいくつかの例をもとに、これまでに学んだ文法を組み合わせてより高度な処理を実現する方法について学ぶ。またライブラリから関数などを読み込んで利用する方法を学ぶ。"
   ]
  },
  {
   "cell_type": "markdown",
   "id": "2f468882-a944-4952-9d28-46fcf04d4157",
   "metadata": {},
   "source": [
    "## 変数を使いこなす"
   ]
  },
  {
   "cell_type": "markdown",
   "id": "adbcd833-f5eb-4461-9506-3e685da1f1da",
   "metadata": {},
   "source": [
    "まずはif文の復習も兼ねて以下の問題に取り組んでみよう。"
   ]
  },
  {
   "cell_type": "markdown",
   "id": "ccd008e1-799e-4145-b45c-1e2952077299",
   "metadata": {},
   "source": [
    "**練習1**  \n",
    "2つの数値 `a`、`b` が与えられるとき、`a` と `b` のうち大きい方の値を `print` するコードを作成しなさい。"
   ]
  },
  {
   "cell_type": "code",
   "execution_count": null,
   "id": "084f596c-b504-4203-a109-511fe4806e5c",
   "metadata": {},
   "outputs": [],
   "source": []
  },
  {
   "cell_type": "markdown",
   "id": "86ba7384-0974-4a84-a068-43e4a843e2fb",
   "metadata": {},
   "source": [
    "この応用として、次の問題を考える。"
   ]
  },
  {
   "cell_type": "markdown",
   "id": "74f9aa2c-9fc1-4901-984e-0a959e431c83",
   "metadata": {},
   "source": [
    "**例題**  \n",
    "3つの数値 `a`、`b`、`c` が与えられるとき、これらの最大値を `print` するコードを作成しなさい。"
   ]
  },
  {
   "cell_type": "markdown",
   "id": "31b77c4f-502b-420e-b602-3f11f33b0be5",
   "metadata": {},
   "source": [
    "このコードを1つのif文だけで実現することもできる。そのためには `a`、`b`、`c` のあり得る6通りの大小関係についてif-elif-else文で条件分岐して、それぞれのケースで最大になる変数を `print` すれば良い（例えば、`a > b and b > c` のとき `print(a)` とする）。ただしこの方法は条件式が複雑であるし、3変数ならまだ良いが、変数の数が増えたときにコード量が膨大になる。\n",
    "\n",
    "よりスマートには次のように考える。まず `a` と `b` の大小関係を比較し、大きい方の値を変数 `tmp` に代入する（この変数名はなんでも良いが、これはtemporary、つまり一時的に保存するという意味合いを込めている）。次に `tmp` と `c` の大小関係を比較し、大きい方の値を `print` する。\n",
    "\n",
    "具体的には以下のコードを書けばよい。"
   ]
  },
  {
   "cell_type": "code",
   "execution_count": null,
   "id": "3d6195c6-d95c-40fa-959c-1b1e5b094fe0",
   "metadata": {},
   "outputs": [],
   "source": [
    "# a, b, c の一例\n",
    "a = 1\n",
    "b = 3\n",
    "c = 2\n",
    "\n",
    "if a > b:\n",
    "    tmp = a\n",
    "else:\n",
    "    tmp = b\n",
    "\n",
    "if tmp > c:\n",
    "    print(tmp)\n",
    "else:\n",
    "    print(c)"
   ]
  },
  {
   "cell_type": "markdown",
   "id": "2d15dd22-92bb-436e-b7d6-6fe1f838bc07",
   "metadata": {},
   "source": [
    "このように1つの問題をより細かい処理に分解し、それぞれの処理の結果を変数に保存して次の処理に引き継ぐという方法は、プログラミングにおいてよく行われる。"
   ]
  },
  {
   "cell_type": "markdown",
   "id": "0f2ce06b-8a01-4f66-bb38-8a4ad9c26592",
   "metadata": {},
   "source": [
    "**練習2**  \n",
    "3つの数値 `a`、`b`、`c` が与えられるとき、これらの最小値を `print` するコードを作成しなさい。"
   ]
  },
  {
   "cell_type": "code",
   "execution_count": null,
   "id": "acd1a70d-88ae-4689-9a8c-0a0eab0e37f8",
   "metadata": {},
   "outputs": [],
   "source": []
  },
  {
   "cell_type": "markdown",
   "id": "c750f873-0281-408f-8690-5f248f6da0e3",
   "metadata": {},
   "source": [
    "**練習3**  \n",
    "2つの変数 `a`、`b` が与えられるとき、それぞれの変数の値を交換するコードを作成しなさい。つまり、例えば `a = \"犬\"`、`b = \"猫\"` という変数を与えられた場合、`a = \"猫\"`、`b = \"犬\"` という状態にしなさい（交換したあと `print` する必要はない）。"
   ]
  },
  {
   "cell_type": "markdown",
   "id": "d027298c-62e4-41e2-b811-8e69ab1341cd",
   "metadata": {},
   "source": []
  },
  {
   "cell_type": "markdown",
   "id": "019aea03-ddcc-45fc-a264-c72812f6cc2b",
   "metadata": {},
   "source": [
    "## 文のネスト"
   ]
  },
  {
   "cell_type": "markdown",
   "id": "84164d3d-a8f1-4fe7-a8a5-9ae9609eb9d7",
   "metadata": {},
   "source": [
    "これまでに学んだif文、for文、while文は、それぞれ内側のブロックに入れ子的に使用することもできる。このような入れ子構造のことを**ネスト**という。"
   ]
  },
  {
   "cell_type": "markdown",
   "id": "e8df5a5b-0ae7-43c5-a58c-0539275b7d6d",
   "metadata": {},
   "source": [
    "```{figure} ./pic/nest.png\n",
    "---\n",
    "width: 500px\n",
    "name: nest\n",
    "---\n",
    "文のネスト\n",
    "```"
   ]
  },
  {
   "cell_type": "markdown",
   "id": "ec981ff4-9fd4-41ff-9d82-18d24a6bdb61",
   "metadata": {},
   "source": [
    "入れ子構造を作るには、ブロックの中にさらにヘッダーとブロックを作る。したがって、内側のブロックはTab文字2つ分インデントすることになる。\n",
    "\n",
    "ブロックの抜け方はこれまでと同様、インデントの大きさをもとに戻せばよい。上の図のようにインデントをTab文字1つ分に戻せば、もとのブロックの処理の続きを書くことができるし、インデントをゼロにすればブロック外の処理の続きを書くことができる。\n",
    "\n",
    "以下でいくつか例を見てみよう。"
   ]
  },
  {
   "cell_type": "markdown",
   "id": "1bed43f9-672f-47cb-ba8b-c9faabcaf4f0",
   "metadata": {},
   "source": [
    "### break文"
   ]
  },
  {
   "cell_type": "markdown",
   "id": "1e18f077-2ef5-4f85-99a9-8cf5dcac119e",
   "metadata": {},
   "source": [
    "for文とif文を組み合わせる例として、break文を使ったものを紹介する。"
   ]
  },
  {
   "cell_type": "code",
   "execution_count": null,
   "id": "89062652-13e5-458d-ace2-aeca1dd0a082",
   "metadata": {},
   "outputs": [],
   "source": [
    "for i in range(10):\n",
    "    if i == 3:\n",
    "        break\n",
    "    print(i)"
   ]
  },
  {
   "cell_type": "markdown",
   "id": "f02c3a60-ac67-4eed-b7c9-3702003c0fb7",
   "metadata": {},
   "source": [
    "### FizzBuzz"
   ]
  },
  {
   "cell_type": "markdown",
   "id": "b0596df8-0d87-4592-a3d5-c4d1219e82e7",
   "metadata": {},
   "source": [
    "### 二重ループ"
   ]
  },
  {
   "cell_type": "markdown",
   "id": "2bc2fd3a-16e7-47d4-a6f8-9e297d2b3d9a",
   "metadata": {},
   "source": [
    "## モジュールとimport"
   ]
  }
 ],
 "metadata": {
  "kernelspec": {
   "display_name": "Python 3 (ipykernel)",
   "language": "python",
   "name": "python3"
  },
  "language_info": {
   "codemirror_mode": {
    "name": "ipython",
    "version": 3
   },
   "file_extension": ".py",
   "mimetype": "text/x-python",
   "name": "python",
   "nbconvert_exporter": "python",
   "pygments_lexer": "ipython3",
   "version": "3.12.1"
  },
  "vscode": {
   "interpreter": {
    "hash": "aee8b7b246df8f9039afb4144a1f6fd8d2ca17a180786b69acc140d282b71a49"
   }
  }
 },
 "nbformat": 4,
 "nbformat_minor": 5
}
