{
 "cells": [
  {
   "cell_type": "markdown",
   "id": "52b9c04c",
   "metadata": {},
   "source": [
    "# 第12回 表データの処理"
   ]
  },
  {
   "cell_type": "markdown",
   "id": "0f3467e6",
   "metadata": {},
   "source": [
    "___\n",
    "[![Open In Colab](https://colab.research.google.com/assets/colab-badge.svg)](https://colab.research.google.com/github/tsuboshun/begin-python/blob/gh-pages/2024/workbook/lecture12.ipynb)\n",
    "\n",
    "___"
   ]
  },
  {
   "cell_type": "markdown",
   "id": "9ba5723c",
   "metadata": {},
   "source": [
    "## この授業で学ぶこと"
   ]
  },
  {
   "cell_type": "markdown",
   "id": "49246d72",
   "metadata": {},
   "source": [
    "今回は表データの処理をテーマに、Pandasという表データ解析ライブラリの使い方を学ぶ。またファイルの入出力について学ぶ。これまではPythonプログラムの中で閉じた話がほとんどであったが、ファイルの入出力を学ぶことで、パソコン上のファイルに対して自由な処理を行えるようになったり、プログラムの実行結果を永続的に保存できるようになったりするなど出来ることの幅がぐんと広がる。"
   ]
  },
  {
   "cell_type": "markdown",
   "id": "3c139ba7",
   "metadata": {},
   "source": [
    "## Pandas入門"
   ]
  },
  {
   "cell_type": "markdown",
   "id": "c4dc3586",
   "metadata": {},
   "source": [
    "Pythonでは、表形式のデータ（テーブルデータ）を扱うのに**Pandas**というライブラリがよく用いられる。\n",
    "\n",
    "Pandasを使うには、pandasモジュールをimportする。`import pandas as pd` として `pd` という省略名をつけながらインポートするのが慣例となっている。\n",
    "\n",
    "ここでは説明のため、seabornというライブラリにサンプルとして用意されている `'diamonds'` というテーブルデータを使用する（データの説明は[こちら](https://ggplot2.tidyverse.org/reference/diamonds.html)）。`load_dataset()` 関数によりサンプルのテーブルデータを取得できる。このようなデータの集まりのことを**データセット**という。"
   ]
  },
  {
   "cell_type": "code",
   "execution_count": null,
   "id": "fb257327",
   "metadata": {},
   "outputs": [],
   "source": [
    "import pandas as pd\n",
    "import numpy as np\n",
    "import seaborn as sns\n",
    "df = sns.load_dataset('diamonds')"
   ]
  },
  {
   "cell_type": "markdown",
   "id": "e591584b",
   "metadata": {},
   "source": [
    "### データフレーム"
   ]
  },
  {
   "cell_type": "markdown",
   "id": "f138b822",
   "metadata": {},
   "source": [
    "Pandasにおいてテーブルデータのことを**データフレーム**（**DataFrame**）という。\n",
    "データフレームの持つ `head()` メソッドにより、先頭から5件のデータを表示することができる。\n",
    "`head(10)` のように引数に整数を渡すことで、その件数だけデータを表示することもできる。"
   ]
  },
  {
   "cell_type": "code",
   "execution_count": null,
   "id": "ff065a8c-9645-4edf-a7da-f59b913a2677",
   "metadata": {},
   "outputs": [],
   "source": [
    "type(df)"
   ]
  },
  {
   "cell_type": "code",
   "execution_count": null,
   "id": "3c4ed17e",
   "metadata": {},
   "outputs": [],
   "source": [
    "df.head()"
   ]
  },
  {
   "cell_type": "markdown",
   "id": "385e6717",
   "metadata": {},
   "source": [
    "データフレームは、2次元配列の行方向と列方向にラベルがついたものと理解することができる。行方向のラベルのことを**インデックス**（**index**）、列方向のラベルのことを**カラム**（**column**）という。データフレームのインデックスは0始まりの連続した整数とは限らない。インデックスとカラムの値を指定して、要素にアクセスするには `loc` を使って次のように書く。"
   ]
  },
  {
   "cell_type": "code",
   "execution_count": null,
   "id": "4aa0ce29",
   "metadata": {},
   "outputs": [],
   "source": [
    "df.loc[0, \"carat\"]"
   ]
  },
  {
   "cell_type": "markdown",
   "id": "31e23edf-3184-43c8-8ca8-d501d84b4564",
   "metadata": {},
   "source": [
    "二次元配列と同じように、左上からの順番（0始まりの連続した整数）をもとに要素にアクセスするには `iloc` を使って次のように書く。"
   ]
  },
  {
   "cell_type": "code",
   "execution_count": null,
   "id": "2d846ffc-90c8-4312-8611-d30187db44c2",
   "metadata": {},
   "outputs": [],
   "source": [
    "df.iloc[0, 0]"
   ]
  },
  {
   "cell_type": "markdown",
   "id": "68ed6999",
   "metadata": {},
   "source": [
    "データフレームは2次元配列と相互に変換することができる。データフレームから2次元配列を取得するには、`values` 属性にアクセスすればよい。"
   ]
  },
  {
   "cell_type": "code",
   "execution_count": null,
   "id": "30fc36b4",
   "metadata": {
    "scrolled": true
   },
   "outputs": [],
   "source": [
    "array = df.values\n",
    "array"
   ]
  },
  {
   "cell_type": "markdown",
   "id": "33c4a8b8",
   "metadata": {},
   "source": [
    "2次元配列からデータフレームを作成するには次のように書く。"
   ]
  },
  {
   "cell_type": "code",
   "execution_count": null,
   "id": "4bbcb913",
   "metadata": {},
   "outputs": [],
   "source": [
    "df2 = pd.DataFrame(array)\n",
    "df2.head()"
   ]
  },
  {
   "cell_type": "markdown",
   "id": "94446829",
   "metadata": {},
   "source": [
    "カラムのデフォルト値は0始まりの整数である。データフレームの作成時にカラムを設定するには、次のように書く。"
   ]
  },
  {
   "cell_type": "code",
   "execution_count": null,
   "id": "fc8a887f",
   "metadata": {},
   "outputs": [],
   "source": [
    "df2 = pd.DataFrame(array, columns=['carat', 'cut', 'color', 'clarity', 'depth', 'table', 'price', 'x', 'y', 'z'])\n",
    "df2.head()"
   ]
  },
  {
   "cell_type": "markdown",
   "id": "9b6baff1",
   "metadata": {},
   "source": [
    "### シリーズ"
   ]
  },
  {
   "cell_type": "markdown",
   "id": "ef2d8b8b",
   "metadata": {},
   "source": [
    "データフレームは2次元配列に行ラベル・列ラベルをつけたものであった。\n",
    "Pandasには、1次元配列に行ラベルをつけたデータ型も用意されており、**シリーズ**（**Series**）という。\n",
    "\n",
    "データフレームに対してカラムの値を `[]` で指定すると、その列のデータをシリーズとして取得できる。"
   ]
  },
  {
   "cell_type": "code",
   "execution_count": null,
   "id": "f9dfc6d2",
   "metadata": {},
   "outputs": [],
   "source": [
    "s = df[\"carat\"]\n",
    "type(s)"
   ]
  },
  {
   "cell_type": "code",
   "execution_count": null,
   "id": "e9385ed7-4a54-477a-b6b3-f5f524b8a600",
   "metadata": {},
   "outputs": [],
   "source": [
    "s.head()"
   ]
  },
  {
   "cell_type": "markdown",
   "id": "41670fd1",
   "metadata": {},
   "source": [
    "インデックスの値を指定して、要素にアクセスするには `loc` または `iloc` を使って次のように書く。"
   ]
  },
  {
   "cell_type": "code",
   "execution_count": null,
   "id": "efbdf607",
   "metadata": {},
   "outputs": [],
   "source": [
    "s.loc[0]"
   ]
  },
  {
   "cell_type": "code",
   "execution_count": null,
   "id": "7e3c8312-93a5-476c-8c92-5882eb012934",
   "metadata": {},
   "outputs": [],
   "source": [
    "s.iloc[0]"
   ]
  },
  {
   "cell_type": "markdown",
   "id": "2c7645ce",
   "metadata": {},
   "source": [
    "シリーズは1次元配列と相互に変換することができる。シリーズから1次元配列を取得するには、`values` 属性にアクセスすればよい。"
   ]
  },
  {
   "cell_type": "code",
   "execution_count": null,
   "id": "3418cfad",
   "metadata": {
    "scrolled": true
   },
   "outputs": [],
   "source": [
    "array = s.values\n",
    "array"
   ]
  },
  {
   "cell_type": "markdown",
   "id": "aee0efee",
   "metadata": {},
   "source": [
    "1次元配列からシリーズを作成するには次のように書く。"
   ]
  },
  {
   "cell_type": "code",
   "execution_count": null,
   "id": "baf89624",
   "metadata": {},
   "outputs": [],
   "source": [
    "s2 = pd.Series(array)\n",
    "s2.head()"
   ]
  },
  {
   "cell_type": "markdown",
   "id": "7d31414a",
   "metadata": {},
   "source": [
    "### テーブル操作"
   ]
  },
  {
   "cell_type": "markdown",
   "id": "3304dbcc",
   "metadata": {},
   "source": [
    "データフレームを使うと、テーブルデータでよく行われる操作を簡単に実現することができる。データフレーム上でテーブルデータを加工し、加工したテーブルデータの値を配列として取得して、Matplotlibなど他のライブラリに渡すというのがよくある使い方である。以下にいくつかの操作を紹介する。"
   ]
  },
  {
   "cell_type": "markdown",
   "id": "a6306cd1",
   "metadata": {},
   "source": [
    "#### ソート"
   ]
  },
  {
   "cell_type": "markdown",
   "id": "0feb459b",
   "metadata": {},
   "source": [
    "`sort_values()` メソッドにより、引数に渡した列を基準にソートすることができる。デフォルトでは昇順にソートする。ソートした結果のデータフレームが戻り値として返されるので、以下のコードではそれを変数 `df` に再代入している。"
   ]
  },
  {
   "cell_type": "code",
   "execution_count": null,
   "id": "0dbb39ef",
   "metadata": {},
   "outputs": [],
   "source": [
    "df = df.sort_values(\"carat\")\n",
    "df.head()"
   ]
  },
  {
   "cell_type": "markdown",
   "id": "7bf3e768",
   "metadata": {},
   "source": [
    "降順にソートしたい場合は、引数に `ascending=False` を指定する。"
   ]
  },
  {
   "cell_type": "code",
   "execution_count": null,
   "id": "7bcd7767",
   "metadata": {},
   "outputs": [],
   "source": [
    "df = df.sort_values(\"carat\", ascending=False)\n",
    "df.head()"
   ]
  },
  {
   "cell_type": "markdown",
   "id": "6a446654",
   "metadata": {},
   "source": [
    "#### フィルタリング"
   ]
  },
  {
   "cell_type": "markdown",
   "id": "05ff14c0",
   "metadata": {},
   "source": [
    "テーブルデータの中から特定の条件を満たす行を抽出することを**フィルタリング**という。\n",
    "\n",
    "フィルタリングを行うには、どのインデックスの行を抽出するかをブール型で表したシリーズを `loc` で指定する。例えば、`cut` の種類が `Premium` の行を抽出したいとしよう。このとき `cut` の種類が `Premium` かどうかを表すシリーズを次のように作成できる。これを**マスク**という。"
   ]
  },
  {
   "cell_type": "code",
   "execution_count": null,
   "id": "167ba03c",
   "metadata": {},
   "outputs": [],
   "source": [
    "mask = df['cut'] == 'Premium'\n",
    "mask"
   ]
  },
  {
   "cell_type": "markdown",
   "id": "32afa658",
   "metadata": {},
   "source": [
    "このシリーズを `loc`で指定することで、データフレームから `cut` の種類が `Premium` の行のみ抽出することができる。"
   ]
  },
  {
   "cell_type": "code",
   "execution_count": null,
   "id": "08946138",
   "metadata": {},
   "outputs": [],
   "source": [
    "df_premium = df.loc[mask]\n",
    "df_premium.head()"
   ]
  },
  {
   "cell_type": "markdown",
   "id": "ace9e338-69c7-44fb-9d05-84955394be0e",
   "metadata": {},
   "source": [
    "複数の条件を指定するには、`&` や `|` を使う。それぞれの意味はブール型における `and` と `or` と同じである。例えば、`cut` の種類が `Premium` かつ `price` が `1000` より大きい行は以下のように抽出できる。"
   ]
  },
  {
   "cell_type": "code",
   "execution_count": null,
   "id": "935a4b65-6c82-410b-9e5d-bd1c0bba1c94",
   "metadata": {},
   "outputs": [],
   "source": [
    "mask = (df['cut'] == 'Premium') & (df['price'] > 1000)\n",
    "df_premium_1000 = df.loc[mask]\n",
    "df_premium_1000.head()"
   ]
  },
  {
   "cell_type": "markdown",
   "id": "472ecaff",
   "metadata": {},
   "source": [
    "#### 列の演算"
   ]
  },
  {
   "cell_type": "markdown",
   "id": "279e6091",
   "metadata": {},
   "source": [
    "シリーズは、配列と同様に各種演算を行うことができる。またデータフレームの列の追加や更新は代入文により行うことができる。\n",
    "例えば、`x`、`y`、`z` の総和を求めて、その結果を `sum` という列として保持するには、以下のように書く。"
   ]
  },
  {
   "cell_type": "code",
   "execution_count": null,
   "id": "4032fdc1",
   "metadata": {},
   "outputs": [],
   "source": [
    "df['sum'] = df['x'] + df['y'] + df['z']\n",
    "df.head()"
   ]
  },
  {
   "cell_type": "markdown",
   "id": "cc6bc739",
   "metadata": {},
   "source": [
    "例えば、`price` の対数を計算して `price_log` という列として保持するには、以下のように書く。\n",
    "このようにデータが数値の列に対して、NumPyの関数を適用することも可能である。"
   ]
  },
  {
   "cell_type": "code",
   "execution_count": null,
   "id": "56974464",
   "metadata": {},
   "outputs": [],
   "source": [
    "df['price_log'] = np.log(df['price'])\n",
    "df.head()"
   ]
  },
  {
   "cell_type": "markdown",
   "id": "8a84d400-930a-430f-9cfc-f0d5f6b8dded",
   "metadata": {},
   "source": [
    "#### 欠損値"
   ]
  },
  {
   "cell_type": "markdown",
   "id": "9f4ffaee-e83f-487d-9ff7-345579fed698",
   "metadata": {},
   "source": [
    "テーブルデータを調べていると `NaN` という値を見かけることがある。これは Not a Number の略で**欠損値**と呼ばれる。\n",
    "\n",
    "例として `(0, 0)` 要素に `None` を代入して、あえて `NaN` を含むデータを作成してみよう。pandasでは `None` のほか `float('nan')`、`np.nan` なども欠損値と見なされる。以下では、もとのデータフレームは上書きしないように `copy()` メソッドによりコピーしたデータフレームを使った例を示す。"
   ]
  },
  {
   "cell_type": "code",
   "execution_count": null,
   "id": "660cbad8-c725-46e5-bc0d-a77bed122713",
   "metadata": {},
   "outputs": [],
   "source": [
    "df_tmp = df.copy()\n",
    "df_tmp.iloc[0, 0] = None"
   ]
  },
  {
   "cell_type": "code",
   "execution_count": null,
   "id": "df4e9e86-ce67-4540-bd05-d391124b69b4",
   "metadata": {},
   "outputs": [],
   "source": [
    "df_tmp.head()"
   ]
  },
  {
   "cell_type": "markdown",
   "id": "94ec1342-9df1-4358-9cb2-0ff5fd39bcc1",
   "metadata": {},
   "source": [
    "特定の列の各行が欠損値であるかを表すマスクは、`isnull()` メソッドにより作成できる。"
   ]
  },
  {
   "cell_type": "code",
   "execution_count": null,
   "id": "a79da876-6682-47e3-bbf3-46cbc266b066",
   "metadata": {},
   "outputs": [],
   "source": [
    "mask = df_tmp[\"carat\"].isnull()\n",
    "df_tmp[mask].head()"
   ]
  },
  {
   "cell_type": "markdown",
   "id": "25324a65-b779-4d19-b70c-e5a4b73cccbf",
   "metadata": {},
   "source": [
    "分析によっては、欠損値が邪魔になることがある。このときの対処法としては、欠損値を含む行または列を削除する、または代表値で置き換えるなどの方法がある。\n",
    "\n",
    "欠損値を含む行を削除するには、以下のように書く。"
   ]
  },
  {
   "cell_type": "code",
   "execution_count": null,
   "id": "d64116cd-1e5d-4f93-a123-fb0493a0a263",
   "metadata": {},
   "outputs": [],
   "source": [
    "df_dropna = df_tmp.dropna()\n",
    "df_dropna.head()"
   ]
  },
  {
   "cell_type": "markdown",
   "id": "16becb91-5a28-4b51-a4dc-69eec9d4b2ec",
   "metadata": {},
   "source": [
    "欠損値を全体の平均値で置き換えるには、以下のように書く。"
   ]
  },
  {
   "cell_type": "code",
   "execution_count": null,
   "id": "f4de177b-892e-4e08-9e46-74e752f8a405",
   "metadata": {},
   "outputs": [],
   "source": [
    "df_fillna = df_tmp.copy()\n",
    "mean = df_tmp[\"carat\"].mean()  # カラットの平均値\n",
    "df_fillna[\"carat\"] = df_tmp[\"carat\"].fillna(mean)\n",
    "df_fillna.head()"
   ]
  },
  {
   "cell_type": "markdown",
   "id": "2fb00564",
   "metadata": {},
   "source": [
    "**練習1**  \n",
    "`diamonds` データセットにおいて、カット `\"cut\"` の種類が `\"Ideal\"` のデータにおける価格の平均、カラットの平均を求めなさい。\n",
    "<font color=cornflowerblue>ヒント：平均値は `シリーズ.mean()` でも求められるし、一旦配列に変換してから `np.mean()` 関数を使って求めてもよい。</font>"
   ]
  },
  {
   "cell_type": "code",
   "execution_count": null,
   "id": "e4c32df8",
   "metadata": {},
   "outputs": [],
   "source": []
  },
  {
   "cell_type": "markdown",
   "id": "29d55afe",
   "metadata": {},
   "source": [
    "**練習2**  \n",
    "`diamonds` データセットにおいて価格上位5件、下位5件のデータを表示しなさい。"
   ]
  },
  {
   "cell_type": "code",
   "execution_count": null,
   "id": "af198c18",
   "metadata": {},
   "outputs": [],
   "source": []
  },
  {
   "cell_type": "markdown",
   "id": "db1d2c99-7804-479c-89df-6da84d57c818",
   "metadata": {},
   "source": [
    "## ファイルの入出力"
   ]
  },
  {
   "cell_type": "markdown",
   "id": "1356fe46-3d5e-449d-9145-4afb3e6bb548",
   "metadata": {},
   "source": [
    "Pandasから話題を変えて、この節ではファイルの入出力について学ぶ。"
   ]
  },
  {
   "cell_type": "markdown",
   "id": "5c4948f1-322d-4182-b79e-901837f256b8",
   "metadata": {},
   "source": [
    "### Googleドライブのマウント"
   ]
  },
  {
   "cell_type": "markdown",
   "id": "4957905d-93a4-4314-bd26-d2a102fdc27d",
   "metadata": {},
   "source": [
    "Google Colab上でファイルを扱うために、最初にGoogleドライブに接続する必要がある（**マウント**という）。 ここではマウントの手順を説明する。\n",
    "\n",
    "サイドメニューから以下の順番でアイコンをクリックする。"
   ]
  },
  {
   "cell_type": "markdown",
   "id": "39f6b7f4-befa-42ea-becb-0593a459bac3",
   "metadata": {},
   "source": [
    "```{figure} ./pic/drive1.png\n",
    "---\n",
    "width: 500px\n",
    "name: drive1\n",
    "---\n",
    "Googleドライブのマウント\n",
    "```"
   ]
  },
  {
   "cell_type": "markdown",
   "id": "bb86efde-b1f4-4862-ad32-df12e8e1804d",
   "metadata": {},
   "source": [
    "そうすると以下のようなコードがノートブック上に現れるので、これを実行する。\n",
    "実行するとアカウントのログイン画面が表示され、その後Googleドライブのマウントを許可するか聞かれるので、許可するを選択する。"
   ]
  },
  {
   "cell_type": "markdown",
   "id": "d61e9d4b-1ee7-4ef0-905d-ceda992fcec0",
   "metadata": {},
   "source": [
    "```{figure} ./pic/drive2.png\n",
    "---\n",
    "width: 500px\n",
    "name: drive2\n",
    "---\n",
    "Googleドライブのマウント\n",
    "```"
   ]
  },
  {
   "cell_type": "markdown",
   "id": "deaf2266-8b05-49f2-8050-16fddcad2ff1",
   "metadata": {},
   "source": [
    "マウントしたあと左のウィンドウ上で `/content/drive/MyDrive` を見に行くと、Googleドライブ上のファイル・フォルダが確認できるはずである。"
   ]
  },
  {
   "cell_type": "markdown",
   "id": "c9a14999-7a76-4522-a9cb-f6d0ec1174d9",
   "metadata": {},
   "source": [
    "```{figure} ./pic/drive3.png\n",
    "---\n",
    "width: 500px\n",
    "name: drive3\n",
    "---\n",
    "Googleドライブのマウント\n",
    "```"
   ]
  },
  {
   "cell_type": "markdown",
   "id": "1b5aa226-71fe-49a2-8702-5a09ffea2502",
   "metadata": {},
   "source": [
    "### ファイルの読み込み"
   ]
  },
  {
   "cell_type": "markdown",
   "id": "6e1c0474-def7-4390-b7e2-57eb4a93032b",
   "metadata": {},
   "source": [
    "練習用のファイルとして次のデータが書かれたsample.csvを用意し（ToyoNet-ACEでも配布する予定）、Googleドライブのマイドライブ直下に置く。それ以外の場所に置いた場合は以降のコードの `path` を適宜変更する。このように各要素がカンマ（,）で区切られて書かれたテキストデータを**CSV**ファイルという（CSVは Comma-Separated Values の略）。\n",
    "\n",
    "<pre>8,7,9,6,9\n",
    "4,5,8,7,6\n",
    "9,9,9,8,9\n",
    "6,7,9,7,8</pre>\n",
    "\n",
    "このファイルの中身は組み込み関数の `open()` を使って、次のように読み込むことができる。"
   ]
  },
  {
   "cell_type": "code",
   "execution_count": null,
   "id": "1a49501f-a005-4e82-827a-629d773ee07d",
   "metadata": {},
   "outputs": [],
   "source": [
    "path = \"/content/drive/MyDrive/sample.csv\"\n",
    "f = open(path, mode='r')\n",
    "\n",
    "content = f.read()\n",
    "print(content)\n",
    "\n",
    "f.close()"
   ]
  },
  {
   "cell_type": "markdown",
   "id": "be21b9fb-e36f-4402-a362-0291b3bf0435",
   "metadata": {},
   "source": [
    "`open()` 関数は、第一引数にファイルの存在する場所（**パス**という）、第二引数にモードを渡す。\n",
    "パスは文字列で表し、フォルダを1つ下るごとに `/` で区切って `content` フォルダからの位置関係を表現する。\n",
    "第二引数に渡している `'r'` は読み込みモードを表す。\n",
    "\n",
    "`open()` 関数の返すファイルオブジェクト `f` に対して、`read()` メソッドを呼び出すと、ファイルの中身を文字列として取得できる。\n",
    "最後に、開いたファイルオブジェクトを `f.close()` により閉じている。\n",
    "\n",
    "`read()` メソッドはファイル全体を文字列として読み込むが、for文により一行ずつ読み込むこともできる。"
   ]
  },
  {
   "cell_type": "code",
   "execution_count": null,
   "id": "8fb60a69-6f91-45eb-af2d-8edbd57ad142",
   "metadata": {},
   "outputs": [],
   "source": [
    "f = open(path, mode='r')\n",
    "\n",
    "for line in f:\n",
    "    print(line)\n",
    "\n",
    "f.close()"
   ]
  },
  {
   "cell_type": "markdown",
   "id": "8126a60d-3d07-4310-97b7-7f4ec561ac64",
   "metadata": {},
   "source": [
    "さて `sample.csv` の中身は各行が一人一人の学生、各列が何かしらのスコアを表していたとしよう（つまり学生4人・スコア5つ）。このときデータを2次元リストとして読み込めると、分析の際に便利である。次のコードにより、ファイルの中身を2次元リストとして読み込むことができる。"
   ]
  },
  {
   "cell_type": "code",
   "execution_count": null,
   "id": "8614416d-2705-441d-8d68-3078351fc5c6",
   "metadata": {},
   "outputs": [],
   "source": [
    "f = open(path, mode='r')\n",
    "\n",
    "data = []\n",
    "for line in f:\n",
    "    data.append(line.strip().split(','))\n",
    "print(data)\n",
    "\n",
    "f.close()"
   ]
  },
  {
   "cell_type": "markdown",
   "id": "beb6ec91-8a6c-408e-b494-7cdff3140ef7",
   "metadata": {},
   "source": [
    "ここで各行の文字列 `line` について、まず `strip()` メソッドにより改行文字 `\\n` を取り除き、次に `split(',')` メソッドによりカンマで区切ってリストに変換している。例として、`line` にファイルの1行目 `\"8,7,9,6,9\\n\"` が代入されたときの処理の流れを、以下に示す。"
   ]
  },
  {
   "cell_type": "markdown",
   "id": "355bdd97-06f9-48f8-9e16-2bf24cca6d2f",
   "metadata": {},
   "source": [
    "<pre>\n",
    "line.strip().split(',')\n",
    "</pre>\n",
    "↓ `line` の指す値に置き換え\n",
    "<pre>\n",
    "\"8,7,9,6,9\\n\".strip().split(',')\n",
    "</pre>\n",
    "↓ `strip()` メソッドの適用\n",
    "<pre>\n",
    "\"8,7,9,6,9\".split(',')\n",
    "</pre>\n",
    "↓ `split()` メソッドの適用\n",
    "<pre>\n",
    "['8', '7', '9', '6', '9']\n",
    "</pre>\n",
    "\n",
    "よって、`data.append(line.strip().split(','))` は `data.append(['8', '7', '9', '6', '9'])` と同じことであり、これにより2次元リスト `data` の末尾に1次元リスト `['8', '7', '9', '6', '9']` が追加される。"
   ]
  },
  {
   "cell_type": "markdown",
   "id": "57a147f2-c266-4ded-871d-09155007fea0",
   "metadata": {},
   "source": [
    "注意点として、この時点では `data` の各要素は文字列型となっている。そこで分析前に整数型または浮動小数点数型に変換しておく。"
   ]
  },
  {
   "cell_type": "code",
   "execution_count": null,
   "id": "b461385f-4861-41d6-b599-9fc8d6e105f3",
   "metadata": {},
   "outputs": [],
   "source": [
    "for i in range(len(data)):\n",
    "    for j in range(len(data[i])):\n",
    "        data[i][j] = int(data[i][j])  # 小数を含むならfloat()"
   ]
  },
  {
   "cell_type": "code",
   "execution_count": null,
   "id": "a22f5794-c725-4f7b-acca-ad9fbb97ff26",
   "metadata": {},
   "outputs": [],
   "source": [
    "data"
   ]
  },
  {
   "cell_type": "markdown",
   "id": "56f815f8-1aef-48b2-ab4f-bc224c89eb07",
   "metadata": {},
   "source": [
    "### ファイルの書き込み"
   ]
  },
  {
   "cell_type": "markdown",
   "id": "5dbf0c37-5c3b-46d1-b549-2faf73d8d924",
   "metadata": {},
   "source": [
    "読み込んだデータをもとに各生徒の平均スコアを求めて、ファイルに出力してみよう。\n",
    "\n",
    "まず出力用のパスを入力とは別に設定する。`open()` 関数を書き込みモード（`'w'`） で呼び出し、書き込み用のファイルオブジェクト `f` を取得する。平均値の計算は、`np.mean()` 関数により行っている。そして結果を `f.write()` によりファイルに書き込んでいる。入力と同じように1行1学生となるように、最後に改行 `\\n` を入れている。\n",
    "\n",
    "ファイルへの書き込みを終えたら、`f.flush()`、`f.close()` を順に呼び出してファイルを閉じる。実は `f.write()` を呼び出した時点では、ファイルへの書き込みを予約した状態に過ぎず、OSの状態によっては実際の書き込みは後回しにされてしまう。`f.flush()` は、ファイルへの書き込みを確実に完了させる働きを持つ。"
   ]
  },
  {
   "cell_type": "code",
   "execution_count": null,
   "id": "d915a664-d1f1-4a54-9cec-f3adcae3dfd1",
   "metadata": {},
   "outputs": [],
   "source": [
    "output_path = \"/content/drive/MyDrive/sample_mean.txt\"\n",
    "f = open(output_path, mode='w')\n",
    "\n",
    "for lst in data:\n",
    "    mean = np.mean(lst)\n",
    "    f.write(f\"{mean}\\n\")\n",
    "\n",
    "f.flush()\n",
    "f.close()"
   ]
  },
  {
   "cell_type": "markdown",
   "id": "fbb77be8-c034-4701-9320-3579c6bb22eb",
   "metadata": {},
   "source": [
    "ここで紹介した書き込み方法では、毎回ファイルの内容が上書きされる。\n",
    "そうではなく、ファイルの末尾に追記したい場合には追記モード（`'a'`） を指定する。\n",
    "ファイルオブジェクトの使い方は書き込みモード（`'w'`）の場合と全く同じである。"
   ]
  },
  {
   "cell_type": "markdown",
   "id": "cf932bba-495b-404d-8a1f-af8bf6129e4c",
   "metadata": {},
   "source": [
    "**練習3**  \n",
    "上の例では、各学生の平均スコアを求めてファイルに出力した。これを参考に、平均スコアの代わりにスコアの標準偏差を求めてファイルに出力しなさい。ファイル名は sample_std.txt とすること。これは必須ではないが、可能なら小数は第3位を四捨五入して第2位までを求めなさい（第3回のf文字列の節を[参照](label:round)）。標準偏差は `np.std()` 関数により求めることができる。\n",
    "\n",
    "<font color=cornflowerblue>ヒント: 学生は4人いるので、標準偏差も4つ求まることになる。sample_std.txt は次のような見た目になる。ヒントとして1行目の答えは 1.17 になる（四捨五入せずに1.16619…という解答でも正解とする）。</font>\n",
    "```\n",
    "1.17\n",
    "*\n",
    "*\n",
    "*\n",
    "```"
   ]
  },
  {
   "cell_type": "code",
   "execution_count": null,
   "id": "85e69267-f332-4917-bdaa-2830e17dff21",
   "metadata": {},
   "outputs": [],
   "source": []
  },
  {
   "cell_type": "markdown",
   "id": "ffa304c9-a8d0-40a7-a57a-7191b219d34f",
   "metadata": {},
   "source": [
    "### NumPyやPandasを使った方法"
   ]
  },
  {
   "cell_type": "markdown",
   "id": "71a2b5f8-3b50-4135-91bf-a8b7f1e46fce",
   "metadata": {},
   "source": [
    "ファイルの中身を直接、配列やデータフレームとして読み込めると便利なため、NumPy、Pandasにそれ用の関数が用意されている。\n",
    "\n",
    "ファイルの中身を配列として読み込むには `np.loadtxt()` 関数を使う。第一引数にファイルパスを指定し、キーワード引数 `delimiter` で区切り文字を指定する。"
   ]
  },
  {
   "cell_type": "code",
   "execution_count": null,
   "id": "f17d2d92-0654-410c-bed2-95ac27e2f115",
   "metadata": {},
   "outputs": [],
   "source": [
    "data = np.loadtxt(path, delimiter=\",\")\n",
    "data"
   ]
  },
  {
   "cell_type": "markdown",
   "id": "7af6154e-ffdd-4fcf-b70c-4d2ef9145d07",
   "metadata": {},
   "source": [
    "ファイルの中身をデータフレームとして読み込むには `pd.read_csv()` 関数を使う。第一引数にファイルパスを指定する。さらに列名の情報を含まないファイルの場合は、`header=None` を指定する。"
   ]
  },
  {
   "cell_type": "code",
   "execution_count": null,
   "id": "89282e2e-a75a-4531-aed5-955c0e50fecd",
   "metadata": {},
   "outputs": [],
   "source": [
    "df_sample = pd.read_csv(path, header=None)\n",
    "df_sample"
   ]
  },
  {
   "cell_type": "markdown",
   "id": "21e4fd6b-7043-4a7f-a56a-5fad25074dd0",
   "metadata": {},
   "source": [
    "逆に配列やデータフレームの中身をファイルに書き込むには、`np.savetxt()` 関数や `to_csv()` メソッドを用いる。"
   ]
  },
  {
   "cell_type": "code",
   "execution_count": null,
   "id": "1714ba40-7be6-48ac-8729-1c997f3ca260",
   "metadata": {},
   "outputs": [],
   "source": [
    "np.savetxt(\"/content/drive/MyDrive/sample_array.csv\", data, delimiter=\",\")"
   ]
  },
  {
   "cell_type": "code",
   "execution_count": null,
   "id": "c95a637e-4017-4752-be01-93dee7163ae3",
   "metadata": {},
   "outputs": [],
   "source": [
    "df_sample.to_csv(\"/content/drive/MyDrive/sample_df.csv\", header=None, index=None)"
   ]
  }
 ],
 "metadata": {
  "kernelspec": {
   "display_name": "Python 3 (ipykernel)",
   "language": "python",
   "name": "python3"
  },
  "language_info": {
   "codemirror_mode": {
    "name": "ipython",
    "version": 3
   },
   "file_extension": ".py",
   "mimetype": "text/x-python",
   "name": "python",
   "nbconvert_exporter": "python",
   "pygments_lexer": "ipython3",
   "version": "3.12.1"
  },
  "vscode": {
   "interpreter": {
    "hash": "aee8b7b246df8f9039afb4144a1f6fd8d2ca17a180786b69acc140d282b71a49"
   }
  }
 },
 "nbformat": 4,
 "nbformat_minor": 5
}
