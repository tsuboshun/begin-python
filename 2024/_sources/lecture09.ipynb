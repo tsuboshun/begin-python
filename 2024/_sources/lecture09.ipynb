{
 "cells": [
  {
   "cell_type": "markdown",
   "id": "52b9c04c",
   "metadata": {},
   "source": [
    "# 第9回 関数と再帰"
   ]
  },
  {
   "cell_type": "markdown",
   "id": "0f3467e6",
   "metadata": {},
   "source": [
    "___\n",
    "[![Open In Colab](https://colab.research.google.com/assets/colab-badge.svg)](https://colab.research.google.com/github/tsuboshun/begin-python/blob/gh-pages/2024/workbook/lecture09.ipynb)\n",
    "\n",
    "___"
   ]
  },
  {
   "cell_type": "markdown",
   "id": "9ba5723c",
   "metadata": {},
   "source": [
    "## この授業で学ぶこと"
   ]
  },
  {
   "cell_type": "markdown",
   "id": "448d9103",
   "metadata": {},
   "source": [
    "これまでPythonに既に用意されている関数を利用してきたが、今回は自分で関数を定義する方法について学ぶ。関数を定義することによって、繰り返し行われる処理を一箇所に集約し、コードの再利用性を高めるとともに、コードを理解しやすくすることができる。\n",
    "さらに、関数内で自分自身を呼び出す再帰という手法についても学ぶ。"
   ]
  },
  {
   "cell_type": "markdown",
   "id": "8f8a3666",
   "metadata": {},
   "source": [
    "## 関数"
   ]
  },
  {
   "cell_type": "markdown",
   "id": "4672a6e5-3d4b-45f8-9f11-e38ad8837604",
   "metadata": {},
   "source": [
    "関数は**def文**により定義する。"
   ]
  },
  {
   "cell_type": "markdown",
   "id": "11f5f272",
   "metadata": {},
   "source": [
    "```{figure} ./pic/def.png\n",
    "---\n",
    "width: 700px\n",
    "name: def\n",
    "---\n",
    "def文の書き方\n",
    "```"
   ]
  },
  {
   "cell_type": "markdown",
   "id": "8424f97b",
   "metadata": {},
   "source": [
    "関数定義はヘッダーとブロックから構成され、ヘッダーには `def` に続けて関数名と、カッコ内に引数を記述する。引数は任意で、引数がない場合には `def 関数名():` と書き、引数がある場合には上図のように `,` で区切って書く。ブロック内には関数の処理を書く。\n",
    "\n",
    "**return文**は関数から値を返し、関数の実行を終了するための構文である。この文は任意であり、`return 戻り値` という形式で記述する。return文に到達すると、指定された戻り値を返して関数の実行を終了する。return文が省略された場合には、関数の処理がブロックの最後まで到達した後に自動的に `None` という値を返す。"
   ]
  },
  {
   "cell_type": "markdown",
   "id": "5f5af265-3946-4449-b6cc-9186ffff63e3",
   "metadata": {},
   "source": [
    "第5回で作成したBMIの計算プログラムを例に、関数を作成してみよう。"
   ]
  },
  {
   "cell_type": "code",
   "execution_count": null,
   "id": "6adfc5dc",
   "metadata": {},
   "outputs": [],
   "source": [
    "def bmi(a, b):   # aは身長[cm], bは体重[kg]\n",
    "    return 10000 * b / a ** 2"
   ]
  },
  {
   "cell_type": "code",
   "execution_count": null,
   "id": "2847e2f1-0e0a-4cba-b7f6-2457bec07d38",
   "metadata": {},
   "outputs": [],
   "source": [
    "bmi(193, 95)"
   ]
  },
  {
   "cell_type": "code",
   "execution_count": null,
   "id": "b8b7edf9",
   "metadata": {
    "scrolled": true
   },
   "outputs": [],
   "source": [
    "x = bmi(193, 95)  # 下のgreetingとの比較のため、変数に代入する例も示す\n",
    "print(x)"
   ]
  },
  {
   "cell_type": "markdown",
   "id": "060d4848-6ff2-4a12-a72c-aa8c1b1a3686",
   "metadata": {},
   "source": [
    "return文を書かないと `None` が返される。"
   ]
  },
  {
   "cell_type": "code",
   "execution_count": null,
   "id": "ac8ab016-b209-4f81-b5be-9021fecc4864",
   "metadata": {},
   "outputs": [],
   "source": [
    "def greeting():\n",
    "    print(\"hi\")"
   ]
  },
  {
   "cell_type": "code",
   "execution_count": null,
   "id": "e6749f77-194a-4d6c-88d0-718f67a01ae8",
   "metadata": {},
   "outputs": [],
   "source": [
    "x = greeting()\n",
    "print(x)"
   ]
  },
  {
   "cell_type": "markdown",
   "id": "79805bc7-f445-4d05-b009-e72e3aeb63ba",
   "metadata": {},
   "source": [
    "基本的に、引数は関数で定義された順番通りに渡す必要がある。\n",
    "例えば上の例で `bmi(193, 95)` と呼び出すと、引数に `a = 193`、`b = 95` が代入されてブロックの処理が行われる。\n",
    "したがって、`10000 * 95 / 193 ** 2` を計算した結果が戻り値として返される。\n",
    "\n",
    "そうではない場合として、**キーワード引数**や**デフォルト引数**を使用した場合がある。\n",
    "キーワード引数を使用すると、関数呼び出し時に自由な順番で引数を設定できる。\n",
    "キーワード引数は、関数の使用時に次のように `引数名 = 値` という形式で記述する。"
   ]
  },
  {
   "cell_type": "code",
   "execution_count": null,
   "id": "bb8b33ec",
   "metadata": {},
   "outputs": [],
   "source": [
    "bmi(b = 95, a = 193)"
   ]
  },
  {
   "cell_type": "markdown",
   "id": "e8c244f3",
   "metadata": {},
   "source": [
    "また、デフォルト引数を設定すると、関数呼び出し時に引数の設定を省略できる。デフォルト引数は、関数の定義時に次のように `引数名 = デフォルト値` という形式で記述する。"
   ]
  },
  {
   "cell_type": "code",
   "execution_count": null,
   "id": "411620a7",
   "metadata": {},
   "outputs": [],
   "source": [
    "def bmi(a = 157, b = 50):\n",
    "    return 10000 * b / a ** 2"
   ]
  },
  {
   "cell_type": "code",
   "execution_count": null,
   "id": "1cbc95ca",
   "metadata": {},
   "outputs": [],
   "source": [
    "bmi()"
   ]
  },
  {
   "cell_type": "code",
   "execution_count": null,
   "id": "4c3aab29",
   "metadata": {},
   "outputs": [],
   "source": [
    "bmi(193, 95)  # 引数に値を渡したら、デフォルト値よりこちらが優先される。"
   ]
  },
  {
   "cell_type": "markdown",
   "id": "9f24da6e",
   "metadata": {},
   "source": [
    "### スコープ"
   ]
  },
  {
   "cell_type": "markdown",
   "id": "20cfa4a6",
   "metadata": {},
   "source": [
    "**スコープ**とは、変数や関数などの名前がプログラム内で参照可能な範囲を指す。\n",
    "\n",
    "スコープには主に**グローバルスコープ**（またはモジュールスコープ）と**ローカルスコープ**の2種類がある。ノートブックを起動するとグローバルスコープが始まる。ノートブックのセル上で変数を定義すると、他のセルからも参照できるのは、これらが同じグローバルスコープに属するためである。ただし関数内だけは別で、関数内はローカルスコープという独自のスコープを持つ。\n",
    "\n",
    "グローバルスコープに属する変数を**グローバル変数**、ローカルスコープに属する変数を**ローカル変数**という。\n",
    "\n",
    "以下のコードをもとに、スコープの違いを理解しよう。"
   ]
  },
  {
   "cell_type": "code",
   "execution_count": null,
   "id": "993382fa",
   "metadata": {},
   "outputs": [],
   "source": [
    "a = 1  # グローバル変数\n",
    "def func():\n",
    "    a = 2  # ローカル変数\n",
    "    print(a)\n",
    "        \n",
    "func()\n",
    "print(a)"
   ]
  },
  {
   "cell_type": "markdown",
   "id": "f4bd652e",
   "metadata": {},
   "source": [
    "1行目の変数 `a` はグローバルスコープに属するグローバル変数である。一方で3行目の変数 `a` はローカルスコープに属するローカル変数であり、1行目の変数とは別物とみなされる。したがって、`func()` 関数を実行してもグローバル変数の値は変更されず、最後の `print(a)` の出力は1となる。\n",
    "\n",
    "重要な規則として、ローカルスコープからグローバル変数を参照することはできるが、グローバルスコープからローカル変数を参照することはできないというものがある。"
   ]
  },
  {
   "cell_type": "code",
   "execution_count": null,
   "id": "422c44e8",
   "metadata": {},
   "outputs": [],
   "source": [
    "b = 1  # グローバル変数\n",
    "def func():\n",
    "    print(b)  # ローカルスコープからグローバル変数 b を参照\n",
    "    \n",
    "func()"
   ]
  },
  {
   "cell_type": "code",
   "execution_count": null,
   "id": "200c706f",
   "metadata": {},
   "outputs": [],
   "source": [
    "def func():\n",
    "    c = 1  # ローカル変数\n",
    "    \n",
    "func()\n",
    "print(c)  # グローバルスコープからローカル変数 c は参照できない"
   ]
  },
  {
   "cell_type": "markdown",
   "id": "5b018f14",
   "metadata": {},
   "source": [
    "スコープは初学者にとって少し難しい概念であるので、エラーが起きたり変数の値が予期せず変わったりしたときに、この概念を思い出して確認すると良いだろう。"
   ]
  },
  {
   "cell_type": "markdown",
   "id": "f46f920b",
   "metadata": {},
   "source": [
    "## turtleによるグラフィック描画"
   ]
  },
  {
   "cell_type": "markdown",
   "id": "fd268262",
   "metadata": {},
   "source": [
    "ここからはturtleというプログラミング学習用のグラフィック描画ライブラリを用いて、関数作成の練習をしてみよう。このライブラリではペン先を表すカメを操作することで、線を描画する。turtleモジュールは外部ライブラリなので、最初にpipによるインストールとimportが必要である。以下のコードを実行することで、turtleモジュールが使用可能な状態になる。"
   ]
  },
  {
   "cell_type": "code",
   "execution_count": null,
   "id": "d40b4cb8",
   "metadata": {
    "tags": [
     "hide-output"
    ]
   },
   "outputs": [],
   "source": [
    "pip install ColabTurtle"
   ]
  },
  {
   "cell_type": "code",
   "execution_count": null,
   "id": "832fd825",
   "metadata": {},
   "outputs": [],
   "source": [
    "import random\n",
    "import ColabTurtle.Turtle as turtle  # Google Colab用のturtleライブラリ\n",
    "\n",
    "turtle.DEFAULT_PEN_COLOR = 'black'\n",
    "turtle.DEFAULT_BACKGROUND_COLOR = 'white'"
   ]
  },
  {
   "cell_type": "markdown",
   "id": "34a1050f",
   "metadata": {},
   "source": [
    "turtleモジュールの主な関数は以下の通りである。"
   ]
  },
  {
   "cell_type": "markdown",
   "id": "d9015a32",
   "metadata": {},
   "source": [
    "- `turtle.penup()`\n",
    "  - ペン先を紙から離す。以降は、カメが移動しても線は引かれない。\n",
    "- `turtle.pendown()`\n",
    "  - ペン先を紙につける。以降は、カメが移動する度に線が引かれる。\n",
    "- `turtle.forward(d)`\n",
    "  - 前方に距離 d だけ進む。\n",
    "- `turtle.backward(d)`\n",
    "  - 後方に距離 d だけ進む。\n",
    "- `turtle.goto(x, y)`\n",
    "  - 座標(x, y)に移動する。\n",
    "- `turtle.position()`\n",
    "  - 現在の位置を返す。\n",
    "- `turtle.right(a)`\n",
    "  - 右方向に a 度回転する。\n",
    "- `turtle.left(a)`\n",
    "  - 左方向に a 度回転する。\n",
    "- `turtle.setheading(a)`\n",
    "  - 右方向を0度、下方向を90度とする回転座標で a 度の方向を向く。"
   ]
  },
  {
   "cell_type": "markdown",
   "id": "e3b5944c",
   "metadata": {},
   "source": [
    "`turtle.initializeTurtle()` を実行すると、初期化により画面が用意される。まずは、画面上の座標について確認してみよう。"
   ]
  },
  {
   "cell_type": "code",
   "execution_count": null,
   "id": "14d7e960",
   "metadata": {},
   "outputs": [],
   "source": [
    "turtle.initializeTurtle(initial_window_size=(400, 400))\n",
    "print(f\"現在の座標: {turtle.position()}\")\n",
    "turtle.setheading(0)\n",
    "turtle.forward(100)\n",
    "print(f\"現在の座標: {turtle.position()}\")\n",
    "turtle.right(90)\n",
    "turtle.forward(100)\n",
    "print(f\"現在の座標: {turtle.position()}\")"
   ]
  },
  {
   "cell_type": "markdown",
   "id": "bd5ee1ef",
   "metadata": {},
   "source": [
    "画面の大きさは`turtle.initializeTurtle()` 関数の引数 `initial_window_size` でタプルを使って指定しており、400 * 400である。\n",
    "座標は左上を原点(0, 0)とし、x軸は右方向に、y軸は下方向に伸びている。\n",
    "カメの初期位置は中央の(200, 200)である。\n",
    "上のプログラムでは、カメはx軸方向に100進んだあと、y軸方向に100進んでいる。\n",
    "\n",
    "それでは練習問題を通じて、描画用の関数を作ってみよう。"
   ]
  },
  {
   "cell_type": "markdown",
   "id": "0e769748",
   "metadata": {},
   "source": [
    "**練習1**  \n",
    "1辺の長さ `size` を引数とし、正方形を描画する関数 `draw_square()` を作成しなさい。\n",
    "ただし `turtle.pendown()` から始め、`turtle.penup()` で終わること。"
   ]
  },
  {
   "cell_type": "code",
   "execution_count": null,
   "id": "ca2ef1d5",
   "metadata": {},
   "outputs": [],
   "source": [
    "def draw_square(size):\n",
    "    pass"
   ]
  },
  {
   "cell_type": "code",
   "execution_count": null,
   "id": "821c05af",
   "metadata": {},
   "outputs": [],
   "source": [
    "# 作成したら描画してみる\n",
    "turtle.initializeTurtle(initial_window_size=(400, 400))\n",
    "draw_square(100)"
   ]
  },
  {
   "cell_type": "markdown",
   "id": "3b347506-f92a-4791-ba2d-4d6611579b3c",
   "metadata": {},
   "source": [
    "```{toggle}\n",
    "<pre>\n",
    "def draw_square(size):\n",
    "    turtle.pendown()\n",
    "    for i in range(4):\n",
    "        turtle.forward(size)\n",
    "        turtle.right(90)\n",
    "    turtle.penup()\n",
    "</pre>"
   ]
  },
  {
   "cell_type": "markdown",
   "id": "82cd7944",
   "metadata": {},
   "source": [
    "**練習2**  \n",
    "1辺の長さ `size` を引数とし、正三角形を描画する関数 `draw_triangle()` を作成しなさい。\n",
    "ただし `turtle.pendown()` から始め、`turtle.penup()` で終わること。"
   ]
  },
  {
   "cell_type": "code",
   "execution_count": null,
   "id": "1aa767ae",
   "metadata": {},
   "outputs": [],
   "source": [
    "def draw_triangle(size):\n",
    "    pass"
   ]
  },
  {
   "cell_type": "code",
   "execution_count": null,
   "id": "6d9d44ee",
   "metadata": {},
   "outputs": [],
   "source": [
    "# 作成したら描画してみる\n",
    "turtle.initializeTurtle(initial_window_size=(400, 400))\n",
    "draw_triangle(100)"
   ]
  },
  {
   "cell_type": "markdown",
   "id": "2b6eae1f-c567-4700-9c5c-807cfb008356",
   "metadata": {},
   "source": [
    "```{toggle}\n",
    "<pre>\n",
    "def draw_triangle(size):\n",
    "    turtle.pendown()\n",
    "    for i in range(3):\n",
    "        turtle.forward(size)\n",
    "        turtle.right(120)\n",
    "    turtle.penup()\n",
    "</pre>"
   ]
  },
  {
   "cell_type": "markdown",
   "id": "7d25e3df",
   "metadata": {},
   "source": [
    "**練習3**  \n",
    "3以上の整数 `n` および1辺の長さ `size` を引数とし、正 `n` 角形を描画する関数 `draw_polygon()` を作成しなさい。ただし `turtle.pendown()` から始め、`turtle.penup()` で終わること。"
   ]
  },
  {
   "cell_type": "code",
   "execution_count": null,
   "id": "661b2462",
   "metadata": {},
   "outputs": [],
   "source": [
    "def draw_polygon(n, size):\n",
    "    pass"
   ]
  },
  {
   "cell_type": "code",
   "execution_count": null,
   "id": "137c5649",
   "metadata": {},
   "outputs": [],
   "source": [
    "# 作成したら描画してみる\n",
    "turtle.initializeTurtle(initial_window_size=(400, 400))\n",
    "draw_polygon(5, 100)"
   ]
  },
  {
   "cell_type": "markdown",
   "id": "fe43290c-fb87-4038-8d1d-1bd5e445572b",
   "metadata": {},
   "source": [
    "```{toggle}\n",
    "<pre>\n",
    "def draw_polygon(n, size):\n",
    "    turtle.pendown()\n",
    "    for i in range(n):\n",
    "        turtle.forward(size)\n",
    "        turtle.right(360/n)\n",
    "    turtle.penup()\n",
    "</pre>"
   ]
  },
  {
   "cell_type": "markdown",
   "id": "903aa497-cfc7-4a45-aaec-ddf0ea292f72",
   "metadata": {},
   "source": [
    "**練習4**  \n",
    "1辺（例えば線分AB）の長さ `size` を引数とし、星形を描画する関数 `draw_star()` を作成しなさい。\n",
    "ただし `turtle.pendown()` から始め、`turtle.penup()` で終わること。星形は図の状態から傾いていてもよい。"
   ]
  },
  {
   "cell_type": "markdown",
   "id": "9f8dd9d5-6de6-424e-b2a5-084749ff3e08",
   "metadata": {},
   "source": [
    "```{figure} ./pic/star.png\n",
    "---\n",
    "width: 200px\n",
    "name: star\n",
    "---\n",
    "星形\n",
    "```"
   ]
  },
  {
   "cell_type": "code",
   "execution_count": null,
   "id": "8935adc7",
   "metadata": {},
   "outputs": [],
   "source": [
    "def draw_star(size):\n",
    "    pass"
   ]
  },
  {
   "cell_type": "code",
   "execution_count": null,
   "id": "ee8743b1",
   "metadata": {},
   "outputs": [],
   "source": [
    "# 作成したら描画してみる\n",
    "turtle.initializeTurtle(initial_window_size=(400, 400))\n",
    "draw_star(100)"
   ]
  },
  {
   "cell_type": "markdown",
   "id": "f3e178c0-fc34-48e5-b861-aad4482d4bef",
   "metadata": {},
   "source": [
    "```{toggle}\n",
    "<pre>\n",
    "def draw_star(size):\n",
    "    turtle.pendown()\n",
    "    for i in range(5):\n",
    "        turtle.forward(size)\n",
    "        turtle.right(144)\n",
    "    turtle.penup()\n",
    "</pre>"
   ]
  },
  {
   "cell_type": "markdown",
   "id": "f53b4360",
   "metadata": {},
   "source": [
    "## 再帰"
   ]
  },
  {
   "cell_type": "markdown",
   "id": "9c8f2439",
   "metadata": {},
   "source": [
    "以下のコードを実行すると木の枝のような模様が描かれる。どのような処理が行われているか理解できるだろうか。"
   ]
  },
  {
   "cell_type": "code",
   "execution_count": null,
   "id": "6648d861",
   "metadata": {},
   "outputs": [],
   "source": [
    "def draw_branch(length, depth):\n",
    "    turtle.pendown()\n",
    "    if depth == 0:\n",
    "        turtle.forward(length)\n",
    "    else:\n",
    "        turtle.forward(length)\n",
    "        turtle.left(20)\n",
    "        draw_branch(length, depth-1) # 再帰呼び出し\n",
    "        turtle.right(40)\n",
    "        draw_branch(length, depth-1) # 再帰呼び出し\n",
    "        turtle.left(20)\n",
    "    turtle.backward(length)\n",
    "    turtle.penup()\n",
    "        \n",
    "turtle.initializeTurtle(initial_window_size=(400, 400), initial_speed=10)  # 描画のスピードを1~13の間で指定できる\n",
    "turtle.penup()\n",
    "turtle.goto(200, 350)\n",
    "\n",
    "# 木を描画\n",
    "draw_branch(50, 5)"
   ]
  },
  {
   "cell_type": "markdown",
   "id": "e41be922",
   "metadata": {},
   "source": [
    "`draw_branch()` 関数の中身を読むと、`draw_branch()` 関数自身が呼び出されている箇所がある。\n",
    "このように関数が自分自身を呼び出すことを**再帰**呼び出しといい、またそのような定義は再帰的であるという。\n",
    "\n",
    "このコードを図解すると次のようになる。"
   ]
  },
  {
   "cell_type": "markdown",
   "id": "4efa87f0",
   "metadata": {},
   "source": [
    "```{figure} ./pic/tree.png\n",
    "---\n",
    "width: 400px\n",
    "name: tree\n",
    "---\n",
    "`draw_branc()` の再帰呼び出し\n",
    "```"
   ]
  },
  {
   "cell_type": "markdown",
   "id": "09a30c05",
   "metadata": {},
   "source": [
    "カメはステップ①で木の枝を描き、ステップ③、⑤で再帰的に木を描く。\n",
    "それ以外は向きの調整と、始点に戻る操作を行っているだけである。\n",
    "ステップ③、⑤それぞれにおいて、`draw_branch()` 関数のステップ①〜⑦が繰り返される。\n",
    "`draw_branch()` 関数において線を描いているのはステップ①のみであるが、このように繰り返し処理を行うことで、徐々に木の形が出来上がる。\n",
    "\n",
    "ステップ⑦の始点に戻る操作は、忘れやすい部分ではあるが重要である。\n",
    "というのもステップ④、⑤は、ステップ③の終了時にカメがちょうど上図の位置にまで戻ってくることを前提としているからである。\n",
    "\n",
    "再帰を使用することで、for文などのループ構文を用いずに反復的な問題を解くことができる。\n",
    "ただし、適切に終了条件を設定することが必要であり、これがないと無限ループに陥る可能性がある。\n",
    "木の例では、枝の深さに制限をつけるため `depth` という引数を使用し、再帰呼び出しの度に1ずつ減らしている。\n",
    "そして `depth == 0` となったときに再帰呼び出しを行わず、枝を１本描くだけでreturnしている。"
   ]
  },
  {
   "cell_type": "markdown",
   "id": "f5eed362",
   "metadata": {},
   "source": [
    "**練習5**  \n",
    "現在の `draw_branch()` 関数では、木の根元から先端までの分岐の間隔が一定であり、結果として描かれる木は不自然な形状をしている。\n",
    "より自然な木の形状を再現するために、再帰呼び出しの度に、枝の長さが0.8倍になるように `draw_branch()` を修正しなさい。\n",
    "<a href=\"https://code-judge-system.vercel.app/?&id=9-5\" target=\"_blank\">\n",
    "<img src=\"./_images/launch.svg\" style=\"width: 20px; height: 20px;\">\n",
    "</a>"
   ]
  },
  {
   "cell_type": "code",
   "execution_count": null,
   "id": "16c3cb2b",
   "metadata": {},
   "outputs": [],
   "source": [
    "def draw_branch(length, depth):\n",
    "    turtle.pendown()\n",
    "    if depth == 0:\n",
    "        turtle.forward(length)\n",
    "    else:\n",
    "        turtle.forward(length)\n",
    "        turtle.left(20)\n",
    "        draw_branch(length, depth-1)\n",
    "        turtle.right(40)\n",
    "        draw_branch(length, depth-1)\n",
    "        turtle.left(20)\n",
    "    turtle.backward(length)\n",
    "    turtle.penup()"
   ]
  },
  {
   "cell_type": "code",
   "execution_count": null,
   "id": "d2027a7a-b6e1-4a18-ae51-19f4cb02fdf8",
   "metadata": {},
   "outputs": [],
   "source": [
    "# 作成したら描画してみる\n",
    "turtle.initializeTurtle(initial_window_size=(400, 400), initial_speed=10)\n",
    "turtle.penup()\n",
    "turtle.goto(200, 350)\n",
    "draw_branch(50, 6)"
   ]
  },
  {
   "cell_type": "markdown",
   "id": "1764356f-f9bf-4d67-8bab-f5575b9f01c2",
   "metadata": {},
   "source": [
    "```{toggle}\n",
    "<pre>\n",
    "def draw_branch(length, depth):\n",
    "    turtle.pendown()\n",
    "    if depth == 0:\n",
    "        turtle.forward(length)\n",
    "    else:\n",
    "        turtle.forward(length)\n",
    "        turtle.left(20)\n",
    "        draw_branch(length*0.8, depth-1)\n",
    "        turtle.right(40)\n",
    "        draw_branch(length*0.8, depth-1)\n",
    "        turtle.left(20)\n",
    "    turtle.backward(length)\n",
    "    turtle.penup()\n",
    "</pre>"
   ]
  },
  {
   "cell_type": "markdown",
   "id": "730ee846",
   "metadata": {},
   "source": [
    "## 余談: ジェネラティブ・アート"
   ]
  },
  {
   "cell_type": "markdown",
   "id": "a5ab1f2f",
   "metadata": {},
   "source": [
    "余談として、**ジェネラティブ・アート**について紹介する。\n",
    "ジェネラティブ・アートとは、アルゴリズム[^f1]やルール、自動化されたプロセスを用いて作品を生成するアートの一形態である。\n",
    "コンピュータやプログラミング言語を使って、これらのアルゴリズムやプロセスを実行し、視覚的または音響的な要素を生み出す。\n",
    "自然界の複雑さや美しさからインスピレーションを得た作品を、それとは対極の論理的で機械的なコンピュータを使って表現するところが、このアート形態の面白いところである。\n",
    "したがって、多くの場合に乱数の要素が作品に取り入れられており、実行するごとに毎回異なるパターンを楽しむことができる。\n",
    "\n",
    "Georg Neesが1968年に発表した *Schotter* は、最初のジェネラティブ・アート作品だと言われている。\n",
    "以下のプログラムは、*Schotter*  を模倣したコード[^f2]である。\n",
    "12個の正方形が規則的に並べられた行から始まり、下に行くにつれて徐々に秩序が失われる様子が描かれる。\n",
    "\n",
    "プログラムを実行して鑑賞してみよう。\n",
    "余力のある人は、どのようなアルゴリズムが使われているか、コードの読解に挑戦してみてほしい。\n",
    "`random.uniform()` 関数が初めて使われているが、これは引数を `a`、`b`とするとき、`a` と `b` の間の小数を一様な確率で返す関数である。\n",
    "\n",
    "[^f1]: 問題を解決するための手順のことをアルゴリズムという。\n",
    "[^f2]: こちらの[サイト](http://www.artsnova.com/Nees_Schotter_Tutorial.html)に掲載されているProcessingプログラムをPythonに書き換え作成した。"
   ]
  },
  {
   "cell_type": "code",
   "execution_count": null,
   "id": "bbce1667",
   "metadata": {},
   "outputs": [],
   "source": [
    "# パラメータ\n",
    "columns = 12   # 横方向の数\n",
    "rows = 22    # 縦方向の数\n",
    "size = 28    # 正方形の一辺の長さ\n",
    "padding = 2 * size   # 余白の大きさ\n",
    "\n",
    "# 画面の用意\n",
    "width = columns * size + 2 * padding  # 左右の余白の分 2 * padding を足している\n",
    "height = rows * size + 2 * padding  # 上下の...\n",
    "turtle.initializeTurtle(initial_speed=13, initial_window_size=(width, height))\n",
    "turtle.hideturtle()  # カメは描画しない\n",
    "\n",
    "# 模様の描画\n",
    "for y in range(rows):\n",
    "    v = y * (y+1) * 0.11  # yが大きくなるにつれ、乱数を大きくする\n",
    "    for x in range(columns):\n",
    "        rand = random.uniform(-v, v)  # 乱数の生成\n",
    "        turtle.penup()\n",
    "        turtle.goto(\n",
    "            padding + x * size + rand * 0.45,  # 乱数に0.45を掛けた分だけ位置をずらす\n",
    "            padding + y * size + rand * 0.45\n",
    "        )\n",
    "        turtle.pendown()\n",
    "        turtle.setheading(rand)  # 乱数の分だけ傾ける \n",
    "        # 正方形の描画\n",
    "        for _ in range(4):\n",
    "            turtle.forward(size)\n",
    "            turtle.right(90)"
   ]
  }
 ],
 "metadata": {
  "kernelspec": {
   "display_name": "Python 3 (ipykernel)",
   "language": "python",
   "name": "python3"
  },
  "language_info": {
   "codemirror_mode": {
    "name": "ipython",
    "version": 3
   },
   "file_extension": ".py",
   "mimetype": "text/x-python",
   "name": "python",
   "nbconvert_exporter": "python",
   "pygments_lexer": "ipython3",
   "version": "3.12.1"
  },
  "vscode": {
   "interpreter": {
    "hash": "aee8b7b246df8f9039afb4144a1f6fd8d2ca17a180786b69acc140d282b71a49"
   }
  }
 },
 "nbformat": 4,
 "nbformat_minor": 5
}
