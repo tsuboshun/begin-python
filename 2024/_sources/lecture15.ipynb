{
 "cells": [
  {
   "cell_type": "markdown",
   "id": "52b9c04c",
   "metadata": {},
   "source": [
    "# 第15回 総合演習"
   ]
  },
  {
   "cell_type": "markdown",
   "id": "0f3467e6",
   "metadata": {},
   "source": [
    "___\n",
    "[![Open In Colab](https://colab.research.google.com/assets/colab-badge.svg)](https://colab.research.google.com/github/tsuboshun/begin-python/blob/gh-pages/2024/workbook/lecture15.ipynb)\n",
    "\n",
    "___"
   ]
  },
  {
   "cell_type": "markdown",
   "id": "9ba5723c",
   "metadata": {},
   "source": [
    "## この授業で学ぶこと"
   ]
  },
  {
   "cell_type": "markdown",
   "id": "49246d72",
   "metadata": {},
   "source": [
    "これまでの総合演習として、分析内容を自分で考えながらデータ分析する経験をしてもらう。"
   ]
  },
  {
   "cell_type": "markdown",
   "id": "7cb00446",
   "metadata": {},
   "source": [
    "### 課題1"
   ]
  },
  {
   "cell_type": "markdown",
   "id": "a08915dc",
   "metadata": {},
   "source": [
    "ToyoNet-ACEの授業ページから `data.csv` と、データの内容を説明した `README.txt` をダウンロードし、自由にデータ分析して得られた知見をまとめなさい。以下の条件を満たした上で丁寧に取り組んでいれば、簡単な内容でも高く評価する。複数人で相談しながら作業してもよいし、ChatGPTなどの生成AIを活用してもよい。\n",
    "\n",
    "**条件**  \n",
    "- プロットを2つ以上描き、それぞれについて軸ラベル、タイトルをつけた上で、テキストセルに簡単な説明も書きなさい。\n",
    "  - プロット画像をダウンロードする必要はなく、`plt.show()` によりプロットをノートブック上に表示させた状態にしておけばよい。\n",
    "- ノートブックをpdf、ipynbの両方の形式でダウンロードして、それぞれ提出しなさい。\n",
    "  - pdf形式でダウンロードするには、メニューバーから「ファイル > 印刷」を選択し、印刷ウィンドウの送信先から「PDFに保存」を選択して保存を押す。\n",
    "  - ipynb形式でダウンロードするには、メニューバーから「ファイル > ダウンロード」を選択し、「.ipynbをダウンロード」を選択する。\n",
    "- 分析の過程をすべて残しておいても良いが、見やすいように体裁を整えてから提出すること。\n",
    "- 生成AIは、あくまで補助として利用すること。生成AIの出力をそのまま貼り付けたような、本人の理解の伴っていない提出物は大幅に減点する可能性がある。\n",
    "\n",
    "**データの読み込み方**  \n",
    "- 第12回を参考にしながら、`data.csv` をGoogle Colabにアップロードする。\n",
    "- CSVファイルを直接データフレームとして読み込んでくれる `pd.read_csv()` を使うのがおすすめである。ノートブックには既にそのようなコードを用意している。"
   ]
  },
  {
   "cell_type": "markdown",
   "id": "e992fbe1-8f9b-421f-b8db-92faa65f41ac",
   "metadata": {},
   "source": [
    "### 課題2（任意）\n",
    "OpenAI社の言語モデルを使った便利なプログラムを考え、コードを作成しなさい。またどのようなプログラムを作成したか説明を書きなさい。課題1と同じノートブック上に作成すること。\n",
    "\n",
    "課題2に関しては余力のある人のみ取り組めばよい。また取り組む場合にも、1~2時間で作成できるような簡単なものでよい。課題1だけでも満点を取れるように採点する。"
   ]
  },
  {
   "cell_type": "code",
   "execution_count": null,
   "id": "5ce48c82-9d92-49be-8e6a-ea2d0d552585",
   "metadata": {},
   "outputs": [],
   "source": []
  }
 ],
 "metadata": {
  "kernelspec": {
   "display_name": "Python 3 (ipykernel)",
   "language": "python",
   "name": "python3"
  },
  "language_info": {
   "codemirror_mode": {
    "name": "ipython",
    "version": 3
   },
   "file_extension": ".py",
   "mimetype": "text/x-python",
   "name": "python",
   "nbconvert_exporter": "python",
   "pygments_lexer": "ipython3",
   "version": "3.12.1"
  },
  "vscode": {
   "interpreter": {
    "hash": "aee8b7b246df8f9039afb4144a1f6fd8d2ca17a180786b69acc140d282b71a49"
   }
  }
 },
 "nbformat": 4,
 "nbformat_minor": 5
}
