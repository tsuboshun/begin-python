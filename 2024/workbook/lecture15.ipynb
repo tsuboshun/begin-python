{
  "cells": [
    {
      "cell_type": "markdown",
      "id": "8dc8ba91",
      "metadata": {
        "id": "8dc8ba91"
      },
      "source": [
        "## 準備"
      ]
    },
    {
      "cell_type": "code",
      "execution_count": null,
      "id": "7446ce58",
      "metadata": {
        "id": "7446ce58"
      },
      "outputs": [],
      "source": [
        "# Googleドライブのマウント\n",
        "from google.colab import drive\n",
        "drive.mount('/content/drive')"
      ]
    },
    {
      "cell_type": "code",
      "execution_count": null,
      "id": "3a1fa5ea",
      "metadata": {
        "id": "3a1fa5ea"
      },
      "outputs": [],
      "source": [
        "pip install japanize_matplotlib"
      ]
    },
    {
      "cell_type": "code",
      "execution_count": null,
      "id": "d41f092d",
      "metadata": {
        "id": "d41f092d"
      },
      "outputs": [],
      "source": [
        "# ライブラリのインストール\n",
        "import numpy as np\n",
        "import pandas as pd\n",
        "import matplotlib.pyplot as plt\n",
        "import japanize_matplotlib\n",
        "plt.rcParams.update({'font.size': 14})  # 文字サイズを14pxとする"
      ]
    },
    {
      "cell_type": "code",
      "execution_count": null,
      "id": "2b4de60d",
      "metadata": {
        "id": "2b4de60d"
      },
      "outputs": [],
      "source": [
        "# データの読み込み（ファイルのパスは適宜変えてください）\n",
        "df = pd.read_csv(\"/content/drive/MyDrive/data.csv\")  # または \"/content/data.csv\""
      ]
    },
    {
      "cell_type": "markdown",
      "id": "f6059b4f",
      "metadata": {
        "id": "f6059b4f"
      },
      "source": [
        "## 分析"
      ]
    },
    {
      "cell_type": "code",
      "execution_count": null,
      "id": "2a98df58",
      "metadata": {
        "id": "2a98df58"
      },
      "outputs": [],
      "source": [
        "df.head()  # まずはデータの中身を確認してみよう"
      ]
    },
    {
      "cell_type": "code",
      "execution_count": null,
      "id": "8b12f2b8",
      "metadata": {
        "id": "8b12f2b8"
      },
      "outputs": [],
      "source": []
    }
  ],
  "metadata": {
    "kernelspec": {
      "display_name": "Python 3 (ipykernel)",
      "language": "python",
      "name": "python3"
    },
    "language_info": {
      "codemirror_mode": {
        "name": "ipython",
        "version": 3
      },
      "file_extension": ".py",
      "mimetype": "text/x-python",
      "name": "python",
      "nbconvert_exporter": "python",
      "pygments_lexer": "ipython3",
      "version": "3.9.5"
    },
    "vscode": {
      "interpreter": {
        "hash": "aee8b7b246df8f9039afb4144a1f6fd8d2ca17a180786b69acc140d282b71a49"
      }
    },
    "colab": {
      "provenance": []
    }
  },
  "nbformat": 4,
  "nbformat_minor": 5
}