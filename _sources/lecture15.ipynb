{
 "cells": [
  {
   "cell_type": "markdown",
   "id": "52b9c04c",
   "metadata": {},
   "source": [
    "# 第15回 探索的データ分析に挑戦！"
   ]
  },
  {
   "cell_type": "markdown",
   "id": "0f3467e6",
   "metadata": {},
   "source": [
    "___\n",
    "[![Open In Colab](https://colab.research.google.com/assets/colab-badge.svg)](https://colab.research.google.com/github/tsuboshun/begin-python/blob/gh-pages/_sources/workbook/lecture15.ipynb)\n",
    "\n",
    "___"
   ]
  },
  {
   "cell_type": "markdown",
   "id": "9ba5723c",
   "metadata": {},
   "source": [
    "## この授業で学ぶこと"
   ]
  },
  {
   "cell_type": "markdown",
   "id": "49246d72",
   "metadata": {},
   "source": [
    "最終回の今回は、分析内容を自分で考えながら、実際に手を動かしてデータ分析する経験をしてもらう。\n",
    "第13回、第14回のコードを参考にしながら、面白い発見を目指して自由な発想でデータ分析してみてほしい。"
   ]
  },
  {
   "cell_type": "markdown",
   "id": "7cb00446",
   "metadata": {},
   "source": [
    "## 演習"
   ]
  },
  {
   "cell_type": "markdown",
   "id": "a08915dc",
   "metadata": {},
   "source": [
    "**課題**  \n",
    "ToyoNet-ACEの授業ページから `data.csv` と、データの内容を説明した `README.txt` をダウンロードし、自由にデータ分析して得られた知見をまとめなさい。\n",
    "\n",
    "**条件**  \n",
    "- プロットを2つ以上描き、それぞれについてテキストセルに簡単なコメントを書きなさい\n",
    "- ノートブックをpdf、ipynbの両方の形式でダウンロードして、それぞれ提出しなさい\n",
    "  - メニューバーから「ファイル > 印刷」を選択し、印刷ウィンドウの送信先から「PDFに保存」を選択して保存を押すことで、ノートブックをpdf形式でダウンロードできる\n",
    "  - メニューバーから「ファイル > ダウンロード」を選択し、「.ipynbをダウンロード」を選択することで、ノートブックをipynb形式でダウンロードできる\n",
    "- 分析の過程をすべて残しておいても良いが、見やすいように体裁を整えてから提出すること\n",
    "- 複数人で相談しながら作業してもよいし、ChatGPTを活用してもよい\n",
    "\n",
    "**データの読み込み方**  \n",
    "- `data.csv` をGoogleドライブの適当なフォルダにアップして、GoogleドライブをGoogle Colabにマウントすることで、Google Colabから `data.csv` を読み込めるようになる。第11回の講義ノートを参照。\n",
    "- 第11回で学んだように `open()` 関数を使って中身を読み込んでもいいが、csvファイルを直接データフレームとして読み込んでくれる `pd.read_csv()` を使うと簡単である。使い方はノートブックを参照。"
   ]
  },
  {
   "cell_type": "markdown",
   "id": "267e541e",
   "metadata": {},
   "source": [
    "```{admonition} csvファイル\n",
    ":class: note\n",
    "csv（comma-separated values）ファイルは、特定のデータを保存するために広く使われているファイル形式の一つである。その名前が示すように、csvファイルでは値がコンマで区切られている。\n",
    "\n",
    "csvファイルは、特にテーブル形式のデータを保存するのに適している。例えば、今回扱う `data.csv` の先頭5行は以下のようになっている。\n",
    "<pre>\n",
    "country,year,life expectancy,population,GDP\n",
    "Afghanistan,1950,27.7,7480464.0,8647416384.0\n",
    "Afghanistan,1951,28.0,7571542.0,8858704140.0\n",
    "Afghanistan,1952,28.4,7667534.0,9116697926.0\n",
    "Afghanistan,1953,28.9,7764549.0,9628040760.0\n",
    "</pre>\n",
    "```"
   ]
  },
  {
   "cell_type": "markdown",
   "id": "3b4b3c1d",
   "metadata": {},
   "source": [
    "```{admonition} 欠損値\n",
    ":class: note\n",
    "テーブルデータを色々と調べていると、`NaN` という値をよく見かけると思う。これは欠損値と呼ばれるもので、対応する位置のデータが存在しないことを表す。どのようなデータが欠損値となっているか調べることもデータ分析の重要な一ステップであるが、今回はあまり気にしなくて良い。\n",
    "```"
   ]
  }
 ],
 "metadata": {
  "kernelspec": {
   "display_name": "Python 3 (ipykernel)",
   "language": "python",
   "name": "python3"
  },
  "language_info": {
   "codemirror_mode": {
    "name": "ipython",
    "version": 3
   },
   "file_extension": ".py",
   "mimetype": "text/x-python",
   "name": "python",
   "nbconvert_exporter": "python",
   "pygments_lexer": "ipython3",
   "version": "3.9.5"
  },
  "vscode": {
   "interpreter": {
    "hash": "aee8b7b246df8f9039afb4144a1f6fd8d2ca17a180786b69acc140d282b71a49"
   }
  }
 },
 "nbformat": 4,
 "nbformat_minor": 5
}
