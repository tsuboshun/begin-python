{
 "cells": [
  {
   "cell_type": "markdown",
   "id": "52b9c04c",
   "metadata": {},
   "source": [
    "# 第12回 新しいデータ型を作る"
   ]
  },
  {
   "cell_type": "markdown",
   "id": "0f3467e6",
   "metadata": {},
   "source": [
    "___\n",
    "[![Open In Colab](https://colab.research.google.com/assets/colab-badge.svg)](https://colab.research.google.com/github/tsuboshun/begin-python/blob/gh-pages/_sources/workbook/lecture12.ipynb)\n",
    "\n",
    "___"
   ]
  },
  {
   "cell_type": "markdown",
   "id": "9ba5723c",
   "metadata": {},
   "source": [
    "## この授業で学ぶこと"
   ]
  },
  {
   "cell_type": "markdown",
   "id": "49246d72",
   "metadata": {},
   "source": [
    "準備中"
   ]
  },
  {
   "cell_type": "code",
   "execution_count": null,
   "id": "37ff8f58",
   "metadata": {},
   "outputs": [],
   "source": []
  },
  {
   "cell_type": "markdown",
   "id": "e77f2086",
   "metadata": {},
   "source": [
    "## クラス"
   ]
  },
  {
   "cell_type": "markdown",
   "id": "0190f979",
   "metadata": {},
   "source": [
    "第4回で学んだメソッドやオブジェクト、クラス、インスタンスといった概念について、簡単に復習しておこう。\n",
    "まず、データ型に専属の関数のことをメソッドと言う。\n",
    "そして、データとメソッドを合わせてオブジェクトと言い、オブジェクトの種類をクラス、クラスに基づいて作られる具体的なオブジェクトのことをインスタンスと言うのであった。\n",
    "\n",
    "新しいデータ型は、クラスを定義することで作ることができる。クラスは次の図のような形で定義する。"
   ]
  },
  {
   "cell_type": "markdown",
   "id": "618560df",
   "metadata": {},
   "source": [
    "```{figure} ./pic/class.png\n",
    "---\n",
    "width: 300px\n",
    "name: if\n",
    "---\n",
    "classの書き方\n",
    "```"
   ]
  },
  {
   "cell_type": "markdown",
   "id": "8fe276e9",
   "metadata": {},
   "source": [
    "if文やfor文のように、ブロックのコードはインデントを1つ分入れてから書き始める。あとで見るようにブロックにはメソッドを定義していく。\n",
    "\n",
    "まずは最も簡単なクラスを定義してみよう。"
   ]
  },
  {
   "cell_type": "code",
   "execution_count": null,
   "id": "bbe428a6",
   "metadata": {},
   "outputs": [],
   "source": [
    "class Apple:\n",
    "    pass"
   ]
  },
  {
   "cell_type": "markdown",
   "id": "48115280",
   "metadata": {},
   "source": [
    "このクラスのインスタンスは次のようにして作成する。"
   ]
  },
  {
   "cell_type": "code",
   "execution_count": null,
   "id": "fb21f02a",
   "metadata": {},
   "outputs": [],
   "source": [
    "a = Apple()"
   ]
  },
  {
   "cell_type": "markdown",
   "id": "a25b7b1b",
   "metadata": {},
   "source": [
    "このインスタンスにデータを持たせよう。例えば、栄養を表す `nutrition` というデータを次のように付与することができる。\n",
    "このデータのことを**属性**（**アトリビュート**）という。"
   ]
  },
  {
   "cell_type": "code",
   "execution_count": null,
   "id": "fc40d8bc",
   "metadata": {},
   "outputs": [],
   "source": [
    "a.nutrition = 10\n",
    "print(a.nutrition)"
   ]
  },
  {
   "cell_type": "markdown",
   "id": "4ddeafd2",
   "metadata": {},
   "source": [
    "この属性は `a` というインスタンスに特有のものである。クラスが同じであっても、各インスタンスの持つ属性は別々に管理される。"
   ]
  },
  {
   "cell_type": "code",
   "execution_count": null,
   "id": "747a84e5",
   "metadata": {},
   "outputs": [],
   "source": [
    "b = Apple()\n",
    "b.nutrition # こちらのインスタンスには属性は定義されていない"
   ]
  },
  {
   "cell_type": "markdown",
   "id": "df3c38dc",
   "metadata": {},
   "source": [
    "### 初期化メソッド"
   ]
  },
  {
   "cell_type": "markdown",
   "id": "a5ea49f8",
   "metadata": {},
   "source": [
    "インスタンス1つ1つに属性を設定していくのは大変なので、インスタンスの生成時に最初から属性を持たせられると便利である。\n",
    "これを実現するのが**初期化メソッド**である。\n",
    "初期化メソッドは、classのブロック中に `__init__` という名前の関数として定義する。\n",
    "ただし普通の関数とは異なり、第一引数に必ず `self` という変数を設定する。\n",
    "これはインスタンス自身を表す変数である。\n",
    "そして初期化メソッド内では、`self.属性名 = 値` という式で、属性名とその値を設定する。"
   ]
  },
  {
   "cell_type": "code",
   "execution_count": null,
   "id": "23a60108",
   "metadata": {},
   "outputs": [],
   "source": [
    "class Apple:\n",
    "    def __init__(self):\n",
    "        self.nutrition = 10\n",
    "        \n",
    "a = Apple()\n",
    "print(a.nutrition)  # 初期化の時点で10という値が設定されている。"
   ]
  },
  {
   "cell_type": "markdown",
   "id": "78a74e1e",
   "metadata": {},
   "source": [
    "初期化メソッドに引数を追加することで、`nutrition` の値を外から設定できるようにすることもできる。\n",
    "このとき `__init__` に設定した第二引数以降が、`クラス名()` と呼び出すときの引数に対応する。"
   ]
  },
  {
   "cell_type": "code",
   "execution_count": null,
   "id": "fcaaeb27",
   "metadata": {},
   "outputs": [],
   "source": [
    "class Apple:\n",
    "    def __init__(self, nutrition):\n",
    "        self.nutrition = nutrition\n",
    "        \n",
    "a = Apple(15)\n",
    "print(a.nutrition)"
   ]
  },
  {
   "cell_type": "markdown",
   "id": "9ef2c0f6",
   "metadata": {},
   "source": [
    "### メソッド"
   ]
  },
  {
   "cell_type": "code",
   "execution_count": null,
   "id": "5e9d5156",
   "metadata": {},
   "outputs": [],
   "source": [
    "class Apple:\n",
    "    def __init__(self, nutrition):\n",
    "        self.day = 0\n",
    "        self.nutrition = nutrition\n",
    "        \n",
    "    def step(self):\n",
    "        if self.day < 14:\n",
    "            self.nutrition += 1\n",
    "        else:\n",
    "            self.nutrition -= 1"
   ]
  }
 ],
 "metadata": {
  "kernelspec": {
   "display_name": "Python 3 (ipykernel)",
   "language": "python",
   "name": "python3"
  },
  "language_info": {
   "codemirror_mode": {
    "name": "ipython",
    "version": 3
   },
   "file_extension": ".py",
   "mimetype": "text/x-python",
   "name": "python",
   "nbconvert_exporter": "python",
   "pygments_lexer": "ipython3",
   "version": "3.9.5"
  },
  "vscode": {
   "interpreter": {
    "hash": "aee8b7b246df8f9039afb4144a1f6fd8d2ca17a180786b69acc140d282b71a49"
   }
  }
 },
 "nbformat": 4,
 "nbformat_minor": 5
}
