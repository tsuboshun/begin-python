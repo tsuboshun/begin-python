{
 "cells": [
  {
   "cell_type": "markdown",
   "id": "52b9c04c",
   "metadata": {},
   "source": [
    "# 第12回 新しいデータ型を作る"
   ]
  },
  {
   "cell_type": "markdown",
   "id": "0f3467e6",
   "metadata": {},
   "source": [
    "___\n",
    "[![Open In Colab](https://colab.research.google.com/assets/colab-badge.svg)](https://colab.research.google.com/github/tsuboshun/begin-python/blob/gh-pages/_sources/workbook/lecture12.ipynb)\n",
    "\n",
    "___"
   ]
  },
  {
   "cell_type": "markdown",
   "id": "9ba5723c",
   "metadata": {},
   "source": [
    "## この授業で学ぶこと"
   ]
  },
  {
   "cell_type": "markdown",
   "id": "2c8a8e19",
   "metadata": {},
   "source": [
    "これまで組み込み型のデータを利用してプログラムを書いてきたが、ここでは新しいデータ型を作成する方法を学ぶ。"
   ]
  },
  {
   "cell_type": "markdown",
   "id": "d93494e6",
   "metadata": {},
   "source": [
    "## クラス"
   ]
  },
  {
   "cell_type": "markdown",
   "id": "4362616f",
   "metadata": {},
   "source": [
    "第4回で学んだメソッドやオブジェクト、クラス、インスタンスといった概念について、簡単に復習しておこう。\n",
    "まず、データ型に専属の関数のことをメソッドと言う。\n",
    "そして、データとメソッドを合わせてオブジェクトと言い、オブジェクトの種類をクラス、クラスに基づいて作られる具体的なオブジェクトのことをインスタンスと言うのであった。\n",
    "\n",
    "新しいデータ型は、クラスを定義することで作ることができる。クラスは次の図のような形で定義する。"
   ]
  },
  {
   "cell_type": "markdown",
   "id": "398235f3",
   "metadata": {},
   "source": [
    "```{figure} ./pic/class.png\n",
    "---\n",
    "width: 300px\n",
    "name: if\n",
    "---\n",
    "classの書き方\n",
    "```"
   ]
  },
  {
   "cell_type": "markdown",
   "id": "3f70474b",
   "metadata": {},
   "source": [
    "if文やfor文のように、ブロックのコードはインデントを入れてから書き始める。あとで見るようにブロックにはメソッドを定義していく。\n",
    "\n",
    "まずは最も簡単なクラスを定義してみよう。"
   ]
  },
  {
   "cell_type": "code",
   "execution_count": null,
   "id": "6dc997eb",
   "metadata": {},
   "outputs": [],
   "source": [
    "class Apple:\n",
    "    pass"
   ]
  },
  {
   "cell_type": "markdown",
   "id": "835e9469",
   "metadata": {},
   "source": [
    "クラス名は自由に設定することができるが、1文字目のみを大文字にするという慣例がある。一方でメソッド名や関数名は全て小文字で書くのが慣例となっている。\n",
    "\n",
    "このクラスのインスタンスは次のようにして作成する。"
   ]
  },
  {
   "cell_type": "code",
   "execution_count": null,
   "id": "3cf1a7c1",
   "metadata": {},
   "outputs": [],
   "source": [
    "a = Apple()"
   ]
  },
  {
   "cell_type": "markdown",
   "id": "2574f8b0",
   "metadata": {},
   "source": [
    "このインスタンスにデータを持たせよう。例えば、栄養を表す `nutrition` というデータを次のように付与することができる。\n",
    "このデータのことを**属性**（**アトリビュート**）という。"
   ]
  },
  {
   "cell_type": "code",
   "execution_count": null,
   "id": "274c11c1",
   "metadata": {},
   "outputs": [],
   "source": [
    "a.nutrition = 10\n",
    "print(a.nutrition)"
   ]
  },
  {
   "cell_type": "markdown",
   "id": "2ca1220d",
   "metadata": {},
   "source": [
    "この属性は `a` というインスタンスに固有のものである。クラスが同じであっても、各インスタンスの持つ属性は別々に管理される。"
   ]
  },
  {
   "cell_type": "code",
   "execution_count": null,
   "id": "a4e7bd5d",
   "metadata": {},
   "outputs": [],
   "source": [
    "b = Apple()\n",
    "b.nutrition # こちらのインスタンスには属性は定義されていない"
   ]
  },
  {
   "cell_type": "markdown",
   "id": "291c81a0",
   "metadata": {},
   "source": [
    "### 初期化メソッド"
   ]
  },
  {
   "cell_type": "markdown",
   "id": "783b0a06",
   "metadata": {},
   "source": [
    "インスタンス１つ１つに属性を設定していくのは大変なので、インスタンスの生成時に最初から属性を持たせたくなる。\n",
    "これを実現するのが**初期化メソッド**である。\n",
    "初期化メソッドは、classのブロック中に `__init__()` という名前の関数として定義する。\n",
    "ただし普通の関数とは異なり、第一引数に必ず `self` という変数を設定する。\n",
    "これはインスタンス自身を渡すための変数である。\n",
    "そして初期化メソッド内では、`self.属性名 = 値` という代入文で、属性名とその値を設定する。"
   ]
  },
  {
   "cell_type": "code",
   "execution_count": null,
   "id": "2f3448a2",
   "metadata": {},
   "outputs": [],
   "source": [
    "class Apple:\n",
    "    def __init__(self):\n",
    "        self.nutrition = 10\n",
    "        \n",
    "a = Apple()\n",
    "print(a.nutrition)  # 初期化の時点で10という値が設定されている。"
   ]
  },
  {
   "cell_type": "markdown",
   "id": "99b8b624",
   "metadata": {},
   "source": [
    "初期化メソッドに引数を追加することで、`nutrition` の値を外から設定できるようにすることもできる。\n",
    "このとき `__init__()` に設定した第二引数以降が、`クラス名()` と呼び出すときの引数に対応する。"
   ]
  },
  {
   "cell_type": "code",
   "execution_count": null,
   "id": "0741fcef",
   "metadata": {},
   "outputs": [],
   "source": [
    "class Apple:\n",
    "    def __init__(self, nutrition):\n",
    "        self.nutrition = nutrition\n",
    "        \n",
    "a = Apple(15)\n",
    "print(a.nutrition)"
   ]
  },
  {
   "cell_type": "markdown",
   "id": "4207d017",
   "metadata": {},
   "source": [
    "初期化メソッドのようにメソッド名の両端にアンダースコア2つ `__` をつけたメソッドのことを **特殊メソッド** という。\n",
    "特殊メソッドは次に説明する普通のメソッドとは異なり、その用途に応じてメソッド名が決められている。\n",
    "また普通のメソッドのように `データ.メソッド名()` という呼び出し方をしない。"
   ]
  },
  {
   "cell_type": "markdown",
   "id": "f2f2be78",
   "metadata": {},
   "source": [
    "### メソッド"
   ]
  },
  {
   "cell_type": "markdown",
   "id": "989c2a40",
   "metadata": {},
   "source": [
    "普通のメソッドの定義の仕方は、初期化メソッドと同様である。\n",
    "ここでは日にちを1日経過させるメソッドとして `step()` を定義してみよう。\n",
    "まずは初期化メソッドの中で、日にちを管理する属性として `day` を定義しておく。\n",
    "次にclassブロック中に `step()` という関数を追加する。\n",
    "ここでもやはり、第一引数に `self` を設定することに注意する。\n",
    "\n",
    "`step()` 関数の中で `self.属性名` と書くことで、そのメソッドを呼び出したインスタンスの属性値にアクセスすることができる。\n",
    "`step()` では日にちを1日経過させ、それに合わせて栄養価を変化させてみよう。"
   ]
  },
  {
   "cell_type": "code",
   "execution_count": null,
   "id": "18f65698",
   "metadata": {},
   "outputs": [],
   "source": [
    "class Apple:\n",
    "    def __init__(self, nutrition):\n",
    "        self.day = 0\n",
    "        self.nutrition = nutrition\n",
    "        \n",
    "    def step(self):\n",
    "        self.day += 1\n",
    "        if self.day < 14:\n",
    "            self.nutrition += 1\n",
    "        else:\n",
    "            self.nutrition -= 1"
   ]
  },
  {
   "cell_type": "code",
   "execution_count": null,
   "id": "8633cffd",
   "metadata": {},
   "outputs": [],
   "source": [
    "a = Apple(15)\n",
    "print(a.nutrition)\n",
    "\n",
    "a.step() # 1日経過\n",
    "print(a.nutrition)"
   ]
  },
  {
   "cell_type": "markdown",
   "id": "ab41695b",
   "metadata": {},
   "source": [
    "**練習1**  \n",
    "`Apple` クラスを真似して `Banana` クラスを作成しなさい。`Banana` の `step()` の内容は、経過日数が7日未満のとき栄養価が1上がり、7日以上のとき栄養価が1下がるとすること。"
   ]
  },
  {
   "cell_type": "code",
   "execution_count": null,
   "id": "46372e82",
   "metadata": {},
   "outputs": [],
   "source": [
    "### （出席課題）クラス全体を提出する。\n",
    "\n",
    "class Banana:\n",
    "    pass\n",
    "\n",
    "###"
   ]
  },
  {
   "cell_type": "code",
   "execution_count": null,
   "id": "bf2527b8",
   "metadata": {},
   "outputs": [],
   "source": [
    "# 完成したら以下でテストする\n",
    "\n",
    "a = Banana(10)\n",
    "print(a.nutrition) # 10\n",
    "\n",
    "a.step()\n",
    "print(a.nutrition) # 11\n",
    "\n",
    "for i in range(7):\n",
    "    a.step()\n",
    "    \n",
    "print(a.nutrition) # 14"
   ]
  },
  {
   "cell_type": "markdown",
   "id": "01b642bd",
   "metadata": {},
   "source": [
    "### オブジェクト指向プログラミング "
   ]
  },
  {
   "cell_type": "markdown",
   "id": "336561ca",
   "metadata": {},
   "source": [
    "作成した `Apple()` と `Banana()` を用いて、栄養価のシミュレーションを行ってみよう。\n",
    "手元にりんごが2つ、バナナが2つあり、それぞれの栄養価の初期値は10であったとする。\n",
    "このとき例えば経過日数ごとの栄養価の合計は次のように求められる。"
   ]
  },
  {
   "cell_type": "code",
   "execution_count": null,
   "id": "3ca69794",
   "metadata": {},
   "outputs": [],
   "source": [
    "basket = [Apple(10), Apple(10), Banana(10), Banana(10)]\n",
    "\n",
    "for day in range(1, 21):\n",
    "    total = 0\n",
    "    for fruit in basket:\n",
    "        fruit.step()\n",
    "        total += fruit.nutrition\n",
    "        \n",
    "    print(f\"{day}日目: {total}\")"
   ]
  },
  {
   "cell_type": "markdown",
   "id": "3acb14a2",
   "metadata": {},
   "source": [
    "このプログラムは、処理としてはそれなりに複雑なことをしているが、コードとしてはとてもシンプルである。\n",
    "特に一度 `Apple()` と `Banana()` を定義したあとでは、経過日数ごとの栄養価の変化のルールを忘れてしまい、単に `step()` メソッドを呼び出すだけでよくなっている。\n",
    "これと同じようなプログラムをクラスを使わずに実現しようとすると、`day` の値と `fruit` の種類ごとに栄養価を変化させる処理をfor文の中で書くことになり、コードが複雑化する。\n",
    "\n",
    "このようにクラスを利用して、データとそれに付随する操作をオブジェクトにまとめて隠してしまうことで、コードの見通しと再利用性を向上させることができる。オブジェクトを利用したプログラミングスタイルのことを**オブジェクト指向**と言うが、これがオブジェクト指向の利点の1つである。\n",
    "オブジェクト指向は、規模の大きいプログラムを書く際に重宝する。"
   ]
  },
  {
   "cell_type": "markdown",
   "id": "8e9a6b18",
   "metadata": {},
   "source": [
    "## 演習"
   ]
  },
  {
   "cell_type": "markdown",
   "id": "840646f9",
   "metadata": {},
   "source": [
    "第4回の授業で、浮動小数点数は小数を完璧な精度で表現しないという話をした。\n",
    "ここでは分数を表すクラスを作成し、それにより `0.1 * 3` のような計算を正確に行えるようにしよう。\n",
    "\n",
    "雛形のクラスを以下に用意した。\n",
    "クラス名は `Fraction` とし、初期化メソッドで分子（numeratorを略して `n`）と分母（denominatorを略して `d`）を設定できるようにしている。"
   ]
  },
  {
   "cell_type": "code",
   "execution_count": null,
   "id": "3c43f29b",
   "metadata": {},
   "outputs": [],
   "source": [
    "class Fraction:\n",
    "    def __init__(self, n, d):\n",
    "        self.n = n\n",
    "        self.d = d\n",
    "        \n",
    "    def __str__(self):\n",
    "        return f'{self.n}/{self.d}'\n",
    "    \n",
    "    def add(self, other):\n",
    "        n = self.n * other.d + other.n * self.d\n",
    "        d = self.d * other.d\n",
    "        return Fraction(n, d)"
   ]
  },
  {
   "cell_type": "markdown",
   "id": "fbf01fca",
   "metadata": {},
   "source": [
    "`__str__()` は `print()` 関数に渡されたときの表示を定める特殊メソッドである。\n",
    "上のように定義すると、以下のように動作する。"
   ]
  },
  {
   "cell_type": "code",
   "execution_count": null,
   "id": "eae0240b",
   "metadata": {},
   "outputs": [],
   "source": [
    "print(Fraction(1, 3))"
   ]
  },
  {
   "cell_type": "markdown",
   "id": "969b8a3e",
   "metadata": {},
   "source": [
    "`add()` は分数の足し算を行うメソッドである。`Apple` クラスにおける `step()` メソッドとは異なり、`add()` メソッドは戻り値を持ち、計算結果の `Fraction` インスタンスを返していることに気をつけよう。\n",
    "\n",
    "例えば以下のように動作する。"
   ]
  },
  {
   "cell_type": "code",
   "execution_count": null,
   "id": "82087760",
   "metadata": {},
   "outputs": [],
   "source": [
    "x = Fraction(1, 3)\n",
    "y = Fraction(1, 5)\n",
    "print(x.add(y))"
   ]
  },
  {
   "cell_type": "markdown",
   "id": "5c96cbe3",
   "metadata": {},
   "source": [
    "**課題1**  \n",
    "足し算の定義を真似して、掛け算を行うメソッド `mul()` を定義しなさい。"
   ]
  },
  {
   "cell_type": "markdown",
   "id": "1b263bbd",
   "metadata": {},
   "source": [
    "**課題2**  \n",
    "`Fraction` クラスのインスタンスが必ず既約分数（分母と分子に1以外の公約数がなくて、それ以上に約分できない分数のこと）を表すように `__init__()` の処理を変更しなさい。そのためには引数に渡される `n` と `d` を最大公約数で割ったものを、`self.n` と `self.d` に設定すればよい。`self.n` と `self.d` は `int` 型としたいので、割り算の結果が `int` 型となるように割り算には `/` ではなく `//` を使うこと。また最大公約数は `math` モジュールの `math.gcd()` 関数で求めることができる。"
   ]
  },
  {
   "cell_type": "code",
   "execution_count": null,
   "id": "54e063e5",
   "metadata": {},
   "outputs": [],
   "source": [
    "import math\n",
    "\n",
    "print(math.gcd(12, 8))  # math.gcdの使い方（12と8の最大公約数を求めている）\n",
    "print(math.gcd(4, 3))  # math.gcdの使い方（4と3の最大公約数を求めている）"
   ]
  },
  {
   "cell_type": "code",
   "execution_count": null,
   "id": "6e369569",
   "metadata": {},
   "outputs": [],
   "source": [
    "### （出席課題）クラス全体を提出する。\n",
    "\n",
    "class Fraction:\n",
    "    def __init__(self, n, d): # 課題2: 以下を書き換える\n",
    "        self.n = n\n",
    "        self.d = d\n",
    "        \n",
    "    def __str__(self):\n",
    "        return f'{self.n}/{self.d}'\n",
    "    \n",
    "    def add(self, other):\n",
    "        n = self.n * other.d + other.n * self.d\n",
    "        d = self.d * other.d\n",
    "        return Fraction(n, d)\n",
    "    \n",
    "    def mul(self, other):\n",
    "        pass # 課題1: ここに適切なコードを書く\n",
    "    \n",
    "###"
   ]
  },
  {
   "cell_type": "markdown",
   "id": "f92ecedd",
   "metadata": {},
   "source": [
    "コードが完成したら以下を実行してみよう。正しく実装できていれば、`3/10`、`2/5` と表示されるはずである。"
   ]
  },
  {
   "cell_type": "code",
   "execution_count": null,
   "id": "014e82a2",
   "metadata": {},
   "outputs": [],
   "source": [
    "x =  Fraction(1, 10)\n",
    "y = Fraction(3, 1)\n",
    "print(x.mul(y))\n",
    "\n",
    "x = Fraction(2, 3)\n",
    "y = Fraction(3, 5)\n",
    "print(x.mul(y))"
   ]
  },
  {
   "cell_type": "markdown",
   "id": "0e1a0e4d",
   "metadata": {},
   "source": [
    "**おまけ**  \n",
    "特殊メソッドの `__add__()` と `__mul__()` を使うと、それぞれ `+` 演算子、`*` 演算子を使用したときの動作を定義することができる。\n",
    "上で作成した `Fraction` クラスの `add()` と `mul()` の名前を `__add__()` と `__mul__()` に変更して、クラス定義のコードを実行した上で、次のコードを実行してみよう。"
   ]
  },
  {
   "cell_type": "code",
   "execution_count": null,
   "id": "7ee4face",
   "metadata": {},
   "outputs": [],
   "source": [
    "print(Fraction(1, 3) + Fraction(1, 5))"
   ]
  },
  {
   "cell_type": "code",
   "execution_count": null,
   "id": "4cc3fa0d",
   "metadata": {},
   "outputs": [],
   "source": [
    "print(Fraction(2, 3) * Fraction(3, 5))"
   ]
  }
 ],
 "metadata": {
  "kernelspec": {
   "display_name": "Python 3 (ipykernel)",
   "language": "python",
   "name": "python3"
  },
  "language_info": {
   "codemirror_mode": {
    "name": "ipython",
    "version": 3
   },
   "file_extension": ".py",
   "mimetype": "text/x-python",
   "name": "python",
   "nbconvert_exporter": "python",
   "pygments_lexer": "ipython3",
   "version": "3.9.5"
  },
  "vscode": {
   "interpreter": {
    "hash": "aee8b7b246df8f9039afb4144a1f6fd8d2ca17a180786b69acc140d282b71a49"
   }
  }
 },
 "nbformat": 4,
 "nbformat_minor": 5
}
