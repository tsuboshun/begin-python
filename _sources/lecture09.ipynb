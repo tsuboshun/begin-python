{
 "cells": [
  {
   "cell_type": "markdown",
   "id": "52b9c04c",
   "metadata": {},
   "source": [
    "# 第9回 アルゴリズム入門：データの整列"
   ]
  },
  {
   "cell_type": "markdown",
   "id": "0f3467e6",
   "metadata": {},
   "source": [
    "___\n",
    "[![Open In Colab](https://colab.research.google.com/assets/colab-badge.svg)](https://colab.research.google.com/github/tsuboshun/begin-python/blob/gh-pages/_sources/workbook/lecture09.ipynb)\n",
    "\n",
    "___"
   ]
  },
  {
   "cell_type": "markdown",
   "id": "9ba5723c",
   "metadata": {},
   "source": [
    "## この授業で学ぶこと"
   ]
  },
  {
   "cell_type": "markdown",
   "id": "49246d72",
   "metadata": {},
   "source": [
    "今回から第11回にかけて、アルゴリズムの基礎について学ぶ。\n",
    "アルゴリズムとは、問題を解決するための手順のことを言う。アルゴリズムの主な目的は、問題を正確かつ効率的に解くことである。\n",
    "\n",
    "実はこれまでのテキストでも、練習問題や課題を通じて、アルゴリズムと言えるような手順をプログラムに起こす経験を積んできている。\n",
    "特に、どのような入力に対しても正しい答えを出力するようなプログラムを多く書いたと思うが、これがまさに問題を正確に解くということである。\n",
    "\n",
    "一方で、問題を効率的に解くことについては、これまであまり考えてこなかった。\n",
    "今回の授業では、データの整列を題材にいくつかの解法を紹介し、それらの実行速度に差があることを見る。"
   ]
  },
  {
   "cell_type": "markdown",
   "id": "a22d0b71",
   "metadata": {},
   "source": [
    "### 準備"
   ]
  },
  {
   "cell_type": "code",
   "execution_count": null,
   "id": "f4d164e1",
   "metadata": {
    "tags": [
     "hide-output"
    ]
   },
   "outputs": [],
   "source": [
    "pip install faker"
   ]
  },
  {
   "cell_type": "code",
   "execution_count": null,
   "id": "f8ba5afb",
   "metadata": {},
   "outputs": [],
   "source": [
    "import time\n",
    "import random\n",
    "import itertools\n",
    "from faker import Faker"
   ]
  },
  {
   "cell_type": "code",
   "execution_count": null,
   "id": "ce774af6",
   "metadata": {},
   "outputs": [],
   "source": [
    "fake = Faker()\n",
    "\n",
    "N = 10**5\n",
    "data = []\n",
    "for i in range(N):\n",
    "    data.append(fake.name())"
   ]
  },
  {
   "cell_type": "markdown",
   "id": "55860b28",
   "metadata": {},
   "source": [
    "## ソートとは"
   ]
  },
  {
   "cell_type": "markdown",
   "id": "d7378be9",
   "metadata": {},
   "source": [
    "データをとある規則にもとづいて順番に並び替えることを**ソート**という。\n",
    "例えば、整数のリスト\n",
    "<pre>[8, 4, 5, 1, 2]</pre>\n",
    "について、これを小さい順（**昇順**）にソートすると\n",
    "<pre>[1, 2, 4, 5, 8]</pre>\n",
    "となる。また大きい順（**降順**）にソートすると\n",
    "<pre>[8, 5, 4, 2, 1]</pre>\n",
    "となる。\n",
    "\n",
    "文字列データを辞書順にソートする操作もよく行われる。\n",
    "例えば、英単語のリスト\n",
    "<pre>[\"carrot\", \"onion\", \"eggplant\", \"beet\"]</pre>\n",
    "を辞書順にソートすると\n",
    "<pre>[\"beet\", \"carrot\", \"eggplant\", \"onion\"]</pre>\n",
    "となる。\n",
    "\n",
    "今回は簡単のため数値データについては昇順、文字列データについては辞書順に並べることのみを考える。\n",
    "\n",
    "ソートは利用頻度の高い基本的な操作なので、数多くのアルゴリズムが考案されている。\n",
    "今回はその中から**挿入ソート**と**クイックソート**を紹介する。"
   ]
  },
  {
   "cell_type": "markdown",
   "id": "36d99f86",
   "metadata": {},
   "source": [
    "## 挿入ソート"
   ]
  },
  {
   "cell_type": "markdown",
   "id": "4da03002",
   "metadata": {},
   "source": [
    "挿入ソートは、簡単に言えば左から順に揃える方法である。"
   ]
  },
  {
   "cell_type": "code",
   "execution_count": null,
   "id": "00cf737f",
   "metadata": {},
   "outputs": [],
   "source": [
    "def insert_sort(x):\n",
    "    for i in range(1, len(x)):\n",
    "        # ソートされていない要素を取り出す\n",
    "        key = x[i]\n",
    "        # ソート済みの部分から、挿入する場所を探す\n",
    "        j = i - 1\n",
    "        while j >= 0 and x[j] > key:\n",
    "            x[j + 1] = x[j]\n",
    "            j -= 1\n",
    "        # 見つかった場所に要素を挿入する\n",
    "        x[j + 1] = key\n",
    "    return x"
   ]
  },
  {
   "cell_type": "code",
   "execution_count": null,
   "id": "575820fa",
   "metadata": {},
   "outputs": [],
   "source": [
    "x = data[:10**4]\n",
    "\n",
    "start = time.time()\n",
    "insert_sort(x)\n",
    "end = time.time()\n",
    "\n",
    "print(f\"実行時間: {end - start:.4f}秒\")"
   ]
  },
  {
   "cell_type": "markdown",
   "id": "a32a06c0",
   "metadata": {},
   "source": [
    "## クイックソート"
   ]
  },
  {
   "cell_type": "code",
   "execution_count": null,
   "id": "82681161",
   "metadata": {},
   "outputs": [],
   "source": [
    "def quick_sort(x):\n",
    "    if len(x) <= 1:\n",
    "        return x\n",
    "    \n",
    "    # 右端を pivot とする\n",
    "    pivot = x[-1]\n",
    "    \n",
    "    # pivot未満のデータを左から詰めていくため、indexを0で初期化\n",
    "    i = 0 \n",
    "    for j in range(len(x) - 1):\n",
    "        if x[j] < pivot:\n",
    "            x[i], x[j] = x[j], x[i]\n",
    "            i += 1 # i 番目より左は常にpivot未満のデータが入っていることに注意\n",
    "            \n",
    "    # pivotの値をi番目と交換することで、 xの中身は[pivot未満のデータ], pivot, [pivot以上のデータ] という順になる\n",
    "    x[i], x[-1] = x[-1], x[i] \n",
    "    \n",
    "    quick_sort(x[:i])\n",
    "    quick_sort(x[i+1:])"
   ]
  },
  {
   "cell_type": "code",
   "execution_count": null,
   "id": "be358973",
   "metadata": {},
   "outputs": [],
   "source": [
    "x = data[:10**4]\n",
    "\n",
    "start = time.time()\n",
    "quick_sort(x)\n",
    "end = time.time()\n",
    "\n",
    "print(f\"実行時間: {end - start:.4f}秒\")"
   ]
  }
 ],
 "metadata": {
  "kernelspec": {
   "display_name": "Python 3 (ipykernel)",
   "language": "python",
   "name": "python3"
  },
  "language_info": {
   "codemirror_mode": {
    "name": "ipython",
    "version": 3
   },
   "file_extension": ".py",
   "mimetype": "text/x-python",
   "name": "python",
   "nbconvert_exporter": "python",
   "pygments_lexer": "ipython3",
   "version": "3.9.5"
  },
  "vscode": {
   "interpreter": {
    "hash": "aee8b7b246df8f9039afb4144a1f6fd8d2ca17a180786b69acc140d282b71a49"
   }
  }
 },
 "nbformat": 4,
 "nbformat_minor": 5
}
