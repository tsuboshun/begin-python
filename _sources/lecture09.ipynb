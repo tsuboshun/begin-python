{
 "cells": [
  {
   "cell_type": "markdown",
   "id": "52b9c04c",
   "metadata": {},
   "source": [
    "# 第9回 アルゴリズム入門：データの整列"
   ]
  },
  {
   "cell_type": "markdown",
   "id": "0f3467e6",
   "metadata": {},
   "source": [
    "___\n",
    "[![Open In Colab](https://colab.research.google.com/assets/colab-badge.svg)](https://colab.research.google.com/github/tsuboshun/begin-python/blob/gh-pages/_sources/workbook/lecture09.ipynb)\n",
    "\n",
    "___"
   ]
  },
  {
   "cell_type": "markdown",
   "id": "9ba5723c",
   "metadata": {},
   "source": [
    "## この授業で学ぶこと"
   ]
  },
  {
   "cell_type": "markdown",
   "id": "49246d72",
   "metadata": {},
   "source": [
    "今回から第11回にかけて、アルゴリズムの基礎について学ぶ。\n",
    "アルゴリズムとは、問題を解決するための手順のことを言う。アルゴリズムの主な目的は、問題を正確かつ効率的に解くことである。\n",
    "\n",
    "実はこれまでのテキストでも、練習問題や課題を通じて、アルゴリズムと言えるような手順をプログラムに起こす経験を積んできている。\n",
    "特に、どのような入力に対しても正しい答えを出力するようなプログラムを多く書いたと思うが、これがまさに問題を正確に解くということである。\n",
    "\n",
    "一方で、問題を効率的に解くことについては、これまであまり考えてこなかった。\n",
    "今回の授業では、データの整列を題材にいくつかのアルゴリズムを紹介し、それらの実行速度に差があることを見る。"
   ]
  },
  {
   "cell_type": "markdown",
   "id": "55860b28",
   "metadata": {},
   "source": [
    "## ソートとは"
   ]
  },
  {
   "cell_type": "markdown",
   "id": "d7378be9",
   "metadata": {},
   "source": [
    "データをとある規則にもとづいて順番に並び替えることを**ソート**（整列）という。\n",
    "例えば、整数のリスト\n",
    "<pre>[8, 4, 5, 1, 2]</pre>\n",
    "について、これを小さい順（**昇順**）にソートすると\n",
    "<pre>[1, 2, 4, 5, 8]</pre>\n",
    "となる。また大きい順（**降順**）にソートすると\n",
    "<pre>[8, 5, 4, 2, 1]</pre>\n",
    "となる。\n",
    "\n",
    "文字列を辞書順にソートする操作もよく行われる。\n",
    "例えば、文字列のリスト\n",
    "<pre>[\"carrot\", \"onion\", \"eggplant\", \"beet\", \"cabbage\"]</pre>\n",
    "を辞書順にソートすると\n",
    "<pre>[\"beet\", \"cabbage\", \"carrot\", \"eggplant\", \"onion\"]</pre>\n",
    "となる。\n",
    "\n",
    "今回は簡単のためリストデータのみを考え、さらに数値については昇順、文字列については辞書順に並べることに限定して考える。\n",
    "\n",
    "ソートは使用頻度の高い基本的な操作なので、数多くのアルゴリズムが考案されている。\n",
    "今回はその中から代表的な**挿入ソート**と**クイックソート**を紹介する。\n",
    "\n",
    "なお、実用上はリストの `sort()` メソッドや、組み込み関数の `sorted()` を使えばよい。\n",
    "ここではアルゴリズムの学習のため、これらのメソッド・関数には頼らずに1からプログラムを作成することを考える。"
   ]
  },
  {
   "cell_type": "markdown",
   "id": "4d174d66",
   "metadata": {},
   "source": [
    "```{admonition} リストの要素の交換\n",
    ":class: note\n",
    "ソートアルゴリズムの実装では、リストの要素の交換をよく行う。\n",
    "例えば、`x = [2, 3]` というリストがあったとして、これの1番目と2番目の要素を入れ替えたいとする。\n",
    "\n",
    "次のコードは意図した結果にならない。\n",
    "<pre>x[0] = x[1]  # この時点で x = [3, 3] になる\n",
    "x[1] = x[0]  # x = [3, 3]</pre>\n",
    "\n",
    "上記の方法では上手くいかないので、変数の値を一時的に保存する `tmp` 変数を用意して次のように書くのが一般的な方法である。\n",
    "<pre>tmp = x[0]\n",
    "x[0] = x[1]\n",
    "x[1] = tmp</pre>\n",
    "\n",
    "Pythonでは、次のように簡潔な記法でも値を交換することができる。特に理由がなければ、以下の方法を使おう。\n",
    "<pre>x[0], x[1] = x[1], x[0]\n",
    "</pre>\n",
    "```"
   ]
  },
  {
   "cell_type": "markdown",
   "id": "36d99f86",
   "metadata": {},
   "source": [
    "## 挿入ソート"
   ]
  },
  {
   "cell_type": "markdown",
   "id": "4da03002",
   "metadata": {},
   "source": [
    "挿入ソートは、簡単に言えば左から順に整列する方法である。\n",
    "挿入ソートが数字を昇順に並び替える様子を、次の図に示す。"
   ]
  },
  {
   "cell_type": "markdown",
   "id": "c57bd82e",
   "metadata": {},
   "source": [
    "```{figure} ./pic/insert_sort.png\n",
    "---\n",
    "width: 300px\n",
    "name: insert_sort\n",
    "---\n",
    "挿入ソート：ループごとの整列の様子\n",
    "```"
   ]
  },
  {
   "cell_type": "markdown",
   "id": "e6e88037",
   "metadata": {},
   "source": [
    "あとで挿入ソートを `insert_sort()` 関数として実装するが、その内部でfor文を使用している。\n",
    "上図では、上から順にループ1回あたりの操作を示している。\n",
    "\n",
    "要素数が7のとき全部で6回のループ処理が行われるが、各ループで行っていることを言葉にすると次の通りである。\n",
    "- 1回目のループでは、左から2番目までの要素を昇順に並んだ状態にする。\n",
    "- 2回目のループでは、左から3番目までの要素を昇順に並んだ状態にする。  \n",
    "...\n",
    "- 6回目のループでは、左から7番目までの要素を昇順に並んだ状態にする。\n",
    "\n",
    "トランプなどのカードゲームにおいて、カードを並び替えるときに挿入ソートに近い方法を取る人は多いのではないだろうか。それくらい直感的でわかりやすい方法である。\n",
    "\n",
    "それでは、挿入ソートを実装してみよう。\n",
    "以下に未完成の `insert_sort()` 関数を用意した。\n",
    "`#ここに何か書く` とある位置に1行のコードを追加することで、プログラムを完成させてみてほしい。\n",
    "\n",
    "なお `verbose` というデフォルト引数により、オプションとして途中経過を出力できるようにしている。\n",
    "デフォルト値は `False` なので、単に `insert_sort(x)` と呼び出せば何も出力されない。\n",
    "一方で、`insert_sort(x, True)` や `insert_sort(x, verbose=True)` と呼び出すと途中経過を確認することができる。\n",
    "また関数に戻り値はなく、引数に渡した `x` を直接書き換えるコードとなっていることに注意する。"
   ]
  },
  {
   "cell_type": "code",
   "execution_count": null,
   "id": "00cf737f",
   "metadata": {},
   "outputs": [],
   "source": [
    "def insert_sort(x, verbose=False):  # verboseは詳細の意味\n",
    "    for i in range(1, len(x)):\n",
    "        key = x[i]  # 矢印の要素\n",
    "        j = i - 1\n",
    "        while j >= 0 and x[j] > key:\n",
    "            # ここに何か書く\n",
    "            j -= 1\n",
    "            \n",
    "        if verbose:\n",
    "            print(f\"{i}回目のループ終了時： {x}\")\n",
    "    return"
   ]
  },
  {
   "cell_type": "code",
   "execution_count": null,
   "id": "575820fa",
   "metadata": {},
   "outputs": [],
   "source": [
    "x = [6, 3, 5, 1, 7, 2, 4]\n",
    "insert_sort(x, verbose=True)\n",
    "print(x)"
   ]
  },
  {
   "cell_type": "markdown",
   "id": "a32a06c0",
   "metadata": {},
   "source": [
    "## クイックソート"
   ]
  },
  {
   "cell_type": "markdown",
   "id": "5d6e9b70",
   "metadata": {},
   "source": [
    "クイックソートは、リストを部分に分割し、それぞれに対して再帰的に整列を行うことで全体を整列する方法である。\n",
    "クイックソートが数字を昇順に並べる様子を、次の図に示す。"
   ]
  },
  {
   "cell_type": "markdown",
   "id": "e50778ad",
   "metadata": {},
   "source": [
    "```{figure} ./pic/quick_sort1.png\n",
    "---\n",
    "width: 300px\n",
    "name: quick_sort1\n",
    "---\n",
    "クイックソート：再帰呼び出しごとの整列の様子\n",
    "```"
   ]
  },
  {
   "cell_type": "markdown",
   "id": "08952c93",
   "metadata": {},
   "source": [
    "あとでクイックソートを `quick_sort()` 関数として実装するが、その内部で再帰呼び出しを行っている。 \n",
    "上図では、上から順に再帰呼び出しごとの操作を表しており、青の領域ごとに `quick_sort()` 関数を適用していることを表している。\n",
    "\n",
    "それぞれの段で行っていることを言葉にすると次の通りである。\n",
    "- 1段目ではリスト全体に対して `quick_sort()` を適用する。右端の要素を**ピボット**とし、ピボットより小さい要素を左に寄せ、ピボット以上の要素を右に寄せ、それらの間にピボットを置く。\n",
    "- 2段目では（1段目の）ピボットの両側について、それぞれに `quick_sort()` を適用する。それぞれのリストの右端の要素をピボットとし、それぞれのリスト内で先ほどと同様の処理を行う。\n",
    "- 3段目では（2段目の）各ピボットの両側について、それぞれに `quick_sort()` を適用する。今回はどれも要素数1なので、並び替えは行われない。\n",
    "\n",
    "1段目の操作の詳細を図示したものが、次の図である。"
   ]
  },
  {
   "cell_type": "markdown",
   "id": "c33bce78",
   "metadata": {},
   "source": [
    "```{figure} ./pic/quick_sort2.png\n",
    "---\n",
    "width: 300px\n",
    "name: quick_sort2\n",
    "---\n",
    "クイックソート： {numref}`quick_sort1` 1段目の操作の詳細\n",
    "```"
   ]
  },
  {
   "cell_type": "markdown",
   "id": "78ebf935",
   "metadata": {},
   "source": [
    "左端から順にピボットより小さい要素を埋めていく。左に位置する青矢印は次に埋めるべき位置を表している。\n",
    "青矢印と灰矢印を次のように動かしていく。\n",
    "1. 青矢印と灰矢印を1番目の要素からスタートさせる\n",
    "2. 灰矢印を1つずつ右へ進めていってピボットより小さい要素を探す\n",
    "3. ピボットより小さい要素が見つかったら、両矢印の要素を交換し、青矢印を右へ1つ進めて2に戻る\n",
    "  - （青矢印と灰矢印が同じ位置の場合は、交換しても何も起こらない）\n",
    "4. ピボットより小さい要素が見つからなかったら、そこで処理を終了し、最後に青矢印の要素とピボットを交換する。\n",
    "\n",
    "上記手順を終えると、[ピボットより小さい要素] [ピボット] [ピボット以上の要素] の順に要素が並んだ状態になる。\n",
    "あとはピボットの両側の要素に対して再帰的に `quick_sort()` 関数を適用すれば、全体が整列した状態にすることができる。"
   ]
  },
  {
   "cell_type": "markdown",
   "id": "51bbf74d",
   "metadata": {},
   "source": [
    "挿入ソートに比べるとあまり直感的な方法ではないと感じるかもしれないが、実はプログラミングの世界では典型的と言えるような問題の解き方をしている。\n",
    "このように問題を部分に分割して再帰的に解き、それらを合わせて全体の問題を解く方法を**分割統治法**（divide-and-conquer）という。\n",
    "\n",
    "それでは、クイックソートを実装してみよう。\n",
    "以下に未完成の `quick_sort()` 関数を用意した。\n",
    "`return` の手前に2行のコードを追加することで、プログラムを完成させてみてほしい。\n",
    "\n",
    "なお `insert_sort()` 関数とは異なり、`quick_sort()` 関数はソートする範囲を `left` と `right` という引数で指定できるようにしている。\n",
    "`left` は左端のインデックス、`right` は右端のインデックスを表す。これらの引数は、リストの一部分を再帰的にソートする際に必要になる。"
   ]
  },
  {
   "cell_type": "code",
   "execution_count": null,
   "id": "82681161",
   "metadata": {},
   "outputs": [],
   "source": [
    "def quick_sort(x, left, right, verbose=False):\n",
    "    if right - left <= 0:\n",
    "        return\n",
    "    if verbose:\n",
    "        print(f\"quick_sort(x, {left}, {right}) 呼び出し時: {x}\")\n",
    "    \n",
    "    pivot = x[right] # 右端をpivotとする\n",
    "    \n",
    "    i = left # i: 青矢印\n",
    "    for j in range(left, right): # j: 灰矢印\n",
    "        if x[j] < pivot:\n",
    "            x[i], x[j] = x[j], x[i]\n",
    "            i += 1\n",
    "            \n",
    "    # pivotの値をi番目と交換することで、 xの中身は[pivot未満のデータ], pivot, [pivot以上のデータ] という順になる\n",
    "    x[i], x[right] = x[right], x[i]\n",
    "    \n",
    "    if verbose:\n",
    "        print(f\"再帰呼び出し前： {x}\\n\")\n",
    "        \n",
    "    # ここに再帰呼び出しのコードを書く\n",
    "    return"
   ]
  },
  {
   "cell_type": "code",
   "execution_count": null,
   "id": "650f7963",
   "metadata": {},
   "outputs": [],
   "source": [
    "x = [6, 3, 5, 1, 7, 2, 4]\n",
    "quick_sort(x, 0, len(x)-1, verbose=True)\n",
    "print(x)"
   ]
  },
  {
   "cell_type": "markdown",
   "id": "403fcd61",
   "metadata": {},
   "source": [
    "## 実行時間の比較"
   ]
  },
  {
   "cell_type": "markdown",
   "id": "82516bbe",
   "metadata": {},
   "source": [
    "挿入ソートとクイックソートの大きな違いとして、データ数が増えたときの実行時間の増え方が挙げられる。\n",
    "実験して確かめてみよう。\n",
    "\n",
    "まず実行時間の測定方法について説明する。  \n",
    "`exec_time()` 関数は、`algo` で指定したソートの実行時間を測定し戻り値として返す。\n",
    "timeモジュールの `time.time()` 関数を利用しているが、これはUNIX時間（1970年1月1日午前0時0分0秒からの経過秒数）を返す関数である。\n",
    "`exec_time()` では、ソートの実行前後のUNIX時間の差から、ソートの実行時間を求めている。"
   ]
  },
  {
   "cell_type": "code",
   "execution_count": null,
   "id": "bdf1c199",
   "metadata": {},
   "outputs": [],
   "source": [
    "import time\n",
    "\n",
    "def exec_time(x, algo):\n",
    "    start = time.time()\n",
    "    if algo == \"insert\":\n",
    "        insert_sort(x)\n",
    "    else:\n",
    "        quick_sort(x, 0, len(x)-1)\n",
    "    end = time.time()\n",
    "    return end - start"
   ]
  },
  {
   "cell_type": "markdown",
   "id": "9c58ec6e",
   "metadata": {},
   "source": [
    "以下の `generate_data()` 関数は、ランダムな0以上1未満の小数を要素とするサイズ `N` のリストを生成する。\n",
    "生成されたリストを使って、ソートにかかる時間を測定してみよう。\n",
    "`N = 10**2` くらいまでは挿入ソートとクイックソートの間に大きな差はないが、`N = 10**4` くらいになるとクイックソートの方が明らかに速いことが確かめられる。"
   ]
  },
  {
   "cell_type": "code",
   "execution_count": null,
   "id": "5a570554",
   "metadata": {},
   "outputs": [],
   "source": [
    "import random\n",
    "\n",
    "def generate_data(N):\n",
    "    data = []\n",
    "    for i in range(N):\n",
    "        data.append(random.random())  # random.random()は0以上1未満の小数を返す\n",
    "    return data"
   ]
  },
  {
   "cell_type": "code",
   "execution_count": null,
   "id": "845cfe31",
   "metadata": {},
   "outputs": [],
   "source": [
    "N = 10 ** 2\n",
    "x1 = generate_data(N)\n",
    "x2 = x1.copy()  # 同じデータを使用するためにコピーする\n",
    "\n",
    "print(f\"挿入ソートの実行時間: {exec_time(x1, 'insert'):.6f}\")\n",
    "print(f\"クイックソートの実行時間: {exec_time(x2, 'quick'):.6f}\")"
   ]
  },
  {
   "cell_type": "markdown",
   "id": "7595e892",
   "metadata": {},
   "source": [
    "## 演習"
   ]
  },
  {
   "cell_type": "markdown",
   "id": "94ae649d",
   "metadata": {},
   "source": [
    "以下は、第8回までの内容の復習問題である。"
   ]
  },
  {
   "cell_type": "markdown",
   "id": "89f828fd",
   "metadata": {},
   "source": [
    "**課題1**  \n",
    "整数 `x` が与えられる。 `x` が偶数のとき `\"偶数\"`、そうでないとき `\"奇数\"` と出力するプログラムを書きなさい。"
   ]
  },
  {
   "cell_type": "code",
   "execution_count": null,
   "id": "f8890ede",
   "metadata": {},
   "outputs": [],
   "source": [
    "# x の一例 \n",
    "x = 2\n",
    "\n",
    "### （出席課題）以下を埋めて、ここの部分のみ提出する。出力にはprint()関数を使うこと。\n",
    "\n",
    "\n",
    "###"
   ]
  },
  {
   "cell_type": "markdown",
   "id": "6b02f39a",
   "metadata": {},
   "source": [
    "**課題2**  \n",
    "引数として整数 `x` を受け取り、x が偶数のとき `True`、そうでないとき `False` を戻り値として返す関数 `is_even()`を作成しなさい。"
   ]
  },
  {
   "cell_type": "code",
   "execution_count": null,
   "id": "3a090d19",
   "metadata": {},
   "outputs": [],
   "source": [
    "### （出席課題）コード全体を提出する。\n",
    "\n",
    "def is_even(x):\n",
    "    pass  # ここに適切なコードを書く\n",
    "\n",
    "###"
   ]
  },
  {
   "cell_type": "markdown",
   "id": "af515c1c",
   "metadata": {},
   "source": [
    "**課題3**  \n",
    "整数からなるリスト `data` が与えられる。リストの要素について偶数の要素の数を求めて出力するプログラムを作成しなさい。"
   ]
  },
  {
   "cell_type": "code",
   "execution_count": null,
   "id": "02bda6b9",
   "metadata": {},
   "outputs": [],
   "source": [
    "# dataの一例 （この例では3と出力するのが正しい）\n",
    "data = [2, 3, 4, 5, 6]\n",
    "\n",
    "### （出席課題） 以下を埋めて、ここの部分のみ提出する。出力にはprint()関数を使うこと。\n",
    "\n",
    "count = 0\n",
    "for v in data:\n",
    "    pass\n",
    "\n",
    "print(count)\n",
    "\n",
    "### "
   ]
  }
 ],
 "metadata": {
  "kernelspec": {
   "display_name": "Python 3 (ipykernel)",
   "language": "python",
   "name": "python3"
  },
  "language_info": {
   "codemirror_mode": {
    "name": "ipython",
    "version": 3
   },
   "file_extension": ".py",
   "mimetype": "text/x-python",
   "name": "python",
   "nbconvert_exporter": "python",
   "pygments_lexer": "ipython3",
   "version": "3.9.5"
  },
  "vscode": {
   "interpreter": {
    "hash": "aee8b7b246df8f9039afb4144a1f6fd8d2ca17a180786b69acc140d282b71a49"
   }
  }
 },
 "nbformat": 4,
 "nbformat_minor": 5
}
