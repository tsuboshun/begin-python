{
 "cells": [
  {
   "cell_type": "markdown",
   "id": "52b9c04c",
   "metadata": {},
   "source": [
    "# 第14回 データの読み方"
   ]
  },
  {
   "cell_type": "markdown",
   "id": "0f3467e6",
   "metadata": {},
   "source": [
    "___\n",
    "[![Open In Colab](https://colab.research.google.com/assets/colab-badge.svg)](https://colab.research.google.com/github/tsuboshun/begin-python/blob/gh-pages/_sources/workbook/lecture14.ipynb)\n",
    "\n",
    "___"
   ]
  },
  {
   "cell_type": "markdown",
   "id": "9ba5723c",
   "metadata": {},
   "source": [
    "## この授業で学ぶこと"
   ]
  },
  {
   "cell_type": "markdown",
   "id": "49246d72",
   "metadata": {},
   "source": [
    "準備中"
   ]
  },
  {
   "cell_type": "markdown",
   "id": "9855e9f4",
   "metadata": {},
   "source": [
    "## データの種類"
   ]
  },
  {
   "cell_type": "markdown",
   "id": "751516a7",
   "metadata": {},
   "source": [
    "データ分析を行うにあたって、どのような種類のデータを扱っているかを認識することが重要である。\n",
    "この節では、データの大まかな分類について説明する。\n",
    "\n",
    "まず、データは大まかに質的変数と量的変数に分けられる。\n",
    "質的変数はさらに名義尺度と順序尺度に分類され、量的変数はさらに間隔尺度と比例尺度に分類される。"
   ]
  },
  {
   "cell_type": "markdown",
   "id": "e91bc034",
   "metadata": {},
   "source": [
    "| 種類 | 尺度 | 概要 | 例 |\n",
    "| --- | --- | --- | --- |\n",
    "| 質的変数 | 名義尺度 | 分類のための尺度。順番にも間隔にも意味がない。 | 性別、血液型  |\n",
    "| 質的変数 | 順序尺度 | 分類のための尺度。順番に意味があるが、間隔に意味がない。 | 5段階評価 |\n",
    "| 量的変数 | 間隔尺度 | 量を表す尺度。順序にも間隔にも意味があるが、比率に意味がない。| 温度、西暦 |\n",
    "| 量的変数 | 比例尺度 | 量を表す尺度。順序・間隔・比率に意味がある。 | 金額、重さ |"
   ]
  },
  {
   "cell_type": "markdown",
   "id": "255bcf1e",
   "metadata": {},
   "source": [
    "それぞれの尺度の概要は、上の表の通りである。例をもとに具体的に説明しよう。\n",
    "\n",
    "名義尺度の例として、性別が挙げられる。\n",
    "例えば男性を0、女性を1としてデータを集計したとして、この0と1という数値の順番にも間隔にも意味はない。\n",
    "\n",
    "順序尺度の例として、5段階評価が挙げられる。\n",
    "例えば顧客の満足度を1から5の整数で表してデータを集計したとして、これらの数値の順序には意味があるが、間隔には意味がない。\n",
    "評価5は大満足、評価4は満足を表すのであって、大満足と満足の差を数値で表すことはできない。\n",
    "\n",
    "間隔尺度の例として、温度（℃）が挙げられる。\n",
    "温度は順序にも間隔にも意味がある。しかし、0℃は人間が適当に決めた基準であって、それ以下がないという意味の絶対的な0度ではない。したがって、30℃は15℃の2倍という主張にあまり意味がない。実際、華氏（℉）に直すと30℃は86℉、15℃は59℉であり、0度の基準が異なれば、先ほどの主張が成立しなくなる。\n",
    "\n",
    "比例尺度の例として、金額が挙げられる。金額は順序・間隔・比率に意味がある。例えば、100円玉を5枚集めると500円になるので、500円は100円の5倍という主張は正しい。"
   ]
  },
  {
   "cell_type": "markdown",
   "id": "17e959c6",
   "metadata": {},
   "source": [
    "## データの分布と代表値"
   ]
  },
  {
   "cell_type": "markdown",
   "id": "b31372b5",
   "metadata": {},
   "source": [
    "### 分布の可視化"
   ]
  },
  {
   "cell_type": "markdown",
   "id": "c8c9c214",
   "metadata": {},
   "source": [
    "データの分布を確認すると、データの全体的なパターンや構造、傾向を理解することができる。そのためデータ分析の最初の一歩として、データの分布を確認することが多い。この節ではデータの分布を確認するための方法をいくつか学ぶ。\n",
    "\n",
    "この節で利用するライブラリのimportを行う。前回も利用した `'diamonds'` というテーブルデータを利用する。"
   ]
  },
  {
   "cell_type": "code",
   "execution_count": 1,
   "id": "b98aa94d",
   "metadata": {},
   "outputs": [],
   "source": [
    "pip install japanize_matplotlib"
   ]
  },
  {
   "cell_type": "code",
   "execution_count": 22,
   "id": "e6affa4e",
   "metadata": {},
   "outputs": [],
   "source": [
    "import matplotlib.pyplot as plt\n",
    "import numpy as np\n",
    "import pandas as pd\n",
    "import seaborn as sns\n",
    "import japanize_matplotlib\n",
    "plt.rcParams.update({'font.size': 14})  # 文字サイズを14pxとする"
   ]
  },
  {
   "cell_type": "code",
   "execution_count": 5,
   "id": "c31b3871",
   "metadata": {},
   "outputs": [],
   "source": [
    "df_diamond = sns.load_dataset('diamonds')"
   ]
  },
  {
   "cell_type": "markdown",
   "id": "14ca8ff4",
   "metadata": {},
   "source": [
    "量的変数の場合はヒストグラムを描くことで、データの分布を把握することができる。\n",
    "前回の復習となるが、ダイヤモンドの価格についてヒストグラムをプロットする例を以下に示す。"
   ]
  },
  {
   "cell_type": "code",
   "execution_count": 44,
   "id": "91cf9b59",
   "metadata": {},
   "outputs": [
    {
     "data": {
      "image/png": "[encoded data removed]",
      "text/plain": [
       "<Figure size 432x288 with 1 Axes>"
      ]
     },
     "metadata": {
      "needs_background": "light"
     },
     "output_type": "display_data"
    }
   ],
   "source": [
    "# プロットの入れ物の用意\n",
    "fig, ax = plt.subplots(figsize=(6, 4))\n",
    "\n",
    "# データの用意\n",
    "x = df_diamond[\"price\"].values\n",
    "\n",
    "# ヒストグラムのプロット\n",
    "ax.hist(x, bins=10)\n",
    "\n",
    "# 軸ラベルの設定\n",
    "ax.set_xlabel(\"価格\")\n",
    "ax.set_ylabel(\"カウント\")\n",
    "\n",
    "# 表示\n",
    "plt.show()"
   ]
  },
  {
   "cell_type": "markdown",
   "id": "e614a6c4",
   "metadata": {},
   "source": [
    "質的変数の場合は棒グラフを描くことで、データの分布を把握することができる。質的変数の取る値の種類を**カテゴリ**というが、カテゴリごとのデータ数を集計して棒グラフとしてプロットする例を以下に示す。"
   ]
  },
  {
   "cell_type": "code",
   "execution_count": 43,
   "id": "20d750c4",
   "metadata": {
    "scrolled": true
   },
   "outputs": [
    {
     "data": {
      "image/png": "[encoded data removed]",
      "text/plain": [
       "<Figure size 432x288 with 1 Axes>"
      ]
     },
     "metadata": {
      "needs_background": "light"
     },
     "output_type": "display_data"
    }
   ],
   "source": [
    "# プロットの入れ物の用意\n",
    "fig, ax = plt.subplots(figsize=(6, 4))\n",
    "\n",
    "# データの用意\n",
    "cut_counts = df_diamond[\"cut\"].value_counts()\n",
    "\n",
    "# 棒グラフのプロット\n",
    "ax.bar(cut_counts.index, cut_counts.values)\n",
    "\n",
    "# 軸ラベルの設定\n",
    "ax.set_xlabel(\"カット\")\n",
    "ax.set_ylabel(\"カウント\")\n",
    "\n",
    "# 表示\n",
    "plt.show()"
   ]
  },
  {
   "cell_type": "markdown",
   "id": "7af4353e",
   "metadata": {},
   "source": [
    "ここでシリーズの `value_counts()` メソッドにより、カテゴリをラベル、そのデータ数を要素とするシリーズを作成している。Axesの `bar()` メソッドに、indexと値を渡すことで棒グラフをプロットすることができる。"
   ]
  },
  {
   "cell_type": "code",
   "execution_count": 28,
   "id": "184e9f7c",
   "metadata": {},
   "outputs": [
    {
     "data": {
      "text/plain": [
       "Ideal        21551\n",
       "Premium      13791\n",
       "Very Good    12082\n",
       "Good          4906\n",
       "Fair          1610\n",
       "Name: cut, dtype: int64"
      ]
     },
     "execution_count": 28,
     "metadata": {},
     "output_type": "execute_result"
    }
   ],
   "source": [
    "cut_counts  # カテゴリをラベル、データ数を要素とするシリーズ"
   ]
  },
  {
   "cell_type": "markdown",
   "id": "72ad1e1c",
   "metadata": {},
   "source": [
    "データの分布を確認する代わりに、分布を要約するような統計量（**代表値**）を調べることもよく行われる。代表値の例としては、平均値（または平均）、標準偏差、中央値などがある。とくにデータが正規分布にしたがうときは、平均と標準偏差だけで分布を再現することができるので、分布の情報はこれで尽きている。\n",
    "\n",
    "正規分布にしたがうデータについて、平均と標準偏差を求めて分布と照らし合わせてみよう。\n",
    "以下では、`np.random.normal()` 関数により平均10、標準偏差2の正規分布にしたがうデータを1000個生成し、そのヒストグラムを作成している。"
   ]
  },
  {
   "cell_type": "code",
   "execution_count": 45,
   "id": "6b341ba3",
   "metadata": {},
   "outputs": [
    {
     "data": {
      "image/png": "[encoded data removed]",
      "text/plain": [
       "<Figure size 432x288 with 1 Axes>"
      ]
     },
     "metadata": {
      "needs_background": "light"
     },
     "output_type": "display_data"
    }
   ],
   "source": [
    "# プロットの入れ物の用意\n",
    "fig, ax = plt.subplots(figsize=(6, 4))\n",
    "\n",
    "# データの用意\n",
    "x = np.random.normal(loc=10, scale = 2, size  = 1000)\n",
    "\n",
    "# ヒストグラムのプロット\n",
    "ax.hist(x, bins=20, range=(0, 20))\n",
    "\n",
    "# 平均、標準偏差の可視化\n",
    "mean = np.mean(x)\n",
    "std = np.std(x)\n",
    "ax.axvline(mean, linestyle='--', color='red')\n",
    "ax.axvline(mean-std, linestyle='--', color='blue')\n",
    "ax.axvline(mean+std , linestyle='--', color='blue')\n",
    "\n",
    "# 表示\n",
    "plt.show()"
   ]
  },
  {
   "cell_type": "markdown",
   "id": "2415aa06",
   "metadata": {},
   "source": [
    "`sample_data` から求まる平均を $\\mu$、標準偏差を $\\sigma$ と書くとき、$\\mu-\\sigma$、$\\mu$、$\\mu+\\sigma$ の位置を `axvline()` メソッドによりそれぞれ縦の点線として表示している。データが正規分布にしたがうとき、平均は分布のちょうど真ん中あたりに来る。また $\\sigma$ の大きさが、データの平均的な（平均値周りの）バラつきの大きさを表していることも確認できる。\n",
    "\n",
    "注意したいのが、「**平均は必ずしも普通を表さない**」ということである。例えば、先ほどのダイヤモンドの価格の例で、平均の位置を縦の点線で表示すると次のようになる。"
   ]
  },
  {
   "cell_type": "code",
   "execution_count": 46,
   "id": "1fea8cf4",
   "metadata": {},
   "outputs": [
    {
     "data": {
      "image/png": "[encoded data removed]",
      "text/plain": [
       "<Figure size 432x288 with 1 Axes>"
      ]
     },
     "metadata": {
      "needs_background": "light"
     },
     "output_type": "display_data"
    }
   ],
   "source": [
    "# プロットの入れ物の用意\n",
    "fig, ax = plt.subplots(figsize=(6, 4))\n",
    "\n",
    "# データの用意\n",
    "x = df_diamond[\"price\"].values\n",
    "\n",
    "# ヒストグラムのプロット\n",
    "ax.hist(x, bins=10)\n",
    "\n",
    "# 平均の可視化\n",
    "ax.axvline(np.mean(x), linestyle='--', color='red')\n",
    "\n",
    "# 軸ラベルの設定\n",
    "ax.set_xlabel(\"価格\")\n",
    "ax.set_ylabel(\"カウント\")\n",
    "\n",
    "# 表示\n",
    "plt.show()"
   ]
  },
  {
   "cell_type": "markdown",
   "id": "02a647fd",
   "metadata": {},
   "source": [
    "データ数のピークが左の方にある中で、平均値を普通を捉えるのは正確な表現とは言えない。この例のように分布の裾が長く、歪んだ形をしているとき、平均値はあまり良い代表値とは言えなくなる。また、このテーブルデータにたった1個1億ドルのダイヤモンドのデータを追加するだけで、平均値は右に1850ドル近くシフトする。このような**外れ値**に引っ張られるというのも、平均値の欠点の1つである。"
   ]
  },
  {
   "cell_type": "markdown",
   "id": "154a7013",
   "metadata": {},
   "source": [
    "### 変数変換"
   ]
  },
  {
   "cell_type": "markdown",
   "id": "b24019dd",
   "metadata": {},
   "source": [
    "価格のような比例尺度は、対数をとると分布の形が綺麗になることが多い。\n",
    "\n",
    "その理由は、価格の場合、差は比率で考える方が（社会の慣例として）より自然なためである。\n",
    "例えば、10ドルの商品を11ドルに値上げするのと、1000ドルの商品を1001ドルに値上げするのとでは、前者の方が大きな値上げに感じると思う。\n",
    "これは私たちが価格の差を比率で捉えることに慣れていることに起因する。\n",
    "\n",
    "価格についてそのままヒストグラムを作成すると、例えばビンの幅を1ドルとして、10ドル 〜 11ドルのデータ数を1000ドル 〜 1001ドルのデータ数と比較することになる。しかし、高価格帯における1ドルの重みは低価格帯と比べて低いので、このような分割を行うと高価格帯ほどデータ数の少ない裾の長い分布が得られやすい。一方で、価格について対数をとってからヒストグラムを作成すると、例えば10ドル 〜 11ドルのデータ数は1000ドル 〜 1100ドルのデータ数と比較されることになる。これは、$\\log a - \\log b = \\log\\frac{a}{b}$ より $\\log$ のスケールで一定間隔をとることは、元のスケールで一定比率でビンを作るのと等しくなるためである。そして、価格においては対数をとることでデータの分布は釣鐘型に近くなることが多い。\n",
    "\n",
    "価格について対数をとってから、ヒストグラムを作成する例を以下に示す。平均を赤の点線で示している。"
   ]
  },
  {
   "cell_type": "code",
   "execution_count": 54,
   "id": "01adff39",
   "metadata": {},
   "outputs": [
    {
     "data": {
      "image/png": "[encoded data removed]",
      "text/plain": [
       "<Figure size 432x288 with 1 Axes>"
      ]
     },
     "metadata": {
      "needs_background": "light"
     },
     "output_type": "display_data"
    }
   ],
   "source": [
    "# プロットの入れ物の用意\n",
    "fig, ax = plt.subplots(figsize=(6, 4))\n",
    "\n",
    "# データの用意\n",
    "x = np.log(df_diamond[\"price\"].values)\n",
    "\n",
    "# ヒストグラムのプロット\n",
    "ax.hist(x, bins=10)\n",
    "\n",
    "# 平均の可視化\n",
    "ax.axvline(np.mean(x), linestyle='--', color='red')\n",
    "\n",
    "# 軸ラベルの設定\n",
    "ax.set_xlabel(\"価格\")\n",
    "ax.set_ylabel(\"カウント\")\n",
    "\n",
    "# 表示\n",
    "plt.show()"
   ]
  },
  {
   "cell_type": "markdown",
   "id": "934f9cd2",
   "metadata": {},
   "source": [
    "### 層別分析"
   ]
  },
  {
   "cell_type": "code",
   "execution_count": 7,
   "id": "8b51f051",
   "metadata": {},
   "outputs": [],
   "source": [
    "df_titanic = sns.load_dataset('titanic')"
   ]
  },
  {
   "cell_type": "code",
   "execution_count": 8,
   "id": "d332ff7f",
   "metadata": {
    "scrolled": true
   },
   "outputs": [
    {
     "data": {
      "image/png": "[encoded data removed]",
      "text/plain": [
       "<Figure size 432x288 with 1 Axes>"
      ]
     },
     "metadata": {
      "needs_background": "light"
     },
     "output_type": "display_data"
    }
   ],
   "source": [
    "# プロットの入れ物の用意\n",
    "fig, ax = plt.subplots(figsize=(6, 4))\n",
    "\n",
    "# データの用意\n",
    "x = df_titanic[\"sex\"].values\n",
    "y = df_titanic[\"survived\"].values\n",
    "hue = df_titanic[\"pclass\"].values\n",
    "\n",
    "# 棒グラフのプロット\n",
    "sns.barplot(x=x, y=y, hue=hue, hue_order=[1, 2, 3], ax=ax)\n",
    "\n",
    "# 表示\n",
    "plt.show()"
   ]
  },
  {
   "cell_type": "code",
   "execution_count": null,
   "id": "1568abc7",
   "metadata": {},
   "outputs": [],
   "source": []
  },
  {
   "cell_type": "markdown",
   "id": "7551f3d7",
   "metadata": {},
   "source": [
    "## 相関と因果"
   ]
  },
  {
   "cell_type": "code",
   "execution_count": 9,
   "id": "10ac4a44",
   "metadata": {},
   "outputs": [
    {
     "data": {
      "image/png": "[encoded data removed]",
      "text/plain": [
       "<Figure size 432x288 with 1 Axes>"
      ]
     },
     "metadata": {
      "needs_background": "light"
     },
     "output_type": "display_data"
    }
   ],
   "source": [
    "# プロットの入れ物の用意\n",
    "fig, ax = plt.subplots()\n",
    "\n",
    "# データの用意\n",
    "x = df_diamond[\"cut\"].values\n",
    "y = df_diamond[\"price\"].values\n",
    "\n",
    "# 棒グラフのプロット\n",
    "sns.barplot(x=x, y=y, order=[\"Fair\", \"Good\", \"Very Good\", \"Premium\", \"Ideal\"], ax=ax)\n",
    "\n",
    "# 表示\n",
    "plt.show()"
   ]
  },
  {
   "cell_type": "code",
   "execution_count": 10,
   "id": "b036c457",
   "metadata": {},
   "outputs": [
    {
     "data": {
      "image/png": "[encoded data removed]",
      "text/plain": [
       "<Figure size 432x288 with 1 Axes>"
      ]
     },
     "metadata": {
      "needs_background": "light"
     },
     "output_type": "display_data"
    }
   ],
   "source": [
    "# プロットの入れ物の用意\n",
    "fig, ax = plt.subplots()\n",
    "\n",
    "# データの用意\n",
    "x = df_diamond[\"carat\"]\n",
    "y = df_diamond[\"price\"]\n",
    "\n",
    "# 散布図\n",
    "ax.scatter(x, y, alpha=0.01)\n",
    "\n",
    "# 軸の設定（対数スケール）\n",
    "ax.set_xscale('log')\n",
    "ax.set_yscale('log')\n",
    "\n",
    "# 表示\n",
    "plt.show()"
   ]
  },
  {
   "cell_type": "code",
   "execution_count": 11,
   "id": "1f0e1aab",
   "metadata": {},
   "outputs": [],
   "source": [
    "df_diamond[\"price_log\"] = np.log(df_diamond[\"price\"])\n",
    "df_diamond[\"carat_log\"] = np.log(df_diamond[\"carat\"])"
   ]
  },
  {
   "cell_type": "code",
   "execution_count": 12,
   "id": "06e07248",
   "metadata": {},
   "outputs": [],
   "source": [
    "from sklearn.linear_model import LinearRegression\n",
    "\n",
    "# データの用意\n",
    "x = df_diamond[[\"carat_log\"]].values\n",
    "y = df_diamond[\"price_log\"].values\n",
    "\n",
    "# 線型回帰モデルの用意\n",
    "lr = LinearRegression()\n",
    "\n",
    "# モデルのパラメータのフィッティング\n",
    "lr.fit(x, y)\n",
    "\n",
    "# 予測の残差\n",
    "df_diamond[\"residual\"] = y - lr.predict(x)"
   ]
  },
  {
   "cell_type": "code",
   "execution_count": 13,
   "id": "6bb0717f",
   "metadata": {},
   "outputs": [
    {
     "data": {
      "image/png": "[encoded data removed]",
      "text/plain": [
       "<Figure size 432x288 with 1 Axes>"
      ]
     },
     "metadata": {
      "needs_background": "light"
     },
     "output_type": "display_data"
    }
   ],
   "source": [
    "# プロットの入れ物の用意\n",
    "fig, ax = plt.subplots()\n",
    "\n",
    "# データの用意\n",
    "x = df_diamond[\"residual\"].values\n",
    "\n",
    "# ヒストグラムのプロット\n",
    "ax.hist(x)\n",
    "\n",
    "# 表示\n",
    "plt.show()"
   ]
  },
  {
   "cell_type": "code",
   "execution_count": 14,
   "id": "f7ed4701",
   "metadata": {},
   "outputs": [
    {
     "data": {
      "image/png": "[encoded data removed]",
      "text/plain": [
       "<Figure size 432x288 with 1 Axes>"
      ]
     },
     "metadata": {
      "needs_background": "light"
     },
     "output_type": "display_data"
    }
   ],
   "source": [
    "# プロットの入れ物の用意\n",
    "fig, ax = plt.subplots()\n",
    "\n",
    "# データの用意\n",
    "x = df_diamond[\"cut\"].values\n",
    "y = df_diamond[\"residual\"].values\n",
    "\n",
    "# 棒グラフのプロット\n",
    "sns.barplot(x=x, y=y, order=[\"Fair\", \"Good\", \"Very Good\", \"Premium\", \"Ideal\"])\n",
    "\n",
    "# 表示\n",
    "plt.show()"
   ]
  },
  {
   "cell_type": "code",
   "execution_count": null,
   "id": "3ad07928",
   "metadata": {},
   "outputs": [],
   "source": []
  }
 ],
 "metadata": {
  "kernelspec": {
   "display_name": "Python 3 (ipykernel)",
   "language": "python",
   "name": "python3"
  },
  "language_info": {
   "codemirror_mode": {
    "name": "ipython",
    "version": 3
   },
   "file_extension": ".py",
   "mimetype": "text/x-python",
   "name": "python",
   "nbconvert_exporter": "python",
   "pygments_lexer": "ipython3",
   "version": "3.9.5"
  },
  "vscode": {
   "interpreter": {
    "hash": "aee8b7b246df8f9039afb4144a1f6fd8d2ca17a180786b69acc140d282b71a49"
   }
  }
 },
 "nbformat": 4,
 "nbformat_minor": 5
}
