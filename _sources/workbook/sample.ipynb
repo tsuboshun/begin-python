{
 "cells": [
  {
   "cell_type": "markdown",
   "id": "52b9c04c",
   "metadata": {},
   "source": [
    "# 第1回 ガイダンス"
   ]
  },
  {
   "cell_type": "markdown",
   "id": "c140e8ac",
   "metadata": {},
   "source": [
    "実行環境の確認のため、以下のコードを実行してみよう。2次元ヒストグラムが表示されれば、正しく実行できている。 \n",
    "\n",
    "今は呪文のように見えるかもしれないが、授業を一通り受けたあとは読めるようになっているはずである！"
   ]
  },
  {
   "cell_type": "code",
   "execution_count": null,
   "id": "2ad4314e",
   "metadata": {},
   "outputs": [],
   "source": [
    "import matplotlib.pyplot as plt\n",
    "import numpy as np\n",
    "import pandas as pd\n",
    "df = sns.load_dataset('diamonds')"
   ]
  },
  {
   "cell_type": "code",
   "execution_count": null,
   "id": "905666eb",
   "metadata": {},
   "outputs": [],
   "source": [
    "# プロットの入れ物の用意\n",
    "fig, ax = plt.subplots()\n",
    "\n",
    "# データの用意\n",
    "x = np.log(df[\"carat\"].values)\n",
    "y = np.log(df[\"price\"].values)\n",
    "\n",
    "# 2次元ヒストグラムのプロット\n",
    "hb = ax.hexbin(x, y, gridsize=10)\n",
    "\n",
    "# カラーバーのプロット\n",
    "cb = fig.colorbar(hb, ax=ax)\n",
    "cb.set_label('Count')\n",
    "\n",
    "# 表示\n",
    "plt.show()"
   ]
  }
 ],
 "metadata": {
  "kernelspec": {
   "display_name": "Python 3 (ipykernel)",
   "language": "python",
   "name": "python3"
  },
  "language_info": {
   "codemirror_mode": {
    "name": "ipython",
    "version": 3
   },
   "file_extension": ".py",
   "mimetype": "text/x-python",
   "name": "python",
   "nbconvert_exporter": "python",
   "pygments_lexer": "ipython3",
   "version": "3.9.5"
  },
  "vscode": {
   "interpreter": {
    "hash": "aee8b7b246df8f9039afb4144a1f6fd8d2ca17a180786b69acc140d282b71a49"
   }
  }
 },
 "nbformat": 4,
 "nbformat_minor": 5
}
