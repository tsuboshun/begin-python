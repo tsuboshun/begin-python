{
 "cells": [
  {
   "cell_type": "markdown",
   "id": "52b9c04c",
   "metadata": {},
   "source": [
    "# 第5回 条件分岐"
   ]
  },
  {
   "cell_type": "markdown",
   "id": "0f3467e6",
   "metadata": {},
   "source": [
    "___\n",
    "[![Open In Colab](https://colab.research.google.com/assets/colab-badge.svg)](https://colab.research.google.com/github/tsuboshun/begin-python/blob/gh-pages/_sources/workbook/lecture05.ipynb)\n",
    "\n",
    "___"
   ]
  },
  {
   "cell_type": "markdown",
   "id": "9ba5723c",
   "metadata": {},
   "source": [
    "## この授業で学ぶこと"
   ]
  },
  {
   "cell_type": "markdown",
   "id": "49246d72",
   "metadata": {},
   "source": [
    "この授業では、条件に応じて処理内容を変える方法について学ぶ。\n",
    "また、Pythonファイルから関数やクラスを読み込む方法についても学ぶ。\n",
    "\n",
    "真偽値（`True`、`False`）をよく使うため、ブール型や比較演算子について[復習](label:bool)しておこう（`=` と `==` の違いについて覚えているだろうか？）。"
   ]
  },
  {
   "cell_type": "markdown",
   "id": "e13b4640",
   "metadata": {},
   "source": [
    "```{admonition} 授業中によく見かけたエラー\n",
    ":class: dropdown, tip\n",
    "試行錯誤するうちに、誤って `print = ` という代入文を途中で実行してしまうケースをよく見かけた。\n",
    "そうすると `print` は本来の意味ではなくなってしまうので、その先 `print()` を使用するたびにエラーが発生する。\n",
    "これを直すには、ノートブック上方のメニューバーから「ランタイム」 > 「ランタイムを再起動」を選択して、設定を初期化する必要がある。\n",
    "```"
   ]
  },
  {
   "cell_type": "markdown",
   "id": "0e610665",
   "metadata": {},
   "source": [
    "## if文"
   ]
  },
  {
   "cell_type": "markdown",
   "id": "8f58555b",
   "metadata": {},
   "source": [
    "BMI指数を計算して、その値に応じてメッセージを出力するプログラムを作成してみよう。BMIとは、身長と体重の関係から算出される肥満度を表す指数である。\n",
    "身長を $a$ cm、体重を $b$ kgとすると、BMIは $10000 b / a^2$ と定義される。"
   ]
  },
  {
   "cell_type": "code",
   "execution_count": 1,
   "id": "03fbda9a",
   "metadata": {},
   "outputs": [],
   "source": [
    "a = 193   # 大谷選手の身長、体重\n",
    "b = 95\n",
    "bmi = 10000 * b / a ** 2"
   ]
  },
  {
   "cell_type": "code",
   "execution_count": 2,
   "id": "a25b52de",
   "metadata": {},
   "outputs": [
    {
     "data": {
      "text/plain": [
       "25.50404037692287"
      ]
     },
     "execution_count": 2,
     "metadata": {},
     "output_type": "execute_result"
    }
   ],
   "source": [
    "bmi"
   ]
  },
  {
   "cell_type": "markdown",
   "id": "8605a2c6",
   "metadata": {},
   "source": [
    "BMIは18.5未満のとき「低体重」、18.5以上25未満のとき「普通体重」、25以上のとき「肥満」とされる。BMIの値に応じて、これらの情報も添えてメッセージを出力するにはどうしたら良いだろうか？\n",
    "\n",
    "このように条件をもとに処理内容を変更するときに使われるのが**if文**である。BMIの例は、if文を使うことで次のように実現できる。"
   ]
  },
  {
   "cell_type": "code",
   "execution_count": 3,
   "id": "da85ac19",
   "metadata": {},
   "outputs": [
    {
     "name": "stdout",
     "output_type": "stream",
     "text": [
      "あなたのBMIは25.50です。これは「肥満」に当たります。\n"
     ]
    }
   ],
   "source": [
    "if bmi < 18.5:\n",
    "    shape = \"低体重\"\n",
    "elif bmi < 25:\n",
    "    shape = \"普通体重\"\n",
    "else:\n",
    "    shape = \"肥満\"\n",
    "    \n",
    "message = f\"あなたのBMIは{bmi:.2f}です。これは「{shape}」に当たります。\"\n",
    "print(message)"
   ]
  },
  {
   "cell_type": "markdown",
   "id": "a223c611",
   "metadata": {},
   "source": [
    "if文の書き方について解説する。上のコードを図で表すと次のようになる。"
   ]
  },
  {
   "cell_type": "markdown",
   "id": "ea6d7f99",
   "metadata": {},
   "source": [
    "```{figure} ./pic/if.png\n",
    "---\n",
    "width: 300px\n",
    "name: if\n",
    "---\n",
    "if文の書き方\n",
    "```"
   ]
  },
  {
   "cell_type": "markdown",
   "id": "3e596812",
   "metadata": {},
   "source": [
    "条件を表す式のことを**条件式**と言う。if文では、条件式が真（`True`）か偽（`False`）かに基づいて、それに続く**ブロック**を実行するかどうかを決定する。\n",
    "条件分岐のために使われる構文には `if`、`elif`、`else` の3通りがあり、それぞれ条件式の最後にコロン `:` を置く。\n",
    "なお、この授業ではif文という言葉を、`if 条件式` という文だけではなく、`if`、`elif`、`else` を含む条件分岐の総称としても用いる。\n",
    "\n",
    "条件式に続くブロックは、**インデント**という空白文字による字下げをすることで表現する。空白文字の数はいくつでもよいが、ブロック中はインデントの大きさを揃える必要がある。基本的に、インデントは**空白文字4つ**とするのが良いとされている[^f1]。ノートブック環境では `:` を入力したあとに改行すると、自動的に空白文字4つのインデントが入れられるはずである[^f2]。\n",
    "\n",
    "if文の処理は、英語読みで理解するとよい。\n",
    "`if 条件式` は「もし条件式が真ならば」という意味である。\n",
    "`elif` はelse ifの略であり、`elif 条件式` は「もしここまでのブロックを実行しておらず、条件式が真ならば」という意味である。\n",
    "`else` は「もしここまでのブロックを実行していないならば」という意味である。\n",
    "\n",
    "BMIの例では、BMIが18.5未満のとき最初の `bmi < 18.5` が真となるため、if文以下の `shape = \"低体重\"` が実行される。\n",
    "BMIが18.5以上25未満のとき次の `bmi < 25` で初めて真となるため、elif文以下の `shape = \"普通\"` が実行される。\n",
    "BMIが25以上のとき `bmi < 18.5` と `bmi < 25` のどちらも偽となるため、else文以下の `shape = \"肥満\"` が実行される。\n",
    "\n",
    "条件分岐の流れを**フローチャート**で表現すると次のようになる。\n",
    "\n",
    "[^f1]: [PEP8](https://pep8-ja.readthedocs.io/ja/latest/)という綺麗なコードを書くための公式のガイドラインに定められている。\n",
    "[^f2]: （追記）WindowsからGoogle Colabを利用すると、インデントの大きさは空白文字2つになるようである。その場合はそれに合わせればよい。"
   ]
  },
  {
   "cell_type": "markdown",
   "id": "2b3734a5",
   "metadata": {},
   "source": [
    "```{figure} ./pic/flow.png\n",
    "---\n",
    "width: 500px\n",
    "name: flow\n",
    "---\n",
    "条件分岐の流れ\n",
    "```"
   ]
  },
  {
   "cell_type": "markdown",
   "id": "5a643e77",
   "metadata": {},
   "source": [
    "いくつか補足する。まず、if文だけの条件分岐を行うこともよくある。その場合はif文に続くブロックを実行するかどうかを、条件式により決定する。\n",
    "elif文とelse文は必要に応じて追加し、必ずif文、elif文、else文の順番にする。\n",
    "elif文は好きなだけ追加できるが、else文は1つまでである。\n",
    "\n",
    "ブロックの中にさらに条件分岐を作ることもできる。\n",
    "例えば先ほどのBMIの例は、次のように書くこともできる。"
   ]
  },
  {
   "cell_type": "code",
   "execution_count": 4,
   "id": "9ab68bf3",
   "metadata": {},
   "outputs": [
    {
     "name": "stdout",
     "output_type": "stream",
     "text": [
      "あなたのBMIは25.50です。これは「肥満」に当たります。\n"
     ]
    }
   ],
   "source": [
    "if bmi < 18.5:\n",
    "    shape = \"低体重\"\n",
    "else:\n",
    "    if bmi < 25:\n",
    "        shape = \"普通体重\"\n",
    "    else:\n",
    "        shape = \"肥満\"\n",
    "    \n",
    "message = f\"あなたのBMIは{bmi:.2f}です。これは「{shape}」に当たります。\"\n",
    "print(message)"
   ]
  },
  {
   "cell_type": "markdown",
   "id": "f2b05ed1",
   "metadata": {},
   "source": [
    "ブロックの内側にブロックを作るときは、インデントを2回行う。\n",
    "ただしブロックの階層が深くなるにつれてコードが読みづらくなるので、BMIの例では最初のようにelif文を使う方がよい。"
   ]
  },
  {
   "cell_type": "markdown",
   "id": "646ab215",
   "metadata": {},
   "source": [
    "**練習1**  \n",
    "(1) 数値データ `x` が与えられる。 `x` が正の値のとき `\"正の値\"` と出力するプログラムを書きなさい。"
   ]
  },
  {
   "cell_type": "code",
   "execution_count": 5,
   "id": "acff30de",
   "metadata": {},
   "outputs": [],
   "source": [
    "# x の一例 \n",
    "x = 2\n",
    "\n",
    "### （出席課題）以下を埋めて、ここの部分のみ提出する。出力にはprint()関数を使うこと。\n",
    "\n",
    "\n",
    "###"
   ]
  },
  {
   "cell_type": "markdown",
   "id": "7184e6c2",
   "metadata": {},
   "source": [
    "```{toggle}\n",
    "**解答例**  \n",
    "<pre style={\"white-space\": \"pre\"}>\n",
    "if x > 0:\n",
    "    print(\"正の値\")</pre>\n",
    "\n",
    "例えば、以下のように動作する。\n",
    "- `x = -1` のとき、何も出力しない\n",
    "- `x = 0` のとき、何も出力しない\n",
    "- `x = 1` のとき、`\"正の値\"` と出力する\n",
    "\n",
    "**誤答例**\n",
    "<pre style={\"white-space\": \"pre\"}>\n",
    "if x > 0:\n",
    "    ans = \"正の値\"\n",
    "print(ans)</pre>\n",
    "\n",
    "上の例は、`x` の値によってはエラーとなるため正しくない（明示的に説明していなかったので、採点上は正解とした）。例えば `x = -1` のとき、if文のブロックは実行されずにいきなり `print(ans)` が実行される。このとき `ans` という変数は未定義なので、エラーが発生する。\n",
    "\n",
    "次のように書けば問題ない。  \n",
    "<pre style={\"white-space\": \"pre\"}>\n",
    "if x > 0:\n",
    "    ans = \"正の値\"\n",
    "    print(ans)</pre>\n",
    "    \n",
    "また次のようなコードを書いた人もいた。今回は甘めに採点して正解としたが、問題の指示通りではないので本来は誤答である。また、`x = 0` のとき `\"負の値\"` と出力されてしまうので、その意味でも正しくない。\n",
    "<pre style={\"white-space\": \"pre\"}>\n",
    "if x > 0:\n",
    "    print(\"正の値\")\n",
    "else:\n",
    "    print(\"負の値\")</pre>\n",
    "    \n",
    "まとめると、**問題に書かれていない処理を追加してはいけない。またどのようなケースでもエラーにならないコードを書くこと。**\n",
    "```"
   ]
  },
  {
   "cell_type": "markdown",
   "id": "a0520f68",
   "metadata": {},
   "source": [
    "(2) 数値データ `x` が与えられる。 `x` が正の値のとき `\"正の値\"` 、そうでないとき `\"0以下の値\"` と出力するプログラムを書きなさい。"
   ]
  },
  {
   "cell_type": "code",
   "execution_count": 6,
   "id": "4b1ac826",
   "metadata": {},
   "outputs": [],
   "source": [
    "# x の一例 \n",
    "x = -1\n"
   ]
  },
  {
   "cell_type": "markdown",
   "id": "beec1446",
   "metadata": {},
   "source": [
    "```{toggle}\n",
    "解答例：\n",
    "<pre style={\"white-space\": \"pre\"}>\n",
    "if x > 0:\n",
    "    print(\"正の値\")\n",
    "else:\n",
    "    print(\"0以下の値\")</pre>\n",
    "\n",
    "例えば、以下のように動作する。\n",
    "- `x = -1` のとき、`\"0以下の値\"` と出力する\n",
    "- `x = 0` のとき、`\"0以下の値\"` と出力する\n",
    "- `x = 1` のとき、`\"正の値\"` と出力する\n",
    "```"
   ]
  },
  {
   "cell_type": "markdown",
   "id": "b939cae9",
   "metadata": {},
   "source": [
    "**練習2**  \n",
    "2つの数値 `a`、`b` の最大値を求めて出力するプログラムを、if文を使って作成しなさい。"
   ]
  },
  {
   "cell_type": "code",
   "execution_count": 7,
   "id": "23f45c4e",
   "metadata": {},
   "outputs": [],
   "source": [
    "# a, b の一例 （この例では7と出力するのが正しい）\n",
    "a = 3\n",
    "b = 7\n"
   ]
  },
  {
   "cell_type": "markdown",
   "id": "37c22753",
   "metadata": {},
   "source": [
    "```{toggle}\n",
    "解答例：\n",
    "<pre style={\"white-space\": \"pre\"}>\n",
    "if a > b:\n",
    "    m = a\n",
    "else:\n",
    "    m = b\n",
    "    \n",
    "print(m)\n",
    "</pre>\n",
    "\n",
    "例えば、以下のように動作する。\n",
    "- `a = 3`、`b = 7`のとき、`7` と出力する\n",
    "- `a = 8`、`b = 7`のとき、`8` と出力する\n",
    "```"
   ]
  },
  {
   "cell_type": "markdown",
   "id": "6c761f26",
   "metadata": {},
   "source": [
    "**練習3**  \n",
    "3つの数値 `a`、`b`、`c` の最大値を求めて出力するプログラムを、if文を使って作成しなさい。"
   ]
  },
  {
   "cell_type": "code",
   "execution_count": 8,
   "id": "4c3b533f",
   "metadata": {},
   "outputs": [],
   "source": [
    "# a, b, c の一例 （この例では7と出力するのが正しい）\n",
    "a = 3\n",
    "b = 7\n",
    "c = 2\n"
   ]
  },
  {
   "cell_type": "markdown",
   "id": "28b2697b",
   "metadata": {},
   "source": [
    "```{toggle}\n",
    "解答例：\n",
    "<pre style={\"white-space\": \"pre\"}>\n",
    "if a > b:\n",
    "    m = a\n",
    "else:\n",
    "    m = b\n",
    "    \n",
    "if m < c:\n",
    "    m = c\n",
    "\n",
    "print(m)</pre>\n",
    "\n",
    "例えば、以下のように動作する。\n",
    "- `a = 3`、`b = 7`、 `c = 2` のとき、`7` と出力する\n",
    "- `a = 8`、`b = 7`、 `c = 2` のとき、`8` と出力する\n",
    "- `a = 3`、`b = 7`、 `c = 10` のとき、`10` と出力する\n",
    "```"
   ]
  },
  {
   "cell_type": "markdown",
   "id": "1043b9ed",
   "metadata": {},
   "source": [
    "```{admonition} 式と文\n",
    ":class: note\n",
    "Pythonプログラムは主に式と文で構成される。\n",
    "式（expression）は、値を生成する構成要素であり、計算や関数の呼び出しがそれに当たる。\n",
    "一方で文（statement）は、プログラムの実行を制御する構成要素であり、変数への代入や制御構造（if文やfor文など）がそれに当たる。\n",
    "```"
   ]
  },
  {
   "cell_type": "markdown",
   "id": "37a1bd03",
   "metadata": {},
   "source": [
    "### 論理演算子"
   ]
  },
  {
   "cell_type": "markdown",
   "id": "104bacec",
   "metadata": {},
   "source": [
    "複数の条件をもとに条件分岐を行いたい場合がある。\n",
    "そんなときに用いられるのが**論理演算子**である。\n",
    "論理演算子には `and`、`or`、`not` の3種類がある。\n",
    "それぞれの意味は名前のとおりではあるが、一通り解説する。\n",
    "\n",
    "`and` は、両方の条件が満たされる場合に真を返す。\n",
    "2つの条件式 `A`、`B` があったとして、それぞれの真偽と `A and B` の真偽の関係は次のようになる。"
   ]
  },
  {
   "cell_type": "markdown",
   "id": "3e806aea",
   "metadata": {},
   "source": [
    "| A | B | A and B |\n",
    "| ----  |  ---- | ---- |\n",
    "| `True` | `True` | `True`  |\n",
    "| `True` | `False` | `False`  |\n",
    "| `False` | `True` | `False`  |\n",
    "| `False` | `False` | `False` |"
   ]
  },
  {
   "cell_type": "markdown",
   "id": "c5d66706",
   "metadata": {},
   "source": [
    "`or` は、少なくとも一つの条件が満たされる場合に真を返す。2つの条件式 `A`、`B` があったとして、それぞれの真偽と `A or B` の真偽の関係は次のようになる。"
   ]
  },
  {
   "cell_type": "markdown",
   "id": "a1d1a62d",
   "metadata": {},
   "source": [
    "| A | B | A or B |\n",
    "| ----  |  ---- | ---- |\n",
    "| `True` | `True` | `True`  |\n",
    "| `True` | `False` | `True`  |\n",
    "| `False` | `True` | `True`  |\n",
    "| `False` | `False` | `False` |"
   ]
  },
  {
   "cell_type": "markdown",
   "id": "2aa89636",
   "metadata": {},
   "source": [
    "`not` は、真偽を反転する。条件式 `A` があったとして、その真偽と `not A` の真偽の関係は次のようになる。"
   ]
  },
  {
   "cell_type": "markdown",
   "id": "a722941d",
   "metadata": {},
   "source": [
    "| A | not A |\n",
    "| ---- | ---- |\n",
    "| `True` | `False` |\n",
    "| `False` | `True` |"
   ]
  },
  {
   "cell_type": "markdown",
   "id": "a1520bf3",
   "metadata": {},
   "source": [
    "論理演算子により条件式を組み合わせていくと、算術演算子のときと同じようにどの順で実行するかが問題になる場合がある。\n",
    "例として、雨が降っているかどうか、傘を持っているかどうかの組み合わせに対して、雨に濡れるかどうかを判定するプログラムを次に示す。"
   ]
  },
  {
   "cell_type": "code",
   "execution_count": 9,
   "id": "8319da3d",
   "metadata": {},
   "outputs": [
    {
     "name": "stdout",
     "output_type": "stream",
     "text": [
      "雨に濡れません\n"
     ]
    }
   ],
   "source": [
    "rain = True\n",
    "umbrella = True\n",
    "\n",
    "if not rain or umbrella:\n",
    "    print(\"雨に濡れません\")\n",
    "else:\n",
    "    print(\"雨に濡れます\")"
   ]
  },
  {
   "cell_type": "markdown",
   "id": "cb9f6b91",
   "metadata": {},
   "source": [
    "条件式の `not rain or umbrella` は `(not rain) or umbrella` と `not (rain or umbrella)` のどちらの意味だろうか。\n",
    "上の実行結果をもとに考えてみよう。\n",
    "このように論理演算子の実行順序がわかりにくい場合には、`()`をつけてわかりやすい記述を心がけた方がよい。"
   ]
  },
  {
   "cell_type": "markdown",
   "id": "626f2a6c",
   "metadata": {},
   "source": [
    "**練習4**  \n",
    "文字列 `weather` と 整数 `temp` が与えられるとき、以下の条件にもとづいて適切なメッセージを出力するプログラムを作成しなさい。\n",
    "\n",
    "- `weather` が `\"晴れ\"` かつ `temp` が25以上なら `\"暑い日ですね\"`\n",
    "- `weather` が `\"晴れ\"` かつ `temp` が25未満なら `\"快適な日ですね\"`\n",
    "- `weather` が `\"雨\"` なら`\"傘を持っていきましょう\"`"
   ]
  },
  {
   "cell_type": "code",
   "execution_count": 10,
   "id": "6a48ff14",
   "metadata": {},
   "outputs": [],
   "source": [
    "# weather, tempの一例\n",
    "weather = \"晴れ\"\n",
    "temp = 17\n",
    "\n",
    "### （出席課題）以下を埋めて、ここの部分のみ提出する。出力にはprint()関数を使うこと。\n",
    "\n",
    "\n",
    "###"
   ]
  },
  {
   "cell_type": "markdown",
   "id": "ef28b652",
   "metadata": {},
   "source": [
    "```{toggle}\n",
    "解答例：\n",
    "<pre style={\"white-space\": \"pre\"}>\n",
    "if weather == \"晴れ\" and temp >= 25:\n",
    "    print(\"暑い日ですね\")\n",
    "elif weather == \"晴れ\" and temp < 25:\n",
    "    print(\"快適な日ですね\")\n",
    "elif weather == \"雨\":\n",
    "    print(\"傘を持っていきましょう\")\n",
    "```"
   ]
  },
  {
   "cell_type": "markdown",
   "id": "32384f9e",
   "metadata": {},
   "source": [
    "**練習5**  \n",
    "文字列 `fruit` と リスト `basket` が与えられるとき、以下の条件にもとづいて適切なメッセージを出力するプログラムを作成しなさい。\n",
    "\n",
    "- `fruit` が `basket` に含まれないなら `\"カゴにありません\"`\n",
    "\n",
    "<font color=cornflowerblue>ヒント: in演算子を使う</font>"
   ]
  },
  {
   "cell_type": "code",
   "execution_count": 11,
   "id": "bf3839fb",
   "metadata": {},
   "outputs": [],
   "source": [
    "# fruit, basketの一例\n",
    "fruit = \"みかん\"\n",
    "basket = [\"りんご\", \"キウイ\", \"バナナ\"]\n"
   ]
  },
  {
   "cell_type": "markdown",
   "id": "5e64354f",
   "metadata": {},
   "source": [
    "```{toggle}\n",
    "解答例：\n",
    "<pre style={\"white-space\": \"pre\"}>\n",
    "if not fruit in basket:\n",
    "    print(\"カゴにありません\")</pre>\n",
    "\n",
    "例えば、以下のように動作する。\n",
    "- `fruit = \"みかん\"`、`basket = [\"りんご\", \"キウイ\", \"バナナ\"]` のとき、`\"カゴにありません\"` と出力する\n",
    "- `fruit = \"バナナ\"`、`basket = [\"りんご\", \"キウイ\", \"バナナ\"]` のとき、何も出力しない\n",
    "```"
   ]
  },
  {
   "cell_type": "markdown",
   "id": "9f1661e8",
   "metadata": {},
   "source": [
    "## モジュールとimport"
   ]
  },
  {
   "cell_type": "markdown",
   "id": "145b2a0f",
   "metadata": {},
   "source": [
    "if文から話題を変えて、ここでは新しい関数やクラスをPythonに取り入れるための**import文**について学ぶ。\n",
    "これまで利用してきた関数やデータ型は、**組み込み関数**、**組み込み型**と呼ばれ、Pythonに最初から用意されていたものである。\n",
    "組み込み以外の関数やクラスは、import文により**モジュール**からインポートする（読み込む）ことで利用できるようになる。\n",
    "\n",
    "先にモジュールについて説明する。\n",
    "Pythonのモジュールとは、関数やクラス、変数などをまとめたPythonファイル（.py）のことを指す。\n",
    "モジュールは他のPythonプログラムから簡単にインポートして使用することができる。\n",
    "これにより、コードの再利用性が向上し、プログラムの構造化が可能になっている。\n",
    "また特定の機能やタスクを実行するために作成されたモジュールの集まりを**ライブラリ**という。\n",
    "Pythonには世界中の開発者により豊富なライブラリが用意されており、Pythonが人気な理由の一つになっている。\n",
    "\n",
    "さて、モジュールから関数やクラス、変数などを読み込む際に使われるのがimport文である。\n",
    "基本的な構文は、`import モジュール名` である。\n",
    "例として、randomモジュールをインポートしてみよう。"
   ]
  },
  {
   "cell_type": "code",
   "execution_count": 12,
   "id": "88512920",
   "metadata": {},
   "outputs": [
    {
     "data": {
      "text/plain": [
       "'バナナ'"
      ]
     },
     "execution_count": 12,
     "metadata": {},
     "output_type": "execute_result"
    }
   ],
   "source": [
    "import random\n",
    "\n",
    "cand = [\"りんご\", \"キウイ\", \"バナナ\"]\n",
    "random.choice(cand)"
   ]
  },
  {
   "cell_type": "markdown",
   "id": "12c6a783",
   "metadata": {},
   "source": [
    "randomモジュールの中の `choice()` 関数は、インポート後に `random.choice()` とすることで使用することができる。\n",
    "これはリストを引数として受け取り、その要素をランダムに1つ返す関数である。\n",
    "`random.choice()` という書き方はメソッドに似ているが、両者は異なる概念なので気をつけよう。\n",
    "\n",
    "インポートの構文には他にも `from モジュール名 import 関数名` のように特定の要素のみインポートする方法（その場合、使用時に `モジュール名.` は不要になる）や、`import モジュール名 as 名前` のようにモジュールの呼び名を自由に設定しながらインポートする方法（その場合 `名前.関数名` のような使い方になる）などがある。"
   ]
  },
  {
   "cell_type": "markdown",
   "id": "aa18d4b4",
   "metadata": {},
   "source": [
    "```{admonition} ライブラリのインストール\n",
    ":class: note\n",
    "ライブラリは大きく標準ライブラリと外部ライブラリに分けられる。randomモジュールは標準ライブラリの一つである。外部ライブラリの場合にはインポートする前に、そもそもライブラリのファイル群をコンピュータに**インストール**（ダウンロードし使用可能な状態にすること）する必要がある。よく使われるのは**pip**というパッケージ管理システムである。pipでライブラリをインストールするには、`pip install ライブラリ名` を実行する。\n",
    "```"
   ]
  },
  {
   "cell_type": "markdown",
   "id": "1550b405",
   "metadata": {},
   "source": [
    "## 演習"
   ]
  },
  {
   "cell_type": "markdown",
   "id": "d6150430",
   "metadata": {},
   "source": [
    "**課題1**  \n",
    "じゃんけんの勝敗を判定したい。\n",
    "自分の手 `my_choice`、相手の手 `opp_choice` が与えられるとき、引き分けかどうかを判定して、引き分けのとき `\"引き分け\"` と出力するプログラムを作成しなさい。\n",
    "引き分け以外のときは何も出力しなくてよい。\n",
    "じゃんけんの手は、`\"グー\"`、`\"チョキ\"`、`\"パー\"` の3つである。"
   ]
  },
  {
   "cell_type": "code",
   "execution_count": 13,
   "id": "fe3f2416",
   "metadata": {},
   "outputs": [],
   "source": [
    "# 以下は、my_choice と opp_choiceの一例 （この例では何も出力しないのが正しい）\n",
    "my_choice = \"グー\"\n",
    "opp_choice = \"チョキ\"\n",
    "\n",
    "### （出席課題）以下を埋めて、ここの部分のみ提出する。出力にはprint()関数を使うこと。\n",
    "\n",
    "\n",
    "###"
   ]
  },
  {
   "cell_type": "markdown",
   "id": "7bdea755",
   "metadata": {},
   "source": [
    "```{toggle}\n",
    "**解答例**\n",
    "<pre style={\"white-space\": \"pre\"}>\n",
    "if my_choice == opp_choice:\n",
    "    print(\"引き分け\")\n",
    "</pre>\n",
    "\n",
    "**別解**  \n",
    "次のようなコードを書いた人もいた。\n",
    "\n",
    "<pre style={\"white-space\": \"pre\"}>\n",
    "if my_choice == \"グー\" and opp_choice == \"グー\":\n",
    "    print(\"引き分け\")\n",
    "elif my_choice == \"チョキ\" and opp_choice == \"チョキ\":\n",
    "    print(\"引き分け\")\n",
    "elif my_choice == \"パー\" and opp_choice == \"パー\":\n",
    "    print(\"引き分け\")\n",
    "</pre>\n",
    "\n",
    "これも正しいプログラムである。ただし、最初の解答例の方が次の2点でより良い。\n",
    "- 簡潔で読みやすい\n",
    "- 評価する条件式が少ないため、実行時間も短い\n",
    "```"
   ]
  },
  {
   "cell_type": "markdown",
   "id": "1c01839b",
   "metadata": {},
   "source": [
    "**課題2**  \n",
    "自分の手 `my_choice`、相手の手 `opp_choice` が与えられるとき、自分の勝ちかどうかを判定して、勝ちであれば `\"勝ち\"` と出力するプログラムを作成しなさい。それ以外のときは何も出力しなくてよい。"
   ]
  },
  {
   "cell_type": "code",
   "execution_count": 14,
   "id": "aff9e660",
   "metadata": {},
   "outputs": [],
   "source": [
    "# 以下は、my_choice と opp_choiceの一例 （この例では\"勝ち\"と出力するのが正しい）\n",
    "my_choice = \"グー\"\n",
    "opp_choice = \"チョキ\"\n"
   ]
  },
  {
   "cell_type": "markdown",
   "id": "1de3687c",
   "metadata": {},
   "source": [
    "```{toggle}\n",
    "**解答例**\n",
    "<pre style={\"white-space\": \"pre\"}>\n",
    "if (my_choice == \"グー\" and opp_choice == \"チョキ\") or (my_choice == \"チョキ\" and opp_choice == \"パー\") or (my_choice == \"パー\" and opp_choice == \"グー\"):\n",
    "    print(\"勝ち\")\n",
    "</pre>\n",
    "\n",
    "コードとしては同じであるが、1行が長くなるときは次のように折り返して書いたほうがよい。\n",
    "`\\` （Windowsでは `¥`）については第3回の講義ノート参照。\n",
    "<pre style={\"white-space\": \"pre\"}>\n",
    "if (my_choice == \"グー\" and opp_choice == \"チョキ\") or \\\n",
    "   (my_choice == \"チョキ\" and opp_choice == \"パー\") or \\\n",
    "   (my_choice == \"パー\" and opp_choice == \"グー\"):\n",
    "    print(\"勝ち\")\n",
    "</pre>\n",
    "\n",
    "**別解1**  \n",
    "<pre style={\"white-space\": \"pre\"}>\n",
    "if my_choice == \"グー\" and opp_choice == \"チョキ\":\n",
    "    print(\"勝ち\")\n",
    "elif my_choice == \"チョキ\" and opp_choice == \"パー\":\n",
    "    print(\"勝ち\")\n",
    "elif my_choice == \"パー\" and opp_choice == \"グー\":\n",
    "    print(\"勝ち\")\n",
    "</pre>\n",
    "\n",
    "（授業中）このように書いている人もいた。これも見やすくて良いコードである。\n",
    "\n",
    "**別解2**  \n",
    "<pre style={\"white-space\": \"pre\"}>\n",
    "if [my_choice, opp_choice] in [[\"グー\", \"チョキ\"], [\"チョキ\", \"パー\"], [\"パー\", \"グー\"]]:\n",
    "    print(\"勝ち\")\n",
    "</pre>\n",
    "\n",
    "リストとin演算子を使うと、このように簡潔に書くこともできる。\n",
    "\n",
    "ほぼ同じコードであるが、第7回で習うタプルを使って次のように書くこともできる。\n",
    "\n",
    "<pre style={\"white-space\": \"pre\"}>\n",
    "if (my_choice, opp_choice) in [(\"グー\", \"チョキ\"), (\"チョキ\", \"パー\"), (\"パー\", \"グー\")]:\n",
    "    print(\"勝ち\")\n",
    "</pre>\n",
    "```"
   ]
  },
  {
   "cell_type": "markdown",
   "id": "e0f2aed1",
   "metadata": {},
   "source": [
    "**課題3**  \n",
    "自分の手 `my_choice`、相手の手 `opp_choice` が与えられるとき、if文、elif文、else文を使って、勝敗に応じて `\"勝ち\"`、`\"負け\"`、`\"引き分け\"` と出力するプログラムを作成しなさい。"
   ]
  },
  {
   "cell_type": "code",
   "execution_count": 15,
   "id": "3c7211e6",
   "metadata": {},
   "outputs": [],
   "source": [
    "# 以下は、my_choice と opp_choiceの一例 （この例では\"勝ち\"と出力するのが正しい）\n",
    "my_choice = \"グー\"\n",
    "opp_choice = \"チョキ\"\n"
   ]
  },
  {
   "cell_type": "markdown",
   "id": "64d3028d",
   "metadata": {},
   "source": [
    "```{toggle}\n",
    "**解答例**\n",
    "<pre style={\"white-space\": \"pre\"}>\n",
    "if my_choice == opp_choice:\n",
    "    print(\"引き分け\")\n",
    "elif (my_choice == \"グー\" and opp_choice == \"チョキ\") or \\\n",
    "   (my_choice == \"チョキ\" and opp_choice == \"パー\") or \\\n",
    "   (my_choice == \"パー\" and opp_choice == \"グー\"):\n",
    "    print(\"勝ち\")\n",
    "else:\n",
    "    print(\"負け\")\n",
    "</pre>\n",
    "```"
   ]
  },
  {
   "cell_type": "markdown",
   "id": "ad18dd55",
   "metadata": {},
   "source": [
    "**おまけ**  \n",
    "課題3まで出来た人は、作成したプログラムを次のプログラムの末尾にコピー&ペースとして動かしてみよう。\n",
    "コンピュータと対戦できるように、`my_choice` は `input()` 関数によりユーザーからの入力を受け取るように、`opp_choice` は `random.choice()` 関数により `\"グー\"`、`\"チョキ\"`、`\"パー\"` からランダムに選ばれるように変更している。また `my_choice` が `\"グー\"`、`\"チョキ\"`、`\"パー\"`のいずれかであることを確認して、そうでない場合にエラーを出力するコードを追加している。"
   ]
  },
  {
   "cell_type": "code",
   "execution_count": null,
   "id": "7de0a1eb",
   "metadata": {
    "tags": [
     "remove-output"
    ]
   },
   "outputs": [],
   "source": [
    "my_choice = input(\"あなたの選択: \")\n",
    "opp_choice = random.choice([\"グー\", \"チョキ\", \"パー\"])\n",
    "print(f\"コンピュータの選択: {opp_choice}\")\n",
    "\n",
    "if not my_choice in [\"グー\", \"チョキ\", \"パー\"]:\n",
    "    raise ValueError(\"グー、チョキ、パーのいずれかの手を入力してください。\") # エラーを出力\n",
    "\n",
    "# 課題3の答えを以下にコピー&ペーストする\n"
   ]
  },
  {
   "cell_type": "markdown",
   "id": "8024b9bc",
   "metadata": {},
   "source": [
    "```{admonition} 発展的な話題： 例外\n",
    ":class: note\n",
    "`raise ValueError()` は故意に**例外**（= エラー）を発生させるための文で**raise文**と言う。`ValueError()` は先頭が大文字になっているが、これは関数ではなく、ValueErrorクラスのインスタンスを作成する式である。今回は値が有効ではないことを意味する `ValueError` を発生させているが、状況ごとに適切な例外のクラスは異なる。はじめのうちは使える必要はないが、このように自分でエラーを発生させる方法もあることは知っておこう。\n",
    "```"
   ]
  }
 ],
 "metadata": {
  "kernelspec": {
   "display_name": "Python 3 (ipykernel)",
   "language": "python",
   "name": "python3"
  },
  "language_info": {
   "codemirror_mode": {
    "name": "ipython",
    "version": 3
   },
   "file_extension": ".py",
   "mimetype": "text/x-python",
   "name": "python",
   "nbconvert_exporter": "python",
   "pygments_lexer": "ipython3",
   "version": "3.9.5"
  },
  "vscode": {
   "interpreter": {
    "hash": "aee8b7b246df8f9039afb4144a1f6fd8d2ca17a180786b69acc140d282b71a49"
   }
  }
 },
 "nbformat": 4,
 "nbformat_minor": 5
}
