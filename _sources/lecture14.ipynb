{
 "cells": [
  {
   "cell_type": "markdown",
   "id": "52b9c04c",
   "metadata": {},
   "source": [
    "# 第14回 データの読み方"
   ]
  },
  {
   "cell_type": "markdown",
   "id": "0f3467e6",
   "metadata": {},
   "source": [
    "___\n",
    "[![Open In Colab](https://colab.research.google.com/assets/colab-badge.svg)](https://colab.research.google.com/github/tsuboshun/begin-python/blob/gh-pages/_sources/workbook/lecture14.ipynb)\n",
    "\n",
    "___"
   ]
  },
  {
   "cell_type": "markdown",
   "id": "9ba5723c",
   "metadata": {},
   "source": [
    "## この授業で学ぶこと"
   ]
  },
  {
   "cell_type": "markdown",
   "id": "49246d72",
   "metadata": {},
   "source": [
    "準備中"
   ]
  },
  {
   "cell_type": "markdown",
   "id": "9855e9f4",
   "metadata": {},
   "source": [
    "## データの種類"
   ]
  },
  {
   "cell_type": "markdown",
   "id": "2d93cb7d",
   "metadata": {},
   "source": [
    "データ分析を行うにあたって、どのような種類のデータを扱っているかを意識することが重要である。\n",
    "この節では、データの大まかな分類について説明する。\n",
    "\n",
    "まず、データは大まかに質的変数と量的変数に分けられる。\n",
    "質的変数はさらに名義尺度と順序尺度に分類され、量的変数はさらに間隔尺度と比例尺度に分類される。"
   ]
  },
  {
   "cell_type": "markdown",
   "id": "8a8a507b",
   "metadata": {},
   "source": [
    "| 種類 | 尺度 | 概要 | 例 |\n",
    "| --- | --- | --- | --- |\n",
    "| 質的変数 | 名義尺度 | 分類のための尺度。順番にも間隔にも意味がない。 | 性別、血液型  |\n",
    "| 質的変数 | 順序尺度 | 分類のための尺度。順番に意味があるが、間隔に意味がない。 | 5段階評価 |\n",
    "| 量的変数 | 間隔尺度 | 量を表す尺度。順序にも間隔にも意味があるが、比率に意味がない。| 温度、西暦 |\n",
    "| 量的変数 | 比例尺度 | 量を表す尺度。順序・間隔・比率に意味がある。 | 金額、重さ |"
   ]
  },
  {
   "cell_type": "markdown",
   "id": "9e045f09",
   "metadata": {},
   "source": [
    "それぞれの尺度の概要は、上の表の通りである。例をもとに具体的に説明しよう。\n",
    "\n",
    "名義尺度の例として、性別が挙げられる。\n",
    "例えば男性を0、女性を1としてデータを集計したとして、この0と1という数値の順番にも間隔にも意味はない。\n",
    "\n",
    "順序尺度の例として、5段階評価が挙げられる。\n",
    "例えば顧客の満足度を1から5の整数で表してデータを集計したとして、これらの数値の順序には意味があるが、間隔には意味がない。\n",
    "評価5は大満足、評価4は満足を表すのであって、大満足と満足の差を数値で表すことはできない。\n",
    "\n",
    "間隔尺度の例として、温度（℃）が挙げられる。\n",
    "温度は順序にも間隔にも意味がある。しかし、0℃は人間が適当に決めた基準であって、それ以下がないという意味の絶対的な0度ではない。したがって、30℃は15℃の2倍という主張にあまり意味がない。実際、華氏（℉）に直すと30℃は86℉、15℃は59℉であり、0度の基準が異なれば、先ほどの主張が成立しなくなる。\n",
    "\n",
    "比例尺度の例として、金額が挙げられる。金額は順序・間隔・比率に意味がある。例えば、100円玉を5枚集めると500円になるので、500円は100円の5倍という主張は正しい。"
   ]
  },
  {
   "cell_type": "markdown",
   "id": "17e959c6",
   "metadata": {},
   "source": [
    "## データの分布と代表値"
   ]
  },
  {
   "cell_type": "code",
   "execution_count": 1,
   "id": "dd0a83c2",
   "metadata": {},
   "outputs": [],
   "source": [
    "#pip install japanize_matplotlib"
   ]
  },
  {
   "cell_type": "code",
   "execution_count": 2,
   "id": "0a5a5dad",
   "metadata": {},
   "outputs": [],
   "source": [
    "import matplotlib.pyplot as plt\n",
    "import numpy as np\n",
    "import pandas as pd\n",
    "import seaborn as sns\n",
    "import japanize_matplotlib"
   ]
  },
  {
   "cell_type": "code",
   "execution_count": 3,
   "id": "31f781e4",
   "metadata": {},
   "outputs": [],
   "source": [
    "sample_data = np.random.normal(\n",
    "    loc   = 10,        # 平均\n",
    "    scale = 2,         # 標準偏差\n",
    "    size  = 1000,   # 配列のサイズ\n",
    ")"
   ]
  },
  {
   "cell_type": "code",
   "execution_count": 4,
   "id": "6b341ba3",
   "metadata": {},
   "outputs": [
    {
     "data": {
      "image/png": "[encoded data removed]",
      "text/plain": [
       "<Figure size 432x288 with 1 Axes>"
      ]
     },
     "metadata": {
      "needs_background": "light"
     },
     "output_type": "display_data"
    }
   ],
   "source": [
    "# プロットの入れ物の用意\n",
    "fig, ax = plt.subplots()\n",
    "\n",
    "# データの用意\n",
    "x = sample_data\n",
    "\n",
    "# ヒストグラムのプロット\n",
    "ax.hist(x, bins=20, range=(0, 20))\n",
    "\n",
    "# 表示\n",
    "plt.show()"
   ]
  },
  {
   "cell_type": "code",
   "execution_count": null,
   "id": "bc58f394",
   "metadata": {},
   "outputs": [],
   "source": []
  },
  {
   "cell_type": "code",
   "execution_count": 5,
   "id": "f52bd89a",
   "metadata": {},
   "outputs": [],
   "source": [
    "df_diamond = sns.load_dataset('diamonds')"
   ]
  },
  {
   "cell_type": "code",
   "execution_count": 6,
   "id": "91cf9b59",
   "metadata": {},
   "outputs": [
    {
     "data": {
      "image/png": "[encoded data removed]",
      "text/plain": [
       "<Figure size 432x288 with 1 Axes>"
      ]
     },
     "metadata": {
      "needs_background": "light"
     },
     "output_type": "display_data"
    }
   ],
   "source": [
    "# プロットの入れ物の用意\n",
    "fig, ax = plt.subplots()\n",
    "\n",
    "# データの用意\n",
    "x = df_diamond[\"price\"].values\n",
    "\n",
    "# ヒストグラムのプロット\n",
    "ax.hist(x)\n",
    "\n",
    "# 表示\n",
    "plt.show()"
   ]
  },
  {
   "cell_type": "markdown",
   "id": "934f9cd2",
   "metadata": {},
   "source": [
    "## 層別分析"
   ]
  },
  {
   "cell_type": "code",
   "execution_count": 7,
   "id": "7c40be09",
   "metadata": {},
   "outputs": [],
   "source": [
    "df_titanic = sns.load_dataset('titanic')"
   ]
  },
  {
   "cell_type": "code",
   "execution_count": 8,
   "id": "d332ff7f",
   "metadata": {
    "scrolled": true
   },
   "outputs": [
    {
     "data": {
      "image/png": "[encoded data removed]",
      "text/plain": [
       "<Figure size 432x288 with 1 Axes>"
      ]
     },
     "metadata": {
      "needs_background": "light"
     },
     "output_type": "display_data"
    }
   ],
   "source": [
    "# プロットの入れ物の用意\n",
    "fig, ax = plt.subplots()\n",
    "\n",
    "# データの用意\n",
    "x = df_titanic[\"sex\"].values\n",
    "y = df_titanic[\"survived\"].values\n",
    "hue = df_titanic[\"pclass\"].values\n",
    "\n",
    "# 棒グラフのプロット\n",
    "sns.barplot(x=x, y=y, hue=hue, hue_order=[1, 2, 3], ax=ax)\n",
    "\n",
    "# 表示\n",
    "plt.show()"
   ]
  },
  {
   "cell_type": "code",
   "execution_count": null,
   "id": "1568abc7",
   "metadata": {},
   "outputs": [],
   "source": []
  },
  {
   "cell_type": "markdown",
   "id": "7551f3d7",
   "metadata": {},
   "source": [
    "## 相関と因果"
   ]
  },
  {
   "cell_type": "code",
   "execution_count": 9,
   "id": "10ac4a44",
   "metadata": {},
   "outputs": [
    {
     "data": {
      "image/png": "[encoded data removed]",
      "text/plain": [
       "<Figure size 432x288 with 1 Axes>"
      ]
     },
     "metadata": {
      "needs_background": "light"
     },
     "output_type": "display_data"
    }
   ],
   "source": [
    "# プロットの入れ物の用意\n",
    "fig, ax = plt.subplots()\n",
    "\n",
    "# データの用意\n",
    "x = df_diamond[\"cut\"].values\n",
    "y = df_diamond[\"price\"].values\n",
    "\n",
    "# 棒グラフのプロット\n",
    "sns.barplot(x=x, y=y, order=[\"Fair\", \"Good\", \"Very Good\", \"Premium\", \"Ideal\"], ax=ax)\n",
    "\n",
    "# 表示\n",
    "plt.show()"
   ]
  },
  {
   "cell_type": "code",
   "execution_count": 10,
   "id": "b036c457",
   "metadata": {},
   "outputs": [
    {
     "data": {
      "image/png": "[encoded data removed]",
      "text/plain": [
       "<Figure size 432x288 with 1 Axes>"
      ]
     },
     "metadata": {
      "needs_background": "light"
     },
     "output_type": "display_data"
    }
   ],
   "source": [
    "# プロットの入れ物の用意\n",
    "fig, ax = plt.subplots()\n",
    "\n",
    "# データの用意\n",
    "x = df_diamond[\"carat\"]\n",
    "y = df_diamond[\"price\"]\n",
    "\n",
    "# 散布図\n",
    "ax.scatter(x, y, alpha=0.01)\n",
    "\n",
    "# 軸の設定（対数スケール）\n",
    "ax.set_xscale('log')\n",
    "ax.set_yscale('log')\n",
    "\n",
    "# 表示\n",
    "plt.show()"
   ]
  },
  {
   "cell_type": "code",
   "execution_count": 11,
   "id": "1f0e1aab",
   "metadata": {},
   "outputs": [],
   "source": [
    "df_diamond[\"price_log\"] = np.log(df_diamond[\"price\"])\n",
    "df_diamond[\"carat_log\"] = np.log(df_diamond[\"carat\"])"
   ]
  },
  {
   "cell_type": "code",
   "execution_count": 12,
   "id": "06e07248",
   "metadata": {},
   "outputs": [],
   "source": [
    "from sklearn.linear_model import LinearRegression\n",
    "\n",
    "# データの用意\n",
    "x = df_diamond[[\"carat_log\"]].values\n",
    "y = df_diamond[\"price_log\"].values\n",
    "\n",
    "# 線型回帰モデルの用意\n",
    "lr = LinearRegression()\n",
    "\n",
    "# モデルのパラメータのフィッティング\n",
    "lr.fit(x, y)\n",
    "\n",
    "# 予測の残差\n",
    "df_diamond[\"residual\"] = y - lr.predict(x)"
   ]
  },
  {
   "cell_type": "code",
   "execution_count": 13,
   "id": "6bb0717f",
   "metadata": {},
   "outputs": [
    {
     "data": {
      "image/png": "[encoded data removed]",
      "text/plain": [
       "<Figure size 432x288 with 1 Axes>"
      ]
     },
     "metadata": {
      "needs_background": "light"
     },
     "output_type": "display_data"
    }
   ],
   "source": [
    "# プロットの入れ物の用意\n",
    "fig, ax = plt.subplots()\n",
    "\n",
    "# データの用意\n",
    "x = df_diamond[\"residual\"].values\n",
    "\n",
    "# ヒストグラムのプロット\n",
    "ax.hist(x)\n",
    "\n",
    "# 表示\n",
    "plt.show()"
   ]
  },
  {
   "cell_type": "code",
   "execution_count": 14,
   "id": "f7ed4701",
   "metadata": {},
   "outputs": [
    {
     "data": {
      "image/png": "[encoded data removed]",
      "text/plain": [
       "<Figure size 432x288 with 1 Axes>"
      ]
     },
     "metadata": {
      "needs_background": "light"
     },
     "output_type": "display_data"
    }
   ],
   "source": [
    "# プロットの入れ物の用意\n",
    "fig, ax = plt.subplots()\n",
    "\n",
    "# データの用意\n",
    "x = df_diamond[\"cut\"].values\n",
    "y = df_diamond[\"residual\"].values\n",
    "\n",
    "# 棒グラフのプロット\n",
    "sns.barplot(x=x, y=y, order=[\"Fair\", \"Good\", \"Very Good\", \"Premium\", \"Ideal\"])\n",
    "\n",
    "# 表示\n",
    "plt.show()"
   ]
  },
  {
   "cell_type": "code",
   "execution_count": null,
   "id": "3ad07928",
   "metadata": {},
   "outputs": [],
   "source": []
  }
 ],
 "metadata": {
  "kernelspec": {
   "display_name": "Python 3 (ipykernel)",
   "language": "python",
   "name": "python3"
  },
  "language_info": {
   "codemirror_mode": {
    "name": "ipython",
    "version": 3
   },
   "file_extension": ".py",
   "mimetype": "text/x-python",
   "name": "python",
   "nbconvert_exporter": "python",
   "pygments_lexer": "ipython3",
   "version": "3.9.5"
  },
  "vscode": {
   "interpreter": {
    "hash": "aee8b7b246df8f9039afb4144a1f6fd8d2ca17a180786b69acc140d282b71a49"
   }
  }
 },
 "nbformat": 4,
 "nbformat_minor": 5
}
