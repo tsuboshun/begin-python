{
 "cells": [
  {
   "cell_type": "markdown",
   "id": "52b9c04c",
   "metadata": {},
   "source": [
    "# 第13回 データの可視化"
   ]
  },
  {
   "cell_type": "markdown",
   "id": "0f3467e6",
   "metadata": {},
   "source": [
    "___\n",
    "[![Open In Colab](https://colab.research.google.com/assets/colab-badge.svg)](https://colab.research.google.com/github/tsuboshun/begin-python/blob/gh-pages/_sources/workbook/lecture13.ipynb)\n",
    "\n",
    "___"
   ]
  },
  {
   "cell_type": "markdown",
   "id": "9ba5723c",
   "metadata": {},
   "source": [
    "## この授業で学ぶこと"
   ]
  },
  {
   "cell_type": "markdown",
   "id": "49246d72",
   "metadata": {},
   "source": [
    "準備中"
   ]
  },
  {
   "cell_type": "markdown",
   "id": "2ec0fa70",
   "metadata": {},
   "source": [
    "## matplotlib入門"
   ]
  },
  {
   "cell_type": "markdown",
   "id": "378b8d77",
   "metadata": {},
   "source": [
    "Pythonでグラフを描画するのに**matplotlib**というライブラリがよく用いられる。この節ではmatplotlibの使い方の基本を説明する。\n",
    "\n",
    "matplotlibを使うには、その中のpyplotというモジュールをimportする。\n",
    "またグラフのラベルに日本語を使えるようにするためにjapanize_matplotlibというモジュールをimportする。japanize_matplotlibはpipによるインストールが必要である[^f1]。\n",
    "\n",
    "[^f1]: matplotlibも標準ライブラリではないため本来はpipによるインストールが必要であるが、Google Colabの環境では初めからインストールされている。"
   ]
  },
  {
   "cell_type": "code",
   "execution_count": null,
   "id": "f4d8b228",
   "metadata": {},
   "outputs": [],
   "source": [
    "pip install japanize_matplotlib"
   ]
  },
  {
   "cell_type": "code",
   "execution_count": null,
   "id": "6ffdf089",
   "metadata": {},
   "outputs": [],
   "source": [
    "import matplotlib.pyplot as plt\n",
    "import japanize_matplotlib\n",
    "plt.rcParams.update({'font.size': 14})  # 文字サイズを14pxとする"
   ]
  },
  {
   "cell_type": "markdown",
   "id": "e3b829f9",
   "metadata": {},
   "source": [
    "まずは描画用のサンプルデータを用意しよう。matplotlibではリストまたは[第6回で紹介](label:numpy)したNumPyの配列（`ndarray`）を扱うことができる。ここでは配列のデータを用意する。"
   ]
  },
  {
   "cell_type": "code",
   "execution_count": null,
   "id": "9ac1545c",
   "metadata": {},
   "outputs": [],
   "source": [
    "import numpy as np\n",
    "\n",
    "# 0から10までの0.1刻みの配列\n",
    "sample_x = np.arange(0, 10, 0.1)\n",
    "\n",
    "# y = 2x + eps　（epsはノイズ）\n",
    "eps = np.random.normal(loc=0, scale=1, size=len(sample_x))\n",
    "sample_y = sample_x * 2 + eps"
   ]
  },
  {
   "cell_type": "markdown",
   "id": "aa3bf884",
   "metadata": {},
   "source": [
    "`np.arange()` 関数は、`np.arange(start, stop, step)` と呼び出すと `start` から `stop` までの `step` 刻みの配列を生成する。"
   ]
  },
  {
   "cell_type": "code",
   "execution_count": null,
   "id": "1cf9b59a",
   "metadata": {},
   "outputs": [],
   "source": [
    "sample_x"
   ]
  },
  {
   "cell_type": "code",
   "execution_count": null,
   "id": "4c0b715b",
   "metadata": {},
   "outputs": [],
   "source": [
    "len(sample_x)"
   ]
  },
  {
   "cell_type": "markdown",
   "id": "47da30b3",
   "metadata": {},
   "source": [
    "`np.random.normal()` 関数は上のように呼び出すと、平均が0で標準偏差が1の正規分布に従う乱数の配列（長さ `len(sample_x)`）を生成する。代入先の `eps` はデータに加えるノイズとして使用する。"
   ]
  },
  {
   "cell_type": "code",
   "execution_count": null,
   "id": "9e1d2603",
   "metadata": {},
   "outputs": [],
   "source": [
    "eps"
   ]
  },
  {
   "cell_type": "markdown",
   "id": "bbe1bd61",
   "metadata": {},
   "source": [
    "配列の特徴の1つは、要素ごとの演算を一括で行えることである。`sample_x * 2 + eps` により、インデックスごとに `sample_x` の要素を2倍し、`eps` の要素を足している。\n",
    "\n",
    "ここで生成した `sample_x` と `sample_y` は $\\varepsilon$ をノイズとして $y = 2x + \\varepsilon$ の関係を満たす2次元データ $(x, y)$ を100個生成したものと見ることができる。\n",
    "1つ1つのデータは(`sample_x[0]`, `sample_y[0]`), (`sample_x[1]`, `sample_y[1]`), ..., (`sample_x[99]`, `sample_y[99]`)である。"
   ]
  },
  {
   "cell_type": "markdown",
   "id": "3e86942c",
   "metadata": {},
   "source": [
    "### 散布図"
   ]
  },
  {
   "cell_type": "markdown",
   "id": "16a12a81",
   "metadata": {},
   "source": [
    "サンプルデータを**散布図**として可視化してみよう。横軸に $x$、縦軸に $y$ の値をとって各データを点として打って描画する。このことをデータを散布図として**プロット**するという。"
   ]
  },
  {
   "cell_type": "code",
   "execution_count": null,
   "id": "5ae86286",
   "metadata": {
    "scrolled": true
   },
   "outputs": [],
   "source": [
    "# プロットの入れ物の用意\n",
    "fig, ax = plt.subplots(1, 1, figsize=(5, 4))\n",
    "\n",
    "# 散布図のプロット\n",
    "ax.scatter(sample_x, sample_y)\n",
    "\n",
    "# 表示\n",
    "plt.show()"
   ]
  },
  {
   "cell_type": "markdown",
   "id": "98cabefc",
   "metadata": {},
   "source": [
    "1行目では `plt.subplots()` 関数によりFigureオブジェクトとAxesオブジェクトを生成して、変数 `fig` と `ax` に代入している[^f2][^f3]。\n",
    "\n",
    "matplotlibによる描画はFigureオブジェクトとAxesオブジェクト、Axisオブジェクトの3つの要素で構成される。Axisオブジェクトは1つの軸を管理し、Axesオブジェクトは1つのグラフを管理し、Figureオブジェクトは描画全体を管理する。それぞれの関係を次の図に示す。\n",
    "\n",
    "[^f2]: 一見すると戻り値が2つあるように見えるが、`plt.subplots()` はFigureオブジェクトとAxesオブジェクトのタプルを返しており（つまり戻り値は1つ）、タプルの各要素を `fig` と `ax` に割り当てている。戻り値のタプルを `,` 区切りの変数で受け取ることを**アンパック**という。\n",
    "[^f3]: matplotlibの描画方法にはexplicit（明示的）な方法とimplicit（非明示的）な方法の2種類があるが、このテキストではexplicitな方法を説明する。implicitな方法というのは、`fig` や `ax` を用意することなく、いきなり `plt.plot()` などとプロットする方法のことである。implicitな方法は手軽にプロットできるというメリットがあるが、グラフの細かい調整ができないというデメリットもある。そのため、はじめからexplicitな方法を覚えるのがお勧めである。"
   ]
  },
  {
   "cell_type": "markdown",
   "id": "016eee5c",
   "metadata": {},
   "source": [
    "```{figure} ./pic/fig_map.png\n",
    "---\n",
    "width: 400px\n",
    "name: fig_map\n",
    "---\n",
    "グラフの構成要素\n",
    "```"
   ]
  },
  {
   "cell_type": "markdown",
   "id": "6a04d2ac",
   "metadata": {},
   "source": [
    "`plt.subplots()` 関数は `plt.subplots(n, m, figsize=(w, h))` と呼び出すと、横幅 `w`、高さ `h` （単位はインチ）のFigureオブジェクトと、その中に `n` 行 `m` 列の`n * m` 個のAxesオブジェクトを作成する。`n = m = 1` のときAxesオブジェクトは1つであり、このときに限り戻り値の `ax` はAxesオブジェクトそのものになる。それ以外のときは、Axesオブジェクトの配列となる。\n",
    "\n",
    "散布図のプロットは `ax.scatter()` メソッドにより行う。第一引数に横軸の値の配列、第二引数に縦軸の値の配列を指定する。\n",
    "最後に `plt.show()` 関数を呼び出すことで、グラフが表示される。"
   ]
  },
  {
   "cell_type": "markdown",
   "id": "4f2916f0",
   "metadata": {},
   "source": [
    "### グラフの調整"
   ]
  },
  {
   "cell_type": "markdown",
   "id": "24c9b758",
   "metadata": {},
   "source": [
    "次にグラフの見た目を細かく調整してみよう。\n",
    "\n",
    "まずは1枚のグラフに複数の散布図をプロットする。\n",
    "先ほどのプロットに $y = 3x + \\varepsilon$ の関係を満たすデータの散布図を追加する。"
   ]
  },
  {
   "cell_type": "code",
   "execution_count": null,
   "id": "54d7aa74",
   "metadata": {},
   "outputs": [],
   "source": [
    "# プロットの入れ物の用意\n",
    "fig, ax = plt.subplots(1, 1, figsize=(5, 4))\n",
    "\n",
    "# データの用意\n",
    "sample_y2 = sample_x * 3 + np.random.normal(loc=0, scale=1, size=len(sample_x))\n",
    "\n",
    "# 散布図のプロット\n",
    "ax.scatter(sample_x, sample_y)\n",
    "ax.scatter(sample_x, sample_y2)\n",
    "\n",
    "# 表示\n",
    "plt.show()"
   ]
  },
  {
   "cell_type": "markdown",
   "id": "ce3f6de0",
   "metadata": {},
   "source": [
    "このように同一のAxesオブジェクトの `scatter()` メソッドを複数回呼び出すことで、1つのグラフに複数の散布図をプロットすることができる。\n",
    "\n",
    "プロットの色は自動的に設定されるが、自分で指定することもできる。\n",
    "凡例や軸ラベル、タイトル、マーカーの種類の設定方法とともに紹介する。"
   ]
  },
  {
   "cell_type": "code",
   "execution_count": null,
   "id": "d339b7cf",
   "metadata": {},
   "outputs": [],
   "source": [
    "# プロットの入れ物の用意\n",
    "fig, ax = plt.subplots(1, 1, figsize=(5, 4))\n",
    "\n",
    "# 散布図のプロット\n",
    "ax.scatter(sample_x, sample_y, color='royalblue', marker='v', label='y=2x+e')\n",
    "ax.scatter(sample_x, sample_y2, color='forestgreen', marker='x', label='y=3x+e')\n",
    "\n",
    "# 軸ラベル・タイトルの設定\n",
    "ax.set_xlabel('x')\n",
    "ax.set_ylabel('y')\n",
    "ax.set_title('xとyの関係')\n",
    "\n",
    "# 表示\n",
    "plt.legend() # 凡例の表示\n",
    "plt.show()"
   ]
  },
  {
   "cell_type": "markdown",
   "id": "f3ab086b",
   "metadata": {},
   "source": [
    "`ax.scatter()` メソッドのキーワード引数を使って、`color` を設定すると色を変更できる（`color` で指定できる色の名前の一覧は[こちら](https://matplotlib.org/stable/gallery/color/named_colors.html)）。`marker` を設定するとマーカーの種類を変更できる（`marker` で指定できる値の一覧は[こちら](https://matplotlib.org/stable/api/markers_api.html)）。`label` を設定すると凡例の表示名を設定できる。凡例を表示するには、最後に `plt.legend()` を呼び出す。\n",
    "\n",
    "軸ラベルは `ax.set_xlabel()`、`ax.set_ylabel()` により設定する。同様にタイトルは `ax.set_title()` により設定する。"
   ]
  },
  {
   "cell_type": "markdown",
   "id": "ea417f35",
   "metadata": {},
   "source": [
    "### 折れ線グラフ"
   ]
  },
  {
   "cell_type": "code",
   "execution_count": null,
   "id": "8e4b09e8",
   "metadata": {},
   "outputs": [],
   "source": [
    "# プロットの入れ物の用意\n",
    "fig, ax = plt.subplots(1, 1, figsize=(5, 4))\n",
    "\n",
    "sample_y2 = sample_x * 2\n",
    "\n",
    "# 散布図、折れ線グラフのプロット\n",
    "ax.scatter(sample_x, sample_y)\n",
    "ax.plot(sample_x, sample_y2, color=\"orange\")\n",
    "\n",
    "# 表示\n",
    "plt.show()"
   ]
  },
  {
   "cell_type": "markdown",
   "id": "3c139ba7",
   "metadata": {},
   "source": [
    "## pandas入門"
   ]
  },
  {
   "cell_type": "code",
   "execution_count": null,
   "id": "fb257327",
   "metadata": {},
   "outputs": [],
   "source": [
    "import pandas as pd\n",
    "import seaborn as sns\n",
    "df = sns.load_dataset('diamonds')"
   ]
  },
  {
   "cell_type": "code",
   "execution_count": null,
   "id": "3c4ed17e",
   "metadata": {
    "scrolled": true
   },
   "outputs": [],
   "source": [
    "df.head()"
   ]
  },
  {
   "cell_type": "markdown",
   "id": "ad8790a0",
   "metadata": {},
   "source": [
    "## ヒストグラム"
   ]
  },
  {
   "cell_type": "code",
   "execution_count": null,
   "id": "0ef88fd2",
   "metadata": {},
   "outputs": [],
   "source": [
    "# プロットの入れ物の用意\n",
    "fig, ax = plt.subplots()\n",
    "\n",
    "# データの用意\n",
    "x = df[\"price\"].values\n",
    "\n",
    "# ヒストグラムのプロット\n",
    "ax.hist(x)\n",
    "\n",
    "# 表示\n",
    "plt.show()"
   ]
  },
  {
   "cell_type": "code",
   "execution_count": null,
   "id": "905666eb",
   "metadata": {},
   "outputs": [],
   "source": [
    "# プロットの入れ物の用意\n",
    "fig, ax = plt.subplots()\n",
    "\n",
    "# データの用意\n",
    "x = np.log(df[\"carat\"].values)\n",
    "y = np.log(df[\"price\"].values)\n",
    "\n",
    "# 2次元ヒストグラムのプロット\n",
    "hb = ax.hexbin(x, y, gridsize=10)\n",
    "\n",
    "# カラーバーのプロット\n",
    "cb = fig.colorbar(hb, ax=ax)\n",
    "cb.set_label('カウント')\n",
    "\n",
    "# 表示\n",
    "plt.show()"
   ]
  },
  {
   "cell_type": "code",
   "execution_count": null,
   "id": "95aefea6",
   "metadata": {},
   "outputs": [],
   "source": []
  }
 ],
 "metadata": {
  "kernelspec": {
   "display_name": "Python 3 (ipykernel)",
   "language": "python",
   "name": "python3"
  },
  "language_info": {
   "codemirror_mode": {
    "name": "ipython",
    "version": 3
   },
   "file_extension": ".py",
   "mimetype": "text/x-python",
   "name": "python",
   "nbconvert_exporter": "python",
   "pygments_lexer": "ipython3",
   "version": "3.9.5"
  },
  "vscode": {
   "interpreter": {
    "hash": "aee8b7b246df8f9039afb4144a1f6fd8d2ca17a180786b69acc140d282b71a49"
   }
  }
 },
 "nbformat": 4,
 "nbformat_minor": 5
}
