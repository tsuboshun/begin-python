{
 "cells": [
  {
   "cell_type": "markdown",
   "id": "52b9c04c",
   "metadata": {},
   "source": [
    "# 第13回 データの可視化"
   ]
  },
  {
   "cell_type": "markdown",
   "id": "0f3467e6",
   "metadata": {},
   "source": [
    "___\n",
    "[![Open In Colab](https://colab.research.google.com/assets/colab-badge.svg)](https://colab.research.google.com/github/tsuboshun/begin-python/blob/gh-pages/_sources/workbook/lecture13.ipynb)\n",
    "\n",
    "___"
   ]
  },
  {
   "cell_type": "markdown",
   "id": "9ba5723c",
   "metadata": {},
   "source": [
    "## この授業で学ぶこと"
   ]
  },
  {
   "cell_type": "markdown",
   "id": "49246d72",
   "metadata": {},
   "source": [
    "今回から第15回にかけてデータサイエンスの入門講義を行う。\n",
    "今回はデータの可視化をテーマに、matplotlibというライブラリの使い方を一通り解説する。またテーブルデータを扱うためのライブラリであるpandasについても解説する。\n",
    "\n",
    "今回の授業で紹介するコードは何も見ないで書けるようになる必要はなく、これらを雛形にして使えるようになればよい。\n",
    "matplotlibを使うと綺麗なグラフを作成できるようになるので、ぜひ他の授業のレポートなどでも活用してみてほしい。\n",
    "\n",
    "また講義の終了後を見据えて、今回から課題を解くのに[ChatGPT](https://chat.openai.com/)を活用してもよいことにする。\n",
    "これまでヒントをもらうことでなんとかコードを書いていた人も多いと思うが、そのような人でもChatGPTを先生代わりにすることで、一人でコードを書けるようになると期待する。もちろん自力でコードを書いた方が力になるので、まずは自力で課題に取り組むこと。またChatGPTを使う場合でも、出力を鵜呑みにするのではなく、その正しさを自分で判断し、出力を適宜修正しながら利用することが重要である。"
   ]
  },
  {
   "cell_type": "markdown",
   "id": "2ec0fa70",
   "metadata": {},
   "source": [
    "## matplotlib入門"
   ]
  },
  {
   "cell_type": "markdown",
   "id": "378b8d77",
   "metadata": {},
   "source": [
    "Pythonでグラフを描画するのに**matplotlib**というライブラリがよく用いられる。この節ではmatplotlibの使い方の基本を説明する。\n",
    "\n",
    "matplotlibを使うには、その中のpyplotというモジュールをimportする。\n",
    "またグラフのラベルに日本語を使えるようにするためにjapanize_matplotlibというモジュールをimportする。japanize_matplotlibはpipによるインストールが必要である[^f1]。\n",
    "\n",
    "[^f1]: matplotlibも標準ライブラリではないため本来はpipによるインストールが必要であるが、Google Colabの環境では初めからインストールされている。"
   ]
  },
  {
   "cell_type": "code",
   "execution_count": null,
   "id": "f4d8b228",
   "metadata": {},
   "outputs": [],
   "source": [
    "pip install japanize_matplotlib"
   ]
  },
  {
   "cell_type": "code",
   "execution_count": 1,
   "id": "6ffdf089",
   "metadata": {},
   "outputs": [],
   "source": [
    "import matplotlib.pyplot as plt\n",
    "import japanize_matplotlib\n",
    "plt.rcParams.update({'font.size': 14})  # 文字サイズを14pxとする"
   ]
  },
  {
   "cell_type": "markdown",
   "id": "e3b829f9",
   "metadata": {},
   "source": [
    "まずは描画用のサンプルデータを用意しよう。matplotlibではリストまたは[第6回で紹介](label:numpy)したNumPyの配列（`ndarray`）を扱うことができる。ここでは配列のデータを用意する。"
   ]
  },
  {
   "cell_type": "code",
   "execution_count": 2,
   "id": "9ac1545c",
   "metadata": {},
   "outputs": [],
   "source": [
    "import numpy as np\n",
    "\n",
    "# 0から10までの0.1刻みの配列\n",
    "sample_x = np.arange(0, 10, 0.1)\n",
    "\n",
    "# y = 2x + eps　（epsはノイズ）\n",
    "eps = np.random.normal(loc=0, scale=1, size=len(sample_x))\n",
    "sample_y = sample_x * 2 + eps"
   ]
  },
  {
   "cell_type": "markdown",
   "id": "aa3bf884",
   "metadata": {},
   "source": [
    "`np.arange()` 関数は、`np.arange(start, stop, step)` と呼び出すと `start` から `stop` までの `step` 刻みの配列を生成する。"
   ]
  },
  {
   "cell_type": "code",
   "execution_count": null,
   "id": "1cf9b59a",
   "metadata": {},
   "outputs": [],
   "source": [
    "sample_x"
   ]
  },
  {
   "cell_type": "code",
   "execution_count": null,
   "id": "4c0b715b",
   "metadata": {},
   "outputs": [],
   "source": [
    "len(sample_x)"
   ]
  },
  {
   "cell_type": "markdown",
   "id": "47da30b3",
   "metadata": {},
   "source": [
    "`np.random.normal()` 関数は上のように呼び出すと、平均が0で標準偏差が1の正規分布に従う乱数の配列（長さ `len(sample_x)`）を生成する。代入先の `eps` はデータに加えるノイズとして使用する。"
   ]
  },
  {
   "cell_type": "code",
   "execution_count": null,
   "id": "9e1d2603",
   "metadata": {},
   "outputs": [],
   "source": [
    "eps"
   ]
  },
  {
   "cell_type": "markdown",
   "id": "bbe1bd61",
   "metadata": {},
   "source": [
    "配列の特徴の1つは、要素ごとの演算を一括で行えることである。`sample_x * 2 + eps` により、インデックスごとに `sample_x` の要素を2倍し、`eps` の要素を足している。\n",
    "\n",
    "ここで生成した `sample_x` と `sample_y` は $\\varepsilon$ をノイズとして $y = 2x + \\varepsilon$ の関係を満たす2次元データ $(x, y)$ を100個生成したものと見ることができる。\n",
    "1つ1つのデータは(`sample_x[0]`, `sample_y[0]`), (`sample_x[1]`, `sample_y[1]`), ..., (`sample_x[99]`, `sample_y[99]`)である。"
   ]
  },
  {
   "cell_type": "markdown",
   "id": "3e86942c",
   "metadata": {},
   "source": [
    "### 散布図"
   ]
  },
  {
   "cell_type": "markdown",
   "id": "16a12a81",
   "metadata": {},
   "source": [
    "サンプルデータを**散布図**として可視化してみよう。横軸に $x$、縦軸に $y$ の値をとって各データを点として打って描画する。このことをデータを散布図として**プロット**するという。"
   ]
  },
  {
   "cell_type": "code",
   "execution_count": null,
   "id": "5ae86286",
   "metadata": {
    "scrolled": true
   },
   "outputs": [],
   "source": [
    "# プロットの入れ物の用意\n",
    "fig, ax = plt.subplots(1, 1, figsize=(5, 4))\n",
    "\n",
    "# 散布図のプロット\n",
    "ax.scatter(sample_x, sample_y)\n",
    "\n",
    "# 表示\n",
    "plt.show()"
   ]
  },
  {
   "cell_type": "markdown",
   "id": "98cabefc",
   "metadata": {},
   "source": [
    "1行目では `plt.subplots()` 関数によりFigureオブジェクトとAxesオブジェクトを生成して、変数 `fig` と `ax` に代入している[^f2][^f3]。\n",
    "\n",
    "matplotlibによる描画はFigureオブジェクトとAxesオブジェクト、Axisオブジェクトの3つの要素で構成される。Axisオブジェクトは1つの軸を管理し、Axesオブジェクトは1つのグラフを管理し、Figureオブジェクトは描画全体を管理する。それぞれの関係を次の図に示す。\n",
    "\n",
    "[^f2]: 一見すると戻り値が2つあるように見えるが、`plt.subplots()` はFigureオブジェクトとAxesオブジェクトのタプルを返しており（つまり戻り値は1つ）、タプルの各要素を `fig` と `ax` に割り当てている。戻り値のタプルを `,` 区切りの変数で受け取ることを**アンパック**という。\n",
    "[^f3]: matplotlibの描画方法にはexplicit（明示的）な方法とimplicit（非明示的）な方法の2種類があるが、このテキストではexplicitな方法を説明する。implicitな方法というのは、`fig` や `ax` を用意することなく、いきなり `plt.plot()` などとプロットする方法のことである。implicitな方法は手軽にプロットできるというメリットがあるが、グラフの細かい調整ができないというデメリットもある。そのため、はじめからexplicitな方法を覚えるのがお勧めである。"
   ]
  },
  {
   "cell_type": "markdown",
   "id": "016eee5c",
   "metadata": {},
   "source": [
    "```{figure} ./pic/fig_map.png\n",
    "---\n",
    "width: 400px\n",
    "name: fig_map\n",
    "---\n",
    "グラフの構成要素\n",
    "```"
   ]
  },
  {
   "cell_type": "markdown",
   "id": "6a04d2ac",
   "metadata": {},
   "source": [
    "`plt.subplots()` 関数は `plt.subplots(n, m, figsize=(w, h))` と呼び出すと、横幅 `w`、高さ `h` （単位はインチ）のFigureオブジェクトと、その中に `n` 行 `m` 列の`n * m` 個のAxesオブジェクトを作成する。グラフを1枚だけ描画したい場合は、`n = m = 1` と指定する。もしくは引数で何も指定しなければ、デフォルト引数により `n = m = 1` が設定される。このときAxesオブジェクトが1つだけ作成され、戻り値の `ax` はAxesオブジェクトそのものになる。複数のグラフを同時に描画したい場合は、`n` または `m` または両方に2以上の整数を指定する。このときAxesオブジェクトが複数作成され、戻り値はAxesオブジェクトの配列となる。\n",
    "\n",
    "散布図のプロットは `ax.scatter()` メソッドにより行う。第一引数に横軸の値の配列、第二引数に縦軸の値の配列を指定する。\n",
    "最後に `plt.show()` 関数を呼び出すことで、グラフが表示される。"
   ]
  },
  {
   "cell_type": "markdown",
   "id": "4f2916f0",
   "metadata": {},
   "source": [
    "### グラフの調整"
   ]
  },
  {
   "cell_type": "markdown",
   "id": "24c9b758",
   "metadata": {},
   "source": [
    "次にグラフの見た目を細かく調整してみよう。\n",
    "\n",
    "まずは1枚のグラフに複数の散布図をプロットする。\n",
    "先ほどのプロットに $y = 3x + \\varepsilon$ の関係を満たすデータの散布図を追加する。"
   ]
  },
  {
   "cell_type": "code",
   "execution_count": null,
   "id": "54d7aa74",
   "metadata": {},
   "outputs": [],
   "source": [
    "# プロットの入れ物の用意\n",
    "fig, ax = plt.subplots(figsize=(5, 4))\n",
    "\n",
    "# データの用意\n",
    "sample_y2 = sample_x * 3 + np.random.normal(loc=0, scale=1, size=len(sample_x))\n",
    "\n",
    "# 散布図のプロット\n",
    "ax.scatter(sample_x, sample_y)\n",
    "ax.scatter(sample_x, sample_y2)\n",
    "\n",
    "# 表示\n",
    "plt.show()"
   ]
  },
  {
   "cell_type": "markdown",
   "id": "ce3f6de0",
   "metadata": {},
   "source": [
    "このように同一のAxesオブジェクトの `scatter()` メソッドを複数回呼び出すことで、1つのグラフに複数の散布図をプロットすることができる。\n",
    "\n",
    "プロットの色は自動的に設定されるが、自分で指定することもできる。\n",
    "凡例や軸ラベル、タイトル、マーカーの種類の設定方法とともに紹介する。"
   ]
  },
  {
   "cell_type": "code",
   "execution_count": null,
   "id": "d339b7cf",
   "metadata": {},
   "outputs": [],
   "source": [
    "# プロットの入れ物の用意\n",
    "fig, ax = plt.subplots(figsize=(5, 4))\n",
    "\n",
    "# 散布図のプロット\n",
    "ax.scatter(sample_x, sample_y, color='royalblue', marker='v', label='y=2x+e')\n",
    "ax.scatter(sample_x, sample_y2, color='forestgreen', marker='x', label='y=3x+e')\n",
    "\n",
    "# 軸ラベル・タイトルの設定\n",
    "ax.set_xlabel('x')\n",
    "ax.set_ylabel('y')\n",
    "ax.set_title('xとyの関係')\n",
    "\n",
    "# 表示\n",
    "plt.legend() # 凡例の表示\n",
    "plt.show()"
   ]
  },
  {
   "cell_type": "markdown",
   "id": "f3ab086b",
   "metadata": {},
   "source": [
    "`ax.scatter()` メソッドのキーワード引数を使って、`color` を設定すると色を変更できる（`color` で指定できる色の名前の一覧は[こちら](https://matplotlib.org/stable/gallery/color/named_colors.html)）。`marker` を設定するとマーカーの種類を変更できる（`marker` で指定できる値の一覧は[こちら](https://matplotlib.org/stable/api/markers_api.html)）。`label` を設定すると凡例の表示を設定できる。凡例を表示するには、最後に `plt.legend()` を呼び出す。\n",
    "\n",
    "軸ラベルは `ax.set_xlabel()`、`ax.set_ylabel()` により設定する。同様にタイトルは `ax.set_title()` により設定する。"
   ]
  },
  {
   "cell_type": "markdown",
   "id": "ea417f35",
   "metadata": {},
   "source": [
    "### 折れ線グラフ"
   ]
  },
  {
   "cell_type": "markdown",
   "id": "b5e9a056",
   "metadata": {},
   "source": [
    "散布図と並んでよく使われるのが**折れ線グラフ**である。折れ線グラフでは、基本的にデータの順番は $x$ の値について昇順または降順であることを仮定する。\n",
    "このとき横軸に $x$、縦軸に $y$ の値をとって各データを点として打つところは散布図と同じであるが、折れ線グラフではこれらの点を線で結ぶ。これにより $x$ の値が増えたときの、$y$ の値の連続的な変化を表現できる。\n",
    "\n",
    "折れ線グラフのプロット例を以下に示す。\n",
    "ノイズのない $y = 2x$ の関係を表す2次元データ $(x, y)$ を `sample_x`、`sample_y3` に用意し、その折れ線グラフを最初の散布図に重ねてプロットしている。"
   ]
  },
  {
   "cell_type": "code",
   "execution_count": null,
   "id": "8e4b09e8",
   "metadata": {},
   "outputs": [],
   "source": [
    "# プロットの入れ物の用意\n",
    "fig, ax = plt.subplots(figsize=(5, 4))\n",
    "\n",
    "sample_y3 = sample_x * 2\n",
    "\n",
    "# 散布図、折れ線グラフのプロット\n",
    "ax.scatter(sample_x, sample_y)\n",
    "ax.plot(sample_x, sample_y3, color=\"orange\")\n",
    "\n",
    "# 表示\n",
    "plt.show()"
   ]
  },
  {
   "cell_type": "markdown",
   "id": "2fb0e047",
   "metadata": {},
   "source": [
    "**練習1**  \n",
    "以下のコードにより、0から10までの0.1刻みの配列が `x` に、`x` のそれぞれの要素に対してsin関数の値を計算した配列が `y_sin` に、cos関数の値を計算した配列が `y_cos` に代入される。このとき `x` と `y_sin`、`x` と `y_cos` それぞれのペアについて折れ線グラフを作成することで、sin関数、cos関数を可視化しなさい。またそれぞれのプロットの区別がつくように `\"sin関数\"`、`\"cos関数\"` という凡例をつけなさい。"
   ]
  },
  {
   "cell_type": "code",
   "execution_count": null,
   "id": "ff913663",
   "metadata": {},
   "outputs": [],
   "source": [
    "x = np.arange(0, 10, 0.1)\n",
    "y_sin = np.sin(x)\n",
    "y_cos = np.cos(x)"
   ]
  },
  {
   "cell_type": "code",
   "execution_count": null,
   "id": "ee5b0082",
   "metadata": {},
   "outputs": [],
   "source": [
    "# プロットの入れ物の用意\n",
    "fig, ax = plt.subplots(figsize=(5, 4))\n",
    "\n",
    "# ここに適切なコードを書く\n",
    "\n",
    "\n",
    "plt.legend() # 凡例の表示\n",
    "\n",
    "# ファイルとして保存\n",
    "plt.tight_layout()\n",
    "plt.savefig(\"練習1.png\") "
   ]
  },
  {
   "cell_type": "markdown",
   "id": "e28f3f1e",
   "metadata": {},
   "source": [
    "プロットしたら以下のコードを実行することにより、画像をダウンロードできる。これを提出しなさい。"
   ]
  },
  {
   "cell_type": "code",
   "execution_count": null,
   "id": "0550e94a",
   "metadata": {},
   "outputs": [],
   "source": [
    "from google.colab import files\n",
    "files.download(\"練習1.png\")"
   ]
  },
  {
   "cell_type": "markdown",
   "id": "dc600092",
   "metadata": {},
   "source": [
    "```{toggle}\n",
    "**解答例**   \n",
    "<pre style={\"white-space\": \"pre\"}>\n",
    "# プロットの入れ物の用意\n",
    "fig, ax = plt.subplots(figsize=(5, 4))\n",
    "\n",
    "# ここに適切なコードを書く\n",
    "ax.plot(x, y_sin, label=\"sin関数\")\n",
    "ax.plot(x, y_cos, label=\"cos関数\")\n",
    "\n",
    "plt.legend() # 凡例の表示\n",
    "\n",
    "# ファイルとして保存\n",
    "plt.tight_layout()\n",
    "plt.savefig(\"練習1.png\") \n",
    "</pre>\n",
    "```"
   ]
  },
  {
   "cell_type": "markdown",
   "id": "3c139ba7",
   "metadata": {},
   "source": [
    "## pandas入門"
   ]
  },
  {
   "cell_type": "markdown",
   "id": "c4dc3586",
   "metadata": {},
   "source": [
    "Pythonで表形式のデータ（テーブルデータ）を扱うのに**pandas**というライブラリがよく用いられる。この節ではpandasについて、今後の授業で使いうる機能に限定して説明する。\n",
    "\n",
    "pandasを使うには、pandasモジュールをimportする。\n",
    "ここでは説明のため、seabornというライブラリにサンプルとして用意されている `'diamonds'` というテーブルデータを使用する（データの説明は[こちら](https://ggplot2.tidyverse.org/reference/diamonds.html)）。`load_dataset()` 関数によりサンプルのテーブルデータを取得できる。このようなデータの集まりのことを**データセット**ともいう。"
   ]
  },
  {
   "cell_type": "code",
   "execution_count": 3,
   "id": "fb257327",
   "metadata": {},
   "outputs": [],
   "source": [
    "import pandas as pd\n",
    "import seaborn as sns\n",
    "df = sns.load_dataset('diamonds')"
   ]
  },
  {
   "cell_type": "markdown",
   "id": "e591584b",
   "metadata": {},
   "source": [
    "### データフレーム"
   ]
  },
  {
   "cell_type": "markdown",
   "id": "f138b822",
   "metadata": {},
   "source": [
    "pandasにおいてテーブルデータのことを**データフレーム**（**DataFrame**）という。\n",
    "データフレームの持つ `head()` メソッドにより、先頭から5件のデータを表示することができる。\n",
    "`head(10)` のように引数に整数を渡すことで、その件数だけデータを表示することもできる。"
   ]
  },
  {
   "cell_type": "code",
   "execution_count": null,
   "id": "3c4ed17e",
   "metadata": {
    "scrolled": true
   },
   "outputs": [],
   "source": [
    "df.head()"
   ]
  },
  {
   "cell_type": "markdown",
   "id": "385e6717",
   "metadata": {},
   "source": [
    "データフレームは、2次元配列の行方向と列方向にラベルがついたものと理解することができる。行方向のラベルのことを**index**、列方向のラベルのことを**columns**という。indexとcolumnsの値を指定して、要素にアクセスするには `loc` を使って次のように書く。"
   ]
  },
  {
   "cell_type": "code",
   "execution_count": null,
   "id": "4aa0ce29",
   "metadata": {},
   "outputs": [],
   "source": [
    "df.loc[0, \"carat\"]"
   ]
  },
  {
   "cell_type": "markdown",
   "id": "68ed6999",
   "metadata": {},
   "source": [
    "データフレームは2次元配列と相互に変換することができる。データフレームから2次元配列を取得するには、`values` 属性にアクセスすればよい。"
   ]
  },
  {
   "cell_type": "code",
   "execution_count": null,
   "id": "30fc36b4",
   "metadata": {
    "scrolled": true
   },
   "outputs": [],
   "source": [
    "array = df.values\n",
    "array"
   ]
  },
  {
   "cell_type": "markdown",
   "id": "33c4a8b8",
   "metadata": {},
   "source": [
    "2次元配列からデータフレームを作成するには次のように書く。"
   ]
  },
  {
   "cell_type": "code",
   "execution_count": null,
   "id": "4bbcb913",
   "metadata": {},
   "outputs": [],
   "source": [
    "df2 = pd.DataFrame(array)\n",
    "df2.head()"
   ]
  },
  {
   "cell_type": "markdown",
   "id": "94446829",
   "metadata": {},
   "source": [
    "columnsのデフォルト値は0始まりの整数である。データフレームの作成時にcolumnsを設定するには、次のように書く。"
   ]
  },
  {
   "cell_type": "code",
   "execution_count": null,
   "id": "fc8a887f",
   "metadata": {},
   "outputs": [],
   "source": [
    "df2 = pd.DataFrame(array, columns=['carat', 'cut', 'color', 'clarity', 'depth', 'table', 'price', 'x', 'y', 'z'])\n",
    "df2.head()"
   ]
  },
  {
   "cell_type": "markdown",
   "id": "9b6baff1",
   "metadata": {},
   "source": [
    "### シリーズ"
   ]
  },
  {
   "cell_type": "markdown",
   "id": "ef2d8b8b",
   "metadata": {},
   "source": [
    "データフレームは2次元配列に行ラベル・列ラベルをつけたものであった。\n",
    "pandasには、1次元配列に行ラベルをつけたデータ型も用意されており、**シリーズ**（**Series**）という。\n",
    "\n",
    "データフレームに対してcolumnsの値を `[]` で指定すると、その列のデータをシリーズとして取得できる。"
   ]
  },
  {
   "cell_type": "code",
   "execution_count": null,
   "id": "f9dfc6d2",
   "metadata": {},
   "outputs": [],
   "source": [
    "s = df[\"carat\"]\n",
    "s.head()"
   ]
  },
  {
   "cell_type": "markdown",
   "id": "41670fd1",
   "metadata": {},
   "source": [
    "indexの値を指定して、要素にアクセスするには `loc` を使って次のように書く。"
   ]
  },
  {
   "cell_type": "code",
   "execution_count": null,
   "id": "efbdf607",
   "metadata": {},
   "outputs": [],
   "source": [
    "s.loc[0]"
   ]
  },
  {
   "cell_type": "markdown",
   "id": "2c7645ce",
   "metadata": {},
   "source": [
    "シリーズは1次元配列と相互に変換することができる。シリーズから1次元配列を取得するには、`values` 属性にアクセスすればよい。"
   ]
  },
  {
   "cell_type": "code",
   "execution_count": null,
   "id": "3418cfad",
   "metadata": {
    "scrolled": true
   },
   "outputs": [],
   "source": [
    "array = s.values\n",
    "array"
   ]
  },
  {
   "cell_type": "markdown",
   "id": "aee0efee",
   "metadata": {},
   "source": [
    "1次元配列からシリーズを作成するには次のように書く。"
   ]
  },
  {
   "cell_type": "code",
   "execution_count": null,
   "id": "baf89624",
   "metadata": {},
   "outputs": [],
   "source": [
    "s2 = pd.Series(array)\n",
    "s2.head()"
   ]
  },
  {
   "cell_type": "markdown",
   "id": "7d31414a",
   "metadata": {},
   "source": [
    "### テーブル操作"
   ]
  },
  {
   "cell_type": "markdown",
   "id": "3304dbcc",
   "metadata": {},
   "source": [
    "データフレームを使うと、テーブルデータでよく行われる操作を簡単に実現することができる。データフレーム上でテーブルデータを加工し、加工したテーブルデータの値を配列として取得して、matplotlibなど他のライブラリに渡すというのがよくある使い方である。以下にいくつかの操作を紹介する。"
   ]
  },
  {
   "cell_type": "markdown",
   "id": "a6306cd1",
   "metadata": {},
   "source": [
    "#### ソート"
   ]
  },
  {
   "cell_type": "markdown",
   "id": "0feb459b",
   "metadata": {},
   "source": [
    "`sort_values()` メソッドにより、引数に渡した列を基準にソートすることができる。デフォルトでは昇順にソートする。ソートした結果のデータフレームが戻り値として返されるので、以下のコードではそれを変数 `df` に再代入している。"
   ]
  },
  {
   "cell_type": "code",
   "execution_count": null,
   "id": "0dbb39ef",
   "metadata": {},
   "outputs": [],
   "source": [
    "df = df.sort_values(\"carat\")\n",
    "df.head()"
   ]
  },
  {
   "cell_type": "markdown",
   "id": "7bf3e768",
   "metadata": {},
   "source": [
    "降順にソートしたい場合は、引数に `ascending=False` を指定する。"
   ]
  },
  {
   "cell_type": "code",
   "execution_count": null,
   "id": "7bcd7767",
   "metadata": {},
   "outputs": [],
   "source": [
    "df = df.sort_values(\"carat\", ascending=False)\n",
    "df.head()"
   ]
  },
  {
   "cell_type": "markdown",
   "id": "6a446654",
   "metadata": {},
   "source": [
    "#### フィルタリング"
   ]
  },
  {
   "cell_type": "markdown",
   "id": "05ff14c0",
   "metadata": {},
   "source": [
    "テーブルデータの中から特定の条件を満たす行を抽出することを**フィルタリング**という。\n",
    "\n",
    "フィルタリングを行うには、どのindexの行を抽出するかをブール型で表したシリーズを `loc` で指定する。\n",
    "例えば、`cut` の種類が `Premium` の行を抽出したいとしよう。\n",
    "このとき `cut` の種類が `Premium` かどうかを表すシリーズを次のように作成できる。"
   ]
  },
  {
   "cell_type": "code",
   "execution_count": null,
   "id": "167ba03c",
   "metadata": {},
   "outputs": [],
   "source": [
    "df['cut'] == 'Premium'"
   ]
  },
  {
   "cell_type": "markdown",
   "id": "32afa658",
   "metadata": {},
   "source": [
    "このシリーズを `loc`で指定することで、データフレームから `cut` の種類が `Premium` の行のみ抽出することができる。"
   ]
  },
  {
   "cell_type": "code",
   "execution_count": null,
   "id": "08946138",
   "metadata": {},
   "outputs": [],
   "source": [
    "df_premium = df.loc[df['cut'] == 'Premium']\n",
    "df_premium.head()"
   ]
  },
  {
   "cell_type": "markdown",
   "id": "472ecaff",
   "metadata": {},
   "source": [
    "#### 列の演算"
   ]
  },
  {
   "cell_type": "markdown",
   "id": "279e6091",
   "metadata": {},
   "source": [
    "シリーズは、配列と同様に各種演算を行うことができる。またデータフレームの列の追加や更新は代入文により行うことができる。\n",
    "例えば、`x`、`y`、`z` の総和を求めて、その結果を `sum` という列として保持するには、以下のように書く。"
   ]
  },
  {
   "cell_type": "code",
   "execution_count": null,
   "id": "4032fdc1",
   "metadata": {},
   "outputs": [],
   "source": [
    "df['sum'] = df['x'] + df['y'] + df['z']\n",
    "df.head()"
   ]
  },
  {
   "cell_type": "markdown",
   "id": "cc6bc739",
   "metadata": {},
   "source": [
    "例えば、`price` の対数を計算して `price_log` という列として保持するには、以下のように書く。\n",
    "このようにデータが数値の列に対して、NumPyの関数を適用することも可能である。"
   ]
  },
  {
   "cell_type": "code",
   "execution_count": null,
   "id": "56974464",
   "metadata": {},
   "outputs": [],
   "source": [
    "df['price_log'] = np.log(df['price'])\n",
    "df.head()"
   ]
  },
  {
   "cell_type": "markdown",
   "id": "2fb00564",
   "metadata": {},
   "source": [
    "**練習2**  \n",
    "`diamonds` データセットにおいて全データの価格の平均は `np.mean(df[\"price\"].values)` 、カラットの平均は `np.mean(df[\"carat\"].values)` により求めることができる。フィルタリングを行うことにより、カット `\"cut\"` の種類が `\"Ideal\"` のデータにおける価格の平均、カラットの平均を求めなさい。`\"Ideal\"` はカットの種類の中では一番良いカテゴリだが、価格の平均が全データでの平均より小さくなるのはなぜだろうか。"
   ]
  },
  {
   "cell_type": "code",
   "execution_count": null,
   "id": "e4c32df8",
   "metadata": {},
   "outputs": [],
   "source": []
  },
  {
   "cell_type": "markdown",
   "id": "82a32f9c",
   "metadata": {},
   "source": [
    "```{toggle}\n",
    "**解答例**   \n",
    "<pre style={\"white-space\": \"pre\"}>\n",
    "df_ideal = df.loc[df[\"cut\"] == \"Ideal\"]\n",
    "print(np.mean(df_ideal[\"price\"].values))\n",
    "print(np.mean(df_ideal[\"carat\"].values))\n",
    "</pre>\n",
    "```"
   ]
  },
  {
   "cell_type": "markdown",
   "id": "29d55afe",
   "metadata": {},
   "source": [
    "**練習3**  \n",
    "`diamonds` データセットにおいて価格上位5件、下位5件のデータを表示しなさい。"
   ]
  },
  {
   "cell_type": "code",
   "execution_count": null,
   "id": "af198c18",
   "metadata": {},
   "outputs": [],
   "source": []
  },
  {
   "cell_type": "markdown",
   "id": "7de58c7f",
   "metadata": {},
   "source": [
    "```{toggle}\n",
    "**解答例**   \n",
    "<pre style={\"white-space\": \"pre\"}>\n",
    "df.sort_values(\"price\", ascending=False).head()  # 上位5件\n",
    "\n",
    "df.sort_values(\"price\").head()  # 下位5件（上とは別のセルで実行する）\n",
    "</pre>\n",
    "```"
   ]
  },
  {
   "cell_type": "markdown",
   "id": "37ba9d77",
   "metadata": {},
   "source": [
    "## 演習"
   ]
  },
  {
   "cell_type": "markdown",
   "id": "9967dcac",
   "metadata": {},
   "source": [
    "**課題**  \n",
    "`diamonds` データセットにおいて `\"carat\"` と `\"price\"` の関係を散布図として可視化しなさい。`\"carat\"` の値を横軸、`\"price\"` の値を縦軸にとり、横軸には `\"カラット\"`、縦軸には `\"価格\"` という軸ラベルをつけなさい。"
   ]
  },
  {
   "cell_type": "code",
   "execution_count": null,
   "id": "829a5cd5",
   "metadata": {},
   "outputs": [],
   "source": [
    "# プロットの入れ物の用意\n",
    "fig, ax = plt.subplots(figsize=(5, 4))\n",
    "\n",
    "# データの用意\n",
    "x = df[\"carat\"].values\n",
    "y = df[\"price\"].values\n",
    "\n",
    "# ここに適切なコードを書く\n",
    "\n",
    "\n",
    "# ファイルとして保存\n",
    "plt.tight_layout()\n",
    "plt.savefig(\"課題1.png\") "
   ]
  },
  {
   "cell_type": "markdown",
   "id": "773924e0",
   "metadata": {},
   "source": [
    "プロットしたら以下のコードを実行することにより、画像をダウンロードできる。これを提出しなさい。"
   ]
  },
  {
   "cell_type": "code",
   "execution_count": null,
   "id": "b0e47861",
   "metadata": {},
   "outputs": [],
   "source": [
    "from google.colab import files\n",
    "files.download(\"課題1.png\")"
   ]
  },
  {
   "cell_type": "markdown",
   "id": "703de060",
   "metadata": {},
   "source": [
    "追記： 課題に取り組む上での注意点  \n",
    "- 最初から一通りのセルを実行していないと、上のコードを実行する準備が整わないことがあるので気を付ける。よくわからないエラーが出る場合は、ノートブック最初の2つのセル、pandas入門という節の最初のセルを改めて実行してから取り組むこと。\n",
    "- ファイルとして保存する場合は、`plt.show()` は実行しない。これを実行してしまうと白紙の画像ファイルがダウンロードされる。"
   ]
  },
  {
   "cell_type": "markdown",
   "id": "95637d9c",
   "metadata": {},
   "source": [
    "```{toggle}\n",
    "**解答例**   \n",
    "<pre style={\"white-space\": \"pre\"}>\n",
    "# プロットの入れ物の用意\n",
    "fig, ax = plt.subplots(figsize=(5, 4))\n",
    "\n",
    "# データの用意\n",
    "x = df[\"carat\"].values\n",
    "y = df[\"price\"].values\n",
    "\n",
    "# ここに適切なコードを書く\n",
    "ax.scatter(x, y)\n",
    "\n",
    "ax.set_xlabel(\"カラット\")\n",
    "ax.set_ylabel(\"価格\")\n",
    "\n",
    "# ファイルとして保存\n",
    "plt.tight_layout()\n",
    "plt.savefig(\"課題1.png\") \n",
    "</pre>\n",
    "```"
   ]
  }
 ],
 "metadata": {
  "kernelspec": {
   "display_name": "Python 3 (ipykernel)",
   "language": "python",
   "name": "python3"
  },
  "language_info": {
   "codemirror_mode": {
    "name": "ipython",
    "version": 3
   },
   "file_extension": ".py",
   "mimetype": "text/x-python",
   "name": "python",
   "nbconvert_exporter": "python",
   "pygments_lexer": "ipython3",
   "version": "3.9.5"
  },
  "vscode": {
   "interpreter": {
    "hash": "aee8b7b246df8f9039afb4144a1f6fd8d2ca17a180786b69acc140d282b71a49"
   }
  }
 },
 "nbformat": 4,
 "nbformat_minor": 5
}
