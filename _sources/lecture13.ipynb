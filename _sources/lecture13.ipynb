{
 "cells": [
  {
   "cell_type": "markdown",
   "id": "52b9c04c",
   "metadata": {},
   "source": [
    "# 第13回 データの可視化"
   ]
  },
  {
   "cell_type": "markdown",
   "id": "0f3467e6",
   "metadata": {},
   "source": [
    "___\n",
    "[![Open In Colab](https://colab.research.google.com/assets/colab-badge.svg)](https://colab.research.google.com/github/tsuboshun/begin-python/blob/gh-pages/_sources/workbook/lecture13.ipynb)\n",
    "\n",
    "___"
   ]
  },
  {
   "cell_type": "markdown",
   "id": "9ba5723c",
   "metadata": {},
   "source": [
    "## この授業で学ぶこと"
   ]
  },
  {
   "cell_type": "markdown",
   "id": "49246d72",
   "metadata": {},
   "source": [
    "準備中"
   ]
  },
  {
   "cell_type": "markdown",
   "id": "2ec0fa70",
   "metadata": {},
   "source": [
    "## matplotlib入門"
   ]
  },
  {
   "cell_type": "markdown",
   "id": "372c23e4",
   "metadata": {},
   "source": [
    "Pythonでグラフを描画するのに**matplotlib**というライブラリがよく用いられる。この節ではmatplotlibの使い方の基本を説明する。\n",
    "\n",
    "matplotlibを使うには、その中のpyplotというモジュールをimportする。\n",
    "またグラフのラベルに日本語を使えるようにするためにjapanize_matplotlibというモジュールをimportする。こちらはpipによるインストールが必要である[^f1]。\n",
    "\n",
    "[^f1]: matplotlibも標準ライブラリではないため本来はpipによるインストールが必要であるが、Google Colabの環境では初めからインストールされている。"
   ]
  },
  {
   "cell_type": "code",
   "execution_count": null,
   "id": "f648d25c",
   "metadata": {},
   "outputs": [],
   "source": [
    "pip install japanize_matplotlib"
   ]
  },
  {
   "cell_type": "code",
   "execution_count": null,
   "id": "a5cd3456",
   "metadata": {},
   "outputs": [],
   "source": [
    "import matplotlib.pyplot as plt\n",
    "import japanize_matplotlib\n",
    "plt.rcParams.update({'font.size': 14})  # 文字サイズを14pxとする"
   ]
  },
  {
   "cell_type": "markdown",
   "id": "7618ef00",
   "metadata": {},
   "source": [
    "まずは描画用のサンプルデータを用意しよう。matplotlibではリストまたは[第6回で紹介](label:numpy)したNumPyの配列（`ndarray`）を扱うことができる。ここでは配列のデータを用意する。"
   ]
  },
  {
   "cell_type": "code",
   "execution_count": null,
   "id": "0caf036b",
   "metadata": {},
   "outputs": [],
   "source": [
    "import numpy as np\n",
    "\n",
    "# 0から10までの0.1刻みの配列\n",
    "sample_x = np.arange(0, 10, 0.1)\n",
    "\n",
    "# y = 2x + eps　（epsはノイズ）\n",
    "eps = np.random.normal(loc=0, scale=1, size=len(sample_x))\n",
    "sample_y = sample_x * 2 + eps"
   ]
  },
  {
   "cell_type": "markdown",
   "id": "f69634e0",
   "metadata": {},
   "source": [
    "`np.arange()` 関数は、`np.arange(start, stop, step)` と呼び出すと `start` から `stop` までの `step` 刻みの配列を生成する。"
   ]
  },
  {
   "cell_type": "code",
   "execution_count": null,
   "id": "eaf0af95",
   "metadata": {},
   "outputs": [],
   "source": [
    "sample_x"
   ]
  },
  {
   "cell_type": "code",
   "execution_count": null,
   "id": "43dcaa0f",
   "metadata": {},
   "outputs": [],
   "source": [
    "len(sample_x)"
   ]
  },
  {
   "cell_type": "markdown",
   "id": "07a5d544",
   "metadata": {},
   "source": [
    "`np.random.normal()` 関数は上のように呼び出すと、平均が0で標準偏差が1の正規分布に従う乱数の配列（長さ `len(sample_x)`）を生成する。代入先の `eps` はデータに加えるノイズとして使用する。"
   ]
  },
  {
   "cell_type": "code",
   "execution_count": null,
   "id": "95cb4977",
   "metadata": {},
   "outputs": [],
   "source": [
    "eps"
   ]
  },
  {
   "cell_type": "markdown",
   "id": "af7f0d20",
   "metadata": {},
   "source": [
    "配列の特徴の1つは、要素ごとの演算を一括で行えることである。`sample_x * 2 + eps` により、インデックスごとに `sample_x` の要素を2倍し、`eps` の要素を足している。\n",
    "\n",
    "ここで生成した `sample_x` と `sample_y` は $\\varepsilon$ をノイズとして $y = 2x + \\varepsilon$ の関係を満たす2次元データ $(x, y)$ を100個生成したものと見ることができる。\n",
    "1つ1つのデータは(`sample_x[0]`, `sample_y[0]`), (`sample_x[1]`, `sample_y[1]`), ..., (`sample_x[99]`, `sample_y[99]`)である。"
   ]
  },
  {
   "cell_type": "markdown",
   "id": "74330837",
   "metadata": {},
   "source": [
    "### 散布図"
   ]
  },
  {
   "cell_type": "markdown",
   "id": "8ab08a4c",
   "metadata": {},
   "source": [
    "サンプルデータを**散布図**として可視化してみよう。横軸に $x$、縦軸に $y$ の値をとって各データを点として打って描画する。このことをデータを散布図として**プロット**するという。"
   ]
  },
  {
   "cell_type": "code",
   "execution_count": null,
   "id": "5ae86286",
   "metadata": {
    "scrolled": true
   },
   "outputs": [],
   "source": [
    "# プロットの入れ物の用意\n",
    "fig, ax = plt.subplots(1, 1, figsize=(5, 4))\n",
    "\n",
    "# 散布図のプロット\n",
    "ax.scatter(sample_x, sample_y)\n",
    "\n",
    "# 表示\n",
    "plt.show()"
   ]
  },
  {
   "cell_type": "markdown",
   "id": "4eb8ab30",
   "metadata": {},
   "source": [
    "1行目では `plt.subplots()` 関数によりFigureオブジェクトとAxesオブジェクトを生成して、変数 `fig` と `ax` に代入している[^f2][^f3]。\n",
    "\n",
    "matplotlibによる描画はFigureオブジェクトとAxesオブジェクト、Axisオブジェクトの3つの要素で構成される。それぞれの関係を次の図に示す。\n",
    "\n",
    "[^f2]: 一見すると戻り値が2つあるように見えるが、`plt.subplots()` はFigureオブジェクトとAxesオブジェクトのタプルを返しており（つまり戻り値は1つ）、タプルの各要素を `fig` と `ax` に割り当てている。戻り値のタプルを `,` 区切りの変数で受け取ることを**アンパック**という。\n",
    "[^f3]: matplotlibの描画方法にはexplicit（明示的）な方法とimplicit（非明示的）な方法の2種類があるが、このテキストではexplicitな方法を説明する。implicitな方法というのは、`fig` や `ax` を用意することなく、いきなり `plt.plot()` などとプロットする方法のことである。implicitな方法は手軽にプロットできるというメリットがあるが、細かい調整ができないというデメリットもある。そのため、はじめからexplicitな方法を覚えるのがお勧めである。"
   ]
  },
  {
   "cell_type": "markdown",
   "id": "a801a528",
   "metadata": {},
   "source": [
    "```{figure} ./pic/fig_map.png\n",
    "---\n",
    "width: 400px\n",
    "name: fig_map\n",
    "---\n",
    "グラフの構成要素\n",
    "```"
   ]
  },
  {
   "cell_type": "markdown",
   "id": "966f84a6",
   "metadata": {},
   "source": [
    "Axisオブジェクトは1つの軸を管理し、Axesオブジェクトは1つのグラフを管理し、Figureオブジェクトは描画全体を管理する。\n",
    "これから予想できるようにAxisオブジェクトはAxesオブジェクトの属性、AxesオブジェクトはFigureオブジェクトの属性となっている。\n",
    "\n",
    "コードの説明に戻ると、`plt.subplots()` 関数は `plt.subplots(n, m, figsize=(w, h))` と呼び出すと、横幅 `w`、高さ `h` （単位はインチ）のFigureオブジェクトと、その中に `n` 行 `m` 列の`n * m` 個のAxesオブジェクトを作成する。`n = m = 1` のときAxesオブジェクトは1つであり、このときに限り戻り値の `ax` はAxesオブジェクトそのものになる。それ以外のときは、Axesオブジェクトの配列となる。\n",
    "\n",
    "散布図のプロットは `ax.scatter()` メソッドにより行う。第一引数に横軸の値の配列、第二引数に縦軸の値の配列を指定する。\n",
    "最後に `plt.show()` 関数を呼び出すことで、グラフが表示される。"
   ]
  },
  {
   "cell_type": "markdown",
   "id": "9076f439",
   "metadata": {},
   "source": [
    "### 複数のプロット"
   ]
  },
  {
   "cell_type": "markdown",
   "id": "1fe848bd",
   "metadata": {},
   "source": [
    "複数のプロットを描画する方法を説明する。\n",
    "\n",
    "まずは1枚のグラフに複数の散布図をプロットしてみよう。\n",
    "先ほどのプロットに $y = 3x + \\varepsilon$ の関係を満たすデータの散布図を追加する。"
   ]
  },
  {
   "cell_type": "code",
   "execution_count": null,
   "id": "3f486e1c",
   "metadata": {},
   "outputs": [],
   "source": [
    "# プロットの入れ物の用意\n",
    "fig, ax = plt.subplots(1, 1, figsize=(5, 4))\n",
    "\n",
    "# データの用意\n",
    "sample_y2 = sample_x * 3 + np.random.normal(loc=0, scale=1, size=len(sample_x))\n",
    "\n",
    "# 散布図のプロット\n",
    "ax.scatter(sample_x, sample_y)\n",
    "ax.scatter(sample_x, sample_y2)\n",
    "\n",
    "# 表示\n",
    "plt.show()"
   ]
  },
  {
   "cell_type": "markdown",
   "id": "db52711c",
   "metadata": {},
   "source": [
    "このように同一のAxesオブジェクトの `scatter()` メソッドを複数回呼び出すことで、1つのグラフに複数の散布図をプロットすることができる。\n",
    "\n",
    "プロットの色は自動的に設定されるが、自分で指定することもできる。\n",
    "凡例や軸ラベル、タイトル、マーカーの種類の設定方法とともに紹介する。"
   ]
  },
  {
   "cell_type": "code",
   "execution_count": null,
   "id": "208b754a",
   "metadata": {},
   "outputs": [],
   "source": [
    "# プロットの入れ物の用意\n",
    "fig, ax = plt.subplots(1, 1, figsize=(5, 4))\n",
    "\n",
    "# 散布図のプロット\n",
    "ax.scatter(sample_x, sample_y, color='royalblue', marker='v', label='y=2x+e')\n",
    "ax.scatter(sample_x, sample_y2, color='forestgreen', marker='x', label='y=3x+e')\n",
    "\n",
    "# 軸ラベル・タイトルの設定\n",
    "ax.set_xlabel('x')\n",
    "ax.set_ylabel('y')\n",
    "ax.set_title('xとyの関係')\n",
    "\n",
    "# 表示\n",
    "plt.legend() # 凡例の表示\n",
    "plt.show()"
   ]
  },
  {
   "cell_type": "markdown",
   "id": "5232eec8",
   "metadata": {},
   "source": [
    "`ax.scatter()` メソッドのキーワード引数を使って、`color` を設定すると色を変更できる（`color` で指定できる色の名前の一覧は[こちら](https://matplotlib.org/stable/gallery/color/named_colors.html)）。色の名前を指定する以外の方法としてRGB値を直接指定することもできる（[こちら](https://matplotlib.org/stable/tutorials/colors/colors.html)を参照）。`marker` を設定するとマーカーの種類を変更できる（`marker` で指定できる値の一覧は[こちら](https://matplotlib.org/stable/api/markers_api.html)）。`label` を設定すると凡例の表示名を設定できる。凡例を表示するには、最後に `plt.legend()` を呼び出す。\n",
    "\n",
    "軸ラベルは `ax.set_xlabel()`、`ax.set_ylabel()` により設定する。同様にタイトルは `ax.set_title()` により設定する。\n",
    "\n",
    "次に複数のグラフを同時に描画する方法を紹介しよう。例えば、グラフを2枚横並びに作成するには `plt.subplots()` の第一引数に `1`、第二引数に `2` を指定する（1行2列という意味になる）。その際、`figsize` の値も合わせて大きくする。"
   ]
  },
  {
   "cell_type": "code",
   "execution_count": null,
   "id": "b8516ace",
   "metadata": {},
   "outputs": [],
   "source": [
    "# プロットの入れ物の用意\n",
    "fig, axes = plt.subplots(1, 2, figsize=(10, 4))\n",
    "\n",
    "# データの用意\n",
    "sample_y2 = sample_x * 2 + np.random.normal(loc=0, scale=2, size=len(sample_x))\n",
    "\n",
    "# 散布図のプロット\n",
    "axes[0].scatter(sample_x, sample_y)\n",
    "axes[1].scatter(sample_x, sample_y2)\n",
    "\n",
    "# タイトルの設定\n",
    "axes[0].set_title('ノイズの標準偏差1')\n",
    "axes[1].set_title('ノイズの標準偏差2')\n",
    "\n",
    "# 表示\n",
    "plt.show()"
   ]
  },
  {
   "cell_type": "markdown",
   "id": "eca44aa6",
   "metadata": {},
   "source": [
    "上のコード例では、ノイズの大きさを変えた2つのデータをプロットしている。\n",
    "先ほど説明したように複数列の場合 `plt.subplots()` の戻り値の2つ目の要素はAxesの配列となるので、慣例により変数名も合わせて複数形の `axes` にしている。左のAxesは `axes[0]` により、右のAxesは `axes[1]` によりアクセスできる。\n",
    "\n",
    "今回は1行のみなので `axes` は1次元配列となっているが、複数行・複数列のとき `axes` は2次元配列となる。\n",
    "その場合は `axes[i, j]` という形でAxesにアクセスする。"
   ]
  },
  {
   "cell_type": "markdown",
   "id": "5e12aee3",
   "metadata": {},
   "source": [
    "### 折れ線グラフ"
   ]
  },
  {
   "cell_type": "markdown",
   "id": "2872626a",
   "metadata": {},
   "source": [
    "サンプルデータに対して線形回帰を行い、その結果を**折れ線グラフ**として可視化してみよう。\n",
    "\n",
    "まずは線形回帰について概要を説明する。係数の求め方など詳しい解説はしないので、詳しくは他のテキストを当たってほしい。\n",
    "今 `sample_x` と `sample_y` は実験により得られたデータであるとし、$x$ と $y$ の関係について詳しくはわからないという状況を考える（$y = 2x + \\varepsilon$ という式により生成したことは忘れる）。\n",
    "このとき $x$ と $y$ について例えば $y = ax + b + \\varepsilon$ という一次関数にノイズが乗った関係を仮定して、データだけから尤もらしい係数 $a$、切片 $b$ を推定するのが線形回帰である。もちろん $a = 2$、$b = 0$ が正解であるが、データだけから推定するので多少の誤差が生じる。仮定した式 $y = ax + b + \\varepsilon$ のことを**モデル**、$x$ のことを**説明変数**、$y$ のことを**目的変数**という。\n",
    "\n",
    "係数 $a$、切片 $b$ の求め方はさておき、Pythonで線形回帰を行ってみよう。`sklearn` というライブラリの `linear_model` というモジュールから `LinearRegression` クラスをインポートする。"
   ]
  },
  {
   "cell_type": "code",
   "execution_count": null,
   "id": "2ab7e8a7",
   "metadata": {},
   "outputs": [],
   "source": [
    "from sklearn.linear_model import LinearRegression"
   ]
  },
  {
   "cell_type": "markdown",
   "id": "5c368e63",
   "metadata": {},
   "source": [
    "`sklearn` では、説明変数のデータ型は2次元配列であることが仮定されている。行方向は1つ1つのデータ、列方向は説明変数を表す。今回はデータ数100個、説明変数1個なので、`reshape()` メソッドにより1次元配列の `sample_x` を100行1列の2次元配列 `sample_x_reshape` に変換する。 `reshape()` メソッドはタプル `(n, m)` を渡すと、そのデータを `n` 行 `m` 列の2次元配列に変換する。"
   ]
  },
  {
   "cell_type": "code",
   "execution_count": null,
   "id": "bc5d0ecf",
   "metadata": {},
   "outputs": [],
   "source": [
    "# データの用意\n",
    "sample_x_reshape = sample_x.reshape((100, 1))\n",
    "\n",
    "# 線形回帰モデルの用意\n",
    "lr = LinearRegression()\n",
    "\n",
    "# モデルのパラメータのフィッティング\n",
    "lr.fit(sample_x_reshape, sample_y)\n",
    "\n",
    "# モデルによる予測\n",
    "y_pred = lr.predict(sample_x_reshape)"
   ]
  },
  {
   "cell_type": "markdown",
   "id": "7604a856",
   "metadata": {},
   "source": [
    "線形回帰モデルを表すオブジェクトを `LinearRegression()` により生成する。そして `fit()` メソッドにより係数と切片を求めている。`predict()` メソッドを使用すると、求めた係数と切片を使って `sample_x_reshape` の各データに対して予測値を求めて、1次元配列の戻り値として返してくれる。予測値は $ax + b$ を計算することにより求めている。\n",
    "\n",
    "得られた係数と切片は `coef_` 属性、`intercept_` 属性から確認できる。それぞれ $2$、$0$ から少しズレるが、概ね正しい値が得られている。"
   ]
  },
  {
   "cell_type": "code",
   "execution_count": null,
   "id": "0a380b39",
   "metadata": {
    "scrolled": true
   },
   "outputs": [],
   "source": [
    "lr.coef_"
   ]
  },
  {
   "cell_type": "code",
   "execution_count": null,
   "id": "aa4ba236",
   "metadata": {
    "scrolled": true
   },
   "outputs": [],
   "source": [
    "lr.intercept_"
   ]
  },
  {
   "cell_type": "markdown",
   "id": "16afb8a0",
   "metadata": {},
   "source": [
    "以上の結果をグラフに可視化しよう。線形回帰の予測値を折れ線グラフとしてプロットする。折れ線グラフは `ax.plot()` メソッドによりプロットすることができる。"
   ]
  },
  {
   "cell_type": "code",
   "execution_count": null,
   "id": "8e4b09e8",
   "metadata": {},
   "outputs": [],
   "source": [
    "# プロットの入れ物の用意\n",
    "fig, ax = plt.subplots(1, 1, figsize=(5, 4))\n",
    "\n",
    "# 散布図、折れ線グラフのプロット\n",
    "ax.scatter(sample_x, sample_y)\n",
    "ax.plot(sample_x_reshape, y_pred, color=\"orange\")\n",
    "\n",
    "# 表示\n",
    "plt.show()"
   ]
  },
  {
   "cell_type": "markdown",
   "id": "3c139ba7",
   "metadata": {},
   "source": [
    "## pandas入門"
   ]
  },
  {
   "cell_type": "code",
   "execution_count": 1,
   "id": "bd76486b",
   "metadata": {},
   "outputs": [],
   "source": [
    "import pandas as pd\n",
    "import seaborn as sns\n",
    "df = sns.load_dataset('diamonds')"
   ]
  },
  {
   "cell_type": "code",
   "execution_count": 2,
   "id": "3c4ed17e",
   "metadata": {
    "scrolled": true
   },
   "outputs": [
    {
     "data": {
      "text/html": [
       "<div>\n",
       "<style scoped>\n",
       "    .dataframe tbody tr th:only-of-type {\n",
       "        vertical-align: middle;\n",
       "    }\n",
       "\n",
       "    .dataframe tbody tr th {\n",
       "        vertical-align: top;\n",
       "    }\n",
       "\n",
       "    .dataframe thead th {\n",
       "        text-align: right;\n",
       "    }\n",
       "</style>\n",
       "<table border=\"1\" class=\"dataframe\">\n",
       "  <thead>\n",
       "    <tr style=\"text-align: right;\">\n",
       "      <th></th>\n",
       "      <th>carat</th>\n",
       "      <th>cut</th>\n",
       "      <th>color</th>\n",
       "      <th>clarity</th>\n",
       "      <th>depth</th>\n",
       "      <th>table</th>\n",
       "      <th>price</th>\n",
       "      <th>x</th>\n",
       "      <th>y</th>\n",
       "      <th>z</th>\n",
       "    </tr>\n",
       "  </thead>\n",
       "  <tbody>\n",
       "    <tr>\n",
       "      <th>0</th>\n",
       "      <td>0.23</td>\n",
       "      <td>Ideal</td>\n",
       "      <td>E</td>\n",
       "      <td>SI2</td>\n",
       "      <td>61.5</td>\n",
       "      <td>55.0</td>\n",
       "      <td>326</td>\n",
       "      <td>3.95</td>\n",
       "      <td>3.98</td>\n",
       "      <td>2.43</td>\n",
       "    </tr>\n",
       "    <tr>\n",
       "      <th>1</th>\n",
       "      <td>0.21</td>\n",
       "      <td>Premium</td>\n",
       "      <td>E</td>\n",
       "      <td>SI1</td>\n",
       "      <td>59.8</td>\n",
       "      <td>61.0</td>\n",
       "      <td>326</td>\n",
       "      <td>3.89</td>\n",
       "      <td>3.84</td>\n",
       "      <td>2.31</td>\n",
       "    </tr>\n",
       "    <tr>\n",
       "      <th>2</th>\n",
       "      <td>0.23</td>\n",
       "      <td>Good</td>\n",
       "      <td>E</td>\n",
       "      <td>VS1</td>\n",
       "      <td>56.9</td>\n",
       "      <td>65.0</td>\n",
       "      <td>327</td>\n",
       "      <td>4.05</td>\n",
       "      <td>4.07</td>\n",
       "      <td>2.31</td>\n",
       "    </tr>\n",
       "    <tr>\n",
       "      <th>3</th>\n",
       "      <td>0.29</td>\n",
       "      <td>Premium</td>\n",
       "      <td>I</td>\n",
       "      <td>VS2</td>\n",
       "      <td>62.4</td>\n",
       "      <td>58.0</td>\n",
       "      <td>334</td>\n",
       "      <td>4.20</td>\n",
       "      <td>4.23</td>\n",
       "      <td>2.63</td>\n",
       "    </tr>\n",
       "    <tr>\n",
       "      <th>4</th>\n",
       "      <td>0.31</td>\n",
       "      <td>Good</td>\n",
       "      <td>J</td>\n",
       "      <td>SI2</td>\n",
       "      <td>63.3</td>\n",
       "      <td>58.0</td>\n",
       "      <td>335</td>\n",
       "      <td>4.34</td>\n",
       "      <td>4.35</td>\n",
       "      <td>2.75</td>\n",
       "    </tr>\n",
       "  </tbody>\n",
       "</table>\n",
       "</div>"
      ],
      "text/plain": [
       "   carat      cut color clarity  depth  table  price     x     y     z\n",
       "0   0.23    Ideal     E     SI2   61.5   55.0    326  3.95  3.98  2.43\n",
       "1   0.21  Premium     E     SI1   59.8   61.0    326  3.89  3.84  2.31\n",
       "2   0.23     Good     E     VS1   56.9   65.0    327  4.05  4.07  2.31\n",
       "3   0.29  Premium     I     VS2   62.4   58.0    334  4.20  4.23  2.63\n",
       "4   0.31     Good     J     SI2   63.3   58.0    335  4.34  4.35  2.75"
      ]
     },
     "execution_count": 2,
     "metadata": {},
     "output_type": "execute_result"
    }
   ],
   "source": [
    "df.head()"
   ]
  },
  {
   "cell_type": "markdown",
   "id": "ad8790a0",
   "metadata": {},
   "source": [
    "## ヒストグラム"
   ]
  },
  {
   "cell_type": "code",
   "execution_count": null,
   "id": "0ef88fd2",
   "metadata": {},
   "outputs": [],
   "source": [
    "# プロットの入れ物の用意\n",
    "fig, ax = plt.subplots()\n",
    "\n",
    "# データの用意\n",
    "x = df[\"price\"].values\n",
    "\n",
    "# ヒストグラムのプロット\n",
    "ax.hist(x)\n",
    "\n",
    "# 表示\n",
    "plt.show()"
   ]
  },
  {
   "cell_type": "code",
   "execution_count": null,
   "id": "905666eb",
   "metadata": {},
   "outputs": [],
   "source": [
    "# プロットの入れ物の用意\n",
    "fig, ax = plt.subplots()\n",
    "\n",
    "# データの用意\n",
    "x = np.log(df[\"carat\"].values)\n",
    "y = np.log(df[\"price\"].values)\n",
    "\n",
    "# 2次元ヒストグラムのプロット\n",
    "hb = ax.hexbin(x, y, gridsize=10)\n",
    "\n",
    "# カラーバーのプロット\n",
    "cb = fig.colorbar(hb, ax=ax)\n",
    "cb.set_label('カウント')\n",
    "\n",
    "# 表示\n",
    "plt.show()"
   ]
  },
  {
   "cell_type": "code",
   "execution_count": null,
   "id": "95aefea6",
   "metadata": {},
   "outputs": [],
   "source": []
  }
 ],
 "metadata": {
  "kernelspec": {
   "display_name": "Python 3 (ipykernel)",
   "language": "python",
   "name": "python3"
  },
  "language_info": {
   "codemirror_mode": {
    "name": "ipython",
    "version": 3
   },
   "file_extension": ".py",
   "mimetype": "text/x-python",
   "name": "python",
   "nbconvert_exporter": "python",
   "pygments_lexer": "ipython3",
   "version": "3.9.5"
  },
  "vscode": {
   "interpreter": {
    "hash": "aee8b7b246df8f9039afb4144a1f6fd8d2ca17a180786b69acc140d282b71a49"
   }
  }
 },
 "nbformat": 4,
 "nbformat_minor": 5
}
