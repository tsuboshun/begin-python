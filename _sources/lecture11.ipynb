{
 "cells": [
  {
   "cell_type": "markdown",
   "id": "52b9c04c",
   "metadata": {},
   "source": [
    "# 第11回 アルゴリズム入門：データの探索"
   ]
  },
  {
   "cell_type": "markdown",
   "id": "0f3467e6",
   "metadata": {},
   "source": [
    "___\n",
    "[![Open In Colab](https://colab.research.google.com/assets/colab-badge.svg)](https://colab.research.google.com/github/tsuboshun/begin-python/blob/gh-pages/_sources/workbook/lecture11.ipynb)\n",
    "\n",
    "___"
   ]
  },
  {
   "cell_type": "markdown",
   "id": "9ba5723c",
   "metadata": {},
   "source": [
    "## この授業で学ぶこと"
   ]
  },
  {
   "cell_type": "markdown",
   "id": "49246d72",
   "metadata": {},
   "source": [
    "準備中"
   ]
  },
  {
   "cell_type": "markdown",
   "id": "5043fc4e",
   "metadata": {},
   "source": [
    "## 探索とは"
   ]
  },
  {
   "cell_type": "markdown",
   "id": "800f0081",
   "metadata": {},
   "source": [
    "データの集合の中から、特定の条件に適合する要素を見つけることを **探索** という。\n",
    "このテキストでは、次の問題に限定して考える： 整数のリストと整数のキーが与えられるとき、リストの中にキーと一致する要素が存在するかを判定し、存在するときはそのインデックスを1つ求める。\n",
    "\n",
    "このアルゴリズムを関数として実装しよう。\n",
    "リストとキーを引数として受け取り、リストの中にキーが存在すればそのインデックスを返し、存在しなければ `None` を返す関数を作成する。\n",
    "\n",
    "例えば、次のリストとキーのペアに対しては、インデックスの3を返す。\n",
    "\n",
    "<pre>\n",
    "data = [5, 1, 3, 7, 2]\n",
    "key = 7\n",
    "</pre>\n",
    "\n",
    "次のリストとキーのペアに対しては、`None` を返す。\n",
    "<pre>\n",
    "data = [5, 1, 3, 7, 2]\n",
    "key = 4\n",
    "</pre>\n",
    "\n",
    "探索は使用頻度の高い基本的な操作なので、数多くのアルゴリズムが考案されている。\n",
    "今回はその中から代表的な線形探索と二分探索を紹介する。\n",
    "\n",
    "なお、探索プログラムはリストの `index()` メソッドを使えば、次のように実装することができる。\n",
    "ここではアルゴリズムの学習のため、`index()` メソッドには頼らずに、1からプログラムを作成することを考える。"
   ]
  },
  {
   "cell_type": "code",
   "execution_count": null,
   "id": "8e3a7555",
   "metadata": {},
   "outputs": [],
   "source": [
    "def search(data, key):\n",
    "    if key in data:\n",
    "        return data.index(key)\n",
    "    else:\n",
    "        return None"
   ]
  },
  {
   "cell_type": "code",
   "execution_count": null,
   "id": "56baa42a",
   "metadata": {},
   "outputs": [],
   "source": [
    "data = [5, 1, 3, 7, 2]\n",
    "key = 7\n",
    "print(search(data, key))\n",
    "\n",
    "data = [5, 1, 3, 7, 2]\n",
    "key = 4\n",
    "print(search(data, key))"
   ]
  },
  {
   "cell_type": "markdown",
   "id": "d213ce3e",
   "metadata": {},
   "source": [
    "## 線形探索"
   ]
  },
  {
   "cell_type": "markdown",
   "id": "21d838db",
   "metadata": {},
   "source": [
    "線形探索は、前から順に探すという単純なアルゴリズムである。\n",
    "実装としては、for文により前から要素を1つずつ調べていき、キーに一致する要素を見つけたところでそのインデックスをreturn文で返す。\n",
    "最後までキーに一致する要素が見つからなかった場合は、`None` をreturn文で返す。\n",
    "\n",
    "以下に、未完成の `linear_search()` 関数を用意した。練習として、プログラムを完成させてみてほしい。"
   ]
  },
  {
   "cell_type": "code",
   "execution_count": null,
   "id": "e16de7c4",
   "metadata": {},
   "outputs": [],
   "source": [
    "def linear_search(data, key):\n",
    "    for i in range(len(data)):\n",
    "            pass   # ここを書き換える\n",
    "    return None"
   ]
  },
  {
   "cell_type": "code",
   "execution_count": null,
   "id": "5743d54c",
   "metadata": {},
   "outputs": [],
   "source": [
    "data = [5, 1, 3, 7, 2]\n",
    "key = 7\n",
    "print(linear_search(data, key))\n",
    "\n",
    "data = [5, 1, 3, 7, 2]\n",
    "key = 4\n",
    "print(linear_search(data, key))"
   ]
  },
  {
   "cell_type": "markdown",
   "id": "34a1f386",
   "metadata": {},
   "source": [
    "線形探索の計算量は、リストの要素数を $N$ として、最悪も平均も $O(N)$ である。\n",
    "最悪の場合は、キーと一致する要素がリストの最後にあるか、存在しない場合である。\n",
    "このときfor文の処理を $N$ 回繰り返すことになるので、最悪計算量は $O(N)$ となる。\n",
    "平均的な場合は、for文の処理を $N/2$ 回繰り返すことになる。\n",
    "計算量を表す際には、定数は無視されるため、平均計算量も $O(N)$ となる。\n",
    "\n",
    "$O(N)$ は計算量として十分小さいので、実用上はこれで十分なことが多い。\n",
    "ちなみに、リストの `index()` メソッドも線形探索を実装したものとなっている。"
   ]
  },
  {
   "cell_type": "markdown",
   "id": "535fc5b5",
   "metadata": {},
   "source": [
    "## 二分探索"
   ]
  },
  {
   "cell_type": "code",
   "execution_count": null,
   "id": "08176bcd",
   "metadata": {},
   "outputs": [],
   "source": [
    "def binary_search(data, key):\n",
    "    left = 0\n",
    "    right = len(data) - 1\n",
    "    while left <= right:\n",
    "        mid = (left + right) // 2\n",
    "        if data[mid] == key:\n",
    "            return mid\n",
    "        elif data[mid] > key:\n",
    "            right = mid-1\n",
    "        else:\n",
    "            left = mid+1\n",
    "    return None"
   ]
  },
  {
   "cell_type": "code",
   "execution_count": null,
   "id": "f2efe971",
   "metadata": {},
   "outputs": [],
   "source": [
    "import time\n",
    "\n",
    "def exec_time(func, data, key):\n",
    "    start = time.time()\n",
    "    func(data, key)\n",
    "    end = time.time()\n",
    "    return end - start"
   ]
  }
 ],
 "metadata": {
  "kernelspec": {
   "display_name": "Python 3 (ipykernel)",
   "language": "python",
   "name": "python3"
  },
  "language_info": {
   "codemirror_mode": {
    "name": "ipython",
    "version": 3
   },
   "file_extension": ".py",
   "mimetype": "text/x-python",
   "name": "python",
   "nbconvert_exporter": "python",
   "pygments_lexer": "ipython3",
   "version": "3.9.5"
  },
  "vscode": {
   "interpreter": {
    "hash": "aee8b7b246df8f9039afb4144a1f6fd8d2ca17a180786b69acc140d282b71a49"
   }
  }
 },
 "nbformat": 4,
 "nbformat_minor": 5
}
