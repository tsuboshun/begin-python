{
 "cells": [
  {
   "cell_type": "markdown",
   "id": "52b9c04c",
   "metadata": {},
   "source": [
    "# 第11回 データの可視化"
   ]
  },
  {
   "cell_type": "markdown",
   "id": "0f3467e6",
   "metadata": {},
   "source": [
    "___\n",
    "[![Open In Colab](https://colab.research.google.com/assets/colab-badge.svg)](https://colab.research.google.com/github/tsuboshun/begin-python/blob/gh-pages/workbook/lecture11.ipynb)\n",
    "\n",
    "___"
   ]
  },
  {
   "cell_type": "markdown",
   "id": "9ba5723c",
   "metadata": {},
   "source": [
    "## この授業で学ぶこと"
   ]
  },
  {
   "cell_type": "markdown",
   "id": "49246d72",
   "metadata": {},
   "source": [
    "今回から第13回にかけてデータサイエンスの入門講義を行う。今回はデータの可視化をテーマに、Matplotlibというグラフ描画ライブラリの使い方を学ぶ。またMatplotlibで利用されているNumPyという数値計算ライブラリについて学ぶ。\n",
    "\n",
    "今後の授業で紹介するコードは何も見ないで書けるようになる必要はなく、これらを雛形にして使えるようになればよい。\n",
    "Matplotlibを使うと綺麗なグラフを作成できるようになるので、ぜひ他の授業のレポートなどでも活用してみてほしい。"
   ]
  },
  {
   "cell_type": "markdown",
   "id": "40c159a7",
   "metadata": {},
   "source": [
    "```{admonition} 上から順にすべてのセルを実行しましょう\n",
    ":class: tip\n",
    "今回以降、ノートブックのコードはNumPyやMatplotlibなど複数のライブラリに依存するため、それぞれのimport文を含むセルを実行していないとどこかでエラーになる。\n",
    "もし `NameError: name 'np' is not defined` などのエラーを見かけたら、それより上のセルで実行し忘れているものはないか、とくにimport文を含むものを一通り実行したか確認しよう。\n",
    "```"
   ]
  },
  {
   "cell_type": "markdown",
   "id": "6e1566c5-60dc-41ba-847c-7acd31f4cea1",
   "metadata": {},
   "source": [
    "## NumPy入門"
   ]
  },
  {
   "cell_type": "markdown",
   "id": "170d2246-911a-4280-995a-0f49990cb2cd",
   "metadata": {},
   "source": [
    "**NumPy**は、数値計算を効率的に行うためのライブラリである。これから学ぶMatplotlibやPandasといったライブラリにおいて数値データを扱うのに用いられる。\n",
    "\n",
    "NumPyは `import numpy` によりインポートできる。ただし `import numpy as np` として `np` という省略名をつけながらインポートするのが慣例となっている。"
   ]
  },
  {
   "cell_type": "code",
   "execution_count": null,
   "id": "7b8f5a9b-bb46-4737-97bb-0743a6b053af",
   "metadata": {},
   "outputs": [],
   "source": [
    "import numpy as np"
   ]
  },
  {
   "cell_type": "markdown",
   "id": "5dc2414f-c0fb-408e-9217-0bedc9ecbe2a",
   "metadata": {},
   "source": [
    "### 配列"
   ]
  },
  {
   "cell_type": "markdown",
   "id": "9ad69caa-0375-4099-b265-4216397424aa",
   "metadata": {},
   "source": [
    "NumPyでは基本的に `ndarray` というデータ型を用いる。`ndarray` は N-dimensional array の略であり、日本語では**配列**という。配列はリストによく似たデータ型であるが、数値計算を効率的に行うための機能が備わっている。\n",
    "\n",
    "配列は `np.array()` 関数にリストを渡すことで、生成することができる。"
   ]
  },
  {
   "cell_type": "code",
   "execution_count": null,
   "id": "aec67661-82cc-4764-856d-94d3a7f6c2ee",
   "metadata": {},
   "outputs": [],
   "source": [
    "x = np.array([1.0, 2.0, 3.0])"
   ]
  },
  {
   "cell_type": "code",
   "execution_count": null,
   "id": "4b2305ff-b5a2-4fc0-a611-275bf1a0293e",
   "metadata": {},
   "outputs": [],
   "source": [
    "y = np.array([[1, 2], [3, 4], [5, 6]])"
   ]
  },
  {
   "cell_type": "markdown",
   "id": "f6b1c142-7bab-49c9-91dd-867af04ac29d",
   "metadata": {},
   "source": [
    "この例では一次元配列、二次元配列を生成している。リストと異なり、配列では要素のデータ型はすべて同じでないといけない。\n",
    "\n",
    "配列は `shape`、`ndim`、`size` という属性をもち、それぞれ配列の形、次元、要素数を表す。"
   ]
  },
  {
   "cell_type": "code",
   "execution_count": null,
   "id": "3cbae828-27db-408a-a2a2-d7f80eee3ecf",
   "metadata": {},
   "outputs": [],
   "source": [
    "x.shape"
   ]
  },
  {
   "cell_type": "code",
   "execution_count": null,
   "id": "be26ea89-befd-479e-abdf-2ce8936fc5fb",
   "metadata": {},
   "outputs": [],
   "source": [
    "y.shape"
   ]
  },
  {
   "cell_type": "code",
   "execution_count": null,
   "id": "65d487c1-c9cf-48c7-9409-96768d5976a2",
   "metadata": {},
   "outputs": [],
   "source": [
    "x.ndim"
   ]
  },
  {
   "cell_type": "code",
   "execution_count": null,
   "id": "f31b52c2-e757-46f0-8a51-d43a9a68d6fa",
   "metadata": {},
   "outputs": [],
   "source": [
    "y.ndim"
   ]
  },
  {
   "cell_type": "code",
   "execution_count": null,
   "id": "dfbd7183-21a7-41ae-a462-5ca1175cdd22",
   "metadata": {},
   "outputs": [],
   "source": [
    "x.size"
   ]
  },
  {
   "cell_type": "code",
   "execution_count": null,
   "id": "2a3b3efc-8554-4ddf-896a-b7e4a596094d",
   "metadata": {},
   "outputs": [],
   "source": [
    "y.size"
   ]
  },
  {
   "cell_type": "markdown",
   "id": "97adee35-143f-4d2b-99d0-9ecd33a75ef6",
   "metadata": {},
   "source": [
    "`dtype` という属性は、配列の要素のデータ型を表す。NumPyの `float64` は組み込み型の `float` に、`int64` は `int` に対応するデータ型である。"
   ]
  },
  {
   "cell_type": "code",
   "execution_count": null,
   "id": "2e46976d-d247-4865-9c91-b3c42fdb2d99",
   "metadata": {},
   "outputs": [],
   "source": [
    "x.dtype"
   ]
  },
  {
   "cell_type": "code",
   "execution_count": null,
   "id": "335b46de-5613-44b2-86c5-0bddcb84ec1c",
   "metadata": {},
   "outputs": [],
   "source": [
    "y.dtype"
   ]
  },
  {
   "cell_type": "markdown",
   "id": "1cce8194-469a-4305-845b-606f1f8c18fc",
   "metadata": {},
   "source": [
    "配列の生成方法はリストと `np.array()` 関数を使った方法の他にも、以下のようなものがある。`np.zeros()`、`np.ones()` 関数は、第一引数で指定した形で、それぞれ要素がすべて `0`、`1` の配列を生成する。"
   ]
  },
  {
   "cell_type": "code",
   "execution_count": null,
   "id": "f6d6c917-68ca-4d88-a5f4-3a79b3a1849f",
   "metadata": {},
   "outputs": [],
   "source": [
    "np.zeros((2, 3))"
   ]
  },
  {
   "cell_type": "code",
   "execution_count": null,
   "id": "f98413a6-9423-4660-ae9b-3741d2c0f4e2",
   "metadata": {},
   "outputs": [],
   "source": [
    "np.ones((1, 2))"
   ]
  },
  {
   "cell_type": "markdown",
   "id": "74255061-3b12-47fd-81d8-41ff1712b1d8",
   "metadata": {},
   "source": [
    "`np.arange()` 関数は、`np.arange(start, stop, step)` と呼び出すと `start` から `stop` までの `step` 刻みの一次元配列を生成する。"
   ]
  },
  {
   "cell_type": "code",
   "execution_count": null,
   "id": "a2a0dd3a-ec53-4741-9b1b-a891c966b15b",
   "metadata": {},
   "outputs": [],
   "source": [
    "np.arange(0, 1, 0.1)"
   ]
  },
  {
   "cell_type": "markdown",
   "id": "b149df26-8b7f-4ab7-a89e-250ea5c8b9cd",
   "metadata": {},
   "source": [
    "`np.random.normal()` 関数は下のように呼び出すと、平均が0で標準偏差が1の正規分布に従う乱数の一次元配列を生成する。"
   ]
  },
  {
   "cell_type": "code",
   "execution_count": null,
   "id": "daff7241-2aac-4a1f-99f5-0430584e088b",
   "metadata": {},
   "outputs": [],
   "source": [
    "np.random.normal(loc=0, scale=1, size=10)"
   ]
  },
  {
   "cell_type": "markdown",
   "id": "8f33165f-67de-4236-9edd-1101651dc9b1",
   "metadata": {},
   "source": [
    "### 要素のアクセス"
   ]
  },
  {
   "cell_type": "markdown",
   "id": "aa257c52-0ccf-458b-b075-d3fe6a601654",
   "metadata": {},
   "source": [
    "要素のアクセス方法はリストと似ているが、二次元以上のときに記法が異なる。二次元リストでは `data[i][j]` というように `[]` を重ねて要素を指定したが、二次元配列では `data[i, j]` のように `,` 区切りで要素を指定する。二次元配列の場合、`data[i, j]` と指定するときの `i` の次元を**行**、`j` の次元を**列**という。"
   ]
  },
  {
   "cell_type": "code",
   "execution_count": null,
   "id": "cdf62464-6ad7-4d4d-ac10-ae560326c02c",
   "metadata": {},
   "outputs": [],
   "source": [
    "print(x[0])\n",
    "print(y[2, 1])"
   ]
  },
  {
   "cell_type": "markdown",
   "id": "5263e5df-f600-489c-b8d3-6a74621761f4",
   "metadata": {},
   "source": [
    "スライスによって複数の要素にアクセスすることもできる。"
   ]
  },
  {
   "cell_type": "code",
   "execution_count": null,
   "id": "743c42ac-4454-4a5d-9348-8270f1cc796a",
   "metadata": {},
   "outputs": [],
   "source": [
    "z = np.array([[1, 2, 3], [4, 5, 6], [7, 8, 9]])\n",
    "print(z[1:])\n",
    "print(z[1:, 1:])"
   ]
  },
  {
   "cell_type": "markdown",
   "id": "e0236040-aa66-4aee-a6eb-292ec9eda1f5",
   "metadata": {},
   "source": [
    "要素の変更は代入文により行う。リストとの違いとして、スライスで指定した複数の要素を一括で変更することもできる。"
   ]
  },
  {
   "cell_type": "code",
   "execution_count": null,
   "id": "5a87a22b-66d6-435e-b310-3abca820410b",
   "metadata": {},
   "outputs": [],
   "source": [
    "z[0, 0] = 0\n",
    "print(z)\n",
    "z[1:, 1:] = 10\n",
    "print(z)"
   ]
  },
  {
   "cell_type": "markdown",
   "id": "ce7348e9-618a-49ea-9738-ed9320706c0d",
   "metadata": {},
   "source": [
    "### 演算"
   ]
  },
  {
   "cell_type": "markdown",
   "id": "f7ccb3ab-3de8-433c-9ff9-afc4395551a8",
   "metadata": {},
   "source": [
    "配列には各種演算が定義されており、配列同士の演算を行うことができる。"
   ]
  },
  {
   "cell_type": "code",
   "execution_count": null,
   "id": "2d1c454e-0812-4090-953a-9011889de270",
   "metadata": {},
   "outputs": [],
   "source": [
    "x = np.array([[1, 2], [3, 4]])\n",
    "y = np.array([[1, 2], [3, 4]])"
   ]
  },
  {
   "cell_type": "code",
   "execution_count": null,
   "id": "ab67b621-3057-46e7-8cb3-8a2a1cea829a",
   "metadata": {},
   "outputs": [],
   "source": [
    "x + y"
   ]
  },
  {
   "cell_type": "code",
   "execution_count": null,
   "id": "1546cb39-9998-4fd0-91bc-5cad5d4b122e",
   "metadata": {},
   "outputs": [],
   "source": [
    "x - y"
   ]
  },
  {
   "cell_type": "code",
   "execution_count": null,
   "id": "f5f09352-ccf2-493d-a61c-3bdd74caecba",
   "metadata": {},
   "outputs": [],
   "source": [
    "x * y"
   ]
  },
  {
   "cell_type": "code",
   "execution_count": null,
   "id": "9145af35-2631-4773-a5ba-eb932abb139f",
   "metadata": {},
   "outputs": [],
   "source": [
    "x / y"
   ]
  },
  {
   "cell_type": "markdown",
   "id": "877e0de0-b0fd-4881-90b8-9ec7275639ea",
   "metadata": {},
   "source": [
    "四則演算は基本的に2つの配列の形が揃っていないとエラーになるが、以下のように計算可能なケースもある。"
   ]
  },
  {
   "cell_type": "code",
   "execution_count": null,
   "id": "9662b24c-2099-428e-b7cb-7b070a44cb4a",
   "metadata": {},
   "outputs": [],
   "source": [
    "z = np.array([1, 2])\n",
    "x + z"
   ]
  },
  {
   "cell_type": "code",
   "execution_count": null,
   "id": "e6c15b82-b569-4f25-ad14-f8818ab8abf9",
   "metadata": {},
   "outputs": [],
   "source": [
    "x * 2"
   ]
  },
  {
   "cell_type": "markdown",
   "id": "7a477f73-0566-403c-92d0-70d72cadac33",
   "metadata": {},
   "source": [
    "上の例では、足し算を実行する前に `z` の形を `x` の形に揃えて `np.array([[1, 2], [1, 2]])` と読み替えてから計算が行われる。下の例では、`2` を `x` の形に揃えて `np.array([[2, 2], [2, 2]])` と読み替えてから計算が行われる。このような機能を**ブロードキャスト**という。"
   ]
  },
  {
   "cell_type": "markdown",
   "id": "564add02-a484-40d0-8fa8-81bf4e0cbbe4",
   "metadata": {},
   "source": [
    "**練習1**  \n",
    "正の整数 `n`、`m` が与えられるとき、形が `(n, m)` で要素がすべて `0` の二次元配列 `data` を作成するコードを書きなさい。ただし採点の都合上、`print` してはいけない。\n",
    "<a href=\"https://code-judge-system.vercel.app/?&id=11-1\" target=\"_blank\">\n",
    "<img src=\"./_images/launch.svg\" style=\"width: 20px; height: 20px;\">\n",
    "</a>"
   ]
  },
  {
   "cell_type": "code",
   "execution_count": null,
   "id": "fe328627-7620-4aa8-b4c6-af15feb87e71",
   "metadata": {},
   "outputs": [],
   "source": [
    "# n, mの一例\n",
    "n = 2\n",
    "m = 2\n",
    "\n",
    "# 以下にコードを作成し、以下の部分のみ提出する\n"
   ]
  },
  {
   "cell_type": "markdown",
   "id": "02eb4056",
   "metadata": {},
   "source": [
    "```{toggle}\n",
    "<pre>\n",
    "data = np.zeros((n, m))\n",
    "</pre>\n",
    "```"
   ]
  },
  {
   "cell_type": "markdown",
   "id": "1f3f5129-59e8-4818-9cf0-8b076cb3a3fd",
   "metadata": {},
   "source": [
    "**練習2**  \n",
    "正の整数からなる配列 `x` が与えられるとき、`x` の各要素を `x` の要素の総和で割って得られる配列 `p` を作成するコードを書きなさい。ただし採点の都合上、`print` してはいけない。\n",
    "<font color=cornflowerblue>ヒント：配列の要素の総和は `np.sum()` 関数によって求められる。</font>\n",
    "<a href=\"https://code-judge-system.vercel.app/?&id=11-2\" target=\"_blank\">\n",
    "<img src=\"./_images/launch.svg\" style=\"width: 20px; height: 20px;\">\n",
    "</a>"
   ]
  },
  {
   "cell_type": "code",
   "execution_count": null,
   "id": "c4d6d5fd-2a12-49c7-9370-75331993840e",
   "metadata": {},
   "outputs": [],
   "source": [
    "# xの一例\n",
    "x = np.array([1, 3, 4])\n",
    "\n",
    "# 以下にコードを作成し、以下の部分のみ提出する\n"
   ]
  },
  {
   "cell_type": "markdown",
   "id": "74142204",
   "metadata": {},
   "source": [
    "```{toggle}\n",
    "<pre>\n",
    "p = x / np.sum(x)\n",
    "</pre>\n",
    "```"
   ]
  },
  {
   "cell_type": "markdown",
   "id": "2ec0fa70",
   "metadata": {},
   "source": [
    "## Matplotlib入門"
   ]
  },
  {
   "cell_type": "markdown",
   "id": "378b8d77",
   "metadata": {},
   "source": [
    "Pythonでグラフを描画するのに**Matplotlib**というライブラリがよく用いられる。\n",
    "\n",
    "Matplotlibを使うには、その中のpyplotというモジュールをimportする。`import matplotlib.pyplot as plt` として `plt` という省略名をつけながらインポートするのが慣例となっている。\n",
    "\n",
    "またグラフのラベルに日本語を使えるようにするためにjapanize_matplotlibというモジュールをimportする。japanize_matplotlibはpipによるインストールが必要である[^f1]。\n",
    "\n",
    "[^f1]: Matplotlibも標準ライブラリではないため本来はpipによるインストールが必要であるが、Google Colabの環境では初めからインストールされている。"
   ]
  },
  {
   "cell_type": "code",
   "execution_count": null,
   "id": "f4d8b228",
   "metadata": {},
   "outputs": [],
   "source": [
    "pip install japanize_matplotlib"
   ]
  },
  {
   "cell_type": "code",
   "execution_count": null,
   "id": "6ffdf089",
   "metadata": {},
   "outputs": [],
   "source": [
    "import matplotlib.pyplot as plt\n",
    "import japanize_matplotlib\n",
    "plt.rcParams.update({\"font.size\": 14})  # 文字サイズを14pxとする"
   ]
  },
  {
   "cell_type": "markdown",
   "id": "e3b829f9",
   "metadata": {},
   "source": [
    "まずは描画用のサンプルデータを用意しよう。Matplotlibではリストまたは配列を主に扱う。ここでは配列のデータを用意する。"
   ]
  },
  {
   "cell_type": "code",
   "execution_count": null,
   "id": "9ac1545c",
   "metadata": {},
   "outputs": [],
   "source": [
    "# 0から10までの0.1刻みの配列\n",
    "sample_x = np.arange(0, 10, 0.1)\n",
    "\n",
    "# y = 2x + eps　（epsはノイズ）\n",
    "eps = np.random.normal(loc=0, scale=1, size=len(sample_x))\n",
    "sample_y = sample_x * 2 + eps"
   ]
  },
  {
   "cell_type": "markdown",
   "id": "e4bbe608-b724-4c0c-bd84-0d2011e7d933",
   "metadata": {},
   "source": [
    "`np.arange(0, 10, 0.1)` は、`0` から `10` までの `0.1` 刻みの配列を生成する。したがって、`sample_x` は要素数100の一次元配列となっている。"
   ]
  },
  {
   "cell_type": "code",
   "execution_count": null,
   "id": "4c0b715b",
   "metadata": {},
   "outputs": [],
   "source": [
    "len(sample_x)"
   ]
  },
  {
   "cell_type": "markdown",
   "id": "47da30b3",
   "metadata": {},
   "source": [
    "`np.random.normal(loc=0, scale=1, size=len(sample_x))` は、平均が0で標準偏差が1の正規分布に従う乱数の配列を生成する。代入先の `eps` はデータに加えるノイズとして使用する。"
   ]
  },
  {
   "cell_type": "code",
   "execution_count": null,
   "id": "9e1d2603",
   "metadata": {},
   "outputs": [],
   "source": [
    "eps[:10]  # 先頭の10個を表示"
   ]
  },
  {
   "cell_type": "markdown",
   "id": "bbe1bd61",
   "metadata": {},
   "source": [
    "配列は要素ごとの演算を一括で行うことができる。`sample_x * 2 + eps` により、インデックスごとに `sample_x` の要素を2倍し、`eps` の要素を足している。"
   ]
  },
  {
   "cell_type": "code",
   "execution_count": null,
   "id": "7fc6d3ad",
   "metadata": {},
   "outputs": [],
   "source": [
    "sample_x[:10]"
   ]
  },
  {
   "cell_type": "code",
   "execution_count": null,
   "id": "dc562fc6",
   "metadata": {},
   "outputs": [],
   "source": [
    "sample_y[:10]"
   ]
  },
  {
   "cell_type": "markdown",
   "id": "6847fae8",
   "metadata": {},
   "source": [
    "ここで生成した `sample_x` と `sample_y` は $\\varepsilon$ をノイズとして $y = 2x + \\varepsilon$ の関係を満たす2次元データ $(x, y)$ を100個生成したものと見ることができる。\n",
    "1つ1つのデータは(`sample_x[0]`, `sample_y[0]`), (`sample_x[1]`, `sample_y[1]`), ..., (`sample_x[99]`, `sample_y[99]`)である。"
   ]
  },
  {
   "cell_type": "markdown",
   "id": "3e86942c",
   "metadata": {},
   "source": [
    "### 散布図"
   ]
  },
  {
   "cell_type": "markdown",
   "id": "16a12a81",
   "metadata": {},
   "source": [
    "サンプルデータを**散布図**として可視化してみよう。横軸に $x$、縦軸に $y$ の値をとって各データを点として打って描画する。このことをデータを散布図として**プロット**するという。"
   ]
  },
  {
   "cell_type": "code",
   "execution_count": null,
   "id": "5ae86286",
   "metadata": {
    "scrolled": true
   },
   "outputs": [],
   "source": [
    "# プロットの入れ物の用意\n",
    "fig, ax = plt.subplots(1, 1, figsize=(5, 4))\n",
    "\n",
    "# 散布図のプロット\n",
    "ax.scatter(sample_x, sample_y)\n",
    "\n",
    "# 表示\n",
    "plt.show()"
   ]
  },
  {
   "cell_type": "markdown",
   "id": "98cabefc",
   "metadata": {},
   "source": [
    "1行目では `plt.subplots()` 関数によりFigureオブジェクトとAxesオブジェクトを生成して、変数 `fig` と `ax` に代入している[^f2][^f3]。\n",
    "\n",
    "Matplotlibによる描画はFigureオブジェクトとAxesオブジェクト、Axisオブジェクトの3つの要素で構成される。Axisオブジェクトは1つの軸を管理し、Axesオブジェクトは1つのグラフを管理し、Figureオブジェクトは描画全体を管理する。それぞれの関係を次の図に示す。\n",
    "\n",
    "[^f2]: 一見すると戻り値が2つあるように見えるが、`plt.subplots()` はFigureオブジェクトとAxesオブジェクトのタプルを返しており（つまり戻り値は1つ）、タプルの各要素を `fig` と `ax` に割り当てている。戻り値のタプルを `,` 区切りの変数で受け取ることを**アンパック**という。\n",
    "[^f3]: matplotlibの描画方法にはexplicit（明示的）な方法とimplicit（非明示的）な方法の2種類があるが、このテキストではexplicitな方法を説明する。implicitな方法というのは、`fig` や `ax` を用意することなく、いきなり `plt.plot()` などとプロットする方法のことである。implicitな方法は手軽にプロットできるというメリットがあるが、グラフの細かい調整ができないというデメリットもある。そのため、はじめからexplicitな方法を覚えるのがお勧めである。"
   ]
  },
  {
   "cell_type": "markdown",
   "id": "016eee5c",
   "metadata": {},
   "source": [
    "```{figure} ./pic/fig_map.png\n",
    "---\n",
    "width: 400px\n",
    "name: fig_map\n",
    "---\n",
    "グラフの構成要素\n",
    "```"
   ]
  },
  {
   "cell_type": "markdown",
   "id": "6a04d2ac",
   "metadata": {},
   "source": [
    "`plt.subplots()` 関数は `plt.subplots(n, m, figsize=(w, h))` と呼び出すと、横幅 `w`、高さ `h` （単位はインチ）のFigureオブジェクトと、その中に `n` 行 `m` 列の`n * m` 個のAxesオブジェクトを作成する。グラフを1枚だけ描画したい場合は、`n = m = 1` と指定する。もしくは引数で何も指定しなければ、デフォルト引数により `n = m = 1` が指定される。このときAxesオブジェクトが1つだけ作成され、戻り値の `ax` はAxesオブジェクトそのものになる。複数のグラフを同時に描画したい場合は、`n` または `m` に2以上の整数を指定する。このときAxesオブジェクトが複数作成され、戻り値はAxesオブジェクトの配列となる。\n",
    "\n",
    "散布図のプロットは `ax.scatter()` メソッドにより行う。第一引数に横軸の値の配列、第二引数に縦軸の値の配列を指定する。\n",
    "最後に `plt.show()` 関数を呼び出すことで、グラフが表示される。"
   ]
  },
  {
   "cell_type": "markdown",
   "id": "4f2916f0",
   "metadata": {},
   "source": [
    "### グラフの調整"
   ]
  },
  {
   "cell_type": "markdown",
   "id": "24c9b758",
   "metadata": {},
   "source": [
    "次にグラフの見た目を細かく調整してみよう。\n",
    "\n",
    "まずは1枚のグラフに複数の散布図をプロットする。\n",
    "先ほどのプロットに $y = 3x + \\varepsilon$ の関係を満たすデータの散布図を追加する。"
   ]
  },
  {
   "cell_type": "code",
   "execution_count": null,
   "id": "54d7aa74",
   "metadata": {},
   "outputs": [],
   "source": [
    "# プロットの入れ物の用意\n",
    "fig, ax = plt.subplots(figsize=(5, 4))\n",
    "\n",
    "# データの用意\n",
    "sample_y2 = sample_x * 3 + np.random.normal(loc=0, scale=1, size=len(sample_x))\n",
    "\n",
    "# 散布図のプロット\n",
    "ax.scatter(sample_x, sample_y)\n",
    "ax.scatter(sample_x, sample_y2)\n",
    "\n",
    "# 表示\n",
    "plt.show()"
   ]
  },
  {
   "cell_type": "markdown",
   "id": "ce3f6de0",
   "metadata": {},
   "source": [
    "このように同一のAxesオブジェクトの `scatter()` メソッドを複数回呼び出すことで、1つのグラフに複数の散布図をプロットすることができる。\n",
    "\n",
    "プロットの色は自動的に設定されるが、自分で指定することもできる。\n",
    "凡例や軸ラベル、タイトル、マーカーの種類の設定方法とともに紹介する。"
   ]
  },
  {
   "cell_type": "code",
   "execution_count": null,
   "id": "d339b7cf",
   "metadata": {},
   "outputs": [],
   "source": [
    "# プロットの入れ物の用意\n",
    "fig, ax = plt.subplots(figsize=(5, 4))\n",
    "\n",
    "# 散布図のプロット\n",
    "ax.scatter(sample_x, sample_y, color=\"royalblue\", marker=\"v\", label=\"y=2x+e\")\n",
    "ax.scatter(sample_x, sample_y2, color=\"forestgreen\", marker=\"x\", label=\"y=3x+e\")\n",
    "\n",
    "# 軸ラベル・タイトルの設定\n",
    "ax.set_xlabel(\"x\")\n",
    "ax.set_ylabel(\"y\")\n",
    "ax.set_title(\"xとyの関係\")\n",
    "\n",
    "# 表示\n",
    "plt.legend() # 凡例の表示\n",
    "plt.show()"
   ]
  },
  {
   "cell_type": "markdown",
   "id": "f3ab086b",
   "metadata": {},
   "source": [
    "`ax.scatter()` メソッドのキーワード引数を使って、`color` を設定すると色を変更できる（`color` で指定できる色の名前の一覧は[こちら](https://matplotlib.org/stable/gallery/color/named_colors.html)）。`marker` を設定するとマーカーの種類を変更できる（`marker` で指定できる値の一覧は[こちら](https://matplotlib.org/stable/api/markers_api.html)）。`label` を設定すると凡例の表示を設定できる。凡例を表示するには、最後に `plt.legend()` を呼び出す。\n",
    "\n",
    "軸ラベルは `ax.set_xlabel()`、`ax.set_ylabel()` により設定する。同様にタイトルは `ax.set_title()` により設定する。"
   ]
  },
  {
   "cell_type": "markdown",
   "id": "ea417f35",
   "metadata": {},
   "source": [
    "### 折れ線グラフ"
   ]
  },
  {
   "cell_type": "markdown",
   "id": "b5e9a056",
   "metadata": {},
   "source": [
    "散布図と並んでよく使われるのが**折れ線グラフ**である。折れ線グラフでは、基本的にデータの順番は $x$ の値について昇順または降順であることを仮定する。\n",
    "このとき横軸に $x$、縦軸に $y$ の値をとって各データを点として打つところは散布図と同じであるが、折れ線グラフではこれらの点を線で結ぶ。これにより $x$ の値が増えたときの、$y$ の値の連続的な変化を表現できる。\n",
    "\n",
    "折れ線グラフのプロット例を以下に示す。\n",
    "ノイズのない $y = 2x$ の関係を表す2次元データ $(x, y)$ を `sample_x`、`sample_y3` に用意し、その折れ線グラフを最初の散布図に重ねてプロットしている。"
   ]
  },
  {
   "cell_type": "code",
   "execution_count": null,
   "id": "8e4b09e8",
   "metadata": {},
   "outputs": [],
   "source": [
    "# プロットの入れ物の用意\n",
    "fig, ax = plt.subplots(figsize=(5, 4))\n",
    "\n",
    "sample_y3 = sample_x * 2\n",
    "\n",
    "# 散布図、折れ線グラフのプロット\n",
    "ax.scatter(sample_x, sample_y)\n",
    "ax.plot(sample_x, sample_y3, color=\"orange\")\n",
    "\n",
    "# 表示\n",
    "plt.show()"
   ]
  },
  {
   "cell_type": "markdown",
   "id": "2fb0e047",
   "metadata": {},
   "source": [
    "**練習3**  \n",
    "以下のコードにより、0から10までの0.1刻みの配列が `x` に、`x` のそれぞれの要素に対してsin関数の値を計算した配列が `y_sin` に、cos関数の値を計算した配列が `y_cos` に代入される。このとき `x` と `y_sin`、`x` と `y_cos` それぞれのペアについて折れ線グラフを作成することで、sin関数、cos関数を可視化しなさい。またそれぞれのプロットの区別がつくように `\"sin関数\"`、`\"cos関数\"` という凡例をつけなさい。"
   ]
  },
  {
   "cell_type": "code",
   "execution_count": null,
   "id": "ff913663",
   "metadata": {},
   "outputs": [],
   "source": [
    "x = np.arange(0, 10, 0.1)\n",
    "y_sin = np.sin(x)\n",
    "y_cos = np.cos(x)"
   ]
  },
  {
   "cell_type": "code",
   "execution_count": null,
   "id": "ee5b0082",
   "metadata": {},
   "outputs": [],
   "source": [
    "# プロットの入れ物の用意\n",
    "fig, ax = plt.subplots(figsize=(5, 4))\n",
    "\n",
    "# ここに適切なコードを書く\n",
    "\n",
    "\n",
    "plt.legend() # 凡例の表示\n",
    "\n",
    "# ファイルとして保存\n",
    "plt.tight_layout()\n",
    "plt.savefig(\"練習3.png\") "
   ]
  },
  {
   "cell_type": "markdown",
   "id": "00c17a7a",
   "metadata": {},
   "source": [
    "```{toggle}\n",
    "<pre>\n",
    "# プロットの入れ物の用意\n",
    "fig, ax = plt.subplots(figsize=(5, 4))\n",
    "\n",
    "ax.plot(x, y_sin, label=\"sin関数\")\n",
    "ax.plot(x, y_cos, label=\"cos関数\")\n",
    "\n",
    "plt.legend() # 凡例の表示\n",
    "\n",
    "# ファイルとして保存\n",
    "plt.tight_layout()\n",
    "plt.savefig(\"練習3.png\") \n",
    "</pre>\n",
    "```"
   ]
  },
  {
   "cell_type": "markdown",
   "id": "e28f3f1e",
   "metadata": {},
   "source": [
    "プロットしたら以下のコードを実行することにより、画像をダウンロードできる。これを提出しなさい。"
   ]
  },
  {
   "cell_type": "code",
   "execution_count": null,
   "id": "0550e94a",
   "metadata": {},
   "outputs": [],
   "source": [
    "from google.colab import files\n",
    "files.download(\"練習3.png\")"
   ]
  },
  {
   "cell_type": "markdown",
   "id": "703de060",
   "metadata": {},
   "source": [
    "注意として、ファイルとして保存する場合は `plt.show()` を実行してはいけない。これを実行してしまうと白紙の画像ファイルがダウンロードされる。"
   ]
  }
 ],
 "metadata": {
  "kernelspec": {
   "display_name": "Python 3 (ipykernel)",
   "language": "python",
   "name": "python3"
  },
  "language_info": {
   "codemirror_mode": {
    "name": "ipython",
    "version": 3
   },
   "file_extension": ".py",
   "mimetype": "text/x-python",
   "name": "python",
   "nbconvert_exporter": "python",
   "pygments_lexer": "ipython3",
   "version": "3.12.1"
  },
  "vscode": {
   "interpreter": {
    "hash": "aee8b7b246df8f9039afb4144a1f6fd8d2ca17a180786b69acc140d282b71a49"
   }
  }
 },
 "nbformat": 4,
 "nbformat_minor": 5
}
