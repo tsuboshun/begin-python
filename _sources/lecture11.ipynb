{
 "cells": [
  {
   "cell_type": "markdown",
   "id": "52b9c04c",
   "metadata": {},
   "source": [
    "# 第11回 アルゴリズム入門：データの探索"
   ]
  },
  {
   "cell_type": "markdown",
   "id": "0f3467e6",
   "metadata": {},
   "source": [
    "___\n",
    "[![Open In Colab](https://colab.research.google.com/assets/colab-badge.svg)](https://colab.research.google.com/github/tsuboshun/begin-python/blob/gh-pages/_sources/workbook/lecture11.ipynb)\n",
    "\n",
    "___"
   ]
  },
  {
   "cell_type": "markdown",
   "id": "9ba5723c",
   "metadata": {},
   "source": [
    "## この授業で学ぶこと"
   ]
  },
  {
   "cell_type": "markdown",
   "id": "49246d72",
   "metadata": {},
   "source": [
    "アルゴリズム入門の最後の話題として、探索アルゴリズムについて学ぶ。またファイルの読み書きの方法を学ぶ。"
   ]
  },
  {
   "cell_type": "markdown",
   "id": "5043fc4e",
   "metadata": {},
   "source": [
    "## 探索とは"
   ]
  },
  {
   "cell_type": "markdown",
   "id": "800f0081",
   "metadata": {},
   "source": [
    "データの集合の中から、特定の条件に適合する要素を見つけることを**探索**という。\n",
    "このテキストでは、次の問題に限定して考える： 数値のリストと数値のキーが与えられるとき、リストの中にキーと一致する要素が存在するかを判定し、存在するときはそのインデックスを1つ求める。\n",
    "\n",
    "このアルゴリズムを関数として実装しよう。\n",
    "リストとキーを引数として受け取り、リストの中にキーが存在すればそのインデックスを返し、存在しなければ `None` を返す関数を作成する。\n",
    "\n",
    "例えば、次のリストとキーのペアに対しては、インデックスの3を返す。\n",
    "\n",
    "<pre>\n",
    "data = [5, 1, 3, 7, 2]\n",
    "key = 7\n",
    "</pre>\n",
    "\n",
    "次のリストとキーのペアに対しては、`None` を返す。\n",
    "<pre>\n",
    "data = [5, 1, 3, 7, 2]\n",
    "key = 4\n",
    "</pre>\n",
    "\n",
    "探索は使用頻度の高い基本的な操作なので、数多くのアルゴリズムが考案されている。\n",
    "今回はその中から代表的な線形探索と二分探索を紹介する。\n",
    "\n",
    "なお、探索プログラムはリストの `index()` メソッドを使えば、次のように実装することができる。\n",
    "ここではアルゴリズムの学習のため、`index()` メソッドには頼らずに1からプログラムを作成することを考える。"
   ]
  },
  {
   "cell_type": "code",
   "execution_count": null,
   "id": "8e3a7555",
   "metadata": {},
   "outputs": [],
   "source": [
    "def search(data, key):\n",
    "    if key in data:\n",
    "        return data.index(key)\n",
    "    else:\n",
    "        return None"
   ]
  },
  {
   "cell_type": "code",
   "execution_count": null,
   "id": "56baa42a",
   "metadata": {},
   "outputs": [],
   "source": [
    "data = [5, 1, 3, 7, 2]\n",
    "key = 7\n",
    "print(search(data, key))\n",
    "\n",
    "data = [5, 1, 3, 7, 2]\n",
    "key = 4\n",
    "print(search(data, key))"
   ]
  },
  {
   "cell_type": "markdown",
   "id": "d213ce3e",
   "metadata": {},
   "source": [
    "## 線形探索"
   ]
  },
  {
   "cell_type": "markdown",
   "id": "21d838db",
   "metadata": {},
   "source": [
    "線形探索は、前から順に探すという単純なアルゴリズムである。\n",
    "実装としては、for文により前から要素を1つずつ調べていき、キーに一致する要素を見つけたところでそのインデックスをreturn文で返す。\n",
    "最後までキーに一致する要素が見つからなかった場合は、`None` をreturn文で返す。\n",
    "\n",
    "以下に、未完成の `linear_search()` 関数を用意した。練習として、プログラムを完成させてみてほしい。"
   ]
  },
  {
   "cell_type": "code",
   "execution_count": null,
   "id": "e16de7c4",
   "metadata": {},
   "outputs": [],
   "source": [
    "def linear_search(data, key):\n",
    "    for i in range(len(data)):\n",
    "        pass   # ここを書き換える\n",
    "    return None"
   ]
  },
  {
   "cell_type": "code",
   "execution_count": null,
   "id": "5743d54c",
   "metadata": {},
   "outputs": [],
   "source": [
    "data = [5, 1, 3, 7, 2]\n",
    "key = 7\n",
    "print(linear_search(data, key))\n",
    "\n",
    "data = [5, 1, 3, 7, 2]\n",
    "key = 4\n",
    "print(linear_search(data, key))"
   ]
  },
  {
   "cell_type": "markdown",
   "id": "34a1f386",
   "metadata": {},
   "source": [
    "線形探索の計算量は、リストの要素数を $N$ として最悪も平均も $O(N)$ である。\n",
    "最悪の場合は、キーと一致する要素がリストの最後にあるか、存在しない場合である。\n",
    "このときfor文の処理を $N$ 回繰り返すことになるので、最悪計算量は $O(N)$ となる。\n",
    "平均的な場合は、for文の処理を $N/2$ 回繰り返すことになる。\n",
    "計算量を表す際には、定数は無視されるため、平均計算量も $O(N)$ となる。\n",
    "\n",
    "$O(N)$ は計算量として十分小さいので、実用上はこれで十分なことが多い。\n",
    "ちなみに、リストの `index()` メソッドも線形探索を実装したものとなっている。"
   ]
  },
  {
   "cell_type": "markdown",
   "id": "535fc5b5",
   "metadata": {},
   "source": [
    "## 二分探索"
   ]
  },
  {
   "cell_type": "markdown",
   "id": "6cfa02d1",
   "metadata": {},
   "source": [
    "二分探索は、リストがソートされているという前提のもとで、より効率的な探索を実現するアルゴリズムである。\n",
    "\n",
    "リストがソートされているとき、要素とキーの大小関係を調べることにより、キーがあるとしたら要素より右か左かが判明する。\n",
    "二分探索ではこの性質を利用し、さらに大小関係を調べる要素を探索範囲の中央から選ぶことで、なるべく少ないステップで探索範囲を絞り込んでいく。\n",
    "\n",
    "例としてキーが7のとき、二分探索が探索範囲を絞り込んでいく様子を次の図に示す。"
   ]
  },
  {
   "cell_type": "markdown",
   "id": "dd24b51b",
   "metadata": {},
   "source": [
    "```{figure} ./pic/binary_search.png\n",
    "---\n",
    "width: 700px\n",
    "name: binary_search\n",
    "---\n",
    "キーが7のときの二分探索の様子\n",
    "```"
   ]
  },
  {
   "cell_type": "markdown",
   "id": "8f1428ea",
   "metadata": {},
   "source": [
    "両端の灰矢印が、探索範囲を表している。これらの中央の青矢印が、大小関係を調べる要素である。\n",
    "1行目の比較では、青矢印の13よりキーの7の方が小さいので、キーがあるとしたらこれより左側にあると判断できる。\n",
    "したがって、右の灰矢印を青矢印の1つ左に移動させて、次の行に移る。\n",
    "\n",
    "2行目も同様にして、青矢印の5とキーの7を比較する。今度はキーの方が大きいので、左の灰矢印を青矢印の1つ右に移動させる。3行目までくると、探索範囲は2つ（7と11）に絞り込めている。このように探索範囲のサイズが偶数のときは、ちょうど中央の位置に要素はないので、中央の左隣か右隣の要素を比較対象に選ぶ（ここでは左隣を選択している）。このとき青矢印の要素はキーと一致するので、青矢印のインデックスを返して探索を終了する。\n",
    "\n",
    "キーに一致する要素がない場合は、上記操作をくり返すと、いずれ灰矢印の位置が逆転する。このとき `None` を返して探索を終了する。\n",
    "\n",
    "以下に、未完成の `binary_search()` 関数を用意した。\n",
    "左の灰矢印に相当するのが `left`、右の灰矢印に相当するのが `right`、真ん中の青矢印に相当するのが `mid` である。\n",
    "上の説明を参考に、プログラムを完成させてみてほしい。"
   ]
  },
  {
   "cell_type": "code",
   "execution_count": null,
   "id": "08176bcd",
   "metadata": {},
   "outputs": [],
   "source": [
    "def binary_search(data, key):\n",
    "    left = 0\n",
    "    right = len(data) - 1\n",
    "    while left <= right:\n",
    "        mid = (left + right) // 2\n",
    "        if data[mid] == key:\n",
    "            pass # ここを書き換える\n",
    "        elif data[mid] > key:\n",
    "            pass # ここを書き換える\n",
    "        else:\n",
    "            pass # ここを書き換える\n",
    "    return None"
   ]
  },
  {
   "cell_type": "code",
   "execution_count": null,
   "id": "5bc38b7c",
   "metadata": {
    "scrolled": true
   },
   "outputs": [],
   "source": [
    "data = [5, 1, 3, 7, 2]\n",
    "key = 7\n",
    "print(binary_search(data, key))\n",
    "\n",
    "data = [5, 1, 3, 7, 2]\n",
    "key = 4\n",
    "print(binary_search(data, key))"
   ]
  },
  {
   "cell_type": "markdown",
   "id": "66bb931d",
   "metadata": {},
   "source": [
    "二分探索の計算量は、リストの要素数を $N$ として最悪も平均も $O(\\log N)$ である。\n",
    "二分探索ではキーと要素を比較するたびに探索範囲が約半分になる。\n",
    "例えば、上図の例では探索範囲は$11\\rightarrow 5\\rightarrow 2$と移り変わっている。\n",
    "最悪の場合は、探索範囲が1となるまでキーと一致する要素が見つからない場合であるが、この場合でも約 $\\log N$ のステップ数で処理を終えることができる（前回のテキストから引き続き対数の底は2とする）。よって、最悪計算量は $O(\\log N)$ になる。\n",
    "平均的な場合においても、毎回のステップで探索範囲が約半分になるという性質は変わらないため、$O(\\log N)$ であることを示すことができる。\n",
    "\n",
    "ここまでに紹介した3つの探索方法について、実際に計算時間を比較してみよう。\n",
    "ここでは自明な例ではあるが、$0$ から $N-1$ まで整数が順に並んだリスト `data` を `list(range(N))` により作成し、それに対して探索を実行している。"
   ]
  },
  {
   "cell_type": "code",
   "execution_count": null,
   "id": "f2efe971",
   "metadata": {},
   "outputs": [],
   "source": [
    "import time\n",
    "\n",
    "def exec_time(func, data, key):\n",
    "    start = time.time()\n",
    "    func(data, key)\n",
    "    end = time.time()\n",
    "    return end - start"
   ]
  },
  {
   "cell_type": "code",
   "execution_count": null,
   "id": "d66ef57c",
   "metadata": {},
   "outputs": [],
   "source": [
    "N = 10**7\n",
    "data = list(range(N))\n",
    "key = N // 3  # 適当な要素\n",
    "\n",
    "print(exec_time(search, data, key))\n",
    "print(exec_time(linear_search, data, key))\n",
    "print(exec_time(binary_search, data, key))"
   ]
  },
  {
   "cell_type": "markdown",
   "id": "7272de2b",
   "metadata": {},
   "source": [
    "## ファイルの入出力"
   ]
  },
  {
   "cell_type": "markdown",
   "id": "e09a2b23",
   "metadata": {},
   "source": [
    "探索アルゴリズムから話題を変えて、この節ではファイルの入出力について学ぶ。\n",
    "これまではPythonプログラムの中で閉じた話がほとんどであったが、ファイルの入出力を学ぶことで、パソコン上のファイルに対して自由な処理を行えるようになったり、プログラムの実行結果を永続的に保存できるようになったりするなど出来ることの幅がぐんと広がる。"
   ]
  },
  {
   "cell_type": "markdown",
   "id": "68cd9671",
   "metadata": {},
   "source": [
    "### Googleドライブのマウント"
   ]
  },
  {
   "cell_type": "markdown",
   "id": "712cd164",
   "metadata": {},
   "source": [
    "Google Colab上でファイルを扱うために、最初にGoogleドライブに接続する必要がある（**マウント**という）。\n",
    "ここではマウントの手順を説明する。\n",
    "\n",
    "サイドメニューから以下の順番でアイコンをクリックする。"
   ]
  },
  {
   "cell_type": "markdown",
   "id": "cfd69ffc",
   "metadata": {},
   "source": [
    "```{figure} ./pic/drive1.png\n",
    "---\n",
    "width: 500px\n",
    "name: drive1\n",
    "---\n",
    "Googleドライブのマウント\n",
    "```"
   ]
  },
  {
   "cell_type": "markdown",
   "id": "0b37b818",
   "metadata": {},
   "source": [
    "そうすると以下のようなコードがノートブック上に現れるので、これを実行する。\n",
    "実行するとアカウントのログイン画面が表示され、その後Googleドライブのマウントを許可するか聞かれるので、許可するを選択する。"
   ]
  },
  {
   "cell_type": "markdown",
   "id": "1b2afb8b",
   "metadata": {},
   "source": [
    "```{figure} ./pic/drive2.png\n",
    "---\n",
    "width: 500px\n",
    "name: drive2\n",
    "---\n",
    "Googleドライブのマウント\n",
    "```"
   ]
  },
  {
   "cell_type": "markdown",
   "id": "72de3b3d",
   "metadata": {},
   "source": [
    "マウントしたあと左のウィンドウ上で `/content/drive/MyDrive` を見に行くと、Googleドライブ上のファイル・フォルダが確認できるはずである。"
   ]
  },
  {
   "cell_type": "markdown",
   "id": "f80fa5ad",
   "metadata": {},
   "source": [
    "```{figure} ./pic/drive3.png\n",
    "---\n",
    "width: 500px\n",
    "name: drive3\n",
    "---\n",
    "Googleドライブのマウント\n",
    "```"
   ]
  },
  {
   "cell_type": "markdown",
   "id": "8033b42b",
   "metadata": {},
   "source": [
    "### ファイルの読み込み"
   ]
  },
  {
   "cell_type": "markdown",
   "id": "3f393249",
   "metadata": {},
   "source": [
    "練習用のファイルとして次のデータが書かれたsample.txtを用意し（ToyoNet-ACEでも配布する予定）、Googleドライブのマイドライブ直下に置く。それ以外の場所に置いた場合は以降のコードの `path` を適宜変更する。\n",
    "\n",
    "<pre>8 7 9 6 9\n",
    "4 5 8 7 6\n",
    "9 9 9 8 9\n",
    "6 7 9 7 8</pre>\n",
    "\n",
    "このファイルの中身は組み込み関数の `open()` を使って、次のように読み込むことができる。\n",
    "`open()` 関数は、第一引数にファイルの存在する場所（**パス**という）、第二引数にモードを渡す。\n",
    "ここで渡している `'r'` は読み込みモードを表す。\n",
    "開いたファイルオブジェクト `f` は、使い終わったら必ず `f.close()` により閉じる必要がある。"
   ]
  },
  {
   "cell_type": "code",
   "execution_count": null,
   "id": "edd2b263",
   "metadata": {},
   "outputs": [],
   "source": [
    "path = \"/content/drive/MyDrive/sample.txt\"\n",
    "f = open(path, mode='r')\n",
    "\n",
    "content = f.read()\n",
    "print(content)\n",
    "\n",
    "f.close()"
   ]
  },
  {
   "cell_type": "markdown",
   "id": "6dbcc139",
   "metadata": {},
   "source": [
    "`read()` はファイル全体を文字列として読み込むが、for文により一行ずつ読み込むこともできる。"
   ]
  },
  {
   "cell_type": "code",
   "execution_count": null,
   "id": "8e150864",
   "metadata": {},
   "outputs": [],
   "source": [
    "f = open(path, mode='r')\n",
    "\n",
    "for line in f:\n",
    "    print(line)\n",
    "\n",
    "f.close()"
   ]
  },
  {
   "cell_type": "markdown",
   "id": "8e720520",
   "metadata": {},
   "source": [
    "さて `sample.txt` の中身は各行が一人一人の学生、各列が何かしらのスコアを表していたとしよう（つまり学生4人・スコア5つ）。このときデータを2次元リストとして読み込めると、分析の際に便利である。次のコードにより、ファイルの中身を2次元リストとして読み込むことができる。"
   ]
  },
  {
   "cell_type": "code",
   "execution_count": null,
   "id": "7f65d035",
   "metadata": {},
   "outputs": [],
   "source": [
    "f = open(path, mode='r')\n",
    "\n",
    "data = []\n",
    "for line in f:\n",
    "    data.append(line.strip().split(' '))\n",
    "print(data)\n",
    "\n",
    "f.close()"
   ]
  },
  {
   "cell_type": "markdown",
   "id": "df553300",
   "metadata": {},
   "source": [
    "ここで各行の文字列 `line` について、まず `strip()` メソッドにより改行文字 `\\n` を取り除き、次に `split(' ')` メソッドにより空白文字で区切ってリストに変換している。注意点として、ファイルを読み込むとその内容は文字列として取得されるため、`data` の各要素は文字列型となっている。そこで分析前に整数型または浮動小数点数型に変換しておく。"
   ]
  },
  {
   "cell_type": "code",
   "execution_count": null,
   "id": "921bbe91",
   "metadata": {},
   "outputs": [],
   "source": [
    "for i in range(len(data)):\n",
    "    for j in range(len(data[i])):\n",
    "        data[i][j] = int(data[i][j])  # 小数を含むならfloat()"
   ]
  },
  {
   "cell_type": "markdown",
   "id": "45ccb3dc",
   "metadata": {},
   "source": [
    "### ファイルの書き込み"
   ]
  },
  {
   "cell_type": "markdown",
   "id": "467b1b4d",
   "metadata": {},
   "source": [
    "読み込んだデータをもとに各生徒の平均スコアを求めて、ファイルに出力してみよう。\n",
    "\n",
    "まず出力用のパスを入力とは別に設定する。\n",
    "`open()` 関数を書き込みモード（`'w'`） で呼び出し、書き込み用のファイルオブジェクト `f` を取得する。\n",
    "平均値の計算は、ここでは簡単に `sum()` 関数と `len()` 関数を使用して行っている。\n",
    "そして結果を `f.write()` によりファイルに書き込んでいる。\n",
    "入力と同じように1行1学生となるように、最後に改行 `\\n` を入れている。\n",
    "\n",
    "ファイルへの書き込みを終えたら、`f.flush()`、`f.close()` を順に呼び出してファイルを閉じる。\n",
    "実は `f.write()` を呼び出した時点では、ファイルへの書き込みを予約した状態に過ぎず、OSの状態によっては実際の書き込みは後回しにされてしまう。\n",
    "そこで `f.flush()` を呼び出すことで、ファイルへの書き込みを確実に完了させるようにしている。"
   ]
  },
  {
   "cell_type": "code",
   "execution_count": null,
   "id": "d565c626",
   "metadata": {},
   "outputs": [],
   "source": [
    "output_path = \"/content/drive/MyDrive/sample_result.txt\"\n",
    "f = open(output_path, mode='w')\n",
    "\n",
    "for lst in data:\n",
    "    mean = sum(lst) / len(lst)\n",
    "    f.write(f\"{mean}\\n\")\n",
    "\n",
    "f.flush()\n",
    "f.close()"
   ]
  },
  {
   "cell_type": "markdown",
   "id": "7b6bf891",
   "metadata": {},
   "source": [
    "ここで紹介した書き込み方法では、毎回ファイルの内容が上書きされる。\n",
    "そうではなく、ファイルの末尾に追記したい場合には追記モード（`'a'`） を指定する。\n",
    "ファイルオブジェクトの使い方は書き込みモード（`'w'`）の場合と全く同じである。"
   ]
  },
  {
   "cell_type": "markdown",
   "id": "c9bb5931",
   "metadata": {},
   "source": [
    "## 演習"
   ]
  },
  {
   "cell_type": "code",
   "execution_count": null,
   "id": "60ec2e8e",
   "metadata": {},
   "outputs": [],
   "source": []
  }
 ],
 "metadata": {
  "kernelspec": {
   "display_name": "Python 3 (ipykernel)",
   "language": "python",
   "name": "python3"
  },
  "language_info": {
   "codemirror_mode": {
    "name": "ipython",
    "version": 3
   },
   "file_extension": ".py",
   "mimetype": "text/x-python",
   "name": "python",
   "nbconvert_exporter": "python",
   "pygments_lexer": "ipython3",
   "version": "3.9.5"
  },
  "vscode": {
   "interpreter": {
    "hash": "aee8b7b246df8f9039afb4144a1f6fd8d2ca17a180786b69acc140d282b71a49"
   }
  }
 },
 "nbformat": 4,
 "nbformat_minor": 5
}
