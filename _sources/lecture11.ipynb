{
 "cells": [
  {
   "cell_type": "markdown",
   "id": "52b9c04c",
   "metadata": {},
   "source": [
    "# 第11回 アルゴリズム入門：データの探索"
   ]
  },
  {
   "cell_type": "markdown",
   "id": "0f3467e6",
   "metadata": {},
   "source": [
    "___\n",
    "[![Open In Colab](https://colab.research.google.com/assets/colab-badge.svg)](https://colab.research.google.com/github/tsuboshun/begin-python/blob/gh-pages/_sources/workbook/lecture11.ipynb)\n",
    "\n",
    "___"
   ]
  },
  {
   "cell_type": "markdown",
   "id": "9ba5723c",
   "metadata": {},
   "source": [
    "## この授業で学ぶこと"
   ]
  },
  {
   "cell_type": "markdown",
   "id": "49246d72",
   "metadata": {},
   "source": [
    "準備中"
   ]
  },
  {
   "cell_type": "markdown",
   "id": "5043fc4e",
   "metadata": {},
   "source": [
    "## 探索とは"
   ]
  },
  {
   "cell_type": "markdown",
   "id": "800f0081",
   "metadata": {},
   "source": [
    "データの集合の中から、特定の条件に適合する要素を見つけることを **探索** という。\n",
    "このテキストでは、次の問題に限定して考える： 数値のリストと数値のキーが与えられるとき、リストの中にキーと一致する要素が存在するかを判定し、存在するときはそのインデックスを1つ求める。\n",
    "\n",
    "このアルゴリズムを関数として実装しよう。\n",
    "リストとキーを引数として受け取り、リストの中にキーが存在すればそのインデックスを返し、存在しなければ `None` を返す関数を作成する。\n",
    "\n",
    "例えば、次のリストとキーのペアに対しては、インデックスの3を返す。\n",
    "\n",
    "<pre>\n",
    "data = [5, 1, 3, 7, 2]\n",
    "key = 7\n",
    "</pre>\n",
    "\n",
    "次のリストとキーのペアに対しては、`None` を返す。\n",
    "<pre>\n",
    "data = [5, 1, 3, 7, 2]\n",
    "key = 4\n",
    "</pre>\n",
    "\n",
    "探索は使用頻度の高い基本的な操作なので、数多くのアルゴリズムが考案されている。\n",
    "今回はその中から代表的な線形探索と二分探索を紹介する。\n",
    "\n",
    "なお、探索プログラムはリストの `index()` メソッドを使えば、次のように実装することができる。\n",
    "ここではアルゴリズムの学習のため、`index()` メソッドには頼らずに、1からプログラムを作成することを考える。"
   ]
  },
  {
   "cell_type": "code",
   "execution_count": null,
   "id": "8e3a7555",
   "metadata": {},
   "outputs": [],
   "source": [
    "def search(data, key):\n",
    "    if key in data:\n",
    "        return data.index(key)\n",
    "    else:\n",
    "        return None"
   ]
  },
  {
   "cell_type": "code",
   "execution_count": null,
   "id": "56baa42a",
   "metadata": {},
   "outputs": [],
   "source": [
    "data = [5, 1, 3, 7, 2]\n",
    "key = 7\n",
    "print(search(data, key))\n",
    "\n",
    "data = [5, 1, 3, 7, 2]\n",
    "key = 4\n",
    "print(search(data, key))"
   ]
  },
  {
   "cell_type": "markdown",
   "id": "d213ce3e",
   "metadata": {},
   "source": [
    "## 線形探索"
   ]
  },
  {
   "cell_type": "markdown",
   "id": "21d838db",
   "metadata": {},
   "source": [
    "線形探索は、前から順に探すという単純なアルゴリズムである。\n",
    "実装としては、for文により前から要素を1つずつ調べていき、キーに一致する要素を見つけたところでそのインデックスをreturn文で返す。\n",
    "最後までキーに一致する要素が見つからなかった場合は、`None` をreturn文で返す。\n",
    "\n",
    "以下に、未完成の `linear_search()` 関数を用意した。練習として、プログラムを完成させてみてほしい。"
   ]
  },
  {
   "cell_type": "code",
   "execution_count": null,
   "id": "e16de7c4",
   "metadata": {},
   "outputs": [],
   "source": [
    "def linear_search(data, key):\n",
    "    for i in range(len(data)):\n",
    "        pass   # ここを書き換える\n",
    "    return None"
   ]
  },
  {
   "cell_type": "code",
   "execution_count": null,
   "id": "5743d54c",
   "metadata": {},
   "outputs": [],
   "source": [
    "data = [5, 1, 3, 7, 2]\n",
    "key = 7\n",
    "print(linear_search(data, key))\n",
    "\n",
    "data = [5, 1, 3, 7, 2]\n",
    "key = 4\n",
    "print(linear_search(data, key))"
   ]
  },
  {
   "cell_type": "markdown",
   "id": "34a1f386",
   "metadata": {},
   "source": [
    "線形探索の計算量は、リストの要素数を $N$ として最悪も平均も $O(N)$ である。\n",
    "最悪の場合は、キーと一致する要素がリストの最後にあるか、存在しない場合である。\n",
    "このときfor文の処理を $N$ 回繰り返すことになるので、最悪計算量は $O(N)$ となる。\n",
    "平均的な場合は、for文の処理を $N/2$ 回繰り返すことになる。\n",
    "計算量を表す際には、定数は無視されるため、平均計算量も $O(N)$ となる。\n",
    "\n",
    "$O(N)$ は計算量として十分小さいので、実用上はこれで十分なことが多い。\n",
    "ちなみに、リストの `index()` メソッドも線形探索を実装したものとなっている。"
   ]
  },
  {
   "cell_type": "markdown",
   "id": "535fc5b5",
   "metadata": {},
   "source": [
    "## 二分探索"
   ]
  },
  {
   "cell_type": "markdown",
   "id": "8a47fb90",
   "metadata": {},
   "source": [
    "二分探索は、リストがソートされているという前提のもとで、より効率的な探索を実現するアルゴリズムである。\n",
    "\n",
    "リストがソートされているとき、要素とキーの大小関係を調べることにより、キーがあるとしたら要素より右か左かが判明する。\n",
    "二分探索ではこの性質を利用し、さらに大小関係を調べる要素を探索範囲の中央から選ぶことで、なるべく少ないステップで探索範囲を絞り込んでいく。\n",
    "\n",
    "例としてキーが7のとき、二分探索が探索範囲を絞り込んでいく様子を次の図に示す。"
   ]
  },
  {
   "cell_type": "markdown",
   "id": "653a8317",
   "metadata": {},
   "source": [
    "```{figure} ./pic/binary_search.png\n",
    "---\n",
    "width: 700px\n",
    "name: binary_search\n",
    "---\n",
    "キーが7のときの二分探索の様子\n",
    "```"
   ]
  },
  {
   "cell_type": "markdown",
   "id": "c51e9822",
   "metadata": {},
   "source": [
    "両端の灰矢印が、探索範囲を表している。これらの中央の青矢印が、大小関係を調べる要素である。\n",
    "1行目の比較では、青矢印の13よりキーの7の方が小さいので、キーがあるとしたらこれより左側にあると判断できる。\n",
    "したがって、右の灰矢印を青矢印の1つ左に移動させて、次の行に移る。\n",
    "\n",
    "2行目も同様にして、青矢印の5とキーの7を比較する。今度はキーの方が大きいので、左の灰矢印を青矢印の1つ右に移動させる。3行目までくると、探索範囲は2つ（7と11）に絞り込めている。このように探索範囲のサイズが偶数のときは、ちょうど中央の位置に要素はないので、中央の左隣か右隣の要素を比較対象に選ぶ（ここでは左隣を選択している）。このとき青矢印の要素はキーと一致するので、青矢印のインデックスを返して探索を終了する。\n",
    "\n",
    "キーに一致する要素がない場合は、上記操作をくり返すと、いずれ灰矢印の位置が逆転する。このとき `None` を返して探索を終了する。\n",
    "\n",
    "以下に、未完成の `binary_search()` 関数を用意した。\n",
    "左の灰矢印に相当するのが `left`、右の灰矢印に相当するのが `right`、真ん中の青矢印に相当するのが `mid` である。\n",
    "上の説明を参考に、プログラムを完成させてみてほしい。"
   ]
  },
  {
   "cell_type": "code",
   "execution_count": null,
   "id": "08176bcd",
   "metadata": {},
   "outputs": [],
   "source": [
    "def binary_search(data, key):\n",
    "    left = 0\n",
    "    right = len(data) - 1\n",
    "    while left <= right:\n",
    "        mid = (left + right) // 2\n",
    "        if data[mid] == key:\n",
    "            pass # ここを書き換える\n",
    "        elif data[mid] > key:\n",
    "            pass # ここを書き換える\n",
    "        else:\n",
    "            pass # ここを書き換える\n",
    "    return None"
   ]
  },
  {
   "cell_type": "code",
   "execution_count": null,
   "id": "3507a2bf",
   "metadata": {
    "scrolled": true
   },
   "outputs": [],
   "source": [
    "data = [5, 1, 3, 7, 2]\n",
    "key = 7\n",
    "print(binary_search(data, key))\n",
    "\n",
    "data = [5, 1, 3, 7, 2]\n",
    "key = 4\n",
    "print(binary_search(data, key))"
   ]
  },
  {
   "cell_type": "markdown",
   "id": "cc951bf0",
   "metadata": {},
   "source": [
    "二分探索の計算量は、リストの要素数を $N$ として最悪も平均も $O(\\log N)$ である。\n",
    "二分探索ではキーと要素を比較するたびに探索範囲が約半分になる。\n",
    "例えば、上図の例では探索範囲は$11\\rightarrow 5\\rightarrow 2$と移り変わっている。\n",
    "最悪の場合は、探索範囲が1となるまでキーと一致する要素が見つからない場合であるが、この場合でも約 $\\log N$ のステップ数で処理を終えることができる（前回のテキストから引き続き対数の底は2とする）。よって、最悪計算量は $O(\\log N)$ になる。\n",
    "平均的な場合においても、毎回のステップで探索範囲が約半分になるという性質は変わらないため、$O(\\log N)$ であることを示すことができる。\n",
    "\n",
    "ここまでに紹介した3つの探索方法について、実際に計算時間を比較してみよう。\n",
    "ここでは自明な例ではあるが、$0$ から $N-1$ まで整数が順に並んだリスト `data` を `list(range(N))` により作成し、それに対して探索を実行している。"
   ]
  },
  {
   "cell_type": "code",
   "execution_count": null,
   "id": "f2efe971",
   "metadata": {},
   "outputs": [],
   "source": [
    "import time\n",
    "\n",
    "def exec_time(func, data, key):\n",
    "    start = time.time()\n",
    "    func(data, key)\n",
    "    end = time.time()\n",
    "    return end - start"
   ]
  },
  {
   "cell_type": "code",
   "execution_count": null,
   "id": "34b1d58b",
   "metadata": {},
   "outputs": [],
   "source": [
    "N = 10**7\n",
    "data = list(range(N))\n",
    "key = N // 3  # 適当な要素\n",
    "\n",
    "print(exec_time(search, data, key))\n",
    "print(exec_time(linear_search, data, key))\n",
    "print(exec_time(binary_search, data, key))"
   ]
  },
  {
   "cell_type": "markdown",
   "id": "7ee50f89",
   "metadata": {},
   "source": [
    "## ファイルの入出力"
   ]
  }
 ],
 "metadata": {
  "kernelspec": {
   "display_name": "Python 3 (ipykernel)",
   "language": "python",
   "name": "python3"
  },
  "language_info": {
   "codemirror_mode": {
    "name": "ipython",
    "version": 3
   },
   "file_extension": ".py",
   "mimetype": "text/x-python",
   "name": "python",
   "nbconvert_exporter": "python",
   "pygments_lexer": "ipython3",
   "version": "3.9.5"
  },
  "vscode": {
   "interpreter": {
    "hash": "aee8b7b246df8f9039afb4144a1f6fd8d2ca17a180786b69acc140d282b71a49"
   }
  }
 },
 "nbformat": 4,
 "nbformat_minor": 5
}
