{
 "cells": [
  {
   "cell_type": "markdown",
   "id": "52b9c04c",
   "metadata": {},
   "source": [
    "# 第8回 関数と再帰"
   ]
  },
  {
   "cell_type": "markdown",
   "id": "0f3467e6",
   "metadata": {},
   "source": [
    "___\n",
    "[![Open In Colab](https://colab.research.google.com/assets/colab-badge.svg)](https://colab.research.google.com/github/tsuboshun/begin-python/blob/gh-pages/_sources/workbook/lecture08.ipynb)\n",
    "\n",
    "___"
   ]
  },
  {
   "cell_type": "markdown",
   "id": "9ba5723c",
   "metadata": {},
   "source": [
    "## この授業で学ぶこと"
   ]
  },
  {
   "cell_type": "markdown",
   "id": "448d9103",
   "metadata": {},
   "source": [
    "これまでPythonに既に用意された関数を利用してきたが、今回は新しく関数を定義する方法を学ぶ。\n",
    "また関数を反復的に呼び出すことで、繰り返し処理を行う手法である再帰について学ぶ。"
   ]
  },
  {
   "cell_type": "markdown",
   "id": "0f4b21eb",
   "metadata": {},
   "source": [
    "### 準備"
   ]
  },
  {
   "cell_type": "code",
   "execution_count": null,
   "id": "8c48cb6d",
   "metadata": {
    "tags": [
     "hide-output"
    ]
   },
   "outputs": [],
   "source": [
    "pip install ColabTurtle"
   ]
  },
  {
   "cell_type": "code",
   "execution_count": null,
   "id": "211faf22",
   "metadata": {},
   "outputs": [],
   "source": [
    "import random\n",
    "import ColabTurtle.Turtle as turtle  # Google Colab用のturtleライブラリ\n",
    "\n",
    "turtle.DEFAULT_PEN_COLOR = 'black'\n",
    "turtle.DEFAULT_BACKGROUND_COLOR = 'white'"
   ]
  },
  {
   "cell_type": "markdown",
   "id": "8f8a3666",
   "metadata": {},
   "source": [
    "## 関数"
   ]
  },
  {
   "cell_type": "markdown",
   "id": "22e945c0",
   "metadata": {},
   "source": [
    "### 関数の定義"
   ]
  },
  {
   "cell_type": "markdown",
   "id": "0f983825",
   "metadata": {},
   "source": [
    "第5回で作成したBMIの計算プログラムを例に、関数を作成してみよう。関数は**def文**により作成することができる。"
   ]
  },
  {
   "cell_type": "code",
   "execution_count": null,
   "id": "6adfc5dc",
   "metadata": {},
   "outputs": [],
   "source": [
    "def bmi(a, b):   # aは身長[cm], bは体重[kg]\n",
    "    return 10000 * b / a ** 2"
   ]
  },
  {
   "cell_type": "code",
   "execution_count": null,
   "id": "b8b7edf9",
   "metadata": {
    "scrolled": true
   },
   "outputs": [],
   "source": [
    "bmi(193, 95)"
   ]
  },
  {
   "cell_type": "markdown",
   "id": "c30892c9",
   "metadata": {},
   "source": [
    "def文の書き方について解説する。上のコードを図で表すと次のようになる。"
   ]
  },
  {
   "cell_type": "markdown",
   "id": "11f5f272",
   "metadata": {},
   "source": [
    "```{figure} ./pic/def.png\n",
    "---\n",
    "width: 350px\n",
    "name: def\n",
    "---\n",
    "def文の書き方\n",
    "```"
   ]
  },
  {
   "cell_type": "markdown",
   "id": "8424f97b",
   "metadata": {},
   "source": [
    "`def` と書いたあとに空白を開けて関数名を書き、`()` の中に引数を表す変数名を書く。引数が複数ある場合は `,` で区切って並べる。\n",
    "def文の最後にコロン `:` を置いて、次の行からインデントを入れてブロックを作るのはif文やfor文と同じである。\n",
    "ブロックの中に関数が行う処理を書いていく。\n",
    "\n",
    "def文に特徴的なのは、ブロックの最後に**return文**を書くことである。\n",
    "return文は `return 戻り値` という形式で記述する。\n",
    "処理がreturn文に到達すると、関数の処理はそこで終了となり、戻り値を返してブロックを抜ける。\n",
    "\n",
    "関数を使用する際には、基本的に引数の順番通りに値を渡す必要がある。\n",
    "例えば上の例で `bmi(193, 95)` と呼び出すと、引数に `a = 193`、`b = 95` が代入されてブロックの処理が行われる。\n",
    "したがって、`10000 * 95 / 193 ** 2` を計算した結果が戻り値として返される。\n",
    "\n",
    "ただし、引数を直接指定する**キーワード引数**という呼び出し方をする場合は、順番を気にしなくて良い。\n",
    "キーワード引数は、関数の使用時に次のように `引数名 = 値` という形式で書く。"
   ]
  },
  {
   "cell_type": "code",
   "execution_count": null,
   "id": "bb8b33ec",
   "metadata": {},
   "outputs": [],
   "source": [
    "bmi(b = 95, a = 193)"
   ]
  },
  {
   "cell_type": "markdown",
   "id": "e8c244f3",
   "metadata": {},
   "source": [
    "また関数を利用する際には、基本的に引数に値を渡す必要がある。ただし、**デフォルト引数**を利用すると、あらかじめ引数に値を設定しておくことができ、関数呼び出し時にその引数を省略することが可能になる。デフォルト引数は、関数の定義時に次のように `引数名 = デフォルト値` という形式で記述する。"
   ]
  },
  {
   "cell_type": "code",
   "execution_count": null,
   "id": "411620a7",
   "metadata": {},
   "outputs": [],
   "source": [
    "def bmi(a = 157, b = 50):\n",
    "    return 10000 * b / a ** 2"
   ]
  },
  {
   "cell_type": "code",
   "execution_count": null,
   "id": "1cbc95ca",
   "metadata": {},
   "outputs": [],
   "source": [
    "bmi()"
   ]
  },
  {
   "cell_type": "code",
   "execution_count": null,
   "id": "4c3aab29",
   "metadata": {},
   "outputs": [],
   "source": [
    "bmi(193, 95)  # 引数に値を渡したら、デフォルト値よりこちらが優先される。"
   ]
  },
  {
   "cell_type": "markdown",
   "id": "b3e2d978",
   "metadata": {},
   "source": [
    "引数やreturn文のない関数もよく使われる。\n",
    "return文がない場合は、ブロックの最後まで実行してからブロックを抜ける。\n",
    "このとき戻り値がないことを表す `None` という値が返される。"
   ]
  },
  {
   "cell_type": "code",
   "execution_count": null,
   "id": "2a3ac006",
   "metadata": {},
   "outputs": [],
   "source": [
    "def greeting():\n",
    "    print(\"Hi.\")"
   ]
  },
  {
   "cell_type": "code",
   "execution_count": null,
   "id": "039c0915",
   "metadata": {},
   "outputs": [],
   "source": [
    "a = greeting()"
   ]
  },
  {
   "cell_type": "markdown",
   "id": "3419a745",
   "metadata": {},
   "source": [
    "ノートブックによる表示機能では何も表示されないが、`print()` することで `None` が代入されていることを確認できる。"
   ]
  },
  {
   "cell_type": "code",
   "execution_count": null,
   "id": "76bc71f0",
   "metadata": {},
   "outputs": [],
   "source": [
    "a"
   ]
  },
  {
   "cell_type": "code",
   "execution_count": null,
   "id": "66f0f4ef",
   "metadata": {},
   "outputs": [],
   "source": [
    "print(a)"
   ]
  },
  {
   "cell_type": "markdown",
   "id": "9f24da6e",
   "metadata": {},
   "source": [
    "### スコープ"
   ]
  },
  {
   "cell_type": "markdown",
   "id": "20cfa4a6",
   "metadata": {},
   "source": [
    "次のプログラムを結果を予想しながら実行してみよう。"
   ]
  },
  {
   "cell_type": "code",
   "execution_count": null,
   "id": "993382fa",
   "metadata": {},
   "outputs": [],
   "source": [
    "a = 1\n",
    "def func():\n",
    "    a = 2\n",
    "    print(a)\n",
    "        \n",
    "func()\n",
    "print(a)"
   ]
  },
  {
   "cell_type": "markdown",
   "id": "f4bd652e",
   "metadata": {},
   "source": [
    "コード上でオブジェクトが有効になる範囲のことを**スコープ**という。\n",
    "スコープにはいくつか種類があるが、その中でも**モジュールスコープ**と**ローカルスコープ**が重要である。\n",
    "ノートブックを起動するとモジュールスコープが始まる。\n",
    "ノートブックのセル上で変数を定義すると、他のセルからも参照できるのは、これらが同じモジュールスコープに属するためである。\n",
    "ただし関数内だけは別で、関数内はローカルスコープという独自のスコープを持つ。\n",
    "モジュールスコープに属する変数を**グローバル変数**、ローカルスコープに属する変数を**ローカル変数**という。\n",
    "\n",
    "上の例では、1行目の変数 `a` はモジュールスコープに属するグローバル変数である。\n",
    "一方で3行目の変数 `a` はローカルスコープに属するローカル変数である。\n",
    "したがって、`func()` 関数を実行してもグローバル変数の値は変更されず、最後の `print(a)` の出力は1となる。\n",
    "\n",
    "ローカルスコープからグローバル変数を参照することはできるが、モジュールスコープからローカル変数を直接参照することはできない。"
   ]
  },
  {
   "cell_type": "code",
   "execution_count": null,
   "id": "422c44e8",
   "metadata": {},
   "outputs": [],
   "source": [
    "# ローカルスコープからグローバル変数は参照できる\n",
    "b = 1\n",
    "def func():\n",
    "    print(b)\n",
    "    \n",
    "func()"
   ]
  },
  {
   "cell_type": "code",
   "execution_count": null,
   "id": "200c706f",
   "metadata": {},
   "outputs": [],
   "source": [
    "# モジュールスコープからローカル変数は参照できない\n",
    "def func():\n",
    "    c = 1\n",
    "    \n",
    "func()\n",
    "print(c)"
   ]
  },
  {
   "cell_type": "markdown",
   "id": "72ac0591",
   "metadata": {},
   "source": [
    "モジュールスコープからローカル変数の値を利用するには、戻り値か引数を経由する必要がある。引数を経由する方法は、引数がミュータブルなオブジェクトのときのみ可能であることに注意する。"
   ]
  },
  {
   "cell_type": "code",
   "execution_count": null,
   "id": "e6631758",
   "metadata": {},
   "outputs": [],
   "source": [
    "# 戻り値を経由する例\n",
    "def func():\n",
    "    c = 1\n",
    "    return c\n",
    "    \n",
    "c = func()\n",
    "print(c)"
   ]
  },
  {
   "cell_type": "code",
   "execution_count": null,
   "id": "732cb639",
   "metadata": {},
   "outputs": [],
   "source": [
    "# 引数を経由する例\n",
    "\n",
    "## 引数がミュータブルなオブジェクトの場合\n",
    "def func(x):\n",
    "    c = 1\n",
    "    x[0] = c\n",
    "\n",
    "x = [0]\n",
    "func(x)\n",
    "print(x) # [1]になる\n",
    "\n",
    "## 引数がイミュータブルなオブジェクトの場合\n",
    "def func2(x):\n",
    "    c = 1\n",
    "    x = c\n",
    "\n",
    "x = 0\n",
    "func2(x)\n",
    "print(x)  # 0のまま"
   ]
  },
  {
   "cell_type": "markdown",
   "id": "5b018f14",
   "metadata": {},
   "source": [
    "スコープ周りを初めから完璧に理解するのは難しいので、エラーが起きたり、変数の値が想定からズレたりした場合に、適宜思い出して調べるのがよいだろう。"
   ]
  },
  {
   "cell_type": "markdown",
   "id": "f46f920b",
   "metadata": {},
   "source": [
    "## turtleによるグラフィック描画"
   ]
  },
  {
   "cell_type": "markdown",
   "id": "fd268262",
   "metadata": {},
   "source": [
    "ここからはturtleというプログラミング学習用のグラフィックライブラリを用いて、関数作成の練習をしてみよう。\n",
    "このライブラリではペン先を表すカメを操作することで、線を描画する。\n",
    "turtleモジュールの主な関数は以下の通りである。"
   ]
  },
  {
   "cell_type": "markdown",
   "id": "d9015a32",
   "metadata": {},
   "source": [
    "- `turtle.penup()`\n",
    "  - ペン先を紙から離す。以降は、カメが移動しても線は引かれない。\n",
    "- `turtle.pendown()`\n",
    "  - ペン先を紙につける。以降は、カメが移動する度に線が引かれる。\n",
    "- `turtle.forward(d)`\n",
    "  - 前方に距離 d だけ進む。\n",
    "- `turtle.backward(d)`\n",
    "  - 後方に距離 d だけ進む。\n",
    "- `turtle.goto(x, y)`\n",
    "  - 座標(x, y)に移動する。\n",
    "- `turtle.position()`\n",
    "  - 現在の位置を返す。\n",
    "- `turtle.right(a)`\n",
    "  - 右方向に a 度回転する。\n",
    "- `turtle.left(a)`\n",
    "  - 左方向に a 度回転する。\n",
    "- `turtle.setheading(a)`\n",
    "  - 右方向を0度、下方向を90度とする回転座標で a 度の方向を向く。"
   ]
  },
  {
   "cell_type": "markdown",
   "id": "e3b5944c",
   "metadata": {},
   "source": [
    "`turtle.initializeTurtle()` を実行すると、初期化により画面が用意される。まずは、画面上の座標について確認してみよう。"
   ]
  },
  {
   "cell_type": "code",
   "execution_count": null,
   "id": "14d7e960",
   "metadata": {},
   "outputs": [],
   "source": [
    "turtle.initializeTurtle(initial_window_size=(400, 400))\n",
    "print(f\"現在の座標: {turtle.position()}\")\n",
    "turtle.setheading(0)\n",
    "turtle.forward(100)\n",
    "print(f\"現在の座標: {turtle.position()}\")\n",
    "turtle.right(90)\n",
    "turtle.forward(100)\n",
    "print(f\"現在の座標: {turtle.position()}\")"
   ]
  },
  {
   "cell_type": "markdown",
   "id": "bd5ee1ef",
   "metadata": {},
   "source": [
    "画面の大きさは`turtle.initializeTurtle()` 関数の引数 `initial_window_size` で指定しており、400 * 400である。\n",
    "座標は左上を原点(0, 0)とし、x軸は右方向に、y軸は下方向に伸びている。\n",
    "カメの初期位置は中央の(200, 200)である。\n",
    "上のプログラムでは、カメはx軸方向に100進んだあと、y軸方向に100進んでいる。\n",
    "\n",
    "それでは練習問題を通じて、描画用の関数を作ってみよう。"
   ]
  },
  {
   "cell_type": "markdown",
   "id": "0e769748",
   "metadata": {},
   "source": [
    "**練習1**  \n",
    "1辺の長さ `size` を引数とし、正方形を描画する関数 `draw_square()` を作成しなさい。\n",
    "ただし `turtle.pendown()` から始め、`turtle.penup()` で終わること。"
   ]
  },
  {
   "cell_type": "code",
   "execution_count": null,
   "id": "ca2ef1d5",
   "metadata": {},
   "outputs": [],
   "source": [
    "### （出席課題） 関数のみ提出する\n",
    "\n",
    "def draw_square(size):\n",
    "    pass\n",
    "\n",
    "###"
   ]
  },
  {
   "cell_type": "code",
   "execution_count": null,
   "id": "821c05af",
   "metadata": {},
   "outputs": [],
   "source": [
    "# 作成したら描画してみる\n",
    "turtle.initializeTurtle(initial_window_size=(400, 400))\n",
    "draw_square(100)"
   ]
  },
  {
   "cell_type": "markdown",
   "id": "82cd7944",
   "metadata": {},
   "source": [
    "**練習2**  \n",
    "1辺の長さ `size` を引数とし、正三角形を描画する関数 `draw_triangle()` を作成しなさい。\n",
    "ただし `turtle.pendown()` から始め、`turtle.penup()` で終わること。"
   ]
  },
  {
   "cell_type": "code",
   "execution_count": null,
   "id": "1aa767ae",
   "metadata": {},
   "outputs": [],
   "source": [
    "def draw_triangle(size):\n",
    "    pass"
   ]
  },
  {
   "cell_type": "code",
   "execution_count": null,
   "id": "6d9d44ee",
   "metadata": {},
   "outputs": [],
   "source": [
    "# 作成したら描画してみる\n",
    "turtle.initializeTurtle(initial_window_size=(400, 400))\n",
    "draw_triangle(100)"
   ]
  },
  {
   "cell_type": "markdown",
   "id": "7d25e3df",
   "metadata": {},
   "source": [
    "**練習3**  \n",
    "整数 `n` および1辺の長さ `size` を引数とし、正 `n` 角形を描画する関数 `draw_polygon()` を作成しなさい。ただし `turtle.pendown()` から始め、`turtle.penup()` で終わること。"
   ]
  },
  {
   "cell_type": "code",
   "execution_count": null,
   "id": "661b2462",
   "metadata": {},
   "outputs": [],
   "source": [
    "def daw_polygon(n, size):\n",
    "    pass"
   ]
  },
  {
   "cell_type": "code",
   "execution_count": null,
   "id": "137c5649",
   "metadata": {},
   "outputs": [],
   "source": [
    "# 作成したら描画してみる\n",
    "turtle.initializeTurtle(initial_window_size=(400, 400))\n",
    "daw_polygon(5, 100)"
   ]
  },
  {
   "cell_type": "markdown",
   "id": "f53b4360",
   "metadata": {},
   "source": [
    "## 再帰"
   ]
  },
  {
   "cell_type": "markdown",
   "id": "9c8f2439",
   "metadata": {},
   "source": [
    "以下のコードを実行すると木の枝のような模様が描かれる。どのような処理が行われているか理解できるだろうか。"
   ]
  },
  {
   "cell_type": "code",
   "execution_count": null,
   "id": "6648d861",
   "metadata": {},
   "outputs": [],
   "source": [
    "def draw_branch(length, depth):\n",
    "    turtle.pendown()\n",
    "    if depth == 0:\n",
    "        turtle.forward(length)\n",
    "    else:\n",
    "        turtle.forward(length)\n",
    "        turtle.left(20)\n",
    "        draw_branch(length, depth-1) # 再帰呼び出し\n",
    "        turtle.right(40)\n",
    "        draw_branch(length, depth-1) # 再帰呼び出し\n",
    "        turtle.left(20)\n",
    "    turtle.backward(length)\n",
    "    turtle.penup()\n",
    "        \n",
    "turtle.initializeTurtle(initial_window_size=(400, 400), initial_speed=10)  # 描画のスピードを1~13の間で指定できる\n",
    "turtle.penup()\n",
    "turtle.goto(200, 350)\n",
    "\n",
    "# 木を描画\n",
    "draw_branch(50, 5)"
   ]
  },
  {
   "cell_type": "markdown",
   "id": "e41be922",
   "metadata": {},
   "source": [
    "`draw_branch()` 関数の中身を読むと、`draw_branch()` 関数自身が呼び出されている箇所がある。\n",
    "このように関数が自分自身を呼び出すことを**再帰**呼び出しといい、またそのような定義は再帰的であるという。\n",
    "\n",
    "このコードを図解すると次のようになる。"
   ]
  },
  {
   "cell_type": "markdown",
   "id": "4efa87f0",
   "metadata": {},
   "source": [
    "```{figure} ./pic/tree.png\n",
    "---\n",
    "width: 400px\n",
    "name: tree\n",
    "---\n",
    "`draw_branc()` の再帰呼び出し\n",
    "```"
   ]
  },
  {
   "cell_type": "markdown",
   "id": "09a30c05",
   "metadata": {},
   "source": [
    "カメはステップ①で木の枝を描き、ステップ③、⑤で再帰的に木を描く。\n",
    "それ以外は向きの調整と、始点に戻る操作を行っているだけである。\n",
    "ステップ③、⑤それぞれにおいて、`draw_branch()` 関数のステップ①〜⑦が繰り返される。\n",
    "`draw_branch()` 関数において線を描いているのはステップ①のみであるが、このように繰り返し処理を行うことで、徐々に木の形が出来上がる。\n",
    "\n",
    "ステップ⑦の始点に戻る操作は、忘れやすい部分ではあるが重要である。\n",
    "というのもステップ④、⑤は、ステップ③の終了時にカメがちょうど上図の位置にまで戻ってくることを前提としているからである。\n",
    "\n",
    "再帰を使用することで、for文などのループ構文を用いずに反復的な問題を解くことができる。\n",
    "ただし、適切に終了条件を設定することが必要であり、これがないと無限ループに陥る可能性がある。\n",
    "木の例では、枝の深さに制限をつけるため `depth` という引数を使用し、再帰呼び出しの度に1ずつ減らしている。\n",
    "そして `depth == 0` となったときに再帰呼び出しを行わず、枝を１本描くだけでreturnしている。"
   ]
  },
  {
   "cell_type": "markdown",
   "id": "e68aa496",
   "metadata": {},
   "source": [
    "## 演習"
   ]
  },
  {
   "cell_type": "markdown",
   "id": "ae683863",
   "metadata": {},
   "source": [
    "**課題1**  \n",
    "1辺（例えば線分AB）の長さ `size` を引数とし、星形を描画する関数 `draw_star()` を作成しなさい。\n",
    "ただし `turtle.pendown()` から始め、`turtle.penup()` で終わること。"
   ]
  },
  {
   "cell_type": "markdown",
   "id": "32f004ed",
   "metadata": {},
   "source": [
    "```{figure} ./pic/star.png\n",
    "---\n",
    "width: 200px\n",
    "name: star\n",
    "---\n",
    "星形\n",
    "```"
   ]
  },
  {
   "cell_type": "code",
   "execution_count": null,
   "id": "8935adc7",
   "metadata": {},
   "outputs": [],
   "source": [
    "### （出席課題）関数のみ提出する\n",
    "\n",
    "def draw_star(size):\n",
    "    pass\n",
    "\n",
    "###"
   ]
  },
  {
   "cell_type": "code",
   "execution_count": null,
   "id": "ee8743b1",
   "metadata": {},
   "outputs": [],
   "source": [
    "# 作成したら描画してみる\n",
    "turtle.initializeTurtle(initial_window_size=(400, 400))\n",
    "draw_star(100)"
   ]
  },
  {
   "cell_type": "markdown",
   "id": "f5eed362",
   "metadata": {},
   "source": [
    "**課題2**  \n",
    "現在の `draw_branch()` 関数では、木の根元から先端までの分岐の間隔が一定であり、結果として描かれる木は不自然な形状をしている。\n",
    "より自然な木の形状を再現するために、再帰呼び出しの度に、枝の長さが0.8倍になるように `draw_branch()` を修正しなさい。"
   ]
  },
  {
   "cell_type": "code",
   "execution_count": null,
   "id": "16c3cb2b",
   "metadata": {},
   "outputs": [],
   "source": [
    "### （出席課題）以下を修正して、関数のみ提出する\n",
    "\n",
    "def draw_branch(length, depth):\n",
    "    turtle.pendown()\n",
    "    if depth == 0:\n",
    "        turtle.forward(length)\n",
    "    else:\n",
    "        turtle.forward(length)\n",
    "        turtle.left(20)\n",
    "        draw_branch(length, depth-1)\n",
    "        turtle.right(40)\n",
    "        draw_branch(length, depth-1)\n",
    "        turtle.left(20)\n",
    "    turtle.backward(length)\n",
    "    turtle.penup()\n",
    "    \n",
    "### \n",
    "        \n",
    "turtle.initializeTurtle(initial_window_size=(400, 400), initial_speed=10)  # 描画のスピードを1~13 の間で指定できる\n",
    "turtle.penup()\n",
    "turtle.goto(200, 350)\n",
    "\n",
    "# 木を描画\n",
    "draw_branch(50, 6)"
   ]
  },
  {
   "cell_type": "markdown",
   "id": "730ee846",
   "metadata": {},
   "source": [
    "## 余談: ジェネラティブ・アート"
   ]
  },
  {
   "cell_type": "markdown",
   "id": "a5ab1f2f",
   "metadata": {},
   "source": [
    "余談として、**ジェネラティブ・アート**について紹介する。\n",
    "ジェネラティブ・アートとは、アルゴリズム[^f1]やルール、自動化されたプロセスを用いて作品を生成するアートの一形態である。\n",
    "コンピュータやプログラミング言語を使って、これらのアルゴリズムやプロセスを実行し、視覚的または音響的な要素を生み出す。\n",
    "自然界の複雑さや美しさからインスピレーションを得た作品を、それとは対極の論理的で機械的なコンピュータを使って表現するところが、このアート形態の面白いところである。\n",
    "したがって、多くの場合に乱数の要素が作品に取り入れられており、実行するごとに毎回異なるパターンを楽しむことができる。\n",
    "\n",
    "Georg Neesが1968年に発表した *Schotter* は、最初のジェネラティブ・アート作品だと言われている。\n",
    "以下のプログラムは、*Schotter*  を模倣したコード[^f2]である。\n",
    "12個の正方形が規則的に並べられた行から始まり、下に行くにつれて徐々に秩序が失われる様子が描かれる。\n",
    "\n",
    "プログラムを実行して鑑賞してみよう。\n",
    "余力のある人は、どのようなアルゴリズムが使われているか、コードの読解に挑戦してみてほしい。\n",
    "`random.uniform()` 関数が初めて使われているが、これは引数を `a`、`b`とするとき、`a` と `b` の間の小数を一様な確率で返す関数である。\n",
    "\n",
    "[^f1]: アルゴリズムとは問題を解決するための手順のことである。次回詳しく説明する。\n",
    "[^f2]: こちらの[サイト](http://www.artsnova.com/Nees_Schotter_Tutorial.html)に掲載されているProcessingプログラムをPythonに書き換え作成した。"
   ]
  },
  {
   "cell_type": "code",
   "execution_count": null,
   "id": "bbce1667",
   "metadata": {},
   "outputs": [],
   "source": [
    "# パラメータ\n",
    "columns = 12   # 横方向の数\n",
    "rows = 22    # 縦方向の数\n",
    "size = 28    # 正方形の一辺の長さ\n",
    "padding = 2 * size   # 余白の大きさ\n",
    "\n",
    "# 画面の用意\n",
    "width = columns * size + 2 * padding  # 左右の余白の分 2 * padding を足している\n",
    "height = rows * size + 2 * padding  # 上下の...\n",
    "turtle.initializeTurtle(initial_speed=13, initial_window_size=(width, height))\n",
    "turtle.hideturtle()  # カメは描画しない\n",
    "\n",
    "# 模様の描画\n",
    "for y in range(rows):\n",
    "    v = y * (y+1) * 0.11  # yが大きくなるにつれ、乱数を大きくする\n",
    "    for x in range(columns):\n",
    "        rand = random.uniform(-v, v)  # 乱数の生成\n",
    "        turtle.penup()\n",
    "        turtle.goto(\n",
    "            padding + x * size + rand * 0.45,  # 乱数に0.45を掛けた分だけ位置をずらす\n",
    "            padding + y * size + rand * 0.45\n",
    "        )\n",
    "        turtle.pendown()\n",
    "        turtle.setheading(rand)  # 乱数の分だけ傾ける \n",
    "        # 正方形の描画\n",
    "        for _ in range(4):\n",
    "            turtle.forward(size)\n",
    "            turtle.right(90)"
   ]
  }
 ],
 "metadata": {
  "kernelspec": {
   "display_name": "Python 3 (ipykernel)",
   "language": "python",
   "name": "python3"
  },
  "language_info": {
   "codemirror_mode": {
    "name": "ipython",
    "version": 3
   },
   "file_extension": ".py",
   "mimetype": "text/x-python",
   "name": "python",
   "nbconvert_exporter": "python",
   "pygments_lexer": "ipython3",
   "version": "3.9.5"
  },
  "vscode": {
   "interpreter": {
    "hash": "aee8b7b246df8f9039afb4144a1f6fd8d2ca17a180786b69acc140d282b71a49"
   }
  }
 },
 "nbformat": 4,
 "nbformat_minor": 5
}
