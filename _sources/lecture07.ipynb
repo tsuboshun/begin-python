{
 "cells": [
  {
   "cell_type": "markdown",
   "id": "52b9c04c",
   "metadata": {},
   "source": [
    "# 第7回 これまでの復習と応用"
   ]
  },
  {
   "cell_type": "markdown",
   "id": "0f3467e6",
   "metadata": {},
   "source": [
    "___\n",
    "[![Open In Colab](https://colab.research.google.com/assets/colab-badge.svg)](https://colab.research.google.com/github/tsuboshun/begin-python/blob/gh-pages/workbook/lecture07.ipynb)\n",
    "\n",
    "___"
   ]
  },
  {
   "cell_type": "markdown",
   "id": "9ba5723c",
   "metadata": {},
   "source": [
    "## この授業で学ぶこと"
   ]
  },
  {
   "cell_type": "markdown",
   "id": "3db92f42-fa28-472a-89db-101225ce1019",
   "metadata": {},
   "source": [
    "第4回までで、プログラミングにおける材料と道具にあたるデータ型と関数・メソッドについて学び、第5回・第6回で処理の流れを制御する方法について学んだ。実はこれまでに学んだ文法だけで、プログラミングで必要なほとんどの処理を実現することができる。ただし、各文法と実用的な処理の間には隔たりがあり、複数の要素を適切に組み合わせる必要がある。また定番の処理は、世界中の開発者によりライブラリという形にまとめて公開されており、それらを利用することで効率的にプログラムを作成できる。\n",
    "\n",
    "今回は、これまでに学んだ文法を組み合わせてより高度な処理を実現する方法と、ライブラリから関数等を読み込んで利用する方法について、具体的な例を交えながら学ぶ。"
   ]
  },
  {
   "cell_type": "markdown",
   "id": "2f468882-a944-4952-9d28-46fcf04d4157",
   "metadata": {},
   "source": [
    "## 変数を使いこなす"
   ]
  },
  {
   "cell_type": "markdown",
   "id": "adbcd833-f5eb-4461-9506-3e685da1f1da",
   "metadata": {},
   "source": [
    "まずはif文の復習も兼ねて以下の問題に取り組んでみよう。"
   ]
  },
  {
   "cell_type": "markdown",
   "id": "ccd008e1-799e-4145-b45c-1e2952077299",
   "metadata": {},
   "source": [
    "**練習1**  \n",
    "2つの数値 `a`、`b` が与えられるとき、`a` と `b` のうち大きい方の値を `print` するコードを作成しなさい。\n",
    "<a href=\"https://code-judge-system.vercel.app/?&id=7-1\" target=\"_blank\">\n",
    "<img src=\"./_images/launch.svg\" style=\"width: 20px; height: 20px;\">\n",
    "</a>"
   ]
  },
  {
   "cell_type": "code",
   "execution_count": null,
   "id": "084f596c-b504-4203-a109-511fe4806e5c",
   "metadata": {},
   "outputs": [],
   "source": [
    "# a、b の一例\n",
    "a = 3\n",
    "b = 2\n",
    "\n",
    "# 以下にコードを作成し、以下の部分のみ提出する\n"
   ]
  },
  {
   "cell_type": "markdown",
   "id": "86ba7384-0974-4a84-a068-43e4a843e2fb",
   "metadata": {},
   "source": [
    "この応用として、次の問題を考える。"
   ]
  },
  {
   "cell_type": "markdown",
   "id": "74f9aa2c-9fc1-4901-984e-0a959e431c83",
   "metadata": {},
   "source": [
    "**例題**  \n",
    "3つの数値 `a`、`b`、`c` が与えられるとき、これらの最大値を `print` するコードを作成しなさい。"
   ]
  },
  {
   "cell_type": "markdown",
   "id": "31b77c4f-502b-420e-b602-3f11f33b0be5",
   "metadata": {},
   "source": [
    "このコードを1つのif文だけで実現することもできる。そのためには `a`、`b`、`c` の6通りの大小関係についてif、elif、elseで条件分岐して、それぞれのケースで最大になる変数を `print` すれば良い（例えば、`a > b and b > c` のとき `print(a)` とする）。ただし、この方法では条件式が複雑になりがちで、比較する数値が4つ、5つと増えるとコード量も膨大になる。\n",
    "\n",
    "最大値を効率的に求めるのに、以下のような方法がある。\n",
    "\n",
    "- まず、最初の値 `a` を一時的な変数 `tmp` に入れる[^f1]。\n",
    "- 次に、この変数 `tmp` と2番目の値 `b` を比較し、`b` のほうが大きければ `tmp` を `b` に置き換える。\n",
    "- 最後に、`tmp`と3番目の値 `c` を比較し、`c` のほうが大きければ再び入れ替える。\n",
    "\n",
    "こうすると、最終的に `tmp` には最大値が残るので、これを出力すればよい。\n",
    "\n",
    "[^f1]: `tmp` はtemporaryの略で、一時的な変数の名前によく使われる。"
   ]
  },
  {
   "cell_type": "code",
   "execution_count": null,
   "id": "3d6195c6-d95c-40fa-959c-1b1e5b094fe0",
   "metadata": {},
   "outputs": [],
   "source": [
    "# a, b, c の一例\n",
    "a = 1\n",
    "b = 3\n",
    "c = 2\n",
    "\n",
    "tmp = a\n",
    "if tmp < b:\n",
    "    tmp = b\n",
    "\n",
    "if tmp < c:\n",
    "    tmp = c\n",
    "print(tmp)"
   ]
  },
  {
   "cell_type": "markdown",
   "id": "2d15dd22-92bb-436e-b7d6-6fe1f838bc07",
   "metadata": {},
   "source": [
    "このように1つの問題をより細かい処理に分解し、前の処理の結果を変数に保存しながら次の処理に進む方法は、プログラミングの定石の一つである。"
   ]
  },
  {
   "cell_type": "markdown",
   "id": "0f2ce06b-8a01-4f66-bb38-8a4ad9c26592",
   "metadata": {},
   "source": [
    "**練習2**  \n",
    "3つの数値 `a`、`b`、`c` が与えられるとき、これらの最小値を `print` するコードを作成しなさい。\n",
    "<a href=\"https://code-judge-system.vercel.app/?&id=7-2\" target=\"_blank\">\n",
    "<img src=\"./_images/launch.svg\" style=\"width: 20px; height: 20px;\">\n",
    "</a>"
   ]
  },
  {
   "cell_type": "code",
   "execution_count": null,
   "id": "acd1a70d-88ae-4689-9a8c-0a0eab0e37f8",
   "metadata": {},
   "outputs": [],
   "source": [
    "# a、b、c の一例\n",
    "a = 2\n",
    "b = 1\n",
    "c = 3\n",
    "\n",
    "# 以下にコードを作成し、以下の部分のみ提出する\n"
   ]
  },
  {
   "cell_type": "markdown",
   "id": "c750f873-0281-408f-8690-5f248f6da0e3",
   "metadata": {},
   "source": [
    "**練習3**  \n",
    "2つの変数 `a`、`b` が与えられるとき、それぞれの変数の値を交換するコードを作成しなさい。つまり、例えば `a = \"犬\"`、`b = \"猫\"` という変数が与えられた場合、`a = \"猫\"`、`b = \"犬\"` という状態にしなさい。ただし採点の都合上、`print` してはいけない。\n",
    "<a href=\"https://code-judge-system.vercel.app/?&id=7-3\" target=\"_blank\">\n",
    "<img src=\"./_images/launch.svg\" style=\"width: 20px; height: 20px;\">\n",
    "</a>  \n",
    "<font color=cornflowerblue>ヒント: 単純に a = b などとすると b に代入する前に a の値が失われてしまうので、もう一つの変数 tmp を用意して a の値を一時的に保存する必要がある。</font>"
   ]
  },
  {
   "cell_type": "code",
   "execution_count": null,
   "id": "4830427d-14d5-463c-ab62-dc71de82300a",
   "metadata": {},
   "outputs": [],
   "source": [
    "# a、b の一例\n",
    "a = \"犬\"\n",
    "b = \"猫\"\n",
    "\n",
    "# 以下にコードを作成し、以下の部分のみ提出する\n"
   ]
  },
  {
   "cell_type": "markdown",
   "id": "019aea03-ddcc-45fc-a264-c72812f6cc2b",
   "metadata": {},
   "source": [
    "## 文のネスト"
   ]
  },
  {
   "cell_type": "markdown",
   "id": "84164d3d-a8f1-4fe7-a8a5-9ae9609eb9d7",
   "metadata": {},
   "source": [
    "これまでに学んだif文、for文、while文は、それぞれ内側のブロックに入れ子的に使用することもできる。このような入れ子構造のことを**ネスト**という。"
   ]
  },
  {
   "cell_type": "markdown",
   "id": "e8df5a5b-0ae7-43c5-a58c-0539275b7d6d",
   "metadata": {},
   "source": [
    "```{figure} ./pic/nest.png\n",
    "---\n",
    "width: 500px\n",
    "name: nest\n",
    "---\n",
    "文のネスト\n",
    "```"
   ]
  },
  {
   "cell_type": "markdown",
   "id": "ec981ff4-9fd4-41ff-9d82-18d24a6bdb61",
   "metadata": {},
   "source": [
    "入れ子構造を作るには、ブロックの中にさらにヘッダーとブロックを作る。したがって、内側のブロックはTab文字2つ分インデントすることになる。\n",
    "\n",
    "ブロックの抜け方はこれまでと同様、インデントの大きさをもとに戻せばよい。上の図のようにインデントをTab文字1つ分に戻せば、もとのブロックの処理の続きを書くことができるし、インデントをなくせばブロック外の処理の続きを書くことができる。\n",
    "\n",
    "以下でいくつか例を見てみよう。"
   ]
  },
  {
   "cell_type": "markdown",
   "id": "1bed43f9-672f-47cb-ba8b-c9faabcaf4f0",
   "metadata": {},
   "source": [
    "### for文とif文の組み合わせ"
   ]
  },
  {
   "cell_type": "markdown",
   "id": "bf67e90a-29e1-4378-a2df-f8fa7eca03a0",
   "metadata": {},
   "source": [
    "**例1: break文**  \n",
    "\n",
    "for文とif文を組み合わせる簡単な例として、**break文**を使ったものを紹介する。\n",
    "\n",
    "まず、`0` から `9` までの数字を順に出力するプログラムは次のように書けるのであった。"
   ]
  },
  {
   "cell_type": "code",
   "execution_count": null,
   "id": "ef090e1f-6524-462b-88f9-59be0a051354",
   "metadata": {},
   "outputs": [],
   "source": [
    "for i in range(10):\n",
    "    print(i)"
   ]
  },
  {
   "cell_type": "markdown",
   "id": "fed9d126-d9fe-4684-a5e4-cc5353ae0304",
   "metadata": {},
   "source": [
    "for文のブロックに次のようなif文を追加してみる。"
   ]
  },
  {
   "cell_type": "code",
   "execution_count": null,
   "id": "89062652-13e5-458d-ace2-aeca1dd0a082",
   "metadata": {},
   "outputs": [],
   "source": [
    "for i in range(10):\n",
    "    if i == 3:\n",
    "        break\n",
    "    print(i)"
   ]
  },
  {
   "cell_type": "markdown",
   "id": "f02c3a60-ac67-4eed-b7c9-3702003c0fb7",
   "metadata": {},
   "source": [
    "これを実行すると数字の出力は `2` で止まる。これは `i == 3` のときにif文のブロックに入り `break` が実行されるためである。\n",
    "`break` は「繰り返し処理を強制的に終了する」働きをもつ。"
   ]
  },
  {
   "cell_type": "markdown",
   "id": "ddc2e808-fcf2-4730-ba1b-98137ad4bd2c",
   "metadata": {},
   "source": [
    "**例2: リストの最大値**  \n",
    "\n",
    "最大値を求める問題を再び取り上げる。要素の数が増えてくると、それぞれに変数を設定するのは非効率なので、リスト `data` として与えられるとしよう。ここで次の問題を考える。\n",
    "\n",
    "**例題**  \n",
    "数値からなるリスト `data` が与えられるとき、`data` の要素の最大値を `print` するコードを作成しなさい。\n",
    "\n",
    "この例題も、3変数の場合とほとんど同じ考え方で解くことができる。コード例を以下に示す。"
   ]
  },
  {
   "cell_type": "code",
   "execution_count": null,
   "id": "d1bb1e1c-cf8d-47ce-816a-3d9230888841",
   "metadata": {},
   "outputs": [],
   "source": [
    "data = [1, 3, 5, 2]\n",
    "\n",
    "tmp = data[0]\n",
    "for v in data:\n",
    "    if tmp < v:\n",
    "        tmp = v\n",
    "    print(tmp)"
   ]
  },
  {
   "cell_type": "markdown",
   "id": "0c6e1235-cbe5-4112-a643-fa94bfe82239",
   "metadata": {},
   "source": [
    "まず最大値を求めるための変数 `tmp` を用意し、`data[0]` で初期化しておく。そしてfor文で `data` の要素を前から順に見ていき、`tmp` より大きい要素があれば `tmp` をその値に更新する。そうすれば最終的に `tmp` には最大値が残るので、それを出力すれば良い。"
   ]
  },
  {
   "cell_type": "markdown",
   "id": "41a4d795-8ccb-45cd-ae1b-d51ce2563c73",
   "metadata": {},
   "source": [
    "**練習4**  \n",
    "数値からなるリスト `data` が与えられるとき、`data` の要素の最小値を `print` するコードを作成しなさい。\n",
    "<a href=\"https://code-judge-system.vercel.app/?&id=7-4\" target=\"_blank\">\n",
    "<img src=\"./_images/launch.svg\" style=\"width: 20px; height: 20px;\">\n",
    "</a>"
   ]
  },
  {
   "cell_type": "code",
   "execution_count": null,
   "id": "9f988e10-6faf-45fb-af94-282a1d7be9bf",
   "metadata": {},
   "outputs": [],
   "source": [
    "# dataの一例 （この例では 1 と出力するのが正しい）\n",
    "data = [2, 1, 3]\n",
    "\n",
    "# 以下にコードを作成し、以下の部分のみ提出する\n"
   ]
  },
  {
   "cell_type": "markdown",
   "id": "b0596df8-0d87-4592-a3d5-c4d1219e82e7",
   "metadata": {},
   "source": [
    "### 二重ループ"
   ]
  },
  {
   "cell_type": "markdown",
   "id": "8b3b9f6c-a0dc-4b69-b689-51ecad595412",
   "metadata": {},
   "source": [
    "for文の中にfor文をネストさせたものを**二重ループ**という。\n",
    "二重ループを使うと、複数の要素のすべての組み合わせを簡単に処理できる。\n",
    "\n",
    "**例1: 九九を表示する**  \n",
    "\n",
    "次のコードは、九九の一部を表示する例である。"
   ]
  },
  {
   "cell_type": "code",
   "execution_count": null,
   "id": "d2601335-6f26-4f47-a23d-d3934d8a58ce",
   "metadata": {},
   "outputs": [],
   "source": [
    "for i in range(1, 5):    # iは1から4まで変化\n",
    "    for j in range(1, 4):  # 各iに対して1から3まで繰り返し\n",
    "        print(f\"{i} * {j} は {i * j} です。\")"
   ]
  },
  {
   "cell_type": "markdown",
   "id": "a3687fd5-9825-49d2-a24e-79dc90c431f7",
   "metadata": {},
   "source": [
    "`range` 関数に引数を2つ渡しているが、`range(a, b)` により生成されるイテラブルオブジェクトは、`a` から `b-1` までの整数を順に生成する。この例では、\n",
    "- 外側のループで `i` は1、2、3、4と順番に変化し、それぞれに対して\n",
    "- 内側のループで `j` が順に1、2、3と変化する。\n",
    "\n",
    "よって、合計で12回 `print` 関数が実行されることになる。実行結果を見て `i` と `j` がどのように増えていくか確認しよう。"
   ]
  },
  {
   "cell_type": "markdown",
   "id": "173a4426-9779-4d93-b084-d6228941c062",
   "metadata": {},
   "source": [
    "**例2: 二次元リスト**  \n",
    "\n",
    "二重ループは、**二次元リスト**を処理する際にもよく用いられる。二次元リストとは、要素がリストになっているリストのことである。例えば以下は二次元リストである。"
   ]
  },
  {
   "cell_type": "code",
   "execution_count": null,
   "id": "bf981200",
   "metadata": {},
   "outputs": [],
   "source": [
    "data = [[1, 2], [3, 4]]"
   ]
  },
  {
   "cell_type": "markdown",
   "id": "d71890ed",
   "metadata": {},
   "source": [
    "これに対し、リスト以外（整数や文字列など）を要素とするリストを一次元リストと呼ぶ。上の例で言えば、`[1, 2]` や `[3, 4]` は一次元リストであり、これらを含む `data` は二次元リストということになる。\n",
    "\n",
    "二次元リストの要素にアクセスするには、インデックスを2つ使う必要がある。例えば、上記のデータから値 `3` を取り出したい場合は、`data[1][0]` と書く。"
   ]
  },
  {
   "cell_type": "code",
   "execution_count": null,
   "id": "2aecf94f",
   "metadata": {},
   "outputs": [],
   "source": [
    "data[1][0]"
   ]
  },
  {
   "cell_type": "markdown",
   "id": "64287f2d-072b-4a2e-a5a0-bbecd080d43a",
   "metadata": {},
   "source": [
    "このような二次元リストのすべての要素を処理するには、二重ループを使うのが便利である。具体例として、すべての要素を表示するプログラムを見てみよう。"
   ]
  },
  {
   "cell_type": "code",
   "execution_count": null,
   "id": "aca54a68-5c26-4119-913c-effa7296d82a",
   "metadata": {},
   "outputs": [],
   "source": [
    "data = [[1, 2], [3, 4]]\n",
    "\n",
    "for row in data:  # 外側のループで各一次元リストを取り出す\n",
    "    for v in row:   # 内側のループで一次元リスト内の値を順番に取り出す\n",
    "        print(v)"
   ]
  },
  {
   "cell_type": "markdown",
   "id": "f069cdbb-25de-46a1-a915-3e27ab75f75f",
   "metadata": {},
   "source": [
    "- 外側のループで、`data` の各要素（ここでは `[1, 2]` や `[3, 4]`）が順番に `row` に代入される。\n",
    "- 内側のループでは、この `row` の中身が順番に変数 `value` に代入され、それが表示される。"
   ]
  },
  {
   "cell_type": "markdown",
   "id": "a53f6adc-2820-4c74-86ff-d47f7397eefd",
   "metadata": {},
   "source": [
    "また、この処理は以下のように `range` とインデックスを利用して書くことも可能である。"
   ]
  },
  {
   "cell_type": "code",
   "execution_count": null,
   "id": "93f82b43-edcd-4bc8-b96b-dd2a84d094e5",
   "metadata": {},
   "outputs": [],
   "source": [
    "data = [[1, 2], [3, 4]]\n",
    "\n",
    "for i in range(len(data)):\n",
    "    for j in range(len(data[i])):\n",
    "        print(data[i][j])"
   ]
  },
  {
   "cell_type": "markdown",
   "id": "45471a51",
   "metadata": {},
   "source": [
    "どちらの方法もよく用いられるので、慣れておくと良い。"
   ]
  },
  {
   "cell_type": "markdown",
   "id": "587ea20b-e5e0-49ea-aaba-3f510d7b4221",
   "metadata": {},
   "source": [
    "**練習5**  \n",
    "数値からなる二次元リスト `data` が与えられるとき、一番内側の要素の合計値を求めて `print` するコードを作成しなさい。\n",
    "<a href=\"https://code-judge-system.vercel.app/?&id=7-5\" target=\"_blank\">\n",
    "<img src=\"./_images/launch.svg\" style=\"width: 20px; height: 20px;\">\n",
    "</a>"
   ]
  },
  {
   "cell_type": "code",
   "execution_count": null,
   "id": "94ec52f7-37e3-42f6-a207-26eda9872edb",
   "metadata": {},
   "outputs": [],
   "source": [
    "# dataの一例 （この例では10と出力するのが正しい）\n",
    "data = [[1, 2], [3, 4]]\n",
    "\n",
    "# 以下にコードを作成し、以下の部分のみ提出する\n",
    "\n",
    "total = 0  # 合計値を保存する変数\n",
    "# ここに二重ループを書く\n",
    "\n",
    "print(total)"
   ]
  },
  {
   "cell_type": "markdown",
   "id": "2bc2fd3a-16e7-47d4-a6f8-9e297d2b3d9a",
   "metadata": {},
   "source": [
    "## モジュールとimport"
   ]
  },
  {
   "cell_type": "markdown",
   "id": "5a900a83-902b-488a-b20f-a08e9b047c14",
   "metadata": {},
   "source": [
    "これまでに使ってきた関数やデータ型は「組み込み関数」や「組み込み型」と呼ばれ、Pythonがあらかじめ用意しているものである。これに対して、自分で作成した関数や、誰かが作って公開した関数を利用するには、それをPythonに取り込む必要がある。この操作が**import文**である。\n",
    "\n",
    "Pythonでは、関連した関数やデータ型をひとまとめにしたファイル（**モジュール**）を、必要に応じて読み込んで使うことができる。モジュールの拡張子は `.py` である。モジュールには、\n",
    "- 他の人が作った便利な関数を簡単に使える\n",
    "- 同じコードを繰り返し書く必要がなくなり、効率的にプログラムが書ける\n",
    "- プログラムの構造が見やすくなる\n",
    "\n",
    "などの利点がある。\n",
    "\n",
    "例えば、乱数を生成する `random` モジュールを使う場合は次のように書く。`random` モジュールの中の `choice` 関数は、インポート後に `random.choice()` とすることで使用することができる。 これはリストを引数として受け取り、その要素をランダムに1つ返す関数である。"
   ]
  },
  {
   "cell_type": "code",
   "execution_count": null,
   "id": "321913b5-3a39-4eda-87ba-e0fd18fb27ed",
   "metadata": {},
   "outputs": [],
   "source": [
    "import random\n",
    "\n",
    "cand = [\"りんご\", \"キウイ\", \"バナナ\"]\n",
    "random.choice(cand)"
   ]
  },
  {
   "cell_type": "markdown",
   "id": "b632bead-85bb-4588-931e-ef48592d597b",
   "metadata": {},
   "source": [
    "また特定の関数だけをモジュールから読み込む方法もある。"
   ]
  },
  {
   "cell_type": "code",
   "execution_count": null,
   "id": "7b47de53",
   "metadata": {},
   "outputs": [],
   "source": [
    "from random import choice\n",
    "\n",
    "cand = [\"りんご\", \"キウイ\", \"バナナ\"]\n",
    "choice(cand)"
   ]
  },
  {
   "cell_type": "markdown",
   "id": "45fd0485",
   "metadata": {},
   "source": [
    "この場合、関数名の前にモジュール名を付けずに使える。\n",
    "\n",
    "さらに短い名前でモジュールを呼びたい場合は、次のように別名を指定してインポートできる。"
   ]
  },
  {
   "cell_type": "code",
   "execution_count": null,
   "id": "78e59dd4-d8fa-4541-b9b7-6678cb3cc88e",
   "metadata": {},
   "outputs": [],
   "source": [
    "import random as r\n",
    "\n",
    "cand = [\"りんご\", \"キウイ\", \"バナナ\"]\n",
    "r.choice(cand)"
   ]
  },
  {
   "cell_type": "markdown",
   "id": "effa80b4-d474-4ab9-a6b7-0165c16577fe",
   "metadata": {},
   "source": [
    "```{admonition} ライブラリのインストール\n",
    ":class: note\n",
    "\n",
    "Pythonのライブラリは、**標準ライブラリ**（インストール不要で最初からPythonに含まれている）と**外部ライブラリ**（自分で追加インストールが必要）に分かれている。\n",
    "外部ライブラリをインストールするには `pip` コマンドを使う。例えば、`pandas` というライブラリをインストールしたい場合、`pip install pandas` のように書く。\n",
    "こうして追加したライブラリも、上記のようにimportして使える。\n",
    "```"
   ]
  }
 ],
 "metadata": {
  "kernelspec": {
   "display_name": "Python 3 (ipykernel)",
   "language": "python",
   "name": "python3"
  },
  "language_info": {
   "codemirror_mode": {
    "name": "ipython",
    "version": 3
   },
   "file_extension": ".py",
   "mimetype": "text/x-python",
   "name": "python",
   "nbconvert_exporter": "python",
   "pygments_lexer": "ipython3",
   "version": "3.12.1"
  },
  "vscode": {
   "interpreter": {
    "hash": "aee8b7b246df8f9039afb4144a1f6fd8d2ca17a180786b69acc140d282b71a49"
   }
  }
 },
 "nbformat": 4,
 "nbformat_minor": 5
}
