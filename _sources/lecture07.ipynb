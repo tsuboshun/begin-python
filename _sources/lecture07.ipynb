{
 "cells": [
  {
   "cell_type": "markdown",
   "id": "52b9c04c",
   "metadata": {},
   "source": [
    "# 第7回 データの入れ物"
   ]
  },
  {
   "cell_type": "markdown",
   "id": "0f3467e6",
   "metadata": {},
   "source": [
    "___\n",
    "[![Open In Colab](https://colab.research.google.com/assets/colab-badge.svg)](https://colab.research.google.com/github/tsuboshun/begin-python/blob/gh-pages/_sources/workbook/lecture07.ipynb)\n",
    "\n",
    "___"
   ]
  },
  {
   "cell_type": "markdown",
   "id": "9ba5723c",
   "metadata": {},
   "source": [
    "## この授業で学ぶこと"
   ]
  },
  {
   "cell_type": "markdown",
   "id": "49246d72",
   "metadata": {},
   "source": [
    "（このノートは準備中）\n",
    "\n",
    "第4回の授業で、複数のデータをまとめるためのデータ型としてリスト型を紹介した。\n",
    "Pythonにはリスト型の他にも、データの入れ物の役割を果たすデータ型がいくつか存在する。\n",
    "今回はそれらの使い方を学ぶ。"
   ]
  },
  {
   "cell_type": "markdown",
   "id": "db1c8a29",
   "metadata": {},
   "source": [
    "## データの入れ物"
   ]
  },
  {
   "cell_type": "markdown",
   "id": "5eb6f1f7",
   "metadata": {},
   "source": [
    "リスト型のようにデータの入れ物の役割を果たす組み込み型として、他にも**辞書型**（**dict**）、**タプル型**（**tuple**）、**セット型**（**set**）などがある。\n",
    "はじめのうちはリスト型と辞書型を使いこなすことが重要なので、これらに重点を置きつつ一通り説明する。\n",
    "リスト型は改めての説明になるが、第4回の内容より一歩踏み込んで学ぶ。"
   ]
  },
  {
   "cell_type": "markdown",
   "id": "dd3a328e",
   "metadata": {},
   "source": [
    "### リスト型"
   ]
  },
  {
   "cell_type": "markdown",
   "id": "d6f637d2",
   "metadata": {},
   "source": [
    "第4回で学んだ通り、リストはデータを `,` で区切り、両端を `[]` で囲うことで作成できる。"
   ]
  },
  {
   "cell_type": "code",
   "execution_count": null,
   "id": "3137ae84",
   "metadata": {},
   "outputs": [],
   "source": [
    "x = [1, 2, 3, \"four\", 5]"
   ]
  },
  {
   "cell_type": "markdown",
   "id": "58149492",
   "metadata": {},
   "source": [
    "インデックスによる要素のアクセス方法も確認しておこう。上の例で `\"four\"` や `5` を取り出すには、以下のようにインデックスを指定する。"
   ]
  },
  {
   "cell_type": "code",
   "execution_count": null,
   "id": "513ca282",
   "metadata": {},
   "outputs": [],
   "source": [
    "x[3]"
   ]
  },
  {
   "cell_type": "code",
   "execution_count": null,
   "id": "5bd766d8",
   "metadata": {},
   "outputs": [],
   "source": [
    "print(x[4])\n",
    "print(x[-1])"
   ]
  },
  {
   "cell_type": "markdown",
   "id": "9d095791",
   "metadata": {},
   "source": [
    "#### 要素の追加と変更"
   ]
  },
  {
   "cell_type": "markdown",
   "id": "a08b35e7",
   "metadata": {},
   "source": [
    "今回新たに要素の追加方法を学ぶ。\n",
    "よく使われるのが要素を末尾に追加する方法で、`append()` メソッドを用いる。\n",
    "`append()` は、引数に渡されたデータをリストの末尾に追加する。"
   ]
  },
  {
   "cell_type": "code",
   "execution_count": null,
   "id": "43838dff",
   "metadata": {},
   "outputs": [],
   "source": [
    "x.append(6)\n",
    "x"
   ]
  },
  {
   "cell_type": "markdown",
   "id": "f91b8b95",
   "metadata": {},
   "source": [
    "要素を特定の位置に挿入するには `insert()` メソッドを用いる。`insert()` は、第一引数にインデックス、第二引数にデータを受け取る。"
   ]
  },
  {
   "cell_type": "code",
   "execution_count": null,
   "id": "8025def4",
   "metadata": {},
   "outputs": [],
   "source": [
    "x.insert(0, \"zero\")\n",
    "print(x)\n",
    "x.insert(2, \"1/2\")\n",
    "print(x)"
   ]
  },
  {
   "cell_type": "markdown",
   "id": "d17536a1",
   "metadata": {},
   "source": [
    "末尾に他のリストを連結するには `extend()` メソッドを用いる。 `extend()`は、引数に渡されたリストを自身の末尾に連結する。"
   ]
  },
  {
   "cell_type": "code",
   "execution_count": null,
   "id": "94f83223",
   "metadata": {},
   "outputs": [],
   "source": [
    "x.extend([7, 8])\n",
    "x"
   ]
  },
  {
   "cell_type": "markdown",
   "id": "cfbd6fa0",
   "metadata": {},
   "source": [
    "リストの連結は `+` 演算子によっても実現できる。`extend()` メソッドと違って、新しいリストが作成されることに注意する。"
   ]
  },
  {
   "cell_type": "code",
   "execution_count": null,
   "id": "74b246f1",
   "metadata": {},
   "outputs": [],
   "source": [
    "y = x + [9, 10]\n",
    "print(y)\n",
    "print(x)  # x自身は変わらない"
   ]
  },
  {
   "cell_type": "markdown",
   "id": "4906ba42",
   "metadata": {},
   "source": [
    "代入文により要素を変更することもできる。"
   ]
  },
  {
   "cell_type": "code",
   "execution_count": null,
   "id": "a7ad8f32",
   "metadata": {
    "scrolled": true
   },
   "outputs": [],
   "source": [
    "x[0] = 0\n",
    "print(x)\n",
    "x[3] = '2'\n",
    "print(x)"
   ]
  },
  {
   "cell_type": "markdown",
   "id": "ecb85501",
   "metadata": {},
   "source": [
    "#### 要素の削除"
   ]
  },
  {
   "cell_type": "markdown",
   "id": "054451d8",
   "metadata": {},
   "source": [
    "要素を削除するには `pop()` または `remove()` メソッドを用いる。`pop()` メソッドは引数で指定したインデックスの要素をリストから削除し、その値を戻り値として返す。"
   ]
  },
  {
   "cell_type": "code",
   "execution_count": null,
   "id": "a039f660",
   "metadata": {},
   "outputs": [],
   "source": [
    "elem = x.pop(3)\n",
    "print(elem)\n",
    "print(x)"
   ]
  },
  {
   "cell_type": "markdown",
   "id": "f94a0449",
   "metadata": {},
   "source": [
    "`remove()` メソッドは引数で指定した値と同じ値の要素を検索し、（複数ある場合は）そのうち一番左の要素を削除する。戻り値はない。"
   ]
  },
  {
   "cell_type": "code",
   "execution_count": null,
   "id": "c9573b33",
   "metadata": {},
   "outputs": [],
   "source": [
    "print(x)\n",
    "x.append(\"four\")\n",
    "print(x)\n",
    "x.remove(\"four\")\n",
    "print(x)"
   ]
  },
  {
   "cell_type": "markdown",
   "id": "5178c5b7",
   "metadata": {},
   "source": [
    "#### スライス"
   ]
  },
  {
   "cell_type": "markdown",
   "id": "3ae76cf0",
   "metadata": {},
   "source": [
    "リストに入っている要素のうち、連続した複数の要素を取り出すために用いられるのが**スライス**である。\n",
    "整数 `i`、`j` を用いてリストに対して `[i:j]` と要素を指定すると、インデックスについて `i` から `j-1` までの要素を切り出すことができる。\n",
    "`i` の前から `j` の前までと考えると覚えやすい。\n",
    "\n",
    "`i` または `j` を省略することもできる。\n",
    "`[:j]` は、インデックスについて最初から `j` の前までの要素を切り出す。\n",
    "`[i:]` は、インデックスについて`i` の前から最後までの要素を切り出す。\n",
    "\n",
    "以下にサンプルコードと図を示す。"
   ]
  },
  {
   "cell_type": "code",
   "execution_count": null,
   "id": "f53ac4f2",
   "metadata": {
    "scrolled": false
   },
   "outputs": [],
   "source": [
    "x = [1, 2, 3, \"four\", 5]\n",
    "print(x[1:4])\n",
    "print(x[:4])\n",
    "print(x[1:])"
   ]
  },
  {
   "cell_type": "markdown",
   "id": "1a4436a7",
   "metadata": {},
   "source": [
    "```{figure} ./pic/slice.png\n",
    "---\n",
    "width: 550px\n",
    "name: index\n",
    "---\n",
    "スライスとインデックスの関係\n",
    "```"
   ]
  },
  {
   "cell_type": "markdown",
   "id": "c3f24631",
   "metadata": {},
   "source": [
    "**練習1**  \n",
    "整数を要素とするリスト `x` が与えられるとき、そのうち偶数の要素のみからなるリスト `y` を作成しなさい。"
   ]
  },
  {
   "cell_type": "code",
   "execution_count": null,
   "id": "b9473b58",
   "metadata": {},
   "outputs": [],
   "source": [
    "# xの一例\n",
    "x = [1, 2, 3, 4, 5]"
   ]
  },
  {
   "cell_type": "markdown",
   "id": "c2c9330c",
   "metadata": {},
   "source": [
    "**練習2**  \n",
    "リスト `x` と整数 `i` が与えられるとき、リストの要素を `i` 回だけ右に回転させたリスト `y` を作成しなさい。ただし、`i` は 0以上 `len(x)` 以下とする。\n",
    "例: リスト `[1, 2, 3, 4, 5]` を 2回回転させると、`[4, 5, 1, 2, 3]` になる。"
   ]
  },
  {
   "cell_type": "code",
   "execution_count": null,
   "id": "0c31048d",
   "metadata": {},
   "outputs": [],
   "source": [
    "# xの一例\n",
    "x = [1, 2, 3, 4, 5]"
   ]
  },
  {
   "cell_type": "markdown",
   "id": "c3471dc3",
   "metadata": {},
   "source": [
    "**練習3**  \n",
    "練習2のコードを、さらに任意の整数 `i` に対して正しく動くように修正しなさい。"
   ]
  },
  {
   "cell_type": "code",
   "execution_count": null,
   "id": "1016eb1d",
   "metadata": {},
   "outputs": [],
   "source": [
    "# xの一例\n",
    "x = [1, 2, 3, 4, 5]"
   ]
  },
  {
   "cell_type": "markdown",
   "id": "895af528",
   "metadata": {},
   "source": [
    "### 辞書型"
   ]
  },
  {
   "cell_type": "markdown",
   "id": "f8ac68b1",
   "metadata": {},
   "source": [
    "リストでは0から始まる整数インデックスをもとに要素にアクセスした。\n",
    "辞書型は、自由に設定した**キー**（**key**）をもとに要素にアクセスできるようにしたデータ型である。\n",
    "辞書型では要素のことを**値**（**value**）と呼ぶ。"
   ]
  },
  {
   "cell_type": "markdown",
   "id": "91976c2c",
   "metadata": {},
   "source": [
    "```{figure} ./pic/dict.png\n",
    "---\n",
    "width: 450px\n",
    "name: index\n",
    "---\n",
    "辞書型\n",
    "```"
   ]
  },
  {
   "cell_type": "markdown",
   "id": "f484169b",
   "metadata": {},
   "source": [
    "辞書は、`:` を使ってキーと値のペアを指定し、各ペアを `,` で区切って、両端を `{}` で囲うことで作成できる。"
   ]
  },
  {
   "cell_type": "code",
   "execution_count": null,
   "id": "81a5fe56",
   "metadata": {},
   "outputs": [],
   "source": [
    "x = {\"apple\": \"りんご\", \"graph\": \"ぶどう\", \"peach\": \"もも\"}"
   ]
  },
  {
   "cell_type": "code",
   "execution_count": null,
   "id": "b72456d7",
   "metadata": {},
   "outputs": [],
   "source": [
    "リストと同様に、値には `[]` を使ってアクセスできる。"
   ]
  },
  {
   "cell_type": "code",
   "execution_count": null,
   "id": "258fe7c0",
   "metadata": {},
   "outputs": [],
   "source": [
    "print(x[\"apple\"])\n",
    "print(x[\"grape\"])"
   ]
  },
  {
   "cell_type": "markdown",
   "id": "8cb41f33",
   "metadata": {},
   "source": [
    "リストと同様、値にはどのようなデータ型も使用できる。\n",
    "ただし、キーには**イミュータブル**（**immutable**）なデータ型しか使用できない。"
   ]
  },
  {
   "cell_type": "markdown",
   "id": "59776941",
   "metadata": {},
   "source": [
    "#### 要素の追加と変更"
   ]
  },
  {
   "cell_type": "markdown",
   "id": "fddfdf16",
   "metadata": {},
   "source": [
    "#### 要素の削除"
   ]
  },
  {
   "cell_type": "markdown",
   "id": "b23b7295",
   "metadata": {},
   "source": [
    "### タプル型"
   ]
  },
  {
   "cell_type": "markdown",
   "id": "f7a8957c",
   "metadata": {},
   "source": [
    "### セット型"
   ]
  },
  {
   "cell_type": "markdown",
   "id": "1550b405",
   "metadata": {},
   "source": [
    "## 演習"
   ]
  },
  {
   "cell_type": "code",
   "execution_count": null,
   "id": "d8dc9fb5",
   "metadata": {
    "tags": [
     "hide-output"
    ]
   },
   "outputs": [],
   "source": [
    "pip install nltk"
   ]
  },
  {
   "cell_type": "code",
   "execution_count": null,
   "id": "c5ef1551",
   "metadata": {},
   "outputs": [],
   "source": [
    "import nltk\n",
    "alice = nltk.text.Text(nltk.corpus.gutenberg.words('carroll-alice.txt'))"
   ]
  },
  {
   "cell_type": "code",
   "execution_count": null,
   "id": "4eb0d734",
   "metadata": {
    "scrolled": false
   },
   "outputs": [],
   "source": [
    "dic = dict()\n",
    "for a in alice:\n",
    "    for e in a:\n",
    "        key = e.lower()\n",
    "        if key in dic:\n",
    "            dic[key] += 1\n",
    "        else:\n",
    "            dic[key] = 1\n",
    "    \n",
    "# valueに基づいてキーをソートし、上位10個を取得\n",
    "sorted_keys = sorted(dic, key=dic.get, reverse=True)[:10]\n",
    "\n",
    "# 上位10個のキーを表示\n",
    "print(sorted_keys)"
   ]
  }
 ],
 "metadata": {
  "kernelspec": {
   "display_name": "Python 3 (ipykernel)",
   "language": "python",
   "name": "python3"
  },
  "language_info": {
   "codemirror_mode": {
    "name": "ipython",
    "version": 3
   },
   "file_extension": ".py",
   "mimetype": "text/x-python",
   "name": "python",
   "nbconvert_exporter": "python",
   "pygments_lexer": "ipython3",
   "version": "3.9.5"
  },
  "vscode": {
   "interpreter": {
    "hash": "aee8b7b246df8f9039afb4144a1f6fd8d2ca17a180786b69acc140d282b71a49"
   }
  }
 },
 "nbformat": 4,
 "nbformat_minor": 5
}
