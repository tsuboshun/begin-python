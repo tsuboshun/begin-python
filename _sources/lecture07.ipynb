{
 "cells": [
  {
   "cell_type": "markdown",
   "id": "52b9c04c",
   "metadata": {},
   "source": [
    "# 第7回 データの入れ物"
   ]
  },
  {
   "cell_type": "markdown",
   "id": "0f3467e6",
   "metadata": {},
   "source": [
    "___\n",
    "[![Open In Colab](https://colab.research.google.com/assets/colab-badge.svg)](https://colab.research.google.com/github/tsuboshun/begin-python/blob/gh-pages/_sources/workbook/lecture07.ipynb)\n",
    "\n",
    "___"
   ]
  },
  {
   "cell_type": "markdown",
   "id": "9ba5723c",
   "metadata": {},
   "source": [
    "## この授業で学ぶこと"
   ]
  },
  {
   "cell_type": "markdown",
   "id": "49246d72",
   "metadata": {},
   "source": [
    "第4回の授業で、複数のデータをまとめるためのデータ型としてリスト型を紹介した。\n",
    "Pythonにはリスト型の他にも、データの入れ物の役割を果たすデータ型がいくつか存在する。\n",
    "今回はそれらの使い方を学ぶ。"
   ]
  },
  {
   "cell_type": "markdown",
   "id": "db1c8a29",
   "metadata": {},
   "source": [
    "## データの入れ物"
   ]
  },
  {
   "cell_type": "markdown",
   "id": "5eb6f1f7",
   "metadata": {},
   "source": [
    "リスト型のようにデータの入れ物の役割を果たす組み込み型として、他にも**辞書型**（**dict**）、**タプル型**（**tuple**）、**セット型**（**set**）などがある。\n",
    "はじめのうちはリスト型と辞書型を使いこなすことが重要なので、これらに重点を置きつつ一通り説明する。\n",
    "リスト型は改めての説明になるが、第4回の内容より一歩踏み込んで学ぶ。"
   ]
  },
  {
   "cell_type": "markdown",
   "id": "dd3a328e",
   "metadata": {},
   "source": [
    "### リスト型"
   ]
  },
  {
   "cell_type": "markdown",
   "id": "d6f637d2",
   "metadata": {},
   "source": [
    "第4回で学んだ通り、リストはデータを `,` で区切り、両端を `[]` で囲うことで作成できる。"
   ]
  },
  {
   "cell_type": "code",
   "execution_count": null,
   "id": "3137ae84",
   "metadata": {},
   "outputs": [],
   "source": [
    "x = [1, 2, 3, \"four\", 5]"
   ]
  },
  {
   "cell_type": "markdown",
   "id": "58149492",
   "metadata": {},
   "source": [
    "インデックスによる要素のアクセス方法も確認しておこう。上の例で `\"four\"` や `5` を取り出すには、以下のようにインデックスを指定する。"
   ]
  },
  {
   "cell_type": "code",
   "execution_count": null,
   "id": "513ca282",
   "metadata": {},
   "outputs": [],
   "source": [
    "x[3]"
   ]
  },
  {
   "cell_type": "code",
   "execution_count": null,
   "id": "5bd766d8",
   "metadata": {},
   "outputs": [],
   "source": [
    "print(x[4])\n",
    "print(x[-1])"
   ]
  },
  {
   "cell_type": "markdown",
   "id": "9d095791",
   "metadata": {},
   "source": [
    "#### 要素の追加と変更"
   ]
  },
  {
   "cell_type": "markdown",
   "id": "a08b35e7",
   "metadata": {},
   "source": [
    "今回新たに要素の追加方法を学ぶ。\n",
    "よく使われるのが要素を末尾に追加する方法で、`append()` メソッドを用いる。\n",
    "`append()` は、引数に渡されたデータをリストの末尾に追加する。"
   ]
  },
  {
   "cell_type": "code",
   "execution_count": null,
   "id": "43838dff",
   "metadata": {},
   "outputs": [],
   "source": [
    "x.append(6)\n",
    "x"
   ]
  },
  {
   "cell_type": "markdown",
   "id": "f91b8b95",
   "metadata": {},
   "source": [
    "要素を特定の位置に挿入するには `insert()` メソッドを用いる。`insert()` は、第一引数にインデックス、第二引数にデータを受け取る。"
   ]
  },
  {
   "cell_type": "code",
   "execution_count": null,
   "id": "8025def4",
   "metadata": {},
   "outputs": [],
   "source": [
    "x.insert(0, \"zero\")\n",
    "print(x)\n",
    "x.insert(2, \"1/2\")\n",
    "print(x)"
   ]
  },
  {
   "cell_type": "markdown",
   "id": "d17536a1",
   "metadata": {},
   "source": [
    "末尾に他のリストを連結するには `extend()` メソッドを用いる。 `extend()`は、引数に渡されたリストを自身の末尾に連結する。"
   ]
  },
  {
   "cell_type": "code",
   "execution_count": null,
   "id": "94f83223",
   "metadata": {},
   "outputs": [],
   "source": [
    "x.extend([7, 8])\n",
    "x"
   ]
  },
  {
   "cell_type": "markdown",
   "id": "cfbd6fa0",
   "metadata": {},
   "source": [
    "リストの連結は `+` 演算子によっても実現できる。`extend()` メソッドと違って、新しいリストが作成されることに注意する。"
   ]
  },
  {
   "cell_type": "code",
   "execution_count": null,
   "id": "74b246f1",
   "metadata": {},
   "outputs": [],
   "source": [
    "y = x + [9, 10]\n",
    "print(y)\n",
    "print(x)  # x自身は変わらない"
   ]
  },
  {
   "cell_type": "markdown",
   "id": "4906ba42",
   "metadata": {},
   "source": [
    "代入文により要素を変更することもできる。"
   ]
  },
  {
   "cell_type": "code",
   "execution_count": null,
   "id": "a7ad8f32",
   "metadata": {
    "scrolled": true
   },
   "outputs": [],
   "source": [
    "x[0] = 0\n",
    "print(x)\n",
    "x[3] = '2'\n",
    "print(x)"
   ]
  },
  {
   "cell_type": "markdown",
   "id": "ecb85501",
   "metadata": {},
   "source": [
    "#### 要素の削除"
   ]
  },
  {
   "cell_type": "markdown",
   "id": "054451d8",
   "metadata": {},
   "source": [
    "要素を削除するには**del文**、または `pop()` や `remove()` メソッドを用いる。del文は `del` の後ろに指定した要素を削除する。あとで説明するスライスと組み合わせると、複数の要素をまとめて削除することもできる。"
   ]
  },
  {
   "cell_type": "code",
   "execution_count": null,
   "id": "fcbaf676",
   "metadata": {},
   "outputs": [],
   "source": [
    "del x[2]\n",
    "print(x)\n",
    "del x[6:]  #スライス\n",
    "print(x)"
   ]
  },
  {
   "cell_type": "markdown",
   "id": "134e3688",
   "metadata": {},
   "source": [
    "`pop()` メソッドは引数で指定したインデックスの要素をリストから削除し、その値を戻り値として返す。"
   ]
  },
  {
   "cell_type": "code",
   "execution_count": null,
   "id": "a039f660",
   "metadata": {},
   "outputs": [],
   "source": [
    "elem = x.pop(2)\n",
    "print(elem)\n",
    "print(x)"
   ]
  },
  {
   "cell_type": "markdown",
   "id": "f94a0449",
   "metadata": {},
   "source": [
    "`remove()` メソッドは引数で指定した値と同じ値の要素を検索し、（複数ある場合は）そのうち一番左の要素を削除する。戻り値はない。"
   ]
  },
  {
   "cell_type": "code",
   "execution_count": null,
   "id": "c9573b33",
   "metadata": {},
   "outputs": [],
   "source": [
    "print(x)\n",
    "x.append(\"four\")\n",
    "print(x)\n",
    "x.remove(\"four\")\n",
    "print(x)"
   ]
  },
  {
   "cell_type": "markdown",
   "id": "5178c5b7",
   "metadata": {},
   "source": [
    "#### スライス"
   ]
  },
  {
   "cell_type": "markdown",
   "id": "3ae76cf0",
   "metadata": {},
   "source": [
    "リストに入っている要素のうち、連続した複数の要素を取り出すために用いられるのが**スライス**である。\n",
    "整数 `i`、`j` を用いてリストに対して `[i:j]` と要素を指定すると、インデックスについて `i` から `j-1` までの要素を切り出すことができる。\n",
    "`i` の前から `j` の前までと考えると覚えやすい。\n",
    "\n",
    "`i` または `j` を省略することもできる。\n",
    "`[:j]` は、インデックスについて最初から `j` の前までの要素を切り出す。\n",
    "`[i:]` は、インデックスについて`i` の前から最後までの要素を切り出す。\n",
    "\n",
    "以下にサンプルコードと図を示す。"
   ]
  },
  {
   "cell_type": "code",
   "execution_count": null,
   "id": "f53ac4f2",
   "metadata": {
    "scrolled": false
   },
   "outputs": [],
   "source": [
    "x = [1, 2, 3, \"four\", 5]\n",
    "print(x[1:4])\n",
    "print(x[:4])\n",
    "print(x[1:])"
   ]
  },
  {
   "cell_type": "markdown",
   "id": "1a4436a7",
   "metadata": {},
   "source": [
    "```{figure} ./pic/slice.png\n",
    "---\n",
    "width: 550px\n",
    "name: index\n",
    "---\n",
    "スライスとインデックスの関係\n",
    "```"
   ]
  },
  {
   "cell_type": "markdown",
   "id": "5cf433f0",
   "metadata": {},
   "source": [
    "**練習1**  \n",
    "整数を要素とするリスト `x` が与えられるとき、そのうち値が偶数の要素のみを取り出して新たなリストを作成し、出力しなさい。"
   ]
  },
  {
   "cell_type": "code",
   "execution_count": null,
   "id": "02bf89b4",
   "metadata": {},
   "outputs": [],
   "source": [
    "# xの一例\n",
    "x = [1, 2, 3, 4, 5]\n",
    "y = []"
   ]
  },
  {
   "cell_type": "markdown",
   "id": "82731c55",
   "metadata": {},
   "source": [
    "**練習2**  \n",
    "リスト `x` と整数 `i` が与えられるとき、リストの要素を `i` 回だけ右に回転させたリスト `y` を作成し、出力しなさい。ただし、`i` は 0以上 `len(x)` 以下とする。\n",
    "例: リスト `[1, 2, 3, 4, 5]` を 2回回転させると、`[4, 5, 1, 2, 3]` になる。"
   ]
  },
  {
   "cell_type": "code",
   "execution_count": null,
   "id": "812dbbef",
   "metadata": {},
   "outputs": [],
   "source": [
    "# xの一例\n",
    "x = [1, 2, 3, 4, 5]"
   ]
  },
  {
   "cell_type": "markdown",
   "id": "fe0a38d6",
   "metadata": {},
   "source": [
    "**練習3**  \n",
    "練習2のコードを、さらに任意の整数 `i` に対して正しく動くように修正しなさい。"
   ]
  },
  {
   "cell_type": "code",
   "execution_count": null,
   "id": "d28c89c9",
   "metadata": {},
   "outputs": [],
   "source": [
    "# xの一例\n",
    "x = [1, 2, 3, 4, 5]"
   ]
  },
  {
   "cell_type": "markdown",
   "id": "81267b85",
   "metadata": {},
   "source": [
    "### 辞書型"
   ]
  },
  {
   "cell_type": "markdown",
   "id": "a5baba30",
   "metadata": {},
   "source": [
    "リストでは0から始まる整数インデックスをもとに要素にアクセスした。\n",
    "辞書型は、自由に設定した**キー**（**key**）をもとに要素にアクセスできるようにしたデータ型である。\n",
    "辞書型では要素のことを**値**（**value**）と呼ぶ。"
   ]
  },
  {
   "cell_type": "markdown",
   "id": "d5478751",
   "metadata": {},
   "source": [
    "```{figure} ./pic/dict.png\n",
    "---\n",
    "width: 450px\n",
    "name: index\n",
    "---\n",
    "辞書型\n",
    "```"
   ]
  },
  {
   "cell_type": "markdown",
   "id": "4d924695",
   "metadata": {},
   "source": [
    "辞書は、`:` を使ってキーと値のペアを指定し、各ペアを `,` で区切って、両端を `{}` で囲うことで作成できる。"
   ]
  },
  {
   "cell_type": "code",
   "execution_count": null,
   "id": "3dea68d3",
   "metadata": {},
   "outputs": [],
   "source": [
    "x = {\"apple\": \"りんご\", \"grape\": \"ぶどう\", \"peach\": \"もも\"}\n",
    "type(x)"
   ]
  },
  {
   "cell_type": "markdown",
   "id": "5c3467c4",
   "metadata": {},
   "source": [
    "リストと同様、値には `[]` を使ってアクセスできる。"
   ]
  },
  {
   "cell_type": "code",
   "execution_count": null,
   "id": "1879698f",
   "metadata": {},
   "outputs": [],
   "source": [
    "print(x[\"apple\"])\n",
    "print(x[\"grape\"])"
   ]
  },
  {
   "cell_type": "markdown",
   "id": "888f7104",
   "metadata": {},
   "source": [
    "存在しないキーを指定するとエラーになる。\n",
    "キーが存在するかは、in演算子により確かめることができる。\n",
    "したがって、キーが存在するかわからない場合は、if文で確かめてからアクセスすること。"
   ]
  },
  {
   "cell_type": "code",
   "execution_count": null,
   "id": "463261b9",
   "metadata": {},
   "outputs": [],
   "source": [
    "if \"cherry\" in x:\n",
    "    print(x[\"cherry\"])\n",
    "else:\n",
    "    print(\"cherryは存在しないキーです。\")"
   ]
  },
  {
   "cell_type": "markdown",
   "id": "b7026d08",
   "metadata": {},
   "source": [
    "値にはどのようなデータ型も使用できる。\n",
    "ただし、キーにはイミュータブル（変更不可能）なデータ型しか使用できない。\n",
    "これはキーが途中で変わらないことを保証するためである。"
   ]
  },
  {
   "cell_type": "markdown",
   "id": "c15a3065",
   "metadata": {},
   "source": [
    "```{admonition} 発展的な話題： 変更可能と不可能\n",
    ":class: note\n",
    "値を変更可能なデータ型を**ミュータブル**、変更不可能なデータ型を**イミュータブル**という。  \n",
    "リストや辞書はミュータブルなデータ型である。実際、それぞれ `[]` を使った代入文により要素を変更することができる。  \n",
    "一方で、整数、浮動小数点数、文字列、真偽値はイミュータブルなデータ型である。\n",
    "例えば、次のようなコードを実行したとする。\n",
    "<pre>\n",
    "x = 1\n",
    "x = 2</pre>\n",
    "このとき `x = 2` は、新しいオブジェクト `2` を作成して変数 `x` に代入しているのであって、元のオブジェクト `1` の値を変更しているわけではない。\n",
    "\n",
    "これらの区別は、次のような例で重要になる。`y = x` というコードを実行した時点では、どちらのケースでも `x` と `y` は同じオブジェクトを参照している（第3回に説明したように同じオブジェクトに付箋がついているイメージ）。\n",
    "<pre>\n",
    "# ケース1\n",
    "x = 1\n",
    "y = x\n",
    "x = 2\n",
    "print(y)  # 出力は1</pre>\n",
    "上の例で `x = 2` は新しいオブジェクトを `x` に代入しているので、変数 `y` に影響はない。\n",
    "<pre>\n",
    "# ケース2\n",
    "x = [1, 2]\n",
    "y = x\n",
    "x[0] = 3\n",
    "print(y)  # 出力は[3, 2]</pre>\n",
    "上の例で `x[0] = 3` はオブジェクトの要素を変更している。したがって、変数 `y` の参照する値も変更される！\n",
    "```"
   ]
  },
  {
   "cell_type": "markdown",
   "id": "ef2de48b",
   "metadata": {},
   "source": [
    "#### 要素の追加と変更"
   ]
  },
  {
   "cell_type": "markdown",
   "id": "60a0af16",
   "metadata": {},
   "source": [
    "辞書に要素を追加したり変更したりするには、代入文を用いる。"
   ]
  },
  {
   "cell_type": "code",
   "execution_count": null,
   "id": "f46f3fa9",
   "metadata": {},
   "outputs": [],
   "source": [
    "x[\"cherry\"] = \"さくらんぼ\"  # 追加するときには、存在しないキーを指定してもエラーにならない\n",
    "x[\"grape\"] = \"ブドウ\"\n",
    "print(x)"
   ]
  },
  {
   "cell_type": "markdown",
   "id": "8680c4da",
   "metadata": {},
   "source": [
    "#### 要素の削除"
   ]
  },
  {
   "cell_type": "markdown",
   "id": "c955afec",
   "metadata": {},
   "source": [
    "辞書から要素を削除するには、del文を用いる。"
   ]
  },
  {
   "cell_type": "code",
   "execution_count": null,
   "id": "9f116795",
   "metadata": {},
   "outputs": [],
   "source": [
    "del x[\"grape\"]\n",
    "print(x)"
   ]
  },
  {
   "cell_type": "markdown",
   "id": "8a2f9a52",
   "metadata": {},
   "source": [
    "#### ループ処理"
   ]
  },
  {
   "cell_type": "markdown",
   "id": "bdb8f971",
   "metadata": {},
   "source": [
    "リストと同様、辞書の中身を一つずつ取り出して何らかの処理を行う機会は多い。\n",
    "辞書型では、for文を使って次のようにループ処理を行う。"
   ]
  },
  {
   "cell_type": "code",
   "execution_count": null,
   "id": "b64975c0",
   "metadata": {},
   "outputs": [],
   "source": [
    "for key in x:  # keyにはキーが順に代入される\n",
    "    print(f\"{key}: {x[key]}\")"
   ]
  },
  {
   "cell_type": "markdown",
   "id": "5047ab6c",
   "metadata": {},
   "source": [
    "**練習4**  \n",
    "`a`、`b`、`c` から成るリスト `data` が与えられる。辞書を使って `a`、`b`、`c` の出現回数をカウントし、結果を出力しなさい。"
   ]
  },
  {
   "cell_type": "code",
   "execution_count": null,
   "id": "afc8c76a",
   "metadata": {},
   "outputs": [],
   "source": [
    "# dataの一例\n",
    "data = ['a', 'b', 'a', 'a', 'c', 'b']\n",
    "count = {'a': 0, 'b': 0, 'c': 0}"
   ]
  },
  {
   "cell_type": "markdown",
   "id": "1cb979db",
   "metadata": {},
   "source": [
    "**練習5**  \n",
    "小文字のアルファベットから成るリスト `data` が与えられる。辞書を使ってそれぞれの文字の出現回数をカウントし、結果を出力しなさい。\n",
    "練習1とは違って、辞書の中身は与えていないので工夫すること。"
   ]
  },
  {
   "cell_type": "code",
   "execution_count": null,
   "id": "47b09a42",
   "metadata": {},
   "outputs": [],
   "source": [
    "# dataの一例\n",
    "data = ['a', 'e', 'a', 'a', 'f', 'e']\n",
    "count = {}"
   ]
  },
  {
   "cell_type": "markdown",
   "id": "9d2ca98b",
   "metadata": {},
   "source": [
    "### タプル型"
   ]
  },
  {
   "cell_type": "markdown",
   "id": "5d1f2aca",
   "metadata": {},
   "source": [
    "タプル型は、リスト型をイミュータブルにしたデータ型である。データを `,` で区切り、両端を `()` で囲うことで作成できる。\n",
    "リストと異なる点として、要素数が１つの場合も `(2,)` のように `,` で終わる必要がある。"
   ]
  },
  {
   "cell_type": "code",
   "execution_count": null,
   "id": "816c0db8",
   "metadata": {},
   "outputs": [],
   "source": [
    "a = (1, 2, 3, 4, 5)\n",
    "b = (2,)\n",
    "type(b)"
   ]
  },
  {
   "cell_type": "code",
   "execution_count": null,
   "id": "c0c13c22",
   "metadata": {},
   "outputs": [],
   "source": [
    "c = (2) #これは2と同じ\n",
    "type(c) "
   ]
  },
  {
   "cell_type": "markdown",
   "id": "aa8c4e5d",
   "metadata": {},
   "source": [
    "要素のアクセス方法は、リストと同じである。"
   ]
  },
  {
   "cell_type": "code",
   "execution_count": null,
   "id": "e4b57dd3",
   "metadata": {},
   "outputs": [],
   "source": [
    "print(a[2])\n",
    "print(a[4])\n",
    "print(a[-1])"
   ]
  },
  {
   "cell_type": "markdown",
   "id": "706389c0",
   "metadata": {},
   "source": [
    "イミュータブルなデータ型なので、値を変更しようとするとエラーになる。"
   ]
  },
  {
   "cell_type": "code",
   "execution_count": null,
   "id": "707823a1",
   "metadata": {},
   "outputs": [],
   "source": [
    "a[2] = \"two\""
   ]
  },
  {
   "cell_type": "markdown",
   "id": "d2aa7ab0",
   "metadata": {},
   "source": [
    "タプルのリストにない利点として、例えば辞書のキーとして使える点が挙げられる。"
   ]
  },
  {
   "cell_type": "code",
   "execution_count": null,
   "id": "7058e93c",
   "metadata": {},
   "outputs": [],
   "source": [
    "x = {(5,3): 15, (2,4): 8}"
   ]
  },
  {
   "cell_type": "code",
   "execution_count": null,
   "id": "ac8cefbb",
   "metadata": {},
   "outputs": [],
   "source": [
    "x = {[5,3]: 15, [2,4]: 8}  # リストはミュータブルなので、キーとして使用できない"
   ]
  },
  {
   "cell_type": "markdown",
   "id": "529c71ab",
   "metadata": {},
   "source": [
    "### セット型"
   ]
  },
  {
   "cell_type": "markdown",
   "id": "019b5a7b",
   "metadata": {},
   "source": [
    "セット型は、要素の重複なしの集合を表すためのデータ型である。\n",
    "データを `,` で区切り、両端を `{}` で囲うことで作成できる。"
   ]
  },
  {
   "cell_type": "code",
   "execution_count": null,
   "id": "b96e4da7",
   "metadata": {},
   "outputs": [],
   "source": [
    "x = {1, 2, 3, 4, 5}\n",
    "type(x)"
   ]
  },
  {
   "cell_type": "markdown",
   "id": "0c59e326",
   "metadata": {},
   "source": [
    "セットはリストから作成することが多い。`set()` 関数にリストを渡すと、リストの要素から成るセットを作成できる。"
   ]
  },
  {
   "cell_type": "code",
   "execution_count": null,
   "id": "91090427",
   "metadata": {
    "scrolled": true
   },
   "outputs": [],
   "source": [
    "x = set([1, 2, 3, 4, 5])\n",
    "x"
   ]
  },
  {
   "cell_type": "markdown",
   "id": "a8f131e6",
   "metadata": {},
   "source": [
    "セット型には次のような特徴がある。\n",
    "1. 要素の重複が除かれる\n",
    "2. 順序がなく、インデックスでアクセスできない\n",
    "3. 要素はイミュータブルである必要がある\n",
    "\n",
    "2と3についてはそのままであるので、1のみ確認しておこう。\n",
    "例えば、リストをもとにセットを作成すると、要素の重複が除かれることを確かめることができる。"
   ]
  },
  {
   "cell_type": "code",
   "execution_count": null,
   "id": "985ddd2a",
   "metadata": {},
   "outputs": [],
   "source": [
    "x = set([3, 1, 2, 2, 2])\n",
    "x"
   ]
  },
  {
   "cell_type": "markdown",
   "id": "78a0d364",
   "metadata": {},
   "source": [
    "セット型には、集合演算を容易に行えるという利点がある。例えば、和集合や積集合、差集合を次のように求めることができる。\n",
    "それぞれの集合演算の意味は、ベン図と見比べるとわかりやすい。例として積集合について、対応する要素に色をつけている。"
   ]
  },
  {
   "cell_type": "code",
   "execution_count": null,
   "id": "a957c672",
   "metadata": {},
   "outputs": [],
   "source": [
    "set1 = {1, 2, 3, 4}\n",
    "set2 = {3, 4, 5, 6}\n",
    "print(set1 | set2)  # 和集合\n",
    "print(set1 & set2) # 積集合\n",
    "print(set1 - set2)  # 差集合"
   ]
  },
  {
   "cell_type": "markdown",
   "id": "35830ca7",
   "metadata": {},
   "source": [
    "```{figure} ./pic/set.png\n",
    "---\n",
    "width: 400px\n",
    "name: index\n",
    "---\n",
    "集合演算（積集合）\n",
    "```"
   ]
  },
  {
   "cell_type": "markdown",
   "id": "e29f7e89",
   "metadata": {},
   "source": [
    "**練習6**  \n",
    "2つのリスト `x` と `y` が与えられるとき、どちらのリストにも存在する要素のセットを作り、出力しなさい。"
   ]
  },
  {
   "cell_type": "code",
   "execution_count": null,
   "id": "1000338a",
   "metadata": {},
   "outputs": [],
   "source": [
    "# xとyの一例\n",
    "x = [2, 4, 6, 8, 10, 12, 14, 16, 18]\n",
    "y = [3, 6, 9, 12, 15, 18]"
   ]
  },
  {
   "cell_type": "markdown",
   "id": "1550b405",
   "metadata": {},
   "source": [
    "## 演習"
   ]
  },
  {
   "cell_type": "code",
   "execution_count": null,
   "id": "d8dc9fb5",
   "metadata": {
    "tags": [
     "hide-output"
    ]
   },
   "outputs": [],
   "source": [
    "pip install nltk"
   ]
  },
  {
   "cell_type": "code",
   "execution_count": null,
   "id": "c5ef1551",
   "metadata": {},
   "outputs": [],
   "source": [
    "import nltk\n",
    "alice = nltk.text.Text(nltk.corpus.gutenberg.words('carroll-alice.txt'))"
   ]
  },
  {
   "cell_type": "code",
   "execution_count": null,
   "id": "4eb0d734",
   "metadata": {
    "scrolled": false
   },
   "outputs": [],
   "source": [
    "dic = dict()\n",
    "for a in alice:\n",
    "    for e in a:\n",
    "        key = e.lower()\n",
    "        if key in dic:\n",
    "            dic[key] += 1\n",
    "        else:\n",
    "            dic[key] = 1\n",
    "    \n",
    "# valueに基づいてキーをソートし、上位10個を取得\n",
    "sorted_keys = sorted(dic, key=dic.get, reverse=True)[:10]\n",
    "\n",
    "# 上位10個のキーを表示\n",
    "print(sorted_keys)"
   ]
  }
 ],
 "metadata": {
  "kernelspec": {
   "display_name": "Python 3 (ipykernel)",
   "language": "python",
   "name": "python3"
  },
  "language_info": {
   "codemirror_mode": {
    "name": "ipython",
    "version": 3
   },
   "file_extension": ".py",
   "mimetype": "text/x-python",
   "name": "python",
   "nbconvert_exporter": "python",
   "pygments_lexer": "ipython3",
   "version": "3.9.5"
  },
  "vscode": {
   "interpreter": {
    "hash": "aee8b7b246df8f9039afb4144a1f6fd8d2ca17a180786b69acc140d282b71a49"
   }
  }
 },
 "nbformat": 4,
 "nbformat_minor": 5
}
