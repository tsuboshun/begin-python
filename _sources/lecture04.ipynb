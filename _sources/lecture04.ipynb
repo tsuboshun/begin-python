{
 "cells": [
  {
   "cell_type": "markdown",
   "id": "52b9c04c",
   "metadata": {},
   "source": [
    "# 第4回 プログラムの材料と道具"
   ]
  },
  {
   "cell_type": "markdown",
   "id": "0f3467e6",
   "metadata": {},
   "source": [
    "___\n",
    "[![Open In Colab](https://colab.research.google.com/assets/colab-badge.svg)](https://colab.research.google.com/github/tsuboshun/begin-python/blob/gh-pages/_sources/workbook/lecture04.ipynb)\n",
    "\n",
    "___"
   ]
  },
  {
   "cell_type": "markdown",
   "id": "9ba5723c",
   "metadata": {},
   "source": [
    "## この授業で学ぶこと"
   ]
  },
  {
   "cell_type": "markdown",
   "id": "49246d72",
   "metadata": {},
   "source": [
    "第3回では、数値や文字列といった基本的なデータの扱い方を学んだ。\n",
    "プログラミングを工作に例えると、これらデータは材料にあたる。\n",
    "一方で、工作における道具にあたるものが関数やメソッドである。 \n",
    "今回はデータについてさらに詳しく学び、関数やメソッドについても学ぶ。"
   ]
  },
  {
   "cell_type": "markdown",
   "id": "0e610665",
   "metadata": {},
   "source": [
    "## データと関数"
   ]
  },
  {
   "cell_type": "markdown",
   "id": "edb40560",
   "metadata": {},
   "source": [
    "Pythonには数値や文字列の他にもいろいろな種類のデータがある。こうした種類の違いのことをデータの**型**（**type**）と言う。\n",
    "データ型には、**整数型**（**int**）、**浮動小数点数型**（**float**）、**文字列型**（**str**）、**リスト型**（**list**）、**ブール型**（**bool**）などがある。\n",
    "\n",
    "データ型を調べるには `type()` という関数を使う。関数とは何かについて説明する前に、まずは使ってみよう。"
   ]
  },
  {
   "cell_type": "code",
   "execution_count": null,
   "id": "f6932a99",
   "metadata": {},
   "outputs": [],
   "source": [
    "type(3)"
   ]
  },
  {
   "cell_type": "code",
   "execution_count": null,
   "id": "279e4abb",
   "metadata": {},
   "outputs": [],
   "source": [
    "type(3.14)"
   ]
  },
  {
   "cell_type": "code",
   "execution_count": null,
   "id": "63d2e607",
   "metadata": {
    "scrolled": true
   },
   "outputs": [],
   "source": [
    "type(\"text\")"
   ]
  },
  {
   "cell_type": "markdown",
   "id": "3591e838",
   "metadata": {},
   "source": [
    "上から順に `3` は整数型、`3.14` は浮動小数点数型、`\"text\"` は文字列型という結果になった。"
   ]
  },
  {
   "cell_type": "markdown",
   "id": "aabdc28b",
   "metadata": {},
   "source": [
    "ここで使った `type()` は、データを受け取り、そのデータ型を調べて結果を返した。\n",
    "このようにデータを受け取って、何らかの処理を行った上で、必要に応じて結果を返すものを**関数**という。\n",
    "関数は**引数**という変数を通じてデータを受け取り、必要に応じて**戻り値**を返す。\n",
    "例えば `type(\"text\")` というコードでは、`type()` 関数は `\"text\"` というデータを引数として受け取り、`str` という型を戻り値として返している。\n",
    "\n",
    "関数によっては引数を複数持つこともあり、その場合はデータを `,` で区切って渡す。関数の使い方を一般的な形で図に表すと、次のようになる。"
   ]
  },
  {
   "cell_type": "markdown",
   "id": "8b969328",
   "metadata": {},
   "source": [
    "```{figure} ./pic/func.png\n",
    "---\n",
    "width: 400px\n",
    "name: func\n",
    "---\n",
    "関数の使い方\n",
    "```"
   ]
  },
  {
   "cell_type": "markdown",
   "id": "7d865bf5",
   "metadata": {},
   "source": [
    "実は前回の講義でも説明なしに `print()` という関数を使っていた。`print()` は複数のデータを受け取り、戻り値を返さない関数である。"
   ]
  },
  {
   "cell_type": "code",
   "execution_count": null,
   "id": "7a9b6f5b",
   "metadata": {},
   "outputs": [],
   "source": [
    "print(\"text1\", \"text2\", 3)"
   ]
  },
  {
   "cell_type": "markdown",
   "id": "be928cac",
   "metadata": {},
   "source": [
    "複数のデータを渡すと、空白を間に挟んで出力する。\n",
    "少し細かい話になるが、この出力は `print()` 関数の戻り値ではなく、出力するという処理を行ったと考えるのが正しい。\n",
    "次のコードは、戻り値に関して `type()` 関数と `print()` 関数を比較したものである。"
   ]
  },
  {
   "cell_type": "code",
   "execution_count": null,
   "id": "da9fbf5b",
   "metadata": {},
   "outputs": [],
   "source": [
    "a = type(\"text\")"
   ]
  },
  {
   "cell_type": "code",
   "execution_count": null,
   "id": "9a740d3a",
   "metadata": {
    "scrolled": true
   },
   "outputs": [],
   "source": [
    "a"
   ]
  },
  {
   "cell_type": "code",
   "execution_count": null,
   "id": "bff60c09",
   "metadata": {},
   "outputs": [],
   "source": [
    "b = print(\"text\")"
   ]
  },
  {
   "cell_type": "code",
   "execution_count": null,
   "id": "d401dd4f",
   "metadata": {},
   "outputs": [],
   "source": [
    "b"
   ]
  },
  {
   "cell_type": "markdown",
   "id": "62a00b6d",
   "metadata": {},
   "source": [
    "ノートブック環境ではセルの最終行を評価した値が自動的に表示されるが、`a = type(\"text\")` のような代入文については評価しても出力されるものはない。\n",
    "一方で、`b = print(\"text\")` を実行したときに `text` と表示されたのはノートブックの機能によるものではなく `print()` 関数の処理によるものである。\n",
    "また変数 `a` には `type()` 関数の戻り値 `str` が代入され、変数 `b` には値がないことがわかる。"
   ]
  },
  {
   "cell_type": "markdown",
   "id": "e9205f05",
   "metadata": {},
   "source": [
    "### 整数型と浮動小数点数型"
   ]
  },
  {
   "cell_type": "markdown",
   "id": "6150bcb4",
   "metadata": {},
   "source": [
    "それでは先ほど紹介したデータ型を順に見ていこう。\n",
    "まず整数型（int）は、名前のとおり整数を表すデータ型である。\n",
    "一方、浮動小数点数型（float）は、小数を一定の精度で表現したものである。\n",
    "\n",
    "例えば、`3` は整数型のデータとして扱われるが、`3.0` は浮動小数点数型のデータとして扱われる。\n",
    "以後、例えば整数型のデータのことを単に整数と呼ぶ。"
   ]
  },
  {
   "cell_type": "code",
   "execution_count": null,
   "id": "fa75f316",
   "metadata": {},
   "outputs": [],
   "source": [
    "type(3)"
   ]
  },
  {
   "cell_type": "code",
   "execution_count": null,
   "id": "3c54e090",
   "metadata": {},
   "outputs": [],
   "source": [
    "type(3.0)"
   ]
  },
  {
   "cell_type": "markdown",
   "id": "9b7297f6",
   "metadata": {},
   "source": [
    "浮動小数点数が、小数を完璧な精度で表現していないという点は重要である。これは第2回の講義で説明したとおり、小数も内部では2進数で表現されており、例えば `1/3 = 0.3333...`のように無限に桁の続く小数を、有限のビット数では正確には表現できないためである。\n",
    "次の結果は驚きかもしれない。"
   ]
  },
  {
   "cell_type": "code",
   "execution_count": null,
   "id": "a2dc7cfc",
   "metadata": {},
   "outputs": [],
   "source": [
    "0.1 * 3"
   ]
  },
  {
   "cell_type": "markdown",
   "id": "5c05ca84",
   "metadata": {},
   "source": [
    "わずかな差ではあるが、`0.1 * 3` はなんと `0.3` にならない。\n",
    "これは内部の小数の表現方法に起因する誤差によるものである。\n",
    "このように小数の計算では、わずかな誤差が生じうることを念頭におく必要がある。"
   ]
  },
  {
   "cell_type": "markdown",
   "id": "d2fc3f47",
   "metadata": {},
   "source": [
    "### 文字列型"
   ]
  },
  {
   "cell_type": "markdown",
   "id": "07c8ccc3",
   "metadata": {},
   "source": [
    "文字列型（str）は、名前のとおり文字を表すデータ型である。前回学んだとおり、両端をシングルクォーテーション（ ' ）またはダブルクォーテーション（ \" ）で囲うと、文字列型のデータとして扱われる。"
   ]
  },
  {
   "cell_type": "code",
   "execution_count": null,
   "id": "574c30cd",
   "metadata": {},
   "outputs": [],
   "source": [
    "type(\"Hello\")"
   ]
  },
  {
   "cell_type": "code",
   "execution_count": null,
   "id": "04bc04cf",
   "metadata": {},
   "outputs": [],
   "source": [
    "type(\"2.0\")"
   ]
  },
  {
   "cell_type": "markdown",
   "id": "6e5081c3",
   "metadata": {},
   "source": [
    "`\"2.0\"` は文字列であり、数値とは明確に区別される。"
   ]
  },
  {
   "cell_type": "code",
   "execution_count": null,
   "id": "149a7fa0",
   "metadata": {},
   "outputs": [],
   "source": [
    "3 + \"2.0\""
   ]
  },
  {
   "cell_type": "markdown",
   "id": "58a7cda2",
   "metadata": {},
   "source": [
    "エラーメッセージにある通り、整数と文字列を足すことはできない。\n",
    "この計算をエラーなく実行するためには、両者のデータ型を揃えることが必要である。\n",
    "文字列を数値に変換するには `int()` または `float()` 関数を、数値を文字列に変換するには `str()` 関数を用いる。\n",
    "結果を予想しながら、次のコードを実行してみよう。"
   ]
  },
  {
   "cell_type": "code",
   "execution_count": null,
   "id": "3e5f71fc",
   "metadata": {},
   "outputs": [],
   "source": [
    "3 + float(\"2.0\")"
   ]
  },
  {
   "cell_type": "code",
   "execution_count": null,
   "id": "fbddf458",
   "metadata": {},
   "outputs": [],
   "source": [
    "str(3) + \"2.0\""
   ]
  },
  {
   "cell_type": "markdown",
   "id": "653c9340",
   "metadata": {},
   "source": [
    "### リスト型"
   ]
  },
  {
   "cell_type": "markdown",
   "id": "aa9908f4",
   "metadata": {},
   "source": [
    "リスト型（list）は、複数のデータをまとめるためのデータ型である。データを `,` で区切り、両端を `[]` で囲うことで定義する。"
   ]
  },
  {
   "cell_type": "code",
   "execution_count": null,
   "id": "64506792",
   "metadata": {},
   "outputs": [],
   "source": [
    "x = [1, 2, 3, \"four\", 5.6]\n",
    "type(x)"
   ]
  },
  {
   "cell_type": "markdown",
   "id": "c1a02934",
   "metadata": {},
   "source": [
    "リストの各要素には**インデックス**と呼ばれる整数を使ってアクセスする。\n",
    "左から読むか、右から読むかに応じて2種類のアクセス方法がある。\n",
    "次の図に各要素とインデックスの関係を表す。"
   ]
  },
  {
   "cell_type": "markdown",
   "id": "73302038",
   "metadata": {},
   "source": [
    "```{figure} ./pic/index.png\n",
    "---\n",
    "width: 600px\n",
    "name: index\n",
    "---\n",
    "インデックス\n",
    "```"
   ]
  },
  {
   "cell_type": "markdown",
   "id": "dcdbfab6",
   "metadata": {},
   "source": [
    "例えば `\"four\"` という要素には次のようにアクセスすることができる。"
   ]
  },
  {
   "cell_type": "code",
   "execution_count": null,
   "id": "ba3a19c5",
   "metadata": {},
   "outputs": [],
   "source": [
    "x[3]"
   ]
  },
  {
   "cell_type": "code",
   "execution_count": null,
   "id": "be398dbe",
   "metadata": {},
   "outputs": [],
   "source": [
    "x[-2]"
   ]
  },
  {
   "cell_type": "markdown",
   "id": "fe30a149",
   "metadata": {},
   "source": [
    "基本的には左読みのインデックスが使われる。一方、右端の要素にアクセスするときなど、右から数えるのが自然な場合には右読みのインデックスが使われる。\n",
    "左読みのインデックスは、**0始まり**であることに気をつけよう。\n",
    "\n",
    "リストの要素数は `len()` 関数により調べることができる。"
   ]
  },
  {
   "cell_type": "code",
   "execution_count": null,
   "id": "83c994fc",
   "metadata": {},
   "outputs": [],
   "source": [
    "len(x)"
   ]
  },
  {
   "cell_type": "markdown",
   "id": "f58be7a1",
   "metadata": {},
   "source": [
    "(label:bool)=\n",
    "### ブール型"
   ]
  },
  {
   "cell_type": "markdown",
   "id": "8474881e",
   "metadata": {},
   "source": [
    "ブール型（bool）は `True` もしくは `False` の2種類の**真偽値**をとり、それぞれ真か偽かを表すデータ型である。"
   ]
  },
  {
   "cell_type": "code",
   "execution_count": null,
   "id": "a90eb9e1",
   "metadata": {},
   "outputs": [],
   "source": [
    "type(True)"
   ]
  },
  {
   "cell_type": "markdown",
   "id": "1f25a109",
   "metadata": {},
   "source": [
    "ブール型は、主に第5回の講義で学ぶ条件分岐のために使われる。例えば、次の**比較演算子**を使うことで数値の大小関係を判定することができるが、その結果はブール型で表される。"
   ]
  },
  {
   "cell_type": "markdown",
   "id": "1f9b1721",
   "metadata": {},
   "source": [
    "|  比較演算子  |  意味 |\n",
    "| ---- | ---- |\n",
    "|  `>`  |  （左の値は右の値より）大きい  |\n",
    "|  `>=`  |  以上  |\n",
    "|  `<`  |  未満 |\n",
    "|  `<=`  |  以下  |\n",
    "|  `==`  |  等しい  |  \n",
    "|  `!=`  |  等しくない  |"
   ]
  },
  {
   "cell_type": "markdown",
   "id": "cfad28b8",
   "metadata": {},
   "source": [
    "2つの値が等しいかどうかは `=` ではなく `==` という記法を使うことに注意する。\n",
    "実際にいくつかの例を見てみよう。"
   ]
  },
  {
   "cell_type": "code",
   "execution_count": null,
   "id": "929319ea",
   "metadata": {},
   "outputs": [],
   "source": [
    "10 > 1"
   ]
  },
  {
   "cell_type": "code",
   "execution_count": null,
   "id": "4a9fc3c9",
   "metadata": {},
   "outputs": [],
   "source": [
    "10 == 1"
   ]
  },
  {
   "cell_type": "code",
   "execution_count": null,
   "id": "7fcba914",
   "metadata": {},
   "outputs": [],
   "source": [
    "10 != 1"
   ]
  },
  {
   "cell_type": "code",
   "execution_count": null,
   "id": "3e952f21",
   "metadata": {},
   "outputs": [],
   "source": [
    "3 == 3.0"
   ]
  },
  {
   "cell_type": "code",
   "execution_count": null,
   "id": "25cf09d0",
   "metadata": {},
   "outputs": [],
   "source": [
    "0.1 * 3 == 3.0"
   ]
  },
  {
   "cell_type": "markdown",
   "id": "b3723042",
   "metadata": {},
   "source": [
    "最後の結果は、浮動小数点数のもつ誤差によるものである（`0.1 * 3` が `3.0` と等しいかどうか、誤差も加味して比較を行うにはどうしたら良いだろうか？）\n",
    "\n",
    "もちろんブール型のデータも、変数に代入することができる。"
   ]
  },
  {
   "cell_type": "code",
   "execution_count": null,
   "id": "adbf1e69",
   "metadata": {},
   "outputs": [],
   "source": [
    "a = (10 == 1)\n",
    "a"
   ]
  },
  {
   "cell_type": "markdown",
   "id": "24541f2d",
   "metadata": {},
   "source": [
    "ブール型の現れる他の例として、**in演算子**がある。これは集合を表すデータ型の要素に、とあるデータが含まれるかどうかを判定する。\n",
    "例えば、`B` をリストとして `A in B` と書くとき、データ `A` が `B` に含まれるかどうかを判定して、真偽値を返す。\n",
    "使用例を以下に示す。"
   ]
  },
  {
   "cell_type": "code",
   "execution_count": null,
   "id": "59316a24",
   "metadata": {},
   "outputs": [],
   "source": [
    "2 in [1, 3, 5, 7, 9]"
   ]
  },
  {
   "cell_type": "code",
   "execution_count": null,
   "id": "a4c1eeeb",
   "metadata": {},
   "outputs": [],
   "source": [
    "4 in [2, 4, 6, 8]"
   ]
  },
  {
   "cell_type": "markdown",
   "id": "6deab4cb",
   "metadata": {},
   "source": [
    "## オブジェクトとメソッド"
   ]
  },
  {
   "cell_type": "markdown",
   "id": "26d0446f",
   "metadata": {},
   "source": [
    "関数の中には、それぞれのデータ型に専属の関数も存在する。\n",
    "そのような関数のことを**メソッド**という。\n",
    "関数とは異なり、メソッドはデータの後ろに `.メソッド名()` とつなげて使用する。\n",
    "メソッドの使い方を一般的な形で図に表すと、次のようになる。"
   ]
  },
  {
   "cell_type": "markdown",
   "id": "99c085dd",
   "metadata": {},
   "source": [
    "```{figure} ./pic/method.png\n",
    "---\n",
    "width: 500px\n",
    "name: method\n",
    "---\n",
    "メソッドの使い方\n",
    "```"
   ]
  },
  {
   "cell_type": "markdown",
   "id": "f8721b1c",
   "metadata": {},
   "source": [
    "例として、文字列型のメソッドである `split()` を見てみよう。`split()` は引数に渡した区切り文字をもとに、文字列を区切ってリストとして返す。"
   ]
  },
  {
   "cell_type": "code",
   "execution_count": null,
   "id": "b5b67a21",
   "metadata": {},
   "outputs": [],
   "source": [
    "s = \"Hello, world!\"\n",
    "s.split(\",\")"
   ]
  },
  {
   "cell_type": "code",
   "execution_count": null,
   "id": "492f23aa",
   "metadata": {},
   "outputs": [],
   "source": [
    "s = \"Mon Tue Wed Thu Fri Sat Sun\"\n",
    "s.split(\" \")"
   ]
  },
  {
   "cell_type": "markdown",
   "id": "4c3e269b",
   "metadata": {},
   "source": [
    "メソッドの場合、データ自身は引数に書かなくても自動的にメソッドに渡される。\n",
    "\n",
    "文字列型のメソッドの他の例として `upper()` や `lower()` がある。文字列をそれぞれ大文字と小文字に変換して返すメソッドであり、引数は取らない。引数は取らなくてもデータ自身はメソッドに渡されるため、実質的に引数が1つの関数を実行するようなものである。"
   ]
  },
  {
   "cell_type": "code",
   "execution_count": null,
   "id": "cbf9af07",
   "metadata": {},
   "outputs": [],
   "source": [
    "s = \"Mon Tue Wed Thu Fri Sat Sun\"\n",
    "s.upper()"
   ]
  },
  {
   "cell_type": "code",
   "execution_count": null,
   "id": "89ec9cb4",
   "metadata": {},
   "outputs": [],
   "source": [
    "s = \"Mon Tue Wed Thu Fri Sat Sun\"\n",
    "s.lower()"
   ]
  },
  {
   "cell_type": "markdown",
   "id": "9b5dca8d",
   "metadata": {},
   "source": [
    "リスト型のメソッドの例も挙げておこう。`index()` メソッドは、引数に渡した値がリストに含まれていれば、その（左読みの）インデックスを返す。含まれていないとエラーになる。"
   ]
  },
  {
   "cell_type": "code",
   "execution_count": null,
   "id": "e9bc868d",
   "metadata": {},
   "outputs": [],
   "source": [
    "x = [8, 1, 3, 7, 5]\n",
    "x.index(3)"
   ]
  },
  {
   "cell_type": "code",
   "execution_count": null,
   "id": "4671afad",
   "metadata": {},
   "outputs": [],
   "source": [
    "x.index(7)"
   ]
  },
  {
   "cell_type": "code",
   "execution_count": null,
   "id": "11a17436",
   "metadata": {
    "scrolled": true
   },
   "outputs": [],
   "source": [
    "x.index(2)"
   ]
  },
  {
   "cell_type": "markdown",
   "id": "3b12b4f8",
   "metadata": {},
   "source": [
    "さて、データとそれの持つメソッドをまとめたものを**オブジェクト**という。\n",
    "オブジェクトは日本語では物という意味である。\n",
    "Pythonに出てくるほとんど全ての要素はオブジェクトとして作られており、これまで学んできたデータも全てオブジェクトである。\n",
    "オブジェクトの種類を**クラス**と呼び、クラスに基づいて作られる具体的なオブジェクトを**インスタンス**と呼ぶ。\n",
    "オブジェクトとインスタンスは似ているが、前者はより一般的な概念で、後者は特定のクラスを具体化したものを指す。\n",
    "またデータ型もクラスの一つである。"
   ]
  },
  {
   "cell_type": "markdown",
   "id": "0e9143bd",
   "metadata": {},
   "source": [
    "ここまでに出てきた概念について、理解を深めるために工作の例え話で説明してみよう。 例えば、木材を加工する状況を考える。 一言に木材といっても、重さや手触りなど１つ１つの木材には個性がある。 今、手にしている木材は、木材という概念を具体化したものであり、木材という概念がクラス、具体化したものがインスタンスにあたる。\n",
    "\n",
    "木材を加工するときには、例えば木材用のノコギリを使って切ることになるだろう。このノコギリを使って切るという行為は、木材ならば個性に関係なく適用することができるため、メソッドと捉えることができる。 これは木材に特化したメソッドであり、ガラスなど他の物質に適用することはできない。"
   ]
  },
  {
   "cell_type": "markdown",
   "id": "f6ae39ae",
   "metadata": {},
   "source": [
    "文字列型について、今の例え話に沿って説明してみよう。文字列 `\"mikan\"` および `\"banana\"` は異なる値（個性）を持ち、それぞれ文字列クラスのインスタンスである。どちらも文字列に専属の `split()` メソッドを適用できるが、その結果は値に応じて異なる。"
   ]
  },
  {
   "cell_type": "code",
   "execution_count": null,
   "id": "843bbc36",
   "metadata": {},
   "outputs": [],
   "source": [
    "\"mikan\".split(\"a\")"
   ]
  },
  {
   "cell_type": "code",
   "execution_count": null,
   "id": "a171b12c",
   "metadata": {},
   "outputs": [],
   "source": [
    "\"banana\".split(\"a\")"
   ]
  },
  {
   "cell_type": "markdown",
   "id": "bea7ff79",
   "metadata": {},
   "source": [
    "`split()` は文字列のメソッドであるから、他のクラスのインスタンスには適用できない。"
   ]
  },
  {
   "cell_type": "code",
   "execution_count": null,
   "id": "ed6978a9",
   "metadata": {},
   "outputs": [],
   "source": [
    "212.split(1)"
   ]
  },
  {
   "cell_type": "markdown",
   "id": "2fa4a864",
   "metadata": {},
   "source": [
    "## 演習"
   ]
  },
  {
   "cell_type": "markdown",
   "id": "9a57fd23",
   "metadata": {},
   "source": [
    "**課題1**  \n",
    "リスト `values` と、その中の要素 `v` を与える。`v` の `values` におけるインデックスを出力するプログラムを作成しなさい。"
   ]
  },
  {
   "cell_type": "code",
   "execution_count": null,
   "id": "34e77637",
   "metadata": {},
   "outputs": [],
   "source": [
    "# 以下は、values と v の一例\n",
    "values = [5, 4, 3, 2, 1]\n",
    "v = 2 \n",
    "\n",
    "### 以下を埋めて、ここの部分のみ提出する\n",
    "\n",
    "\n",
    "print(result)\n",
    "###"
   ]
  },
  {
   "cell_type": "markdown",
   "id": "45f411a7",
   "metadata": {},
   "source": [
    "```{admonition} 問題の趣旨\n",
    ":class: note\n",
    "上の問題は、**どのような** `values` と `v` の組み合わせに対しても、正しいインデックスを出力するプログラムを作成しなさいという意味である。例えば、`values = [5, 4, 3, 2, 1]`、`v=2` の組み合わせに限れば `print(3)` は正しい出力になるが、これは問題の答えとしては正しくない。\n",
    "\n",
    "こちらで用意した複数の `values` と `v` の組み合わせ全てに対して、提出されたコード（###で囲まれた領域）が正しい出力をするかを、プログラムで自動判定して採点する。したがって、課題1であれば `values` と `v` という変数を利用したコードにすること。\n",
    "```"
   ]
  },
  {
   "cell_type": "markdown",
   "id": "ba952d7d",
   "metadata": {},
   "source": [
    "**課題2**"
   ]
  },
  {
   "cell_type": "markdown",
   "id": "61eb8c29",
   "metadata": {},
   "source": [
    "リスト `values` と、その中の要素 `v` を与える。`v` が `values` の左から何番目の要素かを出力するプログラムを作成しなさい。"
   ]
  },
  {
   "cell_type": "code",
   "execution_count": null,
   "id": "5b3b11d5",
   "metadata": {},
   "outputs": [],
   "source": [
    "# 以下は、values と v の一例\n",
    "values = [5, 4, 3, 2, 1]\n",
    "v = 2 \n",
    "\n",
    "### 以下を埋めて、ここの部分のみ提出する\n",
    "\n",
    "\n",
    "print(result)\n",
    "###"
   ]
  },
  {
   "cell_type": "markdown",
   "id": "b63c391a",
   "metadata": {},
   "source": [
    "**課題3**  \n",
    "とある施設の来場者を記録した文字列データ `visitors` があり、お客さんの苗字が来場した順番に`, ` 区切りで入力されているとする。\n",
    "来場者の一人の苗字が `name` として与えられるとき、この人物が何人目の来場者だったかを調べて出力するプログラムを作成しなさい。"
   ]
  },
  {
   "cell_type": "code",
   "execution_count": null,
   "id": "5fdd3270",
   "metadata": {},
   "outputs": [],
   "source": [
    "# 以下は、visitors と name の一例\n",
    "visitors = \"Sato,Tanaka,Suzuki,Yamada,Matsumoto\"\n",
    "name = \"Tanaka\"\n",
    "\n",
    "### 以下を埋めて、ここの部分のみ提出する\n",
    "\n",
    "\n",
    "print(result)\n",
    "###"
   ]
  },
  {
   "cell_type": "markdown",
   "id": "d55cf99d",
   "metadata": {},
   "source": [
    "**課題4**  \n",
    "課題3と同じ設定において、`visitors` のデータは来場者が自由に記入したものであるため、大文字と小文字の使い方に一貫性がなかったとする。`name` については全て小文字で与えるとするとき、`name` で指定される人物が何人目の来場者だったかを調べて出力するプログラムを作成しなさい。"
   ]
  },
  {
   "cell_type": "code",
   "execution_count": null,
   "id": "f65b7421",
   "metadata": {},
   "outputs": [],
   "source": [
    "# 以下は、visitors と name の一例\n",
    "visitors = \"Sato,tanaka,Suzuki,yamada,Matsumoto\"\n",
    "name = \"suzuki\"\n",
    "\n",
    "### 以下を埋めて、ここの部分のみ提出する\n",
    "\n",
    "\n",
    "print(result)\n",
    "###"
   ]
  }
 ],
 "metadata": {
  "kernelspec": {
   "display_name": "Python 3 (ipykernel)",
   "language": "python",
   "name": "python3"
  },
  "language_info": {
   "codemirror_mode": {
    "name": "ipython",
    "version": 3
   },
   "file_extension": ".py",
   "mimetype": "text/x-python",
   "name": "python",
   "nbconvert_exporter": "python",
   "pygments_lexer": "ipython3",
   "version": "3.9.5"
  },
  "vscode": {
   "interpreter": {
    "hash": "aee8b7b246df8f9039afb4144a1f6fd8d2ca17a180786b69acc140d282b71a49"
   }
  }
 },
 "nbformat": 4,
 "nbformat_minor": 5
}
