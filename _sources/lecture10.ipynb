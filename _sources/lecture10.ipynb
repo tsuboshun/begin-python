{
 "cells": [
  {
   "cell_type": "markdown",
   "id": "52b9c04c",
   "metadata": {},
   "source": [
    "# 第10回 アルゴリズム入門：問題の複雑さ"
   ]
  },
  {
   "cell_type": "markdown",
   "id": "0f3467e6",
   "metadata": {},
   "source": [
    "___\n",
    "[![Open In Colab](https://colab.research.google.com/assets/colab-badge.svg)](https://colab.research.google.com/github/tsuboshun/begin-python/blob/gh-pages/_sources/workbook/lecture10.ipynb)\n",
    "\n",
    "___"
   ]
  },
  {
   "cell_type": "markdown",
   "id": "9ba5723c",
   "metadata": {},
   "source": [
    "## この授業で学ぶこと"
   ]
  },
  {
   "cell_type": "markdown",
   "id": "49246d72",
   "metadata": {},
   "source": [
    "準備中"
   ]
  },
  {
   "cell_type": "markdown",
   "id": "dd85f49f",
   "metadata": {},
   "source": [
    "### 準備"
   ]
  },
  {
   "cell_type": "code",
   "execution_count": null,
   "id": "61a79c1d",
   "metadata": {},
   "outputs": [],
   "source": [
    "import time\n",
    "import random\n",
    "import itertools"
   ]
  },
  {
   "cell_type": "code",
   "execution_count": null,
   "id": "0062b79e",
   "metadata": {},
   "outputs": [],
   "source": [
    "N = 10**6\n",
    "nums = []\n",
    "for i in range(N):\n",
    "    nums.append(random.random())"
   ]
  },
  {
   "cell_type": "markdown",
   "id": "a6d2bd1e",
   "metadata": {},
   "source": [
    "## クイックソート"
   ]
  },
  {
   "cell_type": "code",
   "execution_count": null,
   "id": "7ae5b929",
   "metadata": {},
   "outputs": [],
   "source": [
    "def quick_sort(x):\n",
    "    if len(x) <= 1:\n",
    "        return x\n",
    "    \n",
    "    # 右端を pivot とする\n",
    "    pivot = x[-1]\n",
    "    \n",
    "    # pivot未満のデータを左から詰めていくため、indexを0で初期化\n",
    "    i = 0 \n",
    "    for j in range(len(x) - 1):\n",
    "        if x[j] < pivot:\n",
    "            x[i], x[j] = x[j], x[i]\n",
    "            i += 1 # i 番目より左は常にpivot未満のデータが入っていることに注意\n",
    "            \n",
    "    # pivotの値をi番目と交換することで、 xの中身は[pivot未満のデータ], pivot, [pivot以上のデータ] という順になる\n",
    "    x[i], x[-1] = x[-1], x[i] \n",
    "    \n",
    "    quick_sort(x[:i])\n",
    "    quick_sort(x[i+1:])"
   ]
  },
  {
   "cell_type": "code",
   "execution_count": null,
   "id": "d2e7820c",
   "metadata": {},
   "outputs": [],
   "source": [
    "data = nums.copy()\n",
    "\n",
    "start = time.time()\n",
    "quick_sort(data)\n",
    "end = time.time()\n",
    "\n",
    "print(f\"実行時間: {end - start:.4f}秒\")"
   ]
  },
  {
   "cell_type": "markdown",
   "id": "917fa131",
   "metadata": {},
   "source": [
    "## 巡回セールスマン問題"
   ]
  },
  {
   "cell_type": "code",
   "execution_count": null,
   "id": "2b2e1a9d",
   "metadata": {},
   "outputs": [],
   "source": [
    "def generate_distances(N):\n",
    "    ret = [[0] * N for i in range(N)]  # N * N の 2次元リストの用意\n",
    "    for i in range(N):\n",
    "        for j in range(N):\n",
    "            if i < j:\n",
    "                d = random.randint(1, 10)  # 1以上10以下の整数をランダムに生成\n",
    "                ret[i][j] = d\n",
    "                ret[j][i] = d\n",
    "    return ret\n",
    "\n",
    "\n",
    "def solve_tsp(distances):\n",
    "    # 都市を回る順番について、全ての組み合わせを生成する\n",
    "    city_combinations = itertools.permutations(range(len(distances)))\n",
    "\n",
    "    # 最短の経路と距離を初期化する\n",
    "    shortest_distance = 10**8  # 十分に大きい値であれば何でも良い\n",
    "    shortest_path = None\n",
    "\n",
    "    # 全ての経路を試す\n",
    "    for path in city_combinations:\n",
    "        total_distance = 0\n",
    "        for i in range(len(path)-1):\n",
    "            total_distance += distances[path[i]][path[i+1]]\n",
    "        # 最短経路を更新する\n",
    "        if total_distance < shortest_distance:\n",
    "            shortest_distance = total_distance\n",
    "            shortest_path = path\n",
    "\n",
    "    # 結果を出力する\n",
    "    print(\"最短距離:\", shortest_distance)\n",
    "    print(\"最短経路:\", shortest_path)"
   ]
  },
  {
   "cell_type": "code",
   "execution_count": null,
   "id": "e6628376",
   "metadata": {},
   "outputs": [],
   "source": [
    "N = 8\n",
    "\n",
    "# 都市間の距離を表す2次元リスト\n",
    "distances = generate_distances(N)\n",
    "\n",
    "# 最短経路の探索\n",
    "start = time.time()\n",
    "solve_tsp(distances)\n",
    "end = time.time()\n",
    "\n",
    "print(f\"実行時間: {end - start:.4f}秒\")"
   ]
  },
  {
   "cell_type": "code",
   "execution_count": null,
   "id": "b91b26d7",
   "metadata": {},
   "outputs": [],
   "source": []
  }
 ],
 "metadata": {
  "kernelspec": {
   "display_name": "Python 3 (ipykernel)",
   "language": "python",
   "name": "python3"
  },
  "language_info": {
   "codemirror_mode": {
    "name": "ipython",
    "version": 3
   },
   "file_extension": ".py",
   "mimetype": "text/x-python",
   "name": "python",
   "nbconvert_exporter": "python",
   "pygments_lexer": "ipython3",
   "version": "3.9.5"
  },
  "vscode": {
   "interpreter": {
    "hash": "aee8b7b246df8f9039afb4144a1f6fd8d2ca17a180786b69acc140d282b71a49"
   }
  }
 },
 "nbformat": 4,
 "nbformat_minor": 5
}
