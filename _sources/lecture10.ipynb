{
 "cells": [
  {
   "cell_type": "markdown",
   "id": "52b9c04c",
   "metadata": {},
   "source": [
    "# 第10回 アルゴリズム入門：問題の複雑さ"
   ]
  },
  {
   "cell_type": "markdown",
   "id": "0f3467e6",
   "metadata": {},
   "source": [
    "___\n",
    "[![Open In Colab](https://colab.research.google.com/assets/colab-badge.svg)](https://colab.research.google.com/github/tsuboshun/begin-python/blob/gh-pages/_sources/workbook/lecture10.ipynb)\n",
    "\n",
    "___"
   ]
  },
  {
   "cell_type": "markdown",
   "id": "9ba5723c",
   "metadata": {},
   "source": [
    "## この授業で学ぶこと"
   ]
  },
  {
   "cell_type": "markdown",
   "id": "49246d72",
   "metadata": {},
   "source": [
    "前回の授業で挿入ソートとクイックソートを紹介し、それらの実行速度に差があることを見た。特にデータ数を増やしたときの実行時間の増え方に大きな差があることを見た。今回は、アルゴリズムの実行時間を見積もるための考え方である計算量について学び、先週の結果について理解を深める。また、それをもとにP・NPという問題の難しさを表す分類について学ぶ。"
   ]
  },
  {
   "cell_type": "markdown",
   "id": "dd85f49f",
   "metadata": {},
   "source": [
    "### 準備"
   ]
  },
  {
   "cell_type": "code",
   "execution_count": null,
   "id": "61a79c1d",
   "metadata": {},
   "outputs": [],
   "source": [
    "import time\n",
    "import random\n",
    "import itertools"
   ]
  },
  {
   "cell_type": "markdown",
   "id": "e977d933",
   "metadata": {},
   "source": [
    "## 計算量"
   ]
  },
  {
   "cell_type": "markdown",
   "id": "a2257486",
   "metadata": {},
   "source": [
    "**計算量**とは、計算ステップ数がデータ数 $N$ に対してどのように増えるかを表す指標である。\n",
    "計算量はアルゴリズムの実行時間を見積もるために使われる。\n",
    "\n",
    "例として、次の2つのプログラムの計算時間を考える。"
   ]
  },
  {
   "cell_type": "code",
   "execution_count": null,
   "id": "01a77c87",
   "metadata": {},
   "outputs": [],
   "source": [
    "def single_loop(N):\n",
    "    count = 0\n",
    "    for i in range(N):\n",
    "        count += 1\n",
    "    return count"
   ]
  },
  {
   "cell_type": "code",
   "execution_count": null,
   "id": "8196672c",
   "metadata": {},
   "outputs": [],
   "source": [
    "def double_loop(N):\n",
    "    count = 0\n",
    "    for i in range(N):\n",
    "        for j in range(N):\n",
    "            count += 1\n",
    "    return count"
   ]
  },
  {
   "cell_type": "markdown",
   "id": "79c6f2ae",
   "metadata": {},
   "source": [
    "ループ回数を引数 `N` で受け取り、`simple_loop()` は一重ループ、`double_loop()` は二重ループで単純な足し算を実行する。\n",
    "これらの関数の実行時間を次の `exec_time()` で測定してみよう。"
   ]
  },
  {
   "cell_type": "code",
   "execution_count": null,
   "id": "97ab5698",
   "metadata": {},
   "outputs": [],
   "source": [
    "def exec_time(func, N):\n",
    "    start = time.time()\n",
    "    func(N)\n",
    "    end = time.time()\n",
    "    return end - start"
   ]
  },
  {
   "cell_type": "code",
   "execution_count": null,
   "id": "a1f89d52",
   "metadata": {},
   "outputs": [],
   "source": [
    "N = 10**3\n",
    "print(f\"single_loopの実行時間： {exec_time(single_loop, N)}\")\n",
    "print(f\"double_loopの実行時間: {exec_time(double_loop, N)}\")"
   ]
  },
  {
   "cell_type": "markdown",
   "id": "a1603e51",
   "metadata": {},
   "source": [
    "```{admonition} 発展的な話題： 関数もオブジェクト\n",
    ":class: note\n",
    "第4回の授業で「Pythonに出てくるほとんど全ての要素はオブジェクトとして作られている」と説明したが、実は関数もオブジェクトである。したがって、普通のデータと同じく変数に代入することができる。\n",
    "<pre>func = single_loop\n",
    "func(10**2)  # これはsingle_loop(10**2)と同じ！</pre>\n",
    "`exec_time()` では引数 `func` で関数を受け取り、内部で `func(N)` と実行している。このようなことが可能なのも、関数がオブジェクトだからである。\n",
    "```"
   ]
  },
  {
   "cell_type": "markdown",
   "id": "dd041d1e",
   "metadata": {},
   "source": [
    "データ数と実行時間の関係を調べてみると、私の環境（Google Colab）では次のようになった。"
   ]
  },
  {
   "cell_type": "markdown",
   "id": "da2fc252",
   "metadata": {},
   "source": [
    "| `N`  |  `single_loop(N)` の実行時間（秒） |  `double_loop(N)` の実行時間（秒） | \n",
    "| ---- | ---- | ---- |\n",
    "| 100  |  0.00000429  | 0.000491 |\n",
    "| 1000  |  0.0000438  | 0.0296 |\n",
    "| 10000  |  0.000513  | 4.00 | \n",
    "| 100000  |  0.00373  | 344 | "
   ]
  },
  {
   "cell_type": "markdown",
   "id": "f5138837",
   "metadata": {},
   "source": [
    "$N$ が10倍になると、`single_loop(N)` の実行時間はおよそ10倍、`double_loop(N)` の実行時間はおよそ100倍に増えていることがわかる。\n",
    "\n",
    "これは次のように理解できる。`single_loop(N)` では `count = 0` を1回実行し、`count += 1` を $N$ 回実行している。$N$ が十分大きいとき、全体の計算ステップ数はほぼ $N$ に比例するので、$N$ が10倍になると実行時間もおよそ10倍になる。一方で、`double_loop(N)` では `count = 0` を1回実行し、`count += 1` を $N^2$ 回実行している。$N$ が十分大きいとき、全体の計算ステップ数はほぼ $N^2$ に比例するので、$N$ が10倍になると実行時間はおよそ100倍になる。\n",
    "\n",
    "このことを `single_loop(N)` の計算量は $O(N)$ （読み方：オーダー$N$）、`double_loop(N)` の計算量は $O(N^2)$ であると言う。\n",
    "\n",
    "計算量がわかると、大まかな計算時間の見積もりができる。例えば、`double_loop(N)` は $N = 10^5$ のとき6分くらいなので、$N = 10^6$ のとき600分（つまり10時間！）くらいかかるだろうと見積もることができる。"
   ]
  },
  {
   "cell_type": "markdown",
   "id": "917fa131",
   "metadata": {},
   "source": [
    "## 巡回セールスマン問題"
   ]
  },
  {
   "cell_type": "code",
   "execution_count": null,
   "id": "2b2e1a9d",
   "metadata": {},
   "outputs": [],
   "source": [
    "def generate_distances(N):\n",
    "    ret = [[0] * N for i in range(N)]  # N * N の 2次元リストの用意\n",
    "    for i in range(N):\n",
    "        for j in range(N):\n",
    "            if i < j:\n",
    "                d = random.randint(1, 10)  # 1以上10以下の整数をランダムに生成\n",
    "                ret[i][j] = d\n",
    "                ret[j][i] = d\n",
    "    return ret\n",
    "\n",
    "\n",
    "def solve_tsp(distances):\n",
    "    # 都市を回る順番について、全ての組み合わせを生成する\n",
    "    city_combinations = itertools.permutations(range(len(distances)))\n",
    "\n",
    "    # 最短の経路と距離を初期化する\n",
    "    shortest_distance = 10**8  # 十分に大きい値であれば何でも良い\n",
    "    shortest_path = None\n",
    "\n",
    "    # 全ての経路を試す\n",
    "    for path in city_combinations:\n",
    "        total_distance = 0\n",
    "        for i in range(len(path)-1):\n",
    "            total_distance += distances[path[i]][path[i+1]]\n",
    "        # 最短経路を更新する\n",
    "        if total_distance < shortest_distance:\n",
    "            shortest_distance = total_distance\n",
    "            shortest_path = path\n",
    "\n",
    "    # 結果を出力する\n",
    "    print(\"最短距離:\", shortest_distance)\n",
    "    print(\"最短経路:\", shortest_path)"
   ]
  },
  {
   "cell_type": "code",
   "execution_count": null,
   "id": "e6628376",
   "metadata": {},
   "outputs": [],
   "source": [
    "N = 8\n",
    "\n",
    "# 都市間の距離を表す2次元リスト\n",
    "distances = generate_distances(N)\n",
    "\n",
    "# 最短経路の探索\n",
    "start = time.time()\n",
    "solve_tsp(distances)\n",
    "end = time.time()\n",
    "\n",
    "print(f\"実行時間: {end - start:.4f}秒\")"
   ]
  },
  {
   "cell_type": "code",
   "execution_count": null,
   "id": "b91b26d7",
   "metadata": {},
   "outputs": [],
   "source": []
  }
 ],
 "metadata": {
  "kernelspec": {
   "display_name": "Python 3 (ipykernel)",
   "language": "python",
   "name": "python3"
  },
  "language_info": {
   "codemirror_mode": {
    "name": "ipython",
    "version": 3
   },
   "file_extension": ".py",
   "mimetype": "text/x-python",
   "name": "python",
   "nbconvert_exporter": "python",
   "pygments_lexer": "ipython3",
   "version": "3.9.5"
  },
  "vscode": {
   "interpreter": {
    "hash": "aee8b7b246df8f9039afb4144a1f6fd8d2ca17a180786b69acc140d282b71a49"
   }
  }
 },
 "nbformat": 4,
 "nbformat_minor": 5
}
