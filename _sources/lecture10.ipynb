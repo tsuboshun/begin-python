{
 "cells": [
  {
   "cell_type": "markdown",
   "id": "52b9c04c",
   "metadata": {},
   "source": [
    "# 第10回 アルゴリズム入門：問題の複雑さ"
   ]
  },
  {
   "cell_type": "markdown",
   "id": "0f3467e6",
   "metadata": {},
   "source": [
    "___\n",
    "[![Open In Colab](https://colab.research.google.com/assets/colab-badge.svg)](https://colab.research.google.com/github/tsuboshun/begin-python/blob/gh-pages/_sources/workbook/lecture10.ipynb)\n",
    "\n",
    "___"
   ]
  },
  {
   "cell_type": "markdown",
   "id": "9ba5723c",
   "metadata": {},
   "source": [
    "## この授業で学ぶこと"
   ]
  },
  {
   "cell_type": "markdown",
   "id": "49246d72",
   "metadata": {},
   "source": [
    "前回の授業で挿入ソートとクイックソートを紹介し、それらの実行速度に差があることを見た。特にデータ数を増やしたときの実行時間の増え方に大きな差があることを見た。今回は、アルゴリズムの実行時間を見積もるための考え方である計算量について学び、先週の結果について理解を深める。また、それをもとにP・NPという問題の難しさを表す分類について学ぶ。"
   ]
  },
  {
   "cell_type": "markdown",
   "id": "dd85f49f",
   "metadata": {},
   "source": [
    "### 準備"
   ]
  },
  {
   "cell_type": "code",
   "execution_count": null,
   "id": "61a79c1d",
   "metadata": {},
   "outputs": [],
   "source": [
    "import time\n",
    "import random\n",
    "import itertools\n",
    "import matplotlib.pyplot as plt"
   ]
  },
  {
   "cell_type": "code",
   "execution_count": null,
   "id": "0062b79e",
   "metadata": {},
   "outputs": [],
   "source": [
    "N = 10**6\n",
    "nums = []\n",
    "for i in range(N):\n",
    "    nums.append(random.random())"
   ]
  },
  {
   "cell_type": "markdown",
   "id": "e977d933",
   "metadata": {},
   "source": [
    "## 計算量"
   ]
  },
  {
   "cell_type": "markdown",
   "id": "a2257486",
   "metadata": {},
   "source": [
    "**計算量**とは、データ数を $N$ と書くとき、計算ステップ数が $N$ に対してどのように増えるかを表す指標である。\n",
    "\n",
    "例として、次の2つのプログラムの計算時間を考える。"
   ]
  },
  {
   "cell_type": "code",
   "execution_count": null,
   "id": "01a77c87",
   "metadata": {},
   "outputs": [],
   "source": [
    "def simple_sum(N):\n",
    "    count = 0\n",
    "    for i in range(N):\n",
    "        count += 1\n",
    "    return count"
   ]
  },
  {
   "cell_type": "code",
   "execution_count": null,
   "id": "5c18cc4a",
   "metadata": {},
   "outputs": [],
   "source": [
    "def simple_sum2(N):\n",
    "    count = 0\n",
    "    for i in range(N):\n",
    "        for j in range(N):\n",
    "            count += 1\n",
    "    return count"
   ]
  },
  {
   "cell_type": "markdown",
   "id": "9dbfd196",
   "metadata": {},
   "source": [
    "ループ回数を引数 `N` で受け取り、`simple_sum()` は一重ループ、`simple_sum2()` は二重ループで単純な足し算を実行する。\n",
    "これらの関数の実行時間を次の `exec_time()` で測定してみよう。"
   ]
  },
  {
   "cell_type": "code",
   "execution_count": null,
   "id": "c6c9a9e2",
   "metadata": {},
   "outputs": [],
   "source": [
    "def exec_time(func, N):\n",
    "    start = time.time()\n",
    "    func(N)\n",
    "    end = time.time()\n",
    "    return end - start"
   ]
  },
  {
   "cell_type": "markdown",
   "id": "26a05b6e",
   "metadata": {},
   "source": [
    "```{admonition} 関数もオブジェクト\n",
    ":class: note\n",
    "第4回の授業で「Pythonに出てくるほとんど全ての要素はオブジェクトとして作られている」と説明したが、実は関数もオブジェクトである。したがって、普通のデータと同じく変数に代入することができる。\n",
    "<pre>func = simple_sum\n",
    "func(10**2) # simple_sum(10**2)と同じ！</pre>\n",
    "`exec_time()` では引数として `func` を受け取り、関数内で `func(N)` と実行している。このようなことが可能なのも、関数がオブジェクトだからである。\n",
    "```"
   ]
  },
  {
   "cell_type": "markdown",
   "id": "1a580598",
   "metadata": {},
   "source": [
    "さて、データ数と実行時間の関係は次のようになる。"
   ]
  },
  {
   "cell_type": "code",
   "execution_count": null,
   "id": "0334eb28",
   "metadata": {},
   "outputs": [],
   "source": []
  },
  {
   "cell_type": "markdown",
   "id": "917fa131",
   "metadata": {},
   "source": [
    "## 巡回セールスマン問題"
   ]
  },
  {
   "cell_type": "code",
   "execution_count": null,
   "id": "2b2e1a9d",
   "metadata": {},
   "outputs": [],
   "source": [
    "def generate_distances(N):\n",
    "    ret = [[0] * N for i in range(N)]  # N * N の 2次元リストの用意\n",
    "    for i in range(N):\n",
    "        for j in range(N):\n",
    "            if i < j:\n",
    "                d = random.randint(1, 10)  # 1以上10以下の整数をランダムに生成\n",
    "                ret[i][j] = d\n",
    "                ret[j][i] = d\n",
    "    return ret\n",
    "\n",
    "\n",
    "def solve_tsp(distances):\n",
    "    # 都市を回る順番について、全ての組み合わせを生成する\n",
    "    city_combinations = itertools.permutations(range(len(distances)))\n",
    "\n",
    "    # 最短の経路と距離を初期化する\n",
    "    shortest_distance = 10**8  # 十分に大きい値であれば何でも良い\n",
    "    shortest_path = None\n",
    "\n",
    "    # 全ての経路を試す\n",
    "    for path in city_combinations:\n",
    "        total_distance = 0\n",
    "        for i in range(len(path)-1):\n",
    "            total_distance += distances[path[i]][path[i+1]]\n",
    "        # 最短経路を更新する\n",
    "        if total_distance < shortest_distance:\n",
    "            shortest_distance = total_distance\n",
    "            shortest_path = path\n",
    "\n",
    "    # 結果を出力する\n",
    "    print(\"最短距離:\", shortest_distance)\n",
    "    print(\"最短経路:\", shortest_path)"
   ]
  },
  {
   "cell_type": "code",
   "execution_count": null,
   "id": "e6628376",
   "metadata": {},
   "outputs": [],
   "source": [
    "N = 8\n",
    "\n",
    "# 都市間の距離を表す2次元リスト\n",
    "distances = generate_distances(N)\n",
    "\n",
    "# 最短経路の探索\n",
    "start = time.time()\n",
    "solve_tsp(distances)\n",
    "end = time.time()\n",
    "\n",
    "print(f\"実行時間: {end - start:.4f}秒\")"
   ]
  },
  {
   "cell_type": "code",
   "execution_count": null,
   "id": "b91b26d7",
   "metadata": {},
   "outputs": [],
   "source": []
  }
 ],
 "metadata": {
  "kernelspec": {
   "display_name": "Python 3 (ipykernel)",
   "language": "python",
   "name": "python3"
  },
  "language_info": {
   "codemirror_mode": {
    "name": "ipython",
    "version": 3
   },
   "file_extension": ".py",
   "mimetype": "text/x-python",
   "name": "python",
   "nbconvert_exporter": "python",
   "pygments_lexer": "ipython3",
   "version": "3.9.5"
  },
  "vscode": {
   "interpreter": {
    "hash": "aee8b7b246df8f9039afb4144a1f6fd8d2ca17a180786b69acc140d282b71a49"
   }
  }
 },
 "nbformat": 4,
 "nbformat_minor": 5
}
