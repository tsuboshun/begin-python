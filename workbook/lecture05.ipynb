{
 "cells": [
  {
   "cell_type": "markdown",
   "id": "52b9c04c",
   "metadata": {},
   "source": [
    "# 第5回 条件分岐"
   ]
  },
  {
   "cell_type": "markdown",
   "id": "0f3467e6",
   "metadata": {},
   "source": [
    "___\n",
    "[![Open In Colab](https://colab.research.google.com/assets/colab-badge.svg)](https://colab.research.google.com/github/tsuboshun/begin-python/blob/gh-pages/workbook/lecture05.ipynb)\n",
    "\n",
    "___"
   ]
  },
  {
   "cell_type": "markdown",
   "id": "9ba5723c",
   "metadata": {},
   "source": [
    "## この授業で学ぶこと"
   ]
  },
  {
   "cell_type": "markdown",
   "id": "49246d72",
   "metadata": {},
   "source": [
    "第4回までで、プログラミングの材料と道具にあたるデータと関数・メソッドについて学んだ。ここまでの知識で、与えられたデータに対して毎回同じ処理を行うプログラムを作成することができる。\n",
    "\n",
    "しかし、より実用的なプログラムを作るには、データに合わせて処理を変えることが必要不可欠である。そのためにプログラミングではデータに対する条件式をたて、それが成立するかしないかをもとに処理を二分させる方法をとる。\n",
    "\n",
    "この授業では、まず条件式の成立・不成立を表すデータ型であるブール型について学ぶ。そしてブール値をもとに処理を分岐させる構文であるif文について学ぶ。"
   ]
  },
  {
   "cell_type": "markdown",
   "id": "f7b11373-4c07-4d75-95fe-87121a3be19b",
   "metadata": {},
   "source": [
    "## ブール型"
   ]
  },
  {
   "cell_type": "markdown",
   "id": "42286bd9-41c1-47c6-a185-6792f2a3c10b",
   "metadata": {},
   "source": [
    "ブール型（bool）は `True` もしくは `False` の2種類の**真偽値**（ブール値）をとり、それぞれ真か偽かを表す。"
   ]
  },
  {
   "cell_type": "code",
   "execution_count": null,
   "id": "5ca2ec4f-f5d4-4c0a-a167-ccb4d211cd63",
   "metadata": {},
   "outputs": [],
   "source": []
  },
  {
   "cell_type": "markdown",
   "id": "eb7c64e9-b3dd-4b4d-a8a3-791b5b8fa0ca",
   "metadata": {},
   "source": [
    "ブール型は、主に**条件式**の成立・不成立を表すのに使われる。\n",
    "例えば、次の**比較演算子**を使うことで数値の大小関係を判定する条件式を作ることができるが、その結果はブール型で表される。"
   ]
  },
  {
   "cell_type": "markdown",
   "id": "a216628f-e106-44c0-9b1e-eee9b5b79c4e",
   "metadata": {},
   "source": [
    "|  比較演算子  |  意味 |\n",
    "| ---- | ---- |\n",
    "|  `>`  |  （左の値は右の値より）大きい  |\n",
    "|  `>=`  |  以上  |\n",
    "|  `<`  |  未満 |\n",
    "|  `<=`  |  以下  |\n",
    "|  `==`  |  等しい  |  \n",
    "|  `!=`  |  等しくない  |"
   ]
  },
  {
   "cell_type": "markdown",
   "id": "7170df7c-dfbb-475c-83dd-128ead261e35",
   "metadata": {},
   "source": [
    "2つの値が等しいかどうかは `=` ではなく `==` という記法を使うことに注意する。\n",
    "実際にいくつかの例を見てみよう。"
   ]
  },
  {
   "cell_type": "code",
   "execution_count": null,
   "id": "737dd4f4-83b8-46b7-adc5-5cb2d644d1bc",
   "metadata": {},
   "outputs": [],
   "source": []
  },
  {
   "cell_type": "code",
   "execution_count": null,
   "id": "0c333a2d-ba58-47b0-a054-6f2077b8ed60",
   "metadata": {},
   "outputs": [],
   "source": []
  },
  {
   "cell_type": "code",
   "execution_count": null,
   "id": "9575db8d-5cc0-438f-95ef-a9a7743106b7",
   "metadata": {},
   "outputs": [],
   "source": []
  },
  {
   "cell_type": "code",
   "execution_count": null,
   "id": "f9d704e3-8f56-4831-a283-b354d9d4d6d3",
   "metadata": {},
   "outputs": [],
   "source": [
    "3 == 3.0"
   ]
  },
  {
   "cell_type": "code",
   "execution_count": null,
   "id": "f5a0aef6-3b2e-41e0-a5cc-587976ddb473",
   "metadata": {},
   "outputs": [],
   "source": [
    "0.1 * 3 == 0.3"
   ]
  },
  {
   "cell_type": "markdown",
   "id": "56338739-3ed2-4742-83a3-440e8507a8aa",
   "metadata": {},
   "source": [
    "最後の結果は、浮動小数点数のもつ誤差によるものである（`0.1 * 3` が `0.3` と等しいかどうか、誤差も加味して比較を行うにはどうしたら良いだろうか？）"
   ]
  },
  {
   "cell_type": "markdown",
   "id": "7542ebd5-20ae-47bc-9437-d6befe6cbaf5",
   "metadata": {},
   "source": [
    "もちろんブール型のデータも、変数に代入することができる。"
   ]
  },
  {
   "cell_type": "code",
   "execution_count": null,
   "id": "454e2e6a-c3a5-4d5c-ad1e-9a75ce3274be",
   "metadata": {},
   "outputs": [],
   "source": []
  },
  {
   "cell_type": "markdown",
   "id": "609859b2-4d10-482f-a581-1ebbc6eee6c6",
   "metadata": {},
   "source": [
    "ブール型の現れる他の例として、**in演算子**がある。これはリストや文字列の中に特定の要素が存在するかを調べる演算子である。\n",
    "例えば、`B` をリストとして `A in B` と書くとき、データ `A` が `B` に含まれるかどうかを判定して、真偽値を返す。\n",
    "使用例を以下に示す。"
   ]
  },
  {
   "cell_type": "code",
   "execution_count": null,
   "id": "6b6930c4-a182-42e3-a6b5-d83ad416403b",
   "metadata": {},
   "outputs": [],
   "source": []
  },
  {
   "cell_type": "code",
   "execution_count": null,
   "id": "6cb01183-e249-427c-85e4-14e4aee0f4f2",
   "metadata": {},
   "outputs": [],
   "source": [
    "4 in [2, 4, 6, 8]"
   ]
  },
  {
   "cell_type": "markdown",
   "id": "0e610665",
   "metadata": {},
   "source": [
    "## if文"
   ]
  },
  {
   "cell_type": "markdown",
   "id": "408a774f-a357-4a50-ba79-9686028542c6",
   "metadata": {},
   "source": [
    "データに合わせて処理を変えるための構文が**if文**である。\n",
    "そのためにプログラミングではデータに対する条件式をたて、それが真か偽かをもとに処理を二分させる。\n",
    "\n",
    "最初にブロックが1つだけの最も基本的な場合の書き方を説明する。"
   ]
  },
  {
   "cell_type": "markdown",
   "id": "4961518f-d497-4ea1-9f1a-37d38d9a5f66",
   "metadata": {},
   "source": [
    "```{figure} ./pic/if.png\n",
    "---\n",
    "width: 650px\n",
    "name: if\n",
    "---\n",
    "if文の書き方\n",
    "```"
   ]
  },
  {
   "cell_type": "markdown",
   "id": "de476a75-ff1e-4211-b677-dc06016a8a35",
   "metadata": {},
   "source": [
    "if文はヘッダーとブロックの2つから成る。ヘッダーに `if 条件式:` と書くと「条件式が真のとき以下のブロックを実行する」という意味になる。ifと条件式の間には空白文字を1つ以上入れることと、最後にコロン `:` を入力することに注意する。\n",
    "\n",
    "ヘッダーに続くブロックは、**インデント**という空白文字による字下げをすることで表現する。空白文字の数はいくつでもよいが、ブロック中はインデントの大きさを揃える必要がある。この授業ではTab文字（Tabキーを1回押す）で入力することを推奨する[^f1]。Google Colabなどのエディターでは、コロン `:` のあと改行すると自動でインデントが入力されるので、それを利用すればよい。\n",
    "\n",
    "[^f1]: [PEP8](https://pep8-ja.readthedocs.io/ja/latest/)という綺麗なコードを書くための公式のガイドラインでは、インデントを空白文字4つで入力することが推奨されている。ただし毎回スペースキーを4回叩くのは大変なので、Tab文字が空白文字4つとなるようにエディタを設定して、Tabキーで入力するということがよく行われる。Google Colabでは上部のメニューから「ツール > 設定 > エディタ」の順に選択して、「インデント幅（スペース）」という項目を4にして保存することで設定できる。"
   ]
  },
  {
   "cell_type": "markdown",
   "id": "8764d2b7-876b-410e-bafc-cc562679b309",
   "metadata": {},
   "source": [
    "例えば、数値 `x` が正のときのみ `\"正の値\"` と出力するプログラムは以下のように書ける。"
   ]
  },
  {
   "cell_type": "code",
   "execution_count": null,
   "id": "2979f9c5-b7fd-4286-8c07-d56ecdc9f36d",
   "metadata": {},
   "outputs": [],
   "source": [
    "x = 3\n"
   ]
  },
  {
   "cell_type": "markdown",
   "id": "17aa9189-8f3a-4f56-95cb-4f4f3231fd7d",
   "metadata": {},
   "source": [
    "**練習1**  ※ 授業テキストから自動採点サイトを開いて取り組んでください"
   ]
  },
  {
   "cell_type": "markdown",
   "id": "19662770",
   "metadata": {},
   "source": [
    "**練習2**  ※ 授業テキストから自動採点サイトを開いて取り組んでください"
   ]
  },
  {
   "cell_type": "markdown",
   "id": "bc04a038",
   "metadata": {},
   "source": [
    "**練習3**  ※ 授業テキストから自動採点サイトを開いて取り組んでください"
   ]
  },
  {
   "cell_type": "markdown",
   "id": "95c05069-3800-4682-b5a5-9cc728cef93e",
   "metadata": {},
   "source": [
    "### elif節・else節"
   ]
  },
  {
   "cell_type": "markdown",
   "id": "9b4518f1-424e-4560-bd4d-7dc9295febe2",
   "metadata": {},
   "source": [
    "条件式が真のときに特定の処理を行う方法を解説したが、条件式が真でないとき（すなわち偽のとき）にも特定の処理を行わせたい場合がある。また処理の分岐を3つ以上に増やしたい場合もある。このようなときに**elif節**や**else節**を使う。"
   ]
  },
  {
   "cell_type": "markdown",
   "id": "ea6d7f99",
   "metadata": {},
   "source": [
    "```{figure} ./pic/if-elif-else.png\n",
    "---\n",
    "width: 500px\n",
    "name: if-elif-else\n",
    "---\n",
    "if文の書き方\n",
    "```"
   ]
  },
  {
   "cell_type": "markdown",
   "id": "1743a739-f1c8-4c5f-9c05-043314acd6f7",
   "metadata": {},
   "source": [
    "`elif 条件式:` と書くと処理の分岐を増やすことができ、「もしここまでのブロックを実行しておらず、条件式が真ならば」という意味になる。`else:` は「もしここまでのブロックを実行していないならば」という意味になる。`elif 条件式:`、`else:` の行もヘッダーと呼ばれ、最初のif文のヘッダーと左端をそろえる必要がある。\n",
    "\n",
    "elif節とelse節は必要に応じて追加し、必ずif、elif、elseの順番にする。 elif節は好きなだけ追加できるが、else節は1つまでである。\n",
    "この授業ではif文という言葉を、if、elif、else を含む条件分岐の総称として用いることにする。\n",
    "\n",
    "上図のelif節とelse節が1つずつの場合の条件分岐の流れを**フローチャート**で表現すると次のようになる。"
   ]
  },
  {
   "cell_type": "markdown",
   "id": "2b3734a5",
   "metadata": {},
   "source": [
    "```{figure} ./pic/flow.png\n",
    "---\n",
    "width: 500px\n",
    "name: flow\n",
    "---\n",
    "条件分岐の流れ\n",
    "```"
   ]
  },
  {
   "cell_type": "markdown",
   "id": "8f58555b",
   "metadata": {},
   "source": [
    "例として、BMI指数を計算して、その値に応じてメッセージを出力するプログラムを作成してみよう。BMIとは、身長と体重の関係から算出される肥満度を表す指数である。\n",
    "身長を $a$ cm、体重を $b$ kgとすると、BMIは $10000 b / a^2$ と定義される。"
   ]
  },
  {
   "cell_type": "code",
   "execution_count": null,
   "id": "03fbda9a",
   "metadata": {},
   "outputs": [],
   "source": [
    "a = 193   # 大谷選手の身長、体重\n",
    "b = 95\n"
   ]
  },
  {
   "cell_type": "code",
   "execution_count": null,
   "id": "a25b52de",
   "metadata": {
    "scrolled": true
   },
   "outputs": [],
   "source": [
    "bmi"
   ]
  },
  {
   "cell_type": "markdown",
   "id": "d7f50c9d-2b7d-4c04-a872-521f89a554c7",
   "metadata": {},
   "source": [
    "BMIは18.5未満のとき「低体重」、18.5以上25未満のとき「普通体重」、25以上のとき「肥満」とされる。BMIの値に応じて、これらの情報を出力したい。これは以下のif文により実現できる。"
   ]
  },
  {
   "cell_type": "code",
   "execution_count": null,
   "id": "72c002a2-23ce-475e-8e00-db6132be5c69",
   "metadata": {},
   "outputs": [],
   "source": []
  },
  {
   "cell_type": "markdown",
   "id": "3e596812",
   "metadata": {},
   "source": [
    "BMIが18.5未満のとき最初の `bmi < 18.5` が真となるため、if文以下の `print(\"低体重\")` が実行される。\n",
    "BMIが18.5以上25未満のとき次の `bmi < 25` で初めて真となるため、elif文以下の `print(\"普通\")` が実行される。\n",
    "BMIが25以上のとき `bmi < 18.5` と `bmi < 25` のどちらも偽となるため、else文以下の `print(\"肥満\")` が実行される。"
   ]
  },
  {
   "cell_type": "markdown",
   "id": "646ab215",
   "metadata": {},
   "source": [
    "**練習4**  ※ 授業テキストから自動採点サイトを開いて取り組んでください"
   ]
  },
  {
   "cell_type": "markdown",
   "id": "b939cae9",
   "metadata": {},
   "source": [
    "**練習5**  ※ 授業テキストから自動採点サイトを開いて取り組んでください"
   ]
  },
  {
   "cell_type": "markdown",
   "id": "1043b9ed",
   "metadata": {},
   "source": [
    "```{admonition} 式と文\n",
    ":class: note\n",
    "Pythonプログラムは主に**式**と**文**の二つの要素から構成される。\n",
    "- 式とは、値を生み出す要素である。例えば `1 + 2` のような計算や `print(\"hello\")` のような関数の呼び出しがこれに当たる。\n",
    "- 文とは、プログラムの動きを制御する要素である。例えば、変数への代入 `x = 5` や、条件分岐や繰り返しを行う「if文」や「for文」などがこれに当たる。\n",
    "```"
   ]
  },
  {
   "cell_type": "markdown",
   "id": "37a1bd03",
   "metadata": {},
   "source": [
    "### 論理演算子"
   ]
  },
  {
   "cell_type": "markdown",
   "id": "104bacec",
   "metadata": {},
   "source": [
    "複数の条件をもとに条件分岐を行いたい場合がある。\n",
    "そんなときに用いられるのが**論理演算子**である。\n",
    "論理演算子には `and`、`or`、`not` の3種類がある。\n",
    "それぞれの意味は名前のとおりではあるが、一通り解説する。\n",
    "\n",
    "`and` は、両方の条件が満たされる場合に真を返す。\n",
    "2つの条件式 `A`、`B` があったとして、それぞれの真偽と `A and B` の真偽の関係は次のようになる。"
   ]
  },
  {
   "cell_type": "markdown",
   "id": "3e806aea",
   "metadata": {},
   "source": [
    "| A | B | A and B |\n",
    "| ----  |  ---- | ---- |\n",
    "| `True` | `True` | `True`  |\n",
    "| `True` | `False` | `False`  |\n",
    "| `False` | `True` | `False`  |\n",
    "| `False` | `False` | `False` |"
   ]
  },
  {
   "cell_type": "markdown",
   "id": "c5d66706",
   "metadata": {},
   "source": [
    "`or` は、少なくとも一つの条件が満たされる場合に真を返す。2つの条件式 `A`、`B` があったとして、それぞれの真偽と `A or B` の真偽の関係は次のようになる。"
   ]
  },
  {
   "cell_type": "markdown",
   "id": "a1d1a62d",
   "metadata": {},
   "source": [
    "| A | B | A or B |\n",
    "| ----  |  ---- | ---- |\n",
    "| `True` | `True` | `True`  |\n",
    "| `True` | `False` | `True`  |\n",
    "| `False` | `True` | `True`  |\n",
    "| `False` | `False` | `False` |"
   ]
  },
  {
   "cell_type": "markdown",
   "id": "2aa89636",
   "metadata": {},
   "source": [
    "`not` は、真偽を反転する。条件式 `A` があったとして、その真偽と `not A` の真偽の関係は次のようになる。"
   ]
  },
  {
   "cell_type": "markdown",
   "id": "a722941d",
   "metadata": {},
   "source": [
    "| A | not A |\n",
    "| ---- | ---- |\n",
    "| `True` | `False` |\n",
    "| `False` | `True` |"
   ]
  },
  {
   "cell_type": "markdown",
   "id": "a1520bf3",
   "metadata": {},
   "source": [
    "論理演算子により条件式を組み合わせていくと、算術演算子のときと同じようにどの順で実行するかが問題になる場合がある。\n",
    "例として、雨が降っているかどうか、傘を持っているかどうかの組み合わせに対して、雨に濡れるかどうかを判定するプログラムを次に示す。"
   ]
  },
  {
   "cell_type": "code",
   "execution_count": null,
   "id": "8319da3d",
   "metadata": {},
   "outputs": [],
   "source": [
    "is_rainy = True\n",
    "has_umbrella = True\n",
    "\n",
    "if not is_rainy or has_umbrella:\n",
    "    print(\"雨に濡れません\")\n",
    "else:\n",
    "    print(\"雨に濡れます\")"
   ]
  },
  {
   "cell_type": "markdown",
   "id": "cb9f6b91",
   "metadata": {},
   "source": [
    "条件式の `not is_rainy or has_umbrella` は `(not is_rainy) or has_umbrella` と `not (is_rainy or has_umbrella)` のどちらの意味だろうか。上の実行結果をもとに考えてみよう。このように論理演算子の実行順序がわかりにくい場合には、`()` をつけてわかりやすい記述を心がけた方がよい。"
   ]
  },
  {
   "cell_type": "markdown",
   "id": "626f2a6c",
   "metadata": {},
   "source": [
    "**練習6**  ※ 授業テキストから自動採点サイトを開いて取り組んでください"
   ]
  }
 ],
 "metadata": {
  "kernelspec": {
   "display_name": "Python 3 (ipykernel)",
   "language": "python",
   "name": "python3"
  },
  "language_info": {
   "codemirror_mode": {
    "name": "ipython",
    "version": 3
   },
   "file_extension": ".py",
   "mimetype": "text/x-python",
   "name": "python",
   "nbconvert_exporter": "python",
   "pygments_lexer": "ipython3",
   "version": "3.12.1"
  },
  "vscode": {
   "interpreter": {
    "hash": "aee8b7b246df8f9039afb4144a1f6fd8d2ca17a180786b69acc140d282b71a49"
   }
  }
 },
 "nbformat": 4,
 "nbformat_minor": 5
}
