{
 "cells": [
  {
   "cell_type": "markdown",
   "id": "52b9c04c",
   "metadata": {},
   "source": [
    "# 第4回 プログラムの材料と道具"
   ]
  },
  {
   "cell_type": "markdown",
   "id": "0f3467e6",
   "metadata": {},
   "source": [
    "___\n",
    "[![Open In Colab](https://colab.research.google.com/assets/colab-badge.svg)](https://colab.research.google.com/github/tsuboshun/begin-python/blob/gh-pages/workbook/lecture04.ipynb)\n",
    "\n",
    "___"
   ]
  },
  {
   "cell_type": "markdown",
   "id": "9ba5723c",
   "metadata": {},
   "source": [
    "## この授業で学ぶこと"
   ]
  },
  {
   "cell_type": "markdown",
   "id": "49246d72",
   "metadata": {},
   "source": [
    "第3回では、数値や文字列といった基本的なデータの扱い方を学んだ。\n",
    "プログラミングを工作に例えると、これらデータは材料にあたる。\n",
    "一方で、工作における道具にあたるものが関数やメソッドである。 \n",
    "今回はデータについてさらに詳しく学び、関数やメソッドについても学ぶ。"
   ]
  },
  {
   "cell_type": "markdown",
   "id": "0e610665",
   "metadata": {},
   "source": [
    "## データと関数"
   ]
  },
  {
   "cell_type": "markdown",
   "id": "edb40560",
   "metadata": {},
   "source": [
    "Pythonには数値や文字列の他にもいろいろな種類のデータがある。こうした種類の違いのことをデータの**型**（**type**）と言う。\n",
    "データ型には、**整数型**（**int**）、**浮動小数点数型**（**float**）、**文字列型**（**str**）、**リスト型**（**list**）、**ブール型**（**bool**）などがある。\n",
    "\n",
    "データ型を調べるには `type()` という関数を使う。関数とは何かについて説明する前に、まずは使ってみよう。"
   ]
  },
  {
   "cell_type": "code",
   "execution_count": null,
   "id": "f6932a99",
   "metadata": {},
   "outputs": [],
   "source": []
  },
  {
   "cell_type": "code",
   "execution_count": null,
   "id": "279e4abb",
   "metadata": {},
   "outputs": [],
   "source": []
  },
  {
   "cell_type": "code",
   "execution_count": null,
   "id": "63d2e607",
   "metadata": {
    "scrolled": true
   },
   "outputs": [],
   "source": []
  },
  {
   "cell_type": "markdown",
   "id": "3591e838",
   "metadata": {},
   "source": [
    "上から順に `3` は整数型、`3.14` は浮動小数点数型、`\"text\"` は文字列型という結果になった。"
   ]
  },
  {
   "cell_type": "markdown",
   "id": "aabdc28b",
   "metadata": {},
   "source": [
    "ここで使った `type()` は、データを受け取り、そのデータ型を調べて結果を返した。\n",
    "このようにデータを受け取って、何らかの処理を行った上で、必要に応じて結果を返すものを**関数**という。\n",
    "関数は**引数**という変数を通じてデータを受け取り、必要に応じて**戻り値**を返す。\n",
    "例えば `type(\"text\")` というコードでは、`type()` 関数は `\"text\"` というデータを引数として受け取り、`str` という型を戻り値として返している。\n",
    "\n",
    "関数によっては引数を複数持つこともあり、その場合はデータを `,` で区切って渡す。関数の使い方を一般的な形で図に表すと、次のようになる。"
   ]
  },
  {
   "cell_type": "markdown",
   "id": "8b969328",
   "metadata": {},
   "source": [
    "```{figure} ./pic/func.png\n",
    "---\n",
    "width: 400px\n",
    "name: func\n",
    "---\n",
    "関数の使い方\n",
    "```"
   ]
  },
  {
   "cell_type": "markdown",
   "id": "7d865bf5",
   "metadata": {},
   "source": [
    "実は前回の講義でも説明なしに `print()` という関数を使っていた。`print()` は複数のデータを受け取り、戻り値を返さない関数である。"
   ]
  },
  {
   "cell_type": "code",
   "execution_count": null,
   "id": "7a9b6f5b",
   "metadata": {},
   "outputs": [],
   "source": [
    "print(\"text1\", \"text2\", 3)"
   ]
  },
  {
   "cell_type": "markdown",
   "id": "be928cac",
   "metadata": {},
   "source": [
    "複数のデータを渡すと、空白を間に挟んで出力する。少し細かい話になるが、この出力は `print()` 関数の戻り値ではなく、出力するという処理を行ったと考えるのが正しい。以下のコードを通じて、`type()` 関数と `print()` 関数の挙動の違いを比較してみよう。"
   ]
  },
  {
   "cell_type": "code",
   "execution_count": null,
   "id": "da9fbf5b",
   "metadata": {},
   "outputs": [],
   "source": []
  },
  {
   "cell_type": "code",
   "execution_count": null,
   "id": "bff60c09",
   "metadata": {},
   "outputs": [],
   "source": []
  },
  {
   "cell_type": "markdown",
   "id": "62a00b6d",
   "metadata": {},
   "source": [
    "これまで見てきたように、ノートブックにはセルの最終行の式の値を自動的に表示する機能がある。しかし、`a = type(\"text\")` のような代入文は式ではないので、実行しても何も表示されない。一方で `b = print(\"text\")` を実行して「text」と表示されるのは、ノートブックではなく `print()` 関数の機能によるものである。"
   ]
  },
  {
   "cell_type": "code",
   "execution_count": null,
   "id": "c98eb5b2",
   "metadata": {},
   "outputs": [],
   "source": [
    "a"
   ]
  },
  {
   "cell_type": "code",
   "execution_count": null,
   "id": "96aebc73",
   "metadata": {},
   "outputs": [],
   "source": [
    "b"
   ]
  },
  {
   "cell_type": "markdown",
   "id": "e00a93da",
   "metadata": {},
   "source": [
    "また `type(\"text\")` は `str` という戻り値を返すので、`a` には `str` が代入される。一方、`print(\"text\")` は戻り値を返さないので、`b` には何も代入されない。"
   ]
  },
  {
   "cell_type": "markdown",
   "id": "1945aa3e-2f9f-4b0f-be45-3dd4ee3ad790",
   "metadata": {},
   "source": [
    "```{admonition} printに関してよく見かけるエラー\n",
    ":class: tip\n",
    "授業中、誤って `print = ` という代入文を実行してしまうケースをよく見かける。\n",
    "そうすると `print` は本来の意味ではなくなってしまうので、その先 `print()` を使用するたびにエラーが発生する。\n",
    "これを直すには、ノートブック上方のメニューバーから「ランタイム」 > 「セッションを再起動」を選択して、設定を初期化する必要がある。\n",
    "```"
   ]
  },
  {
   "cell_type": "markdown",
   "id": "e9205f05",
   "metadata": {},
   "source": [
    "### 整数型と浮動小数点数型"
   ]
  },
  {
   "cell_type": "markdown",
   "id": "6150bcb4",
   "metadata": {},
   "source": [
    "それでは先ほど紹介したデータ型を順に見ていこう（ただし、ブール型については次回、条件分岐と合わせて学ぶ）。まず整数型（int）は、名前のとおり整数を表すデータ型である。一方、浮動小数点数型（float）は、小数を一定の精度で表現したものである。\n",
    "\n",
    "例えば、`3` は整数型のデータとして扱われるが、`3.0` は浮動小数点数型のデータとして扱われる。以後、例えば整数型のデータのことを単に整数と表記することにする。"
   ]
  },
  {
   "cell_type": "code",
   "execution_count": null,
   "id": "fa75f316",
   "metadata": {},
   "outputs": [],
   "source": [
    "type(3)"
   ]
  },
  {
   "cell_type": "code",
   "execution_count": null,
   "id": "3c54e090",
   "metadata": {},
   "outputs": [],
   "source": [
    "type(3.0)"
   ]
  },
  {
   "cell_type": "markdown",
   "id": "9b7297f6",
   "metadata": {},
   "source": [
    "浮動小数点数が、小数を完璧な精度で表現していないという点は重要である。これは第2回の講義で説明したとおり、小数も内部では2進数で表現されており、例えば `1/3 = 0.3333...` のように無限に桁の続く小数を、有限のビット数では正確に表現できないためである。\n",
    "次の結果は驚きかもしれない。"
   ]
  },
  {
   "cell_type": "code",
   "execution_count": null,
   "id": "a2dc7cfc",
   "metadata": {},
   "outputs": [],
   "source": [
    "0.1 * 3"
   ]
  },
  {
   "cell_type": "markdown",
   "id": "5c05ca84",
   "metadata": {},
   "source": [
    "わずかな差ではあるが、`0.1 * 3` はなんと `0.3` にならない。\n",
    "これは内部の小数の表現方法に起因する誤差によるものである。\n",
    "このように小数の計算では、わずかな誤差が生じうることを念頭におく必要がある。"
   ]
  },
  {
   "cell_type": "markdown",
   "id": "d2fc3f47",
   "metadata": {},
   "source": [
    "### 文字列型"
   ]
  },
  {
   "cell_type": "markdown",
   "id": "07c8ccc3",
   "metadata": {},
   "source": [
    "文字列型（str）は、名前のとおり文字を表すデータ型である。前回学んだとおり、両端をシングルクォーテーション（ ' ）またはダブルクォーテーション（ \" ）で囲うと、文字列型のデータとして扱われる。"
   ]
  },
  {
   "cell_type": "code",
   "execution_count": null,
   "id": "574c30cd",
   "metadata": {},
   "outputs": [],
   "source": [
    "type(\"Hello\")"
   ]
  },
  {
   "cell_type": "code",
   "execution_count": null,
   "id": "04bc04cf",
   "metadata": {},
   "outputs": [],
   "source": [
    "type(\"2.0\")"
   ]
  },
  {
   "cell_type": "markdown",
   "id": "6e5081c3",
   "metadata": {},
   "source": [
    "`\"2.0\"` は文字列であり、数値とは明確に区別される。"
   ]
  },
  {
   "cell_type": "code",
   "execution_count": null,
   "id": "149a7fa0",
   "metadata": {},
   "outputs": [],
   "source": [
    "3 + \"2.0\""
   ]
  },
  {
   "cell_type": "markdown",
   "id": "58a7cda2",
   "metadata": {},
   "source": [
    "エラーメッセージにある通り、整数と文字列を足すことはできない。\n",
    "この計算をエラーなく実行するためには、両者のデータ型を揃えることが必要である。\n",
    "文字列を数値に変換するには `int()` または `float()` 関数を、数値を文字列に変換するには `str()` 関数を用いる。\n",
    "結果を予想しながら、次のコードを実行してみよう。"
   ]
  },
  {
   "cell_type": "code",
   "execution_count": null,
   "id": "3e5f71fc",
   "metadata": {},
   "outputs": [],
   "source": []
  },
  {
   "cell_type": "code",
   "execution_count": null,
   "id": "fbddf458",
   "metadata": {},
   "outputs": [],
   "source": []
  },
  {
   "cell_type": "markdown",
   "id": "653c9340",
   "metadata": {},
   "source": [
    "### リスト型"
   ]
  },
  {
   "cell_type": "markdown",
   "id": "aa9908f4",
   "metadata": {},
   "source": [
    "リスト型（list）は、複数のデータをまとめるためのデータ型である。データを `,` で区切り、両端を `[]` で囲うことで定義する。"
   ]
  },
  {
   "cell_type": "code",
   "execution_count": null,
   "id": "64506792",
   "metadata": {},
   "outputs": [],
   "source": []
  },
  {
   "cell_type": "markdown",
   "id": "c1a02934",
   "metadata": {},
   "source": [
    "リストの各要素には**インデックス**と呼ばれる整数を使ってアクセスする。\n",
    "左から読むか、右から読むかに応じて2種類のアクセス方法がある。\n",
    "次の図に各要素とインデックスの関係を表す。"
   ]
  },
  {
   "cell_type": "markdown",
   "id": "73302038",
   "metadata": {},
   "source": [
    "```{figure} ./pic/index.png\n",
    "---\n",
    "width: 600px\n",
    "name: index\n",
    "---\n",
    "インデックス\n",
    "```"
   ]
  },
  {
   "cell_type": "markdown",
   "id": "dcdbfab6",
   "metadata": {},
   "source": [
    "例えば `\"four\"` という要素には次のようにアクセスすることができる。"
   ]
  },
  {
   "cell_type": "code",
   "execution_count": null,
   "id": "ba3a19c5",
   "metadata": {},
   "outputs": [],
   "source": []
  },
  {
   "cell_type": "code",
   "execution_count": null,
   "id": "be398dbe",
   "metadata": {},
   "outputs": [],
   "source": []
  },
  {
   "cell_type": "markdown",
   "id": "fe30a149",
   "metadata": {},
   "source": [
    "基本的には左読みのインデックスが使われる。一方、右端の要素にアクセスするときなど、右から数えるのが自然な場合には右読みのインデックスが使われる。\n",
    "左読みのインデックスは、**0始まり**であることに気をつけよう。\n",
    "\n",
    "リストの要素数は `len()` 関数により調べることができる。"
   ]
  },
  {
   "cell_type": "code",
   "execution_count": null,
   "id": "83c994fc",
   "metadata": {},
   "outputs": [],
   "source": []
  },
  {
   "cell_type": "markdown",
   "id": "353f198f-6dd0-4aaa-9cc1-7cb2337551c5",
   "metadata": {},
   "source": [
    "存在しない要素を指定するとエラーになる。"
   ]
  },
  {
   "cell_type": "code",
   "execution_count": null,
   "id": "226477b2-8a11-40c5-93a5-f3ee554081f0",
   "metadata": {},
   "outputs": [],
   "source": [
    "x[5]"
   ]
  },
  {
   "cell_type": "markdown",
   "id": "77be509c-3556-4c9b-98ae-23e2bc0742b2",
   "metadata": {},
   "source": [
    "**練習1**  ※ 授業テキストから自動採点サイトを開いて取り組んでください"
   ]
  },
  {
   "cell_type": "markdown",
   "id": "512585ba",
   "metadata": {},
   "source": [
    "```{admonition} 問題の趣旨\n",
    ":class: note\n",
    "上の問題は、どのような `x` が与えられても、指示された要素を出力するプログラムを作成しなさいという意味である。例えば、`x = [5, 4, 3]` の場合に限れば `print(5)` は正しい出力になるが、これは問題の答えとしては正しくない。\n",
    "\n",
    "採点は以下のように行う。下図のように（外から与えられる変数）が何パターンか用意されており、それぞれ解答と結合して実行される。全ての場合について、正しく出力されれば正解となり、1つでも上手くいかない場合があれば不正解となる。例えば、上の問題であれば `x = [5, 4, 3]`、`x = [-1, -2, -3]`、`x = [3]` の3パターンが用意されているので、それぞれの場合に `5`、`-1`、`3` と出力されれば正解となる。\n",
    "\n",
    "```{figure} ./pic/answer.png\n",
    "---\n",
    "width: 350px\n",
    "name: index\n",
    "---\n",
    "解答欄\n",
    "```"
   ]
  },
  {
   "cell_type": "markdown",
   "id": "905773eb-3cc5-4b48-be48-651f83fe84fc",
   "metadata": {},
   "source": [
    "**練習2**  ※ 授業テキストから自動採点サイトを開いて取り組んでください"
   ]
  },
  {
   "cell_type": "markdown",
   "id": "6deab4cb",
   "metadata": {},
   "source": [
    "## オブジェクトとメソッド"
   ]
  },
  {
   "cell_type": "markdown",
   "id": "26d0446f",
   "metadata": {},
   "source": [
    "関数の中には、それぞれのデータ型に専属の関数も存在する。そのような関数のことを**メソッド**という。関数とは異なり、メソッドはデータの後ろに `.メソッド名()` とつなげて使用する。メソッドの使い方を一般的な形で図に表すと、次のようになる。"
   ]
  },
  {
   "cell_type": "markdown",
   "id": "99c085dd",
   "metadata": {},
   "source": [
    "```{figure} ./pic/method.png\n",
    "---\n",
    "width: 500px\n",
    "name: method\n",
    "---\n",
    "メソッドの使い方\n",
    "```"
   ]
  },
  {
   "cell_type": "markdown",
   "id": "f8721b1c",
   "metadata": {},
   "source": [
    "例として、文字列型のメソッドである `split()` を見てみよう。`split()` は引数に渡した区切り文字をもとに、文字列を区切ってリストとして返す。"
   ]
  },
  {
   "cell_type": "code",
   "execution_count": null,
   "id": "b5b67a21",
   "metadata": {},
   "outputs": [],
   "source": [
    "s = \"Hello, world!\"\n"
   ]
  },
  {
   "cell_type": "code",
   "execution_count": null,
   "id": "492f23aa",
   "metadata": {},
   "outputs": [],
   "source": [
    "s = \"Mon Tue Wed Thu Fri Sat Sun\"\n"
   ]
  },
  {
   "cell_type": "markdown",
   "id": "4c3e269b",
   "metadata": {},
   "source": [
    "メソッドの場合、データ自身は引数に書かなくても自動的にメソッドに渡される。\n",
    "\n",
    "文字列型のメソッドの他の例として `upper()` や `lower()` がある。文字列をそれぞれ大文字と小文字に変換して返すメソッドであり、引数は取らない。引数は取らなくてもデータ自身はメソッドに渡されるため、実質的に引数が1つの関数を実行するようなものである。"
   ]
  },
  {
   "cell_type": "code",
   "execution_count": null,
   "id": "cbf9af07",
   "metadata": {},
   "outputs": [],
   "source": [
    "s = \"Mon Tue Wed Thu Fri Sat Sun\"\n"
   ]
  },
  {
   "cell_type": "code",
   "execution_count": null,
   "id": "89ec9cb4",
   "metadata": {},
   "outputs": [],
   "source": [
    "s = \"Mon Tue Wed Thu Fri Sat Sun\"\n"
   ]
  },
  {
   "cell_type": "markdown",
   "id": "9b5dca8d",
   "metadata": {},
   "source": [
    "リスト型のメソッドの例も挙げておこう。`index()` メソッドは、引数に渡した値がリストに含まれていれば、その（左読みの）インデックスを返す。含まれていないとエラーになる。"
   ]
  },
  {
   "cell_type": "code",
   "execution_count": null,
   "id": "e9bc868d",
   "metadata": {},
   "outputs": [],
   "source": [
    "x = [8, 1, 3, 7, 5]\n"
   ]
  },
  {
   "cell_type": "code",
   "execution_count": null,
   "id": "4671afad",
   "metadata": {},
   "outputs": [],
   "source": []
  },
  {
   "cell_type": "code",
   "execution_count": null,
   "id": "11a17436",
   "metadata": {
    "scrolled": true
   },
   "outputs": [],
   "source": [
    "x.index(2)"
   ]
  },
  {
   "cell_type": "markdown",
   "id": "3b12b4f8",
   "metadata": {},
   "source": [
    "さて、データとそれの持つメソッドをまとめたものを**オブジェクト**という。オブジェクトは日本語では物という意味である。Pythonに出てくるほとんど全ての要素はオブジェクトとして作られており、これまで学んできたデータも全てオブジェクトである。オブジェクトの設計図を**クラス**と呼び、クラスに基づいて作られる具体的なオブジェクトを**インスタンス**と呼ぶ。オブジェクトとインスタンスは似ているが、前者はより一般的な概念で、後者は特定のクラスを具体化したものを指す。"
   ]
  },
  {
   "cell_type": "markdown",
   "id": "0e9143bd",
   "metadata": {},
   "source": [
    "ここまでに出てきた概念について、理解を深めるために工作の例え話で説明してみよう。 例えば、木材を加工する状況を考える。 一言に木材といっても、重さや手触りなど１つ１つの木材には個性がある。 今、手にしている木材は、木材という概念を具体化したものであり、木材という概念がクラス、具体化したものがインスタンスにあたる。\n",
    "\n",
    "木材を加工するときには、例えば木材用のノコギリを使って切ることになるだろう。このノコギリを使って切るという行為は、木材ならば個性に関係なく適用することができるため、メソッドと捉えることができる。 これは木材に特化したメソッドであり、ガラスなど他の物質に適用することはできない。"
   ]
  },
  {
   "cell_type": "markdown",
   "id": "f6ae39ae",
   "metadata": {},
   "source": [
    "文字列型について、今の例え話に沿って説明してみよう。文字列 `\"mikan\"` および `\"banana\"` は異なる値（個性）を持ち、それぞれ文字列クラスのインスタンスである。どちらも文字列に専属の `split()` メソッドを適用できるが、その結果は値に応じて異なる。"
   ]
  },
  {
   "cell_type": "code",
   "execution_count": null,
   "id": "843bbc36",
   "metadata": {},
   "outputs": [],
   "source": [
    "\"mikan\".split(\"a\")"
   ]
  },
  {
   "cell_type": "code",
   "execution_count": null,
   "id": "a171b12c",
   "metadata": {},
   "outputs": [],
   "source": [
    "\"banana\".split(\"a\")"
   ]
  },
  {
   "cell_type": "markdown",
   "id": "bea7ff79",
   "metadata": {},
   "source": [
    "`split()` は文字列のメソッドであるから、他のクラスのインスタンスには適用できない。"
   ]
  },
  {
   "cell_type": "code",
   "execution_count": null,
   "id": "ed6978a9",
   "metadata": {},
   "outputs": [],
   "source": [
    "212.split(1)"
   ]
  },
  {
   "cell_type": "markdown",
   "id": "ef2562a3",
   "metadata": {},
   "source": [
    "**練習3**  ※ 授業テキストから自動採点サイトを開いて取り組んでください"
   ]
  },
  {
   "cell_type": "markdown",
   "id": "9a57fd23",
   "metadata": {},
   "source": [
    "**練習4**  ※ 授業テキストから自動採点サイトを開いて取り組んでください"
   ]
  },
  {
   "cell_type": "markdown",
   "id": "45f411a7",
   "metadata": {},
   "source": [
    "**練習5**  ※ 授業テキストから自動採点サイトを開いて取り組んでください"
   ]
  }
 ],
 "metadata": {
  "kernelspec": {
   "display_name": "Python 3 (ipykernel)",
   "language": "python",
   "name": "python3"
  },
  "language_info": {
   "codemirror_mode": {
    "name": "ipython",
    "version": 3
   },
   "file_extension": ".py",
   "mimetype": "text/x-python",
   "name": "python",
   "nbconvert_exporter": "python",
   "pygments_lexer": "ipython3",
   "version": "3.12.1"
  },
  "vscode": {
   "interpreter": {
    "hash": "aee8b7b246df8f9039afb4144a1f6fd8d2ca17a180786b69acc140d282b71a49"
   }
  }
 },
 "nbformat": 4,
 "nbformat_minor": 5
}
