{
 "cells": [
  {
   "cell_type": "markdown",
   "id": "52b9c04c",
   "metadata": {},
   "source": [
    "# 第13回 データの可視化"
   ]
  },
  {
   "cell_type": "markdown",
   "id": "0f3467e6",
   "metadata": {},
   "source": [
    "___\n",
    "[![Open In Colab](https://colab.research.google.com/assets/colab-badge.svg)](https://colab.research.google.com/github/tsuboshun/begin-python/blob/gh-pages/_sources/workbook/lecture13.ipynb)\n",
    "\n",
    "___"
   ]
  },
  {
   "cell_type": "markdown",
   "id": "9ba5723c",
   "metadata": {},
   "source": [
    "## この授業で学ぶこと"
   ]
  },
  {
   "cell_type": "markdown",
   "id": "49246d72",
   "metadata": {},
   "source": [
    "準備中"
   ]
  },
  {
   "cell_type": "markdown",
   "id": "339ab428",
   "metadata": {},
   "source": [
    "### 準備"
   ]
  },
  {
   "cell_type": "code",
   "execution_count": null,
   "id": "9664d068",
   "metadata": {},
   "outputs": [],
   "source": [
    "pip install japanize_matplotlib"
   ]
  },
  {
   "cell_type": "code",
   "execution_count": null,
   "id": "2ad4314e",
   "metadata": {},
   "outputs": [],
   "source": [
    "import matplotlib.pyplot as plt\n",
    "import numpy as np\n",
    "import pandas as pd\n",
    "import seaborn as sns\n",
    "from sklearn.linear_model import LinearRegression\n",
    "import japanize_matplotlib\n",
    "\n",
    "import ssl  ## Google Colab上では不要\n",
    "ssl._create_default_https_context = ssl._create_unverified_context"
   ]
  },
  {
   "cell_type": "code",
   "execution_count": null,
   "id": "068968a6",
   "metadata": {},
   "outputs": [],
   "source": [
    "# 0から10までの0.1刻みの数列\n",
    "sample_x = np.arange(0, 10, 0.1)\n",
    "\n",
    "# y = 2x + eps　（epsはガウスノイズ）\n",
    "sample_y = sample_x * 2 + np.random.normal(\n",
    "    loc = 0,        # 平均\n",
    "    scale = 1,    # 標準偏差\n",
    "    size = len(sample_x),   # 配列のサイズ\n",
    ")"
   ]
  },
  {
   "cell_type": "code",
   "execution_count": null,
   "id": "7c48dc12",
   "metadata": {},
   "outputs": [],
   "source": [
    "df = sns.load_dataset('diamonds')"
   ]
  },
  {
   "cell_type": "markdown",
   "id": "2ec0fa70",
   "metadata": {},
   "source": [
    "## matplotlib入門"
   ]
  },
  {
   "cell_type": "code",
   "execution_count": null,
   "id": "5ae86286",
   "metadata": {
    "scrolled": true
   },
   "outputs": [],
   "source": [
    "# プロットの入れ物の用意\n",
    "fig, ax = plt.subplots()\n",
    "\n",
    "# データの用意\n",
    "x = sample_x\n",
    "y = sample_y\n",
    "\n",
    "# 散布図のプロット\n",
    "ax.scatter(x, y)\n",
    "\n",
    "# 表示\n",
    "plt.show()"
   ]
  },
  {
   "cell_type": "code",
   "execution_count": null,
   "id": "2ab7e8a7",
   "metadata": {},
   "outputs": [],
   "source": []
  },
  {
   "cell_type": "code",
   "execution_count": null,
   "id": "bc5d0ecf",
   "metadata": {},
   "outputs": [],
   "source": [
    "# データの用意\n",
    "x = sample_x.reshape((100, 1))\n",
    "y = sample_y\n",
    "\n",
    "# 線型回帰モデルの用意\n",
    "lr = LinearRegression()\n",
    "\n",
    "# モデルのパラメータのフィッティング\n",
    "lr.fit(x, y)\n",
    "\n",
    "# モデルによる予測\n",
    "y_pred = lr.predict(x)"
   ]
  },
  {
   "cell_type": "code",
   "execution_count": null,
   "id": "8e4b09e8",
   "metadata": {},
   "outputs": [],
   "source": [
    "# プロットの入れ物の用意\n",
    "fig, ax = plt.subplots()\n",
    "\n",
    "# 散布図、折れ線グラフのプロット\n",
    "ax.scatter(x, y)\n",
    "ax.plot(x, y_pred)\n",
    "\n",
    "# 表示\n",
    "plt.show()"
   ]
  },
  {
   "cell_type": "code",
   "execution_count": null,
   "id": "ea26afcb",
   "metadata": {},
   "outputs": [],
   "source": []
  },
  {
   "cell_type": "markdown",
   "id": "3c139ba7",
   "metadata": {},
   "source": [
    "## pandas入門"
   ]
  },
  {
   "cell_type": "code",
   "execution_count": null,
   "id": "3c4ed17e",
   "metadata": {
    "scrolled": true
   },
   "outputs": [],
   "source": [
    "df.head()"
   ]
  },
  {
   "cell_type": "code",
   "execution_count": null,
   "id": "ff11b209",
   "metadata": {},
   "outputs": [],
   "source": []
  },
  {
   "cell_type": "markdown",
   "id": "ad8790a0",
   "metadata": {},
   "source": [
    "## ヒストグラム"
   ]
  },
  {
   "cell_type": "code",
   "execution_count": null,
   "id": "0ef88fd2",
   "metadata": {},
   "outputs": [],
   "source": [
    "# プロットの入れ物の用意\n",
    "fig, ax = plt.subplots()\n",
    "\n",
    "# データの用意\n",
    "x = df[\"price\"].values\n",
    "\n",
    "# ヒストグラムのプロット\n",
    "ax.hist(x)\n",
    "\n",
    "# 表示\n",
    "plt.show()"
   ]
  },
  {
   "cell_type": "code",
   "execution_count": null,
   "id": "905666eb",
   "metadata": {},
   "outputs": [],
   "source": [
    "# プロットの入れ物の用意\n",
    "fig, ax = plt.subplots()\n",
    "\n",
    "# データの用意\n",
    "x = np.log(df[\"carat\"].values)\n",
    "y = np.log(df[\"price\"].values)\n",
    "\n",
    "# 2次元ヒストグラムのプロット\n",
    "hb = ax.hexbin(x, y, gridsize=10)\n",
    "\n",
    "# カラーバーのプロット\n",
    "cb = fig.colorbar(hb, ax=ax)\n",
    "cb.set_label('カウント')\n",
    "\n",
    "# 表示\n",
    "plt.show()"
   ]
  },
  {
   "cell_type": "code",
   "execution_count": null,
   "id": "95aefea6",
   "metadata": {},
   "outputs": [],
   "source": []
  }
 ],
 "metadata": {
  "kernelspec": {
   "display_name": "Python 3 (ipykernel)",
   "language": "python",
   "name": "python3"
  },
  "language_info": {
   "codemirror_mode": {
    "name": "ipython",
    "version": 3
   },
   "file_extension": ".py",
   "mimetype": "text/x-python",
   "name": "python",
   "nbconvert_exporter": "python",
   "pygments_lexer": "ipython3",
   "version": "3.9.5"
  },
  "vscode": {
   "interpreter": {
    "hash": "aee8b7b246df8f9039afb4144a1f6fd8d2ca17a180786b69acc140d282b71a49"
   }
  }
 },
 "nbformat": 4,
 "nbformat_minor": 5
}
