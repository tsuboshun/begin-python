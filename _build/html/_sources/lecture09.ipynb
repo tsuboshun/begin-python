{
 "cells": [
  {
   "cell_type": "markdown",
   "id": "52b9c04c",
   "metadata": {},
   "source": [
    "# 第9回 アルゴリズム入門：データの整列"
   ]
  },
  {
   "cell_type": "markdown",
   "id": "0f3467e6",
   "metadata": {},
   "source": [
    "___\n",
    "[![Open In Colab](https://colab.research.google.com/assets/colab-badge.svg)](https://colab.research.google.com/github/tsuboshun/begin-python/blob/gh-pages/_sources/workbook/lecture09.ipynb)\n",
    "\n",
    "___"
   ]
  },
  {
   "cell_type": "markdown",
   "id": "9ba5723c",
   "metadata": {},
   "source": [
    "## この授業で学ぶこと"
   ]
  },
  {
   "cell_type": "markdown",
   "id": "49246d72",
   "metadata": {},
   "source": [
    "準備中"
   ]
  },
  {
   "cell_type": "markdown",
   "id": "a22d0b71",
   "metadata": {},
   "source": [
    "### 準備"
   ]
  },
  {
   "cell_type": "code",
   "execution_count": null,
   "id": "f4d164e1",
   "metadata": {
    "tags": [
     "hide-output"
    ]
   },
   "outputs": [],
   "source": [
    "pip install faker"
   ]
  },
  {
   "cell_type": "code",
   "execution_count": null,
   "id": "f8ba5afb",
   "metadata": {},
   "outputs": [],
   "source": [
    "import time\n",
    "import random\n",
    "import itertools\n",
    "from faker import Faker"
   ]
  },
  {
   "cell_type": "code",
   "execution_count": null,
   "id": "ce774af6",
   "metadata": {},
   "outputs": [],
   "source": [
    "fake = Faker()\n",
    "\n",
    "N = 10**5\n",
    "data = []\n",
    "for i in range(N):\n",
    "    data.append(fake.name())"
   ]
  },
  {
   "cell_type": "markdown",
   "id": "36d99f86",
   "metadata": {},
   "source": [
    "## 挿入ソート"
   ]
  },
  {
   "cell_type": "code",
   "execution_count": null,
   "id": "00cf737f",
   "metadata": {},
   "outputs": [],
   "source": [
    "def insert_sort(x):\n",
    "    for i in range(1, len(x)):\n",
    "        # ソートされていない要素を取り出す\n",
    "        key = x[i]\n",
    "        # ソート済みの部分から、挿入する場所を探す\n",
    "        j = i - 1\n",
    "        while j >= 0 and x[j] > key:\n",
    "            x[j + 1] = x[j]\n",
    "            j -= 1\n",
    "        # 見つかった場所に要素を挿入する\n",
    "        x[j + 1] = key\n",
    "    return x"
   ]
  },
  {
   "cell_type": "code",
   "execution_count": null,
   "id": "575820fa",
   "metadata": {},
   "outputs": [],
   "source": [
    "x = data[:10**4]\n",
    "\n",
    "start = time.time()\n",
    "insert_sort(x)\n",
    "end = time.time()\n",
    "\n",
    "print(f\"実行時間: {end - start:.4f}秒\")"
   ]
  }
 ],
 "metadata": {
  "kernelspec": {
   "display_name": "Python 3 (ipykernel)",
   "language": "python",
   "name": "python3"
  },
  "language_info": {
   "codemirror_mode": {
    "name": "ipython",
    "version": 3
   },
   "file_extension": ".py",
   "mimetype": "text/x-python",
   "name": "python",
   "nbconvert_exporter": "python",
   "pygments_lexer": "ipython3",
   "version": "3.9.5"
  },
  "vscode": {
   "interpreter": {
    "hash": "aee8b7b246df8f9039afb4144a1f6fd8d2ca17a180786b69acc140d282b71a49"
   }
  }
 },
 "nbformat": 4,
 "nbformat_minor": 5
}
