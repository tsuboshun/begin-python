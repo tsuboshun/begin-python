{
 "cells": [
  {
   "cell_type": "markdown",
   "id": "52b9c04c",
   "metadata": {},
   "source": [
    "# 第3回 はじめてのPython"
   ]
  },
  {
   "cell_type": "markdown",
   "id": "da4079b9",
   "metadata": {},
   "source": [
    "___\n",
    "[![Open In Colab](https://colab.research.google.com/assets/colab-badge.svg)](https://colab.research.google.com/github/tsuboshun/begin-python/blob/gh-pages/_sources/workbook/lecture03.ipynb)\n",
    "___"
   ]
  },
  {
   "cell_type": "markdown",
   "id": "9ba5723c",
   "metadata": {},
   "source": [
    "## この授業で学ぶこと"
   ]
  },
  {
   "cell_type": "markdown",
   "id": "49246d72",
   "metadata": {},
   "source": [
    "この授業では、数値や文字列といった基本的なデータの扱い方を学ぶ。\n",
    "\n",
    "今の段階では細かいところはわからなくても、なんとなくPythonを実行できれば十分である。プログラミングは手で覚えるところがあるので、簡単な例も逐一タイピングして、実際に動かしながら学んでほしい。"
   ]
  },
  {
   "cell_type": "markdown",
   "id": "0dafa05b",
   "metadata": {},
   "source": [
    "## 最初のプログラム"
   ]
  },
  {
   "cell_type": "markdown",
   "id": "738ab906",
   "metadata": {},
   "source": [
    "まずはPythonプログラムを動かしてみよう。"
   ]
  },
  {
   "cell_type": "code",
   "execution_count": null,
   "id": "aea710ab",
   "metadata": {
    "scrolled": false
   },
   "outputs": [],
   "source": []
  },
  {
   "cell_type": "markdown",
   "id": "208e44b8",
   "metadata": {},
   "source": [
    "ノートブックの文字を入力できる部分を**セル**という。\n",
    "セルに見本通りに文字を入力して、左の実行ボタンを押すと Hello, world! と表示されるはずだ。\n",
    "この Hello, world! と表示させるプログラムは、どのプログラミング言語でも最初の一歩として紹介されることが多い。\n",
    "\n",
    "前回の復習になるが、このようなコンピューターに対する命令のことを**プログラム**といい、それをPythonなどの言語で記述したものを**ソースコード** （または**コード**）という。\n",
    "また、左の実行ボタンを押す以外の実行方法として、キーボードで Shift を押しながら Enter と入力する方法がある。便利なので覚えておこう。"
   ]
  },
  {
   "cell_type": "markdown",
   "id": "325d4c44",
   "metadata": {},
   "source": [
    "```{admonition} 半角と全角\n",
    ":class: note\n",
    "上のコードを入力する際に、全角文字を使うとその場所によってはエラーになる。あとで説明するように日本語の文字列データを扱うときや、コメントを書くとき以外は、全角文字を使うことはほぼない。常に半角文字になっているか気をつけながら入力する習慣をつけよう。\n",
    "```"
   ]
  },
  {
   "cell_type": "markdown",
   "id": "f0955e1f",
   "metadata": {},
   "source": [
    "## 四則演算"
   ]
  },
  {
   "cell_type": "markdown",
   "id": "b53c5520",
   "metadata": {},
   "source": [
    "次に、簡単な数式を計算させてみよう。電卓にやらせていたような計算も、Pythonで行った方がずっと便利なことが多い。\n",
    "\n",
    "主な記号（**算術演算子**という）を次にまとめる。"
   ]
  },
  {
   "cell_type": "markdown",
   "id": "06cc4572",
   "metadata": {},
   "source": [
    "|  算術演算子  |  意味 |\n",
    "| ---- | ---- |\n",
    "|  `+`  |  足し算  |\n",
    "|  `-`  |  引き算  |\n",
    "|  `*`  |  かけ算  |\n",
    "|  `/`  |  割り算  |\n",
    "|  `//`  |  割り算（小数を切り捨て）  |  \n",
    "|  `%`  |  割り算の余り  |\n",
    "|  `**`  |  累乗  |"
   ]
  },
  {
   "cell_type": "markdown",
   "id": "b22e59fb",
   "metadata": {},
   "source": [
    "足し算 `+`、引き算 `-` および割り算 `/` については馴染みのある記号だろう。\n",
    "かけ算は × ではなく `*` という記号を用いる。  \n",
    "\n",
    "`//` および `%` は、小数の出てこない余りつき割り算を行うのに用いられる。例えば5割る3の答えは、商が1余りが2となるが、商は `5//3`、余りは `5%3` によって求めることができる。  \n",
    "\n",
    "累乗は `**` で表される。例えば3の5乗（つまり `3*3*3*3*3`）は、`3**5` で求めることができる。"
   ]
  },
  {
   "cell_type": "markdown",
   "id": "054cad1e",
   "metadata": {},
   "source": [
    "以下のコードを、結果を予想しながら実行してみよう。なお、ノートブック環境では `print()` と書かなくても、セルの最終行を評価した値が自動的に表示される。"
   ]
  },
  {
   "cell_type": "code",
   "execution_count": null,
   "id": "de41a67f",
   "metadata": {
    "scrolled": true
   },
   "outputs": [],
   "source": []
  },
  {
   "cell_type": "code",
   "execution_count": null,
   "id": "3532c7fd",
   "metadata": {},
   "outputs": [],
   "source": []
  },
  {
   "cell_type": "code",
   "execution_count": null,
   "id": "0415b66a",
   "metadata": {},
   "outputs": [],
   "source": []
  },
  {
   "cell_type": "code",
   "execution_count": null,
   "id": "bfdbde85",
   "metadata": {
    "scrolled": true
   },
   "outputs": [],
   "source": []
  },
  {
   "cell_type": "code",
   "execution_count": null,
   "id": "4a3fce5f",
   "metadata": {},
   "outputs": [],
   "source": []
  },
  {
   "cell_type": "code",
   "execution_count": null,
   "id": "4dfda550",
   "metadata": {
    "scrolled": true
   },
   "outputs": [],
   "source": []
  },
  {
   "cell_type": "markdown",
   "id": "a99c9f3f",
   "metadata": {},
   "source": [
    "日常の生活でもちょっとした計算をする際に、Pythonをパッと起動して使えると便利である。例えば、家庭教師をしていて遭遇しそうな問題を次に並べてみたが、Pythonを使えば答えを簡単に確かめることができる。"
   ]
  },
  {
   "cell_type": "markdown",
   "id": "f395f010",
   "metadata": {},
   "source": [
    "**練習1**\n",
    "\n",
    "（1） 80円のりんごを6個、120円のオレンジを9個買った。合計はいくらか。  \n",
    "（2） りんごは5%の値引きがあったとする。このとき合計はいくらになるか。"
   ]
  },
  {
   "cell_type": "code",
   "execution_count": null,
   "id": "2314b658",
   "metadata": {},
   "outputs": [],
   "source": []
  },
  {
   "cell_type": "markdown",
   "id": "da953a29",
   "metadata": {},
   "source": [
    "**練習2**\n",
    "\n",
    "（1） 365を12で割った商と余りを求めよ。  \n",
    "（2） 2023の2023乗の1の位の数字は何か。 <font color=cornflowerblue>ヒント: 1の位の数字は10で割った余りである。</font>"
   ]
  },
  {
   "cell_type": "code",
   "execution_count": null,
   "id": "eaa15032",
   "metadata": {},
   "outputs": [],
   "source": []
  },
  {
   "cell_type": "markdown",
   "id": "8387880e",
   "metadata": {},
   "source": [
    "**練習3**\n",
    "\n",
    "（1） 10万円を年利率5％で運用したとき、10年後の金額を求めよ。また20年後にはいくらになるか。  \n",
    "（2） 3の平方根の値を小数で求めよ。 <font color=cornflowerblue>ヒント: 平方根は0.5乗で計算できる。</font>"
   ]
  },
  {
   "cell_type": "code",
   "execution_count": null,
   "id": "ad73709f",
   "metadata": {},
   "outputs": [],
   "source": []
  },
  {
   "cell_type": "markdown",
   "id": "13dd9b40",
   "metadata": {},
   "source": [
    "### 計算の順番"
   ]
  },
  {
   "cell_type": "markdown",
   "id": "489f7bc3",
   "metadata": {},
   "source": [
    "次のコードの実行結果を予想してみよう。"
   ]
  },
  {
   "cell_type": "code",
   "execution_count": null,
   "id": "20de594d",
   "metadata": {},
   "outputs": [],
   "source": [
    "2 + 3 ** 2 / 4 * 2 ** 2 - 5"
   ]
  },
  {
   "cell_type": "markdown",
   "id": "156428ac",
   "metadata": {},
   "source": [
    "予想は当たっただろうか。ここでは計算の順番に関するルールを学ぶ。\n",
    "\n",
    "まず、演算子には優先順位があり、累乗 `**`、掛け算・割り算 `*`, `\\`, `\\\\`, `%`、足し算・引き算 `+`, `-` の順に優先される。また、同じ優先順位の演算子は、前から順に実行される。ただし、普通の数学と同じく `()` を付ければ、その中身の計算が最優先される。\n",
    "\n",
    "このルールにしたがうと、上の数式は次のように計算される。  \n",
    "まず、足し算・引き算より掛け算・割り算・累乗が優先されるので、真ん中の項が先に計算される。`()` を使って明示的に書けば、次の式と同じということである。"
   ]
  },
  {
   "cell_type": "code",
   "execution_count": null,
   "id": "f5175cab",
   "metadata": {},
   "outputs": [],
   "source": [
    "2 + (3 ** 2 / 4 * 2 ** 2) - 5"
   ]
  },
  {
   "cell_type": "markdown",
   "id": "146aefeb",
   "metadata": {},
   "source": [
    "さらに、真ん中の項のうち累乗が優先されるので、次のように `3**2` と `2**2` が先に計算される。"
   ]
  },
  {
   "cell_type": "code",
   "execution_count": null,
   "id": "385cb784",
   "metadata": {},
   "outputs": [],
   "source": [
    "2 + ((3 ** 2) / 4 * (2 ** 2)) - 5"
   ]
  },
  {
   "cell_type": "markdown",
   "id": "50fab19e",
   "metadata": {},
   "source": [
    "累乗を計算したあとの `9 / 4 * 4` は前から順に計算されるので `9 / 4 * 4` = `2.25 * 4` = `9`となる。したがって、最終的な答えは `2 + 9 - 5` = `6` となる。"
   ]
  },
  {
   "cell_type": "markdown",
   "id": "c25c0dac",
   "metadata": {},
   "source": [
    "ところで、最初の式はとてもわかりづらいと感じなかっただろうか。\n",
    "これは長年プログラミングに触れている人にとっても同じであり、最後の`()`を活用した式の方が見やすい。\n",
    "間違いを減らすためにも`()`を活用しながら、わかりやすい記述を心がけよう。\n",
    "さらにコメントすれば `9 / 4 * 4` より `9 * 4 / 4` の順番の方が、計算の順番に安心感がある。\n",
    "したがって、最初の式は次のように書くとより良い。"
   ]
  },
  {
   "cell_type": "code",
   "execution_count": null,
   "id": "802d9cae",
   "metadata": {},
   "outputs": [],
   "source": [
    "2 + ((3 ** 2) * (2 ** 2) / 4) - 5"
   ]
  },
  {
   "cell_type": "markdown",
   "id": "8618ad1f",
   "metadata": {},
   "source": [
    "## 変数"
   ]
  },
  {
   "cell_type": "markdown",
   "id": "75b1ec72",
   "metadata": {},
   "source": [
    "ここでは、数値などのデータに名前をつける方法について学ぶ。\n",
    "\n",
    "先ほどの練習1の答えはそれぞれ次のとおりであった。"
   ]
  },
  {
   "cell_type": "code",
   "execution_count": null,
   "id": "0d46532c",
   "metadata": {},
   "outputs": [],
   "source": [
    "80 * 6 + 120 * 9"
   ]
  },
  {
   "cell_type": "code",
   "execution_count": null,
   "id": "95652793",
   "metadata": {},
   "outputs": [],
   "source": [
    "80 * 0.95 * 6 + 120 * 9"
   ]
  },
  {
   "cell_type": "markdown",
   "id": "81203262",
   "metadata": {},
   "source": [
    "こういう式を書くとき、数値と演算子のみで書くと、目で見て意味がとりづらくなる。 \n",
    "また繰り返し現れる数値があるが、それぞれ2回タイピングするのは間違いのもとである。\n",
    "\n",
    "そんなときは数値に名前をつけると便利である。Pythonでは次のような形式でデータに名前をつけることができる。\n",
    "<pre>\n",
    "名前 = 式\n",
    "</pre>\n",
    "左辺の名前のことを**変数**という。右辺はあえてデータではなく式と表現した。式の場合はそれを評価した結果の値に名前がつく。\n",
    "このことを変数に値を**代入**するという。\n",
    "\n",
    "変数はデータに対する付箋のようなものだと理解するとよい。変数はデータを参照するが、変数とデータは実体としては別のものである。\n",
    "\n",
    "```{figure} ../../pic/variable.png\n",
    "---\n",
    "width: 200px\n",
    "name: for文\n",
    "---\n",
    "変数のイメージ\n",
    "```\n",
    "\n",
    "変数を使うと、練習1の答えは次のように求めることができる。"
   ]
  },
  {
   "cell_type": "code",
   "execution_count": null,
   "id": "56a3ac36",
   "metadata": {},
   "outputs": [],
   "source": []
  },
  {
   "cell_type": "code",
   "execution_count": null,
   "id": "990f7ca0",
   "metadata": {},
   "outputs": [],
   "source": []
  },
  {
   "cell_type": "markdown",
   "id": "4e7434f8",
   "metadata": {},
   "source": [
    "先ほどと比べると、式の意味が読み取りやすくなっている。一度変数を定義すれば、他のセルからもその変数を使うことができる。\n",
    "また変数の値は上書きすることもできる。"
   ]
  },
  {
   "cell_type": "code",
   "execution_count": null,
   "id": "29b2f36d",
   "metadata": {},
   "outputs": [],
   "source": []
  },
  {
   "cell_type": "markdown",
   "id": "b7701632",
   "metadata": {},
   "source": [
    "さて、先ほど右辺を式と表現したが、例えば次のような定義の仕方もできる。"
   ]
  },
  {
   "cell_type": "code",
   "execution_count": null,
   "id": "71779f25",
   "metadata": {},
   "outputs": [],
   "source": []
  },
  {
   "cell_type": "markdown",
   "id": "12e33eca",
   "metadata": {},
   "source": [
    "次の結果は、やや驚きかもしれない。"
   ]
  },
  {
   "cell_type": "code",
   "execution_count": null,
   "id": "89772eee",
   "metadata": {},
   "outputs": [],
   "source": []
  },
  {
   "cell_type": "markdown",
   "id": "6697854f",
   "metadata": {},
   "source": [
    "この実行結果の理由は次のとおりである。`x = x + 1` のコードにおいて、まず右辺の式が評価される。`x` の指す値は `2` であるから、`x + 1` の値は `3` である。\n",
    "したがって、`x = x + 1` のコードは `x = 3` のコードに読み替えられる。その結果として、`x` は新しい値 `3` の名前として上書きされる。数学とは違い `x = x + 1` は方程式ではないので注意しよう。\n",
    "\n",
    "プログラミングでは、このような計算式がよく出てくるので省略記法もある。具体的には、`x = x + 1` は `x += 1` と書くことができる。"
   ]
  },
  {
   "cell_type": "markdown",
   "id": "dfe9630e",
   "metadata": {},
   "source": [
    "以下のコードを、結果を予想しながら実行してみよう。"
   ]
  },
  {
   "cell_type": "code",
   "execution_count": null,
   "id": "830a0bcf",
   "metadata": {},
   "outputs": [],
   "source": []
  },
  {
   "cell_type": "code",
   "execution_count": null,
   "id": "40a9d0b5",
   "metadata": {},
   "outputs": [],
   "source": []
  },
  {
   "cell_type": "markdown",
   "id": "7cc0e16f",
   "metadata": {},
   "source": [
    "### 変数名の付け方"
   ]
  },
  {
   "cell_type": "markdown",
   "id": "3c20c094",
   "metadata": {},
   "source": [
    "変数の名前は自由につけることができるが、いくつかルールがある。  \n",
    "\n",
    "1. 使える文字はアルファベット、数字、アンダースコア（ \\_ ） のみである。  \n",
    "2. 変数の先頭に数字は使えない。  \n",
    "3. `for` や `if` などの文法的に意味のある単語（**予約語**）は、そのまま単体では使えない。  "
   ]
  },
  {
   "cell_type": "markdown",
   "id": "106aecd6",
   "metadata": {},
   "source": [
    "例えば、`price_apple` は変数名にできるが、`price-apple` はエラーになる。`a1` は変数名にできるが、`1a` はエラーになる。\n",
    "また、`if` は使えないが、`value_if_a` は変数名にできる。\n",
    "\n",
    "変数名はなるべく英語で表現するのが理想的だが、難しければ日本語のローマ字で表現してもよい。\n",
    "例えば、みかんは英語で書くと `mandarin` であるが、日本人にとっては `mikan` の方がわかりやすいだろう。\n",
    "\n",
    "下のセルを使って、上のルールを確かめてみよう。例えば `1a = 2` などと入力してみよう。"
   ]
  },
  {
   "cell_type": "code",
   "execution_count": null,
   "id": "b02b4fa1",
   "metadata": {},
   "outputs": [],
   "source": []
  },
  {
   "cell_type": "markdown",
   "id": "a33784d9",
   "metadata": {},
   "source": [
    "## 文字列"
   ]
  },
  {
   "cell_type": "markdown",
   "id": "1dffe079",
   "metadata": {},
   "source": [
    "これまで数値データを見てきたが、文字もデータとして扱うことができる。\n",
    "\n",
    "Hello, world!プログラムを思い出そう。Pythonでは両端をシングルクォーテーション（ ' ）またはダブルクォーテーション（ \" ）で囲うと、文字列データとなる。ただし両端の記号は合わせる必要がある。"
   ]
  },
  {
   "cell_type": "code",
   "execution_count": null,
   "id": "cf94f268",
   "metadata": {},
   "outputs": [],
   "source": []
  },
  {
   "cell_type": "markdown",
   "id": "4cea1c2a",
   "metadata": {},
   "source": [
    "文字列の中で ' または \" を使う場合は、両端の記号をそれとは違うものにする。"
   ]
  },
  {
   "cell_type": "code",
   "execution_count": null,
   "id": "9a37eec6",
   "metadata": {},
   "outputs": [],
   "source": []
  },
  {
   "cell_type": "markdown",
   "id": "9f7c19ea",
   "metadata": {},
   "source": [
    "日本語も扱うことができる。"
   ]
  },
  {
   "cell_type": "code",
   "execution_count": null,
   "id": "a0453ec7",
   "metadata": {},
   "outputs": [],
   "source": []
  },
  {
   "cell_type": "markdown",
   "id": "f8022cc9",
   "metadata": {},
   "source": [
    "先ほど学んだ変数を使ってみよう。"
   ]
  },
  {
   "cell_type": "code",
   "execution_count": null,
   "id": "04e70188",
   "metadata": {},
   "outputs": [],
   "source": []
  },
  {
   "cell_type": "markdown",
   "id": "17cf1b0c",
   "metadata": {},
   "source": [
    "文字列においても `+` 演算子を使うことができる。文字列の場合は、連結を表す。"
   ]
  },
  {
   "cell_type": "code",
   "execution_count": null,
   "id": "0472ea0f",
   "metadata": {},
   "outputs": [],
   "source": []
  },
  {
   "cell_type": "markdown",
   "id": "f6a4e6a8",
   "metadata": {},
   "source": [
    "### f文字列"
   ]
  },
  {
   "cell_type": "markdown",
   "id": "cee86d96",
   "metadata": {},
   "source": [
    "上の `greeting` で行ったように、変数と組み合わせて表示用の文字列を加工する操作はよく行われる。\n",
    "このとき便利なのが**f文字列**である。\n",
    "これについては実際に使っているところを見せるのが早いだろう。"
   ]
  },
  {
   "cell_type": "code",
   "execution_count": null,
   "id": "64d0b7ab",
   "metadata": {},
   "outputs": [],
   "source": []
  },
  {
   "cell_type": "markdown",
   "id": "75ccb437",
   "metadata": {},
   "source": [
    "普通の文字列との違いは、先頭に `f` がついていることである。このとき波括弧 `{ }` で囲った部分は式と見なされ、評価した結果の値に置き換えられる。例えば変数の場合は、それの指し示すデータに置き換えられる。"
   ]
  },
  {
   "cell_type": "code",
   "execution_count": null,
   "id": "66323bea",
   "metadata": {},
   "outputs": [],
   "source": []
  },
  {
   "cell_type": "markdown",
   "id": "f22732bd",
   "metadata": {},
   "source": [
    "数式の場合の例を次に示す。"
   ]
  },
  {
   "cell_type": "code",
   "execution_count": null,
   "id": "b2dbd9e4",
   "metadata": {},
   "outputs": [],
   "source": []
  },
  {
   "cell_type": "code",
   "execution_count": null,
   "id": "a00d4f35",
   "metadata": {},
   "outputs": [],
   "source": []
  },
  {
   "cell_type": "markdown",
   "id": "0cb83c6c",
   "metadata": {},
   "source": [
    "小数の表示を第2位までにするには、`{式 : .2f}` と書く。"
   ]
  },
  {
   "cell_type": "code",
   "execution_count": null,
   "id": "126685d9",
   "metadata": {},
   "outputs": [],
   "source": []
  },
  {
   "cell_type": "markdown",
   "id": "7389eaf7",
   "metadata": {},
   "source": [
    "表示の整形のための記法は他にも色々とある。必要となったときに逐一調べると良いだろう。"
   ]
  },
  {
   "cell_type": "markdown",
   "id": "2106d42b",
   "metadata": {},
   "source": [
    "```{admonition} Pythonのバージョン\n",
    ":class: note\n",
    "f文字列は、Pythonのバージョン3.6から利用可能になった機能である。\n",
    "Google Colab以外の環境ではPythonのバージョンが3.6未満のこともあるが、そのときはPythonをバージョンアップしてからf文字列を利用する必要がある。\n",
    "```"
   ]
  },
  {
   "cell_type": "markdown",
   "id": "e37d023e",
   "metadata": {},
   "source": [
    "### エスケープシーケンス"
   ]
  },
  {
   "cell_type": "markdown",
   "id": "3cfc414f",
   "metadata": {},
   "source": [
    "文字列データで改行を表したいとする。愚直に書くと次のようにエラーになる。"
   ]
  },
  {
   "cell_type": "code",
   "execution_count": null,
   "id": "ce3cba2a",
   "metadata": {
    "scrolled": true
   },
   "outputs": [],
   "source": [
    "message = \"こんにちは。\n",
    "今日の気温は15度です。\""
   ]
  },
  {
   "cell_type": "markdown",
   "id": "bf8e8af9",
   "metadata": {},
   "source": [
    "改行を表現するには**エスケープシーケンス**を用いる。まずは次の2つを覚えておけばよい。"
   ]
  },
  {
   "cell_type": "markdown",
   "id": "09cda7af",
   "metadata": {},
   "source": [
    "|  エスケープシーケンス  |  意味 |\n",
    "| ---- | ---- |\n",
    "|  `\\n`  |  改行  |\n",
    "|  `\\t`  |  タブ  |"
   ]
  },
  {
   "cell_type": "markdown",
   "id": "391a4bdc",
   "metadata": {},
   "source": [
    "エスケープシーケンスを用いれば、上の例は次のように修正できる。なお、`print()`を使わないと`\\n`がそのまま表示されてしまうので、ここでは`print()`を用いる。"
   ]
  },
  {
   "cell_type": "code",
   "execution_count": null,
   "id": "b62a5455",
   "metadata": {},
   "outputs": [],
   "source": []
  },
  {
   "cell_type": "markdown",
   "id": "f44f3e72",
   "metadata": {},
   "source": [
    "```{admonition} \\\\ と ¥\n",
    ":class: note\n",
    "MacやLinuxにおいて \\\\ に相当する記号は、Windowsでは ¥ になる。Windowsを使っている方は、適宜 \\\\ を ¥ に読み替えてほしい。例えば、改行を表すエスケープシーケンスは、Windowsでは ¥n である。\n",
    "```"
   ]
  },
  {
   "cell_type": "markdown",
   "id": "f1ed574d",
   "metadata": {},
   "source": [
    "```{admonition} コードの改行\n",
    ":class: note\n",
    "コードの1行が長くなると、2行に分けて記述したくなることがある。そんなときは文末に`\\`と入力すると、次の行に継続してコードを書くことができる。例えば、\n",
    "<pre>\n",
    "calc = 1 + 2 + \\\n",
    "    3 + 4 + 5\n",
    "message = \"The place is \" + \\\n",
    "    \"beautiful.\"</pre>\n",
    "は次のコードと同じ意味になる。\n",
    "<pre>\n",
    "calc = 1 + 2 + 3 + 4 + 5\n",
    "message = \"The place is \" + \"beautiful.\"</pre>\n",
    "```"
   ]
  },
  {
   "cell_type": "markdown",
   "id": "040e7015",
   "metadata": {},
   "source": [
    "## コメント"
   ]
  },
  {
   "cell_type": "markdown",
   "id": "ef65352b",
   "metadata": {},
   "source": [
    "プログラムにはコメントをつけることができる。\n",
    "\n",
    "`#` を入力すると、その行のそれ以降の文字はコメントとなり、Pythonの実行対象とならない。"
   ]
  },
  {
   "cell_type": "code",
   "execution_count": null,
   "id": "c1644a0d",
   "metadata": {},
   "outputs": [],
   "source": [
    "# これはコメントです。\n",
    "\n",
    "r = 5\n",
    "pi = 3.14\n",
    "pi * r ** 2  # 円の面積の計算"
   ]
  },
  {
   "cell_type": "markdown",
   "id": "77ddd6d2",
   "metadata": {},
   "source": [
    "下のプログラムにコメントを書き加えてみよう。"
   ]
  },
  {
   "cell_type": "code",
   "execution_count": null,
   "id": "751c9dd9",
   "metadata": {},
   "outputs": [],
   "source": [
    "m = (1 + 2 + 3 + 4 + 5) / 5\n",
    "m"
   ]
  },
  {
   "cell_type": "markdown",
   "id": "24452f5c",
   "metadata": {},
   "source": [
    "## エラーと対処法"
   ]
  },
  {
   "cell_type": "markdown",
   "id": "147136e2",
   "metadata": {},
   "source": [
    "これまでプログラムを実行してきて、何度かエラーに遭遇したのではないだろうか。\n",
    "エラーの原因をつきとめて修正する作業のことを**デバッグ**という。\n",
    "\n",
    "ここではよくあるエラーを紹介する。\n",
    "原因を考えながらエラーメッセージを読み、デバッグしてみよう。"
   ]
  },
  {
   "cell_type": "markdown",
   "id": "eeaa7df1",
   "metadata": {},
   "source": [
    "**例1: 誤字**"
   ]
  },
  {
   "cell_type": "code",
   "execution_count": null,
   "id": "af4e71de",
   "metadata": {},
   "outputs": [],
   "source": [
    "primt(\"Hello, world!\")"
   ]
  },
  {
   "cell_type": "markdown",
   "id": "dbb3aace",
   "metadata": {},
   "source": [
    "エラーメッセージには、primtという変数は定義されていないと書かれている。\n",
    "このような場合は、タイピングミスをしていないか確認しよう。"
   ]
  },
  {
   "cell_type": "markdown",
   "id": "a64d9f5c",
   "metadata": {},
   "source": [
    "**例2: 全角文字**"
   ]
  },
  {
   "cell_type": "code",
   "execution_count": null,
   "id": "12900017",
   "metadata": {},
   "outputs": [],
   "source": [
    "print(\"Hello, world!\"）"
   ]
  },
  {
   "cell_type": "markdown",
   "id": "74d08b1f",
   "metadata": {},
   "source": [
    "エラーメッセージには、無効な文字 '）' があると書かれている。このような場合は、全角文字を使っていないか確認しよう。\n",
    "\n",
    "全角文字にまつわるエラーは、目で見てもよくわからないことがあるので厄介である。\n",
    "次のエラーの原因がわかるだろうか？"
   ]
  },
  {
   "cell_type": "code",
   "execution_count": null,
   "id": "de758a67",
   "metadata": {},
   "outputs": [],
   "source": [
    "print(\"Hello, world!\")　"
   ]
  },
  {
   "cell_type": "markdown",
   "id": "f41e1597",
   "metadata": {},
   "source": [
    "**例3: インデント**"
   ]
  },
  {
   "cell_type": "code",
   "execution_count": null,
   "id": "5710c613",
   "metadata": {},
   "outputs": [],
   "source": [
    " message = \"Hello, world!\"\n",
    "    print(message)"
   ]
  },
  {
   "cell_type": "markdown",
   "id": "ad455783",
   "metadata": {},
   "source": [
    "エラーメッセージには、予期せぬインデントがあると書かれている。行頭に空白文字を入れて、字下げを行うことを**インデント**と言う。\n",
    "Pythonではインデントも文法の一部であり、後々if文や、for文などブロックを伴う構文を書くときに重要な役割を果たす。\n",
    "しばらくはインデントは使わず、左端を揃えてコードを書くようにしよう。"
   ]
  },
  {
   "cell_type": "markdown",
   "id": "9da95981",
   "metadata": {},
   "source": [
    "```{admonition} エラーが解決できなかったら？\n",
    ":class: tip\n",
    "もし自力で解決できそうにないエラーに遭遇したら、エラーメッセージを検索してみよう。多くの場合、解決のためのヒントが見つかるだろう。\n",
    "```"
   ]
  },
  {
   "cell_type": "markdown",
   "id": "85103cc0",
   "metadata": {},
   "source": [
    "## 演習"
   ]
  },
  {
   "cell_type": "markdown",
   "id": "1a2a2fd5",
   "metadata": {},
   "source": [
    "**課題1**  \n",
    "最初の2つは1で、3つ目以降は「前の2つを足したもの」になる数列のことをフィボナッチ数列という。\n",
    "初項から順に以下のようになる。\n",
    "<pre>\n",
    "1, 1, 2, 3, 5, 8, 13, 21, 34, 55, ...</pre>\n",
    "\n",
    "フィボナッチ数列の $n$ 番目の数は、次のように書けることが知られている。"
   ]
  },
  {
   "cell_type": "markdown",
   "id": "39cfa001",
   "metadata": {},
   "source": [
    "$$\n",
    "  F_n = \\frac{1}{\\sqrt{5}}\\left\\{\\left(\\frac{1 + \\sqrt{5}}{2}\\right)^n - \\left(\\frac{1 - \\sqrt{5}}{2}\\right)^n\\right\\}\n",
    "$$"
   ]
  },
  {
   "cell_type": "markdown",
   "id": "6730472a",
   "metadata": {},
   "source": [
    "この公式を用いて30番目の数を求めて、結果の整数を提出しなさい。\n",
    "\n",
    "なお式の途中に小数の現れる計算では、小さな誤差が生じることがある。計算結果にわずかな小数が含まれると思うが、四捨五入して整数部分を答えればよい。   <font color=cornflowerblue>ヒント: 答えの下2桁は40</font>"
   ]
  },
  {
   "cell_type": "code",
   "execution_count": null,
   "id": "d3174993",
   "metadata": {},
   "outputs": [],
   "source": []
  },
  {
   "cell_type": "markdown",
   "id": "d397c40d",
   "metadata": {},
   "source": [
    "```{admonition} テスト\n",
    ":class: note\n",
    "結果のわかっている場合を例に、プログラムの正しさを確かめることを**テスト**という。\n",
    "上の例では、$n = 10$ までの結果は例として与えられているので、これらを用いてテストできる。\n",
    "テストしやすくするためにも $F_n$ の式は変数 $n$ を使った形で記述するとよい。\n",
    "```"
   ]
  }
 ],
 "metadata": {
  "kernelspec": {
   "display_name": "Python 3 (ipykernel)",
   "language": "python",
   "name": "python3"
  },
  "language_info": {
   "codemirror_mode": {
    "name": "ipython",
    "version": 3
   },
   "file_extension": ".py",
   "mimetype": "text/x-python",
   "name": "python",
   "nbconvert_exporter": "python",
   "pygments_lexer": "ipython3",
   "version": "3.9.5"
  },
  "vscode": {
   "interpreter": {
    "hash": "aee8b7b246df8f9039afb4144a1f6fd8d2ca17a180786b69acc140d282b71a49"
   }
  }
 },
 "nbformat": 4,
 "nbformat_minor": 5
}
