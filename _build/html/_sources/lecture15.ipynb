{
 "cells": [
  {
   "cell_type": "markdown",
   "id": "52b9c04c",
   "metadata": {},
   "source": [
    "# 第15回 総合演習"
   ]
  },
  {
   "cell_type": "markdown",
   "id": "0f3467e6",
   "metadata": {},
   "source": [
    "___\n",
    "[![Open In Colab](https://colab.research.google.com/assets/colab-badge.svg)](https://colab.research.google.com/github/tsuboshun/begin-python/blob/gh-pages/workbook/lecture15.ipynb)\n",
    "\n",
    "___"
   ]
  },
  {
   "cell_type": "markdown",
   "id": "9ba5723c",
   "metadata": {},
   "source": [
    "## この授業で学ぶこと"
   ]
  },
  {
   "cell_type": "markdown",
   "id": "49246d72",
   "metadata": {},
   "source": [
    "これまで学んだ内容の総合演習として、分析内容を自分で考えながら、自由にデータ分析する経験をしてもらう。"
   ]
  },
  {
   "cell_type": "markdown",
   "id": "7cb00446",
   "metadata": {},
   "source": [
    "### 課題"
   ]
  },
  {
   "cell_type": "markdown",
   "id": "a08915dc",
   "metadata": {},
   "source": [
    "ToyoNet-ACEの授業ページから `data.csv` と、データの内容を説明した `README.txt` をダウンロードし、自由にデータ分析して得られた知見をまとめなさい。以下の条件を満たした上で丁寧に取り組んでいれば、簡単な内容でも高く評価する。今回に限り、ChatGPTなどの生成AIと相談しながら分析を行ってもよい。\n",
    "\n",
    "**条件**  \n",
    "- プロットを2つ以上描き、それぞれについて軸ラベル、タイトルをつけた上で、テキストセルに簡単な説明も書きなさい。\n",
    "  - プロット画像をダウンロードする必要はなく、`plt.show()` によりプロットをノートブック上に表示させた状態にしておけばよい。\n",
    "- ノートブックをPDF、ipynbの両方の形式でダウンロードして、それぞれ提出しなさい。\n",
    "  - PDF形式でダウンロードするには、メニューバーから「ファイル > 印刷」を選択し、印刷ウィンドウの送信先から「PDFに保存」を選択して保存を押す。\n",
    "  - ipynb形式でダウンロードするには、メニューバーから「ファイル > ダウンロード」を選択し、「.ipynbをダウンロード」を選択する。\n",
    "- 分析の過程や途中経過も残しておいて良いが、見やすいように体裁を整えてから提出すること。\n",
    "- 他人の提出物のコピーを提出した場合は、大幅に減点する可能性がある。\n",
    "\n",
    "**データの読み込み方**  \n",
    "- 第12回を参考にしながら、`data.csv` をGoogle Colabにアップロードする。\n",
    "- `pd.read_csv()` によりCSVをデータフレームとして読み込む。ノートブックには既にそのようなコードを用意している。"
   ]
  }
 ],
 "metadata": {
  "kernelspec": {
   "display_name": "Python 3 (ipykernel)",
   "language": "python",
   "name": "python3"
  },
  "language_info": {
   "codemirror_mode": {
    "name": "ipython",
    "version": 3
   },
   "file_extension": ".py",
   "mimetype": "text/x-python",
   "name": "python",
   "nbconvert_exporter": "python",
   "pygments_lexer": "ipython3",
   "version": "3.12.1"
  },
  "vscode": {
   "interpreter": {
    "hash": "aee8b7b246df8f9039afb4144a1f6fd8d2ca17a180786b69acc140d282b71a49"
   }
  }
 },
 "nbformat": 4,
 "nbformat_minor": 5
}
