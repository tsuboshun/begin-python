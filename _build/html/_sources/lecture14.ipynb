{
 "cells": [
  {
   "cell_type": "markdown",
   "id": "52b9c04c",
   "metadata": {},
   "source": [
    "# 第14回 データの読み方"
   ]
  },
  {
   "cell_type": "markdown",
   "id": "0f3467e6",
   "metadata": {},
   "source": [
    "___\n",
    "[![Open In Colab](https://colab.research.google.com/assets/colab-badge.svg)](https://colab.research.google.com/github/tsuboshun/begin-python/blob/gh-pages/_sources/workbook/lecture14.ipynb)\n",
    "\n",
    "___"
   ]
  },
  {
   "cell_type": "markdown",
   "id": "9ba5723c",
   "metadata": {},
   "source": [
    "## この授業で学ぶこと"
   ]
  },
  {
   "cell_type": "markdown",
   "id": "49246d72",
   "metadata": {},
   "source": [
    "準備中"
   ]
  },
  {
   "cell_type": "markdown",
   "id": "2755a555",
   "metadata": {},
   "source": [
    "### 準備"
   ]
  },
  {
   "cell_type": "code",
   "execution_count": null,
   "id": "71853a06",
   "metadata": {},
   "outputs": [],
   "source": [
    "pip install japanize_matplotlib"
   ]
  },
  {
   "cell_type": "code",
   "execution_count": null,
   "id": "4d4f6dac",
   "metadata": {},
   "outputs": [],
   "source": [
    "import matplotlib.pyplot as plt\n",
    "import numpy as np\n",
    "import pandas as pd\n",
    "import seaborn as sns\n",
    "from sklearn.linear_model import LinearRegression\n",
    "import japanize_matplotlib\n",
    "\n",
    "import ssl  ## Google Colab上では不要\n",
    "ssl._create_default_https_context = ssl._create_unverified_context"
   ]
  },
  {
   "cell_type": "code",
   "execution_count": null,
   "id": "18917889",
   "metadata": {},
   "outputs": [],
   "source": [
    "sample_data = np.random.normal(\n",
    "    loc   = 10,        # 平均\n",
    "    scale = 2,         # 標準偏差\n",
    "    size  = 1000,   # 配列のサイズ\n",
    ")"
   ]
  },
  {
   "cell_type": "code",
   "execution_count": null,
   "id": "8f96b953",
   "metadata": {},
   "outputs": [],
   "source": [
    "df_titanic = sns.load_dataset('titanic')\n",
    "df_diamond = sns.load_dataset('diamonds')"
   ]
  },
  {
   "cell_type": "markdown",
   "id": "17e959c6",
   "metadata": {},
   "source": [
    "## データの分布と代表値"
   ]
  },
  {
   "cell_type": "code",
   "execution_count": null,
   "id": "6b341ba3",
   "metadata": {},
   "outputs": [],
   "source": [
    "# プロットの入れ物の用意\n",
    "fig, ax = plt.subplots()\n",
    "\n",
    "# データの用意\n",
    "x = sample_data\n",
    "\n",
    "# ヒストグラムのプロット\n",
    "ax.hist(x, bins=20, range=(0, 20))\n",
    "\n",
    "# 表示\n",
    "plt.show()"
   ]
  },
  {
   "cell_type": "code",
   "execution_count": null,
   "id": "b0316c11",
   "metadata": {},
   "outputs": [],
   "source": []
  },
  {
   "cell_type": "markdown",
   "id": "9855e9f4",
   "metadata": {},
   "source": [
    "## データの種類"
   ]
  },
  {
   "cell_type": "code",
   "execution_count": null,
   "id": "91cf9b59",
   "metadata": {},
   "outputs": [],
   "source": [
    "# プロットの入れ物の用意\n",
    "fig, ax = plt.subplots()\n",
    "\n",
    "# データの用意\n",
    "x = df_diamond[\"price\"].values\n",
    "\n",
    "# ヒストグラムのプロット\n",
    "ax.hist(x)\n",
    "\n",
    "# 表示\n",
    "plt.show()"
   ]
  },
  {
   "cell_type": "code",
   "execution_count": null,
   "id": "bc58f394",
   "metadata": {},
   "outputs": [],
   "source": []
  },
  {
   "cell_type": "markdown",
   "id": "934f9cd2",
   "metadata": {},
   "source": [
    "## 層別分析"
   ]
  },
  {
   "cell_type": "code",
   "execution_count": null,
   "id": "d332ff7f",
   "metadata": {
    "scrolled": true
   },
   "outputs": [],
   "source": [
    "# プロットの入れ物の用意\n",
    "fig, ax = plt.subplots()\n",
    "\n",
    "# データの用意\n",
    "x = df_titanic[\"sex\"].values\n",
    "y = df_titanic[\"survived\"].values\n",
    "hue = df_titanic[\"pclass\"].values\n",
    "\n",
    "# 棒グラフのプロット\n",
    "sns.barplot(x=x, y=y, hue=hue, hue_order=[1, 2, 3], ax=ax)\n",
    "\n",
    "# 表示\n",
    "plt.show()"
   ]
  },
  {
   "cell_type": "code",
   "execution_count": null,
   "id": "1568abc7",
   "metadata": {},
   "outputs": [],
   "source": []
  },
  {
   "cell_type": "markdown",
   "id": "7551f3d7",
   "metadata": {},
   "source": [
    "## 発展: 相関と因果"
   ]
  },
  {
   "cell_type": "code",
   "execution_count": null,
   "id": "10ac4a44",
   "metadata": {},
   "outputs": [],
   "source": [
    "# プロットの入れ物の用意\n",
    "fig, ax = plt.subplots()\n",
    "\n",
    "# データの用意\n",
    "x = df_diamond[\"cut\"].values\n",
    "y = df_diamond[\"price\"].values\n",
    "\n",
    "# 棒グラフのプロット\n",
    "sns.barplot(x=x, y=y, order=[\"Fair\", \"Good\", \"Very Good\", \"Premium\", \"Ideal\"], ax=ax)\n",
    "\n",
    "# 表示\n",
    "plt.show()"
   ]
  },
  {
   "cell_type": "code",
   "execution_count": null,
   "id": "b036c457",
   "metadata": {},
   "outputs": [],
   "source": [
    "# プロットの入れ物の用意\n",
    "fig, ax = plt.subplots()\n",
    "\n",
    "# データの用意\n",
    "x = df_diamond[\"price\"]\n",
    "y = df_diamond[\"carat\"]\n",
    "\n",
    "# 散布図\n",
    "ax.scatter(x, y, alpha=0.01)\n",
    "\n",
    "# 軸の設定（対数スケール）\n",
    "ax.set_xscale('log')\n",
    "ax.set_yscale('log')\n",
    "\n",
    "# 表示\n",
    "plt.show()"
   ]
  },
  {
   "cell_type": "code",
   "execution_count": null,
   "id": "1f0e1aab",
   "metadata": {},
   "outputs": [],
   "source": [
    "df_diamond[\"price_log\"] = np.log(df_diamond[\"price\"])\n",
    "df_diamond[\"carat_log\"] = np.log(df_diamond[\"carat\"])"
   ]
  },
  {
   "cell_type": "code",
   "execution_count": null,
   "id": "06e07248",
   "metadata": {},
   "outputs": [],
   "source": [
    "# データの用意\n",
    "x = df_diamond[[\"carat_log\"]].values\n",
    "y = df_diamond[\"price_log\"].values\n",
    "\n",
    "# 線型回帰モデルの用意\n",
    "lr = LinearRegression()\n",
    "\n",
    "# モデルのパラメータのフィッティング\n",
    "lr.fit(x, y)\n",
    "\n",
    "# 予測の残差\n",
    "df_diamond[\"residual\"] = y - lr.predict(x)"
   ]
  },
  {
   "cell_type": "code",
   "execution_count": null,
   "id": "6bb0717f",
   "metadata": {},
   "outputs": [],
   "source": [
    "# プロットの入れ物の用意\n",
    "fig, ax = plt.subplots()\n",
    "\n",
    "# データの用意\n",
    "x = df_diamond[\"residual\"].values\n",
    "\n",
    "# ヒストグラムのプロット\n",
    "ax.hist(x)\n",
    "\n",
    "# 表示\n",
    "plt.show()"
   ]
  },
  {
   "cell_type": "code",
   "execution_count": null,
   "id": "f7ed4701",
   "metadata": {},
   "outputs": [],
   "source": [
    "# プロットの入れ物の用意\n",
    "fig, ax = plt.subplots()\n",
    "\n",
    "# データの用意\n",
    "x = df_diamond[\"cut\"].values\n",
    "y = df_diamond[\"residual\"].values\n",
    "\n",
    "# 棒グラフのプロット\n",
    "sns.barplot(x=x, y=y, order=[\"Fair\", \"Good\", \"Very Good\", \"Premium\", \"Ideal\"])\n",
    "\n",
    "# 表示\n",
    "plt.show()"
   ]
  },
  {
   "cell_type": "code",
   "execution_count": null,
   "id": "3ad07928",
   "metadata": {},
   "outputs": [],
   "source": []
  }
 ],
 "metadata": {
  "kernelspec": {
   "display_name": "Python 3 (ipykernel)",
   "language": "python",
   "name": "python3"
  },
  "language_info": {
   "codemirror_mode": {
    "name": "ipython",
    "version": 3
   },
   "file_extension": ".py",
   "mimetype": "text/x-python",
   "name": "python",
   "nbconvert_exporter": "python",
   "pygments_lexer": "ipython3",
   "version": "3.9.5"
  },
  "vscode": {
   "interpreter": {
    "hash": "aee8b7b246df8f9039afb4144a1f6fd8d2ca17a180786b69acc140d282b71a49"
   }
  }
 },
 "nbformat": 4,
 "nbformat_minor": 5
}
