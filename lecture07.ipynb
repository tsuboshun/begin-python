{
 "cells": [
  {
   "cell_type": "markdown",
   "id": "52b9c04c",
   "metadata": {},
   "source": [
    "# 第7回 データの入れ物"
   ]
  },
  {
   "cell_type": "markdown",
   "id": "0f3467e6",
   "metadata": {},
   "source": [
    "___\n",
    "[![Open In Colab](https://colab.research.google.com/assets/colab-badge.svg)](https://colab.research.google.com/github/tsuboshun/begin-python/blob/gh-pages/_sources/workbook/lecture07.ipynb)\n",
    "\n",
    "___"
   ]
  },
  {
   "cell_type": "markdown",
   "id": "9ba5723c",
   "metadata": {},
   "source": [
    "## この授業で学ぶこと"
   ]
  },
  {
   "cell_type": "markdown",
   "id": "49246d72",
   "metadata": {},
   "source": [
    "（このノートは準備中）\n",
    "\n",
    "第4回の授業で、複数のデータをまとめるためのデータ型としてリスト型を紹介した。\n",
    "Pythonにはリスト型の他にも、データの入れ物の役割を果たすデータ型がいくつか存在する。\n",
    "今回はそれらの使い方を学ぶ。"
   ]
  },
  {
   "cell_type": "markdown",
   "id": "d91d65b8",
   "metadata": {},
   "source": [
    "## データの入れ物"
   ]
  },
  {
   "cell_type": "markdown",
   "id": "b0835c91",
   "metadata": {},
   "source": [
    "リスト型のようにデータの入れ物の役割を果たす組み込み型として、他にも**辞書型**（**dict**）、**タプル型**（**tuple**）、**セット型**（**set**）などがある。\n",
    "はじめのうちはリスト型と辞書型を使いこなすことが重要なので、これらに重点的を置きつつ一通り説明する。\n",
    "リスト型は改めての説明になるが、第4回の内容より一歩踏み込んで学ぶ。"
   ]
  },
  {
   "cell_type": "markdown",
   "id": "c856ee5d",
   "metadata": {},
   "source": [
    "### リスト型"
   ]
  },
  {
   "cell_type": "markdown",
   "id": "2a922464",
   "metadata": {},
   "source": [
    "第4回で学んだ通り、リストはデータを `,` で区切り、両端を `[]` で囲うことで作成できる。"
   ]
  },
  {
   "cell_type": "code",
   "execution_count": null,
   "id": "10f1fb88",
   "metadata": {},
   "outputs": [],
   "source": [
    "x = [1, 2, 3, \"four\", 5]"
   ]
  },
  {
   "cell_type": "markdown",
   "id": "f54bb1af",
   "metadata": {},
   "source": [
    "インデックスによる要素のアクセス方法も確認しておこう。上の例で `\"four\"` や `5` を取り出すには、以下のようにインデックスを指定する。"
   ]
  },
  {
   "cell_type": "code",
   "execution_count": null,
   "id": "4de1b985",
   "metadata": {},
   "outputs": [],
   "source": [
    "x[3]"
   ]
  },
  {
   "cell_type": "code",
   "execution_count": null,
   "id": "4373c085",
   "metadata": {},
   "outputs": [],
   "source": [
    "print(x[4])\n",
    "print(x[-1])"
   ]
  },
  {
   "cell_type": "markdown",
   "id": "a23b29f2",
   "metadata": {},
   "source": [
    "#### 要素の追加と変更"
   ]
  },
  {
   "cell_type": "markdown",
   "id": "9ec58daa",
   "metadata": {},
   "source": [
    "今回新たに要素の追加方法を学ぶ。\n",
    "よく使われるのが要素を末尾に追加する方法で、`append()` メソッドを用いる。\n",
    "`append()` は、引数に渡されたデータをリストの末尾に追加する。"
   ]
  },
  {
   "cell_type": "code",
   "execution_count": null,
   "id": "fb12f026",
   "metadata": {},
   "outputs": [],
   "source": [
    "x.append(6)\n",
    "x"
   ]
  },
  {
   "cell_type": "markdown",
   "id": "8dc6739a",
   "metadata": {},
   "source": [
    "要素を特定の位置に挿入するには `insert()` メソッドを用いる。`insert()` は、第一引数にインデックス、第二引数にデータを受け取る。"
   ]
  },
  {
   "cell_type": "code",
   "execution_count": null,
   "id": "edc6e3d3",
   "metadata": {},
   "outputs": [],
   "source": [
    "x.insert(0, \"zero\")\n",
    "print(x)\n",
    "x.insert(2, \"1/2\")\n",
    "print(x)"
   ]
  },
  {
   "cell_type": "markdown",
   "id": "187e7b05",
   "metadata": {},
   "source": [
    "末尾に他のリストを連結するには `extend()` メソッドを用いる。 `extend()`は、引数に渡されたリストを自身の末尾に連結する。"
   ]
  },
  {
   "cell_type": "code",
   "execution_count": null,
   "id": "c45a7a62",
   "metadata": {},
   "outputs": [],
   "source": [
    "x.extend([7, 8])\n",
    "x"
   ]
  },
  {
   "cell_type": "markdown",
   "id": "943ef698",
   "metadata": {},
   "source": [
    "リストの連結は `+` 演算子によっても実現できる。`extend()` メソッドと違って、新しいリストが作成されることに注意する。"
   ]
  },
  {
   "cell_type": "code",
   "execution_count": null,
   "id": "2120691a",
   "metadata": {},
   "outputs": [],
   "source": [
    "y = x + [9, 10]\n",
    "print(y)\n",
    "print(x)  # x自身は変わらない"
   ]
  },
  {
   "cell_type": "markdown",
   "id": "e29a4c92",
   "metadata": {},
   "source": [
    "代入文により要素を変更することもできる。"
   ]
  },
  {
   "cell_type": "code",
   "execution_count": null,
   "id": "03fa0dd1",
   "metadata": {
    "scrolled": true
   },
   "outputs": [],
   "source": [
    "x[0] = 0\n",
    "print(x)\n",
    "x[3] = '2'\n",
    "print(x)"
   ]
  },
  {
   "cell_type": "markdown",
   "id": "df9f58ab",
   "metadata": {},
   "source": [
    "#### 要素の削除"
   ]
  },
  {
   "cell_type": "markdown",
   "id": "26011c87",
   "metadata": {},
   "source": [
    "要素を削除するには `pop()` または `remove()` メソッドを用いる。`pop()` メソッドは引数で指定した位置の要素をリストから削除し、その値を戻り値として返す。"
   ]
  },
  {
   "cell_type": "code",
   "execution_count": null,
   "id": "93345033",
   "metadata": {},
   "outputs": [],
   "source": [
    "elem = x.pop(3)\n",
    "print(elem)\n",
    "print(x)"
   ]
  },
  {
   "cell_type": "markdown",
   "id": "8e775e45",
   "metadata": {},
   "source": [
    "`remove()` メソッドは引数で指定した値と同じ値の要素を検索し、（複数ある場合は）そのうち一番左の要素を削除する。戻り値はない。"
   ]
  },
  {
   "cell_type": "code",
   "execution_count": null,
   "id": "d923d1a4",
   "metadata": {},
   "outputs": [],
   "source": [
    "print(x)\n",
    "x.append(\"four\")\n",
    "print(x)\n",
    "x.remove(\"four\")\n",
    "print(x)"
   ]
  },
  {
   "cell_type": "markdown",
   "id": "9c5bf711",
   "metadata": {},
   "source": [
    "#### スライス"
   ]
  },
  {
   "cell_type": "markdown",
   "id": "9fea9994",
   "metadata": {},
   "source": [
    "リストに入っている要素のうち、連続した複数の要素を取り出すために用いられるのが**スライス**である。\n",
    "整数 `i`、`j` を用いてリストに対して `[i:j]` と要素を指定すると、インデックスについて `i` から `j-1` までの要素を切り出すことができる。"
   ]
  },
  {
   "cell_type": "code",
   "execution_count": null,
   "id": "4b001520",
   "metadata": {
    "scrolled": false
   },
   "outputs": [],
   "source": [
    "x = [1, 2, 3, \"four\", 5]\n",
    "print(x[1:4])"
   ]
  },
  {
   "cell_type": "markdown",
   "id": "cd4a8078",
   "metadata": {},
   "source": [
    "```{figure} ./pic/slice.png\n",
    "---\n",
    "width: 550px\n",
    "name: index\n",
    "---\n",
    "スライス（[1:4]と指定した場合）\n",
    "```"
   ]
  },
  {
   "cell_type": "markdown",
   "id": "1550b405",
   "metadata": {},
   "source": [
    "## 演習"
   ]
  },
  {
   "cell_type": "code",
   "execution_count": null,
   "id": "d8dc9fb5",
   "metadata": {
    "tags": [
     "hide-output"
    ]
   },
   "outputs": [],
   "source": [
    "pip install nltk"
   ]
  },
  {
   "cell_type": "code",
   "execution_count": null,
   "id": "c5ef1551",
   "metadata": {},
   "outputs": [],
   "source": [
    "import nltk\n",
    "alice = nltk.text.Text(nltk.corpus.gutenberg.words('carroll-alice.txt'))"
   ]
  },
  {
   "cell_type": "code",
   "execution_count": null,
   "id": "4eb0d734",
   "metadata": {
    "scrolled": false
   },
   "outputs": [],
   "source": [
    "dic = dict()\n",
    "for a in alice:\n",
    "    for e in a:\n",
    "        key = e.lower()\n",
    "        if key in dic:\n",
    "            dic[key] += 1\n",
    "        else:\n",
    "            dic[key] = 1\n",
    "    \n",
    "# valueに基づいてキーをソートし、上位10個を取得\n",
    "sorted_keys = sorted(dic, key=dic.get, reverse=True)[:10]\n",
    "\n",
    "# 上位10個のキーを表示\n",
    "print(sorted_keys)"
   ]
  }
 ],
 "metadata": {
  "kernelspec": {
   "display_name": "Python 3 (ipykernel)",
   "language": "python",
   "name": "python3"
  },
  "language_info": {
   "codemirror_mode": {
    "name": "ipython",
    "version": 3
   },
   "file_extension": ".py",
   "mimetype": "text/x-python",
   "name": "python",
   "nbconvert_exporter": "python",
   "pygments_lexer": "ipython3",
   "version": "3.9.5"
  },
  "vscode": {
   "interpreter": {
    "hash": "aee8b7b246df8f9039afb4144a1f6fd8d2ca17a180786b69acc140d282b71a49"
   }
  }
 },
 "nbformat": 4,
 "nbformat_minor": 5
}
