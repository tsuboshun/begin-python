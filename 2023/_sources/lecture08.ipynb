{
 "cells": [
  {
   "cell_type": "markdown",
   "id": "52b9c04c",
   "metadata": {},
   "source": [
    "# 第8回 関数と再帰"
   ]
  },
  {
   "cell_type": "markdown",
   "id": "0f3467e6",
   "metadata": {},
   "source": [
    "___\n",
    "[![Open In Colab](https://colab.research.google.com/assets/colab-badge.svg)](https://colab.research.google.com/github/tsuboshun/begin-python/blob/gh-pages/2023/_sources/workbook/lecture08.ipynb)\n",
    "\n",
    "___"
   ]
  },
  {
   "cell_type": "markdown",
   "id": "9ba5723c",
   "metadata": {},
   "source": [
    "## この授業で学ぶこと"
   ]
  },
  {
   "cell_type": "markdown",
   "id": "448d9103",
   "metadata": {},
   "source": [
    "これまでPythonに既に用意された関数を利用してきたが、今回は新しく関数を定義する方法を学ぶ。\n",
    "また関数を反復的に呼び出すことで、繰り返し処理を行う手法である再帰について学ぶ。"
   ]
  },
  {
   "cell_type": "markdown",
   "id": "8f8a3666",
   "metadata": {},
   "source": [
    "## 関数"
   ]
  },
  {
   "cell_type": "markdown",
   "id": "22e945c0",
   "metadata": {},
   "source": [
    "### 関数の定義"
   ]
  },
  {
   "cell_type": "markdown",
   "id": "0f983825",
   "metadata": {},
   "source": [
    "第5回で作成したBMIの計算プログラムを例に、関数を作成してみよう。関数は**def文**により作成することができる。"
   ]
  },
  {
   "cell_type": "code",
   "execution_count": 1,
   "id": "6adfc5dc",
   "metadata": {},
   "outputs": [],
   "source": [
    "def bmi(a, b):   # aは身長[cm], bは体重[kg]\n",
    "    return 10000 * b / a ** 2"
   ]
  },
  {
   "cell_type": "code",
   "execution_count": 2,
   "id": "b8b7edf9",
   "metadata": {
    "scrolled": true
   },
   "outputs": [
    {
     "data": {
      "text/plain": [
       "25.50404037692287"
      ]
     },
     "execution_count": 2,
     "metadata": {},
     "output_type": "execute_result"
    }
   ],
   "source": [
    "bmi(193, 95)"
   ]
  },
  {
   "cell_type": "markdown",
   "id": "c30892c9",
   "metadata": {},
   "source": [
    "def文の書き方について解説する。上のコードを図で表すと次のようになる。"
   ]
  },
  {
   "cell_type": "markdown",
   "id": "11f5f272",
   "metadata": {},
   "source": [
    "```{figure} ./pic/def.png\n",
    "---\n",
    "width: 350px\n",
    "name: def\n",
    "---\n",
    "def文の書き方\n",
    "```"
   ]
  },
  {
   "cell_type": "markdown",
   "id": "8424f97b",
   "metadata": {},
   "source": [
    "`def` と書いたあとに空白を開けて関数名を書き、`()` の中に引数を表す変数名を書く。引数が複数ある場合は `,` で区切って並べる。\n",
    "def文の最後にコロン `:` を置いて、次の行からインデントを入れてブロックを作るのはif文やfor文と同じである。\n",
    "ブロックの中に関数が行う処理を書いていく。\n",
    "\n",
    "def文に特徴的なのは、基本的にブロックの最後に**return文**を書くことである。\n",
    "return文は `return 戻り値` という形式で記述する。\n",
    "処理がreturn文に到達すると、関数の処理はそこで終了となり、戻り値を返してブロックを抜ける。\n",
    "\n",
    "関数を使用する際には、基本的に引数の順番通りに値を渡す必要がある。\n",
    "例えば上の例で `bmi(193, 95)` と呼び出すと、引数に `a = 193`、`b = 95` が代入されてブロックの処理が行われる。\n",
    "したがって、`10000 * 95 / 193 ** 2` を計算した結果が戻り値として返される。\n",
    "\n",
    "ただし、引数を直接指定する**キーワード引数**という呼び出し方をする場合は、順番を気にしなくて良い。\n",
    "キーワード引数は、関数の使用時に次のように `引数名 = 値` という形式で書く。"
   ]
  },
  {
   "cell_type": "code",
   "execution_count": 3,
   "id": "bb8b33ec",
   "metadata": {},
   "outputs": [
    {
     "data": {
      "text/plain": [
       "25.50404037692287"
      ]
     },
     "execution_count": 3,
     "metadata": {},
     "output_type": "execute_result"
    }
   ],
   "source": [
    "bmi(b = 95, a = 193)"
   ]
  },
  {
   "cell_type": "markdown",
   "id": "e8c244f3",
   "metadata": {},
   "source": [
    "また関数を使用する際には、基本的に引数に値を渡す必要がある。ただし、**デフォルト引数**という方法を利用すると、あらかじめ引数に値を設定しておくことができ、関数の呼び出し時にその引数を省略することが可能になる。デフォルト引数は、関数の定義時に次のように `引数名 = デフォルト値` という形式で記述する。"
   ]
  },
  {
   "cell_type": "code",
   "execution_count": 4,
   "id": "411620a7",
   "metadata": {},
   "outputs": [],
   "source": [
    "def bmi(a = 157, b = 50):\n",
    "    return 10000 * b / a ** 2"
   ]
  },
  {
   "cell_type": "code",
   "execution_count": 5,
   "id": "1cbc95ca",
   "metadata": {},
   "outputs": [
    {
     "data": {
      "text/plain": [
       "20.28479857195018"
      ]
     },
     "execution_count": 5,
     "metadata": {},
     "output_type": "execute_result"
    }
   ],
   "source": [
    "bmi()"
   ]
  },
  {
   "cell_type": "code",
   "execution_count": 6,
   "id": "4c3aab29",
   "metadata": {},
   "outputs": [
    {
     "data": {
      "text/plain": [
       "25.50404037692287"
      ]
     },
     "execution_count": 6,
     "metadata": {},
     "output_type": "execute_result"
    }
   ],
   "source": [
    "bmi(193, 95)  # 引数に値を渡したら、デフォルト値よりこちらが優先される。"
   ]
  },
  {
   "cell_type": "markdown",
   "id": "b3e2d978",
   "metadata": {},
   "source": [
    "引数やreturn文のない関数もよく使われる。\n",
    "return文がない場合は、ブロックの最後まで実行してからブロックを抜ける。\n",
    "このとき戻り値がないことを表す `None` という値が返される。"
   ]
  },
  {
   "cell_type": "code",
   "execution_count": 7,
   "id": "2a3ac006",
   "metadata": {},
   "outputs": [],
   "source": [
    "def greeting():\n",
    "    print(\"Hi.\")"
   ]
  },
  {
   "cell_type": "code",
   "execution_count": 8,
   "id": "039c0915",
   "metadata": {},
   "outputs": [
    {
     "name": "stdout",
     "output_type": "stream",
     "text": [
      "Hi.\n"
     ]
    }
   ],
   "source": [
    "a = greeting()"
   ]
  },
  {
   "cell_type": "markdown",
   "id": "3419a745",
   "metadata": {},
   "source": [
    "ノートブックによる表示機能では何も表示されないが、`print()` することで `None` が代入されていることを確認できる。"
   ]
  },
  {
   "cell_type": "code",
   "execution_count": 9,
   "id": "76bc71f0",
   "metadata": {},
   "outputs": [],
   "source": [
    "a"
   ]
  },
  {
   "cell_type": "code",
   "execution_count": 10,
   "id": "66f0f4ef",
   "metadata": {},
   "outputs": [
    {
     "name": "stdout",
     "output_type": "stream",
     "text": [
      "None\n"
     ]
    }
   ],
   "source": [
    "print(a)"
   ]
  },
  {
   "cell_type": "markdown",
   "id": "9f24da6e",
   "metadata": {},
   "source": [
    "### スコープ"
   ]
  },
  {
   "cell_type": "markdown",
   "id": "20cfa4a6",
   "metadata": {},
   "source": [
    "次のプログラムを結果を予想しながら実行してみよう。"
   ]
  },
  {
   "cell_type": "code",
   "execution_count": 11,
   "id": "993382fa",
   "metadata": {},
   "outputs": [
    {
     "name": "stdout",
     "output_type": "stream",
     "text": [
      "2\n",
      "1\n"
     ]
    }
   ],
   "source": [
    "a = 1\n",
    "def func():\n",
    "    a = 2\n",
    "    print(a)\n",
    "        \n",
    "func()\n",
    "print(a)"
   ]
  },
  {
   "cell_type": "markdown",
   "id": "f4bd652e",
   "metadata": {},
   "source": [
    "コード上でオブジェクトが有効になる範囲のことを**スコープ**という。\n",
    "スコープにはいくつか種類があるが、その中でも**モジュールスコープ**と**ローカルスコープ**が重要である。\n",
    "ノートブックを起動するとモジュールスコープが始まる。\n",
    "ノートブックのセル上で変数を定義すると、他のセルからも参照できるのは、これらが同じモジュールスコープに属するためである。\n",
    "ただし関数内だけは別で、関数内はローカルスコープという独自のスコープを持つ。\n",
    "モジュールスコープに属する変数を**グローバル変数**、ローカルスコープに属する変数を**ローカル変数**という。\n",
    "\n",
    "上の例では、1行目の変数 `a` はモジュールスコープに属するグローバル変数である。\n",
    "一方で3行目の変数 `a` はローカルスコープに属するローカル変数であり、1行目の変数とは別物とみなされる。\n",
    "したがって、`func()` 関数を実行してもグローバル変数の値は変更されず、最後の `print(a)` の出力は1となる。\n",
    "\n",
    "ローカルスコープからグローバル変数を参照することはできるが、モジュールスコープからローカル変数を直接参照することはできない。"
   ]
  },
  {
   "cell_type": "code",
   "execution_count": 12,
   "id": "422c44e8",
   "metadata": {},
   "outputs": [
    {
     "name": "stdout",
     "output_type": "stream",
     "text": [
      "1\n"
     ]
    }
   ],
   "source": [
    "# ローカルスコープからグローバル変数は参照できる\n",
    "b = 1\n",
    "def func():\n",
    "    print(b)\n",
    "    \n",
    "func()"
   ]
  },
  {
   "cell_type": "code",
   "execution_count": 13,
   "id": "200c706f",
   "metadata": {},
   "outputs": [
    {
     "ename": "NameError",
     "evalue": "name 'c' is not defined",
     "output_type": "error",
     "traceback": [
      "\u001b[0;31m---------------------------------------------------------------------------\u001b[0m",
      "\u001b[0;31mNameError\u001b[0m                                 Traceback (most recent call last)",
      "\u001b[0;32m/var/folders/p0/0zrw9jsj03v3vlszs8v3m2p40000gn/T/ipykernel_46217/2212004489.py\u001b[0m in \u001b[0;36m<module>\u001b[0;34m\u001b[0m\n\u001b[1;32m      4\u001b[0m \u001b[0;34m\u001b[0m\u001b[0m\n\u001b[1;32m      5\u001b[0m \u001b[0mfunc\u001b[0m\u001b[0;34m(\u001b[0m\u001b[0;34m)\u001b[0m\u001b[0;34m\u001b[0m\u001b[0;34m\u001b[0m\u001b[0m\n\u001b[0;32m----> 6\u001b[0;31m \u001b[0mprint\u001b[0m\u001b[0;34m(\u001b[0m\u001b[0mc\u001b[0m\u001b[0;34m)\u001b[0m\u001b[0;34m\u001b[0m\u001b[0;34m\u001b[0m\u001b[0m\n\u001b[0m",
      "\u001b[0;31mNameError\u001b[0m: name 'c' is not defined"
     ]
    }
   ],
   "source": [
    "# モジュールスコープからローカル変数は参照できない\n",
    "def func():\n",
    "    c = 1\n",
    "    \n",
    "func()\n",
    "print(c)"
   ]
  },
  {
   "cell_type": "markdown",
   "id": "72ac0591",
   "metadata": {},
   "source": [
    "モジュールスコープからローカル変数の値を利用するには、戻り値か引数を経由する必要がある。引数を経由する方法は、引数がミュータブルなオブジェクトのときのみ可能であることに注意する。"
   ]
  },
  {
   "cell_type": "code",
   "execution_count": 14,
   "id": "e6631758",
   "metadata": {},
   "outputs": [
    {
     "name": "stdout",
     "output_type": "stream",
     "text": [
      "1\n"
     ]
    }
   ],
   "source": [
    "# 戻り値を経由する例\n",
    "def func():\n",
    "    c = 1\n",
    "    return c\n",
    "    \n",
    "c = func()\n",
    "print(c)"
   ]
  },
  {
   "cell_type": "code",
   "execution_count": 15,
   "id": "732cb639",
   "metadata": {},
   "outputs": [
    {
     "name": "stdout",
     "output_type": "stream",
     "text": [
      "[1]\n",
      "0\n"
     ]
    }
   ],
   "source": [
    "# 引数を経由する例\n",
    "\n",
    "## 引数がミュータブルなオブジェクトの場合\n",
    "def func(x):\n",
    "    c = 1\n",
    "    x[0] = c\n",
    "\n",
    "x = [0]\n",
    "func(x)\n",
    "print(x) # [1]になる\n",
    "\n",
    "## 引数がイミュータブルなオブジェクトの場合\n",
    "def func2(x):\n",
    "    c = 1\n",
    "    x = c\n",
    "\n",
    "x = 0\n",
    "func2(x)\n",
    "print(x)  # 0のまま"
   ]
  },
  {
   "cell_type": "markdown",
   "id": "5b018f14",
   "metadata": {},
   "source": [
    "スコープ周りを初めから完璧に理解するのは難しいので、エラーが起きたり、変数の値が想定からズレたりした場合に、適宜思い出して調べるのがよいだろう。"
   ]
  },
  {
   "cell_type": "markdown",
   "id": "f46f920b",
   "metadata": {},
   "source": [
    "## turtleによるグラフィック描画"
   ]
  },
  {
   "cell_type": "markdown",
   "id": "fd268262",
   "metadata": {},
   "source": [
    "ここからはturtleというプログラミング学習用のグラフィックライブラリを用いて、関数作成の練習をしてみよう。\n",
    "このライブラリではペン先を表すカメを操作することで、線を描画する。\n",
    "turtleモジュールは外部ライブラリなので、最初にpipによるインストールとimportが必要である。\n",
    "以下のコードを実行することで、turtleモジュールが使用可能な状態になる。"
   ]
  },
  {
   "cell_type": "code",
   "execution_count": null,
   "id": "d40b4cb8",
   "metadata": {
    "tags": [
     "hide-output"
    ]
   },
   "outputs": [],
   "source": [
    "pip install ColabTurtle"
   ]
  },
  {
   "cell_type": "code",
   "execution_count": 16,
   "id": "832fd825",
   "metadata": {},
   "outputs": [],
   "source": [
    "import random\n",
    "import ColabTurtle.Turtle as turtle  # Google Colab用のturtleライブラリ\n",
    "\n",
    "turtle.DEFAULT_PEN_COLOR = 'black'\n",
    "turtle.DEFAULT_BACKGROUND_COLOR = 'white'"
   ]
  },
  {
   "cell_type": "markdown",
   "id": "34a1050f",
   "metadata": {},
   "source": [
    "turtleモジュールの主な関数は以下の通りである。"
   ]
  },
  {
   "cell_type": "markdown",
   "id": "d9015a32",
   "metadata": {},
   "source": [
    "- `turtle.penup()`\n",
    "  - ペン先を紙から離す。以降は、カメが移動しても線は引かれない。\n",
    "- `turtle.pendown()`\n",
    "  - ペン先を紙につける。以降は、カメが移動する度に線が引かれる。\n",
    "- `turtle.forward(d)`\n",
    "  - 前方に距離 d だけ進む。\n",
    "- `turtle.backward(d)`\n",
    "  - 後方に距離 d だけ進む。\n",
    "- `turtle.goto(x, y)`\n",
    "  - 座標(x, y)に移動する。\n",
    "- `turtle.position()`\n",
    "  - 現在の位置を返す。\n",
    "- `turtle.right(a)`\n",
    "  - 右方向に a 度回転する。\n",
    "- `turtle.left(a)`\n",
    "  - 左方向に a 度回転する。\n",
    "- `turtle.setheading(a)`\n",
    "  - 右方向を0度、下方向を90度とする回転座標で a 度の方向を向く。"
   ]
  },
  {
   "cell_type": "markdown",
   "id": "e3b5944c",
   "metadata": {},
   "source": [
    "`turtle.initializeTurtle()` を実行すると、初期化により画面が用意される。まずは、画面上の座標について確認してみよう。"
   ]
  },
  {
   "cell_type": "code",
   "execution_count": 17,
   "id": "14d7e960",
   "metadata": {},
   "outputs": [
    {
     "data": {
      "text/html": [
       "\n",
       "      <svg width=\"400\" height=\"400\">\n",
       "        <rect width=\"100%\" height=\"100%\" fill=\"white\"/>\n",
       "        <line x1=\"200\" y1=\"200\" x2=\"300.0\" y2=\"200.0\" stroke-linecap=\"round\" style=\"stroke:black;stroke-width:4\"/><line x1=\"300.0\" y1=\"200.0\" x2=\"300.0\" y2=\"300.0\" stroke-linecap=\"round\" style=\"stroke:black;stroke-width:4\"/>\n",
       "        <g visibility=visible transform=\"rotate(180,300.0,300.0) translate(282.0, 282.0)\">\n",
       "<path style=\" stroke:none;fill-rule:evenodd;fill:black;fill-opacity:1;\" d=\"M 18.214844 0.632812 C 16.109375 1.800781 15.011719 4.074219 15.074219 7.132812 L 15.085938 7.652344 L 14.785156 7.496094 C 13.476562 6.824219 11.957031 6.671875 10.40625 7.066406 C 8.46875 7.550781 6.515625 9.15625 4.394531 11.992188 C 3.0625 13.777344 2.679688 14.636719 3.042969 15.027344 L 3.15625 15.152344 L 3.519531 15.152344 C 4.238281 15.152344 4.828125 14.886719 8.1875 13.039062 C 9.386719 12.378906 10.371094 11.839844 10.378906 11.839844 C 10.386719 11.839844 10.355469 11.929688 10.304688 12.035156 C 9.832031 13.09375 9.257812 14.820312 8.96875 16.078125 C 7.914062 20.652344 8.617188 24.53125 11.070312 27.660156 C 11.351562 28.015625 11.363281 27.914062 10.972656 28.382812 C 8.925781 30.84375 7.945312 33.28125 8.238281 35.1875 C 8.289062 35.527344 8.28125 35.523438 8.917969 35.523438 C 10.941406 35.523438 13.074219 34.207031 15.136719 31.6875 C 15.359375 31.417969 15.328125 31.425781 15.5625 31.574219 C 16.292969 32.042969 18.023438 32.964844 18.175781 32.964844 C 18.335938 32.964844 19.941406 32.210938 20.828125 31.71875 C 20.996094 31.625 21.136719 31.554688 21.136719 31.558594 C 21.203125 31.664062 21.898438 32.414062 22.222656 32.730469 C 23.835938 34.300781 25.5625 35.132812 27.582031 35.300781 C 27.90625 35.328125 27.9375 35.308594 28.007812 34.984375 C 28.382812 33.242188 27.625 30.925781 25.863281 28.425781 L 25.542969 27.96875 L 25.699219 27.785156 C 28.945312 23.960938 29.132812 18.699219 26.257812 11.96875 L 26.207031 11.84375 L 27.945312 12.703125 C 31.53125 14.476562 32.316406 14.800781 33.03125 14.800781 C 33.976562 14.800781 33.78125 13.9375 32.472656 12.292969 C 28.519531 7.355469 25.394531 5.925781 21.921875 7.472656 L 21.558594 7.636719 L 21.578125 7.542969 C 21.699219 6.992188 21.761719 5.742188 21.699219 5.164062 C 21.496094 3.296875 20.664062 1.964844 19.003906 0.855469 C 18.480469 0.503906 18.457031 0.5 18.214844 0.632812\"/>\n",
       "</g>\n",
       "      </svg>\n",
       "    "
      ],
      "text/plain": [
       "<IPython.core.display.HTML object>"
      ]
     },
     "metadata": {},
     "output_type": "display_data"
    },
    {
     "name": "stdout",
     "output_type": "stream",
     "text": [
      "現在の座標: (200, 200)\n",
      "現在の座標: (300.0, 200.0)\n",
      "現在の座標: (300.0, 300.0)\n"
     ]
    }
   ],
   "source": [
    "turtle.initializeTurtle(initial_window_size=(400, 400))\n",
    "print(f\"現在の座標: {turtle.position()}\")\n",
    "turtle.setheading(0)\n",
    "turtle.forward(100)\n",
    "print(f\"現在の座標: {turtle.position()}\")\n",
    "turtle.right(90)\n",
    "turtle.forward(100)\n",
    "print(f\"現在の座標: {turtle.position()}\")"
   ]
  },
  {
   "cell_type": "markdown",
   "id": "bd5ee1ef",
   "metadata": {},
   "source": [
    "画面の大きさは`turtle.initializeTurtle()` 関数の引数 `initial_window_size` で指定しており、400 * 400である。\n",
    "座標は左上を原点(0, 0)とし、x軸は右方向に、y軸は下方向に伸びている。\n",
    "カメの初期位置は中央の(200, 200)である。\n",
    "上のプログラムでは、カメはx軸方向に100進んだあと、y軸方向に100進んでいる。\n",
    "\n",
    "それでは練習問題を通じて、描画用の関数を作ってみよう。"
   ]
  },
  {
   "cell_type": "markdown",
   "id": "0e769748",
   "metadata": {},
   "source": [
    "**練習1**  \n",
    "1辺の長さ `size` を引数とし、正方形を描画する関数 `draw_square()` を作成しなさい。\n",
    "ただし `turtle.pendown()` から始め、`turtle.penup()` で終わること。"
   ]
  },
  {
   "cell_type": "code",
   "execution_count": null,
   "id": "ca2ef1d5",
   "metadata": {},
   "outputs": [],
   "source": [
    "### （出席課題） 関数のみ提出する\n",
    "\n",
    "def draw_square(size):\n",
    "    pass\n",
    "\n",
    "###"
   ]
  },
  {
   "cell_type": "code",
   "execution_count": null,
   "id": "821c05af",
   "metadata": {},
   "outputs": [],
   "source": [
    "# 作成したら描画してみる\n",
    "turtle.initializeTurtle(initial_window_size=(400, 400))\n",
    "draw_square(100)"
   ]
  },
  {
   "cell_type": "markdown",
   "id": "82cd7944",
   "metadata": {},
   "source": [
    "**練習2**  \n",
    "1辺の長さ `size` を引数とし、正三角形を描画する関数 `draw_triangle()` を作成しなさい。\n",
    "ただし `turtle.pendown()` から始め、`turtle.penup()` で終わること。"
   ]
  },
  {
   "cell_type": "code",
   "execution_count": null,
   "id": "1aa767ae",
   "metadata": {},
   "outputs": [],
   "source": [
    "def draw_triangle(size):\n",
    "    pass"
   ]
  },
  {
   "cell_type": "code",
   "execution_count": null,
   "id": "6d9d44ee",
   "metadata": {},
   "outputs": [],
   "source": [
    "# 作成したら描画してみる\n",
    "turtle.initializeTurtle(initial_window_size=(400, 400))\n",
    "draw_triangle(100)"
   ]
  },
  {
   "cell_type": "markdown",
   "id": "7d25e3df",
   "metadata": {},
   "source": [
    "**練習3**  \n",
    "整数 `n` および1辺の長さ `size` を引数とし、正 `n` 角形を描画する関数 `draw_polygon()` を作成しなさい。ただし `turtle.pendown()` から始め、`turtle.penup()` で終わること。"
   ]
  },
  {
   "cell_type": "code",
   "execution_count": null,
   "id": "661b2462",
   "metadata": {},
   "outputs": [],
   "source": [
    "def draw_polygon(n, size):\n",
    "    pass"
   ]
  },
  {
   "cell_type": "code",
   "execution_count": null,
   "id": "137c5649",
   "metadata": {},
   "outputs": [],
   "source": [
    "# 作成したら描画してみる\n",
    "turtle.initializeTurtle(initial_window_size=(400, 400))\n",
    "draw_polygon(5, 100)"
   ]
  },
  {
   "cell_type": "markdown",
   "id": "f53b4360",
   "metadata": {},
   "source": [
    "## 再帰"
   ]
  },
  {
   "cell_type": "markdown",
   "id": "9c8f2439",
   "metadata": {},
   "source": [
    "以下のコードを実行すると木の枝のような模様が描かれる。どのような処理が行われているか理解できるだろうか。"
   ]
  },
  {
   "cell_type": "code",
   "execution_count": 18,
   "id": "6648d861",
   "metadata": {},
   "outputs": [
    {
     "data": {
      "text/html": [
       "\n",
       "      <svg width=\"400\" height=\"400\">\n",
       "        <rect width=\"100%\" height=\"100%\" fill=\"white\"/>\n",
       "        <line x1=\"200\" y1=\"350\" x2=\"200.0\" y2=\"300.0\" stroke-linecap=\"round\" style=\"stroke:black;stroke-width:4\"/><line x1=\"200.0\" y1=\"300.0\" x2=\"182.899\" y2=\"253.015\" stroke-linecap=\"round\" style=\"stroke:black;stroke-width:4\"/><line x1=\"182.899\" y1=\"253.015\" x2=\"150.76\" y2=\"214.713\" stroke-linecap=\"round\" style=\"stroke:black;stroke-width:4\"/><line x1=\"150.76\" y1=\"214.713\" x2=\"107.459\" y2=\"189.713\" stroke-linecap=\"round\" style=\"stroke:black;stroke-width:4\"/><line x1=\"107.459\" y1=\"189.713\" x2=\"58.219\" y2=\"181.031\" stroke-linecap=\"round\" style=\"stroke:black;stroke-width:4\"/><line x1=\"58.219\" y1=\"181.031\" x2=\"8.979\" y2=\"189.713\" stroke-linecap=\"round\" style=\"stroke:black;stroke-width:4\"/><line x1=\"8.979\" y1=\"189.713\" x2=\"58.219\" y2=\"181.031\" stroke-linecap=\"round\" style=\"stroke:black;stroke-width:4\"/><line x1=\"58.219\" y1=\"181.031\" x2=\"14.918\" y2=\"156.031\" stroke-linecap=\"round\" style=\"stroke:black;stroke-width:4\"/><line x1=\"14.918\" y1=\"156.031\" x2=\"58.219\" y2=\"181.031\" stroke-linecap=\"round\" style=\"stroke:black;stroke-width:4\"/><line x1=\"107.459\" y1=\"189.713\" x2=\"75.32\" y2=\"151.411\" stroke-linecap=\"round\" style=\"stroke:black;stroke-width:4\"/><line x1=\"75.32\" y1=\"151.411\" x2=\"32.019\" y2=\"126.411\" stroke-linecap=\"round\" style=\"stroke:black;stroke-width:4\"/><line x1=\"32.019\" y1=\"126.411\" x2=\"75.32\" y2=\"151.411\" stroke-linecap=\"round\" style=\"stroke:black;stroke-width:4\"/><line x1=\"75.32\" y1=\"151.411\" x2=\"58.219\" y2=\"104.426\" stroke-linecap=\"round\" style=\"stroke:black;stroke-width:4\"/><line x1=\"58.219\" y1=\"104.426\" x2=\"75.32\" y2=\"151.411\" stroke-linecap=\"round\" style=\"stroke:black;stroke-width:4\"/><line x1=\"150.76\" y1=\"214.713\" x2=\"133.659\" y2=\"167.728\" stroke-linecap=\"round\" style=\"stroke:black;stroke-width:4\"/><line x1=\"133.659\" y1=\"167.728\" x2=\"101.52\" y2=\"129.426\" stroke-linecap=\"round\" style=\"stroke:black;stroke-width:4\"/><line x1=\"101.52\" y1=\"129.426\" x2=\"58.219\" y2=\"104.426\" stroke-linecap=\"round\" style=\"stroke:black;stroke-width:4\"/><line x1=\"58.219\" y1=\"104.426\" x2=\"101.52\" y2=\"129.426\" stroke-linecap=\"round\" style=\"stroke:black;stroke-width:4\"/><line x1=\"101.52\" y1=\"129.426\" x2=\"84.419\" y2=\"82.441\" stroke-linecap=\"round\" style=\"stroke:black;stroke-width:4\"/><line x1=\"84.419\" y1=\"82.441\" x2=\"101.52\" y2=\"129.426\" stroke-linecap=\"round\" style=\"stroke:black;stroke-width:4\"/><line x1=\"133.659\" y1=\"167.728\" x2=\"133.659\" y2=\"117.728\" stroke-linecap=\"round\" style=\"stroke:black;stroke-width:4\"/><line x1=\"133.659\" y1=\"117.728\" x2=\"116.558\" y2=\"70.743\" stroke-linecap=\"round\" style=\"stroke:black;stroke-width:4\"/><line x1=\"116.558\" y1=\"70.743\" x2=\"133.659\" y2=\"117.728\" stroke-linecap=\"round\" style=\"stroke:black;stroke-width:4\"/><line x1=\"133.659\" y1=\"117.728\" x2=\"150.76\" y2=\"70.743\" stroke-linecap=\"round\" style=\"stroke:black;stroke-width:4\"/><line x1=\"150.76\" y1=\"70.743\" x2=\"133.659\" y2=\"117.728\" stroke-linecap=\"round\" style=\"stroke:black;stroke-width:4\"/><line x1=\"182.899\" y1=\"253.015\" x2=\"182.899\" y2=\"203.015\" stroke-linecap=\"round\" style=\"stroke:black;stroke-width:4\"/><line x1=\"182.899\" y1=\"203.015\" x2=\"165.798\" y2=\"156.03\" stroke-linecap=\"round\" style=\"stroke:black;stroke-width:4\"/><line x1=\"165.798\" y1=\"156.03\" x2=\"133.659\" y2=\"117.728\" stroke-linecap=\"round\" style=\"stroke:black;stroke-width:4\"/><line x1=\"133.659\" y1=\"117.728\" x2=\"90.358\" y2=\"92.728\" stroke-linecap=\"round\" style=\"stroke:black;stroke-width:4\"/><line x1=\"90.358\" y1=\"92.728\" x2=\"133.659\" y2=\"117.728\" stroke-linecap=\"round\" style=\"stroke:black;stroke-width:4\"/><line x1=\"133.659\" y1=\"117.728\" x2=\"116.558\" y2=\"70.743\" stroke-linecap=\"round\" style=\"stroke:black;stroke-width:4\"/><line x1=\"116.558\" y1=\"70.743\" x2=\"133.659\" y2=\"117.728\" stroke-linecap=\"round\" style=\"stroke:black;stroke-width:4\"/><line x1=\"165.798\" y1=\"156.03\" x2=\"165.798\" y2=\"106.03\" stroke-linecap=\"round\" style=\"stroke:black;stroke-width:4\"/><line x1=\"165.798\" y1=\"106.03\" x2=\"148.697\" y2=\"59.045\" stroke-linecap=\"round\" style=\"stroke:black;stroke-width:4\"/><line x1=\"148.697\" y1=\"59.045\" x2=\"165.798\" y2=\"106.03\" stroke-linecap=\"round\" style=\"stroke:black;stroke-width:4\"/><line x1=\"165.798\" y1=\"106.03\" x2=\"182.899\" y2=\"59.045\" stroke-linecap=\"round\" style=\"stroke:black;stroke-width:4\"/><line x1=\"182.899\" y1=\"59.045\" x2=\"165.798\" y2=\"106.03\" stroke-linecap=\"round\" style=\"stroke:black;stroke-width:4\"/><line x1=\"182.899\" y1=\"203.015\" x2=\"200.0\" y2=\"156.03\" stroke-linecap=\"round\" style=\"stroke:black;stroke-width:4\"/><line x1=\"200.0\" y1=\"156.03\" x2=\"200.0\" y2=\"106.03\" stroke-linecap=\"round\" style=\"stroke:black;stroke-width:4\"/><line x1=\"200.0\" y1=\"106.03\" x2=\"182.899\" y2=\"59.045\" stroke-linecap=\"round\" style=\"stroke:black;stroke-width:4\"/><line x1=\"182.899\" y1=\"59.045\" x2=\"200.0\" y2=\"106.03\" stroke-linecap=\"round\" style=\"stroke:black;stroke-width:4\"/><line x1=\"200.0\" y1=\"106.03\" x2=\"217.101\" y2=\"59.045\" stroke-linecap=\"round\" style=\"stroke:black;stroke-width:4\"/><line x1=\"217.101\" y1=\"59.045\" x2=\"200.0\" y2=\"106.03\" stroke-linecap=\"round\" style=\"stroke:black;stroke-width:4\"/><line x1=\"200.0\" y1=\"156.03\" x2=\"232.139\" y2=\"117.728\" stroke-linecap=\"round\" style=\"stroke:black;stroke-width:4\"/><line x1=\"232.139\" y1=\"117.728\" x2=\"249.24\" y2=\"70.743\" stroke-linecap=\"round\" style=\"stroke:black;stroke-width:4\"/><line x1=\"249.24\" y1=\"70.743\" x2=\"232.139\" y2=\"117.728\" stroke-linecap=\"round\" style=\"stroke:black;stroke-width:4\"/><line x1=\"232.139\" y1=\"117.728\" x2=\"275.44\" y2=\"92.728\" stroke-linecap=\"round\" style=\"stroke:black;stroke-width:4\"/><line x1=\"275.44\" y1=\"92.728\" x2=\"232.139\" y2=\"117.728\" stroke-linecap=\"round\" style=\"stroke:black;stroke-width:4\"/><line x1=\"200.0\" y1=\"300.0\" x2=\"217.101\" y2=\"253.015\" stroke-linecap=\"round\" style=\"stroke:black;stroke-width:4\"/><line x1=\"217.101\" y1=\"253.015\" x2=\"217.101\" y2=\"203.015\" stroke-linecap=\"round\" style=\"stroke:black;stroke-width:4\"/><line x1=\"217.101\" y1=\"203.015\" x2=\"200.0\" y2=\"156.03\" stroke-linecap=\"round\" style=\"stroke:black;stroke-width:4\"/><line x1=\"200.0\" y1=\"156.03\" x2=\"167.861\" y2=\"117.728\" stroke-linecap=\"round\" style=\"stroke:black;stroke-width:4\"/><line x1=\"167.861\" y1=\"117.728\" x2=\"124.56\" y2=\"92.728\" stroke-linecap=\"round\" style=\"stroke:black;stroke-width:4\"/><line x1=\"124.56\" y1=\"92.728\" x2=\"167.861\" y2=\"117.728\" stroke-linecap=\"round\" style=\"stroke:black;stroke-width:4\"/><line x1=\"167.861\" y1=\"117.728\" x2=\"150.76\" y2=\"70.743\" stroke-linecap=\"round\" style=\"stroke:black;stroke-width:4\"/><line x1=\"150.76\" y1=\"70.743\" x2=\"167.861\" y2=\"117.728\" stroke-linecap=\"round\" style=\"stroke:black;stroke-width:4\"/><line x1=\"200.0\" y1=\"156.03\" x2=\"200.0\" y2=\"106.03\" stroke-linecap=\"round\" style=\"stroke:black;stroke-width:4\"/><line x1=\"200.0\" y1=\"106.03\" x2=\"182.899\" y2=\"59.045\" stroke-linecap=\"round\" style=\"stroke:black;stroke-width:4\"/><line x1=\"182.899\" y1=\"59.045\" x2=\"200.0\" y2=\"106.03\" stroke-linecap=\"round\" style=\"stroke:black;stroke-width:4\"/><line x1=\"200.0\" y1=\"106.03\" x2=\"217.101\" y2=\"59.045\" stroke-linecap=\"round\" style=\"stroke:black;stroke-width:4\"/><line x1=\"217.101\" y1=\"59.045\" x2=\"200.0\" y2=\"106.03\" stroke-linecap=\"round\" style=\"stroke:black;stroke-width:4\"/><line x1=\"217.101\" y1=\"203.015\" x2=\"234.202\" y2=\"156.03\" stroke-linecap=\"round\" style=\"stroke:black;stroke-width:4\"/><line x1=\"234.202\" y1=\"156.03\" x2=\"234.202\" y2=\"106.03\" stroke-linecap=\"round\" style=\"stroke:black;stroke-width:4\"/><line x1=\"234.202\" y1=\"106.03\" x2=\"217.101\" y2=\"59.045\" stroke-linecap=\"round\" style=\"stroke:black;stroke-width:4\"/><line x1=\"217.101\" y1=\"59.045\" x2=\"234.202\" y2=\"106.03\" stroke-linecap=\"round\" style=\"stroke:black;stroke-width:4\"/><line x1=\"234.202\" y1=\"106.03\" x2=\"251.303\" y2=\"59.045\" stroke-linecap=\"round\" style=\"stroke:black;stroke-width:4\"/><line x1=\"251.303\" y1=\"59.045\" x2=\"234.202\" y2=\"106.03\" stroke-linecap=\"round\" style=\"stroke:black;stroke-width:4\"/><line x1=\"234.202\" y1=\"156.03\" x2=\"266.341\" y2=\"117.728\" stroke-linecap=\"round\" style=\"stroke:black;stroke-width:4\"/><line x1=\"266.341\" y1=\"117.728\" x2=\"283.442\" y2=\"70.743\" stroke-linecap=\"round\" style=\"stroke:black;stroke-width:4\"/><line x1=\"283.442\" y1=\"70.743\" x2=\"266.341\" y2=\"117.728\" stroke-linecap=\"round\" style=\"stroke:black;stroke-width:4\"/><line x1=\"266.341\" y1=\"117.728\" x2=\"309.642\" y2=\"92.728\" stroke-linecap=\"round\" style=\"stroke:black;stroke-width:4\"/><line x1=\"309.642\" y1=\"92.728\" x2=\"266.341\" y2=\"117.728\" stroke-linecap=\"round\" style=\"stroke:black;stroke-width:4\"/><line x1=\"217.101\" y1=\"253.015\" x2=\"249.24\" y2=\"214.713\" stroke-linecap=\"round\" style=\"stroke:black;stroke-width:4\"/><line x1=\"249.24\" y1=\"214.713\" x2=\"266.341\" y2=\"167.728\" stroke-linecap=\"round\" style=\"stroke:black;stroke-width:4\"/><line x1=\"266.341\" y1=\"167.728\" x2=\"266.341\" y2=\"117.728\" stroke-linecap=\"round\" style=\"stroke:black;stroke-width:4\"/><line x1=\"266.341\" y1=\"117.728\" x2=\"249.24\" y2=\"70.743\" stroke-linecap=\"round\" style=\"stroke:black;stroke-width:4\"/><line x1=\"249.24\" y1=\"70.743\" x2=\"266.341\" y2=\"117.728\" stroke-linecap=\"round\" style=\"stroke:black;stroke-width:4\"/><line x1=\"266.341\" y1=\"117.728\" x2=\"283.442\" y2=\"70.743\" stroke-linecap=\"round\" style=\"stroke:black;stroke-width:4\"/><line x1=\"283.442\" y1=\"70.743\" x2=\"266.341\" y2=\"117.728\" stroke-linecap=\"round\" style=\"stroke:black;stroke-width:4\"/><line x1=\"266.341\" y1=\"167.728\" x2=\"298.48\" y2=\"129.426\" stroke-linecap=\"round\" style=\"stroke:black;stroke-width:4\"/><line x1=\"298.48\" y1=\"129.426\" x2=\"315.581\" y2=\"82.441\" stroke-linecap=\"round\" style=\"stroke:black;stroke-width:4\"/><line x1=\"315.581\" y1=\"82.441\" x2=\"298.48\" y2=\"129.426\" stroke-linecap=\"round\" style=\"stroke:black;stroke-width:4\"/><line x1=\"298.48\" y1=\"129.426\" x2=\"341.781\" y2=\"104.426\" stroke-linecap=\"round\" style=\"stroke:black;stroke-width:4\"/><line x1=\"341.781\" y1=\"104.426\" x2=\"298.48\" y2=\"129.426\" stroke-linecap=\"round\" style=\"stroke:black;stroke-width:4\"/><line x1=\"249.24\" y1=\"214.713\" x2=\"292.541\" y2=\"189.713\" stroke-linecap=\"round\" style=\"stroke:black;stroke-width:4\"/><line x1=\"292.541\" y1=\"189.713\" x2=\"324.68\" y2=\"151.411\" stroke-linecap=\"round\" style=\"stroke:black;stroke-width:4\"/><line x1=\"324.68\" y1=\"151.411\" x2=\"341.781\" y2=\"104.426\" stroke-linecap=\"round\" style=\"stroke:black;stroke-width:4\"/><line x1=\"341.781\" y1=\"104.426\" x2=\"324.68\" y2=\"151.411\" stroke-linecap=\"round\" style=\"stroke:black;stroke-width:4\"/><line x1=\"324.68\" y1=\"151.411\" x2=\"367.981\" y2=\"126.411\" stroke-linecap=\"round\" style=\"stroke:black;stroke-width:4\"/><line x1=\"367.981\" y1=\"126.411\" x2=\"324.68\" y2=\"151.411\" stroke-linecap=\"round\" style=\"stroke:black;stroke-width:4\"/><line x1=\"292.541\" y1=\"189.713\" x2=\"341.781\" y2=\"181.031\" stroke-linecap=\"round\" style=\"stroke:black;stroke-width:4\"/><line x1=\"341.781\" y1=\"181.031\" x2=\"385.082\" y2=\"156.031\" stroke-linecap=\"round\" style=\"stroke:black;stroke-width:4\"/><line x1=\"385.082\" y1=\"156.031\" x2=\"341.781\" y2=\"181.031\" stroke-linecap=\"round\" style=\"stroke:black;stroke-width:4\"/><line x1=\"341.781\" y1=\"181.031\" x2=\"391.021\" y2=\"189.713\" stroke-linecap=\"round\" style=\"stroke:black;stroke-width:4\"/><line x1=\"391.021\" y1=\"189.713\" x2=\"341.781\" y2=\"181.031\" stroke-linecap=\"round\" style=\"stroke:black;stroke-width:4\"/>\n",
       "        <g visibility=visible transform=\"rotate(360,200.0,350.0) translate(182.0, 332.0)\">\n",
       "<path style=\" stroke:none;fill-rule:evenodd;fill:black;fill-opacity:1;\" d=\"M 18.214844 0.632812 C 16.109375 1.800781 15.011719 4.074219 15.074219 7.132812 L 15.085938 7.652344 L 14.785156 7.496094 C 13.476562 6.824219 11.957031 6.671875 10.40625 7.066406 C 8.46875 7.550781 6.515625 9.15625 4.394531 11.992188 C 3.0625 13.777344 2.679688 14.636719 3.042969 15.027344 L 3.15625 15.152344 L 3.519531 15.152344 C 4.238281 15.152344 4.828125 14.886719 8.1875 13.039062 C 9.386719 12.378906 10.371094 11.839844 10.378906 11.839844 C 10.386719 11.839844 10.355469 11.929688 10.304688 12.035156 C 9.832031 13.09375 9.257812 14.820312 8.96875 16.078125 C 7.914062 20.652344 8.617188 24.53125 11.070312 27.660156 C 11.351562 28.015625 11.363281 27.914062 10.972656 28.382812 C 8.925781 30.84375 7.945312 33.28125 8.238281 35.1875 C 8.289062 35.527344 8.28125 35.523438 8.917969 35.523438 C 10.941406 35.523438 13.074219 34.207031 15.136719 31.6875 C 15.359375 31.417969 15.328125 31.425781 15.5625 31.574219 C 16.292969 32.042969 18.023438 32.964844 18.175781 32.964844 C 18.335938 32.964844 19.941406 32.210938 20.828125 31.71875 C 20.996094 31.625 21.136719 31.554688 21.136719 31.558594 C 21.203125 31.664062 21.898438 32.414062 22.222656 32.730469 C 23.835938 34.300781 25.5625 35.132812 27.582031 35.300781 C 27.90625 35.328125 27.9375 35.308594 28.007812 34.984375 C 28.382812 33.242188 27.625 30.925781 25.863281 28.425781 L 25.542969 27.96875 L 25.699219 27.785156 C 28.945312 23.960938 29.132812 18.699219 26.257812 11.96875 L 26.207031 11.84375 L 27.945312 12.703125 C 31.53125 14.476562 32.316406 14.800781 33.03125 14.800781 C 33.976562 14.800781 33.78125 13.9375 32.472656 12.292969 C 28.519531 7.355469 25.394531 5.925781 21.921875 7.472656 L 21.558594 7.636719 L 21.578125 7.542969 C 21.699219 6.992188 21.761719 5.742188 21.699219 5.164062 C 21.496094 3.296875 20.664062 1.964844 19.003906 0.855469 C 18.480469 0.503906 18.457031 0.5 18.214844 0.632812\"/>\n",
       "</g>\n",
       "      </svg>\n",
       "    "
      ],
      "text/plain": [
       "<IPython.core.display.HTML object>"
      ]
     },
     "metadata": {},
     "output_type": "display_data"
    }
   ],
   "source": [
    "def draw_branch(length, depth):\n",
    "    turtle.pendown()\n",
    "    if depth == 0:\n",
    "        turtle.forward(length)\n",
    "    else:\n",
    "        turtle.forward(length)\n",
    "        turtle.left(20)\n",
    "        draw_branch(length, depth-1) # 再帰呼び出し\n",
    "        turtle.right(40)\n",
    "        draw_branch(length, depth-1) # 再帰呼び出し\n",
    "        turtle.left(20)\n",
    "    turtle.backward(length)\n",
    "    turtle.penup()\n",
    "        \n",
    "turtle.initializeTurtle(initial_window_size=(400, 400), initial_speed=10)  # 描画のスピードを1~13の間で指定できる\n",
    "turtle.penup()\n",
    "turtle.goto(200, 350)\n",
    "\n",
    "# 木を描画\n",
    "draw_branch(50, 5)"
   ]
  },
  {
   "cell_type": "markdown",
   "id": "e41be922",
   "metadata": {},
   "source": [
    "`draw_branch()` 関数の中身を読むと、`draw_branch()` 関数自身が呼び出されている箇所がある。\n",
    "このように関数が自分自身を呼び出すことを**再帰**呼び出しといい、またそのような定義は再帰的であるという。\n",
    "\n",
    "このコードを図解すると次のようになる。"
   ]
  },
  {
   "cell_type": "markdown",
   "id": "4efa87f0",
   "metadata": {},
   "source": [
    "```{figure} ./pic/tree.png\n",
    "---\n",
    "width: 400px\n",
    "name: tree\n",
    "---\n",
    "`draw_branc()` の再帰呼び出し\n",
    "```"
   ]
  },
  {
   "cell_type": "markdown",
   "id": "09a30c05",
   "metadata": {},
   "source": [
    "カメはステップ①で木の枝を描き、ステップ③、⑤で再帰的に木を描く。\n",
    "それ以外は向きの調整と、始点に戻る操作を行っているだけである。\n",
    "ステップ③、⑤それぞれにおいて、`draw_branch()` 関数のステップ①〜⑦が繰り返される。\n",
    "`draw_branch()` 関数において線を描いているのはステップ①のみであるが、このように繰り返し処理を行うことで、徐々に木の形が出来上がる。\n",
    "\n",
    "ステップ⑦の始点に戻る操作は、忘れやすい部分ではあるが重要である。\n",
    "というのもステップ④、⑤は、ステップ③の終了時にカメがちょうど上図の位置にまで戻ってくることを前提としているからである。\n",
    "\n",
    "再帰を使用することで、for文などのループ構文を用いずに反復的な問題を解くことができる。\n",
    "ただし、適切に終了条件を設定することが必要であり、これがないと無限ループに陥る可能性がある。\n",
    "木の例では、枝の深さに制限をつけるため `depth` という引数を使用し、再帰呼び出しの度に1ずつ減らしている。\n",
    "そして `depth == 0` となったときに再帰呼び出しを行わず、枝を１本描くだけでreturnしている。"
   ]
  },
  {
   "cell_type": "markdown",
   "id": "e68aa496",
   "metadata": {},
   "source": [
    "## 演習"
   ]
  },
  {
   "cell_type": "markdown",
   "id": "ae683863",
   "metadata": {},
   "source": [
    "**課題1**  \n",
    "1辺（例えば線分AB）の長さ `size` を引数とし、星形を描画する関数 `draw_star()` を作成しなさい。\n",
    "ただし `turtle.pendown()` から始め、`turtle.penup()` で終わること。星形は図の状態から傾いていてもよい。"
   ]
  },
  {
   "cell_type": "markdown",
   "id": "32f004ed",
   "metadata": {},
   "source": [
    "```{figure} ./pic/star.png\n",
    "---\n",
    "width: 200px\n",
    "name: star\n",
    "---\n",
    "星形\n",
    "```"
   ]
  },
  {
   "cell_type": "code",
   "execution_count": null,
   "id": "8935adc7",
   "metadata": {},
   "outputs": [],
   "source": [
    "### （出席課題）関数のみ提出する\n",
    "\n",
    "def draw_star(size):\n",
    "    pass\n",
    "\n",
    "###"
   ]
  },
  {
   "cell_type": "code",
   "execution_count": null,
   "id": "ee8743b1",
   "metadata": {},
   "outputs": [],
   "source": [
    "# 作成したら描画してみる\n",
    "turtle.initializeTurtle(initial_window_size=(400, 400))\n",
    "draw_star(100)"
   ]
  },
  {
   "cell_type": "markdown",
   "id": "f5eed362",
   "metadata": {},
   "source": [
    "**課題2**  \n",
    "現在の `draw_branch()` 関数では、木の根元から先端までの分岐の間隔が一定であり、結果として描かれる木は不自然な形状をしている。\n",
    "より自然な木の形状を再現するために、再帰呼び出しの度に、枝の長さが0.8倍になるように `draw_branch()` を修正しなさい。"
   ]
  },
  {
   "cell_type": "code",
   "execution_count": null,
   "id": "16c3cb2b",
   "metadata": {},
   "outputs": [],
   "source": [
    "### （出席課題）以下を修正して、関数のみ提出する\n",
    "\n",
    "def draw_branch(length, depth):\n",
    "    turtle.pendown()\n",
    "    if depth == 0:\n",
    "        turtle.forward(length)\n",
    "    else:\n",
    "        turtle.forward(length)\n",
    "        turtle.left(20)\n",
    "        draw_branch(length, depth-1)\n",
    "        turtle.right(40)\n",
    "        draw_branch(length, depth-1)\n",
    "        turtle.left(20)\n",
    "    turtle.backward(length)\n",
    "    turtle.penup()\n",
    "    \n",
    "### \n",
    "        \n",
    "turtle.initializeTurtle(initial_window_size=(400, 400), initial_speed=10)  # 描画のスピードを1~13 の間で指定できる\n",
    "turtle.penup()\n",
    "turtle.goto(200, 350)\n",
    "\n",
    "# 木を描画\n",
    "draw_branch(50, 6)"
   ]
  },
  {
   "cell_type": "markdown",
   "id": "730ee846",
   "metadata": {},
   "source": [
    "## 余談: ジェネラティブ・アート"
   ]
  },
  {
   "cell_type": "markdown",
   "id": "a5ab1f2f",
   "metadata": {},
   "source": [
    "余談として、**ジェネラティブ・アート**について紹介する。\n",
    "ジェネラティブ・アートとは、アルゴリズム[^f1]やルール、自動化されたプロセスを用いて作品を生成するアートの一形態である。\n",
    "コンピュータやプログラミング言語を使って、これらのアルゴリズムやプロセスを実行し、視覚的または音響的な要素を生み出す。\n",
    "自然界の複雑さや美しさからインスピレーションを得た作品を、それとは対極の論理的で機械的なコンピュータを使って表現するところが、このアート形態の面白いところである。\n",
    "したがって、多くの場合に乱数の要素が作品に取り入れられており、実行するごとに毎回異なるパターンを楽しむことができる。\n",
    "\n",
    "Georg Neesが1968年に発表した *Schotter* は、最初のジェネラティブ・アート作品だと言われている。\n",
    "以下のプログラムは、*Schotter*  を模倣したコード[^f2]である。\n",
    "12個の正方形が規則的に並べられた行から始まり、下に行くにつれて徐々に秩序が失われる様子が描かれる。\n",
    "\n",
    "プログラムを実行して鑑賞してみよう。\n",
    "余力のある人は、どのようなアルゴリズムが使われているか、コードの読解に挑戦してみてほしい。\n",
    "`random.uniform()` 関数が初めて使われているが、これは引数を `a`、`b`とするとき、`a` と `b` の間の小数を一様な確率で返す関数である。\n",
    "\n",
    "[^f1]: アルゴリズムとは問題を解決するための手順のことである。次回詳しく説明する。\n",
    "[^f2]: こちらの[サイト](http://www.artsnova.com/Nees_Schotter_Tutorial.html)に掲載されているProcessingプログラムをPythonに書き換え作成した。"
   ]
  },
  {
   "cell_type": "code",
   "execution_count": 19,
   "id": "bbce1667",
   "metadata": {},
   "outputs": [
    {
     "data": {
      "text/html": [
       "\n",
       "      <svg width=\"448\" height=\"728\">\n",
       "        <rect width=\"100%\" height=\"100%\" fill=\"white\"/>\n",
       "        <line x1=\"56.0\" y1=\"56.0\" x2=\"84.0\" y2=\"56.0\" stroke-linecap=\"round\" style=\"stroke:black;stroke-width:4\"/><line x1=\"84.0\" y1=\"56.0\" x2=\"84.0\" y2=\"84.0\" stroke-linecap=\"round\" style=\"stroke:black;stroke-width:4\"/><line x1=\"84.0\" y1=\"84.0\" x2=\"56.0\" y2=\"84.0\" stroke-linecap=\"round\" style=\"stroke:black;stroke-width:4\"/><line x1=\"56.0\" y1=\"84.0\" x2=\"56.0\" y2=\"56.0\" stroke-linecap=\"round\" style=\"stroke:black;stroke-width:4\"/><line x1=\"84.0\" y1=\"56.0\" x2=\"112.0\" y2=\"56.0\" stroke-linecap=\"round\" style=\"stroke:black;stroke-width:4\"/><line x1=\"112.0\" y1=\"56.0\" x2=\"112.0\" y2=\"84.0\" stroke-linecap=\"round\" style=\"stroke:black;stroke-width:4\"/><line x1=\"112.0\" y1=\"84.0\" x2=\"84.0\" y2=\"84.0\" stroke-linecap=\"round\" style=\"stroke:black;stroke-width:4\"/><line x1=\"84.0\" y1=\"84.0\" x2=\"84.0\" y2=\"56.0\" stroke-linecap=\"round\" style=\"stroke:black;stroke-width:4\"/><line x1=\"112.0\" y1=\"56.0\" x2=\"140.0\" y2=\"56.0\" stroke-linecap=\"round\" style=\"stroke:black;stroke-width:4\"/><line x1=\"140.0\" y1=\"56.0\" x2=\"140.0\" y2=\"84.0\" stroke-linecap=\"round\" style=\"stroke:black;stroke-width:4\"/><line x1=\"140.0\" y1=\"84.0\" x2=\"112.0\" y2=\"84.0\" stroke-linecap=\"round\" style=\"stroke:black;stroke-width:4\"/><line x1=\"112.0\" y1=\"84.0\" x2=\"112.0\" y2=\"56.0\" stroke-linecap=\"round\" style=\"stroke:black;stroke-width:4\"/><line x1=\"140.0\" y1=\"56.0\" x2=\"168.0\" y2=\"56.0\" stroke-linecap=\"round\" style=\"stroke:black;stroke-width:4\"/><line x1=\"168.0\" y1=\"56.0\" x2=\"168.0\" y2=\"84.0\" stroke-linecap=\"round\" style=\"stroke:black;stroke-width:4\"/><line x1=\"168.0\" y1=\"84.0\" x2=\"140.0\" y2=\"84.0\" stroke-linecap=\"round\" style=\"stroke:black;stroke-width:4\"/><line x1=\"140.0\" y1=\"84.0\" x2=\"140.0\" y2=\"56.0\" stroke-linecap=\"round\" style=\"stroke:black;stroke-width:4\"/><line x1=\"168.0\" y1=\"56.0\" x2=\"196.0\" y2=\"56.0\" stroke-linecap=\"round\" style=\"stroke:black;stroke-width:4\"/><line x1=\"196.0\" y1=\"56.0\" x2=\"196.0\" y2=\"84.0\" stroke-linecap=\"round\" style=\"stroke:black;stroke-width:4\"/><line x1=\"196.0\" y1=\"84.0\" x2=\"168.0\" y2=\"84.0\" stroke-linecap=\"round\" style=\"stroke:black;stroke-width:4\"/><line x1=\"168.0\" y1=\"84.0\" x2=\"168.0\" y2=\"56.0\" stroke-linecap=\"round\" style=\"stroke:black;stroke-width:4\"/><line x1=\"196.0\" y1=\"56.0\" x2=\"224.0\" y2=\"56.0\" stroke-linecap=\"round\" style=\"stroke:black;stroke-width:4\"/><line x1=\"224.0\" y1=\"56.0\" x2=\"224.0\" y2=\"84.0\" stroke-linecap=\"round\" style=\"stroke:black;stroke-width:4\"/><line x1=\"224.0\" y1=\"84.0\" x2=\"196.0\" y2=\"84.0\" stroke-linecap=\"round\" style=\"stroke:black;stroke-width:4\"/><line x1=\"196.0\" y1=\"84.0\" x2=\"196.0\" y2=\"56.0\" stroke-linecap=\"round\" style=\"stroke:black;stroke-width:4\"/><line x1=\"224.0\" y1=\"56.0\" x2=\"252.0\" y2=\"56.0\" stroke-linecap=\"round\" style=\"stroke:black;stroke-width:4\"/><line x1=\"252.0\" y1=\"56.0\" x2=\"252.0\" y2=\"84.0\" stroke-linecap=\"round\" style=\"stroke:black;stroke-width:4\"/><line x1=\"252.0\" y1=\"84.0\" x2=\"224.0\" y2=\"84.0\" stroke-linecap=\"round\" style=\"stroke:black;stroke-width:4\"/><line x1=\"224.0\" y1=\"84.0\" x2=\"224.0\" y2=\"56.0\" stroke-linecap=\"round\" style=\"stroke:black;stroke-width:4\"/><line x1=\"252.0\" y1=\"56.0\" x2=\"280.0\" y2=\"56.0\" stroke-linecap=\"round\" style=\"stroke:black;stroke-width:4\"/><line x1=\"280.0\" y1=\"56.0\" x2=\"280.0\" y2=\"84.0\" stroke-linecap=\"round\" style=\"stroke:black;stroke-width:4\"/><line x1=\"280.0\" y1=\"84.0\" x2=\"252.0\" y2=\"84.0\" stroke-linecap=\"round\" style=\"stroke:black;stroke-width:4\"/><line x1=\"252.0\" y1=\"84.0\" x2=\"252.0\" y2=\"56.0\" stroke-linecap=\"round\" style=\"stroke:black;stroke-width:4\"/><line x1=\"280.0\" y1=\"56.0\" x2=\"308.0\" y2=\"56.0\" stroke-linecap=\"round\" style=\"stroke:black;stroke-width:4\"/><line x1=\"308.0\" y1=\"56.0\" x2=\"308.0\" y2=\"84.0\" stroke-linecap=\"round\" style=\"stroke:black;stroke-width:4\"/><line x1=\"308.0\" y1=\"84.0\" x2=\"280.0\" y2=\"84.0\" stroke-linecap=\"round\" style=\"stroke:black;stroke-width:4\"/><line x1=\"280.0\" y1=\"84.0\" x2=\"280.0\" y2=\"56.0\" stroke-linecap=\"round\" style=\"stroke:black;stroke-width:4\"/><line x1=\"308.0\" y1=\"56.0\" x2=\"336.0\" y2=\"56.0\" stroke-linecap=\"round\" style=\"stroke:black;stroke-width:4\"/><line x1=\"336.0\" y1=\"56.0\" x2=\"336.0\" y2=\"84.0\" stroke-linecap=\"round\" style=\"stroke:black;stroke-width:4\"/><line x1=\"336.0\" y1=\"84.0\" x2=\"308.0\" y2=\"84.0\" stroke-linecap=\"round\" style=\"stroke:black;stroke-width:4\"/><line x1=\"308.0\" y1=\"84.0\" x2=\"308.0\" y2=\"56.0\" stroke-linecap=\"round\" style=\"stroke:black;stroke-width:4\"/><line x1=\"336.0\" y1=\"56.0\" x2=\"364.0\" y2=\"56.0\" stroke-linecap=\"round\" style=\"stroke:black;stroke-width:4\"/><line x1=\"364.0\" y1=\"56.0\" x2=\"364.0\" y2=\"84.0\" stroke-linecap=\"round\" style=\"stroke:black;stroke-width:4\"/><line x1=\"364.0\" y1=\"84.0\" x2=\"336.0\" y2=\"84.0\" stroke-linecap=\"round\" style=\"stroke:black;stroke-width:4\"/><line x1=\"336.0\" y1=\"84.0\" x2=\"336.0\" y2=\"56.0\" stroke-linecap=\"round\" style=\"stroke:black;stroke-width:4\"/><line x1=\"364.0\" y1=\"56.0\" x2=\"392.0\" y2=\"56.0\" stroke-linecap=\"round\" style=\"stroke:black;stroke-width:4\"/><line x1=\"392.0\" y1=\"56.0\" x2=\"392.0\" y2=\"84.0\" stroke-linecap=\"round\" style=\"stroke:black;stroke-width:4\"/><line x1=\"392.0\" y1=\"84.0\" x2=\"364.0\" y2=\"84.0\" stroke-linecap=\"round\" style=\"stroke:black;stroke-width:4\"/><line x1=\"364.0\" y1=\"84.0\" x2=\"364.0\" y2=\"56.0\" stroke-linecap=\"round\" style=\"stroke:black;stroke-width:4\"/><line x1=\"55.996\" y1=\"83.996\" x2=\"83.996\" y2=\"83.992\" stroke-linecap=\"round\" style=\"stroke:black;stroke-width:4\"/><line x1=\"83.996\" y1=\"83.992\" x2=\"84.0\" y2=\"111.992\" stroke-linecap=\"round\" style=\"stroke:black;stroke-width:4\"/><line x1=\"84.0\" y1=\"111.992\" x2=\"56.0\" y2=\"111.996\" stroke-linecap=\"round\" style=\"stroke:black;stroke-width:4\"/><line x1=\"56.0\" y1=\"111.996\" x2=\"55.996\" y2=\"83.996\" stroke-linecap=\"round\" style=\"stroke:black;stroke-width:4\"/><line x1=\"83.975\" y1=\"83.975\" x2=\"111.975\" y2=\"83.947\" stroke-linecap=\"round\" style=\"stroke:black;stroke-width:4\"/><line x1=\"111.975\" y1=\"83.947\" x2=\"112.003\" y2=\"111.947\" stroke-linecap=\"round\" style=\"stroke:black;stroke-width:4\"/><line x1=\"112.003\" y1=\"111.947\" x2=\"84.003\" y2=\"111.975\" stroke-linecap=\"round\" style=\"stroke:black;stroke-width:4\"/><line x1=\"84.003\" y1=\"111.975\" x2=\"83.975\" y2=\"83.975\" stroke-linecap=\"round\" style=\"stroke:black;stroke-width:4\"/><line x1=\"111.984\" y1=\"83.984\" x2=\"139.984\" y2=\"83.967\" stroke-linecap=\"round\" style=\"stroke:black;stroke-width:4\"/><line x1=\"139.984\" y1=\"83.967\" x2=\"140.001\" y2=\"111.967\" stroke-linecap=\"round\" style=\"stroke:black;stroke-width:4\"/><line x1=\"140.001\" y1=\"111.967\" x2=\"112.001\" y2=\"111.984\" stroke-linecap=\"round\" style=\"stroke:black;stroke-width:4\"/><line x1=\"112.001\" y1=\"111.984\" x2=\"111.984\" y2=\"83.984\" stroke-linecap=\"round\" style=\"stroke:black;stroke-width:4\"/><line x1=\"139.976\" y1=\"83.976\" x2=\"167.976\" y2=\"83.95\" stroke-linecap=\"round\" style=\"stroke:black;stroke-width:4\"/><line x1=\"167.976\" y1=\"83.95\" x2=\"168.002\" y2=\"111.95\" stroke-linecap=\"round\" style=\"stroke:black;stroke-width:4\"/><line x1=\"168.002\" y1=\"111.95\" x2=\"140.002\" y2=\"111.976\" stroke-linecap=\"round\" style=\"stroke:black;stroke-width:4\"/><line x1=\"140.002\" y1=\"111.976\" x2=\"139.976\" y2=\"83.976\" stroke-linecap=\"round\" style=\"stroke:black;stroke-width:4\"/><line x1=\"168.082\" y1=\"84.082\" x2=\"196.082\" y2=\"84.171\" stroke-linecap=\"round\" style=\"stroke:black;stroke-width:4\"/><line x1=\"196.082\" y1=\"84.171\" x2=\"195.993\" y2=\"112.171\" stroke-linecap=\"round\" style=\"stroke:black;stroke-width:4\"/><line x1=\"195.993\" y1=\"112.171\" x2=\"167.993\" y2=\"112.082\" stroke-linecap=\"round\" style=\"stroke:black;stroke-width:4\"/><line x1=\"167.993\" y1=\"112.082\" x2=\"168.082\" y2=\"84.082\" stroke-linecap=\"round\" style=\"stroke:black;stroke-width:4\"/><line x1=\"195.989\" y1=\"83.989\" x2=\"223.989\" y2=\"83.977\" stroke-linecap=\"round\" style=\"stroke:black;stroke-width:4\"/><line x1=\"223.989\" y1=\"83.977\" x2=\"224.001\" y2=\"111.977\" stroke-linecap=\"round\" style=\"stroke:black;stroke-width:4\"/><line x1=\"224.001\" y1=\"111.977\" x2=\"196.001\" y2=\"111.989\" stroke-linecap=\"round\" style=\"stroke:black;stroke-width:4\"/><line x1=\"196.001\" y1=\"111.989\" x2=\"195.989\" y2=\"83.989\" stroke-linecap=\"round\" style=\"stroke:black;stroke-width:4\"/><line x1=\"224.055\" y1=\"84.055\" x2=\"252.055\" y2=\"84.115\" stroke-linecap=\"round\" style=\"stroke:black;stroke-width:4\"/><line x1=\"252.055\" y1=\"84.115\" x2=\"251.995\" y2=\"112.115\" stroke-linecap=\"round\" style=\"stroke:black;stroke-width:4\"/><line x1=\"251.995\" y1=\"112.115\" x2=\"223.995\" y2=\"112.055\" stroke-linecap=\"round\" style=\"stroke:black;stroke-width:4\"/><line x1=\"223.995\" y1=\"112.055\" x2=\"224.055\" y2=\"84.055\" stroke-linecap=\"round\" style=\"stroke:black;stroke-width:4\"/><line x1=\"251.942\" y1=\"83.942\" x2=\"279.942\" y2=\"83.879\" stroke-linecap=\"round\" style=\"stroke:black;stroke-width:4\"/><line x1=\"279.942\" y1=\"83.879\" x2=\"280.005\" y2=\"111.879\" stroke-linecap=\"round\" style=\"stroke:black;stroke-width:4\"/><line x1=\"280.005\" y1=\"111.879\" x2=\"252.005\" y2=\"111.942\" stroke-linecap=\"round\" style=\"stroke:black;stroke-width:4\"/><line x1=\"252.005\" y1=\"111.942\" x2=\"251.942\" y2=\"83.942\" stroke-linecap=\"round\" style=\"stroke:black;stroke-width:4\"/><line x1=\"280.011\" y1=\"84.011\" x2=\"308.011\" y2=\"84.023\" stroke-linecap=\"round\" style=\"stroke:black;stroke-width:4\"/><line x1=\"308.011\" y1=\"84.023\" x2=\"307.999\" y2=\"112.023\" stroke-linecap=\"round\" style=\"stroke:black;stroke-width:4\"/><line x1=\"307.999\" y1=\"112.023\" x2=\"279.999\" y2=\"112.011\" stroke-linecap=\"round\" style=\"stroke:black;stroke-width:4\"/><line x1=\"279.999\" y1=\"112.011\" x2=\"280.011\" y2=\"84.011\" stroke-linecap=\"round\" style=\"stroke:black;stroke-width:4\"/><line x1=\"308.059\" y1=\"84.059\" x2=\"336.059\" y2=\"84.123\" stroke-linecap=\"round\" style=\"stroke:black;stroke-width:4\"/><line x1=\"336.059\" y1=\"84.123\" x2=\"335.995\" y2=\"112.123\" stroke-linecap=\"round\" style=\"stroke:black;stroke-width:4\"/><line x1=\"335.995\" y1=\"112.123\" x2=\"307.995\" y2=\"112.059\" stroke-linecap=\"round\" style=\"stroke:black;stroke-width:4\"/><line x1=\"307.995\" y1=\"112.059\" x2=\"308.059\" y2=\"84.059\" stroke-linecap=\"round\" style=\"stroke:black;stroke-width:4\"/><line x1=\"336.062\" y1=\"84.062\" x2=\"364.062\" y2=\"84.129\" stroke-linecap=\"round\" style=\"stroke:black;stroke-width:4\"/><line x1=\"364.062\" y1=\"84.129\" x2=\"363.995\" y2=\"112.129\" stroke-linecap=\"round\" style=\"stroke:black;stroke-width:4\"/><line x1=\"363.995\" y1=\"112.129\" x2=\"335.995\" y2=\"112.062\" stroke-linecap=\"round\" style=\"stroke:black;stroke-width:4\"/><line x1=\"335.995\" y1=\"112.062\" x2=\"336.062\" y2=\"84.062\" stroke-linecap=\"round\" style=\"stroke:black;stroke-width:4\"/><line x1=\"364.005\" y1=\"84.005\" x2=\"392.005\" y2=\"84.011\" stroke-linecap=\"round\" style=\"stroke:black;stroke-width:4\"/><line x1=\"392.005\" y1=\"84.011\" x2=\"391.999\" y2=\"112.011\" stroke-linecap=\"round\" style=\"stroke:black;stroke-width:4\"/><line x1=\"391.999\" y1=\"112.011\" x2=\"363.999\" y2=\"112.005\" stroke-linecap=\"round\" style=\"stroke:black;stroke-width:4\"/><line x1=\"363.999\" y1=\"112.005\" x2=\"364.005\" y2=\"84.005\" stroke-linecap=\"round\" style=\"stroke:black;stroke-width:4\"/><line x1=\"55.724\" y1=\"111.724\" x2=\"83.722\" y2=\"111.424\" stroke-linecap=\"round\" style=\"stroke:black;stroke-width:4\"/><line x1=\"83.722\" y1=\"111.424\" x2=\"84.022\" y2=\"139.422\" stroke-linecap=\"round\" style=\"stroke:black;stroke-width:4\"/><line x1=\"84.022\" y1=\"139.422\" x2=\"56.024\" y2=\"139.722\" stroke-linecap=\"round\" style=\"stroke:black;stroke-width:4\"/><line x1=\"56.024\" y1=\"139.722\" x2=\"55.724\" y2=\"111.724\" stroke-linecap=\"round\" style=\"stroke:black;stroke-width:4\"/><line x1=\"84.051\" y1=\"112.051\" x2=\"112.051\" y2=\"112.106\" stroke-linecap=\"round\" style=\"stroke:black;stroke-width:4\"/><line x1=\"112.051\" y1=\"112.106\" x2=\"111.996\" y2=\"140.106\" stroke-linecap=\"round\" style=\"stroke:black;stroke-width:4\"/><line x1=\"111.996\" y1=\"140.106\" x2=\"83.996\" y2=\"140.051\" stroke-linecap=\"round\" style=\"stroke:black;stroke-width:4\"/><line x1=\"83.996\" y1=\"140.051\" x2=\"84.051\" y2=\"112.051\" stroke-linecap=\"round\" style=\"stroke:black;stroke-width:4\"/><line x1=\"111.872\" y1=\"111.872\" x2=\"139.872\" y2=\"111.733\" stroke-linecap=\"round\" style=\"stroke:black;stroke-width:4\"/><line x1=\"139.872\" y1=\"111.733\" x2=\"140.011\" y2=\"139.733\" stroke-linecap=\"round\" style=\"stroke:black;stroke-width:4\"/><line x1=\"140.011\" y1=\"139.733\" x2=\"112.011\" y2=\"139.872\" stroke-linecap=\"round\" style=\"stroke:black;stroke-width:4\"/><line x1=\"112.011\" y1=\"139.872\" x2=\"111.872\" y2=\"111.872\" stroke-linecap=\"round\" style=\"stroke:black;stroke-width:4\"/><line x1=\"139.715\" y1=\"111.715\" x2=\"167.713\" y2=\"111.405\" stroke-linecap=\"round\" style=\"stroke:black;stroke-width:4\"/><line x1=\"167.713\" y1=\"111.405\" x2=\"168.023\" y2=\"139.403\" stroke-linecap=\"round\" style=\"stroke:black;stroke-width:4\"/><line x1=\"168.023\" y1=\"139.403\" x2=\"140.025\" y2=\"139.713\" stroke-linecap=\"round\" style=\"stroke:black;stroke-width:4\"/><line x1=\"140.025\" y1=\"139.713\" x2=\"139.715\" y2=\"111.715\" stroke-linecap=\"round\" style=\"stroke:black;stroke-width:4\"/><line x1=\"168.089\" y1=\"112.089\" x2=\"196.089\" y2=\"112.185\" stroke-linecap=\"round\" style=\"stroke:black;stroke-width:4\"/><line x1=\"196.089\" y1=\"112.185\" x2=\"195.993\" y2=\"140.185\" stroke-linecap=\"round\" style=\"stroke:black;stroke-width:4\"/><line x1=\"195.993\" y1=\"140.185\" x2=\"167.993\" y2=\"140.089\" stroke-linecap=\"round\" style=\"stroke:black;stroke-width:4\"/><line x1=\"167.993\" y1=\"140.089\" x2=\"168.089\" y2=\"112.089\" stroke-linecap=\"round\" style=\"stroke:black;stroke-width:4\"/><line x1=\"195.978\" y1=\"111.978\" x2=\"223.978\" y2=\"111.954\" stroke-linecap=\"round\" style=\"stroke:black;stroke-width:4\"/><line x1=\"223.978\" y1=\"111.954\" x2=\"224.002\" y2=\"139.954\" stroke-linecap=\"round\" style=\"stroke:black;stroke-width:4\"/><line x1=\"224.002\" y1=\"139.954\" x2=\"196.002\" y2=\"139.978\" stroke-linecap=\"round\" style=\"stroke:black;stroke-width:4\"/><line x1=\"196.002\" y1=\"139.978\" x2=\"195.978\" y2=\"111.978\" stroke-linecap=\"round\" style=\"stroke:black;stroke-width:4\"/><line x1=\"224.112\" y1=\"112.112\" x2=\"252.112\" y2=\"112.233\" stroke-linecap=\"round\" style=\"stroke:black;stroke-width:4\"/><line x1=\"252.112\" y1=\"112.233\" x2=\"251.991\" y2=\"140.233\" stroke-linecap=\"round\" style=\"stroke:black;stroke-width:4\"/><line x1=\"251.991\" y1=\"140.233\" x2=\"223.991\" y2=\"140.112\" stroke-linecap=\"round\" style=\"stroke:black;stroke-width:4\"/><line x1=\"223.991\" y1=\"140.112\" x2=\"224.112\" y2=\"112.112\" stroke-linecap=\"round\" style=\"stroke:black;stroke-width:4\"/><line x1=\"251.783\" y1=\"111.783\" x2=\"279.782\" y2=\"111.548\" stroke-linecap=\"round\" style=\"stroke:black;stroke-width:4\"/><line x1=\"279.782\" y1=\"111.548\" x2=\"280.017\" y2=\"139.547\" stroke-linecap=\"round\" style=\"stroke:black;stroke-width:4\"/><line x1=\"280.017\" y1=\"139.547\" x2=\"252.018\" y2=\"139.782\" stroke-linecap=\"round\" style=\"stroke:black;stroke-width:4\"/><line x1=\"252.018\" y1=\"139.782\" x2=\"251.783\" y2=\"111.783\" stroke-linecap=\"round\" style=\"stroke:black;stroke-width:4\"/><line x1=\"279.934\" y1=\"111.934\" x2=\"307.934\" y2=\"111.863\" stroke-linecap=\"round\" style=\"stroke:black;stroke-width:4\"/><line x1=\"307.934\" y1=\"111.863\" x2=\"308.005\" y2=\"139.863\" stroke-linecap=\"round\" style=\"stroke:black;stroke-width:4\"/><line x1=\"308.005\" y1=\"139.863\" x2=\"280.005\" y2=\"139.934\" stroke-linecap=\"round\" style=\"stroke:black;stroke-width:4\"/><line x1=\"280.005\" y1=\"139.934\" x2=\"279.934\" y2=\"111.934\" stroke-linecap=\"round\" style=\"stroke:black;stroke-width:4\"/><line x1=\"308.278\" y1=\"112.278\" x2=\"336.276\" y2=\"112.58\" stroke-linecap=\"round\" style=\"stroke:black;stroke-width:4\"/><line x1=\"336.276\" y1=\"112.58\" x2=\"335.974\" y2=\"140.578\" stroke-linecap=\"round\" style=\"stroke:black;stroke-width:4\"/><line x1=\"335.974\" y1=\"140.578\" x2=\"307.976\" y2=\"140.276\" stroke-linecap=\"round\" style=\"stroke:black;stroke-width:4\"/><line x1=\"307.976\" y1=\"140.276\" x2=\"308.278\" y2=\"112.278\" stroke-linecap=\"round\" style=\"stroke:black;stroke-width:4\"/><line x1=\"335.851\" y1=\"111.851\" x2=\"363.851\" y2=\"111.689\" stroke-linecap=\"round\" style=\"stroke:black;stroke-width:4\"/><line x1=\"363.851\" y1=\"111.689\" x2=\"364.013\" y2=\"139.689\" stroke-linecap=\"round\" style=\"stroke:black;stroke-width:4\"/><line x1=\"364.013\" y1=\"139.689\" x2=\"336.013\" y2=\"139.851\" stroke-linecap=\"round\" style=\"stroke:black;stroke-width:4\"/><line x1=\"336.013\" y1=\"139.851\" x2=\"335.851\" y2=\"111.851\" stroke-linecap=\"round\" style=\"stroke:black;stroke-width:4\"/><line x1=\"364.179\" y1=\"112.179\" x2=\"392.178\" y2=\"112.373\" stroke-linecap=\"round\" style=\"stroke:black;stroke-width:4\"/><line x1=\"392.178\" y1=\"112.373\" x2=\"391.984\" y2=\"140.372\" stroke-linecap=\"round\" style=\"stroke:black;stroke-width:4\"/><line x1=\"391.984\" y1=\"140.372\" x2=\"363.985\" y2=\"140.178\" stroke-linecap=\"round\" style=\"stroke:black;stroke-width:4\"/><line x1=\"363.985\" y1=\"140.178\" x2=\"364.179\" y2=\"112.179\" stroke-linecap=\"round\" style=\"stroke:black;stroke-width:4\"/><line x1=\"55.484\" y1=\"139.484\" x2=\"83.478\" y2=\"138.924\" stroke-linecap=\"round\" style=\"stroke:black;stroke-width:4\"/><line x1=\"83.478\" y1=\"138.924\" x2=\"84.038\" y2=\"166.918\" stroke-linecap=\"round\" style=\"stroke:black;stroke-width:4\"/><line x1=\"84.038\" y1=\"166.918\" x2=\"56.044\" y2=\"167.478\" stroke-linecap=\"round\" style=\"stroke:black;stroke-width:4\"/><line x1=\"56.044\" y1=\"167.478\" x2=\"55.484\" y2=\"139.484\" stroke-linecap=\"round\" style=\"stroke:black;stroke-width:4\"/><line x1=\"83.502\" y1=\"139.502\" x2=\"111.497\" y2=\"138.961\" stroke-linecap=\"round\" style=\"stroke:black;stroke-width:4\"/><line x1=\"111.497\" y1=\"138.961\" x2=\"112.038\" y2=\"166.956\" stroke-linecap=\"round\" style=\"stroke:black;stroke-width:4\"/><line x1=\"112.038\" y1=\"166.956\" x2=\"84.043\" y2=\"167.497\" stroke-linecap=\"round\" style=\"stroke:black;stroke-width:4\"/><line x1=\"84.043\" y1=\"167.497\" x2=\"83.502\" y2=\"139.502\" stroke-linecap=\"round\" style=\"stroke:black;stroke-width:4\"/><line x1=\"111.923\" y1=\"139.923\" x2=\"139.923\" y2=\"139.839\" stroke-linecap=\"round\" style=\"stroke:black;stroke-width:4\"/><line x1=\"139.923\" y1=\"139.839\" x2=\"140.007\" y2=\"167.839\" stroke-linecap=\"round\" style=\"stroke:black;stroke-width:4\"/><line x1=\"140.007\" y1=\"167.839\" x2=\"112.007\" y2=\"167.923\" stroke-linecap=\"round\" style=\"stroke:black;stroke-width:4\"/><line x1=\"112.007\" y1=\"167.923\" x2=\"111.923\" y2=\"139.923\" stroke-linecap=\"round\" style=\"stroke:black;stroke-width:4\"/><line x1=\"139.671\" y1=\"139.671\" x2=\"167.669\" y2=\"139.314\" stroke-linecap=\"round\" style=\"stroke:black;stroke-width:4\"/><line x1=\"167.669\" y1=\"139.314\" x2=\"168.026\" y2=\"167.312\" stroke-linecap=\"round\" style=\"stroke:black;stroke-width:4\"/><line x1=\"168.026\" y1=\"167.312\" x2=\"140.028\" y2=\"167.669\" stroke-linecap=\"round\" style=\"stroke:black;stroke-width:4\"/><line x1=\"140.028\" y1=\"167.669\" x2=\"139.671\" y2=\"139.671\" stroke-linecap=\"round\" style=\"stroke:black;stroke-width:4\"/><line x1=\"167.471\" y1=\"139.471\" x2=\"195.465\" y2=\"138.897\" stroke-linecap=\"round\" style=\"stroke:black;stroke-width:4\"/><line x1=\"195.465\" y1=\"138.897\" x2=\"196.039\" y2=\"166.891\" stroke-linecap=\"round\" style=\"stroke:black;stroke-width:4\"/><line x1=\"196.039\" y1=\"166.891\" x2=\"168.045\" y2=\"167.465\" stroke-linecap=\"round\" style=\"stroke:black;stroke-width:4\"/><line x1=\"168.045\" y1=\"167.465\" x2=\"167.471\" y2=\"139.471\" stroke-linecap=\"round\" style=\"stroke:black;stroke-width:4\"/><line x1=\"196.044\" y1=\"140.044\" x2=\"224.044\" y2=\"140.091\" stroke-linecap=\"round\" style=\"stroke:black;stroke-width:4\"/><line x1=\"224.044\" y1=\"140.091\" x2=\"223.997\" y2=\"168.091\" stroke-linecap=\"round\" style=\"stroke:black;stroke-width:4\"/><line x1=\"223.997\" y1=\"168.091\" x2=\"195.997\" y2=\"168.044\" stroke-linecap=\"round\" style=\"stroke:black;stroke-width:4\"/><line x1=\"195.997\" y1=\"168.044\" x2=\"196.044\" y2=\"140.044\" stroke-linecap=\"round\" style=\"stroke:black;stroke-width:4\"/><line x1=\"223.673\" y1=\"139.673\" x2=\"251.671\" y2=\"139.318\" stroke-linecap=\"round\" style=\"stroke:black;stroke-width:4\"/><line x1=\"251.671\" y1=\"139.318\" x2=\"252.026\" y2=\"167.316\" stroke-linecap=\"round\" style=\"stroke:black;stroke-width:4\"/><line x1=\"252.026\" y1=\"167.316\" x2=\"224.028\" y2=\"167.671\" stroke-linecap=\"round\" style=\"stroke:black;stroke-width:4\"/><line x1=\"224.028\" y1=\"167.671\" x2=\"223.673\" y2=\"139.673\" stroke-linecap=\"round\" style=\"stroke:black;stroke-width:4\"/><line x1=\"252.419\" y1=\"140.419\" x2=\"280.415\" y2=\"140.874\" stroke-linecap=\"round\" style=\"stroke:black;stroke-width:4\"/><line x1=\"280.415\" y1=\"140.874\" x2=\"279.96\" y2=\"168.87\" stroke-linecap=\"round\" style=\"stroke:black;stroke-width:4\"/><line x1=\"279.96\" y1=\"168.87\" x2=\"251.964\" y2=\"168.415\" stroke-linecap=\"round\" style=\"stroke:black;stroke-width:4\"/><line x1=\"251.964\" y1=\"168.415\" x2=\"252.419\" y2=\"140.419\" stroke-linecap=\"round\" style=\"stroke:black;stroke-width:4\"/><line x1=\"280.014\" y1=\"140.014\" x2=\"308.014\" y2=\"140.029\" stroke-linecap=\"round\" style=\"stroke:black;stroke-width:4\"/><line x1=\"308.014\" y1=\"140.029\" x2=\"307.999\" y2=\"168.029\" stroke-linecap=\"round\" style=\"stroke:black;stroke-width:4\"/><line x1=\"307.999\" y1=\"168.029\" x2=\"279.999\" y2=\"168.014\" stroke-linecap=\"round\" style=\"stroke:black;stroke-width:4\"/><line x1=\"279.999\" y1=\"168.014\" x2=\"280.014\" y2=\"140.014\" stroke-linecap=\"round\" style=\"stroke:black;stroke-width:4\"/><line x1=\"308.328\" y1=\"140.328\" x2=\"336.326\" y2=\"140.684\" stroke-linecap=\"round\" style=\"stroke:black;stroke-width:4\"/><line x1=\"336.326\" y1=\"140.684\" x2=\"335.97\" y2=\"168.682\" stroke-linecap=\"round\" style=\"stroke:black;stroke-width:4\"/><line x1=\"335.97\" y1=\"168.682\" x2=\"307.972\" y2=\"168.326\" stroke-linecap=\"round\" style=\"stroke:black;stroke-width:4\"/><line x1=\"307.972\" y1=\"168.326\" x2=\"308.328\" y2=\"140.328\" stroke-linecap=\"round\" style=\"stroke:black;stroke-width:4\"/><line x1=\"335.832\" y1=\"139.832\" x2=\"363.831\" y2=\"139.65\" stroke-linecap=\"round\" style=\"stroke:black;stroke-width:4\"/><line x1=\"363.831\" y1=\"139.65\" x2=\"364.013\" y2=\"167.649\" stroke-linecap=\"round\" style=\"stroke:black;stroke-width:4\"/><line x1=\"364.013\" y1=\"167.649\" x2=\"336.014\" y2=\"167.831\" stroke-linecap=\"round\" style=\"stroke:black;stroke-width:4\"/><line x1=\"336.014\" y1=\"167.831\" x2=\"335.832\" y2=\"139.832\" stroke-linecap=\"round\" style=\"stroke:black;stroke-width:4\"/><line x1=\"363.616\" y1=\"139.616\" x2=\"391.613\" y2=\"139.198\" stroke-linecap=\"round\" style=\"stroke:black;stroke-width:4\"/><line x1=\"391.613\" y1=\"139.198\" x2=\"392.031\" y2=\"167.195\" stroke-linecap=\"round\" style=\"stroke:black;stroke-width:4\"/><line x1=\"392.031\" y1=\"167.195\" x2=\"364.034\" y2=\"167.613\" stroke-linecap=\"round\" style=\"stroke:black;stroke-width:4\"/><line x1=\"364.034\" y1=\"167.613\" x2=\"363.616\" y2=\"139.616\" stroke-linecap=\"round\" style=\"stroke:black;stroke-width:4\"/><line x1=\"56.554\" y1=\"168.554\" x2=\"84.548\" y2=\"169.156\" stroke-linecap=\"round\" style=\"stroke:black;stroke-width:4\"/><line x1=\"84.548\" y1=\"169.156\" x2=\"83.946\" y2=\"197.15\" stroke-linecap=\"round\" style=\"stroke:black;stroke-width:4\"/><line x1=\"83.946\" y1=\"197.15\" x2=\"55.952\" y2=\"196.548\" stroke-linecap=\"round\" style=\"stroke:black;stroke-width:4\"/><line x1=\"55.952\" y1=\"196.548\" x2=\"56.554\" y2=\"168.554\" stroke-linecap=\"round\" style=\"stroke:black;stroke-width:4\"/><line x1=\"84.413\" y1=\"168.413\" x2=\"112.409\" y2=\"168.862\" stroke-linecap=\"round\" style=\"stroke:black;stroke-width:4\"/><line x1=\"112.409\" y1=\"168.862\" x2=\"111.96\" y2=\"196.858\" stroke-linecap=\"round\" style=\"stroke:black;stroke-width:4\"/><line x1=\"111.96\" y1=\"196.858\" x2=\"83.964\" y2=\"196.409\" stroke-linecap=\"round\" style=\"stroke:black;stroke-width:4\"/><line x1=\"83.964\" y1=\"196.409\" x2=\"84.413\" y2=\"168.413\" stroke-linecap=\"round\" style=\"stroke:black;stroke-width:4\"/><line x1=\"111.794\" y1=\"167.794\" x2=\"139.793\" y2=\"167.57\" stroke-linecap=\"round\" style=\"stroke:black;stroke-width:4\"/><line x1=\"139.793\" y1=\"167.57\" x2=\"140.017\" y2=\"195.569\" stroke-linecap=\"round\" style=\"stroke:black;stroke-width:4\"/><line x1=\"140.017\" y1=\"195.569\" x2=\"112.018\" y2=\"195.793\" stroke-linecap=\"round\" style=\"stroke:black;stroke-width:4\"/><line x1=\"112.018\" y1=\"195.793\" x2=\"111.794\" y2=\"167.794\" stroke-linecap=\"round\" style=\"stroke:black;stroke-width:4\"/><line x1=\"140.175\" y1=\"168.175\" x2=\"168.174\" y2=\"168.365\" stroke-linecap=\"round\" style=\"stroke:black;stroke-width:4\"/><line x1=\"168.174\" y1=\"168.365\" x2=\"167.984\" y2=\"196.364\" stroke-linecap=\"round\" style=\"stroke:black;stroke-width:4\"/><line x1=\"167.984\" y1=\"196.364\" x2=\"139.985\" y2=\"196.174\" stroke-linecap=\"round\" style=\"stroke:black;stroke-width:4\"/><line x1=\"139.985\" y1=\"196.174\" x2=\"140.175\" y2=\"168.175\" stroke-linecap=\"round\" style=\"stroke:black;stroke-width:4\"/><line x1=\"167.959\" y1=\"167.959\" x2=\"195.959\" y2=\"167.915\" stroke-linecap=\"round\" style=\"stroke:black;stroke-width:4\"/><line x1=\"195.959\" y1=\"167.915\" x2=\"196.003\" y2=\"195.915\" stroke-linecap=\"round\" style=\"stroke:black;stroke-width:4\"/><line x1=\"196.003\" y1=\"195.915\" x2=\"168.003\" y2=\"195.959\" stroke-linecap=\"round\" style=\"stroke:black;stroke-width:4\"/><line x1=\"168.003\" y1=\"195.959\" x2=\"167.959\" y2=\"167.959\" stroke-linecap=\"round\" style=\"stroke:black;stroke-width:4\"/><line x1=\"195.048\" y1=\"167.048\" x2=\"223.029\" y2=\"166.015\" stroke-linecap=\"round\" style=\"stroke:black;stroke-width:4\"/><line x1=\"223.029\" y1=\"166.015\" x2=\"224.062\" y2=\"193.996\" stroke-linecap=\"round\" style=\"stroke:black;stroke-width:4\"/><line x1=\"224.062\" y1=\"193.996\" x2=\"196.081\" y2=\"195.029\" stroke-linecap=\"round\" style=\"stroke:black;stroke-width:4\"/><line x1=\"196.081\" y1=\"195.029\" x2=\"195.048\" y2=\"167.048\" stroke-linecap=\"round\" style=\"stroke:black;stroke-width:4\"/><line x1=\"223.271\" y1=\"167.271\" x2=\"251.26\" y2=\"166.479\" stroke-linecap=\"round\" style=\"stroke:black;stroke-width:4\"/><line x1=\"251.26\" y1=\"166.479\" x2=\"252.052\" y2=\"194.468\" stroke-linecap=\"round\" style=\"stroke:black;stroke-width:4\"/><line x1=\"252.052\" y1=\"194.468\" x2=\"224.063\" y2=\"195.26\" stroke-linecap=\"round\" style=\"stroke:black;stroke-width:4\"/><line x1=\"224.063\" y1=\"195.26\" x2=\"223.271\" y2=\"167.271\" stroke-linecap=\"round\" style=\"stroke:black;stroke-width:4\"/><line x1=\"251.095\" y1=\"167.095\" x2=\"279.078\" y2=\"166.112\" stroke-linecap=\"round\" style=\"stroke:black;stroke-width:4\"/><line x1=\"279.078\" y1=\"166.112\" x2=\"280.061\" y2=\"194.095\" stroke-linecap=\"round\" style=\"stroke:black;stroke-width:4\"/><line x1=\"280.061\" y1=\"194.095\" x2=\"252.078\" y2=\"195.078\" stroke-linecap=\"round\" style=\"stroke:black;stroke-width:4\"/><line x1=\"252.078\" y1=\"195.078\" x2=\"251.095\" y2=\"167.095\" stroke-linecap=\"round\" style=\"stroke:black;stroke-width:4\"/><line x1=\"280.317\" y1=\"168.317\" x2=\"308.315\" y2=\"168.662\" stroke-linecap=\"round\" style=\"stroke:black;stroke-width:4\"/><line x1=\"308.315\" y1=\"168.662\" x2=\"307.97\" y2=\"196.66\" stroke-linecap=\"round\" style=\"stroke:black;stroke-width:4\"/><line x1=\"307.97\" y1=\"196.66\" x2=\"279.972\" y2=\"196.315\" stroke-linecap=\"round\" style=\"stroke:black;stroke-width:4\"/><line x1=\"279.972\" y1=\"196.315\" x2=\"280.317\" y2=\"168.317\" stroke-linecap=\"round\" style=\"stroke:black;stroke-width:4\"/><line x1=\"307.488\" y1=\"167.488\" x2=\"335.482\" y2=\"166.932\" stroke-linecap=\"round\" style=\"stroke:black;stroke-width:4\"/><line x1=\"335.482\" y1=\"166.932\" x2=\"336.038\" y2=\"194.926\" stroke-linecap=\"round\" style=\"stroke:black;stroke-width:4\"/><line x1=\"336.038\" y1=\"194.926\" x2=\"308.044\" y2=\"195.482\" stroke-linecap=\"round\" style=\"stroke:black;stroke-width:4\"/><line x1=\"308.044\" y1=\"195.482\" x2=\"307.488\" y2=\"167.488\" stroke-linecap=\"round\" style=\"stroke:black;stroke-width:4\"/><line x1=\"335.495\" y1=\"167.495\" x2=\"363.49\" y2=\"166.946\" stroke-linecap=\"round\" style=\"stroke:black;stroke-width:4\"/><line x1=\"363.49\" y1=\"166.946\" x2=\"364.039\" y2=\"194.941\" stroke-linecap=\"round\" style=\"stroke:black;stroke-width:4\"/><line x1=\"364.039\" y1=\"194.941\" x2=\"336.044\" y2=\"195.49\" stroke-linecap=\"round\" style=\"stroke:black;stroke-width:4\"/><line x1=\"336.044\" y1=\"195.49\" x2=\"335.495\" y2=\"167.495\" stroke-linecap=\"round\" style=\"stroke:black;stroke-width:4\"/><line x1=\"363.975\" y1=\"167.975\" x2=\"391.975\" y2=\"167.948\" stroke-linecap=\"round\" style=\"stroke:black;stroke-width:4\"/><line x1=\"391.975\" y1=\"167.948\" x2=\"392.002\" y2=\"195.948\" stroke-linecap=\"round\" style=\"stroke:black;stroke-width:4\"/><line x1=\"392.002\" y1=\"195.948\" x2=\"364.002\" y2=\"195.975\" stroke-linecap=\"round\" style=\"stroke:black;stroke-width:4\"/><line x1=\"364.002\" y1=\"195.975\" x2=\"363.975\" y2=\"167.975\" stroke-linecap=\"round\" style=\"stroke:black;stroke-width:4\"/><line x1=\"56.456\" y1=\"196.456\" x2=\"84.452\" y2=\"196.951\" stroke-linecap=\"round\" style=\"stroke:black;stroke-width:4\"/><line x1=\"84.452\" y1=\"196.951\" x2=\"83.957\" y2=\"224.947\" stroke-linecap=\"round\" style=\"stroke:black;stroke-width:4\"/><line x1=\"83.957\" y1=\"224.947\" x2=\"55.961\" y2=\"224.452\" stroke-linecap=\"round\" style=\"stroke:black;stroke-width:4\"/><line x1=\"55.961\" y1=\"224.452\" x2=\"56.456\" y2=\"196.456\" stroke-linecap=\"round\" style=\"stroke:black;stroke-width:4\"/><line x1=\"85.022\" y1=\"197.022\" x2=\"113.0\" y2=\"198.131\" stroke-linecap=\"round\" style=\"stroke:black;stroke-width:4\"/><line x1=\"113.0\" y1=\"198.131\" x2=\"111.891\" y2=\"226.109\" stroke-linecap=\"round\" style=\"stroke:black;stroke-width:4\"/><line x1=\"111.891\" y1=\"226.109\" x2=\"83.913\" y2=\"225.0\" stroke-linecap=\"round\" style=\"stroke:black;stroke-width:4\"/><line x1=\"83.913\" y1=\"225.0\" x2=\"85.022\" y2=\"197.022\" stroke-linecap=\"round\" style=\"stroke:black;stroke-width:4\"/><line x1=\"112.578\" y1=\"196.578\" x2=\"140.571\" y2=\"197.206\" stroke-linecap=\"round\" style=\"stroke:black;stroke-width:4\"/><line x1=\"140.571\" y1=\"197.206\" x2=\"139.943\" y2=\"225.199\" stroke-linecap=\"round\" style=\"stroke:black;stroke-width:4\"/><line x1=\"139.943\" y1=\"225.199\" x2=\"111.95\" y2=\"224.571\" stroke-linecap=\"round\" style=\"stroke:black;stroke-width:4\"/><line x1=\"111.95\" y1=\"224.571\" x2=\"112.578\" y2=\"196.578\" stroke-linecap=\"round\" style=\"stroke:black;stroke-width:4\"/><line x1=\"140.131\" y1=\"196.131\" x2=\"168.131\" y2=\"196.273\" stroke-linecap=\"round\" style=\"stroke:black;stroke-width:4\"/><line x1=\"168.131\" y1=\"196.273\" x2=\"167.989\" y2=\"224.273\" stroke-linecap=\"round\" style=\"stroke:black;stroke-width:4\"/><line x1=\"167.989\" y1=\"224.273\" x2=\"139.989\" y2=\"224.131\" stroke-linecap=\"round\" style=\"stroke:black;stroke-width:4\"/><line x1=\"139.989\" y1=\"224.131\" x2=\"140.131\" y2=\"196.131\" stroke-linecap=\"round\" style=\"stroke:black;stroke-width:4\"/><line x1=\"168.713\" y1=\"196.713\" x2=\"196.702\" y2=\"197.487\" stroke-linecap=\"round\" style=\"stroke:black;stroke-width:4\"/><line x1=\"196.702\" y1=\"197.487\" x2=\"195.928\" y2=\"225.476\" stroke-linecap=\"round\" style=\"stroke:black;stroke-width:4\"/><line x1=\"195.928\" y1=\"225.476\" x2=\"167.939\" y2=\"224.702\" stroke-linecap=\"round\" style=\"stroke:black;stroke-width:4\"/><line x1=\"167.939\" y1=\"224.702\" x2=\"168.713\" y2=\"196.713\" stroke-linecap=\"round\" style=\"stroke:black;stroke-width:4\"/><line x1=\"196.646\" y1=\"196.646\" x2=\"224.637\" y2=\"197.347\" stroke-linecap=\"round\" style=\"stroke:black;stroke-width:4\"/><line x1=\"224.637\" y1=\"197.347\" x2=\"223.936\" y2=\"225.338\" stroke-linecap=\"round\" style=\"stroke:black;stroke-width:4\"/><line x1=\"223.936\" y1=\"225.338\" x2=\"195.945\" y2=\"224.637\" stroke-linecap=\"round\" style=\"stroke:black;stroke-width:4\"/><line x1=\"195.945\" y1=\"224.637\" x2=\"196.646\" y2=\"196.646\" stroke-linecap=\"round\" style=\"stroke:black;stroke-width:4\"/><line x1=\"225.216\" y1=\"197.216\" x2=\"253.185\" y2=\"198.536\" stroke-linecap=\"round\" style=\"stroke:black;stroke-width:4\"/><line x1=\"253.185\" y1=\"198.536\" x2=\"251.865\" y2=\"226.505\" stroke-linecap=\"round\" style=\"stroke:black;stroke-width:4\"/><line x1=\"251.865\" y1=\"226.505\" x2=\"223.896\" y2=\"225.185\" stroke-linecap=\"round\" style=\"stroke:black;stroke-width:4\"/><line x1=\"223.896\" y1=\"225.185\" x2=\"225.216\" y2=\"197.216\" stroke-linecap=\"round\" style=\"stroke:black;stroke-width:4\"/><line x1=\"253.203\" y1=\"197.203\" x2=\"281.173\" y2=\"198.509\" stroke-linecap=\"round\" style=\"stroke:black;stroke-width:4\"/><line x1=\"281.173\" y1=\"198.509\" x2=\"279.867\" y2=\"226.479\" stroke-linecap=\"round\" style=\"stroke:black;stroke-width:4\"/><line x1=\"279.867\" y1=\"226.479\" x2=\"251.897\" y2=\"225.173\" stroke-linecap=\"round\" style=\"stroke:black;stroke-width:4\"/><line x1=\"251.897\" y1=\"225.173\" x2=\"253.203\" y2=\"197.203\" stroke-linecap=\"round\" style=\"stroke:black;stroke-width:4\"/><line x1=\"279.731\" y1=\"195.731\" x2=\"307.729\" y2=\"195.439\" stroke-linecap=\"round\" style=\"stroke:black;stroke-width:4\"/><line x1=\"307.729\" y1=\"195.439\" x2=\"308.021\" y2=\"223.437\" stroke-linecap=\"round\" style=\"stroke:black;stroke-width:4\"/><line x1=\"308.021\" y1=\"223.437\" x2=\"280.023\" y2=\"223.729\" stroke-linecap=\"round\" style=\"stroke:black;stroke-width:4\"/><line x1=\"280.023\" y1=\"223.729\" x2=\"279.731\" y2=\"195.731\" stroke-linecap=\"round\" style=\"stroke:black;stroke-width:4\"/><line x1=\"308.573\" y1=\"196.573\" x2=\"336.566\" y2=\"197.195\" stroke-linecap=\"round\" style=\"stroke:black;stroke-width:4\"/><line x1=\"336.566\" y1=\"197.195\" x2=\"335.944\" y2=\"225.188\" stroke-linecap=\"round\" style=\"stroke:black;stroke-width:4\"/><line x1=\"335.944\" y1=\"225.188\" x2=\"307.951\" y2=\"224.566\" stroke-linecap=\"round\" style=\"stroke:black;stroke-width:4\"/><line x1=\"307.951\" y1=\"224.566\" x2=\"308.573\" y2=\"196.573\" stroke-linecap=\"round\" style=\"stroke:black;stroke-width:4\"/><line x1=\"336.983\" y1=\"196.983\" x2=\"364.963\" y2=\"198.05\" stroke-linecap=\"round\" style=\"stroke:black;stroke-width:4\"/><line x1=\"364.963\" y1=\"198.05\" x2=\"363.896\" y2=\"226.03\" stroke-linecap=\"round\" style=\"stroke:black;stroke-width:4\"/><line x1=\"363.896\" y1=\"226.03\" x2=\"335.916\" y2=\"224.963\" stroke-linecap=\"round\" style=\"stroke:black;stroke-width:4\"/><line x1=\"335.916\" y1=\"224.963\" x2=\"336.983\" y2=\"196.983\" stroke-linecap=\"round\" style=\"stroke:black;stroke-width:4\"/><line x1=\"364.156\" y1=\"196.156\" x2=\"392.155\" y2=\"196.326\" stroke-linecap=\"round\" style=\"stroke:black;stroke-width:4\"/><line x1=\"392.155\" y1=\"196.326\" x2=\"391.985\" y2=\"224.325\" stroke-linecap=\"round\" style=\"stroke:black;stroke-width:4\"/><line x1=\"391.985\" y1=\"224.325\" x2=\"363.986\" y2=\"224.155\" stroke-linecap=\"round\" style=\"stroke:black;stroke-width:4\"/><line x1=\"363.986\" y1=\"224.155\" x2=\"364.156\" y2=\"196.156\" stroke-linecap=\"round\" style=\"stroke:black;stroke-width:4\"/><line x1=\"55.262\" y1=\"223.262\" x2=\"83.251\" y2=\"222.461\" stroke-linecap=\"round\" style=\"stroke:black;stroke-width:4\"/><line x1=\"83.251\" y1=\"222.461\" x2=\"84.052\" y2=\"250.45\" stroke-linecap=\"round\" style=\"stroke:black;stroke-width:4\"/><line x1=\"84.052\" y1=\"250.45\" x2=\"56.063\" y2=\"251.251\" stroke-linecap=\"round\" style=\"stroke:black;stroke-width:4\"/><line x1=\"56.063\" y1=\"251.251\" x2=\"55.262\" y2=\"223.262\" stroke-linecap=\"round\" style=\"stroke:black;stroke-width:4\"/><line x1=\"83.008\" y1=\"223.008\" x2=\"110.987\" y2=\"221.931\" stroke-linecap=\"round\" style=\"stroke:black;stroke-width:4\"/><line x1=\"110.987\" y1=\"221.931\" x2=\"112.064\" y2=\"249.91\" stroke-linecap=\"round\" style=\"stroke:black;stroke-width:4\"/><line x1=\"112.064\" y1=\"249.91\" x2=\"84.085\" y2=\"250.987\" stroke-linecap=\"round\" style=\"stroke:black;stroke-width:4\"/><line x1=\"84.085\" y1=\"250.987\" x2=\"83.008\" y2=\"223.008\" stroke-linecap=\"round\" style=\"stroke:black;stroke-width:4\"/><line x1=\"112.111\" y1=\"224.111\" x2=\"140.111\" y2=\"224.231\" stroke-linecap=\"round\" style=\"stroke:black;stroke-width:4\"/><line x1=\"140.111\" y1=\"224.231\" x2=\"139.991\" y2=\"252.231\" stroke-linecap=\"round\" style=\"stroke:black;stroke-width:4\"/><line x1=\"139.991\" y1=\"252.231\" x2=\"111.991\" y2=\"252.111\" stroke-linecap=\"round\" style=\"stroke:black;stroke-width:4\"/><line x1=\"111.991\" y1=\"252.111\" x2=\"112.111\" y2=\"224.111\" stroke-linecap=\"round\" style=\"stroke:black;stroke-width:4\"/><line x1=\"139.835\" y1=\"223.835\" x2=\"167.834\" y2=\"223.656\" stroke-linecap=\"round\" style=\"stroke:black;stroke-width:4\"/><line x1=\"167.834\" y1=\"223.656\" x2=\"168.013\" y2=\"251.655\" stroke-linecap=\"round\" style=\"stroke:black;stroke-width:4\"/><line x1=\"168.013\" y1=\"251.655\" x2=\"140.014\" y2=\"251.834\" stroke-linecap=\"round\" style=\"stroke:black;stroke-width:4\"/><line x1=\"140.014\" y1=\"251.834\" x2=\"139.835\" y2=\"223.835\" stroke-linecap=\"round\" style=\"stroke:black;stroke-width:4\"/><line x1=\"167.756\" y1=\"223.756\" x2=\"195.755\" y2=\"223.491\" stroke-linecap=\"round\" style=\"stroke:black;stroke-width:4\"/><line x1=\"195.755\" y1=\"223.491\" x2=\"196.02\" y2=\"251.49\" stroke-linecap=\"round\" style=\"stroke:black;stroke-width:4\"/><line x1=\"196.02\" y1=\"251.49\" x2=\"168.021\" y2=\"251.755\" stroke-linecap=\"round\" style=\"stroke:black;stroke-width:4\"/><line x1=\"168.021\" y1=\"251.755\" x2=\"167.756\" y2=\"223.756\" stroke-linecap=\"round\" style=\"stroke:black;stroke-width:4\"/><line x1=\"197.927\" y1=\"225.927\" x2=\"225.849\" y2=\"228.017\" stroke-linecap=\"round\" style=\"stroke:black;stroke-width:4\"/><line x1=\"225.849\" y1=\"228.017\" x2=\"223.759\" y2=\"255.939\" stroke-linecap=\"round\" style=\"stroke:black;stroke-width:4\"/><line x1=\"223.759\" y1=\"255.939\" x2=\"195.837\" y2=\"253.849\" stroke-linecap=\"round\" style=\"stroke:black;stroke-width:4\"/><line x1=\"195.837\" y1=\"253.849\" x2=\"197.927\" y2=\"225.927\" stroke-linecap=\"round\" style=\"stroke:black;stroke-width:4\"/><line x1=\"225.049\" y1=\"225.049\" x2=\"253.026\" y2=\"226.187\" stroke-linecap=\"round\" style=\"stroke:black;stroke-width:4\"/><line x1=\"253.026\" y1=\"226.187\" x2=\"251.888\" y2=\"254.164\" stroke-linecap=\"round\" style=\"stroke:black;stroke-width:4\"/><line x1=\"251.888\" y1=\"254.164\" x2=\"223.911\" y2=\"253.026\" stroke-linecap=\"round\" style=\"stroke:black;stroke-width:4\"/><line x1=\"223.911\" y1=\"253.026\" x2=\"225.049\" y2=\"225.049\" stroke-linecap=\"round\" style=\"stroke:black;stroke-width:4\"/><line x1=\"250.986\" y1=\"222.986\" x2=\"278.964\" y2=\"221.885\" stroke-linecap=\"round\" style=\"stroke:black;stroke-width:4\"/><line x1=\"278.964\" y1=\"221.885\" x2=\"280.065\" y2=\"249.863\" stroke-linecap=\"round\" style=\"stroke:black;stroke-width:4\"/><line x1=\"280.065\" y1=\"249.863\" x2=\"252.087\" y2=\"250.964\" stroke-linecap=\"round\" style=\"stroke:black;stroke-width:4\"/><line x1=\"252.087\" y1=\"250.964\" x2=\"250.986\" y2=\"222.986\" stroke-linecap=\"round\" style=\"stroke:black;stroke-width:4\"/><line x1=\"278.862\" y1=\"222.862\" x2=\"306.835\" y2=\"221.626\" stroke-linecap=\"round\" style=\"stroke:black;stroke-width:4\"/><line x1=\"306.835\" y1=\"221.626\" x2=\"308.071\" y2=\"249.599\" stroke-linecap=\"round\" style=\"stroke:black;stroke-width:4\"/><line x1=\"308.071\" y1=\"249.599\" x2=\"280.098\" y2=\"250.835\" stroke-linecap=\"round\" style=\"stroke:black;stroke-width:4\"/><line x1=\"280.098\" y1=\"250.835\" x2=\"278.862\" y2=\"222.862\" stroke-linecap=\"round\" style=\"stroke:black;stroke-width:4\"/><line x1=\"308.24\" y1=\"224.24\" x2=\"336.239\" y2=\"224.501\" stroke-linecap=\"round\" style=\"stroke:black;stroke-width:4\"/><line x1=\"336.239\" y1=\"224.501\" x2=\"335.978\" y2=\"252.5\" stroke-linecap=\"round\" style=\"stroke:black;stroke-width:4\"/><line x1=\"335.978\" y1=\"252.5\" x2=\"307.979\" y2=\"252.239\" stroke-linecap=\"round\" style=\"stroke:black;stroke-width:4\"/><line x1=\"307.979\" y1=\"252.239\" x2=\"308.24\" y2=\"224.24\" stroke-linecap=\"round\" style=\"stroke:black;stroke-width:4\"/><line x1=\"334.279\" y1=\"222.279\" x2=\"362.217\" y2=\"220.411\" stroke-linecap=\"round\" style=\"stroke:black;stroke-width:4\"/><line x1=\"362.217\" y1=\"220.411\" x2=\"364.085\" y2=\"248.349\" stroke-linecap=\"round\" style=\"stroke:black;stroke-width:4\"/><line x1=\"364.085\" y1=\"248.349\" x2=\"336.147\" y2=\"250.217\" stroke-linecap=\"round\" style=\"stroke:black;stroke-width:4\"/><line x1=\"336.147\" y1=\"250.217\" x2=\"334.279\" y2=\"222.279\" stroke-linecap=\"round\" style=\"stroke:black;stroke-width:4\"/><line x1=\"362.844\" y1=\"222.844\" x2=\"390.816\" y2=\"221.589\" stroke-linecap=\"round\" style=\"stroke:black;stroke-width:4\"/><line x1=\"390.816\" y1=\"221.589\" x2=\"392.071\" y2=\"249.561\" stroke-linecap=\"round\" style=\"stroke:black;stroke-width:4\"/><line x1=\"392.071\" y1=\"249.561\" x2=\"364.099\" y2=\"250.816\" stroke-linecap=\"round\" style=\"stroke:black;stroke-width:4\"/><line x1=\"364.099\" y1=\"250.816\" x2=\"362.844\" y2=\"222.844\" stroke-linecap=\"round\" style=\"stroke:black;stroke-width:4\"/><line x1=\"58.57\" y1=\"254.57\" x2=\"86.431\" y2=\"257.356\" stroke-linecap=\"round\" style=\"stroke:black;stroke-width:4\"/><line x1=\"86.431\" y1=\"257.356\" x2=\"83.645\" y2=\"285.217\" stroke-linecap=\"round\" style=\"stroke:black;stroke-width:4\"/><line x1=\"83.645\" y1=\"285.217\" x2=\"55.784\" y2=\"282.431\" stroke-linecap=\"round\" style=\"stroke:black;stroke-width:4\"/><line x1=\"55.784\" y1=\"282.431\" x2=\"58.57\" y2=\"254.57\" stroke-linecap=\"round\" style=\"stroke:black;stroke-width:4\"/><line x1=\"81.244\" y1=\"249.244\" x2=\"109.084\" y2=\"246.257\" stroke-linecap=\"round\" style=\"stroke:black;stroke-width:4\"/><line x1=\"109.084\" y1=\"246.257\" x2=\"112.071\" y2=\"274.097\" stroke-linecap=\"round\" style=\"stroke:black;stroke-width:4\"/><line x1=\"112.071\" y1=\"274.097\" x2=\"84.231\" y2=\"277.084\" stroke-linecap=\"round\" style=\"stroke:black;stroke-width:4\"/><line x1=\"84.231\" y1=\"277.084\" x2=\"81.244\" y2=\"249.244\" stroke-linecap=\"round\" style=\"stroke:black;stroke-width:4\"/><line x1=\"110.95\" y1=\"250.95\" x2=\"138.927\" y2=\"249.81\" stroke-linecap=\"round\" style=\"stroke:black;stroke-width:4\"/><line x1=\"138.927\" y1=\"249.81\" x2=\"140.067\" y2=\"277.787\" stroke-linecap=\"round\" style=\"stroke:black;stroke-width:4\"/><line x1=\"140.067\" y1=\"277.787\" x2=\"112.09\" y2=\"278.927\" stroke-linecap=\"round\" style=\"stroke:black;stroke-width:4\"/><line x1=\"112.09\" y1=\"278.927\" x2=\"110.95\" y2=\"250.95\" stroke-linecap=\"round\" style=\"stroke:black;stroke-width:4\"/><line x1=\"141.353\" y1=\"253.353\" x2=\"169.314\" y2=\"254.822\" stroke-linecap=\"round\" style=\"stroke:black;stroke-width:4\"/><line x1=\"169.314\" y1=\"254.822\" x2=\"167.845\" y2=\"282.783\" stroke-linecap=\"round\" style=\"stroke:black;stroke-width:4\"/><line x1=\"167.845\" y1=\"282.783\" x2=\"139.884\" y2=\"281.314\" stroke-linecap=\"round\" style=\"stroke:black;stroke-width:4\"/><line x1=\"139.884\" y1=\"281.314\" x2=\"141.353\" y2=\"253.353\" stroke-linecap=\"round\" style=\"stroke:black;stroke-width:4\"/><line x1=\"166.787\" y1=\"250.787\" x2=\"194.756\" y2=\"249.47\" stroke-linecap=\"round\" style=\"stroke:black;stroke-width:4\"/><line x1=\"194.756\" y1=\"249.47\" x2=\"196.073\" y2=\"277.439\" stroke-linecap=\"round\" style=\"stroke:black;stroke-width:4\"/><line x1=\"196.073\" y1=\"277.439\" x2=\"168.104\" y2=\"278.756\" stroke-linecap=\"round\" style=\"stroke:black;stroke-width:4\"/><line x1=\"168.104\" y1=\"278.756\" x2=\"166.787\" y2=\"250.787\" stroke-linecap=\"round\" style=\"stroke:black;stroke-width:4\"/><line x1=\"197.753\" y1=\"253.753\" x2=\"225.688\" y2=\"255.655\" stroke-linecap=\"round\" style=\"stroke:black;stroke-width:4\"/><line x1=\"225.688\" y1=\"255.655\" x2=\"223.786\" y2=\"283.59\" stroke-linecap=\"round\" style=\"stroke:black;stroke-width:4\"/><line x1=\"223.786\" y1=\"283.59\" x2=\"195.851\" y2=\"281.688\" stroke-linecap=\"round\" style=\"stroke:black;stroke-width:4\"/><line x1=\"195.851\" y1=\"281.688\" x2=\"197.753\" y2=\"253.753\" stroke-linecap=\"round\" style=\"stroke:black;stroke-width:4\"/><line x1=\"225.031\" y1=\"253.031\" x2=\"253.009\" y2=\"254.15\" stroke-linecap=\"round\" style=\"stroke:black;stroke-width:4\"/><line x1=\"253.009\" y1=\"254.15\" x2=\"251.89\" y2=\"282.128\" stroke-linecap=\"round\" style=\"stroke:black;stroke-width:4\"/><line x1=\"251.89\" y1=\"282.128\" x2=\"223.912\" y2=\"281.009\" stroke-linecap=\"round\" style=\"stroke:black;stroke-width:4\"/><line x1=\"223.912\" y1=\"281.009\" x2=\"225.031\" y2=\"253.031\" stroke-linecap=\"round\" style=\"stroke:black;stroke-width:4\"/><line x1=\"251.704\" y1=\"251.704\" x2=\"279.702\" y2=\"251.383\" stroke-linecap=\"round\" style=\"stroke:black;stroke-width:4\"/><line x1=\"279.702\" y1=\"251.383\" x2=\"280.023\" y2=\"279.381\" stroke-linecap=\"round\" style=\"stroke:black;stroke-width:4\"/><line x1=\"280.023\" y1=\"279.381\" x2=\"252.025\" y2=\"279.702\" stroke-linecap=\"round\" style=\"stroke:black;stroke-width:4\"/><line x1=\"252.025\" y1=\"279.702\" x2=\"251.704\" y2=\"251.704\" stroke-linecap=\"round\" style=\"stroke:black;stroke-width:4\"/><line x1=\"282.598\" y1=\"254.598\" x2=\"310.456\" y2=\"257.415\" stroke-linecap=\"round\" style=\"stroke:black;stroke-width:4\"/><line x1=\"310.456\" y1=\"257.415\" x2=\"307.639\" y2=\"285.273\" stroke-linecap=\"round\" style=\"stroke:black;stroke-width:4\"/><line x1=\"307.639\" y1=\"285.273\" x2=\"279.781\" y2=\"282.456\" stroke-linecap=\"round\" style=\"stroke:black;stroke-width:4\"/><line x1=\"279.781\" y1=\"282.456\" x2=\"282.598\" y2=\"254.598\" stroke-linecap=\"round\" style=\"stroke:black;stroke-width:4\"/><line x1=\"305.509\" y1=\"249.509\" x2=\"333.378\" y2=\"246.809\" stroke-linecap=\"round\" style=\"stroke:black;stroke-width:4\"/><line x1=\"333.378\" y1=\"246.809\" x2=\"336.078\" y2=\"274.678\" stroke-linecap=\"round\" style=\"stroke:black;stroke-width:4\"/><line x1=\"336.078\" y1=\"274.678\" x2=\"308.209\" y2=\"277.378\" stroke-linecap=\"round\" style=\"stroke:black;stroke-width:4\"/><line x1=\"308.209\" y1=\"277.378\" x2=\"305.509\" y2=\"249.509\" stroke-linecap=\"round\" style=\"stroke:black;stroke-width:4\"/><line x1=\"338.198\" y1=\"254.198\" x2=\"366.096\" y2=\"256.582\" stroke-linecap=\"round\" style=\"stroke:black;stroke-width:4\"/><line x1=\"366.096\" y1=\"256.582\" x2=\"363.712\" y2=\"284.48\" stroke-linecap=\"round\" style=\"stroke:black;stroke-width:4\"/><line x1=\"363.712\" y1=\"284.48\" x2=\"335.814\" y2=\"282.096\" stroke-linecap=\"round\" style=\"stroke:black;stroke-width:4\"/><line x1=\"335.814\" y1=\"282.096\" x2=\"338.198\" y2=\"254.198\" stroke-linecap=\"round\" style=\"stroke:black;stroke-width:4\"/><line x1=\"363.083\" y1=\"251.083\" x2=\"391.065\" y2=\"250.087\" stroke-linecap=\"round\" style=\"stroke:black;stroke-width:4\"/><line x1=\"391.065\" y1=\"250.087\" x2=\"392.061\" y2=\"278.069\" stroke-linecap=\"round\" style=\"stroke:black;stroke-width:4\"/><line x1=\"392.061\" y1=\"278.069\" x2=\"364.079\" y2=\"279.065\" stroke-linecap=\"round\" style=\"stroke:black;stroke-width:4\"/><line x1=\"364.079\" y1=\"279.065\" x2=\"363.083\" y2=\"251.083\" stroke-linecap=\"round\" style=\"stroke:black;stroke-width:4\"/><line x1=\"52.779\" y1=\"276.779\" x2=\"80.561\" y2=\"273.291\" stroke-linecap=\"round\" style=\"stroke:black;stroke-width:4\"/><line x1=\"80.561\" y1=\"273.291\" x2=\"84.049\" y2=\"301.073\" stroke-linecap=\"round\" style=\"stroke:black;stroke-width:4\"/><line x1=\"84.049\" y1=\"301.073\" x2=\"56.267\" y2=\"304.561\" stroke-linecap=\"round\" style=\"stroke:black;stroke-width:4\"/><line x1=\"56.267\" y1=\"304.561\" x2=\"52.779\" y2=\"276.779\" stroke-linecap=\"round\" style=\"stroke:black;stroke-width:4\"/><line x1=\"84.188\" y1=\"280.188\" x2=\"112.187\" y2=\"280.392\" stroke-linecap=\"round\" style=\"stroke:black;stroke-width:4\"/><line x1=\"112.187\" y1=\"280.392\" x2=\"111.983\" y2=\"308.391\" stroke-linecap=\"round\" style=\"stroke:black;stroke-width:4\"/><line x1=\"111.983\" y1=\"308.391\" x2=\"83.984\" y2=\"308.187\" stroke-linecap=\"round\" style=\"stroke:black;stroke-width:4\"/><line x1=\"83.984\" y1=\"308.187\" x2=\"84.188\" y2=\"280.188\" stroke-linecap=\"round\" style=\"stroke:black;stroke-width:4\"/><line x1=\"114.087\" y1=\"282.087\" x2=\"141.995\" y2=\"284.351\" stroke-linecap=\"round\" style=\"stroke:black;stroke-width:4\"/><line x1=\"141.995\" y1=\"284.351\" x2=\"139.731\" y2=\"312.259\" stroke-linecap=\"round\" style=\"stroke:black;stroke-width:4\"/><line x1=\"139.731\" y1=\"312.259\" x2=\"111.823\" y2=\"309.995\" stroke-linecap=\"round\" style=\"stroke:black;stroke-width:4\"/><line x1=\"111.823\" y1=\"309.995\" x2=\"114.087\" y2=\"282.087\" stroke-linecap=\"round\" style=\"stroke:black;stroke-width:4\"/><line x1=\"143.343\" y1=\"283.343\" x2=\"171.108\" y2=\"286.964\" stroke-linecap=\"round\" style=\"stroke:black;stroke-width:4\"/><line x1=\"171.108\" y1=\"286.964\" x2=\"167.487\" y2=\"314.729\" stroke-linecap=\"round\" style=\"stroke:black;stroke-width:4\"/><line x1=\"167.487\" y1=\"314.729\" x2=\"139.722\" y2=\"311.108\" stroke-linecap=\"round\" style=\"stroke:black;stroke-width:4\"/><line x1=\"139.722\" y1=\"311.108\" x2=\"143.343\" y2=\"283.343\" stroke-linecap=\"round\" style=\"stroke:black;stroke-width:4\"/><line x1=\"166.466\" y1=\"278.466\" x2=\"194.416\" y2=\"276.801\" stroke-linecap=\"round\" style=\"stroke:black;stroke-width:4\"/><line x1=\"194.416\" y1=\"276.801\" x2=\"196.081\" y2=\"304.751\" stroke-linecap=\"round\" style=\"stroke:black;stroke-width:4\"/><line x1=\"196.081\" y1=\"304.751\" x2=\"168.131\" y2=\"306.416\" stroke-linecap=\"round\" style=\"stroke:black;stroke-width:4\"/><line x1=\"168.131\" y1=\"306.416\" x2=\"166.466\" y2=\"278.466\" stroke-linecap=\"round\" style=\"stroke:black;stroke-width:4\"/><line x1=\"193.554\" y1=\"277.554\" x2=\"221.428\" y2=\"274.902\" stroke-linecap=\"round\" style=\"stroke:black;stroke-width:4\"/><line x1=\"221.428\" y1=\"274.902\" x2=\"224.08\" y2=\"302.776\" stroke-linecap=\"round\" style=\"stroke:black;stroke-width:4\"/><line x1=\"224.08\" y1=\"302.776\" x2=\"196.206\" y2=\"305.428\" stroke-linecap=\"round\" style=\"stroke:black;stroke-width:4\"/><line x1=\"196.206\" y1=\"305.428\" x2=\"193.554\" y2=\"277.554\" stroke-linecap=\"round\" style=\"stroke:black;stroke-width:4\"/><line x1=\"222.304\" y1=\"278.304\" x2=\"250.243\" y2=\"276.464\" stroke-linecap=\"round\" style=\"stroke:black;stroke-width:4\"/><line x1=\"250.243\" y1=\"276.464\" x2=\"252.083\" y2=\"304.403\" stroke-linecap=\"round\" style=\"stroke:black;stroke-width:4\"/><line x1=\"252.083\" y1=\"304.403\" x2=\"224.144\" y2=\"306.243\" stroke-linecap=\"round\" style=\"stroke:black;stroke-width:4\"/><line x1=\"224.144\" y1=\"306.243\" x2=\"222.304\" y2=\"278.304\" stroke-linecap=\"round\" style=\"stroke:black;stroke-width:4\"/><line x1=\"250.354\" y1=\"278.354\" x2=\"278.297\" y2=\"276.567\" stroke-linecap=\"round\" style=\"stroke:black;stroke-width:4\"/><line x1=\"278.297\" y1=\"276.567\" x2=\"280.084\" y2=\"304.51\" stroke-linecap=\"round\" style=\"stroke:black;stroke-width:4\"/><line x1=\"280.084\" y1=\"304.51\" x2=\"252.141\" y2=\"306.297\" stroke-linecap=\"round\" style=\"stroke:black;stroke-width:4\"/><line x1=\"252.141\" y1=\"306.297\" x2=\"250.354\" y2=\"278.354\" stroke-linecap=\"round\" style=\"stroke:black;stroke-width:4\"/><line x1=\"283.421\" y1=\"283.421\" x2=\"311.175\" y2=\"287.125\" stroke-linecap=\"round\" style=\"stroke:black;stroke-width:4\"/><line x1=\"311.175\" y1=\"287.125\" x2=\"307.471\" y2=\"314.879\" stroke-linecap=\"round\" style=\"stroke:black;stroke-width:4\"/><line x1=\"307.471\" y1=\"314.879\" x2=\"279.717\" y2=\"311.175\" stroke-linecap=\"round\" style=\"stroke:black;stroke-width:4\"/><line x1=\"279.717\" y1=\"311.175\" x2=\"283.421\" y2=\"283.421\" stroke-linecap=\"round\" style=\"stroke:black;stroke-width:4\"/><line x1=\"311.145\" y1=\"283.145\" x2=\"338.937\" y2=\"286.552\" stroke-linecap=\"round\" style=\"stroke:black;stroke-width:4\"/><line x1=\"338.937\" y1=\"286.552\" x2=\"335.53\" y2=\"314.344\" stroke-linecap=\"round\" style=\"stroke:black;stroke-width:4\"/><line x1=\"335.53\" y1=\"314.344\" x2=\"307.738\" y2=\"310.937\" stroke-linecap=\"round\" style=\"stroke:black;stroke-width:4\"/><line x1=\"307.738\" y1=\"310.937\" x2=\"311.145\" y2=\"283.145\" stroke-linecap=\"round\" style=\"stroke:black;stroke-width:4\"/><line x1=\"334.843\" y1=\"278.843\" x2=\"362.815\" y2=\"277.587\" stroke-linecap=\"round\" style=\"stroke:black;stroke-width:4\"/><line x1=\"362.815\" y1=\"277.587\" x2=\"364.071\" y2=\"305.559\" stroke-linecap=\"round\" style=\"stroke:black;stroke-width:4\"/><line x1=\"364.071\" y1=\"305.559\" x2=\"336.099\" y2=\"306.815\" stroke-linecap=\"round\" style=\"stroke:black;stroke-width:4\"/><line x1=\"336.099\" y1=\"306.815\" x2=\"334.843\" y2=\"278.843\" stroke-linecap=\"round\" style=\"stroke:black;stroke-width:4\"/><line x1=\"361.638\" y1=\"277.638\" x2=\"389.521\" y2=\"275.077\" stroke-linecap=\"round\" style=\"stroke:black;stroke-width:4\"/><line x1=\"389.521\" y1=\"275.077\" x2=\"392.082\" y2=\"302.96\" stroke-linecap=\"round\" style=\"stroke:black;stroke-width:4\"/><line x1=\"392.082\" y1=\"302.96\" x2=\"364.199\" y2=\"305.521\" stroke-linecap=\"round\" style=\"stroke:black;stroke-width:4\"/><line x1=\"364.199\" y1=\"305.521\" x2=\"361.638\" y2=\"277.638\" stroke-linecap=\"round\" style=\"stroke:black;stroke-width:4\"/><line x1=\"60.317\" y1=\"312.317\" x2=\"87.925\" y2=\"316.983\" stroke-linecap=\"round\" style=\"stroke:black;stroke-width:4\"/><line x1=\"87.925\" y1=\"316.983\" x2=\"83.259\" y2=\"344.591\" stroke-linecap=\"round\" style=\"stroke:black;stroke-width:4\"/><line x1=\"83.259\" y1=\"344.591\" x2=\"55.651\" y2=\"339.925\" stroke-linecap=\"round\" style=\"stroke:black;stroke-width:4\"/><line x1=\"55.651\" y1=\"339.925\" x2=\"60.317\" y2=\"312.317\" stroke-linecap=\"round\" style=\"stroke:black;stroke-width:4\"/><line x1=\"83.872\" y1=\"307.872\" x2=\"111.872\" y2=\"307.733\" stroke-linecap=\"round\" style=\"stroke:black;stroke-width:4\"/><line x1=\"111.872\" y1=\"307.733\" x2=\"112.011\" y2=\"335.733\" stroke-linecap=\"round\" style=\"stroke:black;stroke-width:4\"/><line x1=\"112.011\" y1=\"335.733\" x2=\"84.011\" y2=\"335.872\" stroke-linecap=\"round\" style=\"stroke:black;stroke-width:4\"/><line x1=\"84.011\" y1=\"335.872\" x2=\"83.872\" y2=\"307.872\" stroke-linecap=\"round\" style=\"stroke:black;stroke-width:4\"/><line x1=\"109.034\" y1=\"305.034\" x2=\"136.849\" y2=\"301.82\" stroke-linecap=\"round\" style=\"stroke:black;stroke-width:4\"/><line x1=\"136.849\" y1=\"301.82\" x2=\"140.063\" y2=\"329.635\" stroke-linecap=\"round\" style=\"stroke:black;stroke-width:4\"/><line x1=\"140.063\" y1=\"329.635\" x2=\"112.248\" y2=\"332.849\" stroke-linecap=\"round\" style=\"stroke:black;stroke-width:4\"/><line x1=\"112.248\" y1=\"332.849\" x2=\"109.034\" y2=\"305.034\" stroke-linecap=\"round\" style=\"stroke:black;stroke-width:4\"/><line x1=\"138.905\" y1=\"306.905\" x2=\"166.88\" y2=\"305.716\" stroke-linecap=\"round\" style=\"stroke:black;stroke-width:4\"/><line x1=\"166.88\" y1=\"305.716\" x2=\"168.069\" y2=\"333.691\" stroke-linecap=\"round\" style=\"stroke:black;stroke-width:4\"/><line x1=\"168.069\" y1=\"333.691\" x2=\"140.094\" y2=\"334.88\" stroke-linecap=\"round\" style=\"stroke:black;stroke-width:4\"/><line x1=\"140.094\" y1=\"334.88\" x2=\"138.905\" y2=\"306.905\" stroke-linecap=\"round\" style=\"stroke:black;stroke-width:4\"/><line x1=\"165.924\" y1=\"305.924\" x2=\"193.833\" y2=\"303.672\" stroke-linecap=\"round\" style=\"stroke:black;stroke-width:4\"/><line x1=\"193.833\" y1=\"303.672\" x2=\"196.085\" y2=\"331.581\" stroke-linecap=\"round\" style=\"stroke:black;stroke-width:4\"/><line x1=\"196.085\" y1=\"331.581\" x2=\"168.176\" y2=\"333.833\" stroke-linecap=\"round\" style=\"stroke:black;stroke-width:4\"/><line x1=\"168.176\" y1=\"333.833\" x2=\"165.924\" y2=\"305.924\" stroke-linecap=\"round\" style=\"stroke:black;stroke-width:4\"/><line x1=\"196.094\" y1=\"308.094\" x2=\"224.094\" y2=\"308.196\" stroke-linecap=\"round\" style=\"stroke:black;stroke-width:4\"/><line x1=\"224.094\" y1=\"308.196\" x2=\"223.992\" y2=\"336.196\" stroke-linecap=\"round\" style=\"stroke:black;stroke-width:4\"/><line x1=\"223.992\" y1=\"336.196\" x2=\"195.992\" y2=\"336.094\" stroke-linecap=\"round\" style=\"stroke:black;stroke-width:4\"/><line x1=\"195.992\" y1=\"336.094\" x2=\"196.094\" y2=\"308.094\" stroke-linecap=\"round\" style=\"stroke:black;stroke-width:4\"/><line x1=\"225.695\" y1=\"309.695\" x2=\"253.635\" y2=\"311.534\" stroke-linecap=\"round\" style=\"stroke:black;stroke-width:4\"/><line x1=\"253.635\" y1=\"311.534\" x2=\"251.796\" y2=\"339.474\" stroke-linecap=\"round\" style=\"stroke:black;stroke-width:4\"/><line x1=\"251.796\" y1=\"339.474\" x2=\"223.856\" y2=\"337.635\" stroke-linecap=\"round\" style=\"stroke:black;stroke-width:4\"/><line x1=\"223.856\" y1=\"337.635\" x2=\"225.695\" y2=\"309.695\" stroke-linecap=\"round\" style=\"stroke:black;stroke-width:4\"/><line x1=\"247.779\" y1=\"303.779\" x2=\"275.405\" y2=\"299.215\" stroke-linecap=\"round\" style=\"stroke:black;stroke-width:4\"/><line x1=\"275.405\" y1=\"299.215\" x2=\"279.969\" y2=\"326.841\" stroke-linecap=\"round\" style=\"stroke:black;stroke-width:4\"/><line x1=\"279.969\" y1=\"326.841\" x2=\"252.343\" y2=\"331.405\" stroke-linecap=\"round\" style=\"stroke:black;stroke-width:4\"/><line x1=\"252.343\" y1=\"331.405\" x2=\"247.779\" y2=\"303.779\" stroke-linecap=\"round\" style=\"stroke:black;stroke-width:4\"/><line x1=\"283.757\" y1=\"311.757\" x2=\"311.46\" y2=\"315.822\" stroke-linecap=\"round\" style=\"stroke:black;stroke-width:4\"/><line x1=\"311.46\" y1=\"315.822\" x2=\"307.395\" y2=\"343.525\" stroke-linecap=\"round\" style=\"stroke:black;stroke-width:4\"/><line x1=\"307.395\" y1=\"343.525\" x2=\"279.692\" y2=\"339.46\" stroke-linecap=\"round\" style=\"stroke:black;stroke-width:4\"/><line x1=\"279.692\" y1=\"339.46\" x2=\"283.757\" y2=\"311.757\" stroke-linecap=\"round\" style=\"stroke:black;stroke-width:4\"/><line x1=\"312.37\" y1=\"312.37\" x2=\"339.969\" y2=\"317.093\" stroke-linecap=\"round\" style=\"stroke:black;stroke-width:4\"/><line x1=\"339.969\" y1=\"317.093\" x2=\"335.246\" y2=\"344.692\" stroke-linecap=\"round\" style=\"stroke:black;stroke-width:4\"/><line x1=\"335.246\" y1=\"344.692\" x2=\"307.647\" y2=\"339.969\" stroke-linecap=\"round\" style=\"stroke:black;stroke-width:4\"/><line x1=\"307.647\" y1=\"339.969\" x2=\"312.37\" y2=\"312.37\" stroke-linecap=\"round\" style=\"stroke:black;stroke-width:4\"/><line x1=\"331.595\" y1=\"303.595\" x2=\"359.187\" y2=\"298.834\" stroke-linecap=\"round\" style=\"stroke:black;stroke-width:4\"/><line x1=\"359.187\" y1=\"298.834\" x2=\"363.948\" y2=\"326.426\" stroke-linecap=\"round\" style=\"stroke:black;stroke-width:4\"/><line x1=\"363.948\" y1=\"326.426\" x2=\"336.356\" y2=\"331.187\" stroke-linecap=\"round\" style=\"stroke:black;stroke-width:4\"/><line x1=\"336.356\" y1=\"331.187\" x2=\"331.595\" y2=\"303.595\" stroke-linecap=\"round\" style=\"stroke:black;stroke-width:4\"/><line x1=\"360.925\" y1=\"304.925\" x2=\"388.726\" y2=\"301.594\" stroke-linecap=\"round\" style=\"stroke:black;stroke-width:4\"/><line x1=\"388.726\" y1=\"301.594\" x2=\"392.057\" y2=\"329.395\" stroke-linecap=\"round\" style=\"stroke:black;stroke-width:4\"/><line x1=\"392.057\" y1=\"329.395\" x2=\"364.256\" y2=\"332.726\" stroke-linecap=\"round\" style=\"stroke:black;stroke-width:4\"/><line x1=\"364.256\" y1=\"332.726\" x2=\"360.925\" y2=\"304.925\" stroke-linecap=\"round\" style=\"stroke:black;stroke-width:4\"/><line x1=\"58.687\" y1=\"338.687\" x2=\"86.535\" y2=\"341.6\" stroke-linecap=\"round\" style=\"stroke:black;stroke-width:4\"/><line x1=\"86.535\" y1=\"341.6\" x2=\"83.622\" y2=\"369.448\" stroke-linecap=\"round\" style=\"stroke:black;stroke-width:4\"/><line x1=\"83.622\" y1=\"369.448\" x2=\"55.774\" y2=\"366.535\" stroke-linecap=\"round\" style=\"stroke:black;stroke-width:4\"/><line x1=\"55.774\" y1=\"366.535\" x2=\"58.687\" y2=\"338.687\" stroke-linecap=\"round\" style=\"stroke:black;stroke-width:4\"/><line x1=\"88.612\" y1=\"340.612\" x2=\"116.165\" y2=\"345.594\" stroke-linecap=\"round\" style=\"stroke:black;stroke-width:4\"/><line x1=\"116.165\" y1=\"345.594\" x2=\"111.183\" y2=\"373.147\" stroke-linecap=\"round\" style=\"stroke:black;stroke-width:4\"/><line x1=\"111.183\" y1=\"373.147\" x2=\"83.63\" y2=\"368.165\" stroke-linecap=\"round\" style=\"stroke:black;stroke-width:4\"/><line x1=\"83.63\" y1=\"368.165\" x2=\"88.612\" y2=\"340.612\" stroke-linecap=\"round\" style=\"stroke:black;stroke-width:4\"/><line x1=\"108.229\" y1=\"332.229\" x2=\"135.93\" y2=\"328.148\" stroke-linecap=\"round\" style=\"stroke:black;stroke-width:4\"/><line x1=\"135.93\" y1=\"328.148\" x2=\"140.011\" y2=\"355.849\" stroke-linecap=\"round\" style=\"stroke:black;stroke-width:4\"/><line x1=\"140.011\" y1=\"355.849\" x2=\"112.31\" y2=\"359.93\" stroke-linecap=\"round\" style=\"stroke:black;stroke-width:4\"/><line x1=\"112.31\" y1=\"359.93\" x2=\"108.229\" y2=\"332.229\" stroke-linecap=\"round\" style=\"stroke:black;stroke-width:4\"/><line x1=\"139.954\" y1=\"335.954\" x2=\"167.954\" y2=\"335.904\" stroke-linecap=\"round\" style=\"stroke:black;stroke-width:4\"/><line x1=\"167.954\" y1=\"335.904\" x2=\"168.004\" y2=\"363.904\" stroke-linecap=\"round\" style=\"stroke:black;stroke-width:4\"/><line x1=\"168.004\" y1=\"363.904\" x2=\"140.004\" y2=\"363.954\" stroke-linecap=\"round\" style=\"stroke:black;stroke-width:4\"/><line x1=\"140.004\" y1=\"363.954\" x2=\"139.954\" y2=\"335.954\" stroke-linecap=\"round\" style=\"stroke:black;stroke-width:4\"/><line x1=\"169.979\" y1=\"337.979\" x2=\"197.897\" y2=\"340.126\" stroke-linecap=\"round\" style=\"stroke:black;stroke-width:4\"/><line x1=\"197.897\" y1=\"340.126\" x2=\"195.75\" y2=\"368.044\" stroke-linecap=\"round\" style=\"stroke:black;stroke-width:4\"/><line x1=\"195.75\" y1=\"368.044\" x2=\"167.832\" y2=\"365.897\" stroke-linecap=\"round\" style=\"stroke:black;stroke-width:4\"/><line x1=\"167.832\" y1=\"365.897\" x2=\"169.979\" y2=\"337.979\" stroke-linecap=\"round\" style=\"stroke:black;stroke-width:4\"/><line x1=\"192.906\" y1=\"332.906\" x2=\"220.705\" y2=\"329.554\" stroke-linecap=\"round\" style=\"stroke:black;stroke-width:4\"/><line x1=\"220.705\" y1=\"329.554\" x2=\"224.057\" y2=\"357.353\" stroke-linecap=\"round\" style=\"stroke:black;stroke-width:4\"/><line x1=\"224.057\" y1=\"357.353\" x2=\"196.258\" y2=\"360.705\" stroke-linecap=\"round\" style=\"stroke:black;stroke-width:4\"/><line x1=\"196.258\" y1=\"360.705\" x2=\"192.906\" y2=\"332.906\" stroke-linecap=\"round\" style=\"stroke:black;stroke-width:4\"/><line x1=\"223.485\" y1=\"335.485\" x2=\"251.479\" y2=\"334.926\" stroke-linecap=\"round\" style=\"stroke:black;stroke-width:4\"/><line x1=\"251.479\" y1=\"334.926\" x2=\"252.038\" y2=\"362.92\" stroke-linecap=\"round\" style=\"stroke:black;stroke-width:4\"/><line x1=\"252.038\" y1=\"362.92\" x2=\"224.044\" y2=\"363.479\" stroke-linecap=\"round\" style=\"stroke:black;stroke-width:4\"/><line x1=\"224.044\" y1=\"363.479\" x2=\"223.485\" y2=\"335.485\" stroke-linecap=\"round\" style=\"stroke:black;stroke-width:4\"/><line x1=\"249.776\" y1=\"333.776\" x2=\"277.672\" y2=\"331.364\" stroke-linecap=\"round\" style=\"stroke:black;stroke-width:4\"/><line x1=\"277.672\" y1=\"331.364\" x2=\"280.084\" y2=\"359.26\" stroke-linecap=\"round\" style=\"stroke:black;stroke-width:4\"/><line x1=\"280.084\" y1=\"359.26\" x2=\"252.188\" y2=\"361.672\" stroke-linecap=\"round\" style=\"stroke:black;stroke-width:4\"/><line x1=\"252.188\" y1=\"361.672\" x2=\"249.776\" y2=\"333.776\" stroke-linecap=\"round\" style=\"stroke:black;stroke-width:4\"/><line x1=\"279.125\" y1=\"335.125\" x2=\"307.109\" y2=\"334.175\" stroke-linecap=\"round\" style=\"stroke:black;stroke-width:4\"/><line x1=\"307.109\" y1=\"334.175\" x2=\"308.059\" y2=\"362.159\" stroke-linecap=\"round\" style=\"stroke:black;stroke-width:4\"/><line x1=\"308.059\" y1=\"362.159\" x2=\"280.075\" y2=\"363.109\" stroke-linecap=\"round\" style=\"stroke:black;stroke-width:4\"/><line x1=\"280.075\" y1=\"363.109\" x2=\"279.125\" y2=\"335.125\" stroke-linecap=\"round\" style=\"stroke:black;stroke-width:4\"/><line x1=\"308.16\" y1=\"336.16\" x2=\"336.159\" y2=\"336.334\" stroke-linecap=\"round\" style=\"stroke:black;stroke-width:4\"/><line x1=\"336.159\" y1=\"336.334\" x2=\"335.985\" y2=\"364.333\" stroke-linecap=\"round\" style=\"stroke:black;stroke-width:4\"/><line x1=\"335.985\" y1=\"364.333\" x2=\"307.986\" y2=\"364.159\" stroke-linecap=\"round\" style=\"stroke:black;stroke-width:4\"/><line x1=\"307.986\" y1=\"364.159\" x2=\"308.16\" y2=\"336.16\" stroke-linecap=\"round\" style=\"stroke:black;stroke-width:4\"/><line x1=\"331.881\" y1=\"331.881\" x2=\"359.524\" y2=\"327.426\" stroke-linecap=\"round\" style=\"stroke:black;stroke-width:4\"/><line x1=\"359.524\" y1=\"327.426\" x2=\"363.979\" y2=\"355.069\" stroke-linecap=\"round\" style=\"stroke:black;stroke-width:4\"/><line x1=\"363.979\" y1=\"355.069\" x2=\"336.336\" y2=\"359.524\" stroke-linecap=\"round\" style=\"stroke:black;stroke-width:4\"/><line x1=\"336.336\" y1=\"359.524\" x2=\"331.881\" y2=\"331.881\" stroke-linecap=\"round\" style=\"stroke:black;stroke-width:4\"/><line x1=\"367.433\" y1=\"339.433\" x2=\"395.185\" y2=\"343.15\" stroke-linecap=\"round\" style=\"stroke:black;stroke-width:4\"/><line x1=\"395.185\" y1=\"343.15\" x2=\"391.468\" y2=\"370.902\" stroke-linecap=\"round\" style=\"stroke:black;stroke-width:4\"/><line x1=\"391.468\" y1=\"370.902\" x2=\"363.716\" y2=\"367.185\" stroke-linecap=\"round\" style=\"stroke:black;stroke-width:4\"/><line x1=\"363.716\" y1=\"367.185\" x2=\"367.433\" y2=\"339.433\" stroke-linecap=\"round\" style=\"stroke:black;stroke-width:4\"/><line x1=\"55.179\" y1=\"363.179\" x2=\"83.165\" y2=\"362.288\" stroke-linecap=\"round\" style=\"stroke:black;stroke-width:4\"/><line x1=\"83.165\" y1=\"362.288\" x2=\"84.056\" y2=\"390.274\" stroke-linecap=\"round\" style=\"stroke:black;stroke-width:4\"/><line x1=\"84.056\" y1=\"390.274\" x2=\"56.07\" y2=\"391.165\" stroke-linecap=\"round\" style=\"stroke:black;stroke-width:4\"/><line x1=\"56.07\" y1=\"391.165\" x2=\"55.179\" y2=\"363.179\" stroke-linecap=\"round\" style=\"stroke:black;stroke-width:4\"/><line x1=\"89.748\" y1=\"369.748\" x2=\"117.055\" y2=\"375.939\" stroke-linecap=\"round\" style=\"stroke:black;stroke-width:4\"/><line x1=\"117.055\" y1=\"375.939\" x2=\"110.864\" y2=\"403.246\" stroke-linecap=\"round\" style=\"stroke:black;stroke-width:4\"/><line x1=\"110.864\" y1=\"403.246\" x2=\"83.557\" y2=\"397.055\" stroke-linecap=\"round\" style=\"stroke:black;stroke-width:4\"/><line x1=\"83.557\" y1=\"397.055\" x2=\"89.748\" y2=\"369.748\" stroke-linecap=\"round\" style=\"stroke:black;stroke-width:4\"/><line x1=\"109.201\" y1=\"361.201\" x2=\"137.036\" y2=\"358.167\" stroke-linecap=\"round\" style=\"stroke:black;stroke-width:4\"/><line x1=\"137.036\" y1=\"358.167\" x2=\"140.07\" y2=\"386.002\" stroke-linecap=\"round\" style=\"stroke:black;stroke-width:4\"/><line x1=\"140.07\" y1=\"386.002\" x2=\"112.235\" y2=\"389.036\" stroke-linecap=\"round\" style=\"stroke:black;stroke-width:4\"/><line x1=\"112.235\" y1=\"389.036\" x2=\"109.201\" y2=\"361.201\" stroke-linecap=\"round\" style=\"stroke:black;stroke-width:4\"/><line x1=\"143.543\" y1=\"367.543\" x2=\"171.279\" y2=\"371.378\" stroke-linecap=\"round\" style=\"stroke:black;stroke-width:4\"/><line x1=\"171.279\" y1=\"371.378\" x2=\"167.444\" y2=\"399.114\" stroke-linecap=\"round\" style=\"stroke:black;stroke-width:4\"/><line x1=\"167.444\" y1=\"399.114\" x2=\"139.708\" y2=\"395.279\" stroke-linecap=\"round\" style=\"stroke:black;stroke-width:4\"/><line x1=\"139.708\" y1=\"395.279\" x2=\"143.543\" y2=\"367.543\" stroke-linecap=\"round\" style=\"stroke:black;stroke-width:4\"/><line x1=\"173.563\" y1=\"369.563\" x2=\"200.914\" y2=\"375.558\" stroke-linecap=\"round\" style=\"stroke:black;stroke-width:4\"/><line x1=\"200.914\" y1=\"375.558\" x2=\"194.919\" y2=\"402.909\" stroke-linecap=\"round\" style=\"stroke:black;stroke-width:4\"/><line x1=\"194.919\" y1=\"402.909\" x2=\"167.568\" y2=\"396.914\" stroke-linecap=\"round\" style=\"stroke:black;stroke-width:4\"/><line x1=\"167.568\" y1=\"396.914\" x2=\"173.563\" y2=\"369.563\" stroke-linecap=\"round\" style=\"stroke:black;stroke-width:4\"/><line x1=\"196.93\" y1=\"364.93\" x2=\"224.912\" y2=\"365.939\" stroke-linecap=\"round\" style=\"stroke:black;stroke-width:4\"/><line x1=\"224.912\" y1=\"365.939\" x2=\"223.903\" y2=\"393.921\" stroke-linecap=\"round\" style=\"stroke:black;stroke-width:4\"/><line x1=\"223.903\" y1=\"393.921\" x2=\"195.921\" y2=\"392.912\" stroke-linecap=\"round\" style=\"stroke:black;stroke-width:4\"/><line x1=\"195.921\" y1=\"392.912\" x2=\"196.93\" y2=\"364.93\" stroke-linecap=\"round\" style=\"stroke:black;stroke-width:4\"/><line x1=\"221.415\" y1=\"361.415\" x2=\"249.274\" y2=\"358.613\" stroke-linecap=\"round\" style=\"stroke:black;stroke-width:4\"/><line x1=\"249.274\" y1=\"358.613\" x2=\"252.076\" y2=\"386.472\" stroke-linecap=\"round\" style=\"stroke:black;stroke-width:4\"/><line x1=\"252.076\" y1=\"386.472\" x2=\"224.217\" y2=\"389.274\" stroke-linecap=\"round\" style=\"stroke:black;stroke-width:4\"/><line x1=\"224.217\" y1=\"389.274\" x2=\"221.415\" y2=\"361.415\" stroke-linecap=\"round\" style=\"stroke:black;stroke-width:4\"/><line x1=\"255.338\" y1=\"367.338\" x2=\"283.104\" y2=\"370.952\" stroke-linecap=\"round\" style=\"stroke:black;stroke-width:4\"/><line x1=\"283.104\" y1=\"370.952\" x2=\"279.49\" y2=\"398.718\" stroke-linecap=\"round\" style=\"stroke:black;stroke-width:4\"/><line x1=\"279.49\" y1=\"398.718\" x2=\"251.724\" y2=\"395.104\" stroke-linecap=\"round\" style=\"stroke:black;stroke-width:4\"/><line x1=\"251.724\" y1=\"395.104\" x2=\"255.338\" y2=\"367.338\" stroke-linecap=\"round\" style=\"stroke:black;stroke-width:4\"/><line x1=\"284.811\" y1=\"368.811\" x2=\"312.325\" y2=\"374.006\" stroke-linecap=\"round\" style=\"stroke:black;stroke-width:4\"/><line x1=\"312.325\" y1=\"374.006\" x2=\"307.13\" y2=\"401.52\" stroke-linecap=\"round\" style=\"stroke:black;stroke-width:4\"/><line x1=\"307.13\" y1=\"401.52\" x2=\"279.616\" y2=\"396.325\" stroke-linecap=\"round\" style=\"stroke:black;stroke-width:4\"/><line x1=\"279.616\" y1=\"396.325\" x2=\"284.811\" y2=\"368.811\" stroke-linecap=\"round\" style=\"stroke:black;stroke-width:4\"/><line x1=\"310.726\" y1=\"366.726\" x2=\"338.57\" y2=\"369.681\" stroke-linecap=\"round\" style=\"stroke:black;stroke-width:4\"/><line x1=\"338.57\" y1=\"369.681\" x2=\"335.615\" y2=\"397.525\" stroke-linecap=\"round\" style=\"stroke:black;stroke-width:4\"/><line x1=\"335.615\" y1=\"397.525\" x2=\"307.771\" y2=\"394.57\" stroke-linecap=\"round\" style=\"stroke:black;stroke-width:4\"/><line x1=\"307.771\" y1=\"394.57\" x2=\"310.726\" y2=\"366.726\" stroke-linecap=\"round\" style=\"stroke:black;stroke-width:4\"/><line x1=\"331.409\" y1=\"359.409\" x2=\"358.966\" y2=\"354.449\" stroke-linecap=\"round\" style=\"stroke:black;stroke-width:4\"/><line x1=\"358.966\" y1=\"354.449\" x2=\"363.926\" y2=\"382.006\" stroke-linecap=\"round\" style=\"stroke:black;stroke-width:4\"/><line x1=\"363.926\" y1=\"382.006\" x2=\"336.369\" y2=\"386.966\" stroke-linecap=\"round\" style=\"stroke:black;stroke-width:4\"/><line x1=\"336.369\" y1=\"386.966\" x2=\"331.409\" y2=\"359.409\" stroke-linecap=\"round\" style=\"stroke:black;stroke-width:4\"/><line x1=\"365.501\" y1=\"365.501\" x2=\"393.454\" y2=\"367.13\" stroke-linecap=\"round\" style=\"stroke:black;stroke-width:4\"/><line x1=\"393.454\" y1=\"367.13\" x2=\"391.825\" y2=\"395.083\" stroke-linecap=\"round\" style=\"stroke:black;stroke-width:4\"/><line x1=\"391.825\" y1=\"395.083\" x2=\"363.872\" y2=\"393.454\" stroke-linecap=\"round\" style=\"stroke:black;stroke-width:4\"/><line x1=\"363.872\" y1=\"393.454\" x2=\"365.501\" y2=\"365.501\" stroke-linecap=\"round\" style=\"stroke:black;stroke-width:4\"/><line x1=\"57.77\" y1=\"393.77\" x2=\"85.704\" y2=\"395.69\" stroke-linecap=\"round\" style=\"stroke:black;stroke-width:4\"/><line x1=\"85.704\" y1=\"395.69\" x2=\"83.784\" y2=\"423.624\" stroke-linecap=\"round\" style=\"stroke:black;stroke-width:4\"/><line x1=\"83.784\" y1=\"423.624\" x2=\"55.85\" y2=\"421.704\" stroke-linecap=\"round\" style=\"stroke:black;stroke-width:4\"/><line x1=\"55.85\" y1=\"421.704\" x2=\"57.77\" y2=\"393.77\" stroke-linecap=\"round\" style=\"stroke:black;stroke-width:4\"/><line x1=\"87.065\" y1=\"395.065\" x2=\"114.867\" y2=\"398.386\" stroke-linecap=\"round\" style=\"stroke:black;stroke-width:4\"/><line x1=\"114.867\" y1=\"398.386\" x2=\"111.546\" y2=\"426.188\" stroke-linecap=\"round\" style=\"stroke:black;stroke-width:4\"/><line x1=\"111.546\" y1=\"426.188\" x2=\"83.744\" y2=\"422.867\" stroke-linecap=\"round\" style=\"stroke:black;stroke-width:4\"/><line x1=\"83.744\" y1=\"422.867\" x2=\"87.065\" y2=\"395.065\" stroke-linecap=\"round\" style=\"stroke:black;stroke-width:4\"/><line x1=\"112.413\" y1=\"392.413\" x2=\"140.409\" y2=\"392.861\" stroke-linecap=\"round\" style=\"stroke:black;stroke-width:4\"/><line x1=\"140.409\" y1=\"392.861\" x2=\"139.961\" y2=\"420.857\" stroke-linecap=\"round\" style=\"stroke:black;stroke-width:4\"/><line x1=\"139.961\" y1=\"420.857\" x2=\"111.965\" y2=\"420.409\" stroke-linecap=\"round\" style=\"stroke:black;stroke-width:4\"/><line x1=\"111.965\" y1=\"420.409\" x2=\"112.413\" y2=\"392.413\" stroke-linecap=\"round\" style=\"stroke:black;stroke-width:4\"/><line x1=\"146.951\" y1=\"398.951\" x2=\"173.94\" y2=\"406.408\" stroke-linecap=\"round\" style=\"stroke:black;stroke-width:4\"/><line x1=\"173.94\" y1=\"406.408\" x2=\"166.483\" y2=\"433.397\" stroke-linecap=\"round\" style=\"stroke:black;stroke-width:4\"/><line x1=\"166.483\" y1=\"433.397\" x2=\"139.494\" y2=\"425.94\" stroke-linecap=\"round\" style=\"stroke:black;stroke-width:4\"/><line x1=\"139.494\" y1=\"425.94\" x2=\"146.951\" y2=\"398.951\" stroke-linecap=\"round\" style=\"stroke:black;stroke-width:4\"/><line x1=\"162.359\" y1=\"386.359\" x2=\"189.691\" y2=\"380.281\" stroke-linecap=\"round\" style=\"stroke:black;stroke-width:4\"/><line x1=\"189.691\" y1=\"380.281\" x2=\"195.769\" y2=\"407.613\" stroke-linecap=\"round\" style=\"stroke:black;stroke-width:4\"/><line x1=\"195.769\" y1=\"407.613\" x2=\"168.437\" y2=\"413.691\" stroke-linecap=\"round\" style=\"stroke:black;stroke-width:4\"/><line x1=\"168.437\" y1=\"413.691\" x2=\"162.359\" y2=\"386.359\" stroke-linecap=\"round\" style=\"stroke:black;stroke-width:4\"/><line x1=\"189.915\" y1=\"385.915\" x2=\"217.139\" y2=\"379.368\" stroke-linecap=\"round\" style=\"stroke:black;stroke-width:4\"/><line x1=\"217.139\" y1=\"379.368\" x2=\"223.686\" y2=\"406.592\" stroke-linecap=\"round\" style=\"stroke:black;stroke-width:4\"/><line x1=\"223.686\" y1=\"406.592\" x2=\"196.462\" y2=\"413.139\" stroke-linecap=\"round\" style=\"stroke:black;stroke-width:4\"/><line x1=\"196.462\" y1=\"413.139\" x2=\"189.915\" y2=\"385.915\" stroke-linecap=\"round\" style=\"stroke:black;stroke-width:4\"/><line x1=\"218.25\" y1=\"386.25\" x2=\"245.557\" y2=\"380.057\" stroke-linecap=\"round\" style=\"stroke:black;stroke-width:4\"/><line x1=\"245.557\" y1=\"380.057\" x2=\"251.75\" y2=\"407.364\" stroke-linecap=\"round\" style=\"stroke:black;stroke-width:4\"/><line x1=\"251.75\" y1=\"407.364\" x2=\"224.443\" y2=\"413.557\" stroke-linecap=\"round\" style=\"stroke:black;stroke-width:4\"/><line x1=\"224.443\" y1=\"413.557\" x2=\"218.25\" y2=\"386.25\" stroke-linecap=\"round\" style=\"stroke:black;stroke-width:4\"/><line x1=\"249.861\" y1=\"389.861\" x2=\"277.765\" y2=\"387.541\" stroke-linecap=\"round\" style=\"stroke:black;stroke-width:4\"/><line x1=\"277.765\" y1=\"387.541\" x2=\"280.085\" y2=\"415.445\" stroke-linecap=\"round\" style=\"stroke:black;stroke-width:4\"/><line x1=\"280.085\" y1=\"415.445\" x2=\"252.181\" y2=\"417.765\" stroke-linecap=\"round\" style=\"stroke:black;stroke-width:4\"/><line x1=\"252.181\" y1=\"417.765\" x2=\"249.861\" y2=\"389.861\" stroke-linecap=\"round\" style=\"stroke:black;stroke-width:4\"/><line x1=\"286.241\" y1=\"398.241\" x2=\"313.425\" y2=\"404.953\" stroke-linecap=\"round\" style=\"stroke:black;stroke-width:4\"/><line x1=\"313.425\" y1=\"404.953\" x2=\"306.713\" y2=\"432.137\" stroke-linecap=\"round\" style=\"stroke:black;stroke-width:4\"/><line x1=\"306.713\" y1=\"432.137\" x2=\"279.529\" y2=\"425.425\" stroke-linecap=\"round\" style=\"stroke:black;stroke-width:4\"/><line x1=\"279.529\" y1=\"425.425\" x2=\"286.241\" y2=\"398.241\" stroke-linecap=\"round\" style=\"stroke:black;stroke-width:4\"/><line x1=\"300.415\" y1=\"384.415\" x2=\"327.212\" y2=\"376.296\" stroke-linecap=\"round\" style=\"stroke:black;stroke-width:4\"/><line x1=\"327.212\" y1=\"376.296\" x2=\"335.331\" y2=\"403.093\" stroke-linecap=\"round\" style=\"stroke:black;stroke-width:4\"/><line x1=\"335.331\" y1=\"403.093\" x2=\"308.534\" y2=\"411.212\" stroke-linecap=\"round\" style=\"stroke:black;stroke-width:4\"/><line x1=\"308.534\" y1=\"411.212\" x2=\"300.415\" y2=\"384.415\" stroke-linecap=\"round\" style=\"stroke:black;stroke-width:4\"/><line x1=\"334.505\" y1=\"390.505\" x2=\"362.458\" y2=\"388.882\" stroke-linecap=\"round\" style=\"stroke:black;stroke-width:4\"/><line x1=\"362.458\" y1=\"388.882\" x2=\"364.081\" y2=\"416.835\" stroke-linecap=\"round\" style=\"stroke:black;stroke-width:4\"/><line x1=\"364.081\" y1=\"416.835\" x2=\"336.128\" y2=\"418.458\" stroke-linecap=\"round\" style=\"stroke:black;stroke-width:4\"/><line x1=\"336.128\" y1=\"418.458\" x2=\"334.505\" y2=\"390.505\" stroke-linecap=\"round\" style=\"stroke:black;stroke-width:4\"/><line x1=\"357.291\" y1=\"385.291\" x2=\"384.348\" y2=\"378.087\" stroke-linecap=\"round\" style=\"stroke:black;stroke-width:4\"/><line x1=\"384.348\" y1=\"378.087\" x2=\"391.552\" y2=\"405.144\" stroke-linecap=\"round\" style=\"stroke:black;stroke-width:4\"/><line x1=\"391.552\" y1=\"405.144\" x2=\"364.495\" y2=\"412.348\" stroke-linecap=\"round\" style=\"stroke:black;stroke-width:4\"/><line x1=\"364.495\" y1=\"412.348\" x2=\"357.291\" y2=\"385.291\" stroke-linecap=\"round\" style=\"stroke:black;stroke-width:4\"/><line x1=\"52.127\" y1=\"416.127\" x2=\"79.812\" y2=\"411.937\" stroke-linecap=\"round\" style=\"stroke:black;stroke-width:4\"/><line x1=\"79.812\" y1=\"411.937\" x2=\"84.002\" y2=\"439.622\" stroke-linecap=\"round\" style=\"stroke:black;stroke-width:4\"/><line x1=\"84.002\" y1=\"439.622\" x2=\"56.317\" y2=\"443.812\" stroke-linecap=\"round\" style=\"stroke:black;stroke-width:4\"/><line x1=\"56.317\" y1=\"443.812\" x2=\"52.127\" y2=\"416.127\" stroke-linecap=\"round\" style=\"stroke:black;stroke-width:4\"/><line x1=\"75.126\" y1=\"411.126\" x2=\"101.484\" y2=\"401.678\" stroke-linecap=\"round\" style=\"stroke:black;stroke-width:4\"/><line x1=\"101.484\" y1=\"401.678\" x2=\"110.932\" y2=\"428.036\" stroke-linecap=\"round\" style=\"stroke:black;stroke-width:4\"/><line x1=\"110.932\" y1=\"428.036\" x2=\"84.574\" y2=\"437.484\" stroke-linecap=\"round\" style=\"stroke:black;stroke-width:4\"/><line x1=\"84.574\" y1=\"437.484\" x2=\"75.126\" y2=\"411.126\" stroke-linecap=\"round\" style=\"stroke:black;stroke-width:4\"/><line x1=\"116.458\" y1=\"424.458\" x2=\"144.04\" y2=\"429.275\" stroke-linecap=\"round\" style=\"stroke:black;stroke-width:4\"/><line x1=\"144.04\" y1=\"429.275\" x2=\"139.223\" y2=\"456.857\" stroke-linecap=\"round\" style=\"stroke:black;stroke-width:4\"/><line x1=\"139.223\" y1=\"456.857\" x2=\"111.641\" y2=\"452.04\" stroke-linecap=\"round\" style=\"stroke:black;stroke-width:4\"/><line x1=\"111.641\" y1=\"452.04\" x2=\"116.458\" y2=\"424.458\" stroke-linecap=\"round\" style=\"stroke:black;stroke-width:4\"/><line x1=\"133.741\" y1=\"413.741\" x2=\"160.92\" y2=\"407.011\" stroke-linecap=\"round\" style=\"stroke:black;stroke-width:4\"/><line x1=\"160.92\" y1=\"407.011\" x2=\"167.65\" y2=\"434.19\" stroke-linecap=\"round\" style=\"stroke:black;stroke-width:4\"/><line x1=\"167.65\" y1=\"434.19\" x2=\"140.471\" y2=\"440.92\" stroke-linecap=\"round\" style=\"stroke:black;stroke-width:4\"/><line x1=\"140.471\" y1=\"440.92\" x2=\"133.741\" y2=\"413.741\" stroke-linecap=\"round\" style=\"stroke:black;stroke-width:4\"/><line x1=\"167.292\" y1=\"419.292\" x2=\"195.281\" y2=\"418.524\" stroke-linecap=\"round\" style=\"stroke:black;stroke-width:4\"/><line x1=\"195.281\" y1=\"418.524\" x2=\"196.049\" y2=\"446.513\" stroke-linecap=\"round\" style=\"stroke:black;stroke-width:4\"/><line x1=\"196.049\" y1=\"446.513\" x2=\"168.06\" y2=\"447.281\" stroke-linecap=\"round\" style=\"stroke:black;stroke-width:4\"/><line x1=\"168.06\" y1=\"447.281\" x2=\"167.292\" y2=\"419.292\" stroke-linecap=\"round\" style=\"stroke:black;stroke-width:4\"/><line x1=\"198.178\" y1=\"422.178\" x2=\"226.078\" y2=\"424.54\" stroke-linecap=\"round\" style=\"stroke:black;stroke-width:4\"/><line x1=\"226.078\" y1=\"424.54\" x2=\"223.716\" y2=\"452.44\" stroke-linecap=\"round\" style=\"stroke:black;stroke-width:4\"/><line x1=\"223.716\" y1=\"452.44\" x2=\"195.816\" y2=\"450.078\" stroke-linecap=\"round\" style=\"stroke:black;stroke-width:4\"/><line x1=\"195.816\" y1=\"450.078\" x2=\"198.178\" y2=\"422.178\" stroke-linecap=\"round\" style=\"stroke:black;stroke-width:4\"/><line x1=\"227.872\" y1=\"423.872\" x2=\"255.557\" y2=\"428.061\" stroke-linecap=\"round\" style=\"stroke:black;stroke-width:4\"/><line x1=\"255.557\" y1=\"428.061\" x2=\"251.368\" y2=\"455.746\" stroke-linecap=\"round\" style=\"stroke:black;stroke-width:4\"/><line x1=\"251.368\" y1=\"455.746\" x2=\"223.683\" y2=\"451.557\" stroke-linecap=\"round\" style=\"stroke:black;stroke-width:4\"/><line x1=\"223.683\" y1=\"451.557\" x2=\"227.872\" y2=\"423.872\" stroke-linecap=\"round\" style=\"stroke:black;stroke-width:4\"/><line x1=\"246.196\" y1=\"414.196\" x2=\"273.49\" y2=\"407.946\" stroke-linecap=\"round\" style=\"stroke:black;stroke-width:4\"/><line x1=\"273.49\" y1=\"407.946\" x2=\"279.74\" y2=\"435.24\" stroke-linecap=\"round\" style=\"stroke:black;stroke-width:4\"/><line x1=\"279.74\" y1=\"435.24\" x2=\"252.446\" y2=\"441.49\" stroke-linecap=\"round\" style=\"stroke:black;stroke-width:4\"/><line x1=\"252.446\" y1=\"441.49\" x2=\"246.196\" y2=\"414.196\" stroke-linecap=\"round\" style=\"stroke:black;stroke-width:4\"/><line x1=\"278.329\" y1=\"418.329\" x2=\"306.27\" y2=\"416.516\" stroke-linecap=\"round\" style=\"stroke:black;stroke-width:4\"/><line x1=\"306.27\" y1=\"416.516\" x2=\"308.083\" y2=\"444.457\" stroke-linecap=\"round\" style=\"stroke:black;stroke-width:4\"/><line x1=\"308.083\" y1=\"444.457\" x2=\"280.142\" y2=\"446.27\" stroke-linecap=\"round\" style=\"stroke:black;stroke-width:4\"/><line x1=\"280.142\" y1=\"446.27\" x2=\"278.329\" y2=\"418.329\" stroke-linecap=\"round\" style=\"stroke:black;stroke-width:4\"/><line x1=\"300.567\" y1=\"412.567\" x2=\"327.411\" y2=\"404.606\" stroke-linecap=\"round\" style=\"stroke:black;stroke-width:4\"/><line x1=\"327.411\" y1=\"404.606\" x2=\"335.372\" y2=\"431.45\" stroke-linecap=\"round\" style=\"stroke:black;stroke-width:4\"/><line x1=\"335.372\" y1=\"431.45\" x2=\"308.528\" y2=\"439.411\" stroke-linecap=\"round\" style=\"stroke:black;stroke-width:4\"/><line x1=\"308.528\" y1=\"439.411\" x2=\"300.567\" y2=\"412.567\" stroke-linecap=\"round\" style=\"stroke:black;stroke-width:4\"/><line x1=\"333.263\" y1=\"417.263\" x2=\"361.105\" y2=\"414.296\" stroke-linecap=\"round\" style=\"stroke:black;stroke-width:4\"/><line x1=\"361.105\" y1=\"414.296\" x2=\"364.072\" y2=\"442.138\" stroke-linecap=\"round\" style=\"stroke:black;stroke-width:4\"/><line x1=\"364.072\" y1=\"442.138\" x2=\"336.23\" y2=\"445.105\" stroke-linecap=\"round\" style=\"stroke:black;stroke-width:4\"/><line x1=\"336.23\" y1=\"445.105\" x2=\"333.263\" y2=\"417.263\" stroke-linecap=\"round\" style=\"stroke:black;stroke-width:4\"/><line x1=\"363.687\" y1=\"419.687\" x2=\"391.685\" y2=\"419.347\" stroke-linecap=\"round\" style=\"stroke:black;stroke-width:4\"/><line x1=\"391.685\" y1=\"419.347\" x2=\"392.025\" y2=\"447.345\" stroke-linecap=\"round\" style=\"stroke:black;stroke-width:4\"/><line x1=\"392.025\" y1=\"447.345\" x2=\"364.027\" y2=\"447.685\" stroke-linecap=\"round\" style=\"stroke:black;stroke-width:4\"/><line x1=\"364.027\" y1=\"447.685\" x2=\"363.687\" y2=\"419.687\" stroke-linecap=\"round\" style=\"stroke:black;stroke-width:4\"/><line x1=\"62.7\" y1=\"454.7\" x2=\"89.76\" y2=\"461.895\" stroke-linecap=\"round\" style=\"stroke:black;stroke-width:4\"/><line x1=\"89.76\" y1=\"461.895\" x2=\"82.565\" y2=\"488.955\" stroke-linecap=\"round\" style=\"stroke:black;stroke-width:4\"/><line x1=\"82.565\" y1=\"488.955\" x2=\"55.505\" y2=\"481.76\" stroke-linecap=\"round\" style=\"stroke:black;stroke-width:4\"/><line x1=\"55.505\" y1=\"481.76\" x2=\"62.7\" y2=\"454.7\" stroke-linecap=\"round\" style=\"stroke:black;stroke-width:4\"/><line x1=\"91.248\" y1=\"455.248\" x2=\"118.149\" y2=\"463.016\" stroke-linecap=\"round\" style=\"stroke:black;stroke-width:4\"/><line x1=\"118.149\" y1=\"463.016\" x2=\"110.381\" y2=\"489.917\" stroke-linecap=\"round\" style=\"stroke:black;stroke-width:4\"/><line x1=\"110.381\" y1=\"489.917\" x2=\"83.48\" y2=\"482.149\" stroke-linecap=\"round\" style=\"stroke:black;stroke-width:4\"/><line x1=\"83.48\" y1=\"482.149\" x2=\"91.248\" y2=\"455.248\" stroke-linecap=\"round\" style=\"stroke:black;stroke-width:4\"/><line x1=\"116.683\" y1=\"452.683\" x2=\"144.222\" y2=\"457.74\" stroke-linecap=\"round\" style=\"stroke:black;stroke-width:4\"/><line x1=\"144.222\" y1=\"457.74\" x2=\"139.165\" y2=\"485.279\" stroke-linecap=\"round\" style=\"stroke:black;stroke-width:4\"/><line x1=\"139.165\" y1=\"485.279\" x2=\"111.626\" y2=\"480.222\" stroke-linecap=\"round\" style=\"stroke:black;stroke-width:4\"/><line x1=\"111.626\" y1=\"480.222\" x2=\"116.683\" y2=\"452.683\" stroke-linecap=\"round\" style=\"stroke:black;stroke-width:4\"/><line x1=\"134.768\" y1=\"442.768\" x2=\"162.194\" y2=\"437.125\" stroke-linecap=\"round\" style=\"stroke:black;stroke-width:4\"/><line x1=\"162.194\" y1=\"437.125\" x2=\"167.837\" y2=\"464.551\" stroke-linecap=\"round\" style=\"stroke:black;stroke-width:4\"/><line x1=\"167.837\" y1=\"464.551\" x2=\"140.411\" y2=\"470.194\" stroke-linecap=\"round\" style=\"stroke:black;stroke-width:4\"/><line x1=\"140.411\" y1=\"470.194\" x2=\"134.768\" y2=\"442.768\" stroke-linecap=\"round\" style=\"stroke:black;stroke-width:4\"/><line x1=\"168.535\" y1=\"448.535\" x2=\"196.529\" y2=\"449.116\" stroke-linecap=\"round\" style=\"stroke:black;stroke-width:4\"/><line x1=\"196.529\" y1=\"449.116\" x2=\"195.948\" y2=\"477.11\" stroke-linecap=\"round\" style=\"stroke:black;stroke-width:4\"/><line x1=\"195.948\" y1=\"477.11\" x2=\"167.954\" y2=\"476.529\" stroke-linecap=\"round\" style=\"stroke:black;stroke-width:4\"/><line x1=\"167.954\" y1=\"476.529\" x2=\"168.535\" y2=\"448.535\" stroke-linecap=\"round\" style=\"stroke:black;stroke-width:4\"/><line x1=\"187.48\" y1=\"439.48\" x2=\"213.965\" y2=\"430.395\" stroke-linecap=\"round\" style=\"stroke:black;stroke-width:4\"/><line x1=\"213.965\" y1=\"430.395\" x2=\"223.05\" y2=\"456.88\" stroke-linecap=\"round\" style=\"stroke:black;stroke-width:4\"/><line x1=\"223.05\" y1=\"456.88\" x2=\"196.565\" y2=\"465.965\" stroke-linecap=\"round\" style=\"stroke:black;stroke-width:4\"/><line x1=\"196.565\" y1=\"465.965\" x2=\"187.48\" y2=\"439.48\" stroke-linecap=\"round\" style=\"stroke:black;stroke-width:4\"/><line x1=\"230.859\" y1=\"454.859\" x2=\"257.874\" y2=\"462.221\" stroke-linecap=\"round\" style=\"stroke:black;stroke-width:4\"/><line x1=\"257.874\" y1=\"462.221\" x2=\"250.512\" y2=\"489.236\" stroke-linecap=\"round\" style=\"stroke:black;stroke-width:4\"/><line x1=\"250.512\" y1=\"489.236\" x2=\"223.497\" y2=\"481.874\" stroke-linecap=\"round\" style=\"stroke:black;stroke-width:4\"/><line x1=\"223.497\" y1=\"481.874\" x2=\"230.859\" y2=\"454.859\" stroke-linecap=\"round\" style=\"stroke:black;stroke-width:4\"/><line x1=\"245.021\" y1=\"441.021\" x2=\"272.002\" y2=\"433.534\" stroke-linecap=\"round\" style=\"stroke:black;stroke-width:4\"/><line x1=\"272.002\" y1=\"433.534\" x2=\"279.489\" y2=\"460.515\" stroke-linecap=\"round\" style=\"stroke:black;stroke-width:4\"/><line x1=\"279.489\" y1=\"460.515\" x2=\"252.508\" y2=\"468.002\" stroke-linecap=\"round\" style=\"stroke:black;stroke-width:4\"/><line x1=\"252.508\" y1=\"468.002\" x2=\"245.021\" y2=\"441.021\" stroke-linecap=\"round\" style=\"stroke:black;stroke-width:4\"/><line x1=\"276.502\" y1=\"444.502\" x2=\"304.245\" y2=\"440.715\" stroke-linecap=\"round\" style=\"stroke:black;stroke-width:4\"/><line x1=\"304.245\" y1=\"440.715\" x2=\"308.032\" y2=\"468.458\" stroke-linecap=\"round\" style=\"stroke:black;stroke-width:4\"/><line x1=\"308.032\" y1=\"468.458\" x2=\"280.289\" y2=\"472.245\" stroke-linecap=\"round\" style=\"stroke:black;stroke-width:4\"/><line x1=\"280.289\" y1=\"472.245\" x2=\"276.502\" y2=\"444.502\" stroke-linecap=\"round\" style=\"stroke:black;stroke-width:4\"/><line x1=\"315.917\" y1=\"455.917\" x2=\"342.607\" y2=\"464.38\" stroke-linecap=\"round\" style=\"stroke:black;stroke-width:4\"/><line x1=\"342.607\" y1=\"464.38\" x2=\"334.144\" y2=\"491.07\" stroke-linecap=\"round\" style=\"stroke:black;stroke-width:4\"/><line x1=\"334.144\" y1=\"491.07\" x2=\"307.454\" y2=\"482.607\" stroke-linecap=\"round\" style=\"stroke:black;stroke-width:4\"/><line x1=\"307.454\" y1=\"482.607\" x2=\"315.917\" y2=\"455.917\" stroke-linecap=\"round\" style=\"stroke:black;stroke-width:4\"/><line x1=\"334.711\" y1=\"446.711\" x2=\"362.676\" y2=\"445.312\" stroke-linecap=\"round\" style=\"stroke:black;stroke-width:4\"/><line x1=\"362.676\" y1=\"445.312\" x2=\"364.075\" y2=\"473.277\" stroke-linecap=\"round\" style=\"stroke:black;stroke-width:4\"/><line x1=\"364.075\" y1=\"473.277\" x2=\"336.11\" y2=\"474.676\" stroke-linecap=\"round\" style=\"stroke:black;stroke-width:4\"/><line x1=\"336.11\" y1=\"474.676\" x2=\"334.711\" y2=\"446.711\" stroke-linecap=\"round\" style=\"stroke:black;stroke-width:4\"/><line x1=\"371.921\" y1=\"455.921\" x2=\"398.61\" y2=\"464.389\" stroke-linecap=\"round\" style=\"stroke:black;stroke-width:4\"/><line x1=\"398.61\" y1=\"464.389\" x2=\"390.142\" y2=\"491.078\" stroke-linecap=\"round\" style=\"stroke:black;stroke-width:4\"/><line x1=\"390.142\" y1=\"491.078\" x2=\"363.453\" y2=\"482.61\" stroke-linecap=\"round\" style=\"stroke:black;stroke-width:4\"/><line x1=\"363.453\" y1=\"482.61\" x2=\"371.921\" y2=\"455.921\" stroke-linecap=\"round\" style=\"stroke:black;stroke-width:4\"/><line x1=\"47.749\" y1=\"467.749\" x2=\"74.328\" y2=\"458.941\" stroke-linecap=\"round\" style=\"stroke:black;stroke-width:4\"/><line x1=\"74.328\" y1=\"458.941\" x2=\"83.136\" y2=\"485.52\" stroke-linecap=\"round\" style=\"stroke:black;stroke-width:4\"/><line x1=\"83.136\" y1=\"485.52\" x2=\"56.557\" y2=\"494.328\" stroke-linecap=\"round\" style=\"stroke:black;stroke-width:4\"/><line x1=\"56.557\" y1=\"494.328\" x2=\"47.749\" y2=\"467.749\" stroke-linecap=\"round\" style=\"stroke:black;stroke-width:4\"/><line x1=\"73.079\" y1=\"465.079\" x2=\"98.605\" y2=\"453.571\" stroke-linecap=\"round\" style=\"stroke:black;stroke-width:4\"/><line x1=\"98.605\" y1=\"453.571\" x2=\"110.113\" y2=\"479.097\" stroke-linecap=\"round\" style=\"stroke:black;stroke-width:4\"/><line x1=\"110.113\" y1=\"479.097\" x2=\"84.587\" y2=\"490.605\" stroke-linecap=\"round\" style=\"stroke:black;stroke-width:4\"/><line x1=\"84.587\" y1=\"490.605\" x2=\"73.079\" y2=\"465.079\" stroke-linecap=\"round\" style=\"stroke:black;stroke-width:4\"/><line x1=\"102.958\" y1=\"466.958\" x2=\"129.254\" y2=\"457.338\" stroke-linecap=\"round\" style=\"stroke:black;stroke-width:4\"/><line x1=\"129.254\" y1=\"457.338\" x2=\"138.874\" y2=\"483.634\" stroke-linecap=\"round\" style=\"stroke:black;stroke-width:4\"/><line x1=\"138.874\" y1=\"483.634\" x2=\"112.578\" y2=\"493.254\" stroke-linecap=\"round\" style=\"stroke:black;stroke-width:4\"/><line x1=\"112.578\" y1=\"493.254\" x2=\"102.958\" y2=\"466.958\" stroke-linecap=\"round\" style=\"stroke:black;stroke-width:4\"/><line x1=\"146.663\" y1=\"482.663\" x2=\"173.733\" y2=\"489.819\" stroke-linecap=\"round\" style=\"stroke:black;stroke-width:4\"/><line x1=\"173.733\" y1=\"489.819\" x2=\"166.577\" y2=\"516.889\" stroke-linecap=\"round\" style=\"stroke:black;stroke-width:4\"/><line x1=\"166.577\" y1=\"516.889\" x2=\"139.507\" y2=\"509.733\" stroke-linecap=\"round\" style=\"stroke:black;stroke-width:4\"/><line x1=\"139.507\" y1=\"509.733\" x2=\"146.663\" y2=\"482.663\" stroke-linecap=\"round\" style=\"stroke:black;stroke-width:4\"/><line x1=\"171.35\" y1=\"479.35\" x2=\"199.114\" y2=\"482.978\" stroke-linecap=\"round\" style=\"stroke:black;stroke-width:4\"/><line x1=\"199.114\" y1=\"482.978\" x2=\"195.486\" y2=\"510.742\" stroke-linecap=\"round\" style=\"stroke:black;stroke-width:4\"/><line x1=\"195.486\" y1=\"510.742\" x2=\"167.722\" y2=\"507.114\" stroke-linecap=\"round\" style=\"stroke:black;stroke-width:4\"/><line x1=\"167.722\" y1=\"507.114\" x2=\"171.35\" y2=\"479.35\" stroke-linecap=\"round\" style=\"stroke:black;stroke-width:4\"/><line x1=\"191.351\" y1=\"471.351\" x2=\"218.897\" y2=\"466.329\" stroke-linecap=\"round\" style=\"stroke:black;stroke-width:4\"/><line x1=\"218.897\" y1=\"466.329\" x2=\"223.919\" y2=\"493.875\" stroke-linecap=\"round\" style=\"stroke:black;stroke-width:4\"/><line x1=\"223.919\" y1=\"493.875\" x2=\"196.373\" y2=\"498.897\" stroke-linecap=\"round\" style=\"stroke:black;stroke-width:4\"/><line x1=\"196.373\" y1=\"498.897\" x2=\"191.351\" y2=\"471.351\" stroke-linecap=\"round\" style=\"stroke:black;stroke-width:4\"/><line x1=\"228.422\" y1=\"480.422\" x2=\"256.011\" y2=\"485.201\" stroke-linecap=\"round\" style=\"stroke:black;stroke-width:4\"/><line x1=\"256.011\" y1=\"485.201\" x2=\"251.232\" y2=\"512.79\" stroke-linecap=\"round\" style=\"stroke:black;stroke-width:4\"/><line x1=\"251.232\" y1=\"512.79\" x2=\"223.643\" y2=\"508.011\" stroke-linecap=\"round\" style=\"stroke:black;stroke-width:4\"/><line x1=\"223.643\" y1=\"508.011\" x2=\"228.422\" y2=\"480.422\" stroke-linecap=\"round\" style=\"stroke:black;stroke-width:4\"/><line x1=\"242.987\" y1=\"466.987\" x2=\"269.294\" y2=\"457.397\" stroke-linecap=\"round\" style=\"stroke:black;stroke-width:4\"/><line x1=\"269.294\" y1=\"457.397\" x2=\"278.884\" y2=\"483.704\" stroke-linecap=\"round\" style=\"stroke:black;stroke-width:4\"/><line x1=\"278.884\" y1=\"483.704\" x2=\"252.577\" y2=\"493.294\" stroke-linecap=\"round\" style=\"stroke:black;stroke-width:4\"/><line x1=\"252.577\" y1=\"493.294\" x2=\"242.987\" y2=\"466.987\" stroke-linecap=\"round\" style=\"stroke:black;stroke-width:4\"/><line x1=\"270.473\" y1=\"466.473\" x2=\"296.583\" y2=\"456.361\" stroke-linecap=\"round\" style=\"stroke:black;stroke-width:4\"/><line x1=\"296.583\" y1=\"456.361\" x2=\"306.695\" y2=\"482.471\" stroke-linecap=\"round\" style=\"stroke:black;stroke-width:4\"/><line x1=\"306.695\" y1=\"482.471\" x2=\"280.585\" y2=\"492.583\" stroke-linecap=\"round\" style=\"stroke:black;stroke-width:4\"/><line x1=\"280.585\" y1=\"492.583\" x2=\"270.473\" y2=\"466.473\" stroke-linecap=\"round\" style=\"stroke:black;stroke-width:4\"/><line x1=\"298.053\" y1=\"466.053\" x2=\"323.995\" y2=\"455.516\" stroke-linecap=\"round\" style=\"stroke:black;stroke-width:4\"/><line x1=\"323.995\" y1=\"455.516\" x2=\"334.532\" y2=\"481.458\" stroke-linecap=\"round\" style=\"stroke:black;stroke-width:4\"/><line x1=\"334.532\" y1=\"481.458\" x2=\"308.59\" y2=\"491.995\" stroke-linecap=\"round\" style=\"stroke:black;stroke-width:4\"/><line x1=\"308.59\" y1=\"491.995\" x2=\"298.053\" y2=\"466.053\" stroke-linecap=\"round\" style=\"stroke:black;stroke-width:4\"/><line x1=\"330.557\" y1=\"470.557\" x2=\"357.935\" y2=\"464.69\" stroke-linecap=\"round\" style=\"stroke:black;stroke-width:4\"/><line x1=\"357.935\" y1=\"464.69\" x2=\"363.802\" y2=\"492.068\" stroke-linecap=\"round\" style=\"stroke:black;stroke-width:4\"/><line x1=\"363.802\" y1=\"492.068\" x2=\"336.424\" y2=\"497.935\" stroke-linecap=\"round\" style=\"stroke:black;stroke-width:4\"/><line x1=\"336.424\" y1=\"497.935\" x2=\"330.557\" y2=\"470.557\" stroke-linecap=\"round\" style=\"stroke:black;stroke-width:4\"/><line x1=\"362.426\" y1=\"474.426\" x2=\"390.374\" y2=\"472.717\" stroke-linecap=\"round\" style=\"stroke:black;stroke-width:4\"/><line x1=\"390.374\" y1=\"472.717\" x2=\"392.083\" y2=\"500.665\" stroke-linecap=\"round\" style=\"stroke:black;stroke-width:4\"/><line x1=\"392.083\" y1=\"500.665\" x2=\"364.135\" y2=\"502.374\" stroke-linecap=\"round\" style=\"stroke:black;stroke-width:4\"/><line x1=\"364.135\" y1=\"502.374\" x2=\"362.426\" y2=\"474.426\" stroke-linecap=\"round\" style=\"stroke:black;stroke-width:4\"/><line x1=\"61.669\" y1=\"509.669\" x2=\"88.995\" y2=\"515.776\" stroke-linecap=\"round\" style=\"stroke:black;stroke-width:4\"/><line x1=\"88.995\" y1=\"515.776\" x2=\"82.888\" y2=\"543.102\" stroke-linecap=\"round\" style=\"stroke:black;stroke-width:4\"/><line x1=\"82.888\" y1=\"543.102\" x2=\"55.562\" y2=\"536.995\" stroke-linecap=\"round\" style=\"stroke:black;stroke-width:4\"/><line x1=\"55.562\" y1=\"536.995\" x2=\"61.669\" y2=\"509.669\" stroke-linecap=\"round\" style=\"stroke:black;stroke-width:4\"/><line x1=\"77.331\" y1=\"497.331\" x2=\"104.4\" y2=\"490.169\" stroke-linecap=\"round\" style=\"stroke:black;stroke-width:4\"/><line x1=\"104.4\" y1=\"490.169\" x2=\"111.562\" y2=\"517.238\" stroke-linecap=\"round\" style=\"stroke:black;stroke-width:4\"/><line x1=\"111.562\" y1=\"517.238\" x2=\"84.493\" y2=\"524.4\" stroke-linecap=\"round\" style=\"stroke:black;stroke-width:4\"/><line x1=\"84.493\" y1=\"524.4\" x2=\"77.331\" y2=\"497.331\" stroke-linecap=\"round\" style=\"stroke:black;stroke-width:4\"/><line x1=\"109.348\" y1=\"501.348\" x2=\"137.2\" y2=\"498.473\" stroke-linecap=\"round\" style=\"stroke:black;stroke-width:4\"/><line x1=\"137.2\" y1=\"498.473\" x2=\"140.075\" y2=\"526.325\" stroke-linecap=\"round\" style=\"stroke:black;stroke-width:4\"/><line x1=\"140.075\" y1=\"526.325\" x2=\"112.223\" y2=\"529.2\" stroke-linecap=\"round\" style=\"stroke:black;stroke-width:4\"/><line x1=\"112.223\" y1=\"529.2\" x2=\"109.348\" y2=\"501.348\" stroke-linecap=\"round\" style=\"stroke:black;stroke-width:4\"/><line x1=\"131.97\" y1=\"495.97\" x2=\"158.623\" y2=\"487.389\" stroke-linecap=\"round\" style=\"stroke:black;stroke-width:4\"/><line x1=\"158.623\" y1=\"487.389\" x2=\"167.204\" y2=\"514.042\" stroke-linecap=\"round\" style=\"stroke:black;stroke-width:4\"/><line x1=\"167.204\" y1=\"514.042\" x2=\"140.551\" y2=\"522.623\" stroke-linecap=\"round\" style=\"stroke:black;stroke-width:4\"/><line x1=\"140.551\" y1=\"522.623\" x2=\"131.97\" y2=\"495.97\" stroke-linecap=\"round\" style=\"stroke:black;stroke-width:4\"/><line x1=\"160.638\" y1=\"496.638\" x2=\"187.504\" y2=\"488.751\" stroke-linecap=\"round\" style=\"stroke:black;stroke-width:4\"/><line x1=\"187.504\" y1=\"488.751\" x2=\"195.391\" y2=\"515.617\" stroke-linecap=\"round\" style=\"stroke:black;stroke-width:4\"/><line x1=\"195.391\" y1=\"515.617\" x2=\"168.525\" y2=\"523.504\" stroke-linecap=\"round\" style=\"stroke:black;stroke-width:4\"/><line x1=\"168.525\" y1=\"523.504\" x2=\"160.638\" y2=\"496.638\" stroke-linecap=\"round\" style=\"stroke:black;stroke-width:4\"/><line x1=\"182.862\" y1=\"490.862\" x2=\"207.305\" y2=\"477.204\" stroke-linecap=\"round\" style=\"stroke:black;stroke-width:4\"/><line x1=\"207.305\" y1=\"477.204\" x2=\"220.963\" y2=\"501.647\" stroke-linecap=\"round\" style=\"stroke:black;stroke-width:4\"/><line x1=\"220.963\" y1=\"501.647\" x2=\"196.52\" y2=\"515.305\" stroke-linecap=\"round\" style=\"stroke:black;stroke-width:4\"/><line x1=\"196.52\" y1=\"515.305\" x2=\"182.862\" y2=\"490.862\" stroke-linecap=\"round\" style=\"stroke:black;stroke-width:4\"/><line x1=\"226.2\" y1=\"506.2\" x2=\"254.098\" y2=\"508.586\" stroke-linecap=\"round\" style=\"stroke:black;stroke-width:4\"/><line x1=\"254.098\" y1=\"508.586\" x2=\"251.712\" y2=\"536.484\" stroke-linecap=\"round\" style=\"stroke:black;stroke-width:4\"/><line x1=\"251.712\" y1=\"536.484\" x2=\"223.814\" y2=\"534.098\" stroke-linecap=\"round\" style=\"stroke:black;stroke-width:4\"/><line x1=\"223.814\" y1=\"534.098\" x2=\"226.2\" y2=\"506.2\" stroke-linecap=\"round\" style=\"stroke:black;stroke-width:4\"/><line x1=\"250.225\" y1=\"502.225\" x2=\"278.159\" y2=\"500.299\" stroke-linecap=\"round\" style=\"stroke:black;stroke-width:4\"/><line x1=\"278.159\" y1=\"500.299\" x2=\"280.085\" y2=\"528.233\" stroke-linecap=\"round\" style=\"stroke:black;stroke-width:4\"/><line x1=\"280.085\" y1=\"528.233\" x2=\"252.151\" y2=\"530.159\" stroke-linecap=\"round\" style=\"stroke:black;stroke-width:4\"/><line x1=\"252.151\" y1=\"530.159\" x2=\"250.225\" y2=\"502.225\" stroke-linecap=\"round\" style=\"stroke:black;stroke-width:4\"/><line x1=\"291.232\" y1=\"515.232\" x2=\"316.617\" y2=\"527.047\" stroke-linecap=\"round\" style=\"stroke:black;stroke-width:4\"/><line x1=\"316.617\" y1=\"527.047\" x2=\"304.802\" y2=\"552.432\" stroke-linecap=\"round\" style=\"stroke:black;stroke-width:4\"/><line x1=\"304.802\" y1=\"552.432\" x2=\"279.417\" y2=\"540.617\" stroke-linecap=\"round\" style=\"stroke:black;stroke-width:4\"/><line x1=\"279.417\" y1=\"540.617\" x2=\"291.232\" y2=\"515.232\" stroke-linecap=\"round\" style=\"stroke:black;stroke-width:4\"/><line x1=\"310.648\" y1=\"506.648\" x2=\"338.5\" y2=\"509.519\" stroke-linecap=\"round\" style=\"stroke:black;stroke-width:4\"/><line x1=\"338.5\" y1=\"509.519\" x2=\"335.629\" y2=\"537.371\" stroke-linecap=\"round\" style=\"stroke:black;stroke-width:4\"/><line x1=\"335.629\" y1=\"537.371\" x2=\"307.777\" y2=\"534.5\" stroke-linecap=\"round\" style=\"stroke:black;stroke-width:4\"/><line x1=\"307.777\" y1=\"534.5\" x2=\"310.648\" y2=\"506.648\" stroke-linecap=\"round\" style=\"stroke:black;stroke-width:4\"/><line x1=\"348.433\" y1=\"516.433\" x2=\"373.24\" y2=\"529.418\" stroke-linecap=\"round\" style=\"stroke:black;stroke-width:4\"/><line x1=\"373.24\" y1=\"529.418\" x2=\"360.255\" y2=\"554.225\" stroke-linecap=\"round\" style=\"stroke:black;stroke-width:4\"/><line x1=\"360.255\" y1=\"554.225\" x2=\"335.448\" y2=\"541.24\" stroke-linecap=\"round\" style=\"stroke:black;stroke-width:4\"/><line x1=\"335.448\" y1=\"541.24\" x2=\"348.433\" y2=\"516.433\" stroke-linecap=\"round\" style=\"stroke:black;stroke-width:4\"/><line x1=\"357.299\" y1=\"497.299\" x2=\"384.359\" y2=\"490.104\" stroke-linecap=\"round\" style=\"stroke:black;stroke-width:4\"/><line x1=\"384.359\" y1=\"490.104\" x2=\"391.554\" y2=\"517.164\" stroke-linecap=\"round\" style=\"stroke:black;stroke-width:4\"/><line x1=\"391.554\" y1=\"517.164\" x2=\"364.494\" y2=\"524.359\" stroke-linecap=\"round\" style=\"stroke:black;stroke-width:4\"/><line x1=\"364.494\" y1=\"524.359\" x2=\"357.299\" y2=\"497.299\" stroke-linecap=\"round\" style=\"stroke:black;stroke-width:4\"/><line x1=\"43.769\" y1=\"519.769\" x2=\"68.677\" y2=\"506.979\" stroke-linecap=\"round\" style=\"stroke:black;stroke-width:4\"/><line x1=\"68.677\" y1=\"506.979\" x2=\"81.467\" y2=\"531.887\" stroke-linecap=\"round\" style=\"stroke:black;stroke-width:4\"/><line x1=\"81.467\" y1=\"531.887\" x2=\"56.559\" y2=\"544.677\" stroke-linecap=\"round\" style=\"stroke:black;stroke-width:4\"/><line x1=\"56.559\" y1=\"544.677\" x2=\"43.769\" y2=\"519.769\" stroke-linecap=\"round\" style=\"stroke:black;stroke-width:4\"/><line x1=\"98.804\" y1=\"546.804\" x2=\"122.314\" y2=\"562.012\" stroke-linecap=\"round\" style=\"stroke:black;stroke-width:4\"/><line x1=\"122.314\" y1=\"562.012\" x2=\"107.106\" y2=\"585.522\" stroke-linecap=\"round\" style=\"stroke:black;stroke-width:4\"/><line x1=\"107.106\" y1=\"585.522\" x2=\"83.596\" y2=\"570.314\" stroke-linecap=\"round\" style=\"stroke:black;stroke-width:4\"/><line x1=\"83.596\" y1=\"570.314\" x2=\"98.804\" y2=\"546.804\" stroke-linecap=\"round\" style=\"stroke:black;stroke-width:4\"/><line x1=\"121.754\" y1=\"541.754\" x2=\"147.774\" y2=\"552.095\" stroke-linecap=\"round\" style=\"stroke:black;stroke-width:4\"/><line x1=\"147.774\" y1=\"552.095\" x2=\"137.433\" y2=\"578.115\" stroke-linecap=\"round\" style=\"stroke:black;stroke-width:4\"/><line x1=\"137.433\" y1=\"578.115\" x2=\"111.413\" y2=\"567.774\" stroke-linecap=\"round\" style=\"stroke:black;stroke-width:4\"/><line x1=\"111.413\" y1=\"567.774\" x2=\"121.754\" y2=\"541.754\" stroke-linecap=\"round\" style=\"stroke:black;stroke-width:4\"/><line x1=\"141.817\" y1=\"533.817\" x2=\"169.747\" y2=\"535.789\" stroke-linecap=\"round\" style=\"stroke:black;stroke-width:4\"/><line x1=\"169.747\" y1=\"535.789\" x2=\"167.775\" y2=\"563.719\" stroke-linecap=\"round\" style=\"stroke:black;stroke-width:4\"/><line x1=\"167.775\" y1=\"563.719\" x2=\"139.845\" y2=\"561.747\" stroke-linecap=\"round\" style=\"stroke:black;stroke-width:4\"/><line x1=\"139.845\" y1=\"561.747\" x2=\"141.817\" y2=\"533.817\" stroke-linecap=\"round\" style=\"stroke:black;stroke-width:4\"/><line x1=\"157.532\" y1=\"521.532\" x2=\"183.256\" y2=\"510.474\" stroke-linecap=\"round\" style=\"stroke:black;stroke-width:4\"/><line x1=\"183.256\" y1=\"510.474\" x2=\"194.314\" y2=\"536.198\" stroke-linecap=\"round\" style=\"stroke:black;stroke-width:4\"/><line x1=\"194.314\" y1=\"536.198\" x2=\"168.59\" y2=\"547.256\" stroke-linecap=\"round\" style=\"stroke:black;stroke-width:4\"/><line x1=\"168.59\" y1=\"547.256\" x2=\"157.532\" y2=\"521.532\" stroke-linecap=\"round\" style=\"stroke:black;stroke-width:4\"/><line x1=\"206.364\" y1=\"542.364\" x2=\"232.132\" y2=\"553.319\" stroke-linecap=\"round\" style=\"stroke:black;stroke-width:4\"/><line x1=\"232.132\" y1=\"553.319\" x2=\"221.177\" y2=\"579.087\" stroke-linecap=\"round\" style=\"stroke:black;stroke-width:4\"/><line x1=\"221.177\" y1=\"579.087\" x2=\"195.409\" y2=\"568.132\" stroke-linecap=\"round\" style=\"stroke:black;stroke-width:4\"/><line x1=\"195.409\" y1=\"568.132\" x2=\"206.364\" y2=\"542.364\" stroke-linecap=\"round\" style=\"stroke:black;stroke-width:4\"/><line x1=\"217.989\" y1=\"525.989\" x2=\"245.232\" y2=\"519.521\" stroke-linecap=\"round\" style=\"stroke:black;stroke-width:4\"/><line x1=\"245.232\" y1=\"519.521\" x2=\"251.7\" y2=\"546.764\" stroke-linecap=\"round\" style=\"stroke:black;stroke-width:4\"/><line x1=\"251.7\" y1=\"546.764\" x2=\"224.457\" y2=\"553.232\" stroke-linecap=\"round\" style=\"stroke:black;stroke-width:4\"/><line x1=\"224.457\" y1=\"553.232\" x2=\"217.989\" y2=\"525.989\" stroke-linecap=\"round\" style=\"stroke:black;stroke-width:4\"/><line x1=\"250.558\" y1=\"530.558\" x2=\"278.514\" y2=\"528.992\" stroke-linecap=\"round\" style=\"stroke:black;stroke-width:4\"/><line x1=\"278.514\" y1=\"528.992\" x2=\"280.08\" y2=\"556.948\" stroke-linecap=\"round\" style=\"stroke:black;stroke-width:4\"/><line x1=\"280.08\" y1=\"556.948\" x2=\"252.124\" y2=\"558.514\" stroke-linecap=\"round\" style=\"stroke:black;stroke-width:4\"/><line x1=\"252.124\" y1=\"558.514\" x2=\"250.558\" y2=\"530.558\" stroke-linecap=\"round\" style=\"stroke:black;stroke-width:4\"/><line x1=\"274.41\" y1=\"526.41\" x2=\"301.754\" y2=\"520.386\" stroke-linecap=\"round\" style=\"stroke:black;stroke-width:4\"/><line x1=\"301.754\" y1=\"520.386\" x2=\"307.778\" y2=\"547.73\" stroke-linecap=\"round\" style=\"stroke:black;stroke-width:4\"/><line x1=\"307.778\" y1=\"547.73\" x2=\"280.434\" y2=\"553.754\" stroke-linecap=\"round\" style=\"stroke:black;stroke-width:4\"/><line x1=\"280.434\" y1=\"553.754\" x2=\"274.41\" y2=\"526.41\" stroke-linecap=\"round\" style=\"stroke:black;stroke-width:4\"/><line x1=\"313.886\" y1=\"537.886\" x2=\"341.16\" y2=\"544.223\" stroke-linecap=\"round\" style=\"stroke:black;stroke-width:4\"/><line x1=\"341.16\" y1=\"544.223\" x2=\"334.823\" y2=\"571.497\" stroke-linecap=\"round\" style=\"stroke:black;stroke-width:4\"/><line x1=\"334.823\" y1=\"571.497\" x2=\"307.549\" y2=\"565.16\" stroke-linecap=\"round\" style=\"stroke:black;stroke-width:4\"/><line x1=\"307.549\" y1=\"565.16\" x2=\"313.886\" y2=\"537.886\" stroke-linecap=\"round\" style=\"stroke:black;stroke-width:4\"/><line x1=\"328.347\" y1=\"524.347\" x2=\"355.123\" y2=\"516.158\" stroke-linecap=\"round\" style=\"stroke:black;stroke-width:4\"/><line x1=\"355.123\" y1=\"516.158\" x2=\"363.312\" y2=\"542.934\" stroke-linecap=\"round\" style=\"stroke:black;stroke-width:4\"/><line x1=\"363.312\" y1=\"542.934\" x2=\"336.536\" y2=\"551.123\" stroke-linecap=\"round\" style=\"stroke:black;stroke-width:4\"/><line x1=\"336.536\" y1=\"551.123\" x2=\"328.347\" y2=\"524.347\" stroke-linecap=\"round\" style=\"stroke:black;stroke-width:4\"/><line x1=\"351.545\" y1=\"519.545\" x2=\"376.341\" y2=\"506.539\" stroke-linecap=\"round\" style=\"stroke:black;stroke-width:4\"/><line x1=\"376.341\" y1=\"506.539\" x2=\"389.347\" y2=\"531.335\" stroke-linecap=\"round\" style=\"stroke:black;stroke-width:4\"/><line x1=\"389.347\" y1=\"531.335\" x2=\"364.551\" y2=\"544.341\" stroke-linecap=\"round\" style=\"stroke:black;stroke-width:4\"/><line x1=\"364.551\" y1=\"544.341\" x2=\"351.545\" y2=\"519.545\" stroke-linecap=\"round\" style=\"stroke:black;stroke-width:4\"/><line x1=\"42.78\" y1=\"546.78\" x2=\"67.179\" y2=\"533.044\" stroke-linecap=\"round\" style=\"stroke:black;stroke-width:4\"/><line x1=\"67.179\" y1=\"533.044\" x2=\"80.915\" y2=\"557.443\" stroke-linecap=\"round\" style=\"stroke:black;stroke-width:4\"/><line x1=\"80.915\" y1=\"557.443\" x2=\"56.516\" y2=\"571.179\" stroke-linecap=\"round\" style=\"stroke:black;stroke-width:4\"/><line x1=\"56.516\" y1=\"571.179\" x2=\"42.78\" y2=\"546.78\" stroke-linecap=\"round\" style=\"stroke:black;stroke-width:4\"/><line x1=\"97.534\" y1=\"573.534\" x2=\"121.764\" y2=\"587.566\" stroke-linecap=\"round\" style=\"stroke:black;stroke-width:4\"/><line x1=\"121.764\" y1=\"587.566\" x2=\"107.732\" y2=\"611.796\" stroke-linecap=\"round\" style=\"stroke:black;stroke-width:4\"/><line x1=\"107.732\" y1=\"611.796\" x2=\"83.502\" y2=\"597.764\" stroke-linecap=\"round\" style=\"stroke:black;stroke-width:4\"/><line x1=\"83.502\" y1=\"597.764\" x2=\"97.534\" y2=\"573.534\" stroke-linecap=\"round\" style=\"stroke:black;stroke-width:4\"/><line x1=\"124.696\" y1=\"572.696\" x2=\"149.369\" y2=\"585.934\" stroke-linecap=\"round\" style=\"stroke:black;stroke-width:4\"/><line x1=\"149.369\" y1=\"585.934\" x2=\"136.131\" y2=\"610.607\" stroke-linecap=\"round\" style=\"stroke:black;stroke-width:4\"/><line x1=\"136.131\" y1=\"610.607\" x2=\"111.458\" y2=\"597.369\" stroke-linecap=\"round\" style=\"stroke:black;stroke-width:4\"/><line x1=\"111.458\" y1=\"597.369\" x2=\"124.696\" y2=\"572.696\" stroke-linecap=\"round\" style=\"stroke:black;stroke-width:4\"/><line x1=\"125.15\" y1=\"545.15\" x2=\"148.633\" y2=\"529.9\" stroke-linecap=\"round\" style=\"stroke:black;stroke-width:4\"/><line x1=\"148.633\" y1=\"529.9\" x2=\"163.883\" y2=\"553.383\" stroke-linecap=\"round\" style=\"stroke:black;stroke-width:4\"/><line x1=\"163.883\" y1=\"553.383\" x2=\"140.4\" y2=\"568.633\" stroke-linecap=\"round\" style=\"stroke:black;stroke-width:4\"/><line x1=\"140.4\" y1=\"568.633\" x2=\"125.15\" y2=\"545.15\" stroke-linecap=\"round\" style=\"stroke:black;stroke-width:4\"/><line x1=\"154.476\" y1=\"546.476\" x2=\"178.712\" y2=\"532.453\" stroke-linecap=\"round\" style=\"stroke:black;stroke-width:4\"/><line x1=\"178.712\" y1=\"532.453\" x2=\"192.735\" y2=\"556.689\" stroke-linecap=\"round\" style=\"stroke:black;stroke-width:4\"/><line x1=\"192.735\" y1=\"556.689\" x2=\"168.499\" y2=\"570.712\" stroke-linecap=\"round\" style=\"stroke:black;stroke-width:4\"/><line x1=\"168.499\" y1=\"570.712\" x2=\"154.476\" y2=\"546.476\" stroke-linecap=\"round\" style=\"stroke:black;stroke-width:4\"/><line x1=\"208.808\" y1=\"572.808\" x2=\"233.424\" y2=\"586.152\" stroke-linecap=\"round\" style=\"stroke:black;stroke-width:4\"/><line x1=\"233.424\" y1=\"586.152\" x2=\"220.08\" y2=\"610.768\" stroke-linecap=\"round\" style=\"stroke:black;stroke-width:4\"/><line x1=\"220.08\" y1=\"610.768\" x2=\"195.464\" y2=\"597.424\" stroke-linecap=\"round\" style=\"stroke:black;stroke-width:4\"/><line x1=\"195.464\" y1=\"597.424\" x2=\"208.808\" y2=\"572.808\" stroke-linecap=\"round\" style=\"stroke:black;stroke-width:4\"/><line x1=\"224.816\" y1=\"560.816\" x2=\"252.802\" y2=\"561.702\" stroke-linecap=\"round\" style=\"stroke:black;stroke-width:4\"/><line x1=\"252.802\" y1=\"561.702\" x2=\"251.916\" y2=\"589.688\" stroke-linecap=\"round\" style=\"stroke:black;stroke-width:4\"/><line x1=\"251.916\" y1=\"589.688\" x2=\"223.93\" y2=\"588.802\" stroke-linecap=\"round\" style=\"stroke:black;stroke-width:4\"/><line x1=\"223.93\" y1=\"588.802\" x2=\"224.816\" y2=\"560.816\" stroke-linecap=\"round\" style=\"stroke:black;stroke-width:4\"/><line x1=\"268.651\" y1=\"576.651\" x2=\"291.012\" y2=\"593.503\" stroke-linecap=\"round\" style=\"stroke:black;stroke-width:4\"/><line x1=\"291.012\" y1=\"593.503\" x2=\"274.16\" y2=\"615.864\" stroke-linecap=\"round\" style=\"stroke:black;stroke-width:4\"/><line x1=\"274.16\" y1=\"615.864\" x2=\"251.799\" y2=\"599.012\" stroke-linecap=\"round\" style=\"stroke:black;stroke-width:4\"/><line x1=\"251.799\" y1=\"599.012\" x2=\"268.651\" y2=\"576.651\" stroke-linecap=\"round\" style=\"stroke:black;stroke-width:4\"/><line x1=\"289.37\" y1=\"569.37\" x2=\"315.541\" y2=\"579.323\" stroke-linecap=\"round\" style=\"stroke:black;stroke-width:4\"/><line x1=\"315.541\" y1=\"579.323\" x2=\"305.588\" y2=\"605.494\" stroke-linecap=\"round\" style=\"stroke:black;stroke-width:4\"/><line x1=\"305.588\" y1=\"605.494\" x2=\"279.417\" y2=\"595.541\" stroke-linecap=\"round\" style=\"stroke:black;stroke-width:4\"/><line x1=\"279.417\" y1=\"595.541\" x2=\"289.37\" y2=\"569.37\" stroke-linecap=\"round\" style=\"stroke:black;stroke-width:4\"/><line x1=\"315.586\" y1=\"567.586\" x2=\"342.383\" y2=\"575.706\" stroke-linecap=\"round\" style=\"stroke:black;stroke-width:4\"/><line x1=\"342.383\" y1=\"575.706\" x2=\"334.263\" y2=\"602.503\" stroke-linecap=\"round\" style=\"stroke:black;stroke-width:4\"/><line x1=\"334.263\" y1=\"602.503\" x2=\"307.466\" y2=\"594.383\" stroke-linecap=\"round\" style=\"stroke:black;stroke-width:4\"/><line x1=\"307.466\" y1=\"594.383\" x2=\"315.586\" y2=\"567.586\" stroke-linecap=\"round\" style=\"stroke:black;stroke-width:4\"/><line x1=\"327.248\" y1=\"551.248\" x2=\"353.65\" y2=\"541.925\" stroke-linecap=\"round\" style=\"stroke:black;stroke-width:4\"/><line x1=\"353.65\" y1=\"541.925\" x2=\"362.973\" y2=\"568.327\" stroke-linecap=\"round\" style=\"stroke:black;stroke-width:4\"/><line x1=\"362.973\" y1=\"568.327\" x2=\"336.571\" y2=\"577.65\" stroke-linecap=\"round\" style=\"stroke:black;stroke-width:4\"/><line x1=\"336.571\" y1=\"577.65\" x2=\"327.248\" y2=\"551.248\" stroke-linecap=\"round\" style=\"stroke:black;stroke-width:4\"/><line x1=\"347.808\" y1=\"543.808\" x2=\"370.465\" y2=\"527.357\" stroke-linecap=\"round\" style=\"stroke:black;stroke-width:4\"/><line x1=\"370.465\" y1=\"527.357\" x2=\"386.916\" y2=\"550.014\" stroke-linecap=\"round\" style=\"stroke:black;stroke-width:4\"/><line x1=\"386.916\" y1=\"550.014\" x2=\"364.259\" y2=\"566.465\" stroke-linecap=\"round\" style=\"stroke:black;stroke-width:4\"/><line x1=\"364.259\" y1=\"566.465\" x2=\"347.808\" y2=\"543.808\" stroke-linecap=\"round\" style=\"stroke:black;stroke-width:4\"/><line x1=\"39.805\" y1=\"571.805\" x2=\"62.46\" y2=\"555.351\" stroke-linecap=\"round\" style=\"stroke:black;stroke-width:4\"/><line x1=\"62.46\" y1=\"555.351\" x2=\"78.914\" y2=\"578.006\" stroke-linecap=\"round\" style=\"stroke:black;stroke-width:4\"/><line x1=\"78.914\" y1=\"578.006\" x2=\"56.259\" y2=\"594.46\" stroke-linecap=\"round\" style=\"stroke:black;stroke-width:4\"/><line x1=\"56.259\" y1=\"594.46\" x2=\"39.805\" y2=\"571.805\" stroke-linecap=\"round\" style=\"stroke:black;stroke-width:4\"/><line x1=\"65.554\" y1=\"569.554\" x2=\"86.689\" y2=\"551.188\" stroke-linecap=\"round\" style=\"stroke:black;stroke-width:4\"/><line x1=\"86.689\" y1=\"551.188\" x2=\"105.055\" y2=\"572.323\" stroke-linecap=\"round\" style=\"stroke:black;stroke-width:4\"/><line x1=\"105.055\" y1=\"572.323\" x2=\"83.92\" y2=\"590.689\" stroke-linecap=\"round\" style=\"stroke:black;stroke-width:4\"/><line x1=\"83.92\" y1=\"590.689\" x2=\"65.554\" y2=\"569.554\" stroke-linecap=\"round\" style=\"stroke:black;stroke-width:4\"/><line x1=\"125.615\" y1=\"601.615\" x2=\"149.801\" y2=\"615.723\" stroke-linecap=\"round\" style=\"stroke:black;stroke-width:4\"/><line x1=\"149.801\" y1=\"615.723\" x2=\"135.693\" y2=\"639.909\" stroke-linecap=\"round\" style=\"stroke:black;stroke-width:4\"/><line x1=\"135.693\" y1=\"639.909\" x2=\"111.507\" y2=\"625.801\" stroke-linecap=\"round\" style=\"stroke:black;stroke-width:4\"/><line x1=\"111.507\" y1=\"625.801\" x2=\"125.615\" y2=\"601.615\" stroke-linecap=\"round\" style=\"stroke:black;stroke-width:4\"/><line x1=\"136.998\" y1=\"584.998\" x2=\"164.808\" y2=\"581.745\" stroke-linecap=\"round\" style=\"stroke:black;stroke-width:4\"/><line x1=\"164.808\" y1=\"581.745\" x2=\"168.061\" y2=\"609.555\" stroke-linecap=\"round\" style=\"stroke:black;stroke-width:4\"/><line x1=\"168.061\" y1=\"609.555\" x2=\"140.251\" y2=\"612.808\" stroke-linecap=\"round\" style=\"stroke:black;stroke-width:4\"/><line x1=\"140.251\" y1=\"612.808\" x2=\"136.998\" y2=\"584.998\" stroke-linecap=\"round\" style=\"stroke:black;stroke-width:4\"/><line x1=\"155.264\" y1=\"575.264\" x2=\"179.917\" y2=\"561.989\" stroke-linecap=\"round\" style=\"stroke:black;stroke-width:4\"/><line x1=\"179.917\" y1=\"561.989\" x2=\"193.192\" y2=\"586.642\" stroke-linecap=\"round\" style=\"stroke:black;stroke-width:4\"/><line x1=\"193.192\" y1=\"586.642\" x2=\"168.539\" y2=\"599.917\" stroke-linecap=\"round\" style=\"stroke:black;stroke-width:4\"/><line x1=\"168.539\" y1=\"599.917\" x2=\"155.264\" y2=\"575.264\" stroke-linecap=\"round\" style=\"stroke:black;stroke-width:4\"/><line x1=\"201.095\" y1=\"593.095\" x2=\"228.55\" y2=\"598.592\" stroke-linecap=\"round\" style=\"stroke:black;stroke-width:4\"/><line x1=\"228.55\" y1=\"598.592\" x2=\"223.053\" y2=\"626.047\" stroke-linecap=\"round\" style=\"stroke:black;stroke-width:4\"/><line x1=\"223.053\" y1=\"626.047\" x2=\"195.598\" y2=\"620.55\" stroke-linecap=\"round\" style=\"stroke:black;stroke-width:4\"/><line x1=\"195.598\" y1=\"620.55\" x2=\"201.095\" y2=\"593.095\" stroke-linecap=\"round\" style=\"stroke:black;stroke-width:4\"/><line x1=\"231.839\" y1=\"595.839\" x2=\"258.555\" y2=\"604.221\" stroke-linecap=\"round\" style=\"stroke:black;stroke-width:4\"/><line x1=\"258.555\" y1=\"604.221\" x2=\"250.173\" y2=\"630.937\" stroke-linecap=\"round\" style=\"stroke:black;stroke-width:4\"/><line x1=\"250.173\" y1=\"630.937\" x2=\"223.457\" y2=\"622.555\" stroke-linecap=\"round\" style=\"stroke:black;stroke-width:4\"/><line x1=\"223.457\" y1=\"622.555\" x2=\"231.839\" y2=\"595.839\" stroke-linecap=\"round\" style=\"stroke:black;stroke-width:4\"/><line x1=\"255.329\" y1=\"591.329\" x2=\"283.096\" y2=\"594.934\" stroke-linecap=\"round\" style=\"stroke:black;stroke-width:4\"/><line x1=\"283.096\" y1=\"594.934\" x2=\"279.491\" y2=\"622.701\" stroke-linecap=\"round\" style=\"stroke:black;stroke-width:4\"/><line x1=\"279.491\" y1=\"622.701\" x2=\"251.724\" y2=\"619.096\" stroke-linecap=\"round\" style=\"stroke:black;stroke-width:4\"/><line x1=\"251.724\" y1=\"619.096\" x2=\"255.329\" y2=\"591.329\" stroke-linecap=\"round\" style=\"stroke:black;stroke-width:4\"/><line x1=\"298.749\" y1=\"606.749\" x2=\"319.667\" y2=\"625.362\" stroke-linecap=\"round\" style=\"stroke:black;stroke-width:4\"/><line x1=\"319.667\" y1=\"625.362\" x2=\"301.054\" y2=\"646.28\" stroke-linecap=\"round\" style=\"stroke:black;stroke-width:4\"/><line x1=\"301.054\" y1=\"646.28\" x2=\"280.136\" y2=\"627.667\" stroke-linecap=\"round\" style=\"stroke:black;stroke-width:4\"/><line x1=\"280.136\" y1=\"627.667\" x2=\"298.749\" y2=\"606.749\" stroke-linecap=\"round\" style=\"stroke:black;stroke-width:4\"/><line x1=\"319.942\" y1=\"599.942\" x2=\"344.992\" y2=\"612.452\" stroke-linecap=\"round\" style=\"stroke:black;stroke-width:4\"/><line x1=\"344.992\" y1=\"612.452\" x2=\"332.482\" y2=\"637.502\" stroke-linecap=\"round\" style=\"stroke:black;stroke-width:4\"/><line x1=\"332.482\" y1=\"637.502\" x2=\"307.432\" y2=\"624.992\" stroke-linecap=\"round\" style=\"stroke:black;stroke-width:4\"/><line x1=\"307.432\" y1=\"624.992\" x2=\"319.942\" y2=\"599.942\" stroke-linecap=\"round\" style=\"stroke:black;stroke-width:4\"/><line x1=\"322.94\" y1=\"574.94\" x2=\"347.424\" y2=\"561.356\" stroke-linecap=\"round\" style=\"stroke:black;stroke-width:4\"/><line x1=\"347.424\" y1=\"561.356\" x2=\"361.008\" y2=\"585.84\" stroke-linecap=\"round\" style=\"stroke:black;stroke-width:4\"/><line x1=\"361.008\" y1=\"585.84\" x2=\"336.524\" y2=\"599.424\" stroke-linecap=\"round\" style=\"stroke:black;stroke-width:4\"/><line x1=\"336.524\" y1=\"599.424\" x2=\"322.94\" y2=\"574.94\" stroke-linecap=\"round\" style=\"stroke:black;stroke-width:4\"/><line x1=\"347.3\" y1=\"571.3\" x2=\"369.629\" y2=\"554.406\" stroke-linecap=\"round\" style=\"stroke:black;stroke-width:4\"/><line x1=\"369.629\" y1=\"554.406\" x2=\"386.523\" y2=\"576.735\" stroke-linecap=\"round\" style=\"stroke:black;stroke-width:4\"/><line x1=\"386.523\" y1=\"576.735\" x2=\"364.194\" y2=\"593.629\" stroke-linecap=\"round\" style=\"stroke:black;stroke-width:4\"/><line x1=\"364.194\" y1=\"593.629\" x2=\"347.3\" y2=\"571.3\" stroke-linecap=\"round\" style=\"stroke:black;stroke-width:4\"/><line x1=\"41.094\" y1=\"601.094\" x2=\"64.544\" y2=\"585.793\" stroke-linecap=\"round\" style=\"stroke:black;stroke-width:4\"/><line x1=\"64.544\" y1=\"585.793\" x2=\"79.845\" y2=\"609.243\" stroke-linecap=\"round\" style=\"stroke:black;stroke-width:4\"/><line x1=\"79.845\" y1=\"609.243\" x2=\"56.395\" y2=\"624.544\" stroke-linecap=\"round\" style=\"stroke:black;stroke-width:4\"/><line x1=\"56.395\" y1=\"624.544\" x2=\"41.094\" y2=\"601.094\" stroke-linecap=\"round\" style=\"stroke:black;stroke-width:4\"/><line x1=\"89.436\" y1=\"621.436\" x2=\"116.816\" y2=\"627.296\" stroke-linecap=\"round\" style=\"stroke:black;stroke-width:4\"/><line x1=\"116.816\" y1=\"627.296\" x2=\"110.956\" y2=\"654.676\" stroke-linecap=\"round\" style=\"stroke:black;stroke-width:4\"/><line x1=\"110.956\" y1=\"654.676\" x2=\"83.576\" y2=\"648.816\" stroke-linecap=\"round\" style=\"stroke:black;stroke-width:4\"/><line x1=\"83.576\" y1=\"648.816\" x2=\"89.436\" y2=\"621.436\" stroke-linecap=\"round\" style=\"stroke:black;stroke-width:4\"/><line x1=\"101.269\" y1=\"605.269\" x2=\"126.879\" y2=\"593.949\" stroke-linecap=\"round\" style=\"stroke:black;stroke-width:4\"/><line x1=\"126.879\" y1=\"593.949\" x2=\"138.199\" y2=\"619.559\" stroke-linecap=\"round\" style=\"stroke:black;stroke-width:4\"/><line x1=\"138.199\" y1=\"619.559\" x2=\"112.589\" y2=\"630.879\" stroke-linecap=\"round\" style=\"stroke:black;stroke-width:4\"/><line x1=\"112.589\" y1=\"630.879\" x2=\"101.269\" y2=\"605.269\" stroke-linecap=\"round\" style=\"stroke:black;stroke-width:4\"/><line x1=\"123.179\" y1=\"599.179\" x2=\"145.429\" y2=\"582.18\" stroke-linecap=\"round\" style=\"stroke:black;stroke-width:4\"/><line x1=\"145.429\" y1=\"582.18\" x2=\"162.428\" y2=\"604.43\" stroke-linecap=\"round\" style=\"stroke:black;stroke-width:4\"/><line x1=\"162.428\" y1=\"604.43\" x2=\"140.178\" y2=\"621.429\" stroke-linecap=\"round\" style=\"stroke:black;stroke-width:4\"/><line x1=\"140.178\" y1=\"621.429\" x2=\"123.179\" y2=\"599.179\" stroke-linecap=\"round\" style=\"stroke:black;stroke-width:4\"/><line x1=\"172.451\" y1=\"620.451\" x2=\"200.035\" y2=\"625.261\" stroke-linecap=\"round\" style=\"stroke:black;stroke-width:4\"/><line x1=\"200.035\" y1=\"625.261\" x2=\"195.225\" y2=\"652.845\" stroke-linecap=\"round\" style=\"stroke:black;stroke-width:4\"/><line x1=\"195.225\" y1=\"652.845\" x2=\"167.641\" y2=\"648.035\" stroke-linecap=\"round\" style=\"stroke:black;stroke-width:4\"/><line x1=\"167.641\" y1=\"648.035\" x2=\"172.451\" y2=\"620.451\" stroke-linecap=\"round\" style=\"stroke:black;stroke-width:4\"/><line x1=\"198.122\" y1=\"618.122\" x2=\"226.027\" y2=\"620.424\" stroke-linecap=\"round\" style=\"stroke:black;stroke-width:4\"/><line x1=\"226.027\" y1=\"620.424\" x2=\"223.725\" y2=\"648.329\" stroke-linecap=\"round\" style=\"stroke:black;stroke-width:4\"/><line x1=\"223.725\" y1=\"648.329\" x2=\"195.82\" y2=\"646.027\" stroke-linecap=\"round\" style=\"stroke:black;stroke-width:4\"/><line x1=\"195.82\" y1=\"646.027\" x2=\"198.122\" y2=\"618.122\" stroke-linecap=\"round\" style=\"stroke:black;stroke-width:4\"/><line x1=\"217.341\" y1=\"609.341\" x2=\"244.412\" y2=\"602.19\" stroke-linecap=\"round\" style=\"stroke:black;stroke-width:4\"/><line x1=\"244.412\" y1=\"602.19\" x2=\"251.563\" y2=\"629.261\" stroke-linecap=\"round\" style=\"stroke:black;stroke-width:4\"/><line x1=\"251.563\" y1=\"629.261\" x2=\"224.492\" y2=\"636.412\" stroke-linecap=\"round\" style=\"stroke:black;stroke-width:4\"/><line x1=\"224.492\" y1=\"636.412\" x2=\"217.341\" y2=\"609.341\" stroke-linecap=\"round\" style=\"stroke:black;stroke-width:4\"/><line x1=\"252.495\" y1=\"616.495\" x2=\"280.49\" y2=\"617.033\" stroke-linecap=\"round\" style=\"stroke:black;stroke-width:4\"/><line x1=\"280.49\" y1=\"617.033\" x2=\"279.952\" y2=\"645.028\" stroke-linecap=\"round\" style=\"stroke:black;stroke-width:4\"/><line x1=\"279.952\" y1=\"645.028\" x2=\"251.957\" y2=\"644.49\" stroke-linecap=\"round\" style=\"stroke:black;stroke-width:4\"/><line x1=\"251.957\" y1=\"644.49\" x2=\"252.495\" y2=\"616.495\" stroke-linecap=\"round\" style=\"stroke:black;stroke-width:4\"/><line x1=\"265.415\" y1=\"601.415\" x2=\"289.053\" y2=\"586.407\" stroke-linecap=\"round\" style=\"stroke:black;stroke-width:4\"/><line x1=\"289.053\" y1=\"586.407\" x2=\"304.061\" y2=\"610.045\" stroke-linecap=\"round\" style=\"stroke:black;stroke-width:4\"/><line x1=\"304.061\" y1=\"610.045\" x2=\"280.423\" y2=\"625.053\" stroke-linecap=\"round\" style=\"stroke:black;stroke-width:4\"/><line x1=\"280.423\" y1=\"625.053\" x2=\"265.415\" y2=\"601.415\" stroke-linecap=\"round\" style=\"stroke:black;stroke-width:4\"/><line x1=\"328.787\" y1=\"636.787\" x2=\"348.169\" y2=\"656.994\" stroke-linecap=\"round\" style=\"stroke:black;stroke-width:4\"/><line x1=\"348.169\" y1=\"656.994\" x2=\"327.962\" y2=\"676.376\" stroke-linecap=\"round\" style=\"stroke:black;stroke-width:4\"/><line x1=\"327.962\" y1=\"676.376\" x2=\"308.58\" y2=\"656.169\" stroke-linecap=\"round\" style=\"stroke:black;stroke-width:4\"/><line x1=\"308.58\" y1=\"656.169\" x2=\"328.787\" y2=\"636.787\" stroke-linecap=\"round\" style=\"stroke:black;stroke-width:4\"/><line x1=\"351.195\" y1=\"631.195\" x2=\"374.472\" y2=\"646.757\" stroke-linecap=\"round\" style=\"stroke:black;stroke-width:4\"/><line x1=\"374.472\" y1=\"646.757\" x2=\"358.91\" y2=\"670.034\" stroke-linecap=\"round\" style=\"stroke:black;stroke-width:4\"/><line x1=\"358.91\" y1=\"670.034\" x2=\"335.633\" y2=\"654.472\" stroke-linecap=\"round\" style=\"stroke:black;stroke-width:4\"/><line x1=\"335.633\" y1=\"654.472\" x2=\"351.195\" y2=\"631.195\" stroke-linecap=\"round\" style=\"stroke:black;stroke-width:4\"/><line x1=\"343.557\" y1=\"595.557\" x2=\"363.207\" y2=\"575.611\" stroke-linecap=\"round\" style=\"stroke:black;stroke-width:4\"/><line x1=\"363.207\" y1=\"575.611\" x2=\"383.153\" y2=\"595.261\" stroke-linecap=\"round\" style=\"stroke:black;stroke-width:4\"/><line x1=\"383.153\" y1=\"595.261\" x2=\"363.503\" y2=\"615.207\" stroke-linecap=\"round\" style=\"stroke:black;stroke-width:4\"/><line x1=\"363.503\" y1=\"615.207\" x2=\"343.557\" y2=\"595.557\" stroke-linecap=\"round\" style=\"stroke:black;stroke-width:4\"/><line x1=\"63.315\" y1=\"651.315\" x2=\"90.196\" y2=\"659.152\" stroke-linecap=\"round\" style=\"stroke:black;stroke-width:4\"/><line x1=\"90.196\" y1=\"659.152\" x2=\"82.359\" y2=\"686.033\" stroke-linecap=\"round\" style=\"stroke:black;stroke-width:4\"/><line x1=\"82.359\" y1=\"686.033\" x2=\"55.478\" y2=\"678.196\" stroke-linecap=\"round\" style=\"stroke:black;stroke-width:4\"/><line x1=\"55.478\" y1=\"678.196\" x2=\"63.315\" y2=\"651.315\" stroke-linecap=\"round\" style=\"stroke:black;stroke-width:4\"/><line x1=\"66.573\" y1=\"626.573\" x2=\"88.417\" y2=\"609.056\" stroke-linecap=\"round\" style=\"stroke:black;stroke-width:4\"/><line x1=\"88.417\" y1=\"609.056\" x2=\"105.934\" y2=\"630.9\" stroke-linecap=\"round\" style=\"stroke:black;stroke-width:4\"/><line x1=\"105.934\" y1=\"630.9\" x2=\"84.09\" y2=\"648.417\" stroke-linecap=\"round\" style=\"stroke:black;stroke-width:4\"/><line x1=\"84.09\" y1=\"648.417\" x2=\"66.573\" y2=\"626.573\" stroke-linecap=\"round\" style=\"stroke:black;stroke-width:4\"/><line x1=\"95.464\" y1=\"627.464\" x2=\"117.9\" y2=\"610.712\" stroke-linecap=\"round\" style=\"stroke:black;stroke-width:4\"/><line x1=\"117.9\" y1=\"610.712\" x2=\"134.652\" y2=\"633.148\" stroke-linecap=\"round\" style=\"stroke:black;stroke-width:4\"/><line x1=\"134.652\" y1=\"633.148\" x2=\"112.216\" y2=\"649.9\" stroke-linecap=\"round\" style=\"stroke:black;stroke-width:4\"/><line x1=\"112.216\" y1=\"649.9\" x2=\"95.464\" y2=\"627.464\" stroke-linecap=\"round\" style=\"stroke:black;stroke-width:4\"/><line x1=\"126.39\" y1=\"630.39\" x2=\"150.579\" y2=\"616.286\" stroke-linecap=\"round\" style=\"stroke:black;stroke-width:4\"/><line x1=\"150.579\" y1=\"616.286\" x2=\"164.683\" y2=\"640.475\" stroke-linecap=\"round\" style=\"stroke:black;stroke-width:4\"/><line x1=\"164.683\" y1=\"640.475\" x2=\"140.494\" y2=\"654.579\" stroke-linecap=\"round\" style=\"stroke:black;stroke-width:4\"/><line x1=\"140.494\" y1=\"654.579\" x2=\"126.39\" y2=\"630.39\" stroke-linecap=\"round\" style=\"stroke:black;stroke-width:4\"/><line x1=\"154.991\" y1=\"630.991\" x2=\"179.502\" y2=\"617.455\" stroke-linecap=\"round\" style=\"stroke:black;stroke-width:4\"/><line x1=\"179.502\" y1=\"617.455\" x2=\"193.038\" y2=\"641.966\" stroke-linecap=\"round\" style=\"stroke:black;stroke-width:4\"/><line x1=\"193.038\" y1=\"641.966\" x2=\"168.527\" y2=\"655.502\" stroke-linecap=\"round\" style=\"stroke:black;stroke-width:4\"/><line x1=\"168.527\" y1=\"655.502\" x2=\"154.991\" y2=\"630.991\" stroke-linecap=\"round\" style=\"stroke:black;stroke-width:4\"/><line x1=\"206.872\" y1=\"654.872\" x2=\"232.419\" y2=\"666.332\" stroke-linecap=\"round\" style=\"stroke:black;stroke-width:4\"/><line x1=\"232.419\" y1=\"666.332\" x2=\"220.959\" y2=\"691.879\" stroke-linecap=\"round\" style=\"stroke:black;stroke-width:4\"/><line x1=\"220.959\" y1=\"691.879\" x2=\"195.412\" y2=\"680.419\" stroke-linecap=\"round\" style=\"stroke:black;stroke-width:4\"/><line x1=\"195.412\" y1=\"680.419\" x2=\"206.872\" y2=\"654.872\" stroke-linecap=\"round\" style=\"stroke:black;stroke-width:4\"/><line x1=\"235.483\" y1=\"655.483\" x2=\"260.752\" y2=\"667.545\" stroke-linecap=\"round\" style=\"stroke:black;stroke-width:4\"/><line x1=\"260.752\" y1=\"667.545\" x2=\"248.69\" y2=\"692.814\" stroke-linecap=\"round\" style=\"stroke:black;stroke-width:4\"/><line x1=\"248.69\" y1=\"692.814\" x2=\"223.421\" y2=\"680.752\" stroke-linecap=\"round\" style=\"stroke:black;stroke-width:4\"/><line x1=\"223.421\" y1=\"680.752\" x2=\"235.483\" y2=\"655.483\" stroke-linecap=\"round\" style=\"stroke:black;stroke-width:4\"/><line x1=\"235.83\" y1=\"627.83\" x2=\"258.501\" y2=\"611.398\" stroke-linecap=\"round\" style=\"stroke:black;stroke-width:4\"/><line x1=\"258.501\" y1=\"611.398\" x2=\"274.933\" y2=\"634.069\" stroke-linecap=\"round\" style=\"stroke:black;stroke-width:4\"/><line x1=\"274.933\" y1=\"634.069\" x2=\"252.262\" y2=\"650.501\" stroke-linecap=\"round\" style=\"stroke:black;stroke-width:4\"/><line x1=\"252.262\" y1=\"650.501\" x2=\"235.83\" y2=\"627.83\" stroke-linecap=\"round\" style=\"stroke:black;stroke-width:4\"/><line x1=\"298.753\" y1=\"662.753\" x2=\"319.668\" y2=\"681.37\" stroke-linecap=\"round\" style=\"stroke:black;stroke-width:4\"/><line x1=\"319.668\" y1=\"681.37\" x2=\"301.051\" y2=\"702.285\" stroke-linecap=\"round\" style=\"stroke:black;stroke-width:4\"/><line x1=\"301.051\" y1=\"702.285\" x2=\"280.136\" y2=\"683.668\" stroke-linecap=\"round\" style=\"stroke:black;stroke-width:4\"/><line x1=\"280.136\" y1=\"683.668\" x2=\"298.753\" y2=\"662.753\" stroke-linecap=\"round\" style=\"stroke:black;stroke-width:4\"/><line x1=\"325.141\" y1=\"661.141\" x2=\"347.178\" y2=\"678.414\" stroke-linecap=\"round\" style=\"stroke:black;stroke-width:4\"/><line x1=\"347.178\" y1=\"678.414\" x2=\"329.905\" y2=\"700.451\" stroke-linecap=\"round\" style=\"stroke:black;stroke-width:4\"/><line x1=\"329.905\" y1=\"700.451\" x2=\"307.868\" y2=\"683.178\" stroke-linecap=\"round\" style=\"stroke:black;stroke-width:4\"/><line x1=\"307.868\" y1=\"683.178\" x2=\"325.141\" y2=\"661.141\" stroke-linecap=\"round\" style=\"stroke:black;stroke-width:4\"/><line x1=\"326.952\" y1=\"634.952\" x2=\"353.246\" y2=\"625.327\" stroke-linecap=\"round\" style=\"stroke:black;stroke-width:4\"/><line x1=\"353.246\" y1=\"625.327\" x2=\"362.871\" y2=\"651.621\" stroke-linecap=\"round\" style=\"stroke:black;stroke-width:4\"/><line x1=\"362.871\" y1=\"651.621\" x2=\"336.577\" y2=\"661.246\" stroke-linecap=\"round\" style=\"stroke:black;stroke-width:4\"/><line x1=\"336.577\" y1=\"661.246\" x2=\"326.952\" y2=\"634.952\" stroke-linecap=\"round\" style=\"stroke:black;stroke-width:4\"/><line x1=\"354.035\" y1=\"634.035\" x2=\"379.97\" y2=\"623.481\" stroke-linecap=\"round\" style=\"stroke:black;stroke-width:4\"/><line x1=\"379.97\" y1=\"623.481\" x2=\"390.524\" y2=\"649.416\" stroke-linecap=\"round\" style=\"stroke:black;stroke-width:4\"/><line x1=\"390.524\" y1=\"649.416\" x2=\"364.589\" y2=\"659.97\" stroke-linecap=\"round\" style=\"stroke:black;stroke-width:4\"/><line x1=\"364.589\" y1=\"659.97\" x2=\"354.035\" y2=\"634.035\" stroke-linecap=\"round\" style=\"stroke:black;stroke-width:4\"/>\n",
       "        <g visibility=hidden transform=\"rotate(427.8554569913696,354.035,634.035) translate(336.035, 616.035)\">\n",
       "<path style=\" stroke:none;fill-rule:evenodd;fill:black;fill-opacity:1;\" d=\"M 18.214844 0.632812 C 16.109375 1.800781 15.011719 4.074219 15.074219 7.132812 L 15.085938 7.652344 L 14.785156 7.496094 C 13.476562 6.824219 11.957031 6.671875 10.40625 7.066406 C 8.46875 7.550781 6.515625 9.15625 4.394531 11.992188 C 3.0625 13.777344 2.679688 14.636719 3.042969 15.027344 L 3.15625 15.152344 L 3.519531 15.152344 C 4.238281 15.152344 4.828125 14.886719 8.1875 13.039062 C 9.386719 12.378906 10.371094 11.839844 10.378906 11.839844 C 10.386719 11.839844 10.355469 11.929688 10.304688 12.035156 C 9.832031 13.09375 9.257812 14.820312 8.96875 16.078125 C 7.914062 20.652344 8.617188 24.53125 11.070312 27.660156 C 11.351562 28.015625 11.363281 27.914062 10.972656 28.382812 C 8.925781 30.84375 7.945312 33.28125 8.238281 35.1875 C 8.289062 35.527344 8.28125 35.523438 8.917969 35.523438 C 10.941406 35.523438 13.074219 34.207031 15.136719 31.6875 C 15.359375 31.417969 15.328125 31.425781 15.5625 31.574219 C 16.292969 32.042969 18.023438 32.964844 18.175781 32.964844 C 18.335938 32.964844 19.941406 32.210938 20.828125 31.71875 C 20.996094 31.625 21.136719 31.554688 21.136719 31.558594 C 21.203125 31.664062 21.898438 32.414062 22.222656 32.730469 C 23.835938 34.300781 25.5625 35.132812 27.582031 35.300781 C 27.90625 35.328125 27.9375 35.308594 28.007812 34.984375 C 28.382812 33.242188 27.625 30.925781 25.863281 28.425781 L 25.542969 27.96875 L 25.699219 27.785156 C 28.945312 23.960938 29.132812 18.699219 26.257812 11.96875 L 26.207031 11.84375 L 27.945312 12.703125 C 31.53125 14.476562 32.316406 14.800781 33.03125 14.800781 C 33.976562 14.800781 33.78125 13.9375 32.472656 12.292969 C 28.519531 7.355469 25.394531 5.925781 21.921875 7.472656 L 21.558594 7.636719 L 21.578125 7.542969 C 21.699219 6.992188 21.761719 5.742188 21.699219 5.164062 C 21.496094 3.296875 20.664062 1.964844 19.003906 0.855469 C 18.480469 0.503906 18.457031 0.5 18.214844 0.632812\"/>\n",
       "</g>\n",
       "      </svg>\n",
       "    "
      ],
      "text/plain": [
       "<IPython.core.display.HTML object>"
      ]
     },
     "metadata": {},
     "output_type": "display_data"
    }
   ],
   "source": [
    "# パラメータ\n",
    "columns = 12   # 横方向の数\n",
    "rows = 22    # 縦方向の数\n",
    "size = 28    # 正方形の一辺の長さ\n",
    "padding = 2 * size   # 余白の大きさ\n",
    "\n",
    "# 画面の用意\n",
    "width = columns * size + 2 * padding  # 左右の余白の分 2 * padding を足している\n",
    "height = rows * size + 2 * padding  # 上下の...\n",
    "turtle.initializeTurtle(initial_speed=13, initial_window_size=(width, height))\n",
    "turtle.hideturtle()  # カメは描画しない\n",
    "\n",
    "# 模様の描画\n",
    "for y in range(rows):\n",
    "    v = y * (y+1) * 0.11  # yが大きくなるにつれ、乱数を大きくする\n",
    "    for x in range(columns):\n",
    "        rand = random.uniform(-v, v)  # 乱数の生成\n",
    "        turtle.penup()\n",
    "        turtle.goto(\n",
    "            padding + x * size + rand * 0.45,  # 乱数に0.45を掛けた分だけ位置をずらす\n",
    "            padding + y * size + rand * 0.45\n",
    "        )\n",
    "        turtle.pendown()\n",
    "        turtle.setheading(rand)  # 乱数の分だけ傾ける \n",
    "        # 正方形の描画\n",
    "        for _ in range(4):\n",
    "            turtle.forward(size)\n",
    "            turtle.right(90)"
   ]
  }
 ],
 "metadata": {
  "kernelspec": {
   "display_name": "Python 3 (ipykernel)",
   "language": "python",
   "name": "python3"
  },
  "language_info": {
   "codemirror_mode": {
    "name": "ipython",
    "version": 3
   },
   "file_extension": ".py",
   "mimetype": "text/x-python",
   "name": "python",
   "nbconvert_exporter": "python",
   "pygments_lexer": "ipython3",
   "version": "3.12.1"
  },
  "vscode": {
   "interpreter": {
    "hash": "aee8b7b246df8f9039afb4144a1f6fd8d2ca17a180786b69acc140d282b71a49"
   }
  }
 },
 "nbformat": 4,
 "nbformat_minor": 5
}
