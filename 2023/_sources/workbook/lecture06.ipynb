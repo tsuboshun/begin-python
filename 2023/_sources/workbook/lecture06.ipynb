{
 "cells": [
  {
   "cell_type": "markdown",
   "id": "52b9c04c",
   "metadata": {},
   "source": [
    "# 第6回 繰り返し"
   ]
  },
  {
   "cell_type": "markdown",
   "id": "0f3467e6",
   "metadata": {},
   "source": [
    "___\n",
    "[![Open In Colab](https://colab.research.google.com/assets/colab-badge.svg)](https://colab.research.google.com/github/tsuboshun/begin-python/blob/gh-pages/_sources/workbook/lecture06.ipynb)\n",
    "\n",
    "___"
   ]
  },
  {
   "cell_type": "markdown",
   "id": "9ba5723c",
   "metadata": {},
   "source": [
    "## この授業で学ぶこと"
   ]
  },
  {
   "cell_type": "markdown",
   "id": "49246d72",
   "metadata": {},
   "source": [
    "プログラムの実行順序を制御する構文の中で、最も基本的なものが条件分岐と繰り返しである。前回は条件分岐について学んだが、今回はもう片方の繰り返しについて学ぶ。"
   ]
  },
  {
   "cell_type": "markdown",
   "id": "aaa228c7",
   "metadata": {},
   "source": [
    "## for文とwhile文"
   ]
  },
  {
   "cell_type": "markdown",
   "id": "b1d3c8b8",
   "metadata": {},
   "source": [
    "`0` から `n-1` までの数字を順に出力するプログラムを書いてみよう。これは**for文**を用いることで次のように実現できる。"
   ]
  },
  {
   "cell_type": "code",
   "execution_count": null,
   "id": "d2802730",
   "metadata": {},
   "outputs": [],
   "source": []
  },
  {
   "cell_type": "markdown",
   "id": "1ac83574",
   "metadata": {},
   "source": [
    "for文の書き方について解説する。上のコードを図で表すと次のようになる。"
   ]
  },
  {
   "cell_type": "markdown",
   "id": "fb233325",
   "metadata": {},
   "source": [
    "```{figure} ./pic/for.png\n",
    "---\n",
    "width: 500px\n",
    "name: for\n",
    "---\n",
    "for文の書き方\n",
    "```"
   ]
  },
  {
   "cell_type": "markdown",
   "id": "82ca0c23",
   "metadata": {},
   "source": [
    "イテラブルオブジェクトとは「繰り返すことが可能なオブジェクト」という意味である。\n",
    "この名前は、繰り返す（iterate）ことが可能という意味の形容詞であるiterableに由来する。\n",
    "\n",
    "`range()` 関数はイテラブルオブジェクトを生成する関数であり、`range(n)` により生成されるオブジェクトは `0` から `n-1` までの `n` 個の整数を順に生成する。\n",
    "`for i in range(n)` という構文により、これらの整数が順に変数 `i` に代入され、代入される度にブロックのコードが実行される。"
   ]
  },
  {
   "cell_type": "markdown",
   "id": "3f63c63c",
   "metadata": {},
   "source": [
    "文字列やリストもイテラブルオブジェクトである。文字列の場合は1文字ずつ、リストの場合は1要素ずつ変数に代入される。"
   ]
  },
  {
   "cell_type": "code",
   "execution_count": null,
   "id": "3143d218",
   "metadata": {},
   "outputs": [],
   "source": []
  },
  {
   "cell_type": "code",
   "execution_count": null,
   "id": "74a3aa2b",
   "metadata": {},
   "outputs": [],
   "source": []
  },
  {
   "cell_type": "markdown",
   "id": "99c864a2",
   "metadata": {},
   "source": [
    "for文に用いる変数名は自由に決めてよいが、一般的に短くて分かりやすく、代入されるデータを端的に表すものが好まれる。\n",
    "例えば文字が代入される場合には、慣例として `c` や `char` が使われることが多い。\n",
    "ただし、慣例は人それぞれなので、最初はそれほど気にする必要はない。"
   ]
  },
  {
   "cell_type": "markdown",
   "id": "2a9bbc08",
   "metadata": {},
   "source": [
    "例えば、リストの要素の平均値を求めるコードは次のように書ける。"
   ]
  },
  {
   "cell_type": "code",
   "execution_count": null,
   "id": "08140537",
   "metadata": {},
   "outputs": [],
   "source": []
  },
  {
   "cell_type": "markdown",
   "id": "bd49e6a7",
   "metadata": {},
   "source": [
    "同じことを `range()` 関数でインデックスを生成することにより行うこともできる。"
   ]
  },
  {
   "cell_type": "code",
   "execution_count": null,
   "id": "4de5ce0f",
   "metadata": {},
   "outputs": [],
   "source": []
  },
  {
   "cell_type": "markdown",
   "id": "160ee254",
   "metadata": {},
   "source": [
    "**練習1**  \n",
    "(1) リスト `data` の要素を前から順に出力するプログラムを作成しなさい。ここでは、`range()` 関数でインデックスを生成する方法を利用すること。"
   ]
  },
  {
   "cell_type": "code",
   "execution_count": null,
   "id": "5d74fbdd",
   "metadata": {},
   "outputs": [],
   "source": [
    "# dataの一例\n",
    "data = ['H', 'e', 'l', 'l', 'o']\n",
    "\n",
    "### （出席課題） 以下を埋めて、ここの部分のみ提出する。どのようなdataが与えられても正しく動くように書くこと。\n",
    "\n",
    "\n",
    "### "
   ]
  },
  {
   "cell_type": "markdown",
   "id": "eecd0985",
   "metadata": {},
   "source": [
    "(2) リスト `data` の要素を後ろから順に出力するプログラムを作成しなさい。"
   ]
  },
  {
   "cell_type": "code",
   "execution_count": null,
   "id": "bbce69f3",
   "metadata": {},
   "outputs": [],
   "source": [
    "# dataの一例\n",
    "data = ['o', 'l', 'l', 'e', 'H']\n"
   ]
  },
  {
   "cell_type": "markdown",
   "id": "9833c34d",
   "metadata": {},
   "source": [
    "for文の他に**while文**も繰り返し処理を行うための構文である。\n",
    "リストの要素の平均値を求めるプログラムは、while文を使って次のように書くこともできる。"
   ]
  },
  {
   "cell_type": "code",
   "execution_count": null,
   "id": "80168f03",
   "metadata": {},
   "outputs": [],
   "source": []
  },
  {
   "cell_type": "markdown",
   "id": "913b1ec2",
   "metadata": {},
   "source": [
    "while文の書き方について解説する。上のコードを図で表すと次のようになる。"
   ]
  },
  {
   "cell_type": "markdown",
   "id": "307a9691",
   "metadata": {},
   "source": [
    "```{figure} ./pic/while.png\n",
    "---\n",
    "width: 350px\n",
    "name: while\n",
    "---\n",
    "while文の書き方\n",
    "```"
   ]
  },
  {
   "cell_type": "markdown",
   "id": "c934522d",
   "metadata": {},
   "source": [
    "while文では、条件式が真であるかを判定し、真であればブロックを実行するという処理を、条件式が初めて偽になるまで繰り返し行う。\n",
    "したがって、適切に条件式を設定しないと無限ループに陥る可能性がある。\n",
    "また、初めから条件式が偽の場合は、ブロックは一度も実行されない。\n",
    "\n",
    "平均値を求める例では、繰り返しの度にインデックスを表す変数 `i` の値を1つずつ増やし、`i` がリストのインデックスの範囲を超えたところで条件式が偽となるように設定している。"
   ]
  },
  {
   "cell_type": "markdown",
   "id": "23c1272f",
   "metadata": {},
   "source": [
    "## 文のネスト"
   ]
  },
  {
   "cell_type": "markdown",
   "id": "1cb82f7b",
   "metadata": {},
   "source": [
    "これまでに学んだif文、for文、while文は、それぞれ内側のブロックに入れ子的に使用することができる。\n",
    "このような入れ子構造のことを**ネスト**という。\n",
    "\n",
    "特にfor文にfor文をネストさせたものを**二重ループ**という。\n",
    "二重ループの例を次に示す。"
   ]
  },
  {
   "cell_type": "code",
   "execution_count": null,
   "id": "a0c53f13",
   "metadata": {},
   "outputs": [],
   "source": []
  },
  {
   "cell_type": "markdown",
   "id": "57178d2f",
   "metadata": {},
   "source": [
    "`range(a, b)` により生成されるイテラブルオブジェクトは、`a` から `b-1` までの整数を順に生成する。上の例では、変数 `i` に1から4までの整数が順に代入され、それぞれの場合に変数 `j` に1から3までの整数が順に代入される。したがって、合わせて12回 `print()` が実行される。"
   ]
  },
  {
   "cell_type": "markdown",
   "id": "311447b7",
   "metadata": {},
   "source": [
    "**練習2**  \n",
    "二重ループにおいて一番内側のブロックを実行する度に、それが何回目の処理かを出力するプログラムを作成しなさい。"
   ]
  },
  {
   "cell_type": "code",
   "execution_count": null,
   "id": "5f539287",
   "metadata": {},
   "outputs": [],
   "source": [
    "count = 0\n",
    "for i in range(3):\n",
    "    for j in range(3):\n",
    "        pass  # ここにcountを使ったコードを書く"
   ]
  },
  {
   "cell_type": "markdown",
   "id": "e5fb438e",
   "metadata": {},
   "source": [
    "```{admonition} pass\n",
    "`pass` は何もしないという意味の文である。構文上、何か書かないとエラーになるが、コードの作成は後回しにしたい箇所に置いておく。テキストでも何度か登場するが、コードを書くときに消してしまって問題ない。\n",
    "```"
   ]
  },
  {
   "cell_type": "markdown",
   "id": "fbfa3492",
   "metadata": {},
   "source": [
    "### break文とcontinue文"
   ]
  },
  {
   "cell_type": "markdown",
   "id": "6baf2028",
   "metadata": {},
   "source": [
    "繰り返しの途中でfor文やwhile文を抜けたり、次の繰り返しまでスキップしたりする処理を書きたくなることがある。\n",
    "そのようなときに用いられるのが、**break文**や**continue文**である。\n",
    "\n",
    "これらの文の意味は、for文とwhile文のどちらで使われても変わらないので、ここではwhile文を例に説明しよう。\n",
    "break文もcontinue文も、ほとんどの場合、if文と組み合わせて用いられる。\n",
    "以下にbreak文とcontinue文を使ったプログラム例を示す。"
   ]
  },
  {
   "cell_type": "code",
   "execution_count": null,
   "id": "8253e446",
   "metadata": {},
   "outputs": [],
   "source": [
    "# break文\n",
    "i = 0\n",
    "while i < 5:\n",
    "    i += 1  \n",
    "    print(\"処理1\")\n",
    "    \n",
    "    if i == 3:\n",
    "        break\n",
    "    \n",
    "    print(\"処理2\")\n",
    "    print(i)"
   ]
  },
  {
   "cell_type": "code",
   "execution_count": null,
   "id": "3a61752d",
   "metadata": {
    "scrolled": false
   },
   "outputs": [],
   "source": [
    "# continue文\n",
    "i = 0\n",
    "while i < 5:\n",
    "    i += 1 \n",
    "    print(\"処理1\")\n",
    "    \n",
    "    if i == 3:\n",
    "        continue\n",
    "    \n",
    "    print(\"処理2\")\n",
    "    print(i)   "
   ]
  },
  {
   "cell_type": "markdown",
   "id": "1475c289",
   "metadata": {},
   "source": [
    "break文に到達すると、そこでwhile文の処理を終了する。\n",
    "1つ目の例では、その結果として、`i==3` のときに `処理1` と出力したあと全体の処理が終了している。\n",
    "\n",
    "continue文に到達すると、ブロックの残りのコードを実行せず、次の繰り返しに入る。\n",
    "2つ目の例では、その結果として、`i==3` のときに `処理2` や `i` の出力が行われていない。\n",
    "\n",
    "break文とcontinue文それぞれについて、実行の流れをフローチャートで表現すると次のようになる。"
   ]
  },
  {
   "cell_type": "markdown",
   "id": "9639a95c",
   "metadata": {},
   "source": [
    "```{figure} ./pic/break.png\n",
    "---\n",
    "width: 400px\n",
    "name: break\n",
    "---\n",
    "break文のフローチャート\n",
    "```"
   ]
  },
  {
   "cell_type": "markdown",
   "id": "14314beb",
   "metadata": {},
   "source": [
    "```{figure} ./pic/continue.png\n",
    "---\n",
    "width: 400px\n",
    "name: continue\n",
    "---\n",
    "continue文のフローチャート\n",
    "```"
   ]
  },
  {
   "cell_type": "markdown",
   "id": "2d5ce9d9",
   "metadata": {},
   "source": [
    "### インデントとブロックの関係\n",
    "\n",
    "次の3つのコードは、末尾2行のインデントの大きさが異なる。\n",
    "それぞれの場合に、末尾2行のコードはどのタイミングで実行されるかわかるだろうか。\n",
    "\n",
    "```{figure} ./pic/block.png\n",
    "---\n",
    "width: 600px\n",
    "name: block\n",
    "---\n",
    "インデントの違い\n",
    "```\n",
    "\n",
    "答えを書くと一番左の例では、末尾2行のコードはどのブロックにも属さないため、while文を抜けたあとに実行される。\n",
    "真ん中の例では、末尾2行のコードはwhile文のブロックに属するため、while文のループごとに実行される。\n",
    "一番右の例では、末尾2行のコードはif文のブロックに属する。そのため実行されるとしたらwhile文のループ中 `i == 3` のときのみであるが、if文のブロックにあるbreak文でwhile文を抜けてしまうため、末尾2行のコードが実行されることはない。\n",
    "\n",
    "それぞれのコードにおいて、while文のブロックを黄色、if文のブロックを青色のハイライトで可視化すると次の図のようになる。\n",
    "\n",
    "```{figure} ./pic/block_vis.png\n",
    "---\n",
    "width: 600px\n",
    "name: block\n",
    "---\n",
    "インデントとブロックの関係\n",
    "```\n",
    "\n",
    "このように同じインデントレベルの行は、同じブロックを形成する。\n",
    "インデントが深くなると新しいブロックが開始する。\n",
    "そしてインデントが元に戻ると現在のブロックが終了し、元のブロックが再開される。"
   ]
  },
  {
   "cell_type": "markdown",
   "id": "fd9aa1d5",
   "metadata": {},
   "source": [
    "### 二次元リスト"
   ]
  },
  {
   "cell_type": "markdown",
   "id": "fc9247f9",
   "metadata": {},
   "source": [
    "リストを要素に持たないリストのことを一次元リストという。\n",
    "すべての要素が一次元リストであるリストのことを**二次元リスト**という。\n",
    "この授業で二次元リストと言ったときは、要素の一次元リストのサイズは揃っているものとする。\n",
    "\n",
    "二次元リストの例を次に示す。二次元リストの場合は2つのインデックスを使って（一番内側の）要素にアクセスする。"
   ]
  },
  {
   "cell_type": "code",
   "execution_count": null,
   "id": "b9f86de4",
   "metadata": {},
   "outputs": [],
   "source": []
  },
  {
   "cell_type": "markdown",
   "id": "841756e2",
   "metadata": {},
   "source": [
    "二次元リストの全ての要素の合計値は、二重ループを使って次のように求められる。変数 `l`、`v` にどのような値が代入されているか示すため、逐一 `print()` を行っている。"
   ]
  },
  {
   "cell_type": "code",
   "execution_count": null,
   "id": "621b4b38",
   "metadata": {},
   "outputs": [],
   "source": []
  },
  {
   "cell_type": "markdown",
   "id": "6951fdfb",
   "metadata": {},
   "source": [
    "`for l in data` により、リストの要素であるリスト `[1, 2]`、`[3, 4]`、`[5, 6]` が順に変数 `l` に代入される。\n",
    "さらに `for v in l` により、各リスト `l` から要素である数値が順に変数 `v` に代入される。"
   ]
  },
  {
   "cell_type": "markdown",
   "id": "f15b9374",
   "metadata": {},
   "source": [
    "同じことを `range()` 関数でインデックスを生成することにより行うこともできる。"
   ]
  },
  {
   "cell_type": "code",
   "execution_count": null,
   "id": "d21d6ac4",
   "metadata": {},
   "outputs": [],
   "source": []
  },
  {
   "cell_type": "markdown",
   "id": "524ff5f5",
   "metadata": {},
   "source": [
    "**練習3**  \n",
    "要素が数値の二次元リスト `data` を与える。`data` の全ての要素の平均値を求めて出力するプログラムを作成しなさい。ただし、`data` は少なくとも1つ数値を含むとしてよい(つまり `data = [[]]` というケースはない）。"
   ]
  },
  {
   "cell_type": "code",
   "execution_count": null,
   "id": "c5a4d7bd",
   "metadata": {},
   "outputs": [],
   "source": [
    "# dataの一例 （この例では5と出力するのが正しい）\n",
    "data = [[1, 2, 3], [4, 5, 6], [7, 8, 9]]\n",
    "\n",
    "### （出席課題） 以下を埋めて、ここの部分のみ提出する。\n",
    "# どのようなdataが与えられても正しく動くように書くこと。またprint()関数を使うこと。\n",
    "\n",
    "\n",
    "\n",
    "### "
   ]
  },
  {
   "cell_type": "markdown",
   "id": "b9c57f9b",
   "metadata": {},
   "source": [
    "```{admonition} NumPy\n",
    ":class: note\n",
    "**NumPy**は、数値計算を効率的に行うためのライブラリである。\n",
    "講義の後半で**Matplotlib**や**Pandas**といったライブラリを学ぶ際に利用することになるので、ここで簡単に紹介しておく。\n",
    "NumPyでは `ndarray` （配列）というデータ型を主に用いる。\n",
    "`ndarray` は、`np.array()` 関数にリストを渡すことで、生成することができる。\n",
    "<pre>\n",
    "import numpy as np\n",
    "data = np.array([[1, 2], [3, 4], [5, 6]])</pre>\n",
    "この例では二次元リストを渡して、二次元配列を生成している。基本的な扱い方は、リストと同じである。\n",
    "異なる点を2つ紹介する。\n",
    "1つ目として、インデックスによる要素のアクセス方法がある。二次元リストでは、`data[i][j]` というように `[]` を重ねて要素を指定したが、二次元配列では、`data[i,j]` のように `,` 区切りで要素を指定する。`data[i,j]` と指定するときの `i` を**行**、`j` を**列**という。\n",
    "<pre>\n",
    "print(data[2,1])  # 出力は6</pre>\n",
    "2つ目として、配列には各種演算が定義されており、要素ごとの演算を一括で行える点がある。\n",
    "<pre>\n",
    "data = np.array([1, 2, 8])\n",
    "print(data + 1)  # 出力は [2, 3, 9]\n",
    "print(data * 2) # 出力は [2, 4, 16]\n",
    "print(np.log2(data)) # 出力は [0, 1, 3]\n",
    "\n",
    "data = [1, 2, 8]\n",
    "print(data + 1)  # リストではエラー\n",
    "</pre>\n",
    "```"
   ]
  },
  {
   "cell_type": "markdown",
   "id": "0e610665",
   "metadata": {},
   "source": [
    "## 演習"
   ]
  },
  {
   "cell_type": "markdown",
   "id": "9536509a",
   "metadata": {},
   "source": [
    "**課題1**  \n",
    "for文を使って、1から30までの整数について、3で割り切れる数は `\"Fizz\"`、5で割り切れる数は `\"Buzz\"`、15で割り切れる数は `\"FizzBuzz\"` に置き換えて出力し、それ以外の数はそのまま出力するプログラムを作成しなさい。これは英語圏で有名な言葉遊びである。\n",
    "\n",
    "<font color=cornflowerblue>ヒント: 3で割り切れるは、3で割った余りが0ということ（if文と%演算子を使う）</font>"
   ]
  },
  {
   "cell_type": "code",
   "execution_count": null,
   "id": "4c9097d2",
   "metadata": {},
   "outputs": [],
   "source": [
    "### （出席課題） コード全体を提出する\n",
    "\n",
    "for i in range(1, 31):\n",
    "    pass # ここに適切なコードを書く\n",
    "\n",
    "### "
   ]
  },
  {
   "cell_type": "markdown",
   "id": "87491bae",
   "metadata": {},
   "source": [
    "**課題2**  \n",
    "1以上の整数 `v` が与えられるとき、以下の手順に沿って整数を変換し、その度に出力するプログラムを作成しなさい。\n",
    "- 数字が偶数の場合、2で割る\n",
    "- 数字が奇数の場合、3をかけて1を足す\n",
    "- 数字が1になったら終了する  \n",
    "\n",
    "例えば `v = 12` の場合、出力は `6, 3, 10, 5, 16, 8, 4, 2, 1` になる。\n",
    "\n",
    "ちなみに、どんな整数から始めても必ず1に到達すると予想されているが、証明はまだない（コラッツ予想）。正しいことを証明するか、反例を1つでも見つければおよそ1億円の懸賞金がもらえるそうである（[記事](https://www.asahi.com/articles/ASP937HM6P8ZULBJ00T.html)）。"
   ]
  },
  {
   "cell_type": "code",
   "execution_count": null,
   "id": "d9d74c54",
   "metadata": {},
   "outputs": [],
   "source": [
    "# vの一例\n",
    "v = 12\n",
    "\n",
    "### 以下を埋めて、ここの部分のみ提出する\n",
    "while True:\n",
    "    # ここに変換処理を書く\n",
    "    \n",
    "    print(v)    \n",
    "    # ここに v == 1 のとき break すると書く\n",
    "\n",
    "###"
   ]
  }
 ],
 "metadata": {
  "kernelspec": {
   "display_name": "Python 3 (ipykernel)",
   "language": "python",
   "name": "python3"
  },
  "language_info": {
   "codemirror_mode": {
    "name": "ipython",
    "version": 3
   },
   "file_extension": ".py",
   "mimetype": "text/x-python",
   "name": "python",
   "nbconvert_exporter": "python",
   "pygments_lexer": "ipython3",
   "version": "3.9.5"
  },
  "vscode": {
   "interpreter": {
    "hash": "aee8b7b246df8f9039afb4144a1f6fd8d2ca17a180786b69acc140d282b71a49"
   }
  }
 },
 "nbformat": 4,
 "nbformat_minor": 5
}
