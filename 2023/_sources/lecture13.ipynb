{
 "cells": [
  {
   "cell_type": "markdown",
   "id": "52b9c04c",
   "metadata": {},
   "source": [
    "# 第13回 データの可視化"
   ]
  },
  {
   "cell_type": "markdown",
   "id": "0f3467e6",
   "metadata": {},
   "source": [
    "___\n",
    "[![Open In Colab](https://colab.research.google.com/assets/colab-badge.svg)](https://colab.research.google.com/github/tsuboshun/begin-python/blob/gh-pages/2023/_sources/workbook/lecture13.ipynb)\n",
    "\n",
    "___"
   ]
  },
  {
   "cell_type": "markdown",
   "id": "9ba5723c",
   "metadata": {},
   "source": [
    "## この授業で学ぶこと"
   ]
  },
  {
   "cell_type": "markdown",
   "id": "49246d72",
   "metadata": {},
   "source": [
    "今回から第15回にかけてデータサイエンスの入門講義を行う。\n",
    "今回はデータの可視化をテーマに、matplotlibというライブラリの使い方を一通り解説する。またテーブルデータを扱うためのライブラリであるpandasについても解説する。\n",
    "\n",
    "今回の授業で紹介するコードは何も見ないで書けるようになる必要はなく、これらを雛形にして使えるようになればよい。\n",
    "matplotlibを使うと綺麗なグラフを作成できるようになるので、ぜひ他の授業のレポートなどでも活用してみてほしい。\n",
    "\n",
    "また講義の終了後を見据えて、今回から課題を解くのに[ChatGPT](https://chat.openai.com/)を活用してもよいことにする。\n",
    "これまでヒントをもらうことでなんとかコードを書いていた人も多いと思うが、そのような人でもChatGPTを先生代わりにすることで、一人でコードを書けるようになると期待する。もちろん自力でコードを書いた方が力になるので、まずは自力で課題に取り組むこと。またChatGPTを使う場合でも、出力を鵜呑みにするのではなく、その正しさを自分で判断し、出力を適宜修正しながら利用することが重要である。"
   ]
  },
  {
   "cell_type": "markdown",
   "id": "2ec0fa70",
   "metadata": {},
   "source": [
    "## matplotlib入門"
   ]
  },
  {
   "cell_type": "markdown",
   "id": "378b8d77",
   "metadata": {},
   "source": [
    "Pythonでグラフを描画するのに**matplotlib**というライブラリがよく用いられる。この節ではmatplotlibの使い方の基本を説明する。\n",
    "\n",
    "matplotlibを使うには、その中のpyplotというモジュールをimportする。\n",
    "またグラフのラベルに日本語を使えるようにするためにjapanize_matplotlibというモジュールをimportする。japanize_matplotlibはpipによるインストールが必要である[^f1]。\n",
    "\n",
    "[^f1]: matplotlibも標準ライブラリではないため本来はpipによるインストールが必要であるが、Google Colabの環境では初めからインストールされている。"
   ]
  },
  {
   "cell_type": "code",
   "execution_count": null,
   "id": "f4d8b228",
   "metadata": {},
   "outputs": [],
   "source": [
    "pip install japanize_matplotlib"
   ]
  },
  {
   "cell_type": "code",
   "execution_count": 1,
   "id": "6ffdf089",
   "metadata": {},
   "outputs": [],
   "source": [
    "import matplotlib.pyplot as plt\n",
    "import japanize_matplotlib\n",
    "plt.rcParams.update({'font.size': 14})  # 文字サイズを14pxとする"
   ]
  },
  {
   "cell_type": "markdown",
   "id": "e3b829f9",
   "metadata": {},
   "source": [
    "まずは描画用のサンプルデータを用意しよう。matplotlibではリストまたは[第6回で紹介](label:numpy)したNumPyの配列（`ndarray`）を扱うことができる。ここでは配列のデータを用意する。"
   ]
  },
  {
   "cell_type": "code",
   "execution_count": 2,
   "id": "9ac1545c",
   "metadata": {},
   "outputs": [],
   "source": [
    "import numpy as np\n",
    "\n",
    "# 0から10までの0.1刻みの配列\n",
    "sample_x = np.arange(0, 10, 0.1)\n",
    "\n",
    "# y = 2x + eps　（epsはノイズ）\n",
    "eps = np.random.normal(loc=0, scale=1, size=len(sample_x))\n",
    "sample_y = sample_x * 2 + eps"
   ]
  },
  {
   "cell_type": "markdown",
   "id": "aa3bf884",
   "metadata": {},
   "source": [
    "`np.arange()` 関数は、`np.arange(start, stop, step)` と呼び出すと `start` から `stop` までの `step` 刻みの配列を生成する。"
   ]
  },
  {
   "cell_type": "code",
   "execution_count": 3,
   "id": "1cf9b59a",
   "metadata": {},
   "outputs": [
    {
     "data": {
      "text/plain": [
       "array([0. , 0.1, 0.2, 0.3, 0.4, 0.5, 0.6, 0.7, 0.8, 0.9, 1. , 1.1, 1.2,\n",
       "       1.3, 1.4, 1.5, 1.6, 1.7, 1.8, 1.9, 2. , 2.1, 2.2, 2.3, 2.4, 2.5,\n",
       "       2.6, 2.7, 2.8, 2.9, 3. , 3.1, 3.2, 3.3, 3.4, 3.5, 3.6, 3.7, 3.8,\n",
       "       3.9, 4. , 4.1, 4.2, 4.3, 4.4, 4.5, 4.6, 4.7, 4.8, 4.9, 5. , 5.1,\n",
       "       5.2, 5.3, 5.4, 5.5, 5.6, 5.7, 5.8, 5.9, 6. , 6.1, 6.2, 6.3, 6.4,\n",
       "       6.5, 6.6, 6.7, 6.8, 6.9, 7. , 7.1, 7.2, 7.3, 7.4, 7.5, 7.6, 7.7,\n",
       "       7.8, 7.9, 8. , 8.1, 8.2, 8.3, 8.4, 8.5, 8.6, 8.7, 8.8, 8.9, 9. ,\n",
       "       9.1, 9.2, 9.3, 9.4, 9.5, 9.6, 9.7, 9.8, 9.9])"
      ]
     },
     "execution_count": 3,
     "metadata": {},
     "output_type": "execute_result"
    }
   ],
   "source": [
    "sample_x"
   ]
  },
  {
   "cell_type": "code",
   "execution_count": 4,
   "id": "4c0b715b",
   "metadata": {},
   "outputs": [
    {
     "data": {
      "text/plain": [
       "100"
      ]
     },
     "execution_count": 4,
     "metadata": {},
     "output_type": "execute_result"
    }
   ],
   "source": [
    "len(sample_x)"
   ]
  },
  {
   "cell_type": "markdown",
   "id": "47da30b3",
   "metadata": {},
   "source": [
    "`np.random.normal()` 関数は上のように呼び出すと、平均が0で標準偏差が1の正規分布に従う乱数の配列（長さ `len(sample_x)`）を生成する。代入先の `eps` はデータに加えるノイズとして使用する。"
   ]
  },
  {
   "cell_type": "code",
   "execution_count": 5,
   "id": "9e1d2603",
   "metadata": {},
   "outputs": [
    {
     "data": {
      "text/plain": [
       "array([-1.24361582,  0.77055443, -1.77389982,  1.78842983,  0.59702357,\n",
       "        1.12472951, -0.00649613,  0.47246369,  0.37140968,  1.02840965,\n",
       "       -0.12924494, -0.35966077,  0.80745209,  0.07744079, -0.07997511,\n",
       "       -0.80314083,  1.24640422,  0.64528247,  0.99318952,  1.43098804,\n",
       "        0.08547546, -0.10587505, -0.33921682,  0.75713745,  0.41841202,\n",
       "       -0.51608197, -0.47863649,  0.05523357, -1.36956335, -1.0737363 ,\n",
       "       -0.96371593,  0.30839593,  0.70675185,  0.98589148, -1.02669823,\n",
       "       -0.69482968,  0.66576123, -0.30098694, -0.63520471,  0.8674969 ,\n",
       "       -0.76532868,  0.14785377, -0.55683054, -0.22501306,  0.38726633,\n",
       "       -0.84100015,  0.32614122, -1.9988606 , -0.37726841,  1.64376603,\n",
       "       -0.28915979,  0.23500223, -1.24517606, -0.44874376, -0.48226263,\n",
       "       -0.95022631,  0.8842136 ,  0.47969404, -0.23020598,  0.86010436,\n",
       "        0.26464737,  0.28403982,  0.76150434, -0.21082207, -0.23606015,\n",
       "       -0.84907788, -0.77231094,  0.18520571, -1.75292268,  1.44663028,\n",
       "       -0.58503143, -0.91905296, -0.21480587,  0.6774732 ,  1.06817192,\n",
       "       -0.23639933,  1.37291716, -0.81219317,  0.66971974, -0.72855362,\n",
       "       -1.35165092, -1.17822083, -1.31491094, -0.25240287,  0.83356746,\n",
       "       -0.89566016, -1.16724646, -0.65721982,  0.7204336 , -1.5740129 ,\n",
       "        0.56577219, -0.73649455, -0.33659789, -1.27543862, -1.88150029,\n",
       "       -0.85618245,  1.56442768,  1.20592909,  1.3441056 , -0.18157305])"
      ]
     },
     "execution_count": 5,
     "metadata": {},
     "output_type": "execute_result"
    }
   ],
   "source": [
    "eps"
   ]
  },
  {
   "cell_type": "markdown",
   "id": "bbe1bd61",
   "metadata": {},
   "source": [
    "配列の特徴の1つは、要素ごとの演算を一括で行えることである。`sample_x * 2 + eps` により、インデックスごとに `sample_x` の要素を2倍し、`eps` の要素を足している。\n",
    "\n",
    "ここで生成した `sample_x` と `sample_y` は $\\varepsilon$ をノイズとして $y = 2x + \\varepsilon$ の関係を満たす2次元データ $(x, y)$ を100個生成したものと見ることができる。\n",
    "1つ1つのデータは(`sample_x[0]`, `sample_y[0]`), (`sample_x[1]`, `sample_y[1]`), ..., (`sample_x[99]`, `sample_y[99]`)である。"
   ]
  },
  {
   "cell_type": "markdown",
   "id": "3e86942c",
   "metadata": {},
   "source": [
    "### 散布図"
   ]
  },
  {
   "cell_type": "markdown",
   "id": "16a12a81",
   "metadata": {},
   "source": [
    "サンプルデータを**散布図**として可視化してみよう。横軸に $x$、縦軸に $y$ の値をとって各データを点として打って描画する。このことをデータを散布図として**プロット**するという。"
   ]
  },
  {
   "cell_type": "code",
   "execution_count": 6,
   "id": "5ae86286",
   "metadata": {
    "scrolled": true
   },
   "outputs": [
    {
     "data": {
      "image/png": "[encoded data removed]",
      "text/plain": [
       "<Figure size 360x288 with 1 Axes>"
      ]
     },
     "metadata": {
      "needs_background": "light"
     },
     "output_type": "display_data"
    }
   ],
   "source": [
    "# プロットの入れ物の用意\n",
    "fig, ax = plt.subplots(1, 1, figsize=(5, 4))\n",
    "\n",
    "# 散布図のプロット\n",
    "ax.scatter(sample_x, sample_y)\n",
    "\n",
    "# 表示\n",
    "plt.show()"
   ]
  },
  {
   "cell_type": "markdown",
   "id": "98cabefc",
   "metadata": {},
   "source": [
    "1行目では `plt.subplots()` 関数によりFigureオブジェクトとAxesオブジェクトを生成して、変数 `fig` と `ax` に代入している[^f2][^f3]。\n",
    "\n",
    "matplotlibによる描画はFigureオブジェクトとAxesオブジェクト、Axisオブジェクトの3つの要素で構成される。Axisオブジェクトは1つの軸を管理し、Axesオブジェクトは1つのグラフを管理し、Figureオブジェクトは描画全体を管理する。それぞれの関係を次の図に示す。\n",
    "\n",
    "[^f2]: 一見すると戻り値が2つあるように見えるが、`plt.subplots()` はFigureオブジェクトとAxesオブジェクトのタプルを返しており（つまり戻り値は1つ）、タプルの各要素を `fig` と `ax` に割り当てている。戻り値のタプルを `,` 区切りの変数で受け取ることを**アンパック**という。\n",
    "[^f3]: matplotlibの描画方法にはexplicit（明示的）な方法とimplicit（非明示的）な方法の2種類があるが、このテキストではexplicitな方法を説明する。implicitな方法というのは、`fig` や `ax` を用意することなく、いきなり `plt.plot()` などとプロットする方法のことである。implicitな方法は手軽にプロットできるというメリットがあるが、グラフの細かい調整ができないというデメリットもある。そのため、はじめからexplicitな方法を覚えるのがお勧めである。"
   ]
  },
  {
   "cell_type": "markdown",
   "id": "016eee5c",
   "metadata": {},
   "source": [
    "```{figure} ./pic/fig_map.png\n",
    "---\n",
    "width: 400px\n",
    "name: fig_map\n",
    "---\n",
    "グラフの構成要素\n",
    "```"
   ]
  },
  {
   "cell_type": "markdown",
   "id": "6a04d2ac",
   "metadata": {},
   "source": [
    "`plt.subplots()` 関数は `plt.subplots(n, m, figsize=(w, h))` と呼び出すと、横幅 `w`、高さ `h` （単位はインチ）のFigureオブジェクトと、その中に `n` 行 `m` 列の`n * m` 個のAxesオブジェクトを作成する。グラフを1枚だけ描画したい場合は、`n = m = 1` と指定する。もしくは引数で何も指定しなければ、デフォルト引数により `n = m = 1` が設定される。このときAxesオブジェクトが1つだけ作成され、戻り値の `ax` はAxesオブジェクトそのものになる。複数のグラフを同時に描画したい場合は、`n` または `m` または両方に2以上の整数を指定する。このときAxesオブジェクトが複数作成され、戻り値はAxesオブジェクトの配列となる。\n",
    "\n",
    "散布図のプロットは `ax.scatter()` メソッドにより行う。第一引数に横軸の値の配列、第二引数に縦軸の値の配列を指定する。\n",
    "最後に `plt.show()` 関数を呼び出すことで、グラフが表示される。"
   ]
  },
  {
   "cell_type": "markdown",
   "id": "4f2916f0",
   "metadata": {},
   "source": [
    "### グラフの調整"
   ]
  },
  {
   "cell_type": "markdown",
   "id": "24c9b758",
   "metadata": {},
   "source": [
    "次にグラフの見た目を細かく調整してみよう。\n",
    "\n",
    "まずは1枚のグラフに複数の散布図をプロットする。\n",
    "先ほどのプロットに $y = 3x + \\varepsilon$ の関係を満たすデータの散布図を追加する。"
   ]
  },
  {
   "cell_type": "code",
   "execution_count": 7,
   "id": "54d7aa74",
   "metadata": {},
   "outputs": [
    {
     "data": {
      "image/png": "[encoded data removed]",
      "text/plain": [
       "<Figure size 360x288 with 1 Axes>"
      ]
     },
     "metadata": {
      "needs_background": "light"
     },
     "output_type": "display_data"
    }
   ],
   "source": [
    "# プロットの入れ物の用意\n",
    "fig, ax = plt.subplots(figsize=(5, 4))\n",
    "\n",
    "# データの用意\n",
    "sample_y2 = sample_x * 3 + np.random.normal(loc=0, scale=1, size=len(sample_x))\n",
    "\n",
    "# 散布図のプロット\n",
    "ax.scatter(sample_x, sample_y)\n",
    "ax.scatter(sample_x, sample_y2)\n",
    "\n",
    "# 表示\n",
    "plt.show()"
   ]
  },
  {
   "cell_type": "markdown",
   "id": "ce3f6de0",
   "metadata": {},
   "source": [
    "このように同一のAxesオブジェクトの `scatter()` メソッドを複数回呼び出すことで、1つのグラフに複数の散布図をプロットすることができる。\n",
    "\n",
    "プロットの色は自動的に設定されるが、自分で指定することもできる。\n",
    "凡例や軸ラベル、タイトル、マーカーの種類の設定方法とともに紹介する。"
   ]
  },
  {
   "cell_type": "code",
   "execution_count": 8,
   "id": "d339b7cf",
   "metadata": {},
   "outputs": [
    {
     "data": {
      "image/png": "[encoded data removed]",
      "text/plain": [
       "<Figure size 360x288 with 1 Axes>"
      ]
     },
     "metadata": {
      "needs_background": "light"
     },
     "output_type": "display_data"
    }
   ],
   "source": [
    "# プロットの入れ物の用意\n",
    "fig, ax = plt.subplots(figsize=(5, 4))\n",
    "\n",
    "# 散布図のプロット\n",
    "ax.scatter(sample_x, sample_y, color='royalblue', marker='v', label='y=2x+e')\n",
    "ax.scatter(sample_x, sample_y2, color='forestgreen', marker='x', label='y=3x+e')\n",
    "\n",
    "# 軸ラベル・タイトルの設定\n",
    "ax.set_xlabel('x')\n",
    "ax.set_ylabel('y')\n",
    "ax.set_title('xとyの関係')\n",
    "\n",
    "# 表示\n",
    "plt.legend() # 凡例の表示\n",
    "plt.show()"
   ]
  },
  {
   "cell_type": "markdown",
   "id": "f3ab086b",
   "metadata": {},
   "source": [
    "`ax.scatter()` メソッドのキーワード引数を使って、`color` を設定すると色を変更できる（`color` で指定できる色の名前の一覧は[こちら](https://matplotlib.org/stable/gallery/color/named_colors.html)）。`marker` を設定するとマーカーの種類を変更できる（`marker` で指定できる値の一覧は[こちら](https://matplotlib.org/stable/api/markers_api.html)）。`label` を設定すると凡例の表示を設定できる。凡例を表示するには、最後に `plt.legend()` を呼び出す。\n",
    "\n",
    "軸ラベルは `ax.set_xlabel()`、`ax.set_ylabel()` により設定する。同様にタイトルは `ax.set_title()` により設定する。"
   ]
  },
  {
   "cell_type": "markdown",
   "id": "ea417f35",
   "metadata": {},
   "source": [
    "### 折れ線グラフ"
   ]
  },
  {
   "cell_type": "markdown",
   "id": "b5e9a056",
   "metadata": {},
   "source": [
    "散布図と並んでよく使われるのが**折れ線グラフ**である。折れ線グラフでは、基本的にデータの順番は $x$ の値について昇順または降順であることを仮定する。\n",
    "このとき横軸に $x$、縦軸に $y$ の値をとって各データを点として打つところは散布図と同じであるが、折れ線グラフではこれらの点を線で結ぶ。これにより $x$ の値が増えたときの、$y$ の値の連続的な変化を表現できる。\n",
    "\n",
    "折れ線グラフのプロット例を以下に示す。\n",
    "ノイズのない $y = 2x$ の関係を表す2次元データ $(x, y)$ を `sample_x`、`sample_y3` に用意し、その折れ線グラフを最初の散布図に重ねてプロットしている。"
   ]
  },
  {
   "cell_type": "code",
   "execution_count": 9,
   "id": "8e4b09e8",
   "metadata": {},
   "outputs": [
    {
     "data": {
      "image/png": "[encoded data removed]",
      "text/plain": [
       "<Figure size 360x288 with 1 Axes>"
      ]
     },
     "metadata": {
      "needs_background": "light"
     },
     "output_type": "display_data"
    }
   ],
   "source": [
    "# プロットの入れ物の用意\n",
    "fig, ax = plt.subplots(figsize=(5, 4))\n",
    "\n",
    "sample_y3 = sample_x * 2\n",
    "\n",
    "# 散布図、折れ線グラフのプロット\n",
    "ax.scatter(sample_x, sample_y)\n",
    "ax.plot(sample_x, sample_y3, color=\"orange\")\n",
    "\n",
    "# 表示\n",
    "plt.show()"
   ]
  },
  {
   "cell_type": "markdown",
   "id": "2fb0e047",
   "metadata": {},
   "source": [
    "**練習1**  \n",
    "以下のコードにより、0から10までの0.1刻みの配列が `x` に、`x` のそれぞれの要素に対してsin関数の値を計算した配列が `y_sin` に、cos関数の値を計算した配列が `y_cos` に代入される。このとき `x` と `y_sin`、`x` と `y_cos` それぞれのペアについて折れ線グラフを作成することで、sin関数、cos関数を可視化しなさい。またそれぞれのプロットの区別がつくように `\"sin関数\"`、`\"cos関数\"` という凡例をつけなさい。"
   ]
  },
  {
   "cell_type": "code",
   "execution_count": null,
   "id": "ff913663",
   "metadata": {},
   "outputs": [],
   "source": [
    "x = np.arange(0, 10, 0.1)\n",
    "y_sin = np.sin(x)\n",
    "y_cos = np.cos(x)"
   ]
  },
  {
   "cell_type": "code",
   "execution_count": null,
   "id": "ee5b0082",
   "metadata": {},
   "outputs": [],
   "source": [
    "# プロットの入れ物の用意\n",
    "fig, ax = plt.subplots(figsize=(5, 4))\n",
    "\n",
    "# ここに適切なコードを書く\n",
    "\n",
    "\n",
    "plt.legend() # 凡例の表示\n",
    "\n",
    "# ファイルとして保存\n",
    "plt.tight_layout()\n",
    "plt.savefig(\"練習1.png\") "
   ]
  },
  {
   "cell_type": "markdown",
   "id": "e28f3f1e",
   "metadata": {},
   "source": [
    "プロットしたら以下のコードを実行することにより、画像をダウンロードできる。これを提出しなさい。"
   ]
  },
  {
   "cell_type": "code",
   "execution_count": null,
   "id": "0550e94a",
   "metadata": {},
   "outputs": [],
   "source": [
    "from google.colab import files\n",
    "files.download(\"練習1.png\")"
   ]
  },
  {
   "cell_type": "markdown",
   "id": "3c139ba7",
   "metadata": {},
   "source": [
    "## pandas入門"
   ]
  },
  {
   "cell_type": "markdown",
   "id": "c4dc3586",
   "metadata": {},
   "source": [
    "Pythonで表形式のデータ（テーブルデータ）を扱うのに**pandas**というライブラリがよく用いられる。この節ではpandasについて、今後の授業で使いうる機能に限定して説明する。\n",
    "\n",
    "pandasを使うには、pandasモジュールをimportする。\n",
    "ここでは説明のため、seabornというライブラリにサンプルとして用意されている `'diamonds'` というテーブルデータを使用する（データの説明は[こちら](https://ggplot2.tidyverse.org/reference/diamonds.html)）。`load_dataset()` 関数によりサンプルのテーブルデータを取得できる。このようなデータの集まりのことを**データセット**ともいう。"
   ]
  },
  {
   "cell_type": "code",
   "execution_count": 10,
   "id": "fb257327",
   "metadata": {},
   "outputs": [],
   "source": [
    "import pandas as pd\n",
    "import seaborn as sns\n",
    "df = sns.load_dataset('diamonds')"
   ]
  },
  {
   "cell_type": "markdown",
   "id": "e591584b",
   "metadata": {},
   "source": [
    "### データフレーム"
   ]
  },
  {
   "cell_type": "markdown",
   "id": "f138b822",
   "metadata": {},
   "source": [
    "pandasにおいてテーブルデータのことを**データフレーム**（**DataFrame**）という。\n",
    "データフレームの持つ `head()` メソッドにより、先頭から5件のデータを表示することができる。\n",
    "`head(10)` のように引数に整数を渡すことで、その件数だけデータを表示することもできる。"
   ]
  },
  {
   "cell_type": "code",
   "execution_count": 11,
   "id": "3c4ed17e",
   "metadata": {
    "scrolled": true
   },
   "outputs": [
    {
     "data": {
      "text/html": [
       "<div>\n",
       "<style scoped>\n",
       "    .dataframe tbody tr th:only-of-type {\n",
       "        vertical-align: middle;\n",
       "    }\n",
       "\n",
       "    .dataframe tbody tr th {\n",
       "        vertical-align: top;\n",
       "    }\n",
       "\n",
       "    .dataframe thead th {\n",
       "        text-align: right;\n",
       "    }\n",
       "</style>\n",
       "<table border=\"1\" class=\"dataframe\">\n",
       "  <thead>\n",
       "    <tr style=\"text-align: right;\">\n",
       "      <th></th>\n",
       "      <th>carat</th>\n",
       "      <th>cut</th>\n",
       "      <th>color</th>\n",
       "      <th>clarity</th>\n",
       "      <th>depth</th>\n",
       "      <th>table</th>\n",
       "      <th>price</th>\n",
       "      <th>x</th>\n",
       "      <th>y</th>\n",
       "      <th>z</th>\n",
       "    </tr>\n",
       "  </thead>\n",
       "  <tbody>\n",
       "    <tr>\n",
       "      <th>0</th>\n",
       "      <td>0.23</td>\n",
       "      <td>Ideal</td>\n",
       "      <td>E</td>\n",
       "      <td>SI2</td>\n",
       "      <td>61.5</td>\n",
       "      <td>55.0</td>\n",
       "      <td>326</td>\n",
       "      <td>3.95</td>\n",
       "      <td>3.98</td>\n",
       "      <td>2.43</td>\n",
       "    </tr>\n",
       "    <tr>\n",
       "      <th>1</th>\n",
       "      <td>0.21</td>\n",
       "      <td>Premium</td>\n",
       "      <td>E</td>\n",
       "      <td>SI1</td>\n",
       "      <td>59.8</td>\n",
       "      <td>61.0</td>\n",
       "      <td>326</td>\n",
       "      <td>3.89</td>\n",
       "      <td>3.84</td>\n",
       "      <td>2.31</td>\n",
       "    </tr>\n",
       "    <tr>\n",
       "      <th>2</th>\n",
       "      <td>0.23</td>\n",
       "      <td>Good</td>\n",
       "      <td>E</td>\n",
       "      <td>VS1</td>\n",
       "      <td>56.9</td>\n",
       "      <td>65.0</td>\n",
       "      <td>327</td>\n",
       "      <td>4.05</td>\n",
       "      <td>4.07</td>\n",
       "      <td>2.31</td>\n",
       "    </tr>\n",
       "    <tr>\n",
       "      <th>3</th>\n",
       "      <td>0.29</td>\n",
       "      <td>Premium</td>\n",
       "      <td>I</td>\n",
       "      <td>VS2</td>\n",
       "      <td>62.4</td>\n",
       "      <td>58.0</td>\n",
       "      <td>334</td>\n",
       "      <td>4.20</td>\n",
       "      <td>4.23</td>\n",
       "      <td>2.63</td>\n",
       "    </tr>\n",
       "    <tr>\n",
       "      <th>4</th>\n",
       "      <td>0.31</td>\n",
       "      <td>Good</td>\n",
       "      <td>J</td>\n",
       "      <td>SI2</td>\n",
       "      <td>63.3</td>\n",
       "      <td>58.0</td>\n",
       "      <td>335</td>\n",
       "      <td>4.34</td>\n",
       "      <td>4.35</td>\n",
       "      <td>2.75</td>\n",
       "    </tr>\n",
       "  </tbody>\n",
       "</table>\n",
       "</div>"
      ],
      "text/plain": [
       "   carat      cut color clarity  depth  table  price     x     y     z\n",
       "0   0.23    Ideal     E     SI2   61.5   55.0    326  3.95  3.98  2.43\n",
       "1   0.21  Premium     E     SI1   59.8   61.0    326  3.89  3.84  2.31\n",
       "2   0.23     Good     E     VS1   56.9   65.0    327  4.05  4.07  2.31\n",
       "3   0.29  Premium     I     VS2   62.4   58.0    334  4.20  4.23  2.63\n",
       "4   0.31     Good     J     SI2   63.3   58.0    335  4.34  4.35  2.75"
      ]
     },
     "execution_count": 11,
     "metadata": {},
     "output_type": "execute_result"
    }
   ],
   "source": [
    "df.head()"
   ]
  },
  {
   "cell_type": "markdown",
   "id": "385e6717",
   "metadata": {},
   "source": [
    "データフレームは、2次元配列の行方向と列方向にラベルがついたものと理解することができる。行方向のラベルのことを**index**、列方向のラベルのことを**columns**という。indexとcolumnsの値を指定して、要素にアクセスするには `loc` を使って次のように書く。"
   ]
  },
  {
   "cell_type": "code",
   "execution_count": 12,
   "id": "4aa0ce29",
   "metadata": {},
   "outputs": [
    {
     "data": {
      "text/plain": [
       "0.23"
      ]
     },
     "execution_count": 12,
     "metadata": {},
     "output_type": "execute_result"
    }
   ],
   "source": [
    "df.loc[0, \"carat\"]"
   ]
  },
  {
   "cell_type": "markdown",
   "id": "68ed6999",
   "metadata": {},
   "source": [
    "データフレームは2次元配列と相互に変換することができる。データフレームから2次元配列を取得するには、`values` 属性にアクセスすればよい。"
   ]
  },
  {
   "cell_type": "code",
   "execution_count": 13,
   "id": "30fc36b4",
   "metadata": {
    "scrolled": true
   },
   "outputs": [
    {
     "data": {
      "text/plain": [
       "array([[0.23, 'Ideal', 'E', ..., 3.95, 3.98, 2.43],\n",
       "       [0.21, 'Premium', 'E', ..., 3.89, 3.84, 2.31],\n",
       "       [0.23, 'Good', 'E', ..., 4.05, 4.07, 2.31],\n",
       "       ...,\n",
       "       [0.7, 'Very Good', 'D', ..., 5.66, 5.68, 3.56],\n",
       "       [0.86, 'Premium', 'H', ..., 6.15, 6.12, 3.74],\n",
       "       [0.75, 'Ideal', 'D', ..., 5.83, 5.87, 3.64]], dtype=object)"
      ]
     },
     "execution_count": 13,
     "metadata": {},
     "output_type": "execute_result"
    }
   ],
   "source": [
    "array = df.values\n",
    "array"
   ]
  },
  {
   "cell_type": "markdown",
   "id": "33c4a8b8",
   "metadata": {},
   "source": [
    "2次元配列からデータフレームを作成するには次のように書く。"
   ]
  },
  {
   "cell_type": "code",
   "execution_count": 14,
   "id": "4bbcb913",
   "metadata": {},
   "outputs": [
    {
     "data": {
      "text/html": [
       "<div>\n",
       "<style scoped>\n",
       "    .dataframe tbody tr th:only-of-type {\n",
       "        vertical-align: middle;\n",
       "    }\n",
       "\n",
       "    .dataframe tbody tr th {\n",
       "        vertical-align: top;\n",
       "    }\n",
       "\n",
       "    .dataframe thead th {\n",
       "        text-align: right;\n",
       "    }\n",
       "</style>\n",
       "<table border=\"1\" class=\"dataframe\">\n",
       "  <thead>\n",
       "    <tr style=\"text-align: right;\">\n",
       "      <th></th>\n",
       "      <th>0</th>\n",
       "      <th>1</th>\n",
       "      <th>2</th>\n",
       "      <th>3</th>\n",
       "      <th>4</th>\n",
       "      <th>5</th>\n",
       "      <th>6</th>\n",
       "      <th>7</th>\n",
       "      <th>8</th>\n",
       "      <th>9</th>\n",
       "    </tr>\n",
       "  </thead>\n",
       "  <tbody>\n",
       "    <tr>\n",
       "      <th>0</th>\n",
       "      <td>0.23</td>\n",
       "      <td>Ideal</td>\n",
       "      <td>E</td>\n",
       "      <td>SI2</td>\n",
       "      <td>61.5</td>\n",
       "      <td>55.0</td>\n",
       "      <td>326</td>\n",
       "      <td>3.95</td>\n",
       "      <td>3.98</td>\n",
       "      <td>2.43</td>\n",
       "    </tr>\n",
       "    <tr>\n",
       "      <th>1</th>\n",
       "      <td>0.21</td>\n",
       "      <td>Premium</td>\n",
       "      <td>E</td>\n",
       "      <td>SI1</td>\n",
       "      <td>59.8</td>\n",
       "      <td>61.0</td>\n",
       "      <td>326</td>\n",
       "      <td>3.89</td>\n",
       "      <td>3.84</td>\n",
       "      <td>2.31</td>\n",
       "    </tr>\n",
       "    <tr>\n",
       "      <th>2</th>\n",
       "      <td>0.23</td>\n",
       "      <td>Good</td>\n",
       "      <td>E</td>\n",
       "      <td>VS1</td>\n",
       "      <td>56.9</td>\n",
       "      <td>65.0</td>\n",
       "      <td>327</td>\n",
       "      <td>4.05</td>\n",
       "      <td>4.07</td>\n",
       "      <td>2.31</td>\n",
       "    </tr>\n",
       "    <tr>\n",
       "      <th>3</th>\n",
       "      <td>0.29</td>\n",
       "      <td>Premium</td>\n",
       "      <td>I</td>\n",
       "      <td>VS2</td>\n",
       "      <td>62.4</td>\n",
       "      <td>58.0</td>\n",
       "      <td>334</td>\n",
       "      <td>4.2</td>\n",
       "      <td>4.23</td>\n",
       "      <td>2.63</td>\n",
       "    </tr>\n",
       "    <tr>\n",
       "      <th>4</th>\n",
       "      <td>0.31</td>\n",
       "      <td>Good</td>\n",
       "      <td>J</td>\n",
       "      <td>SI2</td>\n",
       "      <td>63.3</td>\n",
       "      <td>58.0</td>\n",
       "      <td>335</td>\n",
       "      <td>4.34</td>\n",
       "      <td>4.35</td>\n",
       "      <td>2.75</td>\n",
       "    </tr>\n",
       "  </tbody>\n",
       "</table>\n",
       "</div>"
      ],
      "text/plain": [
       "      0        1  2    3     4     5    6     7     8     9\n",
       "0  0.23    Ideal  E  SI2  61.5  55.0  326  3.95  3.98  2.43\n",
       "1  0.21  Premium  E  SI1  59.8  61.0  326  3.89  3.84  2.31\n",
       "2  0.23     Good  E  VS1  56.9  65.0  327  4.05  4.07  2.31\n",
       "3  0.29  Premium  I  VS2  62.4  58.0  334   4.2  4.23  2.63\n",
       "4  0.31     Good  J  SI2  63.3  58.0  335  4.34  4.35  2.75"
      ]
     },
     "execution_count": 14,
     "metadata": {},
     "output_type": "execute_result"
    }
   ],
   "source": [
    "df2 = pd.DataFrame(array)\n",
    "df2.head()"
   ]
  },
  {
   "cell_type": "markdown",
   "id": "94446829",
   "metadata": {},
   "source": [
    "columnsのデフォルト値は0始まりの整数である。データフレームの作成時にcolumnsを設定するには、次のように書く。"
   ]
  },
  {
   "cell_type": "code",
   "execution_count": 15,
   "id": "fc8a887f",
   "metadata": {},
   "outputs": [
    {
     "data": {
      "text/html": [
       "<div>\n",
       "<style scoped>\n",
       "    .dataframe tbody tr th:only-of-type {\n",
       "        vertical-align: middle;\n",
       "    }\n",
       "\n",
       "    .dataframe tbody tr th {\n",
       "        vertical-align: top;\n",
       "    }\n",
       "\n",
       "    .dataframe thead th {\n",
       "        text-align: right;\n",
       "    }\n",
       "</style>\n",
       "<table border=\"1\" class=\"dataframe\">\n",
       "  <thead>\n",
       "    <tr style=\"text-align: right;\">\n",
       "      <th></th>\n",
       "      <th>carat</th>\n",
       "      <th>cut</th>\n",
       "      <th>color</th>\n",
       "      <th>clarity</th>\n",
       "      <th>depth</th>\n",
       "      <th>table</th>\n",
       "      <th>price</th>\n",
       "      <th>x</th>\n",
       "      <th>y</th>\n",
       "      <th>z</th>\n",
       "    </tr>\n",
       "  </thead>\n",
       "  <tbody>\n",
       "    <tr>\n",
       "      <th>0</th>\n",
       "      <td>0.23</td>\n",
       "      <td>Ideal</td>\n",
       "      <td>E</td>\n",
       "      <td>SI2</td>\n",
       "      <td>61.5</td>\n",
       "      <td>55.0</td>\n",
       "      <td>326</td>\n",
       "      <td>3.95</td>\n",
       "      <td>3.98</td>\n",
       "      <td>2.43</td>\n",
       "    </tr>\n",
       "    <tr>\n",
       "      <th>1</th>\n",
       "      <td>0.21</td>\n",
       "      <td>Premium</td>\n",
       "      <td>E</td>\n",
       "      <td>SI1</td>\n",
       "      <td>59.8</td>\n",
       "      <td>61.0</td>\n",
       "      <td>326</td>\n",
       "      <td>3.89</td>\n",
       "      <td>3.84</td>\n",
       "      <td>2.31</td>\n",
       "    </tr>\n",
       "    <tr>\n",
       "      <th>2</th>\n",
       "      <td>0.23</td>\n",
       "      <td>Good</td>\n",
       "      <td>E</td>\n",
       "      <td>VS1</td>\n",
       "      <td>56.9</td>\n",
       "      <td>65.0</td>\n",
       "      <td>327</td>\n",
       "      <td>4.05</td>\n",
       "      <td>4.07</td>\n",
       "      <td>2.31</td>\n",
       "    </tr>\n",
       "    <tr>\n",
       "      <th>3</th>\n",
       "      <td>0.29</td>\n",
       "      <td>Premium</td>\n",
       "      <td>I</td>\n",
       "      <td>VS2</td>\n",
       "      <td>62.4</td>\n",
       "      <td>58.0</td>\n",
       "      <td>334</td>\n",
       "      <td>4.2</td>\n",
       "      <td>4.23</td>\n",
       "      <td>2.63</td>\n",
       "    </tr>\n",
       "    <tr>\n",
       "      <th>4</th>\n",
       "      <td>0.31</td>\n",
       "      <td>Good</td>\n",
       "      <td>J</td>\n",
       "      <td>SI2</td>\n",
       "      <td>63.3</td>\n",
       "      <td>58.0</td>\n",
       "      <td>335</td>\n",
       "      <td>4.34</td>\n",
       "      <td>4.35</td>\n",
       "      <td>2.75</td>\n",
       "    </tr>\n",
       "  </tbody>\n",
       "</table>\n",
       "</div>"
      ],
      "text/plain": [
       "  carat      cut color clarity depth table price     x     y     z\n",
       "0  0.23    Ideal     E     SI2  61.5  55.0   326  3.95  3.98  2.43\n",
       "1  0.21  Premium     E     SI1  59.8  61.0   326  3.89  3.84  2.31\n",
       "2  0.23     Good     E     VS1  56.9  65.0   327  4.05  4.07  2.31\n",
       "3  0.29  Premium     I     VS2  62.4  58.0   334   4.2  4.23  2.63\n",
       "4  0.31     Good     J     SI2  63.3  58.0   335  4.34  4.35  2.75"
      ]
     },
     "execution_count": 15,
     "metadata": {},
     "output_type": "execute_result"
    }
   ],
   "source": [
    "df2 = pd.DataFrame(array, columns=['carat', 'cut', 'color', 'clarity', 'depth', 'table', 'price', 'x', 'y', 'z'])\n",
    "df2.head()"
   ]
  },
  {
   "cell_type": "markdown",
   "id": "9b6baff1",
   "metadata": {},
   "source": [
    "### シリーズ"
   ]
  },
  {
   "cell_type": "markdown",
   "id": "ef2d8b8b",
   "metadata": {},
   "source": [
    "データフレームは2次元配列に行ラベル・列ラベルをつけたものであった。\n",
    "pandasには、1次元配列に行ラベルをつけたデータ型も用意されており、**シリーズ**（**Series**）という。\n",
    "\n",
    "データフレームに対してcolumnsの値を `[]` で指定すると、その列のデータをシリーズとして取得できる。"
   ]
  },
  {
   "cell_type": "code",
   "execution_count": 16,
   "id": "f9dfc6d2",
   "metadata": {},
   "outputs": [
    {
     "data": {
      "text/plain": [
       "0    0.23\n",
       "1    0.21\n",
       "2    0.23\n",
       "3    0.29\n",
       "4    0.31\n",
       "Name: carat, dtype: float64"
      ]
     },
     "execution_count": 16,
     "metadata": {},
     "output_type": "execute_result"
    }
   ],
   "source": [
    "s = df[\"carat\"]\n",
    "s.head()"
   ]
  },
  {
   "cell_type": "markdown",
   "id": "41670fd1",
   "metadata": {},
   "source": [
    "indexの値を指定して、要素にアクセスするには `loc` を使って次のように書く。"
   ]
  },
  {
   "cell_type": "code",
   "execution_count": 17,
   "id": "efbdf607",
   "metadata": {},
   "outputs": [
    {
     "data": {
      "text/plain": [
       "0.23"
      ]
     },
     "execution_count": 17,
     "metadata": {},
     "output_type": "execute_result"
    }
   ],
   "source": [
    "s.loc[0]"
   ]
  },
  {
   "cell_type": "markdown",
   "id": "2c7645ce",
   "metadata": {},
   "source": [
    "シリーズは1次元配列と相互に変換することができる。シリーズから1次元配列を取得するには、`values` 属性にアクセスすればよい。"
   ]
  },
  {
   "cell_type": "code",
   "execution_count": 18,
   "id": "3418cfad",
   "metadata": {
    "scrolled": true
   },
   "outputs": [
    {
     "data": {
      "text/plain": [
       "array([0.23, 0.21, 0.23, ..., 0.7 , 0.86, 0.75])"
      ]
     },
     "execution_count": 18,
     "metadata": {},
     "output_type": "execute_result"
    }
   ],
   "source": [
    "array = s.values\n",
    "array"
   ]
  },
  {
   "cell_type": "markdown",
   "id": "aee0efee",
   "metadata": {},
   "source": [
    "1次元配列からシリーズを作成するには次のように書く。"
   ]
  },
  {
   "cell_type": "code",
   "execution_count": 19,
   "id": "baf89624",
   "metadata": {},
   "outputs": [
    {
     "data": {
      "text/plain": [
       "0    0.23\n",
       "1    0.21\n",
       "2    0.23\n",
       "3    0.29\n",
       "4    0.31\n",
       "dtype: float64"
      ]
     },
     "execution_count": 19,
     "metadata": {},
     "output_type": "execute_result"
    }
   ],
   "source": [
    "s2 = pd.Series(array)\n",
    "s2.head()"
   ]
  },
  {
   "cell_type": "markdown",
   "id": "7d31414a",
   "metadata": {},
   "source": [
    "### テーブル操作"
   ]
  },
  {
   "cell_type": "markdown",
   "id": "3304dbcc",
   "metadata": {},
   "source": [
    "データフレームを使うと、テーブルデータでよく行われる操作を簡単に実現することができる。データフレーム上でテーブルデータを加工し、加工したテーブルデータの値を配列として取得して、matplotlibなど他のライブラリに渡すというのがよくある使い方である。以下にいくつかの操作を紹介する。"
   ]
  },
  {
   "cell_type": "markdown",
   "id": "a6306cd1",
   "metadata": {},
   "source": [
    "#### ソート"
   ]
  },
  {
   "cell_type": "markdown",
   "id": "0feb459b",
   "metadata": {},
   "source": [
    "`sort_values()` メソッドにより、引数に渡した列を基準にソートすることができる。デフォルトでは昇順にソートする。ソートした結果のデータフレームが戻り値として返されるので、以下のコードではそれを変数 `df` に再代入している。"
   ]
  },
  {
   "cell_type": "code",
   "execution_count": 20,
   "id": "0dbb39ef",
   "metadata": {},
   "outputs": [
    {
     "data": {
      "text/html": [
       "<div>\n",
       "<style scoped>\n",
       "    .dataframe tbody tr th:only-of-type {\n",
       "        vertical-align: middle;\n",
       "    }\n",
       "\n",
       "    .dataframe tbody tr th {\n",
       "        vertical-align: top;\n",
       "    }\n",
       "\n",
       "    .dataframe thead th {\n",
       "        text-align: right;\n",
       "    }\n",
       "</style>\n",
       "<table border=\"1\" class=\"dataframe\">\n",
       "  <thead>\n",
       "    <tr style=\"text-align: right;\">\n",
       "      <th></th>\n",
       "      <th>carat</th>\n",
       "      <th>cut</th>\n",
       "      <th>color</th>\n",
       "      <th>clarity</th>\n",
       "      <th>depth</th>\n",
       "      <th>table</th>\n",
       "      <th>price</th>\n",
       "      <th>x</th>\n",
       "      <th>y</th>\n",
       "      <th>z</th>\n",
       "    </tr>\n",
       "  </thead>\n",
       "  <tbody>\n",
       "    <tr>\n",
       "      <th>31593</th>\n",
       "      <td>0.2</td>\n",
       "      <td>Premium</td>\n",
       "      <td>E</td>\n",
       "      <td>VS2</td>\n",
       "      <td>61.1</td>\n",
       "      <td>59.0</td>\n",
       "      <td>367</td>\n",
       "      <td>3.81</td>\n",
       "      <td>3.78</td>\n",
       "      <td>2.32</td>\n",
       "    </tr>\n",
       "    <tr>\n",
       "      <th>31597</th>\n",
       "      <td>0.2</td>\n",
       "      <td>Ideal</td>\n",
       "      <td>D</td>\n",
       "      <td>VS2</td>\n",
       "      <td>61.5</td>\n",
       "      <td>57.0</td>\n",
       "      <td>367</td>\n",
       "      <td>3.81</td>\n",
       "      <td>3.77</td>\n",
       "      <td>2.33</td>\n",
       "    </tr>\n",
       "    <tr>\n",
       "      <th>31596</th>\n",
       "      <td>0.2</td>\n",
       "      <td>Premium</td>\n",
       "      <td>F</td>\n",
       "      <td>VS2</td>\n",
       "      <td>62.6</td>\n",
       "      <td>59.0</td>\n",
       "      <td>367</td>\n",
       "      <td>3.73</td>\n",
       "      <td>3.71</td>\n",
       "      <td>2.33</td>\n",
       "    </tr>\n",
       "    <tr>\n",
       "      <th>31595</th>\n",
       "      <td>0.2</td>\n",
       "      <td>Ideal</td>\n",
       "      <td>E</td>\n",
       "      <td>VS2</td>\n",
       "      <td>59.7</td>\n",
       "      <td>55.0</td>\n",
       "      <td>367</td>\n",
       "      <td>3.86</td>\n",
       "      <td>3.84</td>\n",
       "      <td>2.30</td>\n",
       "    </tr>\n",
       "    <tr>\n",
       "      <th>31594</th>\n",
       "      <td>0.2</td>\n",
       "      <td>Premium</td>\n",
       "      <td>E</td>\n",
       "      <td>VS2</td>\n",
       "      <td>59.7</td>\n",
       "      <td>62.0</td>\n",
       "      <td>367</td>\n",
       "      <td>3.84</td>\n",
       "      <td>3.80</td>\n",
       "      <td>2.28</td>\n",
       "    </tr>\n",
       "  </tbody>\n",
       "</table>\n",
       "</div>"
      ],
      "text/plain": [
       "       carat      cut color clarity  depth  table  price     x     y     z\n",
       "31593    0.2  Premium     E     VS2   61.1   59.0    367  3.81  3.78  2.32\n",
       "31597    0.2    Ideal     D     VS2   61.5   57.0    367  3.81  3.77  2.33\n",
       "31596    0.2  Premium     F     VS2   62.6   59.0    367  3.73  3.71  2.33\n",
       "31595    0.2    Ideal     E     VS2   59.7   55.0    367  3.86  3.84  2.30\n",
       "31594    0.2  Premium     E     VS2   59.7   62.0    367  3.84  3.80  2.28"
      ]
     },
     "execution_count": 20,
     "metadata": {},
     "output_type": "execute_result"
    }
   ],
   "source": [
    "df = df.sort_values(\"carat\")\n",
    "df.head()"
   ]
  },
  {
   "cell_type": "markdown",
   "id": "7bf3e768",
   "metadata": {},
   "source": [
    "降順にソートしたい場合は、引数に `ascending=False` を指定する。"
   ]
  },
  {
   "cell_type": "code",
   "execution_count": 21,
   "id": "7bcd7767",
   "metadata": {},
   "outputs": [
    {
     "data": {
      "text/html": [
       "<div>\n",
       "<style scoped>\n",
       "    .dataframe tbody tr th:only-of-type {\n",
       "        vertical-align: middle;\n",
       "    }\n",
       "\n",
       "    .dataframe tbody tr th {\n",
       "        vertical-align: top;\n",
       "    }\n",
       "\n",
       "    .dataframe thead th {\n",
       "        text-align: right;\n",
       "    }\n",
       "</style>\n",
       "<table border=\"1\" class=\"dataframe\">\n",
       "  <thead>\n",
       "    <tr style=\"text-align: right;\">\n",
       "      <th></th>\n",
       "      <th>carat</th>\n",
       "      <th>cut</th>\n",
       "      <th>color</th>\n",
       "      <th>clarity</th>\n",
       "      <th>depth</th>\n",
       "      <th>table</th>\n",
       "      <th>price</th>\n",
       "      <th>x</th>\n",
       "      <th>y</th>\n",
       "      <th>z</th>\n",
       "    </tr>\n",
       "  </thead>\n",
       "  <tbody>\n",
       "    <tr>\n",
       "      <th>27415</th>\n",
       "      <td>5.01</td>\n",
       "      <td>Fair</td>\n",
       "      <td>J</td>\n",
       "      <td>I1</td>\n",
       "      <td>65.5</td>\n",
       "      <td>59.0</td>\n",
       "      <td>18018</td>\n",
       "      <td>10.74</td>\n",
       "      <td>10.54</td>\n",
       "      <td>6.98</td>\n",
       "    </tr>\n",
       "    <tr>\n",
       "      <th>27630</th>\n",
       "      <td>4.50</td>\n",
       "      <td>Fair</td>\n",
       "      <td>J</td>\n",
       "      <td>I1</td>\n",
       "      <td>65.8</td>\n",
       "      <td>58.0</td>\n",
       "      <td>18531</td>\n",
       "      <td>10.23</td>\n",
       "      <td>10.16</td>\n",
       "      <td>6.72</td>\n",
       "    </tr>\n",
       "    <tr>\n",
       "      <th>27130</th>\n",
       "      <td>4.13</td>\n",
       "      <td>Fair</td>\n",
       "      <td>H</td>\n",
       "      <td>I1</td>\n",
       "      <td>64.8</td>\n",
       "      <td>61.0</td>\n",
       "      <td>17329</td>\n",
       "      <td>10.00</td>\n",
       "      <td>9.85</td>\n",
       "      <td>6.43</td>\n",
       "    </tr>\n",
       "    <tr>\n",
       "      <th>25998</th>\n",
       "      <td>4.01</td>\n",
       "      <td>Premium</td>\n",
       "      <td>I</td>\n",
       "      <td>I1</td>\n",
       "      <td>61.0</td>\n",
       "      <td>61.0</td>\n",
       "      <td>15223</td>\n",
       "      <td>10.14</td>\n",
       "      <td>10.10</td>\n",
       "      <td>6.17</td>\n",
       "    </tr>\n",
       "    <tr>\n",
       "      <th>25999</th>\n",
       "      <td>4.01</td>\n",
       "      <td>Premium</td>\n",
       "      <td>J</td>\n",
       "      <td>I1</td>\n",
       "      <td>62.5</td>\n",
       "      <td>62.0</td>\n",
       "      <td>15223</td>\n",
       "      <td>10.02</td>\n",
       "      <td>9.94</td>\n",
       "      <td>6.24</td>\n",
       "    </tr>\n",
       "  </tbody>\n",
       "</table>\n",
       "</div>"
      ],
      "text/plain": [
       "       carat      cut color clarity  depth  table  price      x      y     z\n",
       "27415   5.01     Fair     J      I1   65.5   59.0  18018  10.74  10.54  6.98\n",
       "27630   4.50     Fair     J      I1   65.8   58.0  18531  10.23  10.16  6.72\n",
       "27130   4.13     Fair     H      I1   64.8   61.0  17329  10.00   9.85  6.43\n",
       "25998   4.01  Premium     I      I1   61.0   61.0  15223  10.14  10.10  6.17\n",
       "25999   4.01  Premium     J      I1   62.5   62.0  15223  10.02   9.94  6.24"
      ]
     },
     "execution_count": 21,
     "metadata": {},
     "output_type": "execute_result"
    }
   ],
   "source": [
    "df = df.sort_values(\"carat\", ascending=False)\n",
    "df.head()"
   ]
  },
  {
   "cell_type": "markdown",
   "id": "6a446654",
   "metadata": {},
   "source": [
    "#### フィルタリング"
   ]
  },
  {
   "cell_type": "markdown",
   "id": "05ff14c0",
   "metadata": {},
   "source": [
    "テーブルデータの中から特定の条件を満たす行を抽出することを**フィルタリング**という。\n",
    "\n",
    "フィルタリングを行うには、どのindexの行を抽出するかをブール型で表したシリーズを `loc` で指定する。\n",
    "例えば、`cut` の種類が `Premium` の行を抽出したいとしよう。\n",
    "このとき `cut` の種類が `Premium` かどうかを表すシリーズを次のように作成できる。"
   ]
  },
  {
   "cell_type": "code",
   "execution_count": 22,
   "id": "167ba03c",
   "metadata": {},
   "outputs": [
    {
     "data": {
      "text/plain": [
       "27415    False\n",
       "27630    False\n",
       "27130    False\n",
       "25998     True\n",
       "25999     True\n",
       "         ...  \n",
       "31601     True\n",
       "31598    False\n",
       "14        True\n",
       "31599    False\n",
       "31593     True\n",
       "Name: cut, Length: 53940, dtype: bool"
      ]
     },
     "execution_count": 22,
     "metadata": {},
     "output_type": "execute_result"
    }
   ],
   "source": [
    "df['cut'] == 'Premium'"
   ]
  },
  {
   "cell_type": "markdown",
   "id": "32afa658",
   "metadata": {},
   "source": [
    "このシリーズを `loc`で指定することで、データフレームから `cut` の種類が `Premium` の行のみ抽出することができる。"
   ]
  },
  {
   "cell_type": "code",
   "execution_count": 23,
   "id": "08946138",
   "metadata": {},
   "outputs": [
    {
     "data": {
      "text/html": [
       "<div>\n",
       "<style scoped>\n",
       "    .dataframe tbody tr th:only-of-type {\n",
       "        vertical-align: middle;\n",
       "    }\n",
       "\n",
       "    .dataframe tbody tr th {\n",
       "        vertical-align: top;\n",
       "    }\n",
       "\n",
       "    .dataframe thead th {\n",
       "        text-align: right;\n",
       "    }\n",
       "</style>\n",
       "<table border=\"1\" class=\"dataframe\">\n",
       "  <thead>\n",
       "    <tr style=\"text-align: right;\">\n",
       "      <th></th>\n",
       "      <th>carat</th>\n",
       "      <th>cut</th>\n",
       "      <th>color</th>\n",
       "      <th>clarity</th>\n",
       "      <th>depth</th>\n",
       "      <th>table</th>\n",
       "      <th>price</th>\n",
       "      <th>x</th>\n",
       "      <th>y</th>\n",
       "      <th>z</th>\n",
       "    </tr>\n",
       "  </thead>\n",
       "  <tbody>\n",
       "    <tr>\n",
       "      <th>25998</th>\n",
       "      <td>4.01</td>\n",
       "      <td>Premium</td>\n",
       "      <td>I</td>\n",
       "      <td>I1</td>\n",
       "      <td>61.0</td>\n",
       "      <td>61.0</td>\n",
       "      <td>15223</td>\n",
       "      <td>10.14</td>\n",
       "      <td>10.10</td>\n",
       "      <td>6.17</td>\n",
       "    </tr>\n",
       "    <tr>\n",
       "      <th>25999</th>\n",
       "      <td>4.01</td>\n",
       "      <td>Premium</td>\n",
       "      <td>J</td>\n",
       "      <td>I1</td>\n",
       "      <td>62.5</td>\n",
       "      <td>62.0</td>\n",
       "      <td>15223</td>\n",
       "      <td>10.02</td>\n",
       "      <td>9.94</td>\n",
       "      <td>6.24</td>\n",
       "    </tr>\n",
       "    <tr>\n",
       "      <th>26534</th>\n",
       "      <td>3.67</td>\n",
       "      <td>Premium</td>\n",
       "      <td>I</td>\n",
       "      <td>I1</td>\n",
       "      <td>62.4</td>\n",
       "      <td>56.0</td>\n",
       "      <td>16193</td>\n",
       "      <td>9.86</td>\n",
       "      <td>9.81</td>\n",
       "      <td>6.13</td>\n",
       "    </tr>\n",
       "    <tr>\n",
       "      <th>27679</th>\n",
       "      <td>3.51</td>\n",
       "      <td>Premium</td>\n",
       "      <td>J</td>\n",
       "      <td>VS2</td>\n",
       "      <td>62.5</td>\n",
       "      <td>59.0</td>\n",
       "      <td>18701</td>\n",
       "      <td>9.66</td>\n",
       "      <td>9.63</td>\n",
       "      <td>6.03</td>\n",
       "    </tr>\n",
       "    <tr>\n",
       "      <th>24131</th>\n",
       "      <td>3.24</td>\n",
       "      <td>Premium</td>\n",
       "      <td>H</td>\n",
       "      <td>I1</td>\n",
       "      <td>62.1</td>\n",
       "      <td>58.0</td>\n",
       "      <td>12300</td>\n",
       "      <td>9.44</td>\n",
       "      <td>9.40</td>\n",
       "      <td>5.85</td>\n",
       "    </tr>\n",
       "  </tbody>\n",
       "</table>\n",
       "</div>"
      ],
      "text/plain": [
       "       carat      cut color clarity  depth  table  price      x      y     z\n",
       "25998   4.01  Premium     I      I1   61.0   61.0  15223  10.14  10.10  6.17\n",
       "25999   4.01  Premium     J      I1   62.5   62.0  15223  10.02   9.94  6.24\n",
       "26534   3.67  Premium     I      I1   62.4   56.0  16193   9.86   9.81  6.13\n",
       "27679   3.51  Premium     J     VS2   62.5   59.0  18701   9.66   9.63  6.03\n",
       "24131   3.24  Premium     H      I1   62.1   58.0  12300   9.44   9.40  5.85"
      ]
     },
     "execution_count": 23,
     "metadata": {},
     "output_type": "execute_result"
    }
   ],
   "source": [
    "df_premium = df.loc[df['cut'] == 'Premium']\n",
    "df_premium.head()"
   ]
  },
  {
   "cell_type": "markdown",
   "id": "472ecaff",
   "metadata": {},
   "source": [
    "#### 列の演算"
   ]
  },
  {
   "cell_type": "markdown",
   "id": "279e6091",
   "metadata": {},
   "source": [
    "シリーズは、配列と同様に各種演算を行うことができる。またデータフレームの列の追加や更新は代入文により行うことができる。\n",
    "例えば、`x`、`y`、`z` の総和を求めて、その結果を `sum` という列として保持するには、以下のように書く。"
   ]
  },
  {
   "cell_type": "code",
   "execution_count": 24,
   "id": "4032fdc1",
   "metadata": {},
   "outputs": [
    {
     "data": {
      "text/html": [
       "<div>\n",
       "<style scoped>\n",
       "    .dataframe tbody tr th:only-of-type {\n",
       "        vertical-align: middle;\n",
       "    }\n",
       "\n",
       "    .dataframe tbody tr th {\n",
       "        vertical-align: top;\n",
       "    }\n",
       "\n",
       "    .dataframe thead th {\n",
       "        text-align: right;\n",
       "    }\n",
       "</style>\n",
       "<table border=\"1\" class=\"dataframe\">\n",
       "  <thead>\n",
       "    <tr style=\"text-align: right;\">\n",
       "      <th></th>\n",
       "      <th>carat</th>\n",
       "      <th>cut</th>\n",
       "      <th>color</th>\n",
       "      <th>clarity</th>\n",
       "      <th>depth</th>\n",
       "      <th>table</th>\n",
       "      <th>price</th>\n",
       "      <th>x</th>\n",
       "      <th>y</th>\n",
       "      <th>z</th>\n",
       "      <th>sum</th>\n",
       "    </tr>\n",
       "  </thead>\n",
       "  <tbody>\n",
       "    <tr>\n",
       "      <th>27415</th>\n",
       "      <td>5.01</td>\n",
       "      <td>Fair</td>\n",
       "      <td>J</td>\n",
       "      <td>I1</td>\n",
       "      <td>65.5</td>\n",
       "      <td>59.0</td>\n",
       "      <td>18018</td>\n",
       "      <td>10.74</td>\n",
       "      <td>10.54</td>\n",
       "      <td>6.98</td>\n",
       "      <td>28.26</td>\n",
       "    </tr>\n",
       "    <tr>\n",
       "      <th>27630</th>\n",
       "      <td>4.50</td>\n",
       "      <td>Fair</td>\n",
       "      <td>J</td>\n",
       "      <td>I1</td>\n",
       "      <td>65.8</td>\n",
       "      <td>58.0</td>\n",
       "      <td>18531</td>\n",
       "      <td>10.23</td>\n",
       "      <td>10.16</td>\n",
       "      <td>6.72</td>\n",
       "      <td>27.11</td>\n",
       "    </tr>\n",
       "    <tr>\n",
       "      <th>27130</th>\n",
       "      <td>4.13</td>\n",
       "      <td>Fair</td>\n",
       "      <td>H</td>\n",
       "      <td>I1</td>\n",
       "      <td>64.8</td>\n",
       "      <td>61.0</td>\n",
       "      <td>17329</td>\n",
       "      <td>10.00</td>\n",
       "      <td>9.85</td>\n",
       "      <td>6.43</td>\n",
       "      <td>26.28</td>\n",
       "    </tr>\n",
       "    <tr>\n",
       "      <th>25998</th>\n",
       "      <td>4.01</td>\n",
       "      <td>Premium</td>\n",
       "      <td>I</td>\n",
       "      <td>I1</td>\n",
       "      <td>61.0</td>\n",
       "      <td>61.0</td>\n",
       "      <td>15223</td>\n",
       "      <td>10.14</td>\n",
       "      <td>10.10</td>\n",
       "      <td>6.17</td>\n",
       "      <td>26.41</td>\n",
       "    </tr>\n",
       "    <tr>\n",
       "      <th>25999</th>\n",
       "      <td>4.01</td>\n",
       "      <td>Premium</td>\n",
       "      <td>J</td>\n",
       "      <td>I1</td>\n",
       "      <td>62.5</td>\n",
       "      <td>62.0</td>\n",
       "      <td>15223</td>\n",
       "      <td>10.02</td>\n",
       "      <td>9.94</td>\n",
       "      <td>6.24</td>\n",
       "      <td>26.20</td>\n",
       "    </tr>\n",
       "  </tbody>\n",
       "</table>\n",
       "</div>"
      ],
      "text/plain": [
       "       carat      cut color clarity  depth  table  price      x      y     z  \\\n",
       "27415   5.01     Fair     J      I1   65.5   59.0  18018  10.74  10.54  6.98   \n",
       "27630   4.50     Fair     J      I1   65.8   58.0  18531  10.23  10.16  6.72   \n",
       "27130   4.13     Fair     H      I1   64.8   61.0  17329  10.00   9.85  6.43   \n",
       "25998   4.01  Premium     I      I1   61.0   61.0  15223  10.14  10.10  6.17   \n",
       "25999   4.01  Premium     J      I1   62.5   62.0  15223  10.02   9.94  6.24   \n",
       "\n",
       "         sum  \n",
       "27415  28.26  \n",
       "27630  27.11  \n",
       "27130  26.28  \n",
       "25998  26.41  \n",
       "25999  26.20  "
      ]
     },
     "execution_count": 24,
     "metadata": {},
     "output_type": "execute_result"
    }
   ],
   "source": [
    "df['sum'] = df['x'] + df['y'] + df['z']\n",
    "df.head()"
   ]
  },
  {
   "cell_type": "markdown",
   "id": "cc6bc739",
   "metadata": {},
   "source": [
    "例えば、`price` の対数を計算して `price_log` という列として保持するには、以下のように書く。\n",
    "このようにデータが数値の列に対して、NumPyの関数を適用することも可能である。"
   ]
  },
  {
   "cell_type": "code",
   "execution_count": 25,
   "id": "56974464",
   "metadata": {},
   "outputs": [
    {
     "data": {
      "text/html": [
       "<div>\n",
       "<style scoped>\n",
       "    .dataframe tbody tr th:only-of-type {\n",
       "        vertical-align: middle;\n",
       "    }\n",
       "\n",
       "    .dataframe tbody tr th {\n",
       "        vertical-align: top;\n",
       "    }\n",
       "\n",
       "    .dataframe thead th {\n",
       "        text-align: right;\n",
       "    }\n",
       "</style>\n",
       "<table border=\"1\" class=\"dataframe\">\n",
       "  <thead>\n",
       "    <tr style=\"text-align: right;\">\n",
       "      <th></th>\n",
       "      <th>carat</th>\n",
       "      <th>cut</th>\n",
       "      <th>color</th>\n",
       "      <th>clarity</th>\n",
       "      <th>depth</th>\n",
       "      <th>table</th>\n",
       "      <th>price</th>\n",
       "      <th>x</th>\n",
       "      <th>y</th>\n",
       "      <th>z</th>\n",
       "      <th>sum</th>\n",
       "      <th>price_log</th>\n",
       "    </tr>\n",
       "  </thead>\n",
       "  <tbody>\n",
       "    <tr>\n",
       "      <th>27415</th>\n",
       "      <td>5.01</td>\n",
       "      <td>Fair</td>\n",
       "      <td>J</td>\n",
       "      <td>I1</td>\n",
       "      <td>65.5</td>\n",
       "      <td>59.0</td>\n",
       "      <td>18018</td>\n",
       "      <td>10.74</td>\n",
       "      <td>10.54</td>\n",
       "      <td>6.98</td>\n",
       "      <td>28.26</td>\n",
       "      <td>9.799127</td>\n",
       "    </tr>\n",
       "    <tr>\n",
       "      <th>27630</th>\n",
       "      <td>4.50</td>\n",
       "      <td>Fair</td>\n",
       "      <td>J</td>\n",
       "      <td>I1</td>\n",
       "      <td>65.8</td>\n",
       "      <td>58.0</td>\n",
       "      <td>18531</td>\n",
       "      <td>10.23</td>\n",
       "      <td>10.16</td>\n",
       "      <td>6.72</td>\n",
       "      <td>27.11</td>\n",
       "      <td>9.827200</td>\n",
       "    </tr>\n",
       "    <tr>\n",
       "      <th>27130</th>\n",
       "      <td>4.13</td>\n",
       "      <td>Fair</td>\n",
       "      <td>H</td>\n",
       "      <td>I1</td>\n",
       "      <td>64.8</td>\n",
       "      <td>61.0</td>\n",
       "      <td>17329</td>\n",
       "      <td>10.00</td>\n",
       "      <td>9.85</td>\n",
       "      <td>6.43</td>\n",
       "      <td>26.28</td>\n",
       "      <td>9.760137</td>\n",
       "    </tr>\n",
       "    <tr>\n",
       "      <th>25998</th>\n",
       "      <td>4.01</td>\n",
       "      <td>Premium</td>\n",
       "      <td>I</td>\n",
       "      <td>I1</td>\n",
       "      <td>61.0</td>\n",
       "      <td>61.0</td>\n",
       "      <td>15223</td>\n",
       "      <td>10.14</td>\n",
       "      <td>10.10</td>\n",
       "      <td>6.17</td>\n",
       "      <td>26.41</td>\n",
       "      <td>9.630563</td>\n",
       "    </tr>\n",
       "    <tr>\n",
       "      <th>25999</th>\n",
       "      <td>4.01</td>\n",
       "      <td>Premium</td>\n",
       "      <td>J</td>\n",
       "      <td>I1</td>\n",
       "      <td>62.5</td>\n",
       "      <td>62.0</td>\n",
       "      <td>15223</td>\n",
       "      <td>10.02</td>\n",
       "      <td>9.94</td>\n",
       "      <td>6.24</td>\n",
       "      <td>26.20</td>\n",
       "      <td>9.630563</td>\n",
       "    </tr>\n",
       "  </tbody>\n",
       "</table>\n",
       "</div>"
      ],
      "text/plain": [
       "       carat      cut color clarity  depth  table  price      x      y     z  \\\n",
       "27415   5.01     Fair     J      I1   65.5   59.0  18018  10.74  10.54  6.98   \n",
       "27630   4.50     Fair     J      I1   65.8   58.0  18531  10.23  10.16  6.72   \n",
       "27130   4.13     Fair     H      I1   64.8   61.0  17329  10.00   9.85  6.43   \n",
       "25998   4.01  Premium     I      I1   61.0   61.0  15223  10.14  10.10  6.17   \n",
       "25999   4.01  Premium     J      I1   62.5   62.0  15223  10.02   9.94  6.24   \n",
       "\n",
       "         sum  price_log  \n",
       "27415  28.26   9.799127  \n",
       "27630  27.11   9.827200  \n",
       "27130  26.28   9.760137  \n",
       "25998  26.41   9.630563  \n",
       "25999  26.20   9.630563  "
      ]
     },
     "execution_count": 25,
     "metadata": {},
     "output_type": "execute_result"
    }
   ],
   "source": [
    "df['price_log'] = np.log(df['price'])\n",
    "df.head()"
   ]
  },
  {
   "cell_type": "markdown",
   "id": "2fb00564",
   "metadata": {},
   "source": [
    "**練習2**  \n",
    "`diamonds` データセットにおいて全データの価格の平均は `np.mean(df[\"price\"].values)` 、カラットの平均は `np.mean(df[\"carat\"].values)` により求めることができる。フィルタリングを行うことにより、カット `\"cut\"` の種類が `\"Ideal\"` のデータにおける価格の平均、カラットの平均を求めなさい。`\"Ideal\"` はカットの種類の中では一番良いカテゴリだが、価格の平均が全データでの平均より小さくなるのはなぜだろうか。"
   ]
  },
  {
   "cell_type": "code",
   "execution_count": null,
   "id": "e4c32df8",
   "metadata": {},
   "outputs": [],
   "source": []
  },
  {
   "cell_type": "markdown",
   "id": "29d55afe",
   "metadata": {},
   "source": [
    "**練習3**  \n",
    "`diamonds` データセットにおいて価格上位5件、下位5件のデータを表示しなさい。"
   ]
  },
  {
   "cell_type": "code",
   "execution_count": null,
   "id": "af198c18",
   "metadata": {},
   "outputs": [],
   "source": []
  },
  {
   "cell_type": "markdown",
   "id": "37ba9d77",
   "metadata": {},
   "source": [
    "## 演習"
   ]
  },
  {
   "cell_type": "markdown",
   "id": "9967dcac",
   "metadata": {},
   "source": [
    "**課題**  \n",
    "`diamonds` データセットにおいて `\"carat\"` と `\"price\"` の関係を散布図として可視化しなさい。`\"carat\"` の値を横軸、`\"price\"` の値を縦軸にとり、横軸には `\"カラット\"`、縦軸には `\"価格\"` という軸ラベルをつけなさい。"
   ]
  },
  {
   "cell_type": "code",
   "execution_count": null,
   "id": "829a5cd5",
   "metadata": {},
   "outputs": [],
   "source": [
    "# プロットの入れ物の用意\n",
    "fig, ax = plt.subplots(figsize=(5, 4))\n",
    "\n",
    "# データの用意\n",
    "x = df[\"carat\"].values\n",
    "y = df[\"price\"].values\n",
    "\n",
    "# ここに適切なコードを書く\n",
    "\n",
    "\n",
    "# ファイルとして保存\n",
    "plt.tight_layout()\n",
    "plt.savefig(\"課題1.png\") "
   ]
  },
  {
   "cell_type": "markdown",
   "id": "773924e0",
   "metadata": {},
   "source": [
    "プロットしたら以下のコードを実行することにより、画像をダウンロードできる。これを提出しなさい。"
   ]
  },
  {
   "cell_type": "code",
   "execution_count": null,
   "id": "b0e47861",
   "metadata": {},
   "outputs": [],
   "source": [
    "from google.colab import files\n",
    "files.download(\"課題1.png\")"
   ]
  },
  {
   "cell_type": "markdown",
   "id": "703de060",
   "metadata": {},
   "source": [
    "追記： 課題に取り組む上での注意点  \n",
    "- 最初から一通りのセルを実行していないと、上のコードを実行する準備が整わないことがあるので気を付ける。よくわからないエラーが出る場合は、ノートブック最初の2つのセル、pandas入門という節の最初のセルを改めて実行してから取り組むこと。\n",
    "- ファイルとして保存する場合は、`plt.show()` は実行しない。これを実行してしまうと白紙の画像ファイルがダウンロードされる。"
   ]
  }
 ],
 "metadata": {
  "kernelspec": {
   "display_name": "Python 3 (ipykernel)",
   "language": "python",
   "name": "python3"
  },
  "language_info": {
   "codemirror_mode": {
    "name": "ipython",
    "version": 3
   },
   "file_extension": ".py",
   "mimetype": "text/x-python",
   "name": "python",
   "nbconvert_exporter": "python",
   "pygments_lexer": "ipython3",
   "version": "3.12.1"
  },
  "vscode": {
   "interpreter": {
    "hash": "aee8b7b246df8f9039afb4144a1f6fd8d2ca17a180786b69acc140d282b71a49"
   }
  }
 },
 "nbformat": 4,
 "nbformat_minor": 5
}
